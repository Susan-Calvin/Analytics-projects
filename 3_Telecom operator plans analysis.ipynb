{
 "cells": [
  {
   "cell_type": "markdown",
   "id": "4e39d8d2",
   "metadata": {},
   "source": [
    "# 1. General information"
   ]
  },
  {
   "cell_type": "markdown",
   "id": "19cf502f",
   "metadata": {},
   "source": [
    "This project is prepared by an analyst working for the telecom operator Megaline. The company offers its clients two prepaid plans, Surf and Ultimate. The commercial department wants to know which of the plans brings in more revenue in order to adjust the advertising budget.\n",
    "We are going to carry out a preliminary analysis of the plans based on a relatively small client selection. We'll have the data on 500 Megaline clients: who the clients are, where they're from, which plan they use, and the number of calls they made and text messages they sent in 2018. Our job is to analyze clients' behavior and determine which prepaid plan brings in more revenue."
   ]
  },
  {
   "cell_type": "markdown",
   "id": "8625b93d",
   "metadata": {},
   "source": [
    "**The main goal of this analysis is to determine which of the selected plans - Surf or Ultimate is bringing more revenue.**"
   ]
  },
  {
   "cell_type": "code",
   "execution_count": 1,
   "id": "d1fbe6b5",
   "metadata": {},
   "outputs": [],
   "source": [
    "# Importing all libraries\n",
    "import pandas as pd\n",
    "import datetime\n",
    "import numpy as np\n",
    "from IPython.core.interactiveshell import InteractiveShell\n",
    "InteractiveShell.ast_node_interactivity = 'all'\n",
    "from functools import reduce\n",
    "import matplotlib.pyplot as plt\n",
    "from scipy import stats as st\n",
    "import seaborn as sns\n",
    "import random\n",
    "import math"
   ]
  },
  {
   "cell_type": "code",
   "execution_count": 2,
   "id": "90fd96cc",
   "metadata": {},
   "outputs": [],
   "source": [
    "# Loading dataframes\n",
    "\n",
    "try:\n",
    "    users = pd.read_csv(\"C:\\\\Users\\\\R\\\\OneDrive\\\\Рабочий стол\\\\Lucy\\\\megaline_users.csv\")\n",
    "    plans = pd.read_csv(\"C:\\\\Users\\\\R\\\\OneDrive\\\\Рабочий стол\\\\Lucy\\\\megaline_plans.csv\")\n",
    "    messages = pd.read_csv(\"C:\\\\Users\\\\R\\\\OneDrive\\\\Рабочий стол\\\\Lucy\\\\megaline_messages.csv\")\n",
    "    internet = pd.read_csv(\"C:\\\\Users\\\\R\\\\OneDrive\\\\Рабочий стол\\\\Lucy\\\\megaline_internet.csv\")\n",
    "    calls = pd.read_csv(\"C:\\\\Users\\\\R\\\\OneDrive\\\\Рабочий стол\\\\Lucy\\\\megaline_calls.csv\")\n",
    "except:\n",
    "    calls = pd.read_csv(\"/datasets/megaline_calls.csv\")\n",
    "    internet = pd.read_csv(\"/datasets/megaline_internet.csv\")\n",
    "    messages = pd.read_csv(\"/datasets/megaline_messages.csv\")\n",
    "    plans = pd.read_csv(\"/datasets/megaline_plans.csv\")\n",
    "    users = pd.read_csv(\"/datasets/megaline_users.csv\")"
   ]
  },
  {
   "cell_type": "markdown",
   "id": "6bf572e1",
   "metadata": {},
   "source": [
    "Since we have several dataframes we will create a list of them so we can automate a little bit our process."
   ]
  },
  {
   "cell_type": "code",
   "execution_count": 3,
   "id": "0067e6b1",
   "metadata": {},
   "outputs": [],
   "source": [
    "# Creating a list of dataframes to loop through\n",
    "list_of_sets = [users, plans, messages, internet, calls]\n",
    "list_of_names = ['Megaline users', 'Surf and Ultimate plans', 'Messages', 'Internet', 'Calls']"
   ]
  },
  {
   "cell_type": "code",
   "execution_count": 4,
   "id": "50809340",
   "metadata": {},
   "outputs": [
    {
     "name": "stdout",
     "output_type": "stream",
     "text": [
      "\n",
      "Information on Megaline users\n",
      "\n",
      "<class 'pandas.core.frame.DataFrame'>\n",
      "RangeIndex: 500 entries, 0 to 499\n",
      "Data columns (total 8 columns):\n",
      "user_id       500 non-null int64\n",
      "first_name    500 non-null object\n",
      "last_name     500 non-null object\n",
      "age           500 non-null int64\n",
      "city          500 non-null object\n",
      "reg_date      500 non-null object\n",
      "plan          500 non-null object\n",
      "churn_date    34 non-null object\n",
      "dtypes: int64(2), object(6)\n",
      "memory usage: 31.4+ KB\n",
      "None\n",
      "\n",
      "   user_id first_name  last_name  age                                   city  \\\n",
      "0     1000   Anamaria      Bauer   45  Atlanta-Sandy Springs-Roswell, GA MSA   \n",
      "1     1001     Mickey  Wilkerson   28        Seattle-Tacoma-Bellevue, WA MSA   \n",
      "2     1002     Carlee    Hoffman   36   Las Vegas-Henderson-Paradise, NV MSA   \n",
      "3     1003   Reynaldo    Jenkins   52                          Tulsa, OK MSA   \n",
      "4     1004    Leonila   Thompson   40        Seattle-Tacoma-Bellevue, WA MSA   \n",
      "\n",
      "     reg_date      plan churn_date  \n",
      "0  2018-12-24  ultimate        NaN  \n",
      "1  2018-08-13      surf        NaN  \n",
      "2  2018-10-21      surf        NaN  \n",
      "3  2018-01-28      surf        NaN  \n",
      "4  2018-05-23      surf        NaN  \n",
      "\n",
      "(500, 8)\n",
      "------------------------------------------------------------\n",
      "\n",
      "Information on Surf and Ultimate plans\n",
      "\n",
      "<class 'pandas.core.frame.DataFrame'>\n",
      "RangeIndex: 2 entries, 0 to 1\n",
      "Data columns (total 8 columns):\n",
      "messages_included        2 non-null int64\n",
      "mb_per_month_included    2 non-null int64\n",
      "minutes_included         2 non-null int64\n",
      "usd_monthly_pay          2 non-null int64\n",
      "usd_per_gb               2 non-null int64\n",
      "usd_per_message          2 non-null float64\n",
      "usd_per_minute           2 non-null float64\n",
      "plan_name                2 non-null object\n",
      "dtypes: float64(2), int64(5), object(1)\n",
      "memory usage: 256.0+ bytes\n",
      "None\n",
      "\n",
      "   messages_included  mb_per_month_included  minutes_included  \\\n",
      "0                 50                  15360               500   \n",
      "1               1000                  30720              3000   \n",
      "\n",
      "   usd_monthly_pay  usd_per_gb  usd_per_message  usd_per_minute plan_name  \n",
      "0               20          10             0.03            0.03      surf  \n",
      "1               70           7             0.01            0.01  ultimate  \n",
      "\n",
      "(2, 8)\n",
      "------------------------------------------------------------\n",
      "\n",
      "Information on Messages\n",
      "\n",
      "<class 'pandas.core.frame.DataFrame'>\n",
      "RangeIndex: 76051 entries, 0 to 76050\n",
      "Data columns (total 3 columns):\n",
      "id              76051 non-null object\n",
      "user_id         76051 non-null int64\n",
      "message_date    76051 non-null object\n",
      "dtypes: int64(1), object(2)\n",
      "memory usage: 1.7+ MB\n",
      "None\n",
      "\n",
      "         id  user_id message_date\n",
      "0  1000_125     1000   2018-12-27\n",
      "1  1000_160     1000   2018-12-31\n",
      "2  1000_223     1000   2018-12-31\n",
      "3  1000_251     1000   2018-12-27\n",
      "4  1000_255     1000   2018-12-26\n",
      "\n",
      "(76051, 3)\n",
      "------------------------------------------------------------\n",
      "\n",
      "Information on Internet\n",
      "\n",
      "<class 'pandas.core.frame.DataFrame'>\n",
      "RangeIndex: 104825 entries, 0 to 104824\n",
      "Data columns (total 4 columns):\n",
      "id              104825 non-null object\n",
      "user_id         104825 non-null int64\n",
      "session_date    104825 non-null object\n",
      "mb_used         104825 non-null float64\n",
      "dtypes: float64(1), int64(1), object(2)\n",
      "memory usage: 3.2+ MB\n",
      "None\n",
      "\n",
      "         id  user_id session_date  mb_used\n",
      "0   1000_13     1000   2018-12-29    89.86\n",
      "1  1000_204     1000   2018-12-31     0.00\n",
      "2  1000_379     1000   2018-12-28   660.40\n",
      "3  1000_413     1000   2018-12-26   270.99\n",
      "4  1000_442     1000   2018-12-27   880.22\n",
      "\n",
      "(104825, 4)\n",
      "------------------------------------------------------------\n",
      "\n",
      "Information on Calls\n",
      "\n",
      "<class 'pandas.core.frame.DataFrame'>\n",
      "RangeIndex: 137735 entries, 0 to 137734\n",
      "Data columns (total 4 columns):\n",
      "id           137735 non-null object\n",
      "user_id      137735 non-null int64\n",
      "call_date    137735 non-null object\n",
      "duration     137735 non-null float64\n",
      "dtypes: float64(1), int64(1), object(2)\n",
      "memory usage: 4.2+ MB\n",
      "None\n",
      "\n",
      "         id  user_id   call_date  duration\n",
      "0   1000_93     1000  2018-12-27      8.52\n",
      "1  1000_145     1000  2018-12-27     13.66\n",
      "2  1000_247     1000  2018-12-27     14.48\n",
      "3  1000_309     1000  2018-12-28      5.76\n",
      "4  1000_380     1000  2018-12-30      4.22\n",
      "\n",
      "(137735, 4)\n",
      "------------------------------------------------------------\n"
     ]
    }
   ],
   "source": [
    "# Getting general information about the dataframes - info(), head(), shape()\n",
    "for i, j in zip(list_of_names, list_of_sets):\n",
    "    print()\n",
    "    print('Information on', i)\n",
    "    print()\n",
    "    print(j.info())\n",
    "    print()\n",
    "    print(j.head())\n",
    "    print()\n",
    "    print(j.shape)\n",
    "    print(\"-\" * 60)"
   ]
  },
  {
   "cell_type": "markdown",
   "id": "db77f343",
   "metadata": {},
   "source": [
    "We have 5 dataframes: users, plans, messages, internet, calls. Lets describe each:\n",
    "1. The `users` table (data on users):\n",
    "* user_id — unique user identifier\n",
    "* first_name — user's name\n",
    "* last_name — user's last name\n",
    "* age — user's age (years)\n",
    "* reg_date — subscription date (dd, mm, yy) - the info() shows that this data represented as object, we will need to fix this with pd.to_datetime to a proper date format\n",
    "* churn_date — the date the user stopped using the service (if the value is missing, the calling plan was being used when this data was retrieved)\n",
    "* city — user's city of residence\n",
    "* plan — calling plan name\n",
    "\n",
    "1. The `calls` table (data on calls):\n",
    "* id — unique call identifier\n",
    "* call_date — call date - another inappropriate format of date, needs fixing\n",
    "* duration — call duration (in minutes) - will need to round them to minutes\n",
    "* user_id — the identifier of the user making the call\n",
    "\n",
    "\n",
    "1. The `messages` table (data on texts):\n",
    "* id — unique text message identifier\n",
    "* message_date — text message date - also an object data type - we defined that we need to fix it to datetime format\n",
    "* user_id — the identifier of the user sending the text\n",
    "\n",
    "\n",
    "1. The `internet` table (data on web sessions):\n",
    "* id — unique session identifier\n",
    "* mb_used — the volume of data spent during the session (in megabytes) - we will need to convert those to gigabytes\n",
    "* session_date — web session date - another date info stored as object\n",
    "* user_id — user identifier\n",
    "\n",
    "\n",
    "1. The `plans` table (data on the plans):\n",
    "* plan_name — calling plan name\n",
    "* usd_monthly_fee — monthly charge in US dollars\n",
    "* minutes_included — monthly minute allowance\n",
    "* messages_included — monthly text allowance\n",
    "* mb_per_month_included — data volume allowance (in megabytes)\n",
    "* usd_per_minute — price per minute after exceeding the package limits (e.g., if the package includes 100 minutes, the 101st minute will be charged)\n",
    "* usd_per_message — price per text after exceeding the package limits\n",
    "* usd_per_gb — price per extra gigabyte of data after exceeding the package limits (1 GB = 1024 megabytes)"
   ]
  },
  {
   "cell_type": "markdown",
   "id": "97c6d0ac",
   "metadata": {},
   "source": [
    "Some facts we can learn from those columns about our data: \n",
    "- There are 500 unique identifiers of users with their names, age, information about the period of time they are being our clients, different plans (Surf and Ultimate), from different regions. \n",
    "\n",
    "- We have a reference table with fees and services included in each package.\n",
    "\n",
    "- Also we have three tables with each users' calls, messages and traffic usage records."
   ]
  },
  {
   "cell_type": "markdown",
   "id": "eb90182a",
   "metadata": {},
   "source": [
    "Now that we had a glance at our data we can start with preprocessing."
   ]
  },
  {
   "cell_type": "code",
   "execution_count": 5,
   "id": "5ac7400a",
   "metadata": {},
   "outputs": [
    {
     "name": "stdout",
     "output_type": "stream",
     "text": [
      "Megaline users\n",
      "\n",
      "user_id         0\n",
      "first_name      0\n",
      "last_name       0\n",
      "age             0\n",
      "city            0\n",
      "reg_date        0\n",
      "plan            0\n",
      "churn_date    466\n",
      "dtype: int64\n",
      "------------------------------\n",
      "\n",
      "Surf and Ultimate plans\n",
      "\n",
      "messages_included        0\n",
      "mb_per_month_included    0\n",
      "minutes_included         0\n",
      "usd_monthly_pay          0\n",
      "usd_per_gb               0\n",
      "usd_per_message          0\n",
      "usd_per_minute           0\n",
      "plan_name                0\n",
      "dtype: int64\n",
      "------------------------------\n",
      "\n",
      "Messages\n",
      "\n",
      "id              0\n",
      "user_id         0\n",
      "message_date    0\n",
      "dtype: int64\n",
      "------------------------------\n",
      "\n",
      "Internet\n",
      "\n",
      "id              0\n",
      "user_id         0\n",
      "session_date    0\n",
      "mb_used         0\n",
      "dtype: int64\n",
      "------------------------------\n",
      "\n",
      "Calls\n",
      "\n",
      "id           0\n",
      "user_id      0\n",
      "call_date    0\n",
      "duration     0\n",
      "dtype: int64\n",
      "------------------------------\n",
      "\n"
     ]
    }
   ],
   "source": [
    "# Check missing values\n",
    "for i, j in zip(list_of_sets, list_of_names):\n",
    "    print(j)\n",
    "    print()\n",
    "    print(i.isnull().sum())\n",
    "    print(\"-\"*30)\n",
    "    print()"
   ]
  },
  {
   "cell_type": "markdown",
   "id": "9930afc0",
   "metadata": {},
   "source": [
    "We can see almost all of the values are missing in the dataframe with information about users, in the `churn_date` column. According to the description we know that if the data here is missing it means that the user was active by the **end of 2018**, so this explenation lets us fill those missing values with the last day of 2018: **2018-12-31**, that will give us an opportunity to compare `reg_date` and `churn_date`, for instance."
   ]
  },
  {
   "cell_type": "markdown",
   "id": "3f655390",
   "metadata": {},
   "source": [
    "# 2 Data preprocessing"
   ]
  },
  {
   "cell_type": "markdown",
   "id": "51a83b7f",
   "metadata": {},
   "source": [
    "# 2.1 Fixing the data types"
   ]
  },
  {
   "cell_type": "code",
   "execution_count": 6,
   "id": "9fa20d51",
   "metadata": {},
   "outputs": [
    {
     "data": {
      "text/plain": [
       "'2018-01-15'"
      ]
     },
     "execution_count": 6,
     "metadata": {},
     "output_type": "execute_result"
    },
    {
     "data": {
      "text/plain": [
       "'2018-12-31'"
      ]
     },
     "execution_count": 6,
     "metadata": {},
     "output_type": "execute_result"
    },
    {
     "data": {
      "text/plain": [
       "'2018-01-01'"
      ]
     },
     "execution_count": 6,
     "metadata": {},
     "output_type": "execute_result"
    },
    {
     "data": {
      "text/plain": [
       "'2018-12-31'"
      ]
     },
     "execution_count": 6,
     "metadata": {},
     "output_type": "execute_result"
    },
    {
     "data": {
      "text/plain": [
       "'2018-01-15'"
      ]
     },
     "execution_count": 6,
     "metadata": {},
     "output_type": "execute_result"
    },
    {
     "data": {
      "text/plain": [
       "'2018-12-31'"
      ]
     },
     "execution_count": 6,
     "metadata": {},
     "output_type": "execute_result"
    },
    {
     "data": {
      "text/plain": [
       "'2018-01-15'"
      ]
     },
     "execution_count": 6,
     "metadata": {},
     "output_type": "execute_result"
    },
    {
     "data": {
      "text/plain": [
       "'2018-12-31'"
      ]
     },
     "execution_count": 6,
     "metadata": {},
     "output_type": "execute_result"
    }
   ],
   "source": [
    "# Make sure there is no other year than 2018\n",
    "internet['session_date'].min()\n",
    "internet['session_date'].max()\n",
    "\n",
    "users['reg_date'].min()\n",
    "users['reg_date'].max()\n",
    "\n",
    "messages['message_date'].min()\n",
    "messages['message_date'].max()\n",
    "\n",
    "calls['call_date'].min()\n",
    "calls['call_date'].max()"
   ]
  },
  {
   "cell_type": "code",
   "execution_count": 7,
   "id": "33d4173a",
   "metadata": {},
   "outputs": [
    {
     "data": {
      "text/plain": [
       "dtype('<M8[ns]')"
      ]
     },
     "execution_count": 7,
     "metadata": {},
     "output_type": "execute_result"
    }
   ],
   "source": [
    "# Correcting all the columns with the wrong datatype for dates\n",
    "users['reg_date'] = pd.to_datetime(users['reg_date'], format='%Y-%m-%d')\n",
    "users['reg_date'].dtype"
   ]
  },
  {
   "cell_type": "code",
   "execution_count": 8,
   "id": "598739dd",
   "metadata": {},
   "outputs": [
    {
     "data": {
      "text/plain": [
       "dtype('<M8[ns]')"
      ]
     },
     "execution_count": 8,
     "metadata": {},
     "output_type": "execute_result"
    }
   ],
   "source": [
    "messages['message_date'] = pd.to_datetime(messages['message_date'], format='%Y-%m-%d')\n",
    "messages['message_date'].dtype"
   ]
  },
  {
   "cell_type": "code",
   "execution_count": 9,
   "id": "38b615f4",
   "metadata": {},
   "outputs": [
    {
     "data": {
      "text/plain": [
       "dtype('<M8[ns]')"
      ]
     },
     "execution_count": 9,
     "metadata": {},
     "output_type": "execute_result"
    }
   ],
   "source": [
    "internet['session_date'] = pd.to_datetime(internet['session_date'], format='%Y-%m-%d')\n",
    "internet['session_date'].dtype"
   ]
  },
  {
   "cell_type": "code",
   "execution_count": 10,
   "id": "c4793fbd",
   "metadata": {},
   "outputs": [
    {
     "data": {
      "text/plain": [
       "dtype('<M8[ns]')"
      ]
     },
     "execution_count": 10,
     "metadata": {},
     "output_type": "execute_result"
    }
   ],
   "source": [
    "calls['call_date'] = pd.to_datetime(calls['call_date'], format='%Y-%m-%d')\n",
    "calls['call_date'].dtype"
   ]
  },
  {
   "cell_type": "markdown",
   "id": "f46241df",
   "metadata": {},
   "source": [
    "# 2.2 Checking errors"
   ]
  },
  {
   "cell_type": "code",
   "execution_count": 11,
   "id": "86e2205f",
   "metadata": {
    "scrolled": true
   },
   "outputs": [
    {
     "data": {
      "text/plain": [
       "0          9\n",
       "1         14\n",
       "2         15\n",
       "3          6\n",
       "4          5\n",
       "          ..\n",
       "137730     9\n",
       "137731    11\n",
       "137732     9\n",
       "137733     1\n",
       "137734    14\n",
       "Name: duration, Length: 137735, dtype: int64"
      ]
     },
     "execution_count": 11,
     "metadata": {},
     "output_type": "execute_result"
    }
   ],
   "source": [
    "# Round each minute up\n",
    "calls['duration'] = np.ceil(calls['duration']).astype(int)\n",
    "calls['duration']"
   ]
  },
  {
   "cell_type": "code",
   "execution_count": 12,
   "id": "7350057a",
   "metadata": {},
   "outputs": [],
   "source": [
    "# Fill in missing values\n",
    "users['churn_date'].fillna('2018-12-31', inplace=True)\n",
    "users['churn_date'] = pd.to_datetime(users['churn_date'], format='%Y-%m-%d')"
   ]
  },
  {
   "cell_type": "code",
   "execution_count": 13,
   "id": "536fa5f0",
   "metadata": {
    "scrolled": true
   },
   "outputs": [
    {
     "data": {
      "text/plain": [
       "0   2018-12-31\n",
       "1   2018-12-31\n",
       "2   2018-12-31\n",
       "3   2018-12-31\n",
       "4   2018-12-31\n",
       "Name: churn_date, dtype: datetime64[ns]"
      ]
     },
     "execution_count": 13,
     "metadata": {},
     "output_type": "execute_result"
    }
   ],
   "source": [
    "users['churn_date'].head()"
   ]
  },
  {
   "cell_type": "markdown",
   "id": "bfa0884b",
   "metadata": {},
   "source": [
    "# 2.3 Checking for zeros"
   ]
  },
  {
   "cell_type": "code",
   "execution_count": 14,
   "id": "6d1092eb",
   "metadata": {},
   "outputs": [],
   "source": [
    "# Define a function for finding zeros\n",
    "def zero_func(frame):\n",
    "    for row in frame:\n",
    "        print(row, len(frame[frame[row] == 0]))"
   ]
  },
  {
   "cell_type": "code",
   "execution_count": 15,
   "id": "7d2b3d61",
   "metadata": {},
   "outputs": [
    {
     "name": "stdout",
     "output_type": "stream",
     "text": [
      "Megaline users\n",
      "\n",
      "user_id 0\n",
      "first_name 0\n",
      "last_name 0\n",
      "age 0\n",
      "city 0\n",
      "reg_date 0\n",
      "plan 0\n",
      "churn_date 0\n",
      "\n",
      "------------------------------\n",
      "\n",
      "Surf and Ultimate plans\n",
      "\n",
      "messages_included 0\n",
      "mb_per_month_included 0\n",
      "minutes_included 0\n",
      "usd_monthly_pay 0\n",
      "usd_per_gb 0\n",
      "usd_per_message 0\n",
      "usd_per_minute 0\n",
      "plan_name 0\n",
      "\n",
      "------------------------------\n",
      "\n",
      "Messages\n",
      "\n",
      "id 0\n",
      "user_id 0\n",
      "message_date 0\n",
      "\n",
      "------------------------------\n",
      "\n",
      "Internet\n",
      "\n",
      "id 0\n",
      "user_id 0\n",
      "session_date 0\n",
      "mb_used 13747\n",
      "\n",
      "------------------------------\n",
      "\n",
      "Calls\n",
      "\n",
      "id 0\n",
      "user_id 0\n",
      "call_date 0\n",
      "duration 26834\n",
      "\n",
      "------------------------------\n",
      "\n"
     ]
    }
   ],
   "source": [
    "# Using the list of dataframes create a loop to iterate through with the function\n",
    "for name, frame in zip(list_of_names, list_of_sets):\n",
    "    print(name)\n",
    "    print()\n",
    "    zero_func(frame)\n",
    "    print()\n",
    "    print('-' * 30)\n",
    "    print()"
   ]
  },
  {
   "cell_type": "markdown",
   "id": "9dfc22c7",
   "metadata": {},
   "source": [
    "We see a lot of zeros in the calls duration and megabytes column - these might be missed calls or failed connections or even an error in logging. We need to have a look at our distribution and see if there are any outliers that can get in our way. Lets create a function for that."
   ]
  },
  {
   "cell_type": "code",
   "execution_count": 16,
   "id": "30ea2103",
   "metadata": {},
   "outputs": [],
   "source": [
    "def percentile_func(data, parameter):  # take the percentile for it is more accurate\n",
    "    data[parameter].hist(bins=60)\n",
    "    plt.title('The histogram of: {}'.format(parameter))\n",
    "    plt.xlabel(parameter)\n",
    "    plt.ylabel('Count')\n",
    "    plt.show()\n",
    "    if data[parameter].mean() > data[parameter].median():\n",
    "        print('The distribution is positive and is skewed to the right')\n",
    "    else:\n",
    "        print('The distribution is negative and is skewed to the left')\n",
    "    print('-' * 55)\n",
    "    print('Statistics on: {}'.format(parameter))\n",
    "    print(data[parameter].describe())\n",
    "    upper_limit = np.percentile(data[parameter], 99)\n",
    "    lower_limit = np.percentile(data[parameter], 1)\n",
    "    print('-' * 55)\n",
    "    print('The upper limit of outliers outlier is:', upper_limit)\n",
    "    print('The lower limit of outliers is', lower_limit)\n",
    "    print('-' * 55)\n",
    "    print('The outliers are considered to be values below', lower_limit, 'and above', upper_limit)\n",
    "    print('We have', len(data[(data[parameter] < lower_limit)|(data[parameter] > upper_limit)]),\n",
    "          \"values that we can consider outliers\")\n",
    "    print('The share of all located outliers is: {:.2%}'.format(len(data[(data[parameter] < lower_limit)\n",
    "                                                                         |(data[parameter] > upper_limit)]) \n",
    "                                                                        / len(data)))"
   ]
  },
  {
   "cell_type": "code",
   "execution_count": 17,
   "id": "ea3ba472",
   "metadata": {},
   "outputs": [
    {
     "data": {
      "image/png": "[encoded data removed]",
      "text/plain": [
       "<Figure size 432x288 with 1 Axes>"
      ]
     },
     "metadata": {
      "needs_background": "light"
     },
     "output_type": "display_data"
    },
    {
     "name": "stdout",
     "output_type": "stream",
     "text": [
      "The distribution is positive and is skewed to the right\n",
      "-------------------------------------------------------\n",
      "Statistics on: duration\n",
      "count    137735.000000\n",
      "mean          7.146673\n",
      "std           5.953919\n",
      "min           0.000000\n",
      "25%           2.000000\n",
      "50%           6.000000\n",
      "75%          11.000000\n",
      "max          38.000000\n",
      "Name: duration, dtype: float64\n",
      "-------------------------------------------------------\n",
      "The upper limit of outliers outlier is: 23.0\n",
      "The lower limit of outliers is 0.0\n",
      "-------------------------------------------------------\n",
      "The outliers are considered to be values below 0.0 and above 23.0\n",
      "We have 1025 values that we can consider outliers\n",
      "The share of all located outliers is: 0.74%\n"
     ]
    }
   ],
   "source": [
    "percentile_func(calls, 'duration')"
   ]
  },
  {
   "cell_type": "markdown",
   "id": "de45c54c",
   "metadata": {},
   "source": [
    "As the graph shows, the form of the distribution looks normal with a little skew to the right, except for the zeros - they really stand out. The absence of them is not supposed to have any affect on out analisys, so we can eliminate them."
   ]
  },
  {
   "cell_type": "code",
   "execution_count": 18,
   "id": "a43fd924",
   "metadata": {},
   "outputs": [],
   "source": [
    "# Ommit the zeros from calls dataframe\n",
    "calls_upd = calls.query('duration !=0').reset_index()"
   ]
  },
  {
   "cell_type": "markdown",
   "id": "19c72160",
   "metadata": {},
   "source": [
    "Moving on to checking the distribution of gigabytes, let's first calculate them to a new column:"
   ]
  },
  {
   "cell_type": "code",
   "execution_count": 19,
   "id": "1ddca8bd",
   "metadata": {},
   "outputs": [
    {
     "data": {
      "text/html": [
       "<div>\n",
       "<style scoped>\n",
       "    .dataframe tbody tr th:only-of-type {\n",
       "        vertical-align: middle;\n",
       "    }\n",
       "\n",
       "    .dataframe tbody tr th {\n",
       "        vertical-align: top;\n",
       "    }\n",
       "\n",
       "    .dataframe thead th {\n",
       "        text-align: right;\n",
       "    }\n",
       "</style>\n",
       "<table border=\"1\" class=\"dataframe\">\n",
       "  <thead>\n",
       "    <tr style=\"text-align: right;\">\n",
       "      <th></th>\n",
       "      <th>id</th>\n",
       "      <th>user_id</th>\n",
       "      <th>session_date</th>\n",
       "      <th>mb_used</th>\n",
       "      <th>gb_used</th>\n",
       "    </tr>\n",
       "  </thead>\n",
       "  <tbody>\n",
       "    <tr>\n",
       "      <td>0</td>\n",
       "      <td>1000_13</td>\n",
       "      <td>1000</td>\n",
       "      <td>2018-12-29</td>\n",
       "      <td>89.86</td>\n",
       "      <td>0.087754</td>\n",
       "    </tr>\n",
       "    <tr>\n",
       "      <td>1</td>\n",
       "      <td>1000_204</td>\n",
       "      <td>1000</td>\n",
       "      <td>2018-12-31</td>\n",
       "      <td>0.00</td>\n",
       "      <td>0.000000</td>\n",
       "    </tr>\n",
       "    <tr>\n",
       "      <td>2</td>\n",
       "      <td>1000_379</td>\n",
       "      <td>1000</td>\n",
       "      <td>2018-12-28</td>\n",
       "      <td>660.40</td>\n",
       "      <td>0.644922</td>\n",
       "    </tr>\n",
       "    <tr>\n",
       "      <td>3</td>\n",
       "      <td>1000_413</td>\n",
       "      <td>1000</td>\n",
       "      <td>2018-12-26</td>\n",
       "      <td>270.99</td>\n",
       "      <td>0.264639</td>\n",
       "    </tr>\n",
       "    <tr>\n",
       "      <td>4</td>\n",
       "      <td>1000_442</td>\n",
       "      <td>1000</td>\n",
       "      <td>2018-12-27</td>\n",
       "      <td>880.22</td>\n",
       "      <td>0.859590</td>\n",
       "    </tr>\n",
       "  </tbody>\n",
       "</table>\n",
       "</div>"
      ],
      "text/plain": [
       "         id  user_id session_date  mb_used   gb_used\n",
       "0   1000_13     1000   2018-12-29    89.86  0.087754\n",
       "1  1000_204     1000   2018-12-31     0.00  0.000000\n",
       "2  1000_379     1000   2018-12-28   660.40  0.644922\n",
       "3  1000_413     1000   2018-12-26   270.99  0.264639\n",
       "4  1000_442     1000   2018-12-27   880.22  0.859590"
      ]
     },
     "execution_count": 19,
     "metadata": {},
     "output_type": "execute_result"
    }
   ],
   "source": [
    "# Add a column with MB converted to GB\n",
    "internet['gb_used'] = internet['mb_used'] / 1024\n",
    "internet.head()"
   ]
  },
  {
   "cell_type": "code",
   "execution_count": 20,
   "id": "505815f6",
   "metadata": {},
   "outputs": [
    {
     "data": {
      "image/png": "[encoded data removed]",
      "text/plain": [
       "<Figure size 432x288 with 1 Axes>"
      ]
     },
     "metadata": {
      "needs_background": "light"
     },
     "output_type": "display_data"
    },
    {
     "name": "stdout",
     "output_type": "stream",
     "text": [
      "The distribution is positive and is skewed to the right\n",
      "-------------------------------------------------------\n",
      "Statistics on: gb_used\n",
      "count    104825.000000\n",
      "mean          0.358119\n",
      "std           0.270674\n",
      "min           0.000000\n",
      "25%           0.132891\n",
      "50%           0.335918\n",
      "75%           0.541611\n",
      "max           1.653779\n",
      "Name: gb_used, dtype: float64\n",
      "-------------------------------------------------------\n",
      "The upper limit of outliers outlier is: 1.0549812499999995\n",
      "The lower limit of outliers is 0.0\n",
      "-------------------------------------------------------\n",
      "The outliers are considered to be values below 0.0 and above 1.0549812499999995\n",
      "We have 1049 values that we can consider outliers\n",
      "The share of all located outliers is: 1.00%\n"
     ]
    }
   ],
   "source": [
    "percentile_func(internet, 'gb_used')"
   ]
  },
  {
   "cell_type": "markdown",
   "id": "d30e745e",
   "metadata": {},
   "source": [
    "Same goes for internet - we observe a distribution like normal, but the zeros stand out and don't seem to contribute to calculations."
   ]
  },
  {
   "cell_type": "code",
   "execution_count": 21,
   "id": "2231b3e2",
   "metadata": {},
   "outputs": [],
   "source": [
    "internet_upd = internet.query('mb_used !=0', inplace = True)"
   ]
  },
  {
   "cell_type": "code",
   "execution_count": 22,
   "id": "0c35ec15",
   "metadata": {},
   "outputs": [],
   "source": [
    "internet_upd"
   ]
  },
  {
   "cell_type": "markdown",
   "id": "dafdf212",
   "metadata": {},
   "source": [
    "<div class=\"alert alert-block alert-success\">\n",
    "<b>Reviewer's comment</b> <a class=\"tocSkip\"></a>\n",
    "\n",
    "Good usage of the pandas library!\n",
    "There are a different way to write reset_index() command by using inplace=True.\n",
    "</div>"
   ]
  },
  {
   "cell_type": "markdown",
   "id": "d4f13351",
   "metadata": {},
   "source": [
    "To count the ammount of messages we need to aggregate the data in the messages datarame"
   ]
  },
  {
   "cell_type": "code",
   "execution_count": 23,
   "id": "84c87c50",
   "metadata": {},
   "outputs": [
    {
     "data": {
      "text/html": [
       "<div>\n",
       "<style scoped>\n",
       "    .dataframe tbody tr th:only-of-type {\n",
       "        vertical-align: middle;\n",
       "    }\n",
       "\n",
       "    .dataframe tbody tr th {\n",
       "        vertical-align: top;\n",
       "    }\n",
       "\n",
       "    .dataframe thead th {\n",
       "        text-align: right;\n",
       "    }\n",
       "</style>\n",
       "<table border=\"1\" class=\"dataframe\">\n",
       "  <thead>\n",
       "    <tr style=\"text-align: right;\">\n",
       "      <th></th>\n",
       "      <th>user_id</th>\n",
       "      <th>message_date</th>\n",
       "      <th>id</th>\n",
       "    </tr>\n",
       "  </thead>\n",
       "  <tbody>\n",
       "    <tr>\n",
       "      <td>0</td>\n",
       "      <td>1000</td>\n",
       "      <td>2018-12-25</td>\n",
       "      <td>1</td>\n",
       "    </tr>\n",
       "    <tr>\n",
       "      <td>1</td>\n",
       "      <td>1000</td>\n",
       "      <td>2018-12-26</td>\n",
       "      <td>1</td>\n",
       "    </tr>\n",
       "    <tr>\n",
       "      <td>2</td>\n",
       "      <td>1000</td>\n",
       "      <td>2018-12-27</td>\n",
       "      <td>3</td>\n",
       "    </tr>\n",
       "    <tr>\n",
       "      <td>3</td>\n",
       "      <td>1000</td>\n",
       "      <td>2018-12-28</td>\n",
       "      <td>1</td>\n",
       "    </tr>\n",
       "    <tr>\n",
       "      <td>4</td>\n",
       "      <td>1000</td>\n",
       "      <td>2018-12-29</td>\n",
       "      <td>1</td>\n",
       "    </tr>\n",
       "    <tr>\n",
       "      <td>...</td>\n",
       "      <td>...</td>\n",
       "      <td>...</td>\n",
       "      <td>...</td>\n",
       "    </tr>\n",
       "    <tr>\n",
       "      <td>33238</td>\n",
       "      <td>1497</td>\n",
       "      <td>2018-12-27</td>\n",
       "      <td>4</td>\n",
       "    </tr>\n",
       "    <tr>\n",
       "      <td>33239</td>\n",
       "      <td>1497</td>\n",
       "      <td>2018-12-28</td>\n",
       "      <td>2</td>\n",
       "    </tr>\n",
       "    <tr>\n",
       "      <td>33240</td>\n",
       "      <td>1497</td>\n",
       "      <td>2018-12-29</td>\n",
       "      <td>5</td>\n",
       "    </tr>\n",
       "    <tr>\n",
       "      <td>33241</td>\n",
       "      <td>1497</td>\n",
       "      <td>2018-12-30</td>\n",
       "      <td>1</td>\n",
       "    </tr>\n",
       "    <tr>\n",
       "      <td>33242</td>\n",
       "      <td>1497</td>\n",
       "      <td>2018-12-31</td>\n",
       "      <td>2</td>\n",
       "    </tr>\n",
       "  </tbody>\n",
       "</table>\n",
       "<p>33243 rows × 3 columns</p>\n",
       "</div>"
      ],
      "text/plain": [
       "       user_id message_date  id\n",
       "0         1000   2018-12-25   1\n",
       "1         1000   2018-12-26   1\n",
       "2         1000   2018-12-27   3\n",
       "3         1000   2018-12-28   1\n",
       "4         1000   2018-12-29   1\n",
       "...        ...          ...  ..\n",
       "33238     1497   2018-12-27   4\n",
       "33239     1497   2018-12-28   2\n",
       "33240     1497   2018-12-29   5\n",
       "33241     1497   2018-12-30   1\n",
       "33242     1497   2018-12-31   2\n",
       "\n",
       "[33243 rows x 3 columns]"
      ]
     },
     "execution_count": 23,
     "metadata": {},
     "output_type": "execute_result"
    }
   ],
   "source": [
    "messages_piv = messages.pivot_table(index = ['user_id', 'message_date'], \n",
    "                                    values = 'id', \n",
    "                                    aggfunc = 'count')\\\n",
    "                        .reset_index()\n",
    "messages_piv"
   ]
  },
  {
   "cell_type": "code",
   "execution_count": 24,
   "id": "0c6c872c",
   "metadata": {},
   "outputs": [],
   "source": [
    "# renaming the id column for better understanding\n",
    "messages_piv.rename(columns = {'id' : 'messages_sent'}, inplace = True) "
   ]
  },
  {
   "cell_type": "markdown",
   "id": "d19114dc",
   "metadata": {},
   "source": [
    "# 2.4 Checking duplicates"
   ]
  },
  {
   "cell_type": "code",
   "execution_count": 25,
   "id": "8fbb46f7",
   "metadata": {},
   "outputs": [],
   "source": [
    "upd_list = [calls_upd, internet, plans, messages_piv, users]\n",
    "upd_names = ['Calls', 'Internet', 'Plans', 'Messages', 'Megaline users']"
   ]
  },
  {
   "cell_type": "code",
   "execution_count": 26,
   "id": "1a42f700",
   "metadata": {},
   "outputs": [
    {
     "name": "stdout",
     "output_type": "stream",
     "text": [
      "No duplicates\n"
     ]
    }
   ],
   "source": [
    "for name, frame in zip(upd_names, upd_list):\n",
    "    if frame.duplicated().sum() > 0:\n",
    "        result = name\n",
    "    else:\n",
    "        result = 'No duplicates'\n",
    "print(result)\n"
   ]
  },
  {
   "cell_type": "markdown",
   "id": "06d00f44",
   "metadata": {},
   "source": [
    "No duplicates in our site - lets move on to enriching our data."
   ]
  },
  {
   "cell_type": "markdown",
   "id": "326d4989",
   "metadata": {},
   "source": [
    "# 2.5 Adding columns"
   ]
  },
  {
   "cell_type": "code",
   "execution_count": 27,
   "id": "c4087a00",
   "metadata": {},
   "outputs": [
    {
     "data": {
      "text/html": [
       "<div>\n",
       "<style scoped>\n",
       "    .dataframe tbody tr th:only-of-type {\n",
       "        vertical-align: middle;\n",
       "    }\n",
       "\n",
       "    .dataframe tbody tr th {\n",
       "        vertical-align: top;\n",
       "    }\n",
       "\n",
       "    .dataframe thead th {\n",
       "        text-align: right;\n",
       "    }\n",
       "</style>\n",
       "<table border=\"1\" class=\"dataframe\">\n",
       "  <thead>\n",
       "    <tr style=\"text-align: right;\">\n",
       "      <th></th>\n",
       "      <th>id</th>\n",
       "      <th>user_id</th>\n",
       "      <th>session_date</th>\n",
       "      <th>mb_used</th>\n",
       "      <th>gb_used</th>\n",
       "      <th>month</th>\n",
       "    </tr>\n",
       "  </thead>\n",
       "  <tbody>\n",
       "    <tr>\n",
       "      <td>0</td>\n",
       "      <td>1000_13</td>\n",
       "      <td>1000</td>\n",
       "      <td>2018-12-29</td>\n",
       "      <td>89.86</td>\n",
       "      <td>0.087754</td>\n",
       "      <td>12</td>\n",
       "    </tr>\n",
       "    <tr>\n",
       "      <td>2</td>\n",
       "      <td>1000_379</td>\n",
       "      <td>1000</td>\n",
       "      <td>2018-12-28</td>\n",
       "      <td>660.40</td>\n",
       "      <td>0.644922</td>\n",
       "      <td>12</td>\n",
       "    </tr>\n",
       "    <tr>\n",
       "      <td>3</td>\n",
       "      <td>1000_413</td>\n",
       "      <td>1000</td>\n",
       "      <td>2018-12-26</td>\n",
       "      <td>270.99</td>\n",
       "      <td>0.264639</td>\n",
       "      <td>12</td>\n",
       "    </tr>\n",
       "    <tr>\n",
       "      <td>4</td>\n",
       "      <td>1000_442</td>\n",
       "      <td>1000</td>\n",
       "      <td>2018-12-27</td>\n",
       "      <td>880.22</td>\n",
       "      <td>0.859590</td>\n",
       "      <td>12</td>\n",
       "    </tr>\n",
       "    <tr>\n",
       "      <td>5</td>\n",
       "      <td>1001_0</td>\n",
       "      <td>1001</td>\n",
       "      <td>2018-08-24</td>\n",
       "      <td>284.68</td>\n",
       "      <td>0.278008</td>\n",
       "      <td>8</td>\n",
       "    </tr>\n",
       "  </tbody>\n",
       "</table>\n",
       "</div>"
      ],
      "text/plain": [
       "         id  user_id session_date  mb_used   gb_used  month\n",
       "0   1000_13     1000   2018-12-29    89.86  0.087754     12\n",
       "2  1000_379     1000   2018-12-28   660.40  0.644922     12\n",
       "3  1000_413     1000   2018-12-26   270.99  0.264639     12\n",
       "4  1000_442     1000   2018-12-27   880.22  0.859590     12\n",
       "5    1001_0     1001   2018-08-24   284.68  0.278008      8"
      ]
     },
     "execution_count": 27,
     "metadata": {},
     "output_type": "execute_result"
    }
   ],
   "source": [
    "# Adding a month column to work with\n",
    "internet['month'] = pd.to_datetime(internet['session_date']).dt.month\n",
    "internet.head()"
   ]
  },
  {
   "cell_type": "code",
   "execution_count": 28,
   "id": "aa6d5493",
   "metadata": {},
   "outputs": [
    {
     "data": {
      "text/html": [
       "<div>\n",
       "<style scoped>\n",
       "    .dataframe tbody tr th:only-of-type {\n",
       "        vertical-align: middle;\n",
       "    }\n",
       "\n",
       "    .dataframe tbody tr th {\n",
       "        vertical-align: top;\n",
       "    }\n",
       "\n",
       "    .dataframe thead th {\n",
       "        text-align: right;\n",
       "    }\n",
       "</style>\n",
       "<table border=\"1\" class=\"dataframe\">\n",
       "  <thead>\n",
       "    <tr style=\"text-align: right;\">\n",
       "      <th></th>\n",
       "      <th>user_id</th>\n",
       "      <th>message_date</th>\n",
       "      <th>messages_sent</th>\n",
       "      <th>month</th>\n",
       "    </tr>\n",
       "  </thead>\n",
       "  <tbody>\n",
       "    <tr>\n",
       "      <td>0</td>\n",
       "      <td>1000</td>\n",
       "      <td>2018-12-25</td>\n",
       "      <td>1</td>\n",
       "      <td>12</td>\n",
       "    </tr>\n",
       "    <tr>\n",
       "      <td>1</td>\n",
       "      <td>1000</td>\n",
       "      <td>2018-12-26</td>\n",
       "      <td>1</td>\n",
       "      <td>12</td>\n",
       "    </tr>\n",
       "    <tr>\n",
       "      <td>2</td>\n",
       "      <td>1000</td>\n",
       "      <td>2018-12-27</td>\n",
       "      <td>3</td>\n",
       "      <td>12</td>\n",
       "    </tr>\n",
       "    <tr>\n",
       "      <td>3</td>\n",
       "      <td>1000</td>\n",
       "      <td>2018-12-28</td>\n",
       "      <td>1</td>\n",
       "      <td>12</td>\n",
       "    </tr>\n",
       "    <tr>\n",
       "      <td>4</td>\n",
       "      <td>1000</td>\n",
       "      <td>2018-12-29</td>\n",
       "      <td>1</td>\n",
       "      <td>12</td>\n",
       "    </tr>\n",
       "  </tbody>\n",
       "</table>\n",
       "</div>"
      ],
      "text/plain": [
       "   user_id message_date  messages_sent  month\n",
       "0     1000   2018-12-25              1     12\n",
       "1     1000   2018-12-26              1     12\n",
       "2     1000   2018-12-27              3     12\n",
       "3     1000   2018-12-28              1     12\n",
       "4     1000   2018-12-29              1     12"
      ]
     },
     "execution_count": 28,
     "metadata": {},
     "output_type": "execute_result"
    }
   ],
   "source": [
    "messages_piv['month'] = pd.to_datetime(messages_piv['message_date']).dt.month\n",
    "messages_piv.head()"
   ]
  },
  {
   "cell_type": "code",
   "execution_count": 29,
   "id": "32cfe987",
   "metadata": {},
   "outputs": [
    {
     "data": {
      "text/html": [
       "<div>\n",
       "<style scoped>\n",
       "    .dataframe tbody tr th:only-of-type {\n",
       "        vertical-align: middle;\n",
       "    }\n",
       "\n",
       "    .dataframe tbody tr th {\n",
       "        vertical-align: top;\n",
       "    }\n",
       "\n",
       "    .dataframe thead th {\n",
       "        text-align: right;\n",
       "    }\n",
       "</style>\n",
       "<table border=\"1\" class=\"dataframe\">\n",
       "  <thead>\n",
       "    <tr style=\"text-align: right;\">\n",
       "      <th></th>\n",
       "      <th>index</th>\n",
       "      <th>id</th>\n",
       "      <th>user_id</th>\n",
       "      <th>call_date</th>\n",
       "      <th>duration</th>\n",
       "      <th>month</th>\n",
       "    </tr>\n",
       "  </thead>\n",
       "  <tbody>\n",
       "    <tr>\n",
       "      <td>0</td>\n",
       "      <td>0</td>\n",
       "      <td>1000_93</td>\n",
       "      <td>1000</td>\n",
       "      <td>2018-12-27</td>\n",
       "      <td>9</td>\n",
       "      <td>12</td>\n",
       "    </tr>\n",
       "    <tr>\n",
       "      <td>1</td>\n",
       "      <td>1</td>\n",
       "      <td>1000_145</td>\n",
       "      <td>1000</td>\n",
       "      <td>2018-12-27</td>\n",
       "      <td>14</td>\n",
       "      <td>12</td>\n",
       "    </tr>\n",
       "    <tr>\n",
       "      <td>2</td>\n",
       "      <td>2</td>\n",
       "      <td>1000_247</td>\n",
       "      <td>1000</td>\n",
       "      <td>2018-12-27</td>\n",
       "      <td>15</td>\n",
       "      <td>12</td>\n",
       "    </tr>\n",
       "    <tr>\n",
       "      <td>3</td>\n",
       "      <td>3</td>\n",
       "      <td>1000_309</td>\n",
       "      <td>1000</td>\n",
       "      <td>2018-12-28</td>\n",
       "      <td>6</td>\n",
       "      <td>12</td>\n",
       "    </tr>\n",
       "    <tr>\n",
       "      <td>4</td>\n",
       "      <td>4</td>\n",
       "      <td>1000_380</td>\n",
       "      <td>1000</td>\n",
       "      <td>2018-12-30</td>\n",
       "      <td>5</td>\n",
       "      <td>12</td>\n",
       "    </tr>\n",
       "  </tbody>\n",
       "</table>\n",
       "</div>"
      ],
      "text/plain": [
       "   index        id  user_id  call_date  duration  month\n",
       "0      0   1000_93     1000 2018-12-27         9     12\n",
       "1      1  1000_145     1000 2018-12-27        14     12\n",
       "2      2  1000_247     1000 2018-12-27        15     12\n",
       "3      3  1000_309     1000 2018-12-28         6     12\n",
       "4      4  1000_380     1000 2018-12-30         5     12"
      ]
     },
     "execution_count": 29,
     "metadata": {},
     "output_type": "execute_result"
    }
   ],
   "source": [
    "calls_upd['month'] = pd.to_datetime(calls_upd['call_date']).dt.month\n",
    "calls_upd.head()"
   ]
  },
  {
   "cell_type": "markdown",
   "id": "a28b9858",
   "metadata": {},
   "source": [
    "# 2.6 Calculations"
   ]
  },
  {
   "cell_type": "markdown",
   "id": "e8726a8a",
   "metadata": {},
   "source": [
    "The goal of our project is to compare average revenue for different groups. To do that we first need to count the ammount of messages, call minutes and gigabytes for each user per month, then to determine excess in usage and count the revenue for each user according to plans' fee."
   ]
  },
  {
   "cell_type": "code",
   "execution_count": 30,
   "id": "e7752737",
   "metadata": {},
   "outputs": [
    {
     "data": {
      "text/html": [
       "<div>\n",
       "<style scoped>\n",
       "    .dataframe tbody tr th:only-of-type {\n",
       "        vertical-align: middle;\n",
       "    }\n",
       "\n",
       "    .dataframe tbody tr th {\n",
       "        vertical-align: top;\n",
       "    }\n",
       "\n",
       "    .dataframe thead th {\n",
       "        text-align: right;\n",
       "    }\n",
       "</style>\n",
       "<table border=\"1\" class=\"dataframe\">\n",
       "  <thead>\n",
       "    <tr style=\"text-align: right;\">\n",
       "      <th></th>\n",
       "      <th>user_id</th>\n",
       "      <th>month</th>\n",
       "      <th>messages_sent</th>\n",
       "    </tr>\n",
       "  </thead>\n",
       "  <tbody>\n",
       "    <tr>\n",
       "      <td>0</td>\n",
       "      <td>1000</td>\n",
       "      <td>12</td>\n",
       "      <td>7</td>\n",
       "    </tr>\n",
       "    <tr>\n",
       "      <td>1</td>\n",
       "      <td>1001</td>\n",
       "      <td>8</td>\n",
       "      <td>14</td>\n",
       "    </tr>\n",
       "    <tr>\n",
       "      <td>2</td>\n",
       "      <td>1001</td>\n",
       "      <td>9</td>\n",
       "      <td>23</td>\n",
       "    </tr>\n",
       "    <tr>\n",
       "      <td>3</td>\n",
       "      <td>1001</td>\n",
       "      <td>10</td>\n",
       "      <td>25</td>\n",
       "    </tr>\n",
       "    <tr>\n",
       "      <td>4</td>\n",
       "      <td>1001</td>\n",
       "      <td>11</td>\n",
       "      <td>19</td>\n",
       "    </tr>\n",
       "  </tbody>\n",
       "</table>\n",
       "</div>"
      ],
      "text/plain": [
       "   user_id  month  messages_sent\n",
       "0     1000     12              7\n",
       "1     1001      8             14\n",
       "2     1001      9             23\n",
       "3     1001     10             25\n",
       "4     1001     11             19"
      ]
     },
     "execution_count": 30,
     "metadata": {},
     "output_type": "execute_result"
    }
   ],
   "source": [
    "# Count the number of text messages sent per month\n",
    "messages_count = messages_piv.groupby(['user_id', 'month'], as_index=False)['messages_sent'].count()\n",
    "messages_count.head()"
   ]
  },
  {
   "cell_type": "code",
   "execution_count": 31,
   "id": "a2f97ee5",
   "metadata": {},
   "outputs": [
    {
     "data": {
      "text/html": [
       "<div>\n",
       "<style scoped>\n",
       "    .dataframe tbody tr th:only-of-type {\n",
       "        vertical-align: middle;\n",
       "    }\n",
       "\n",
       "    .dataframe tbody tr th {\n",
       "        vertical-align: top;\n",
       "    }\n",
       "\n",
       "    .dataframe thead th {\n",
       "        text-align: right;\n",
       "    }\n",
       "</style>\n",
       "<table border=\"1\" class=\"dataframe\">\n",
       "  <thead>\n",
       "    <tr style=\"text-align: right;\">\n",
       "      <th></th>\n",
       "      <th>user_id</th>\n",
       "      <th>month</th>\n",
       "      <th>duration</th>\n",
       "    </tr>\n",
       "  </thead>\n",
       "  <tbody>\n",
       "    <tr>\n",
       "      <td>0</td>\n",
       "      <td>1000</td>\n",
       "      <td>12</td>\n",
       "      <td>124</td>\n",
       "    </tr>\n",
       "    <tr>\n",
       "      <td>1</td>\n",
       "      <td>1001</td>\n",
       "      <td>8</td>\n",
       "      <td>182</td>\n",
       "    </tr>\n",
       "    <tr>\n",
       "      <td>2</td>\n",
       "      <td>1001</td>\n",
       "      <td>9</td>\n",
       "      <td>315</td>\n",
       "    </tr>\n",
       "    <tr>\n",
       "      <td>3</td>\n",
       "      <td>1001</td>\n",
       "      <td>10</td>\n",
       "      <td>393</td>\n",
       "    </tr>\n",
       "    <tr>\n",
       "      <td>4</td>\n",
       "      <td>1001</td>\n",
       "      <td>11</td>\n",
       "      <td>426</td>\n",
       "    </tr>\n",
       "  </tbody>\n",
       "</table>\n",
       "</div>"
      ],
      "text/plain": [
       "   user_id  month  duration\n",
       "0     1000     12       124\n",
       "1     1001      8       182\n",
       "2     1001      9       315\n",
       "3     1001     10       393\n",
       "4     1001     11       426"
      ]
     },
     "execution_count": 31,
     "metadata": {},
     "output_type": "execute_result"
    }
   ],
   "source": [
    "# Count the minutes used per month\n",
    "calls_sum = calls_upd.groupby(['user_id', 'month'], as_index=False)['duration'].sum()\n",
    "calls_sum.head()"
   ]
  },
  {
   "cell_type": "code",
   "execution_count": 32,
   "id": "db99e05a",
   "metadata": {},
   "outputs": [
    {
     "data": {
      "text/html": [
       "<div>\n",
       "<style scoped>\n",
       "    .dataframe tbody tr th:only-of-type {\n",
       "        vertical-align: middle;\n",
       "    }\n",
       "\n",
       "    .dataframe tbody tr th {\n",
       "        vertical-align: top;\n",
       "    }\n",
       "\n",
       "    .dataframe thead th {\n",
       "        text-align: right;\n",
       "    }\n",
       "</style>\n",
       "<table border=\"1\" class=\"dataframe\">\n",
       "  <thead>\n",
       "    <tr style=\"text-align: right;\">\n",
       "      <th></th>\n",
       "      <th>user_id</th>\n",
       "      <th>month</th>\n",
       "      <th>gb_used</th>\n",
       "    </tr>\n",
       "  </thead>\n",
       "  <tbody>\n",
       "    <tr>\n",
       "      <td>0</td>\n",
       "      <td>1000</td>\n",
       "      <td>12</td>\n",
       "      <td>2.0</td>\n",
       "    </tr>\n",
       "    <tr>\n",
       "      <td>1</td>\n",
       "      <td>1001</td>\n",
       "      <td>8</td>\n",
       "      <td>7.0</td>\n",
       "    </tr>\n",
       "    <tr>\n",
       "      <td>2</td>\n",
       "      <td>1001</td>\n",
       "      <td>9</td>\n",
       "      <td>14.0</td>\n",
       "    </tr>\n",
       "    <tr>\n",
       "      <td>3</td>\n",
       "      <td>1001</td>\n",
       "      <td>10</td>\n",
       "      <td>22.0</td>\n",
       "    </tr>\n",
       "    <tr>\n",
       "      <td>4</td>\n",
       "      <td>1001</td>\n",
       "      <td>11</td>\n",
       "      <td>19.0</td>\n",
       "    </tr>\n",
       "  </tbody>\n",
       "</table>\n",
       "</div>"
      ],
      "text/plain": [
       "   user_id  month  gb_used\n",
       "0     1000     12      2.0\n",
       "1     1001      8      7.0\n",
       "2     1001      9     14.0\n",
       "3     1001     10     22.0\n",
       "4     1001     11     19.0"
      ]
     },
     "execution_count": 32,
     "metadata": {},
     "output_type": "execute_result"
    }
   ],
   "source": [
    "# Count the volume of data per month and round the summ up\n",
    "gb_volume = internet.groupby(['user_id', 'month'], as_index=False)['gb_used'].sum()\n",
    "gb_volume['gb_used'] = gb_volume['gb_used'].apply(np.ceil)\n",
    "gb_volume.head()"
   ]
  },
  {
   "cell_type": "markdown",
   "id": "26e5ed01",
   "metadata": {},
   "source": [
    "Now that the columns were added we can move on to calculating our revenue. Lets aggregate all the necessary columns to one dataframe"
   ]
  },
  {
   "cell_type": "code",
   "execution_count": 33,
   "id": "e505fed9",
   "metadata": {},
   "outputs": [
    {
     "data": {
      "text/html": [
       "<div>\n",
       "<style scoped>\n",
       "    .dataframe tbody tr th:only-of-type {\n",
       "        vertical-align: middle;\n",
       "    }\n",
       "\n",
       "    .dataframe tbody tr th {\n",
       "        vertical-align: top;\n",
       "    }\n",
       "\n",
       "    .dataframe thead th {\n",
       "        text-align: right;\n",
       "    }\n",
       "</style>\n",
       "<table border=\"1\" class=\"dataframe\">\n",
       "  <thead>\n",
       "    <tr style=\"text-align: right;\">\n",
       "      <th></th>\n",
       "      <th>user_id</th>\n",
       "      <th>month</th>\n",
       "      <th>gb_used</th>\n",
       "      <th>duration</th>\n",
       "      <th>messages_sent</th>\n",
       "    </tr>\n",
       "  </thead>\n",
       "  <tbody>\n",
       "    <tr>\n",
       "      <td>0</td>\n",
       "      <td>1000</td>\n",
       "      <td>12</td>\n",
       "      <td>2.0</td>\n",
       "      <td>124.0</td>\n",
       "      <td>7.0</td>\n",
       "    </tr>\n",
       "    <tr>\n",
       "      <td>1</td>\n",
       "      <td>1001</td>\n",
       "      <td>8</td>\n",
       "      <td>7.0</td>\n",
       "      <td>182.0</td>\n",
       "      <td>14.0</td>\n",
       "    </tr>\n",
       "    <tr>\n",
       "      <td>2</td>\n",
       "      <td>1001</td>\n",
       "      <td>9</td>\n",
       "      <td>14.0</td>\n",
       "      <td>315.0</td>\n",
       "      <td>23.0</td>\n",
       "    </tr>\n",
       "    <tr>\n",
       "      <td>3</td>\n",
       "      <td>1001</td>\n",
       "      <td>10</td>\n",
       "      <td>22.0</td>\n",
       "      <td>393.0</td>\n",
       "      <td>25.0</td>\n",
       "    </tr>\n",
       "    <tr>\n",
       "      <td>4</td>\n",
       "      <td>1001</td>\n",
       "      <td>11</td>\n",
       "      <td>19.0</td>\n",
       "      <td>426.0</td>\n",
       "      <td>19.0</td>\n",
       "    </tr>\n",
       "  </tbody>\n",
       "</table>\n",
       "</div>"
      ],
      "text/plain": [
       "   user_id  month  gb_used  duration  messages_sent\n",
       "0     1000     12      2.0     124.0            7.0\n",
       "1     1001      8      7.0     182.0           14.0\n",
       "2     1001      9     14.0     315.0           23.0\n",
       "3     1001     10     22.0     393.0           25.0\n",
       "4     1001     11     19.0     426.0           19.0"
      ]
     },
     "execution_count": 33,
     "metadata": {},
     "output_type": "execute_result"
    }
   ],
   "source": [
    "data_frames = [gb_volume, calls_sum, messages_count] # list of frames to be merged \n",
    "df_merged = reduce(lambda  left, right: pd.merge(left, right, \n",
    "                                                 on = ['user_id', 'month'], how='outer'), data_frames).fillna(0)\n",
    "df_merged.head()"
   ]
  },
  {
   "cell_type": "code",
   "execution_count": 34,
   "id": "770d4331",
   "metadata": {},
   "outputs": [],
   "source": [
    "# Add the information on users to the merged data \n",
    "final = users.merge(df_merged, \n",
    "                    on = 'user_id', how = 'outer').reset_index() # merging with 'users' data to get info on plan"
   ]
  },
  {
   "cell_type": "code",
   "execution_count": 35,
   "id": "949e08ff",
   "metadata": {
    "scrolled": true
   },
   "outputs": [
    {
     "data": {
      "text/html": [
       "<div>\n",
       "<style scoped>\n",
       "    .dataframe tbody tr th:only-of-type {\n",
       "        vertical-align: middle;\n",
       "    }\n",
       "\n",
       "    .dataframe tbody tr th {\n",
       "        vertical-align: top;\n",
       "    }\n",
       "\n",
       "    .dataframe thead th {\n",
       "        text-align: right;\n",
       "    }\n",
       "</style>\n",
       "<table border=\"1\" class=\"dataframe\">\n",
       "  <thead>\n",
       "    <tr style=\"text-align: right;\">\n",
       "      <th></th>\n",
       "      <th>index</th>\n",
       "      <th>user_id</th>\n",
       "      <th>first_name</th>\n",
       "      <th>last_name</th>\n",
       "      <th>age</th>\n",
       "      <th>city</th>\n",
       "      <th>reg_date</th>\n",
       "      <th>plan</th>\n",
       "      <th>churn_date</th>\n",
       "      <th>month</th>\n",
       "      <th>gb_used</th>\n",
       "      <th>duration</th>\n",
       "      <th>messages_sent</th>\n",
       "    </tr>\n",
       "  </thead>\n",
       "  <tbody>\n",
       "    <tr>\n",
       "      <td>0</td>\n",
       "      <td>0</td>\n",
       "      <td>1000</td>\n",
       "      <td>Anamaria</td>\n",
       "      <td>Bauer</td>\n",
       "      <td>45</td>\n",
       "      <td>Atlanta-Sandy Springs-Roswell, GA MSA</td>\n",
       "      <td>2018-12-24</td>\n",
       "      <td>ultimate</td>\n",
       "      <td>2018-12-31</td>\n",
       "      <td>12.0</td>\n",
       "      <td>2.0</td>\n",
       "      <td>124.0</td>\n",
       "      <td>7.0</td>\n",
       "    </tr>\n",
       "    <tr>\n",
       "      <td>1</td>\n",
       "      <td>1</td>\n",
       "      <td>1001</td>\n",
       "      <td>Mickey</td>\n",
       "      <td>Wilkerson</td>\n",
       "      <td>28</td>\n",
       "      <td>Seattle-Tacoma-Bellevue, WA MSA</td>\n",
       "      <td>2018-08-13</td>\n",
       "      <td>surf</td>\n",
       "      <td>2018-12-31</td>\n",
       "      <td>8.0</td>\n",
       "      <td>7.0</td>\n",
       "      <td>182.0</td>\n",
       "      <td>14.0</td>\n",
       "    </tr>\n",
       "    <tr>\n",
       "      <td>2</td>\n",
       "      <td>2</td>\n",
       "      <td>1001</td>\n",
       "      <td>Mickey</td>\n",
       "      <td>Wilkerson</td>\n",
       "      <td>28</td>\n",
       "      <td>Seattle-Tacoma-Bellevue, WA MSA</td>\n",
       "      <td>2018-08-13</td>\n",
       "      <td>surf</td>\n",
       "      <td>2018-12-31</td>\n",
       "      <td>9.0</td>\n",
       "      <td>14.0</td>\n",
       "      <td>315.0</td>\n",
       "      <td>23.0</td>\n",
       "    </tr>\n",
       "    <tr>\n",
       "      <td>3</td>\n",
       "      <td>3</td>\n",
       "      <td>1001</td>\n",
       "      <td>Mickey</td>\n",
       "      <td>Wilkerson</td>\n",
       "      <td>28</td>\n",
       "      <td>Seattle-Tacoma-Bellevue, WA MSA</td>\n",
       "      <td>2018-08-13</td>\n",
       "      <td>surf</td>\n",
       "      <td>2018-12-31</td>\n",
       "      <td>10.0</td>\n",
       "      <td>22.0</td>\n",
       "      <td>393.0</td>\n",
       "      <td>25.0</td>\n",
       "    </tr>\n",
       "    <tr>\n",
       "      <td>4</td>\n",
       "      <td>4</td>\n",
       "      <td>1001</td>\n",
       "      <td>Mickey</td>\n",
       "      <td>Wilkerson</td>\n",
       "      <td>28</td>\n",
       "      <td>Seattle-Tacoma-Bellevue, WA MSA</td>\n",
       "      <td>2018-08-13</td>\n",
       "      <td>surf</td>\n",
       "      <td>2018-12-31</td>\n",
       "      <td>11.0</td>\n",
       "      <td>19.0</td>\n",
       "      <td>426.0</td>\n",
       "      <td>19.0</td>\n",
       "    </tr>\n",
       "  </tbody>\n",
       "</table>\n",
       "</div>"
      ],
      "text/plain": [
       "   index  user_id first_name  last_name  age  \\\n",
       "0      0     1000   Anamaria      Bauer   45   \n",
       "1      1     1001     Mickey  Wilkerson   28   \n",
       "2      2     1001     Mickey  Wilkerson   28   \n",
       "3      3     1001     Mickey  Wilkerson   28   \n",
       "4      4     1001     Mickey  Wilkerson   28   \n",
       "\n",
       "                                    city   reg_date      plan churn_date  \\\n",
       "0  Atlanta-Sandy Springs-Roswell, GA MSA 2018-12-24  ultimate 2018-12-31   \n",
       "1        Seattle-Tacoma-Bellevue, WA MSA 2018-08-13      surf 2018-12-31   \n",
       "2        Seattle-Tacoma-Bellevue, WA MSA 2018-08-13      surf 2018-12-31   \n",
       "3        Seattle-Tacoma-Bellevue, WA MSA 2018-08-13      surf 2018-12-31   \n",
       "4        Seattle-Tacoma-Bellevue, WA MSA 2018-08-13      surf 2018-12-31   \n",
       "\n",
       "   month  gb_used  duration  messages_sent  \n",
       "0   12.0      2.0     124.0            7.0  \n",
       "1    8.0      7.0     182.0           14.0  \n",
       "2    9.0     14.0     315.0           23.0  \n",
       "3   10.0     22.0     393.0           25.0  \n",
       "4   11.0     19.0     426.0           19.0  "
      ]
     },
     "execution_count": 35,
     "metadata": {},
     "output_type": "execute_result"
    }
   ],
   "source": [
    "final.head()"
   ]
  },
  {
   "cell_type": "markdown",
   "id": "c3f39987",
   "metadata": {},
   "source": [
    "Our merged data now contains all the information we will need to count the revenue: users' id, plan of the user, gigabytes they used, duration of their calls, and the amount of messages they sent."
   ]
  },
  {
   "cell_type": "markdown",
   "id": "7f835dad",
   "metadata": {},
   "source": [
    "# 2.7 Counting the revenue"
   ]
  },
  {
   "cell_type": "markdown",
   "id": "a8094e8f",
   "metadata": {},
   "source": [
    "Let's build a function that will except rows with information on the amount of messages, duration of calls, data volume and users' plan as parameters, will define with the help of an `if - elif` statement the overages and fees and will return us the revenue for each user."
   ]
  },
  {
   "cell_type": "code",
   "execution_count": 36,
   "id": "4ee9cc50",
   "metadata": {},
   "outputs": [],
   "source": [
    "def revenue(row):\n",
    "    messages = row['messages_sent']  # we define rows and columns with data on our measurments\n",
    "    duration=row['duration']\n",
    "    gbytes=row['gb_used']\n",
    "    plan = row['plan']\n",
    "    \n",
    "    package_cost = 0  # those variables will cumulate the ovarages of usage\n",
    "    message_excess = 0\n",
    "    internet_excess = 0\n",
    "    calls_excess = 0\n",
    "    # in the next block of the function we need to describe a logic expression to count \n",
    "    # the revenue if the package limits were exceeded according to plans' fees\n",
    "    if plan == 'surf':\n",
    "        package_cost = 20\n",
    "        if messages > 50:\n",
    "            message_excess = (messages - 50) * 0.3\n",
    "        if duration > 500:\n",
    "            calls_excess = (duration - 500) * 0.3\n",
    "        if gbytes > 15:\n",
    "            internet_excess = (gbytes - 15) * 10\n",
    "            \n",
    "        \n",
    "    \n",
    "    elif plan == 'ultimate':\n",
    "        package_cost = 70\n",
    "        if messages > 1000:\n",
    "            message_excess = (messages - 100) * 0.1\n",
    "        if duration > 3000:\n",
    "            calls_excess = (duration - 3000) * 0.1    \n",
    "        if gbytes > 30:\n",
    "            internet_excess = (gbytes - 30) * 7        \n",
    "\n",
    "    # finally, adding up all those values to get a total summ        \n",
    "    total_cost = package_cost + internet_excess + calls_excess + message_excess\n",
    "    \n",
    "    return total_cost "
   ]
  },
  {
   "cell_type": "code",
   "execution_count": 37,
   "id": "3f7f1ed9",
   "metadata": {},
   "outputs": [
    {
     "data": {
      "text/html": [
       "<div>\n",
       "<style scoped>\n",
       "    .dataframe tbody tr th:only-of-type {\n",
       "        vertical-align: middle;\n",
       "    }\n",
       "\n",
       "    .dataframe tbody tr th {\n",
       "        vertical-align: top;\n",
       "    }\n",
       "\n",
       "    .dataframe thead th {\n",
       "        text-align: right;\n",
       "    }\n",
       "</style>\n",
       "<table border=\"1\" class=\"dataframe\">\n",
       "  <thead>\n",
       "    <tr style=\"text-align: right;\">\n",
       "      <th></th>\n",
       "      <th>index</th>\n",
       "      <th>user_id</th>\n",
       "      <th>first_name</th>\n",
       "      <th>last_name</th>\n",
       "      <th>age</th>\n",
       "      <th>city</th>\n",
       "      <th>reg_date</th>\n",
       "      <th>plan</th>\n",
       "      <th>churn_date</th>\n",
       "      <th>month</th>\n",
       "      <th>gb_used</th>\n",
       "      <th>duration</th>\n",
       "      <th>messages_sent</th>\n",
       "      <th>revenue</th>\n",
       "    </tr>\n",
       "  </thead>\n",
       "  <tbody>\n",
       "    <tr>\n",
       "      <td>0</td>\n",
       "      <td>0</td>\n",
       "      <td>1000</td>\n",
       "      <td>Anamaria</td>\n",
       "      <td>Bauer</td>\n",
       "      <td>45</td>\n",
       "      <td>Atlanta-Sandy Springs-Roswell, GA MSA</td>\n",
       "      <td>2018-12-24</td>\n",
       "      <td>ultimate</td>\n",
       "      <td>2018-12-31</td>\n",
       "      <td>12.0</td>\n",
       "      <td>2.0</td>\n",
       "      <td>124.0</td>\n",
       "      <td>7.0</td>\n",
       "      <td>70.0</td>\n",
       "    </tr>\n",
       "    <tr>\n",
       "      <td>1</td>\n",
       "      <td>1</td>\n",
       "      <td>1001</td>\n",
       "      <td>Mickey</td>\n",
       "      <td>Wilkerson</td>\n",
       "      <td>28</td>\n",
       "      <td>Seattle-Tacoma-Bellevue, WA MSA</td>\n",
       "      <td>2018-08-13</td>\n",
       "      <td>surf</td>\n",
       "      <td>2018-12-31</td>\n",
       "      <td>8.0</td>\n",
       "      <td>7.0</td>\n",
       "      <td>182.0</td>\n",
       "      <td>14.0</td>\n",
       "      <td>20.0</td>\n",
       "    </tr>\n",
       "    <tr>\n",
       "      <td>2</td>\n",
       "      <td>2</td>\n",
       "      <td>1001</td>\n",
       "      <td>Mickey</td>\n",
       "      <td>Wilkerson</td>\n",
       "      <td>28</td>\n",
       "      <td>Seattle-Tacoma-Bellevue, WA MSA</td>\n",
       "      <td>2018-08-13</td>\n",
       "      <td>surf</td>\n",
       "      <td>2018-12-31</td>\n",
       "      <td>9.0</td>\n",
       "      <td>14.0</td>\n",
       "      <td>315.0</td>\n",
       "      <td>23.0</td>\n",
       "      <td>20.0</td>\n",
       "    </tr>\n",
       "    <tr>\n",
       "      <td>3</td>\n",
       "      <td>3</td>\n",
       "      <td>1001</td>\n",
       "      <td>Mickey</td>\n",
       "      <td>Wilkerson</td>\n",
       "      <td>28</td>\n",
       "      <td>Seattle-Tacoma-Bellevue, WA MSA</td>\n",
       "      <td>2018-08-13</td>\n",
       "      <td>surf</td>\n",
       "      <td>2018-12-31</td>\n",
       "      <td>10.0</td>\n",
       "      <td>22.0</td>\n",
       "      <td>393.0</td>\n",
       "      <td>25.0</td>\n",
       "      <td>90.0</td>\n",
       "    </tr>\n",
       "    <tr>\n",
       "      <td>4</td>\n",
       "      <td>4</td>\n",
       "      <td>1001</td>\n",
       "      <td>Mickey</td>\n",
       "      <td>Wilkerson</td>\n",
       "      <td>28</td>\n",
       "      <td>Seattle-Tacoma-Bellevue, WA MSA</td>\n",
       "      <td>2018-08-13</td>\n",
       "      <td>surf</td>\n",
       "      <td>2018-12-31</td>\n",
       "      <td>11.0</td>\n",
       "      <td>19.0</td>\n",
       "      <td>426.0</td>\n",
       "      <td>19.0</td>\n",
       "      <td>60.0</td>\n",
       "    </tr>\n",
       "  </tbody>\n",
       "</table>\n",
       "</div>"
      ],
      "text/plain": [
       "   index  user_id first_name  last_name  age  \\\n",
       "0      0     1000   Anamaria      Bauer   45   \n",
       "1      1     1001     Mickey  Wilkerson   28   \n",
       "2      2     1001     Mickey  Wilkerson   28   \n",
       "3      3     1001     Mickey  Wilkerson   28   \n",
       "4      4     1001     Mickey  Wilkerson   28   \n",
       "\n",
       "                                    city   reg_date      plan churn_date  \\\n",
       "0  Atlanta-Sandy Springs-Roswell, GA MSA 2018-12-24  ultimate 2018-12-31   \n",
       "1        Seattle-Tacoma-Bellevue, WA MSA 2018-08-13      surf 2018-12-31   \n",
       "2        Seattle-Tacoma-Bellevue, WA MSA 2018-08-13      surf 2018-12-31   \n",
       "3        Seattle-Tacoma-Bellevue, WA MSA 2018-08-13      surf 2018-12-31   \n",
       "4        Seattle-Tacoma-Bellevue, WA MSA 2018-08-13      surf 2018-12-31   \n",
       "\n",
       "   month  gb_used  duration  messages_sent  revenue  \n",
       "0   12.0      2.0     124.0            7.0     70.0  \n",
       "1    8.0      7.0     182.0           14.0     20.0  \n",
       "2    9.0     14.0     315.0           23.0     20.0  \n",
       "3   10.0     22.0     393.0           25.0     90.0  \n",
       "4   11.0     19.0     426.0           19.0     60.0  "
      ]
     },
     "execution_count": 37,
     "metadata": {},
     "output_type": "execute_result"
    }
   ],
   "source": [
    "# Apply function to our data and create a new column to return the result\n",
    "final['revenue'] = final.apply(revenue, axis=1)\n",
    "final.head()"
   ]
  },
  {
   "cell_type": "code",
   "execution_count": 38,
   "id": "e531addc",
   "metadata": {},
   "outputs": [
    {
     "data": {
      "text/plain": [
       "count    2303.000000\n",
       "mean       75.435736\n",
       "std        59.769543\n",
       "min        20.000000\n",
       "25%        30.000000\n",
       "50%        70.000000\n",
       "75%        82.600000\n",
       "max       750.900000\n",
       "Name: revenue, dtype: float64"
      ]
     },
     "execution_count": 38,
     "metadata": {},
     "output_type": "execute_result"
    }
   ],
   "source": [
    "final.revenue.describe()"
   ]
  },
  {
   "cell_type": "markdown",
   "id": "5389309d",
   "metadata": {},
   "source": [
    "Let's check if the function left some of the users behind:"
   ]
  },
  {
   "cell_type": "code",
   "execution_count": 39,
   "id": "4ef6d678",
   "metadata": {},
   "outputs": [
    {
     "data": {
      "text/plain": [
       "array([1000, 1001, 1002, 1003, 1004, 1005, 1006, 1007, 1008, 1009, 1010,\n",
       "       1011, 1012, 1013, 1014, 1015, 1016, 1017, 1018, 1019, 1020, 1021,\n",
       "       1022, 1023, 1024, 1025, 1026, 1027, 1028, 1029, 1030, 1031, 1032,\n",
       "       1033, 1034, 1035, 1036, 1037, 1038, 1039, 1040, 1041, 1042, 1043,\n",
       "       1044, 1045, 1046, 1047, 1048, 1049, 1050, 1051, 1052, 1053, 1054,\n",
       "       1055, 1056, 1057, 1058, 1059, 1060, 1061, 1062, 1063, 1064, 1065,\n",
       "       1066, 1067, 1068, 1069, 1070, 1071, 1072, 1073, 1074, 1075, 1076,\n",
       "       1077, 1078, 1079, 1080, 1081, 1082, 1083, 1084, 1085, 1086, 1087,\n",
       "       1088, 1089, 1090, 1091, 1092, 1093, 1094, 1095, 1096, 1097, 1098,\n",
       "       1099, 1100, 1101, 1102, 1103, 1104, 1105, 1106, 1107, 1108, 1109,\n",
       "       1110, 1111, 1112, 1113, 1114, 1115, 1116, 1117, 1118, 1119, 1120,\n",
       "       1121, 1122, 1123, 1124, 1125, 1126, 1127, 1128, 1129, 1130, 1131,\n",
       "       1132, 1133, 1134, 1135, 1136, 1137, 1138, 1139, 1140, 1141, 1142,\n",
       "       1143, 1144, 1145, 1146, 1147, 1148, 1149, 1150, 1151, 1152, 1153,\n",
       "       1154, 1155, 1156, 1157, 1158, 1159, 1160, 1161, 1162, 1163, 1164,\n",
       "       1165, 1166, 1167, 1168, 1169, 1170, 1171, 1172, 1173, 1174, 1175,\n",
       "       1176, 1177, 1178, 1179, 1180, 1181, 1182, 1183, 1184, 1185, 1186,\n",
       "       1187, 1188, 1189, 1190, 1191, 1192, 1193, 1194, 1195, 1196, 1197,\n",
       "       1198, 1199, 1200, 1201, 1202, 1203, 1204, 1205, 1206, 1207, 1208,\n",
       "       1209, 1210, 1211, 1212, 1213, 1214, 1215, 1216, 1217, 1218, 1219,\n",
       "       1220, 1221, 1222, 1223, 1224, 1225, 1226, 1227, 1228, 1229, 1230,\n",
       "       1231, 1232, 1233, 1234, 1235, 1236, 1237, 1238, 1239, 1240, 1241,\n",
       "       1242, 1243, 1244, 1245, 1246, 1247, 1248, 1249, 1250, 1251, 1252,\n",
       "       1253, 1254, 1255, 1256, 1257, 1258, 1259, 1260, 1261, 1262, 1263,\n",
       "       1264, 1265, 1266, 1267, 1268, 1269, 1270, 1271, 1272, 1273, 1274,\n",
       "       1275, 1276, 1277, 1278, 1279, 1280, 1281, 1282, 1283, 1284, 1285,\n",
       "       1286, 1287, 1288, 1289, 1290, 1291, 1292, 1293, 1294, 1295, 1296,\n",
       "       1297, 1298, 1299, 1300, 1301, 1302, 1303, 1304, 1305, 1306, 1307,\n",
       "       1308, 1309, 1310, 1311, 1312, 1313, 1314, 1315, 1316, 1317, 1318,\n",
       "       1319, 1320, 1321, 1322, 1323, 1324, 1325, 1326, 1327, 1328, 1329,\n",
       "       1330, 1331, 1332, 1333, 1334, 1335, 1336, 1337, 1338, 1339, 1340,\n",
       "       1341, 1342, 1343, 1344, 1345, 1346, 1347, 1348, 1349, 1350, 1351,\n",
       "       1352, 1353, 1354, 1355, 1356, 1357, 1358, 1359, 1360, 1361, 1362,\n",
       "       1363, 1364, 1365, 1366, 1367, 1368, 1369, 1370, 1371, 1372, 1373,\n",
       "       1374, 1375, 1376, 1377, 1378, 1379, 1380, 1381, 1382, 1383, 1384,\n",
       "       1385, 1386, 1387, 1388, 1389, 1390, 1391, 1392, 1393, 1394, 1395,\n",
       "       1396, 1397, 1398, 1399, 1400, 1401, 1402, 1403, 1404, 1405, 1406,\n",
       "       1407, 1408, 1409, 1410, 1411, 1412, 1413, 1414, 1415, 1416, 1417,\n",
       "       1418, 1419, 1420, 1421, 1422, 1423, 1424, 1425, 1426, 1427, 1428,\n",
       "       1429, 1430, 1431, 1432, 1433, 1434, 1435, 1436, 1437, 1438, 1439,\n",
       "       1440, 1441, 1442, 1443, 1444, 1445, 1446, 1447, 1448, 1449, 1450,\n",
       "       1451, 1452, 1453, 1454, 1455, 1456, 1457, 1458, 1459, 1460, 1461,\n",
       "       1462, 1463, 1464, 1465, 1466, 1467, 1468, 1469, 1470, 1471, 1472,\n",
       "       1473, 1474, 1475, 1476, 1477, 1478, 1479, 1480, 1481, 1482, 1483,\n",
       "       1484, 1485, 1486, 1487, 1488, 1489, 1490, 1491, 1492, 1493, 1494,\n",
       "       1495, 1496, 1497, 1498, 1499])"
      ]
     },
     "execution_count": 39,
     "metadata": {},
     "output_type": "execute_result"
    }
   ],
   "source": [
    "# Create a list of users in the final datframe\n",
    "all_users = final['user_id'].unique()\n",
    "all_users"
   ]
  },
  {
   "cell_type": "code",
   "execution_count": 40,
   "id": "7ac303ed",
   "metadata": {},
   "outputs": [
    {
     "data": {
      "text/plain": [
       "500"
      ]
     },
     "execution_count": 40,
     "metadata": {},
     "output_type": "execute_result"
    }
   ],
   "source": [
    "len(all_users)"
   ]
  },
  {
   "cell_type": "markdown",
   "id": "c2251fca",
   "metadata": {},
   "source": [
    "Now that we made sure that all of the revenue is counted properly we can move on to visualysing our data."
   ]
  },
  {
   "cell_type": "markdown",
   "id": "5461c5a7",
   "metadata": {},
   "source": [
    "# 3 Analysing the data"
   ]
  },
  {
   "cell_type": "markdown",
   "id": "765ef838",
   "metadata": {},
   "source": [
    "The task of this part is to describe the customers' behavior. We will need to calculate the mean, dispersion, and standard deviation, plot histograms and describe the distributions."
   ]
  },
  {
   "cell_type": "code",
   "execution_count": 41,
   "id": "427f26db",
   "metadata": {},
   "outputs": [],
   "source": [
    "def boxplot_func(parameter):\n",
    "    # describing the plots' frame\n",
    "    fig = plt.figure(figsize=(20, 10))\n",
    "    gs = fig.add_gridspec(2, 2)\n",
    "    ax = fig.add_subplot(gs[0, 1]).set_title('Boxplot of {}'.format(parameter))\n",
    "    b = sns.boxplot(data=final, x=parameter, y='plan', showfliers=False)\n",
    "    ax = b.set_xlabel(parameter)\n",
    "    ax = b.set_ylabel('Plan')\n",
    "    print()"
   ]
  },
  {
   "cell_type": "code",
   "execution_count": 42,
   "id": "1301d0c6",
   "metadata": {},
   "outputs": [
    {
     "name": "stdout",
     "output_type": "stream",
     "text": [
      "\n",
      "\n",
      "\n"
     ]
    },
    {
     "data": {
      "image/png": "[encoded data removed]",
      "text/plain": [
       "<Figure size 1440x720 with 1 Axes>"
      ]
     },
     "metadata": {
      "needs_background": "light"
     },
     "output_type": "display_data"
    },
    {
     "data": {
      "image/png": "[encoded data removed]",
      "text/plain": [
       "<Figure size 1440x720 with 1 Axes>"
      ]
     },
     "metadata": {
      "needs_background": "light"
     },
     "output_type": "display_data"
    },
    {
     "data": {
      "image/png": "[encoded data removed]",
      "text/plain": [
       "<Figure size 1440x720 with 1 Axes>"
      ]
     },
     "metadata": {
      "needs_background": "light"
     },
     "output_type": "display_data"
    }
   ],
   "source": [
    "# Iterate through the parameters of interest\n",
    "for parameter in ['duration', 'gb_used', 'messages_sent']:\n",
    "    boxplot_func(parameter)"
   ]
  },
  {
   "cell_type": "markdown",
   "id": "354f7da0",
   "metadata": {},
   "source": [
    "A conclusion for boxplot graphs:\n",
    "\n",
    "- In both of the plans - surf and ultimate the duration of calls is similar\n",
    "- The usage of internet for ultimate plan users is slightly higher and less variated (the box is smaller)\n",
    "- The users of the ultimate plan sent more messages than the users of surf plan"
   ]
  },
  {
   "cell_type": "code",
   "execution_count": 43,
   "id": "bb43252a",
   "metadata": {},
   "outputs": [],
   "source": [
    "def description_func(parameter):\n",
    "    print('The histogram of: {}'.format(parameter))\n",
    "    ax = sns.histplot(data=final, bins=70, x=parameter, hue='plan')\n",
    "    print('-'*40)\n",
    "    print('Statistics on: {}'.format(parameter))\n",
    "    print('Standard deviation is {}'.format(final[parameter].std()))\n",
    "    print('Variance is {}'.format(final[parameter].var()))\n",
    "    print('Mean is {}'.format(final[parameter].mean()))"
   ]
  },
  {
   "cell_type": "code",
   "execution_count": 44,
   "id": "4e80a9c8",
   "metadata": {},
   "outputs": [
    {
     "name": "stdout",
     "output_type": "stream",
     "text": [
      "The histogram of: duration\n",
      "----------------------------------------\n",
      "Statistics on: duration\n",
      "Standard deviation is 236.3200769532499\n",
      "Variance is 55847.17877118995\n",
      "Mean is 429.2834714348016\n"
     ]
    },
    {
     "data": {
      "image/png": "[encoded data removed]",
      "text/plain": [
       "<Figure size 432x288 with 1 Axes>"
      ]
     },
     "metadata": {
      "needs_background": "light"
     },
     "output_type": "display_data"
    }
   ],
   "source": [
    "description_func('duration')"
   ]
  },
  {
   "cell_type": "code",
   "execution_count": 45,
   "id": "4d02cbf4",
   "metadata": {
    "scrolled": true
   },
   "outputs": [
    {
     "name": "stdout",
     "output_type": "stream",
     "text": [
      "The histogram of: gb_used\n",
      "----------------------------------------\n",
      "Statistics on: gb_used\n",
      "Standard deviation is 7.796174476419775\n",
      "Variance is 60.78033646677916\n",
      "Mean is 16.870475359790667\n"
     ]
    },
    {
     "data": {
      "image/png": "[encoded data removed]",
      "text/plain": [
       "<Figure size 432x288 with 1 Axes>"
      ]
     },
     "metadata": {
      "needs_background": "light"
     },
     "output_type": "display_data"
    }
   ],
   "source": [
    "description_func('gb_used')"
   ]
  },
  {
   "cell_type": "code",
   "execution_count": 46,
   "id": "937935fe",
   "metadata": {
    "scrolled": true
   },
   "outputs": [
    {
     "name": "stdout",
     "output_type": "stream",
     "text": [
      "The histogram of: messages_sent\n",
      "----------------------------------------\n",
      "Statistics on: messages_sent\n",
      "Standard deviation is 10.772946952516904\n",
      "Variance is 116.05638604174324\n",
      "Mean is 14.49760139555168\n"
     ]
    },
    {
     "data": {
      "image/png": "[encoded data removed]",
      "text/plain": [
       "<Figure size 432x288 with 1 Axes>"
      ]
     },
     "metadata": {
      "needs_background": "light"
     },
     "output_type": "display_data"
    }
   ],
   "source": [
    "description_func('messages_sent')"
   ]
  },
  {
   "cell_type": "markdown",
   "id": "e7559432",
   "metadata": {},
   "source": [
    "We can say, according to our graphs, that typically ultimate plan users had shorter conversations, less gygabytes used and less messages than users with surf plan."
   ]
  },
  {
   "cell_type": "markdown",
   "id": "169007d4",
   "metadata": {},
   "source": [
    "# 4 Test the hypotheses"
   ]
  },
  {
   "cell_type": "markdown",
   "id": "5607cde0",
   "metadata": {},
   "source": [
    "Our task now is to check to things: \n",
    "\n",
    "1. The average revenue from users of Ultimate and Surf calling plans differs.\n",
    "\n",
    "2. The average revenue from users in NY-NJ area is different from that of the users from other regions."
   ]
  },
  {
   "cell_type": "markdown",
   "id": "e6c4d9c9",
   "metadata": {},
   "source": [
    "### 4.1 First, we need to separate the dataframe according to plans"
   ]
  },
  {
   "cell_type": "code",
   "execution_count": 47,
   "id": "e9a33ed6",
   "metadata": {},
   "outputs": [
    {
     "data": {
      "text/html": [
       "<div>\n",
       "<style scoped>\n",
       "    .dataframe tbody tr th:only-of-type {\n",
       "        vertical-align: middle;\n",
       "    }\n",
       "\n",
       "    .dataframe tbody tr th {\n",
       "        vertical-align: top;\n",
       "    }\n",
       "\n",
       "    .dataframe thead th {\n",
       "        text-align: right;\n",
       "    }\n",
       "</style>\n",
       "<table border=\"1\" class=\"dataframe\">\n",
       "  <thead>\n",
       "    <tr style=\"text-align: right;\">\n",
       "      <th></th>\n",
       "      <th>index</th>\n",
       "      <th>user_id</th>\n",
       "      <th>first_name</th>\n",
       "      <th>last_name</th>\n",
       "      <th>age</th>\n",
       "      <th>city</th>\n",
       "      <th>reg_date</th>\n",
       "      <th>plan</th>\n",
       "      <th>churn_date</th>\n",
       "      <th>month</th>\n",
       "      <th>gb_used</th>\n",
       "      <th>duration</th>\n",
       "      <th>messages_sent</th>\n",
       "      <th>revenue</th>\n",
       "    </tr>\n",
       "  </thead>\n",
       "  <tbody>\n",
       "    <tr>\n",
       "      <td>0</td>\n",
       "      <td>0</td>\n",
       "      <td>1000</td>\n",
       "      <td>Anamaria</td>\n",
       "      <td>Bauer</td>\n",
       "      <td>45</td>\n",
       "      <td>Atlanta-Sandy Springs-Roswell, GA MSA</td>\n",
       "      <td>2018-12-24</td>\n",
       "      <td>ultimate</td>\n",
       "      <td>2018-12-31</td>\n",
       "      <td>12.0</td>\n",
       "      <td>2.0</td>\n",
       "      <td>124.0</td>\n",
       "      <td>7.0</td>\n",
       "      <td>70.0</td>\n",
       "    </tr>\n",
       "    <tr>\n",
       "      <td>19</td>\n",
       "      <td>19</td>\n",
       "      <td>1006</td>\n",
       "      <td>Jesusa</td>\n",
       "      <td>Bradford</td>\n",
       "      <td>73</td>\n",
       "      <td>San Francisco-Oakland-Berkeley, CA MSA</td>\n",
       "      <td>2018-11-27</td>\n",
       "      <td>ultimate</td>\n",
       "      <td>2018-12-18</td>\n",
       "      <td>11.0</td>\n",
       "      <td>3.0</td>\n",
       "      <td>10.0</td>\n",
       "      <td>3.0</td>\n",
       "      <td>70.0</td>\n",
       "    </tr>\n",
       "    <tr>\n",
       "      <td>20</td>\n",
       "      <td>20</td>\n",
       "      <td>1006</td>\n",
       "      <td>Jesusa</td>\n",
       "      <td>Bradford</td>\n",
       "      <td>73</td>\n",
       "      <td>San Francisco-Oakland-Berkeley, CA MSA</td>\n",
       "      <td>2018-11-27</td>\n",
       "      <td>ultimate</td>\n",
       "      <td>2018-12-18</td>\n",
       "      <td>12.0</td>\n",
       "      <td>32.0</td>\n",
       "      <td>59.0</td>\n",
       "      <td>31.0</td>\n",
       "      <td>84.0</td>\n",
       "    </tr>\n",
       "    <tr>\n",
       "      <td>26</td>\n",
       "      <td>26</td>\n",
       "      <td>1008</td>\n",
       "      <td>Emely</td>\n",
       "      <td>Hoffman</td>\n",
       "      <td>53</td>\n",
       "      <td>Orlando-Kissimmee-Sanford, FL MSA</td>\n",
       "      <td>2018-08-03</td>\n",
       "      <td>ultimate</td>\n",
       "      <td>2018-12-31</td>\n",
       "      <td>10.0</td>\n",
       "      <td>17.0</td>\n",
       "      <td>476.0</td>\n",
       "      <td>16.0</td>\n",
       "      <td>70.0</td>\n",
       "    </tr>\n",
       "    <tr>\n",
       "      <td>27</td>\n",
       "      <td>27</td>\n",
       "      <td>1008</td>\n",
       "      <td>Emely</td>\n",
       "      <td>Hoffman</td>\n",
       "      <td>53</td>\n",
       "      <td>Orlando-Kissimmee-Sanford, FL MSA</td>\n",
       "      <td>2018-08-03</td>\n",
       "      <td>ultimate</td>\n",
       "      <td>2018-12-31</td>\n",
       "      <td>11.0</td>\n",
       "      <td>24.0</td>\n",
       "      <td>446.0</td>\n",
       "      <td>21.0</td>\n",
       "      <td>70.0</td>\n",
       "    </tr>\n",
       "  </tbody>\n",
       "</table>\n",
       "</div>"
      ],
      "text/plain": [
       "    index  user_id first_name last_name  age  \\\n",
       "0       0     1000   Anamaria     Bauer   45   \n",
       "19     19     1006     Jesusa  Bradford   73   \n",
       "20     20     1006     Jesusa  Bradford   73   \n",
       "26     26     1008      Emely   Hoffman   53   \n",
       "27     27     1008      Emely   Hoffman   53   \n",
       "\n",
       "                                      city   reg_date      plan churn_date  \\\n",
       "0    Atlanta-Sandy Springs-Roswell, GA MSA 2018-12-24  ultimate 2018-12-31   \n",
       "19  San Francisco-Oakland-Berkeley, CA MSA 2018-11-27  ultimate 2018-12-18   \n",
       "20  San Francisco-Oakland-Berkeley, CA MSA 2018-11-27  ultimate 2018-12-18   \n",
       "26       Orlando-Kissimmee-Sanford, FL MSA 2018-08-03  ultimate 2018-12-31   \n",
       "27       Orlando-Kissimmee-Sanford, FL MSA 2018-08-03  ultimate 2018-12-31   \n",
       "\n",
       "    month  gb_used  duration  messages_sent  revenue  \n",
       "0    12.0      2.0     124.0            7.0     70.0  \n",
       "19   11.0      3.0      10.0            3.0     70.0  \n",
       "20   12.0     32.0      59.0           31.0     84.0  \n",
       "26   10.0     17.0     476.0           16.0     70.0  \n",
       "27   11.0     24.0     446.0           21.0     70.0  "
      ]
     },
     "execution_count": 47,
     "metadata": {},
     "output_type": "execute_result"
    }
   ],
   "source": [
    "ultimate = final.query('plan == \"ultimate\"')\n",
    "ultimate.head()"
   ]
  },
  {
   "cell_type": "code",
   "execution_count": 48,
   "id": "94be49d9",
   "metadata": {
    "scrolled": true
   },
   "outputs": [
    {
     "data": {
      "text/html": [
       "<div>\n",
       "<style scoped>\n",
       "    .dataframe tbody tr th:only-of-type {\n",
       "        vertical-align: middle;\n",
       "    }\n",
       "\n",
       "    .dataframe tbody tr th {\n",
       "        vertical-align: top;\n",
       "    }\n",
       "\n",
       "    .dataframe thead th {\n",
       "        text-align: right;\n",
       "    }\n",
       "</style>\n",
       "<table border=\"1\" class=\"dataframe\">\n",
       "  <thead>\n",
       "    <tr style=\"text-align: right;\">\n",
       "      <th></th>\n",
       "      <th>index</th>\n",
       "      <th>user_id</th>\n",
       "      <th>first_name</th>\n",
       "      <th>last_name</th>\n",
       "      <th>age</th>\n",
       "      <th>city</th>\n",
       "      <th>reg_date</th>\n",
       "      <th>plan</th>\n",
       "      <th>churn_date</th>\n",
       "      <th>month</th>\n",
       "      <th>gb_used</th>\n",
       "      <th>duration</th>\n",
       "      <th>messages_sent</th>\n",
       "      <th>revenue</th>\n",
       "    </tr>\n",
       "  </thead>\n",
       "  <tbody>\n",
       "    <tr>\n",
       "      <td>1</td>\n",
       "      <td>1</td>\n",
       "      <td>1001</td>\n",
       "      <td>Mickey</td>\n",
       "      <td>Wilkerson</td>\n",
       "      <td>28</td>\n",
       "      <td>Seattle-Tacoma-Bellevue, WA MSA</td>\n",
       "      <td>2018-08-13</td>\n",
       "      <td>surf</td>\n",
       "      <td>2018-12-31</td>\n",
       "      <td>8.0</td>\n",
       "      <td>7.0</td>\n",
       "      <td>182.0</td>\n",
       "      <td>14.0</td>\n",
       "      <td>20.0</td>\n",
       "    </tr>\n",
       "    <tr>\n",
       "      <td>2</td>\n",
       "      <td>2</td>\n",
       "      <td>1001</td>\n",
       "      <td>Mickey</td>\n",
       "      <td>Wilkerson</td>\n",
       "      <td>28</td>\n",
       "      <td>Seattle-Tacoma-Bellevue, WA MSA</td>\n",
       "      <td>2018-08-13</td>\n",
       "      <td>surf</td>\n",
       "      <td>2018-12-31</td>\n",
       "      <td>9.0</td>\n",
       "      <td>14.0</td>\n",
       "      <td>315.0</td>\n",
       "      <td>23.0</td>\n",
       "      <td>20.0</td>\n",
       "    </tr>\n",
       "    <tr>\n",
       "      <td>3</td>\n",
       "      <td>3</td>\n",
       "      <td>1001</td>\n",
       "      <td>Mickey</td>\n",
       "      <td>Wilkerson</td>\n",
       "      <td>28</td>\n",
       "      <td>Seattle-Tacoma-Bellevue, WA MSA</td>\n",
       "      <td>2018-08-13</td>\n",
       "      <td>surf</td>\n",
       "      <td>2018-12-31</td>\n",
       "      <td>10.0</td>\n",
       "      <td>22.0</td>\n",
       "      <td>393.0</td>\n",
       "      <td>25.0</td>\n",
       "      <td>90.0</td>\n",
       "    </tr>\n",
       "    <tr>\n",
       "      <td>4</td>\n",
       "      <td>4</td>\n",
       "      <td>1001</td>\n",
       "      <td>Mickey</td>\n",
       "      <td>Wilkerson</td>\n",
       "      <td>28</td>\n",
       "      <td>Seattle-Tacoma-Bellevue, WA MSA</td>\n",
       "      <td>2018-08-13</td>\n",
       "      <td>surf</td>\n",
       "      <td>2018-12-31</td>\n",
       "      <td>11.0</td>\n",
       "      <td>19.0</td>\n",
       "      <td>426.0</td>\n",
       "      <td>19.0</td>\n",
       "      <td>60.0</td>\n",
       "    </tr>\n",
       "    <tr>\n",
       "      <td>5</td>\n",
       "      <td>5</td>\n",
       "      <td>1001</td>\n",
       "      <td>Mickey</td>\n",
       "      <td>Wilkerson</td>\n",
       "      <td>28</td>\n",
       "      <td>Seattle-Tacoma-Bellevue, WA MSA</td>\n",
       "      <td>2018-08-13</td>\n",
       "      <td>surf</td>\n",
       "      <td>2018-12-31</td>\n",
       "      <td>12.0</td>\n",
       "      <td>19.0</td>\n",
       "      <td>412.0</td>\n",
       "      <td>25.0</td>\n",
       "      <td>60.0</td>\n",
       "    </tr>\n",
       "  </tbody>\n",
       "</table>\n",
       "</div>"
      ],
      "text/plain": [
       "   index  user_id first_name  last_name  age                             city  \\\n",
       "1      1     1001     Mickey  Wilkerson   28  Seattle-Tacoma-Bellevue, WA MSA   \n",
       "2      2     1001     Mickey  Wilkerson   28  Seattle-Tacoma-Bellevue, WA MSA   \n",
       "3      3     1001     Mickey  Wilkerson   28  Seattle-Tacoma-Bellevue, WA MSA   \n",
       "4      4     1001     Mickey  Wilkerson   28  Seattle-Tacoma-Bellevue, WA MSA   \n",
       "5      5     1001     Mickey  Wilkerson   28  Seattle-Tacoma-Bellevue, WA MSA   \n",
       "\n",
       "    reg_date  plan churn_date  month  gb_used  duration  messages_sent  \\\n",
       "1 2018-08-13  surf 2018-12-31    8.0      7.0     182.0           14.0   \n",
       "2 2018-08-13  surf 2018-12-31    9.0     14.0     315.0           23.0   \n",
       "3 2018-08-13  surf 2018-12-31   10.0     22.0     393.0           25.0   \n",
       "4 2018-08-13  surf 2018-12-31   11.0     19.0     426.0           19.0   \n",
       "5 2018-08-13  surf 2018-12-31   12.0     19.0     412.0           25.0   \n",
       "\n",
       "   revenue  \n",
       "1     20.0  \n",
       "2     20.0  \n",
       "3     90.0  \n",
       "4     60.0  \n",
       "5     60.0  "
      ]
     },
     "execution_count": 48,
     "metadata": {},
     "output_type": "execute_result"
    }
   ],
   "source": [
    "surf = final.query('plan == \"surf\"')\n",
    "surf.head()"
   ]
  },
  {
   "cell_type": "code",
   "execution_count": 49,
   "id": "410056d8",
   "metadata": {},
   "outputs": [
    {
     "data": {
      "text/plain": [
       "1        20.0\n",
       "2        20.0\n",
       "3        90.0\n",
       "4        60.0\n",
       "5        60.0\n",
       "        ...  \n",
       "2298    100.0\n",
       "2299     20.0\n",
       "2300     70.0\n",
       "2301     40.0\n",
       "2302     90.0\n",
       "Name: revenue, Length: 1579, dtype: float64"
      ]
     },
     "execution_count": 49,
     "metadata": {},
     "output_type": "execute_result"
    }
   ],
   "source": [
    "# Store all the revenue values in a variable\n",
    "surf_revenue = surf['revenue']\n",
    "surf_revenue"
   ]
  },
  {
   "cell_type": "code",
   "execution_count": 50,
   "id": "e9197a86",
   "metadata": {},
   "outputs": [
    {
     "data": {
      "text/plain": [
       "0       70.0\n",
       "19      70.0\n",
       "20      84.0\n",
       "26      70.0\n",
       "27      70.0\n",
       "        ... \n",
       "2268    70.0\n",
       "2269    70.0\n",
       "2270    70.0\n",
       "2271    70.0\n",
       "2287    70.0\n",
       "Name: revenue, Length: 724, dtype: float64"
      ]
     },
     "execution_count": 50,
     "metadata": {},
     "output_type": "execute_result"
    }
   ],
   "source": [
    "ultimate_revenue = ultimate['revenue']\n",
    "ultimate_revenue"
   ]
  },
  {
   "cell_type": "markdown",
   "id": "55c2441d",
   "metadata": {},
   "source": [
    "Now that our data is filtered and ready lets formulate our null hypothesis: that would be a status quo statement that there really is no difference between the mean revenue of ultimate plan user and surf plan users:\n",
    "\n",
    "$ H_{0}:$ $\\bar{x}_{surf} = \\bar{x}_{ultimate} $\n",
    "\n",
    "Then the alternative hypothesis states that surf users and ultimate users bring in a different revenue:\n",
    "\n",
    "$ H_{1}:$ $\\bar{x}_{surf} \\neq \\bar{x}_{ultimate} $"
   ]
  },
  {
   "cell_type": "markdown",
   "id": "3dc77331",
   "metadata": {},
   "source": [
    "Because we are comparing the means of two independent groups we choose to perform a t-test. Knowing that the t-test requires the variances in both samples to be homogeneous before performing it we will run the Leven's test. Levene's test has its' own null hypothesis, stating that the groups we're comparing all have equal variances.\n",
    "If this is true, we'll probably find slightly different variances in our samples. However, very different sample variances suggests that the samples' variances weren't equal after all. In this case we'll reject the null hypothesis of equal population variances. If the resulting p-value of Leven's test will be less than our level of significance (0.05), it would indicate that the resulting differences in sample variances are unlikely to occur and the null hypothesys will be rejected."
   ]
  },
  {
   "cell_type": "code",
   "execution_count": 51,
   "id": "b3a146a9",
   "metadata": {},
   "outputs": [],
   "source": [
    "alpha = 0.05 # stating the level of statistical significance"
   ]
  },
  {
   "cell_type": "code",
   "execution_count": 52,
   "id": "5602e9d9",
   "metadata": {},
   "outputs": [
    {
     "data": {
      "text/plain": [
       "LeveneResult(statistic=658.4651628443432, pvalue=6.322146582859326e-128)"
      ]
     },
     "execution_count": 52,
     "metadata": {},
     "output_type": "execute_result"
    }
   ],
   "source": [
    "st.levene(surf_revenue, ultimate_revenue, center='mean')       "
   ]
  },
  {
   "cell_type": "markdown",
   "id": "8a525aef",
   "metadata": {},
   "source": [
    "As we see, the p-value of significance is quite high and it means that our variances are different enough that we must reflect it in the `st.ttest_ind()` by passing the `equal_var=False` argument."
   ]
  },
  {
   "cell_type": "code",
   "execution_count": 53,
   "id": "fbff31fb",
   "metadata": {},
   "outputs": [],
   "source": [
    "results1 = st.ttest_ind(surf_revenue, ultimate_revenue, equal_var=False)"
   ]
  },
  {
   "cell_type": "code",
   "execution_count": 54,
   "id": "85916284",
   "metadata": {},
   "outputs": [
    {
     "name": "stdout",
     "output_type": "stream",
     "text": [
      "p-value: 0.013758505144333825\n"
     ]
    }
   ],
   "source": [
    "print('p-value:', results1.pvalue)"
   ]
  },
  {
   "cell_type": "markdown",
   "id": "016f86d0",
   "metadata": {},
   "source": [
    "This is the result of our t-test, lets compare it to the significance level and see if we can or can not reject the null hypotheses."
   ]
  },
  {
   "cell_type": "code",
   "execution_count": 55,
   "id": "bf70684e",
   "metadata": {},
   "outputs": [
    {
     "name": "stdout",
     "output_type": "stream",
     "text": [
      "We reject the null hypothesis\n"
     ]
    }
   ],
   "source": [
    "if results1.pvalue < alpha:\n",
    "    print(\"We reject the null hypothesis\")\n",
    "else:\n",
    "    print(\"We can't reject the null hypothesis\")"
   ]
  },
  {
   "cell_type": "code",
   "execution_count": 56,
   "id": "2b362c2c",
   "metadata": {},
   "outputs": [
    {
     "name": "stdout",
     "output_type": "stream",
     "text": [
      "Surf plan average revenue is 76.87302089930336\n",
      "Ultimate plan average revenue is 72.3011049723757\n"
     ]
    }
   ],
   "source": [
    "print('Surf plan average revenue is', surf_revenue.mean())\n",
    "print('Ultimate plan average revenue is', ultimate_revenue.mean())"
   ]
  },
  {
   "cell_type": "markdown",
   "id": "90c323b1",
   "metadata": {},
   "source": [
    "If the sample was done properly and is representing the general population, then we can state with 95% confidence that there is some difference between average revenue from users with Ultimate and Surf plans. Have a look at the average revenues - Surf plan users brought in slightly higher profits. \n",
    "Otherwise, we don't know the answer."
   ]
  },
  {
   "cell_type": "markdown",
   "id": "0daf6715",
   "metadata": {},
   "source": [
    "### 4.2 Lets filter our data again by regions"
   ]
  },
  {
   "cell_type": "code",
   "execution_count": 57,
   "id": "4a248199",
   "metadata": {},
   "outputs": [
    {
     "data": {
      "text/html": [
       "<div>\n",
       "<style scoped>\n",
       "    .dataframe tbody tr th:only-of-type {\n",
       "        vertical-align: middle;\n",
       "    }\n",
       "\n",
       "    .dataframe tbody tr th {\n",
       "        vertical-align: top;\n",
       "    }\n",
       "\n",
       "    .dataframe thead th {\n",
       "        text-align: right;\n",
       "    }\n",
       "</style>\n",
       "<table border=\"1\" class=\"dataframe\">\n",
       "  <thead>\n",
       "    <tr style=\"text-align: right;\">\n",
       "      <th></th>\n",
       "      <th>index</th>\n",
       "      <th>user_id</th>\n",
       "      <th>first_name</th>\n",
       "      <th>last_name</th>\n",
       "      <th>age</th>\n",
       "      <th>city</th>\n",
       "      <th>reg_date</th>\n",
       "      <th>plan</th>\n",
       "      <th>churn_date</th>\n",
       "      <th>month</th>\n",
       "      <th>gb_used</th>\n",
       "      <th>duration</th>\n",
       "      <th>messages_sent</th>\n",
       "      <th>revenue</th>\n",
       "    </tr>\n",
       "  </thead>\n",
       "  <tbody>\n",
       "    <tr>\n",
       "      <td>56</td>\n",
       "      <td>56</td>\n",
       "      <td>1014</td>\n",
       "      <td>Edmundo</td>\n",
       "      <td>Simon</td>\n",
       "      <td>61</td>\n",
       "      <td>New York-Newark-Jersey City, NY-NJ-PA MSA</td>\n",
       "      <td>2018-11-25</td>\n",
       "      <td>surf</td>\n",
       "      <td>2018-12-31</td>\n",
       "      <td>11.0</td>\n",
       "      <td>2.0</td>\n",
       "      <td>163.0</td>\n",
       "      <td>5.0</td>\n",
       "      <td>20.0</td>\n",
       "    </tr>\n",
       "    <tr>\n",
       "      <td>57</td>\n",
       "      <td>57</td>\n",
       "      <td>1014</td>\n",
       "      <td>Edmundo</td>\n",
       "      <td>Simon</td>\n",
       "      <td>61</td>\n",
       "      <td>New York-Newark-Jersey City, NY-NJ-PA MSA</td>\n",
       "      <td>2018-11-25</td>\n",
       "      <td>surf</td>\n",
       "      <td>2018-12-31</td>\n",
       "      <td>12.0</td>\n",
       "      <td>8.0</td>\n",
       "      <td>1114.0</td>\n",
       "      <td>27.0</td>\n",
       "      <td>204.2</td>\n",
       "    </tr>\n",
       "    <tr>\n",
       "      <td>75</td>\n",
       "      <td>75</td>\n",
       "      <td>1022</td>\n",
       "      <td>Bo</td>\n",
       "      <td>Snow</td>\n",
       "      <td>73</td>\n",
       "      <td>New York-Newark-Jersey City, NY-NJ-PA MSA</td>\n",
       "      <td>2018-04-20</td>\n",
       "      <td>surf</td>\n",
       "      <td>2018-09-07</td>\n",
       "      <td>5.0</td>\n",
       "      <td>5.0</td>\n",
       "      <td>302.0</td>\n",
       "      <td>0.0</td>\n",
       "      <td>20.0</td>\n",
       "    </tr>\n",
       "    <tr>\n",
       "      <td>76</td>\n",
       "      <td>76</td>\n",
       "      <td>1022</td>\n",
       "      <td>Bo</td>\n",
       "      <td>Snow</td>\n",
       "      <td>73</td>\n",
       "      <td>New York-Newark-Jersey City, NY-NJ-PA MSA</td>\n",
       "      <td>2018-04-20</td>\n",
       "      <td>surf</td>\n",
       "      <td>2018-09-07</td>\n",
       "      <td>6.0</td>\n",
       "      <td>23.0</td>\n",
       "      <td>490.0</td>\n",
       "      <td>0.0</td>\n",
       "      <td>100.0</td>\n",
       "    </tr>\n",
       "    <tr>\n",
       "      <td>77</td>\n",
       "      <td>77</td>\n",
       "      <td>1022</td>\n",
       "      <td>Bo</td>\n",
       "      <td>Snow</td>\n",
       "      <td>73</td>\n",
       "      <td>New York-Newark-Jersey City, NY-NJ-PA MSA</td>\n",
       "      <td>2018-04-20</td>\n",
       "      <td>surf</td>\n",
       "      <td>2018-09-07</td>\n",
       "      <td>7.0</td>\n",
       "      <td>10.0</td>\n",
       "      <td>475.0</td>\n",
       "      <td>0.0</td>\n",
       "      <td>20.0</td>\n",
       "    </tr>\n",
       "    <tr>\n",
       "      <td>...</td>\n",
       "      <td>...</td>\n",
       "      <td>...</td>\n",
       "      <td>...</td>\n",
       "      <td>...</td>\n",
       "      <td>...</td>\n",
       "      <td>...</td>\n",
       "      <td>...</td>\n",
       "      <td>...</td>\n",
       "      <td>...</td>\n",
       "      <td>...</td>\n",
       "      <td>...</td>\n",
       "      <td>...</td>\n",
       "      <td>...</td>\n",
       "      <td>...</td>\n",
       "    </tr>\n",
       "    <tr>\n",
       "      <td>2294</td>\n",
       "      <td>2294</td>\n",
       "      <td>1498</td>\n",
       "      <td>Scot</td>\n",
       "      <td>Williamson</td>\n",
       "      <td>51</td>\n",
       "      <td>New York-Newark-Jersey City, NY-NJ-PA MSA</td>\n",
       "      <td>2018-02-04</td>\n",
       "      <td>surf</td>\n",
       "      <td>2018-12-31</td>\n",
       "      <td>8.0</td>\n",
       "      <td>20.0</td>\n",
       "      <td>266.0</td>\n",
       "      <td>0.0</td>\n",
       "      <td>70.0</td>\n",
       "    </tr>\n",
       "    <tr>\n",
       "      <td>2295</td>\n",
       "      <td>2295</td>\n",
       "      <td>1498</td>\n",
       "      <td>Scot</td>\n",
       "      <td>Williamson</td>\n",
       "      <td>51</td>\n",
       "      <td>New York-Newark-Jersey City, NY-NJ-PA MSA</td>\n",
       "      <td>2018-02-04</td>\n",
       "      <td>surf</td>\n",
       "      <td>2018-12-31</td>\n",
       "      <td>9.0</td>\n",
       "      <td>23.0</td>\n",
       "      <td>363.0</td>\n",
       "      <td>0.0</td>\n",
       "      <td>100.0</td>\n",
       "    </tr>\n",
       "    <tr>\n",
       "      <td>2296</td>\n",
       "      <td>2296</td>\n",
       "      <td>1498</td>\n",
       "      <td>Scot</td>\n",
       "      <td>Williamson</td>\n",
       "      <td>51</td>\n",
       "      <td>New York-Newark-Jersey City, NY-NJ-PA MSA</td>\n",
       "      <td>2018-02-04</td>\n",
       "      <td>surf</td>\n",
       "      <td>2018-12-31</td>\n",
       "      <td>10.0</td>\n",
       "      <td>21.0</td>\n",
       "      <td>298.0</td>\n",
       "      <td>0.0</td>\n",
       "      <td>80.0</td>\n",
       "    </tr>\n",
       "    <tr>\n",
       "      <td>2297</td>\n",
       "      <td>2297</td>\n",
       "      <td>1498</td>\n",
       "      <td>Scot</td>\n",
       "      <td>Williamson</td>\n",
       "      <td>51</td>\n",
       "      <td>New York-Newark-Jersey City, NY-NJ-PA MSA</td>\n",
       "      <td>2018-02-04</td>\n",
       "      <td>surf</td>\n",
       "      <td>2018-12-31</td>\n",
       "      <td>11.0</td>\n",
       "      <td>19.0</td>\n",
       "      <td>223.0</td>\n",
       "      <td>0.0</td>\n",
       "      <td>60.0</td>\n",
       "    </tr>\n",
       "    <tr>\n",
       "      <td>2298</td>\n",
       "      <td>2298</td>\n",
       "      <td>1498</td>\n",
       "      <td>Scot</td>\n",
       "      <td>Williamson</td>\n",
       "      <td>51</td>\n",
       "      <td>New York-Newark-Jersey City, NY-NJ-PA MSA</td>\n",
       "      <td>2018-02-04</td>\n",
       "      <td>surf</td>\n",
       "      <td>2018-12-31</td>\n",
       "      <td>12.0</td>\n",
       "      <td>23.0</td>\n",
       "      <td>339.0</td>\n",
       "      <td>0.0</td>\n",
       "      <td>100.0</td>\n",
       "    </tr>\n",
       "  </tbody>\n",
       "</table>\n",
       "<p>407 rows × 14 columns</p>\n",
       "</div>"
      ],
      "text/plain": [
       "      index  user_id first_name   last_name  age  \\\n",
       "56       56     1014    Edmundo       Simon   61   \n",
       "57       57     1014    Edmundo       Simon   61   \n",
       "75       75     1022         Bo        Snow   73   \n",
       "76       76     1022         Bo        Snow   73   \n",
       "77       77     1022         Bo        Snow   73   \n",
       "...     ...      ...        ...         ...  ...   \n",
       "2294   2294     1498       Scot  Williamson   51   \n",
       "2295   2295     1498       Scot  Williamson   51   \n",
       "2296   2296     1498       Scot  Williamson   51   \n",
       "2297   2297     1498       Scot  Williamson   51   \n",
       "2298   2298     1498       Scot  Williamson   51   \n",
       "\n",
       "                                           city   reg_date  plan churn_date  \\\n",
       "56    New York-Newark-Jersey City, NY-NJ-PA MSA 2018-11-25  surf 2018-12-31   \n",
       "57    New York-Newark-Jersey City, NY-NJ-PA MSA 2018-11-25  surf 2018-12-31   \n",
       "75    New York-Newark-Jersey City, NY-NJ-PA MSA 2018-04-20  surf 2018-09-07   \n",
       "76    New York-Newark-Jersey City, NY-NJ-PA MSA 2018-04-20  surf 2018-09-07   \n",
       "77    New York-Newark-Jersey City, NY-NJ-PA MSA 2018-04-20  surf 2018-09-07   \n",
       "...                                         ...        ...   ...        ...   \n",
       "2294  New York-Newark-Jersey City, NY-NJ-PA MSA 2018-02-04  surf 2018-12-31   \n",
       "2295  New York-Newark-Jersey City, NY-NJ-PA MSA 2018-02-04  surf 2018-12-31   \n",
       "2296  New York-Newark-Jersey City, NY-NJ-PA MSA 2018-02-04  surf 2018-12-31   \n",
       "2297  New York-Newark-Jersey City, NY-NJ-PA MSA 2018-02-04  surf 2018-12-31   \n",
       "2298  New York-Newark-Jersey City, NY-NJ-PA MSA 2018-02-04  surf 2018-12-31   \n",
       "\n",
       "      month  gb_used  duration  messages_sent  revenue  \n",
       "56     11.0      2.0     163.0            5.0     20.0  \n",
       "57     12.0      8.0    1114.0           27.0    204.2  \n",
       "75      5.0      5.0     302.0            0.0     20.0  \n",
       "76      6.0     23.0     490.0            0.0    100.0  \n",
       "77      7.0     10.0     475.0            0.0     20.0  \n",
       "...     ...      ...       ...            ...      ...  \n",
       "2294    8.0     20.0     266.0            0.0     70.0  \n",
       "2295    9.0     23.0     363.0            0.0    100.0  \n",
       "2296   10.0     21.0     298.0            0.0     80.0  \n",
       "2297   11.0     19.0     223.0            0.0     60.0  \n",
       "2298   12.0     23.0     339.0            0.0    100.0  \n",
       "\n",
       "[407 rows x 14 columns]"
      ]
     },
     "execution_count": 57,
     "metadata": {},
     "output_type": "execute_result"
    }
   ],
   "source": [
    "# Filter out all of the users from  NY-NJ region\n",
    "ny_nj_reg = final[final['city'].str.contains(\"NY\")]\n",
    "ny_nj_reg"
   ]
  },
  {
   "cell_type": "code",
   "execution_count": 58,
   "id": "97dc2351",
   "metadata": {},
   "outputs": [
    {
     "data": {
      "text/html": [
       "<div>\n",
       "<style scoped>\n",
       "    .dataframe tbody tr th:only-of-type {\n",
       "        vertical-align: middle;\n",
       "    }\n",
       "\n",
       "    .dataframe tbody tr th {\n",
       "        vertical-align: top;\n",
       "    }\n",
       "\n",
       "    .dataframe thead th {\n",
       "        text-align: right;\n",
       "    }\n",
       "</style>\n",
       "<table border=\"1\" class=\"dataframe\">\n",
       "  <thead>\n",
       "    <tr style=\"text-align: right;\">\n",
       "      <th></th>\n",
       "      <th>index</th>\n",
       "      <th>user_id</th>\n",
       "      <th>first_name</th>\n",
       "      <th>last_name</th>\n",
       "      <th>age</th>\n",
       "      <th>city</th>\n",
       "      <th>reg_date</th>\n",
       "      <th>plan</th>\n",
       "      <th>churn_date</th>\n",
       "      <th>month</th>\n",
       "      <th>gb_used</th>\n",
       "      <th>duration</th>\n",
       "      <th>messages_sent</th>\n",
       "      <th>revenue</th>\n",
       "    </tr>\n",
       "  </thead>\n",
       "  <tbody>\n",
       "    <tr>\n",
       "      <td>0</td>\n",
       "      <td>0</td>\n",
       "      <td>1000</td>\n",
       "      <td>Anamaria</td>\n",
       "      <td>Bauer</td>\n",
       "      <td>45</td>\n",
       "      <td>Atlanta-Sandy Springs-Roswell, GA MSA</td>\n",
       "      <td>2018-12-24</td>\n",
       "      <td>ultimate</td>\n",
       "      <td>2018-12-31</td>\n",
       "      <td>12.0</td>\n",
       "      <td>2.0</td>\n",
       "      <td>124.0</td>\n",
       "      <td>7.0</td>\n",
       "      <td>70.0</td>\n",
       "    </tr>\n",
       "    <tr>\n",
       "      <td>1</td>\n",
       "      <td>1</td>\n",
       "      <td>1001</td>\n",
       "      <td>Mickey</td>\n",
       "      <td>Wilkerson</td>\n",
       "      <td>28</td>\n",
       "      <td>Seattle-Tacoma-Bellevue, WA MSA</td>\n",
       "      <td>2018-08-13</td>\n",
       "      <td>surf</td>\n",
       "      <td>2018-12-31</td>\n",
       "      <td>8.0</td>\n",
       "      <td>7.0</td>\n",
       "      <td>182.0</td>\n",
       "      <td>14.0</td>\n",
       "      <td>20.0</td>\n",
       "    </tr>\n",
       "    <tr>\n",
       "      <td>2</td>\n",
       "      <td>2</td>\n",
       "      <td>1001</td>\n",
       "      <td>Mickey</td>\n",
       "      <td>Wilkerson</td>\n",
       "      <td>28</td>\n",
       "      <td>Seattle-Tacoma-Bellevue, WA MSA</td>\n",
       "      <td>2018-08-13</td>\n",
       "      <td>surf</td>\n",
       "      <td>2018-12-31</td>\n",
       "      <td>9.0</td>\n",
       "      <td>14.0</td>\n",
       "      <td>315.0</td>\n",
       "      <td>23.0</td>\n",
       "      <td>20.0</td>\n",
       "    </tr>\n",
       "    <tr>\n",
       "      <td>3</td>\n",
       "      <td>3</td>\n",
       "      <td>1001</td>\n",
       "      <td>Mickey</td>\n",
       "      <td>Wilkerson</td>\n",
       "      <td>28</td>\n",
       "      <td>Seattle-Tacoma-Bellevue, WA MSA</td>\n",
       "      <td>2018-08-13</td>\n",
       "      <td>surf</td>\n",
       "      <td>2018-12-31</td>\n",
       "      <td>10.0</td>\n",
       "      <td>22.0</td>\n",
       "      <td>393.0</td>\n",
       "      <td>25.0</td>\n",
       "      <td>90.0</td>\n",
       "    </tr>\n",
       "    <tr>\n",
       "      <td>4</td>\n",
       "      <td>4</td>\n",
       "      <td>1001</td>\n",
       "      <td>Mickey</td>\n",
       "      <td>Wilkerson</td>\n",
       "      <td>28</td>\n",
       "      <td>Seattle-Tacoma-Bellevue, WA MSA</td>\n",
       "      <td>2018-08-13</td>\n",
       "      <td>surf</td>\n",
       "      <td>2018-12-31</td>\n",
       "      <td>11.0</td>\n",
       "      <td>19.0</td>\n",
       "      <td>426.0</td>\n",
       "      <td>19.0</td>\n",
       "      <td>60.0</td>\n",
       "    </tr>\n",
       "    <tr>\n",
       "      <td>...</td>\n",
       "      <td>...</td>\n",
       "      <td>...</td>\n",
       "      <td>...</td>\n",
       "      <td>...</td>\n",
       "      <td>...</td>\n",
       "      <td>...</td>\n",
       "      <td>...</td>\n",
       "      <td>...</td>\n",
       "      <td>...</td>\n",
       "      <td>...</td>\n",
       "      <td>...</td>\n",
       "      <td>...</td>\n",
       "      <td>...</td>\n",
       "      <td>...</td>\n",
       "    </tr>\n",
       "    <tr>\n",
       "      <td>2287</td>\n",
       "      <td>2287</td>\n",
       "      <td>1497</td>\n",
       "      <td>Donte</td>\n",
       "      <td>Barrera</td>\n",
       "      <td>49</td>\n",
       "      <td>Los Angeles-Long Beach-Anaheim, CA MSA</td>\n",
       "      <td>2018-12-10</td>\n",
       "      <td>ultimate</td>\n",
       "      <td>2018-12-31</td>\n",
       "      <td>12.0</td>\n",
       "      <td>11.0</td>\n",
       "      <td>300.0</td>\n",
       "      <td>20.0</td>\n",
       "      <td>70.0</td>\n",
       "    </tr>\n",
       "    <tr>\n",
       "      <td>2299</td>\n",
       "      <td>2299</td>\n",
       "      <td>1499</td>\n",
       "      <td>Shena</td>\n",
       "      <td>Dickson</td>\n",
       "      <td>37</td>\n",
       "      <td>Orlando-Kissimmee-Sanford, FL MSA</td>\n",
       "      <td>2018-05-06</td>\n",
       "      <td>surf</td>\n",
       "      <td>2018-12-31</td>\n",
       "      <td>9.0</td>\n",
       "      <td>13.0</td>\n",
       "      <td>346.0</td>\n",
       "      <td>0.0</td>\n",
       "      <td>20.0</td>\n",
       "    </tr>\n",
       "    <tr>\n",
       "      <td>2300</td>\n",
       "      <td>2300</td>\n",
       "      <td>1499</td>\n",
       "      <td>Shena</td>\n",
       "      <td>Dickson</td>\n",
       "      <td>37</td>\n",
       "      <td>Orlando-Kissimmee-Sanford, FL MSA</td>\n",
       "      <td>2018-05-06</td>\n",
       "      <td>surf</td>\n",
       "      <td>2018-12-31</td>\n",
       "      <td>10.0</td>\n",
       "      <td>20.0</td>\n",
       "      <td>385.0</td>\n",
       "      <td>0.0</td>\n",
       "      <td>70.0</td>\n",
       "    </tr>\n",
       "    <tr>\n",
       "      <td>2301</td>\n",
       "      <td>2301</td>\n",
       "      <td>1499</td>\n",
       "      <td>Shena</td>\n",
       "      <td>Dickson</td>\n",
       "      <td>37</td>\n",
       "      <td>Orlando-Kissimmee-Sanford, FL MSA</td>\n",
       "      <td>2018-05-06</td>\n",
       "      <td>surf</td>\n",
       "      <td>2018-12-31</td>\n",
       "      <td>11.0</td>\n",
       "      <td>17.0</td>\n",
       "      <td>308.0</td>\n",
       "      <td>0.0</td>\n",
       "      <td>40.0</td>\n",
       "    </tr>\n",
       "    <tr>\n",
       "      <td>2302</td>\n",
       "      <td>2302</td>\n",
       "      <td>1499</td>\n",
       "      <td>Shena</td>\n",
       "      <td>Dickson</td>\n",
       "      <td>37</td>\n",
       "      <td>Orlando-Kissimmee-Sanford, FL MSA</td>\n",
       "      <td>2018-05-06</td>\n",
       "      <td>surf</td>\n",
       "      <td>2018-12-31</td>\n",
       "      <td>12.0</td>\n",
       "      <td>22.0</td>\n",
       "      <td>496.0</td>\n",
       "      <td>0.0</td>\n",
       "      <td>90.0</td>\n",
       "    </tr>\n",
       "  </tbody>\n",
       "</table>\n",
       "<p>1896 rows × 14 columns</p>\n",
       "</div>"
      ],
      "text/plain": [
       "      index  user_id first_name  last_name  age  \\\n",
       "0         0     1000   Anamaria      Bauer   45   \n",
       "1         1     1001     Mickey  Wilkerson   28   \n",
       "2         2     1001     Mickey  Wilkerson   28   \n",
       "3         3     1001     Mickey  Wilkerson   28   \n",
       "4         4     1001     Mickey  Wilkerson   28   \n",
       "...     ...      ...        ...        ...  ...   \n",
       "2287   2287     1497      Donte    Barrera   49   \n",
       "2299   2299     1499      Shena    Dickson   37   \n",
       "2300   2300     1499      Shena    Dickson   37   \n",
       "2301   2301     1499      Shena    Dickson   37   \n",
       "2302   2302     1499      Shena    Dickson   37   \n",
       "\n",
       "                                        city   reg_date      plan churn_date  \\\n",
       "0      Atlanta-Sandy Springs-Roswell, GA MSA 2018-12-24  ultimate 2018-12-31   \n",
       "1            Seattle-Tacoma-Bellevue, WA MSA 2018-08-13      surf 2018-12-31   \n",
       "2            Seattle-Tacoma-Bellevue, WA MSA 2018-08-13      surf 2018-12-31   \n",
       "3            Seattle-Tacoma-Bellevue, WA MSA 2018-08-13      surf 2018-12-31   \n",
       "4            Seattle-Tacoma-Bellevue, WA MSA 2018-08-13      surf 2018-12-31   \n",
       "...                                      ...        ...       ...        ...   \n",
       "2287  Los Angeles-Long Beach-Anaheim, CA MSA 2018-12-10  ultimate 2018-12-31   \n",
       "2299       Orlando-Kissimmee-Sanford, FL MSA 2018-05-06      surf 2018-12-31   \n",
       "2300       Orlando-Kissimmee-Sanford, FL MSA 2018-05-06      surf 2018-12-31   \n",
       "2301       Orlando-Kissimmee-Sanford, FL MSA 2018-05-06      surf 2018-12-31   \n",
       "2302       Orlando-Kissimmee-Sanford, FL MSA 2018-05-06      surf 2018-12-31   \n",
       "\n",
       "      month  gb_used  duration  messages_sent  revenue  \n",
       "0      12.0      2.0     124.0            7.0     70.0  \n",
       "1       8.0      7.0     182.0           14.0     20.0  \n",
       "2       9.0     14.0     315.0           23.0     20.0  \n",
       "3      10.0     22.0     393.0           25.0     90.0  \n",
       "4      11.0     19.0     426.0           19.0     60.0  \n",
       "...     ...      ...       ...            ...      ...  \n",
       "2287   12.0     11.0     300.0           20.0     70.0  \n",
       "2299    9.0     13.0     346.0            0.0     20.0  \n",
       "2300   10.0     20.0     385.0            0.0     70.0  \n",
       "2301   11.0     17.0     308.0            0.0     40.0  \n",
       "2302   12.0     22.0     496.0            0.0     90.0  \n",
       "\n",
       "[1896 rows x 14 columns]"
      ]
     },
     "execution_count": 58,
     "metadata": {},
     "output_type": "execute_result"
    }
   ],
   "source": [
    "other_regions = final[~ final['city'].str.contains(\"NY\")]\n",
    "other_regions"
   ]
  },
  {
   "cell_type": "markdown",
   "id": "c3599ddf",
   "metadata": {},
   "source": [
    "Let's repeat the same reasoning now for our other groups and formulate the hypothesis:\n",
    "\n",
    "Null hypothesis: there is really no differnce between the revenues from users in NY-NJ region and users from all the other regions:\n",
    "\n",
    "\n",
    "$ H_{0}:$ $\\bar{x}_{ny-nj reg} = \\bar{x}_{other regions} $\n",
    "\n",
    "And the alternative hypothesis that states that users from NY-NJ region and all of the other users bring in a different revenue:\n",
    "\n",
    "$ H_{1}:$ $\\bar{x}_{ny-nj reg} \\neq \\bar{x}_{other regions} $\n"
   ]
  },
  {
   "cell_type": "code",
   "execution_count": 59,
   "id": "74e9d7c4",
   "metadata": {},
   "outputs": [],
   "source": [
    "# Store all the revenues in variables\n",
    "ny_nj_revenue = ny_nj_reg['revenue']\n",
    "other_revenue = other_regions['revenue']"
   ]
  },
  {
   "cell_type": "markdown",
   "id": "420e2d99",
   "metadata": {},
   "source": [
    "The groups we are comparing are again independent, we use the same algorythm here: first the Leven's test to get an impressioin about the groups' variances, and then we can run the t-test."
   ]
  },
  {
   "cell_type": "code",
   "execution_count": 60,
   "id": "00b4a4ae",
   "metadata": {},
   "outputs": [
    {
     "data": {
      "text/plain": [
       "LeveneResult(statistic=0.8617937321408381, pvalue=0.3533345827121216)"
      ]
     },
     "execution_count": 60,
     "metadata": {},
     "output_type": "execute_result"
    }
   ],
   "source": [
    "st.levene(ny_nj_revenue, other_revenue, center='mean')"
   ]
  },
  {
   "cell_type": "markdown",
   "id": "be46b793",
   "metadata": {},
   "source": [
    "The p-level of significance is showing us the same picture as with previous groups - the variances are not equal. Now we are ready to run the t-test."
   ]
  },
  {
   "cell_type": "code",
   "execution_count": 61,
   "id": "95480fec",
   "metadata": {},
   "outputs": [],
   "source": [
    "results2 = st.ttest_ind(ny_nj_reg['revenue'], other_regions['revenue'], equal_var=False)"
   ]
  },
  {
   "cell_type": "code",
   "execution_count": 62,
   "id": "c46f8f5a",
   "metadata": {},
   "outputs": [
    {
     "name": "stdout",
     "output_type": "stream",
     "text": [
      "p-value: 0.22640383641029482\n"
     ]
    }
   ],
   "source": [
    "print('p-value:', results2.pvalue)"
   ]
  },
  {
   "cell_type": "code",
   "execution_count": 63,
   "id": "6e151803",
   "metadata": {},
   "outputs": [
    {
     "name": "stdout",
     "output_type": "stream",
     "text": [
      "We can't reject the null hypothesis\n"
     ]
    }
   ],
   "source": [
    "if results2.pvalue < alpha:\n",
    "    print(\"We reject the null hypothesis\")\n",
    "else:\n",
    "    print(\"We can't reject the null hypothesis\")"
   ]
  },
  {
   "cell_type": "code",
   "execution_count": 64,
   "id": "4f13f5c5",
   "metadata": {},
   "outputs": [
    {
     "name": "stdout",
     "output_type": "stream",
     "text": [
      "NY-NJ region average revenue is 72.41203931203931\n",
      "Other regions average revenue is 76.08481012658227\n"
     ]
    }
   ],
   "source": [
    "print('NY-NJ region average revenue is', ny_nj_reg['revenue'].mean())\n",
    "print('Other regions average revenue is', other_regions['revenue'].mean())"
   ]
  },
  {
   "cell_type": "markdown",
   "id": "f984fdb7",
   "metadata": {},
   "source": [
    "Well, recalling our null hypothesis looks like we don't have enough grounds to reject it. So again, with a condition that our sample is representative, we can say with 95% confidence that the average revenue of NY-NJ regions users and all of the other regions are the same."
   ]
  },
  {
   "cell_type": "markdown",
   "id": "0751c6e7",
   "metadata": {},
   "source": [
    "# 5 Overall conclusion"
   ]
  },
  {
   "cell_type": "markdown",
   "id": "0544e983",
   "metadata": {},
   "source": [
    "**1. Preparing the data** \n",
    "\n",
    "In this analysis 5 datasets took part: \n",
    "\n",
    "- Information about 500 random users for the year 2018 - their names, age, city, activity period and plan they used \n",
    "- A reference table with information about the plans - how many minutes, gigabytes and messages are included,  fees and overage charges according to plan. \n",
    "- 3 dataframes with logs on calls, messages and traffic for each user and month.\n",
    "\n",
    "Using the `info()` method we observed errors in datatype for all of the columns with dates which was fixed, and missing values. All of the missing values were located in the 'churn_date' column and knowing that the values were missing for the active users we replaced them with the last date of the year 2018. \n",
    "\n",
    "**2. Calculations** \n",
    "\n",
    "Using a custom function we checked the forms of the distribution, stated that they were normal and ommited the zeros that were found in the duration of calls and megabytes used columns. \n",
    "\n",
    "Neither one of the dataframes had duplicates. \n",
    "\n",
    "After preprocessing the data with the above mentioned steps, we added information to our data, such as: \n",
    "- A month column to work with\n",
    "- A column for gigabytes. \n",
    "\n",
    "For each user were found: \n",
    "- The duration of minutes of calls per month\n",
    "- The number of text messages sent per month\n",
    "- The volume of data per month\n",
    "- The monthly revenue\n",
    "\n",
    "\n",
    "**3. Analysis and visualisation**\n",
    "\n",
    "Building two custom functions, 1 for boxplots and 1 for histogramms we built visualizations for parameters of interest - ammount of messages, duration of calls and volume of data, and this is what we concluded: \n",
    "\n",
    "- In both of the plans - surf and ultimate the duration of calls were similar\n",
    "- The usage of internet for ultimate plan users is slightly higher and varies less\n",
    "- The users of the ultimate plan sent more messages than the users of surf plan\n",
    "- Typically ultimate plan users had shorter conversations, less gygabytes used and less messages than users with surf plan\n",
    "\n",
    "**4. Testing the hypotheses**\n",
    "\n",
    "We had to statements to check:\n",
    "1. The average revenue from users of Ultimate and Surf calling plans differs, Surf plan users broght in slightly more revenue.\n",
    "2. The average revenue from users in NY-NJ area is different from that of the users from other regions.\n",
    "\n",
    "By deviding our dataframe to two different groups according to each statement and running statistical tests, such as t-test and Leven's test we managed to find out that for the first case the average revenue from users of Ultimate and Surf calling plans differs. For the second case we could not obtain statistically significant results and we found out that the average revenue of NY-NJ regions and all of the other regions are the same."
   ]
  }
 ],
 "metadata": {
  "ExecuteTimeLog": [
   {
    "duration": 1187,
    "start_time": "2022-02-12T18:09:19.107Z"
   },
   {
    "duration": 481,
    "start_time": "2022-02-12T18:09:20.297Z"
   },
   {
    "duration": 3,
    "start_time": "2022-02-12T18:09:20.780Z"
   },
   {
    "duration": 70,
    "start_time": "2022-02-12T18:09:20.785Z"
   },
   {
    "duration": 36,
    "start_time": "2022-02-12T18:09:20.857Z"
   },
   {
    "duration": 6257,
    "start_time": "2022-02-12T18:09:20.908Z"
   },
   {
    "duration": -632,
    "start_time": "2022-02-12T18:09:27.802Z"
   },
   {
    "duration": -634,
    "start_time": "2022-02-12T18:09:27.805Z"
   },
   {
    "duration": -637,
    "start_time": "2022-02-12T18:09:27.809Z"
   },
   {
    "duration": -639,
    "start_time": "2022-02-12T18:09:27.812Z"
   },
   {
    "duration": -645,
    "start_time": "2022-02-12T18:09:27.819Z"
   },
   {
    "duration": -647,
    "start_time": "2022-02-12T18:09:27.822Z"
   },
   {
    "duration": -650,
    "start_time": "2022-02-12T18:09:27.826Z"
   },
   {
    "duration": -653,
    "start_time": "2022-02-12T18:09:27.829Z"
   },
   {
    "duration": -655,
    "start_time": "2022-02-12T18:09:27.832Z"
   },
   {
    "duration": -657,
    "start_time": "2022-02-12T18:09:27.835Z"
   },
   {
    "duration": -659,
    "start_time": "2022-02-12T18:09:27.838Z"
   },
   {
    "duration": -660,
    "start_time": "2022-02-12T18:09:27.841Z"
   },
   {
    "duration": -661,
    "start_time": "2022-02-12T18:09:27.843Z"
   },
   {
    "duration": -667,
    "start_time": "2022-02-12T18:09:27.850Z"
   },
   {
    "duration": -670,
    "start_time": "2022-02-12T18:09:27.854Z"
   },
   {
    "duration": -673,
    "start_time": "2022-02-12T18:09:27.857Z"
   },
   {
    "duration": -675,
    "start_time": "2022-02-12T18:09:27.860Z"
   },
   {
    "duration": -677,
    "start_time": "2022-02-12T18:09:27.863Z"
   },
   {
    "duration": -679,
    "start_time": "2022-02-12T18:09:27.866Z"
   },
   {
    "duration": -681,
    "start_time": "2022-02-12T18:09:27.869Z"
   },
   {
    "duration": -684,
    "start_time": "2022-02-12T18:09:27.872Z"
   },
   {
    "duration": -686,
    "start_time": "2022-02-12T18:09:27.875Z"
   },
   {
    "duration": -688,
    "start_time": "2022-02-12T18:09:27.878Z"
   },
   {
    "duration": -690,
    "start_time": "2022-02-12T18:09:27.881Z"
   },
   {
    "duration": -692,
    "start_time": "2022-02-12T18:09:27.884Z"
   },
   {
    "duration": -694,
    "start_time": "2022-02-12T18:09:27.887Z"
   },
   {
    "duration": -697,
    "start_time": "2022-02-12T18:09:27.890Z"
   },
   {
    "duration": -699,
    "start_time": "2022-02-12T18:09:27.893Z"
   },
   {
    "duration": -700,
    "start_time": "2022-02-12T18:09:27.895Z"
   },
   {
    "duration": -703,
    "start_time": "2022-02-12T18:09:27.899Z"
   },
   {
    "duration": -704,
    "start_time": "2022-02-12T18:09:27.901Z"
   },
   {
    "duration": -712,
    "start_time": "2022-02-12T18:09:27.910Z"
   },
   {
    "duration": -714,
    "start_time": "2022-02-12T18:09:27.913Z"
   },
   {
    "duration": -717,
    "start_time": "2022-02-12T18:09:27.917Z"
   },
   {
    "duration": -718,
    "start_time": "2022-02-12T18:09:27.920Z"
   },
   {
    "duration": -720,
    "start_time": "2022-02-12T18:09:27.923Z"
   },
   {
    "duration": -723,
    "start_time": "2022-02-12T18:09:27.926Z"
   },
   {
    "duration": -725,
    "start_time": "2022-02-12T18:09:27.929Z"
   },
   {
    "duration": -727,
    "start_time": "2022-02-12T18:09:27.932Z"
   },
   {
    "duration": -729,
    "start_time": "2022-02-12T18:09:27.935Z"
   },
   {
    "duration": -732,
    "start_time": "2022-02-12T18:09:27.938Z"
   },
   {
    "duration": -734,
    "start_time": "2022-02-12T18:09:27.941Z"
   },
   {
    "duration": -736,
    "start_time": "2022-02-12T18:09:27.944Z"
   },
   {
    "duration": -739,
    "start_time": "2022-02-12T18:09:27.948Z"
   },
   {
    "duration": -740,
    "start_time": "2022-02-12T18:09:27.950Z"
   },
   {
    "duration": -743,
    "start_time": "2022-02-12T18:09:27.954Z"
   },
   {
    "duration": -744,
    "start_time": "2022-02-12T18:09:27.956Z"
   },
   {
    "duration": -746,
    "start_time": "2022-02-12T18:09:27.959Z"
   },
   {
    "duration": -747,
    "start_time": "2022-02-12T18:09:27.961Z"
   },
   {
    "duration": -749,
    "start_time": "2022-02-12T18:09:27.964Z"
   },
   {
    "duration": -754,
    "start_time": "2022-02-12T18:09:27.970Z"
   },
   {
    "duration": -755,
    "start_time": "2022-02-12T18:09:27.973Z"
   },
   {
    "duration": -756,
    "start_time": "2022-02-12T18:09:27.975Z"
   },
   {
    "duration": -757,
    "start_time": "2022-02-12T18:09:27.978Z"
   },
   {
    "duration": -758,
    "start_time": "2022-02-12T18:09:27.980Z"
   },
   {
    "duration": -762,
    "start_time": "2022-02-12T18:09:27.986Z"
   },
   {
    "duration": 13,
    "start_time": "2022-02-12T18:14:00.343Z"
   },
   {
    "duration": 92,
    "start_time": "2022-02-12T18:21:06.405Z"
   },
   {
    "duration": 123,
    "start_time": "2022-02-12T18:24:08.264Z"
   },
   {
    "duration": 86,
    "start_time": "2022-02-12T18:25:54.250Z"
   },
   {
    "duration": 3,
    "start_time": "2022-02-12T18:27:43.838Z"
   },
   {
    "duration": 447,
    "start_time": "2022-02-12T18:28:47.597Z"
   },
   {
    "duration": 1269,
    "start_time": "2022-02-12T18:29:02.954Z"
   },
   {
    "duration": 622,
    "start_time": "2022-02-12T18:29:04.226Z"
   },
   {
    "duration": 3,
    "start_time": "2022-02-12T18:29:04.851Z"
   },
   {
    "duration": 251,
    "start_time": "2022-02-12T18:29:04.857Z"
   },
   {
    "duration": 107,
    "start_time": "2022-02-12T18:29:05.110Z"
   },
   {
    "duration": 6597,
    "start_time": "2022-02-12T18:29:05.219Z"
   },
   {
    "duration": -654,
    "start_time": "2022-02-12T18:29:12.475Z"
   },
   {
    "duration": -655,
    "start_time": "2022-02-12T18:29:12.478Z"
   },
   {
    "duration": -658,
    "start_time": "2022-02-12T18:29:12.482Z"
   },
   {
    "duration": -660,
    "start_time": "2022-02-12T18:29:12.485Z"
   },
   {
    "duration": -662,
    "start_time": "2022-02-12T18:29:12.488Z"
   },
   {
    "duration": -666,
    "start_time": "2022-02-12T18:29:12.493Z"
   },
   {
    "duration": -670,
    "start_time": "2022-02-12T18:29:12.498Z"
   },
   {
    "duration": -673,
    "start_time": "2022-02-12T18:29:12.502Z"
   },
   {
    "duration": -676,
    "start_time": "2022-02-12T18:29:12.507Z"
   },
   {
    "duration": -685,
    "start_time": "2022-02-12T18:29:12.518Z"
   },
   {
    "duration": -689,
    "start_time": "2022-02-12T18:29:12.523Z"
   },
   {
    "duration": -692,
    "start_time": "2022-02-12T18:29:12.528Z"
   },
   {
    "duration": -696,
    "start_time": "2022-02-12T18:29:12.533Z"
   },
   {
    "duration": -700,
    "start_time": "2022-02-12T18:29:12.538Z"
   },
   {
    "duration": -705,
    "start_time": "2022-02-12T18:29:12.544Z"
   },
   {
    "duration": -707,
    "start_time": "2022-02-12T18:29:12.547Z"
   },
   {
    "duration": -711,
    "start_time": "2022-02-12T18:29:12.553Z"
   },
   {
    "duration": -716,
    "start_time": "2022-02-12T18:29:12.559Z"
   },
   {
    "duration": -719,
    "start_time": "2022-02-12T18:29:12.563Z"
   },
   {
    "duration": -722,
    "start_time": "2022-02-12T18:29:12.568Z"
   },
   {
    "duration": -728,
    "start_time": "2022-02-12T18:29:12.575Z"
   },
   {
    "duration": -740,
    "start_time": "2022-02-12T18:29:12.589Z"
   },
   {
    "duration": -745,
    "start_time": "2022-02-12T18:29:12.595Z"
   },
   {
    "duration": -748,
    "start_time": "2022-02-12T18:29:12.600Z"
   },
   {
    "duration": -750,
    "start_time": "2022-02-12T18:29:12.603Z"
   },
   {
    "duration": -753,
    "start_time": "2022-02-12T18:29:12.606Z"
   },
   {
    "duration": -757,
    "start_time": "2022-02-12T18:29:12.611Z"
   },
   {
    "duration": -760,
    "start_time": "2022-02-12T18:29:12.615Z"
   },
   {
    "duration": -763,
    "start_time": "2022-02-12T18:29:12.619Z"
   },
   {
    "duration": -767,
    "start_time": "2022-02-12T18:29:12.624Z"
   },
   {
    "duration": -770,
    "start_time": "2022-02-12T18:29:12.628Z"
   },
   {
    "duration": -774,
    "start_time": "2022-02-12T18:29:12.633Z"
   },
   {
    "duration": -778,
    "start_time": "2022-02-12T18:29:12.638Z"
   },
   {
    "duration": -797,
    "start_time": "2022-02-12T18:29:12.658Z"
   },
   {
    "duration": -801,
    "start_time": "2022-02-12T18:29:12.662Z"
   },
   {
    "duration": -804,
    "start_time": "2022-02-12T18:29:12.666Z"
   },
   {
    "duration": -762,
    "start_time": "2022-02-12T18:29:12.670Z"
   },
   {
    "duration": -767,
    "start_time": "2022-02-12T18:29:12.676Z"
   },
   {
    "duration": -771,
    "start_time": "2022-02-12T18:29:12.681Z"
   },
   {
    "duration": -774,
    "start_time": "2022-02-12T18:29:12.685Z"
   },
   {
    "duration": -786,
    "start_time": "2022-02-12T18:29:12.699Z"
   },
   {
    "duration": -789,
    "start_time": "2022-02-12T18:29:12.703Z"
   },
   {
    "duration": -794,
    "start_time": "2022-02-12T18:29:12.709Z"
   },
   {
    "duration": -797,
    "start_time": "2022-02-12T18:29:12.713Z"
   },
   {
    "duration": -800,
    "start_time": "2022-02-12T18:29:12.717Z"
   },
   {
    "duration": -805,
    "start_time": "2022-02-12T18:29:12.723Z"
   },
   {
    "duration": -852,
    "start_time": "2022-02-12T18:29:12.771Z"
   },
   {
    "duration": -865,
    "start_time": "2022-02-12T18:29:12.785Z"
   },
   {
    "duration": -867,
    "start_time": "2022-02-12T18:29:12.788Z"
   },
   {
    "duration": -870,
    "start_time": "2022-02-12T18:29:12.792Z"
   },
   {
    "duration": -872,
    "start_time": "2022-02-12T18:29:12.796Z"
   },
   {
    "duration": -879,
    "start_time": "2022-02-12T18:29:12.804Z"
   },
   {
    "duration": -882,
    "start_time": "2022-02-12T18:29:12.808Z"
   },
   {
    "duration": -884,
    "start_time": "2022-02-12T18:29:12.811Z"
   },
   {
    "duration": -886,
    "start_time": "2022-02-12T18:29:12.814Z"
   },
   {
    "duration": -887,
    "start_time": "2022-02-12T18:29:12.816Z"
   },
   {
    "duration": 440,
    "start_time": "2022-02-12T18:30:25.086Z"
   },
   {
    "duration": 1236,
    "start_time": "2022-02-12T18:30:39.366Z"
   },
   {
    "duration": 462,
    "start_time": "2022-02-12T18:30:40.604Z"
   },
   {
    "duration": 3,
    "start_time": "2022-02-12T18:30:41.068Z"
   },
   {
    "duration": 74,
    "start_time": "2022-02-12T18:30:41.074Z"
   },
   {
    "duration": 36,
    "start_time": "2022-02-12T18:30:41.150Z"
   },
   {
    "duration": 79,
    "start_time": "2022-02-12T18:30:41.189Z"
   },
   {
    "duration": 40,
    "start_time": "2022-02-12T18:30:41.271Z"
   },
   {
    "duration": 21,
    "start_time": "2022-02-12T18:30:41.313Z"
   },
   {
    "duration": 19,
    "start_time": "2022-02-12T18:30:41.336Z"
   },
   {
    "duration": 51,
    "start_time": "2022-02-12T18:30:41.357Z"
   },
   {
    "duration": 8,
    "start_time": "2022-02-12T18:30:41.410Z"
   },
   {
    "duration": 8,
    "start_time": "2022-02-12T18:30:41.420Z"
   },
   {
    "duration": 10,
    "start_time": "2022-02-12T18:30:41.430Z"
   },
   {
    "duration": 6,
    "start_time": "2022-02-12T18:30:41.441Z"
   },
   {
    "duration": 84,
    "start_time": "2022-02-12T18:30:41.449Z"
   },
   {
    "duration": 6,
    "start_time": "2022-02-12T18:30:41.535Z"
   },
   {
    "duration": 327,
    "start_time": "2022-02-12T18:30:41.543Z"
   },
   {
    "duration": 20,
    "start_time": "2022-02-12T18:30:41.872Z"
   },
   {
    "duration": 347,
    "start_time": "2022-02-12T18:30:41.894Z"
   },
   {
    "duration": 13,
    "start_time": "2022-02-12T18:30:42.243Z"
   },
   {
    "duration": 62,
    "start_time": "2022-02-12T18:30:42.258Z"
   },
   {
    "duration": 5,
    "start_time": "2022-02-12T18:30:42.322Z"
   },
   {
    "duration": 111,
    "start_time": "2022-02-12T18:30:42.332Z"
   },
   {
    "duration": 5,
    "start_time": "2022-02-12T18:30:42.445Z"
   },
   {
    "duration": 28,
    "start_time": "2022-02-12T18:30:42.452Z"
   },
   {
    "duration": 37,
    "start_time": "2022-02-12T18:30:42.482Z"
   },
   {
    "duration": 27,
    "start_time": "2022-02-12T18:30:42.521Z"
   },
   {
    "duration": 16,
    "start_time": "2022-02-12T18:30:42.550Z"
   },
   {
    "duration": 57,
    "start_time": "2022-02-12T18:30:42.568Z"
   },
   {
    "duration": 21,
    "start_time": "2022-02-12T18:30:42.627Z"
   },
   {
    "duration": 21,
    "start_time": "2022-02-12T18:30:42.650Z"
   },
   {
    "duration": 34,
    "start_time": "2022-02-12T18:30:42.673Z"
   },
   {
    "duration": 15,
    "start_time": "2022-02-12T18:30:42.709Z"
   },
   {
    "duration": 9,
    "start_time": "2022-02-12T18:30:42.726Z"
   },
   {
    "duration": 123,
    "start_time": "2022-02-12T18:30:42.737Z"
   },
   {
    "duration": 9,
    "start_time": "2022-02-12T18:30:42.861Z"
   },
   {
    "duration": 7,
    "start_time": "2022-02-12T18:30:42.872Z"
   },
   {
    "duration": 27,
    "start_time": "2022-02-12T18:30:42.881Z"
   },
   {
    "duration": 4,
    "start_time": "2022-02-12T18:30:42.910Z"
   },
   {
    "duration": 862,
    "start_time": "2022-02-12T18:30:42.916Z"
   },
   {
    "duration": 4,
    "start_time": "2022-02-12T18:30:43.780Z"
   },
   {
    "duration": 643,
    "start_time": "2022-02-12T18:30:43.786Z"
   },
   {
    "duration": -612,
    "start_time": "2022-02-12T18:30:45.044Z"
   },
   {
    "duration": -615,
    "start_time": "2022-02-12T18:30:45.048Z"
   },
   {
    "duration": -620,
    "start_time": "2022-02-12T18:30:45.054Z"
   },
   {
    "duration": -623,
    "start_time": "2022-02-12T18:30:45.058Z"
   },
   {
    "duration": -623,
    "start_time": "2022-02-12T18:30:45.060Z"
   },
   {
    "duration": -632,
    "start_time": "2022-02-12T18:30:45.070Z"
   },
   {
    "duration": -634,
    "start_time": "2022-02-12T18:30:45.073Z"
   },
   {
    "duration": -636,
    "start_time": "2022-02-12T18:30:45.076Z"
   },
   {
    "duration": -639,
    "start_time": "2022-02-12T18:30:45.080Z"
   },
   {
    "duration": -642,
    "start_time": "2022-02-12T18:30:45.084Z"
   },
   {
    "duration": -644,
    "start_time": "2022-02-12T18:30:45.088Z"
   },
   {
    "duration": -646,
    "start_time": "2022-02-12T18:30:45.091Z"
   },
   {
    "duration": -648,
    "start_time": "2022-02-12T18:30:45.094Z"
   },
   {
    "duration": -651,
    "start_time": "2022-02-12T18:30:45.098Z"
   },
   {
    "duration": -653,
    "start_time": "2022-02-12T18:30:45.101Z"
   },
   {
    "duration": -661,
    "start_time": "2022-02-12T18:30:45.110Z"
   },
   {
    "duration": -664,
    "start_time": "2022-02-12T18:30:45.114Z"
   },
   {
    "duration": -666,
    "start_time": "2022-02-12T18:30:45.117Z"
   },
   {
    "duration": -667,
    "start_time": "2022-02-12T18:30:45.120Z"
   },
   {
    "duration": -670,
    "start_time": "2022-02-12T18:30:45.124Z"
   },
   {
    "duration": 564,
    "start_time": "2022-02-12T18:35:58.975Z"
   },
   {
    "duration": 81,
    "start_time": "2022-02-12T18:38:04.259Z"
   },
   {
    "duration": 6,
    "start_time": "2022-02-12T18:40:29.668Z"
   },
   {
    "duration": 2145,
    "start_time": "2022-02-12T18:40:30.565Z"
   },
   {
    "duration": 4,
    "start_time": "2022-02-12T18:40:38.168Z"
   },
   {
    "duration": 3619,
    "start_time": "2022-02-12T18:40:38.877Z"
   },
   {
    "duration": 79,
    "start_time": "2022-02-12T18:46:45.295Z"
   },
   {
    "duration": 78,
    "start_time": "2022-02-12T18:47:39.538Z"
   },
   {
    "duration": 1139,
    "start_time": "2022-02-12T18:52:17.563Z"
   },
   {
    "duration": 449,
    "start_time": "2022-02-12T18:52:18.704Z"
   },
   {
    "duration": 2,
    "start_time": "2022-02-12T18:52:19.155Z"
   },
   {
    "duration": 60,
    "start_time": "2022-02-12T18:52:19.159Z"
   },
   {
    "duration": 36,
    "start_time": "2022-02-12T18:52:19.221Z"
   },
   {
    "duration": 6459,
    "start_time": "2022-02-12T18:52:19.258Z"
   },
   {
    "duration": -610,
    "start_time": "2022-02-12T18:52:26.332Z"
   },
   {
    "duration": -618,
    "start_time": "2022-02-12T18:52:26.341Z"
   },
   {
    "duration": -620,
    "start_time": "2022-02-12T18:52:26.346Z"
   },
   {
    "duration": -622,
    "start_time": "2022-02-12T18:52:26.349Z"
   },
   {
    "duration": -624,
    "start_time": "2022-02-12T18:52:26.352Z"
   },
   {
    "duration": -626,
    "start_time": "2022-02-12T18:52:26.355Z"
   },
   {
    "duration": -630,
    "start_time": "2022-02-12T18:52:26.360Z"
   },
   {
    "duration": -632,
    "start_time": "2022-02-12T18:52:26.363Z"
   },
   {
    "duration": -635,
    "start_time": "2022-02-12T18:52:26.367Z"
   },
   {
    "duration": -639,
    "start_time": "2022-02-12T18:52:26.372Z"
   },
   {
    "duration": -642,
    "start_time": "2022-02-12T18:52:26.376Z"
   },
   {
    "duration": -644,
    "start_time": "2022-02-12T18:52:26.379Z"
   },
   {
    "duration": -647,
    "start_time": "2022-02-12T18:52:26.383Z"
   },
   {
    "duration": -649,
    "start_time": "2022-02-12T18:52:26.386Z"
   },
   {
    "duration": -652,
    "start_time": "2022-02-12T18:52:26.391Z"
   },
   {
    "duration": -660,
    "start_time": "2022-02-12T18:52:26.400Z"
   },
   {
    "duration": -663,
    "start_time": "2022-02-12T18:52:26.404Z"
   },
   {
    "duration": -666,
    "start_time": "2022-02-12T18:52:26.408Z"
   },
   {
    "duration": -669,
    "start_time": "2022-02-12T18:52:26.412Z"
   },
   {
    "duration": -672,
    "start_time": "2022-02-12T18:52:26.416Z"
   },
   {
    "duration": -674,
    "start_time": "2022-02-12T18:52:26.420Z"
   },
   {
    "duration": -676,
    "start_time": "2022-02-12T18:52:26.424Z"
   },
   {
    "duration": -680,
    "start_time": "2022-02-12T18:52:26.429Z"
   },
   {
    "duration": -682,
    "start_time": "2022-02-12T18:52:26.433Z"
   },
   {
    "duration": -685,
    "start_time": "2022-02-12T18:52:26.437Z"
   },
   {
    "duration": -688,
    "start_time": "2022-02-12T18:52:26.441Z"
   },
   {
    "duration": -690,
    "start_time": "2022-02-12T18:52:26.444Z"
   },
   {
    "duration": -692,
    "start_time": "2022-02-12T18:52:26.447Z"
   },
   {
    "duration": -695,
    "start_time": "2022-02-12T18:52:26.451Z"
   },
   {
    "duration": -697,
    "start_time": "2022-02-12T18:52:26.454Z"
   },
   {
    "duration": -650,
    "start_time": "2022-02-12T18:52:26.457Z"
   },
   {
    "duration": -652,
    "start_time": "2022-02-12T18:52:26.460Z"
   },
   {
    "duration": -655,
    "start_time": "2022-02-12T18:52:26.464Z"
   },
   {
    "duration": -657,
    "start_time": "2022-02-12T18:52:26.467Z"
   },
   {
    "duration": -660,
    "start_time": "2022-02-12T18:52:26.471Z"
   },
   {
    "duration": -662,
    "start_time": "2022-02-12T18:52:26.474Z"
   },
   {
    "duration": -664,
    "start_time": "2022-02-12T18:52:26.477Z"
   },
   {
    "duration": -674,
    "start_time": "2022-02-12T18:52:26.488Z"
   },
   {
    "duration": -677,
    "start_time": "2022-02-12T18:52:26.492Z"
   },
   {
    "duration": -679,
    "start_time": "2022-02-12T18:52:26.495Z"
   },
   {
    "duration": -683,
    "start_time": "2022-02-12T18:52:26.500Z"
   },
   {
    "duration": -685,
    "start_time": "2022-02-12T18:52:26.503Z"
   },
   {
    "duration": -688,
    "start_time": "2022-02-12T18:52:26.507Z"
   },
   {
    "duration": -691,
    "start_time": "2022-02-12T18:52:26.510Z"
   },
   {
    "duration": -694,
    "start_time": "2022-02-12T18:52:26.514Z"
   },
   {
    "duration": -703,
    "start_time": "2022-02-12T18:52:26.524Z"
   },
   {
    "duration": -706,
    "start_time": "2022-02-12T18:52:26.528Z"
   },
   {
    "duration": -708,
    "start_time": "2022-02-12T18:52:26.531Z"
   },
   {
    "duration": -711,
    "start_time": "2022-02-12T18:52:26.535Z"
   },
   {
    "duration": -714,
    "start_time": "2022-02-12T18:52:26.539Z"
   },
   {
    "duration": -716,
    "start_time": "2022-02-12T18:52:26.542Z"
   },
   {
    "duration": -718,
    "start_time": "2022-02-12T18:52:26.545Z"
   },
   {
    "duration": -720,
    "start_time": "2022-02-12T18:52:26.549Z"
   },
   {
    "duration": -721,
    "start_time": "2022-02-12T18:52:26.551Z"
   },
   {
    "duration": -726,
    "start_time": "2022-02-12T18:52:26.557Z"
   },
   {
    "duration": -728,
    "start_time": "2022-02-12T18:52:26.560Z"
   },
   {
    "duration": 328,
    "start_time": "2022-02-13T07:16:14.696Z"
   },
   {
    "duration": 1425,
    "start_time": "2022-02-13T07:16:19.224Z"
   },
   {
    "duration": 558,
    "start_time": "2022-02-13T07:16:20.651Z"
   },
   {
    "duration": 4,
    "start_time": "2022-02-13T07:16:22.919Z"
   },
   {
    "duration": 285,
    "start_time": "2022-02-13T07:21:30.378Z"
   },
   {
    "duration": 517,
    "start_time": "2022-02-13T07:21:34.444Z"
   },
   {
    "duration": 5,
    "start_time": "2022-02-13T07:21:37.698Z"
   },
   {
    "duration": 541,
    "start_time": "2022-02-13T07:21:38.577Z"
   },
   {
    "duration": 8,
    "start_time": "2022-02-13T07:21:40.296Z"
   },
   {
    "duration": 266,
    "start_time": "2022-02-13T07:21:40.954Z"
   },
   {
    "duration": 83,
    "start_time": "2022-02-13T07:21:50.889Z"
   },
   {
    "duration": 5,
    "start_time": "2022-02-13T07:22:37.755Z"
   },
   {
    "duration": 81,
    "start_time": "2022-02-13T07:22:38.176Z"
   },
   {
    "duration": 105,
    "start_time": "2022-02-13T07:22:54.200Z"
   },
   {
    "duration": 78,
    "start_time": "2022-02-13T07:23:27.320Z"
   },
   {
    "duration": 9,
    "start_time": "2022-02-13T07:23:42.328Z"
   },
   {
    "duration": 22,
    "start_time": "2022-02-13T07:23:43.438Z"
   },
   {
    "duration": 25,
    "start_time": "2022-02-13T07:23:44.254Z"
   },
   {
    "duration": 30,
    "start_time": "2022-02-13T07:23:45.080Z"
   },
   {
    "duration": 13,
    "start_time": "2022-02-13T07:23:51.041Z"
   },
   {
    "duration": 11,
    "start_time": "2022-02-13T07:23:52.198Z"
   },
   {
    "duration": 8,
    "start_time": "2022-02-13T07:23:53.207Z"
   },
   {
    "duration": 4,
    "start_time": "2022-02-13T07:24:05.720Z"
   },
   {
    "duration": 82,
    "start_time": "2022-02-13T07:24:07.262Z"
   },
   {
    "duration": 76,
    "start_time": "2022-02-13T07:27:49.347Z"
   },
   {
    "duration": 130,
    "start_time": "2022-02-13T07:28:07.867Z"
   },
   {
    "duration": 9,
    "start_time": "2022-02-13T07:29:00.058Z"
   },
   {
    "duration": 465,
    "start_time": "2022-02-13T07:29:00.943Z"
   },
   {
    "duration": 9,
    "start_time": "2022-02-13T07:29:22.553Z"
   },
   {
    "duration": 459,
    "start_time": "2022-02-13T07:29:23.234Z"
   },
   {
    "duration": 9,
    "start_time": "2022-02-13T07:29:35.853Z"
   },
   {
    "duration": 470,
    "start_time": "2022-02-13T07:29:36.557Z"
   },
   {
    "duration": 8,
    "start_time": "2022-02-13T07:29:53.530Z"
   },
   {
    "duration": 8,
    "start_time": "2022-02-13T07:30:18.041Z"
   },
   {
    "duration": 953,
    "start_time": "2022-02-13T07:30:19.279Z"
   },
   {
    "duration": 84,
    "start_time": "2022-02-13T07:42:12.218Z"
   },
   {
    "duration": 1064,
    "start_time": "2022-02-13T07:42:13.168Z"
   },
   {
    "duration": 10,
    "start_time": "2022-02-13T07:42:21.364Z"
   },
   {
    "duration": 479,
    "start_time": "2022-02-13T07:42:22.278Z"
   },
   {
    "duration": 23,
    "start_time": "2022-02-13T07:42:39.360Z"
   },
   {
    "duration": 547,
    "start_time": "2022-02-13T07:42:40.189Z"
   },
   {
    "duration": 22,
    "start_time": "2022-02-13T07:43:32.189Z"
   },
   {
    "duration": 239,
    "start_time": "2022-02-13T07:43:32.612Z"
   },
   {
    "duration": 7,
    "start_time": "2022-02-13T07:43:42.717Z"
   },
   {
    "duration": 483,
    "start_time": "2022-02-13T07:43:48.221Z"
   },
   {
    "duration": 500,
    "start_time": "2022-02-13T07:44:01.236Z"
   },
   {
    "duration": 18,
    "start_time": "2022-02-13T07:44:03.540Z"
   },
   {
    "duration": 15,
    "start_time": "2022-02-13T07:44:34.277Z"
   },
   {
    "duration": 50,
    "start_time": "2022-02-13T07:44:46.429Z"
   },
   {
    "duration": 8,
    "start_time": "2022-02-13T07:44:53.243Z"
   },
   {
    "duration": 319,
    "start_time": "2022-02-13T07:44:56.972Z"
   },
   {
    "duration": 387,
    "start_time": "2022-02-13T07:45:27.444Z"
   },
   {
    "duration": 321,
    "start_time": "2022-02-13T07:45:49.128Z"
   },
   {
    "duration": 1512,
    "start_time": "2022-02-13T07:46:37.537Z"
   },
   {
    "duration": 541,
    "start_time": "2022-02-13T07:46:39.052Z"
   },
   {
    "duration": 5,
    "start_time": "2022-02-13T07:46:39.597Z"
   },
   {
    "duration": 85,
    "start_time": "2022-02-13T07:46:39.605Z"
   },
   {
    "duration": 44,
    "start_time": "2022-02-13T07:46:39.692Z"
   },
   {
    "duration": 94,
    "start_time": "2022-02-13T07:46:39.738Z"
   },
   {
    "duration": 38,
    "start_time": "2022-02-13T07:46:39.834Z"
   },
   {
    "duration": 25,
    "start_time": "2022-02-13T07:46:39.876Z"
   },
   {
    "duration": 27,
    "start_time": "2022-02-13T07:46:39.904Z"
   },
   {
    "duration": 67,
    "start_time": "2022-02-13T07:46:39.933Z"
   },
   {
    "duration": 10,
    "start_time": "2022-02-13T07:46:40.003Z"
   },
   {
    "duration": 8,
    "start_time": "2022-02-13T07:46:40.015Z"
   },
   {
    "duration": 46,
    "start_time": "2022-02-13T07:46:40.025Z"
   },
   {
    "duration": 4,
    "start_time": "2022-02-13T07:46:40.073Z"
   },
   {
    "duration": 112,
    "start_time": "2022-02-13T07:46:40.080Z"
   },
   {
    "duration": 9,
    "start_time": "2022-02-13T07:46:40.195Z"
   },
   {
    "duration": 497,
    "start_time": "2022-02-13T07:46:40.206Z"
   },
   {
    "duration": 24,
    "start_time": "2022-02-13T07:46:40.706Z"
   },
   {
    "duration": 6,
    "start_time": "2022-02-13T07:46:40.733Z"
   },
   {
    "duration": 538,
    "start_time": "2022-02-13T07:46:40.741Z"
   },
   {
    "duration": 14,
    "start_time": "2022-02-13T07:46:41.281Z"
   },
   {
    "duration": 79,
    "start_time": "2022-02-13T07:46:41.297Z"
   },
   {
    "duration": 5,
    "start_time": "2022-02-13T07:46:41.383Z"
   },
   {
    "duration": 484,
    "start_time": "2022-02-13T07:46:41.391Z"
   },
   {
    "duration": 115,
    "start_time": "2022-02-13T07:46:41.763Z"
   },
   {
    "duration": 110,
    "start_time": "2022-02-13T07:46:41.769Z"
   },
   {
    "duration": 106,
    "start_time": "2022-02-13T07:46:41.774Z"
   },
   {
    "duration": 103,
    "start_time": "2022-02-13T07:46:41.779Z"
   },
   {
    "duration": 100,
    "start_time": "2022-02-13T07:46:41.783Z"
   },
   {
    "duration": 96,
    "start_time": "2022-02-13T07:46:41.788Z"
   },
   {
    "duration": 93,
    "start_time": "2022-02-13T07:46:41.793Z"
   },
   {
    "duration": 90,
    "start_time": "2022-02-13T07:46:41.797Z"
   },
   {
    "duration": 47,
    "start_time": "2022-02-13T07:46:41.841Z"
   },
   {
    "duration": 45,
    "start_time": "2022-02-13T07:46:41.844Z"
   },
   {
    "duration": 40,
    "start_time": "2022-02-13T07:46:41.851Z"
   },
   {
    "duration": 37,
    "start_time": "2022-02-13T07:46:41.855Z"
   },
   {
    "duration": 34,
    "start_time": "2022-02-13T07:46:41.859Z"
   },
   {
    "duration": 33,
    "start_time": "2022-02-13T07:46:41.862Z"
   },
   {
    "duration": 31,
    "start_time": "2022-02-13T07:46:41.865Z"
   },
   {
    "duration": 29,
    "start_time": "2022-02-13T07:46:41.868Z"
   },
   {
    "duration": 28,
    "start_time": "2022-02-13T07:46:41.871Z"
   },
   {
    "duration": 26,
    "start_time": "2022-02-13T07:46:41.874Z"
   },
   {
    "duration": 24,
    "start_time": "2022-02-13T07:46:41.877Z"
   },
   {
    "duration": 22,
    "start_time": "2022-02-13T07:46:41.880Z"
   },
   {
    "duration": 19,
    "start_time": "2022-02-13T07:46:41.884Z"
   },
   {
    "duration": 18,
    "start_time": "2022-02-13T07:46:41.886Z"
   },
   {
    "duration": 9,
    "start_time": "2022-02-13T07:46:41.896Z"
   },
   {
    "duration": 9,
    "start_time": "2022-02-13T07:46:41.898Z"
   },
   {
    "duration": 7,
    "start_time": "2022-02-13T07:46:41.901Z"
   },
   {
    "duration": 6,
    "start_time": "2022-02-13T07:46:41.903Z"
   },
   {
    "duration": 4,
    "start_time": "2022-02-13T07:46:41.906Z"
   },
   {
    "duration": 1,
    "start_time": "2022-02-13T07:46:41.910Z"
   },
   {
    "duration": 0,
    "start_time": "2022-02-13T07:46:41.912Z"
   },
   {
    "duration": 0,
    "start_time": "2022-02-13T07:46:41.914Z"
   },
   {
    "duration": -3,
    "start_time": "2022-02-13T07:46:41.918Z"
   },
   {
    "duration": 49,
    "start_time": "2022-02-13T07:46:41.920Z"
   },
   {
    "duration": 47,
    "start_time": "2022-02-13T07:46:41.923Z"
   },
   {
    "duration": 41,
    "start_time": "2022-02-13T07:46:41.931Z"
   },
   {
    "duration": 36,
    "start_time": "2022-02-13T07:46:41.937Z"
   },
   {
    "duration": 35,
    "start_time": "2022-02-13T07:46:41.939Z"
   },
   {
    "duration": 33,
    "start_time": "2022-02-13T07:46:41.942Z"
   },
   {
    "duration": 31,
    "start_time": "2022-02-13T07:46:41.945Z"
   },
   {
    "duration": 4,
    "start_time": "2022-02-13T07:47:23.631Z"
   },
   {
    "duration": 311,
    "start_time": "2022-02-13T07:47:33.518Z"
   },
   {
    "duration": 284,
    "start_time": "2022-02-13T07:48:26.742Z"
   },
   {
    "duration": 326,
    "start_time": "2022-02-13T07:48:33.893Z"
   },
   {
    "duration": 4,
    "start_time": "2022-02-13T07:49:55.355Z"
   },
   {
    "duration": 13,
    "start_time": "2022-02-13T07:50:07.643Z"
   },
   {
    "duration": 3,
    "start_time": "2022-02-13T07:50:08.017Z"
   },
   {
    "duration": 19,
    "start_time": "2022-02-13T07:50:26.978Z"
   },
   {
    "duration": 21,
    "start_time": "2022-02-13T07:50:56.553Z"
   },
   {
    "duration": 487,
    "start_time": "2022-02-13T07:50:57.202Z"
   },
   {
    "duration": 13,
    "start_time": "2022-02-13T07:51:01.443Z"
   },
   {
    "duration": 3,
    "start_time": "2022-02-13T07:51:02.218Z"
   },
   {
    "duration": 14,
    "start_time": "2022-02-13T07:51:23.776Z"
   },
   {
    "duration": 4,
    "start_time": "2022-02-13T07:51:24.383Z"
   },
   {
    "duration": 4,
    "start_time": "2022-02-13T07:51:36.274Z"
   },
   {
    "duration": 151,
    "start_time": "2022-02-13T07:51:37.192Z"
   },
   {
    "duration": 4,
    "start_time": "2022-02-13T07:52:52.631Z"
   },
   {
    "duration": 124,
    "start_time": "2022-02-13T07:52:53.285Z"
   },
   {
    "duration": 126,
    "start_time": "2022-02-13T07:53:32.174Z"
   },
   {
    "duration": 123,
    "start_time": "2022-02-13T07:54:26.981Z"
   },
   {
    "duration": 31,
    "start_time": "2022-02-13T07:54:41.845Z"
   },
   {
    "duration": 21,
    "start_time": "2022-02-13T07:54:45.291Z"
   },
   {
    "duration": 34,
    "start_time": "2022-02-13T07:54:46.232Z"
   },
   {
    "duration": 22,
    "start_time": "2022-02-13T07:54:58.053Z"
   },
   {
    "duration": 32,
    "start_time": "2022-02-13T07:54:58.908Z"
   },
   {
    "duration": 36,
    "start_time": "2022-02-13T07:54:59.701Z"
   },
   {
    "duration": 30,
    "start_time": "2022-02-13T07:55:08.459Z"
   },
   {
    "duration": 15,
    "start_time": "2022-02-13T07:55:09.942Z"
   },
   {
    "duration": 22,
    "start_time": "2022-02-13T07:55:13.635Z"
   },
   {
    "duration": 8,
    "start_time": "2022-02-13T07:55:29.821Z"
   },
   {
    "duration": 172,
    "start_time": "2022-02-13T07:55:31.143Z"
   },
   {
    "duration": 12,
    "start_time": "2022-02-13T07:55:36.311Z"
   },
   {
    "duration": 8,
    "start_time": "2022-02-13T07:55:39.217Z"
   },
   {
    "duration": 6,
    "start_time": "2022-02-13T07:55:39.940Z"
   },
   {
    "duration": 6,
    "start_time": "2022-02-13T07:55:45.894Z"
   },
   {
    "duration": 1586,
    "start_time": "2022-02-13T07:55:46.800Z"
   },
   {
    "duration": 5,
    "start_time": "2022-02-13T07:55:54.838Z"
   },
   {
    "duration": 518,
    "start_time": "2022-02-13T07:56:03.808Z"
   },
   {
    "duration": 525,
    "start_time": "2022-02-13T07:56:04.466Z"
   },
   {
    "duration": 1473,
    "start_time": "2022-02-13T07:57:09.980Z"
   },
   {
    "duration": 537,
    "start_time": "2022-02-13T07:57:11.456Z"
   },
   {
    "duration": 4,
    "start_time": "2022-02-13T07:57:11.997Z"
   },
   {
    "duration": 79,
    "start_time": "2022-02-13T07:57:12.004Z"
   },
   {
    "duration": 45,
    "start_time": "2022-02-13T07:57:12.085Z"
   },
   {
    "duration": 97,
    "start_time": "2022-02-13T07:57:12.133Z"
   },
   {
    "duration": 7,
    "start_time": "2022-02-13T07:57:12.233Z"
   },
   {
    "duration": 22,
    "start_time": "2022-02-13T07:57:12.271Z"
   },
   {
    "duration": 26,
    "start_time": "2022-02-13T07:57:12.296Z"
   },
   {
    "duration": 67,
    "start_time": "2022-02-13T07:57:12.325Z"
   },
   {
    "duration": 9,
    "start_time": "2022-02-13T07:57:12.394Z"
   },
   {
    "duration": 8,
    "start_time": "2022-02-13T07:57:12.405Z"
   },
   {
    "duration": 10,
    "start_time": "2022-02-13T07:57:12.415Z"
   },
   {
    "duration": 4,
    "start_time": "2022-02-13T07:57:12.427Z"
   },
   {
    "duration": 140,
    "start_time": "2022-02-13T07:57:12.434Z"
   },
   {
    "duration": 9,
    "start_time": "2022-02-13T07:57:12.576Z"
   },
   {
    "duration": 491,
    "start_time": "2022-02-13T07:57:12.587Z"
   },
   {
    "duration": 23,
    "start_time": "2022-02-13T07:57:13.081Z"
   },
   {
    "duration": 22,
    "start_time": "2022-02-13T07:57:13.107Z"
   },
   {
    "duration": 527,
    "start_time": "2022-02-13T07:57:13.132Z"
   },
   {
    "duration": 14,
    "start_time": "2022-02-13T07:57:13.669Z"
   },
   {
    "duration": 3,
    "start_time": "2022-02-13T07:57:13.686Z"
   },
   {
    "duration": 75,
    "start_time": "2022-02-13T07:57:13.696Z"
   },
   {
    "duration": 5,
    "start_time": "2022-02-13T07:57:13.775Z"
   },
   {
    "duration": 6,
    "start_time": "2022-02-13T07:57:13.782Z"
   },
   {
    "duration": 150,
    "start_time": "2022-02-13T07:57:13.791Z"
   },
   {
    "duration": 42,
    "start_time": "2022-02-13T07:57:13.944Z"
   },
   {
    "duration": 18,
    "start_time": "2022-02-13T07:57:13.988Z"
   },
   {
    "duration": 31,
    "start_time": "2022-02-13T07:57:14.009Z"
   },
   {
    "duration": 42,
    "start_time": "2022-02-13T07:57:14.043Z"
   },
   {
    "duration": 29,
    "start_time": "2022-02-13T07:57:14.087Z"
   },
   {
    "duration": 53,
    "start_time": "2022-02-13T07:57:14.118Z"
   },
   {
    "duration": 28,
    "start_time": "2022-02-13T07:57:14.173Z"
   },
   {
    "duration": 13,
    "start_time": "2022-02-13T07:57:14.203Z"
   },
   {
    "duration": 20,
    "start_time": "2022-02-13T07:57:14.218Z"
   },
   {
    "duration": 33,
    "start_time": "2022-02-13T07:57:14.240Z"
   },
   {
    "duration": 186,
    "start_time": "2022-02-13T07:57:14.275Z"
   },
   {
    "duration": 15,
    "start_time": "2022-02-13T07:57:14.468Z"
   },
   {
    "duration": 14,
    "start_time": "2022-02-13T07:57:14.486Z"
   },
   {
    "duration": 5,
    "start_time": "2022-02-13T07:57:14.503Z"
   },
   {
    "duration": 6,
    "start_time": "2022-02-13T07:57:14.511Z"
   },
   {
    "duration": 1329,
    "start_time": "2022-02-13T07:57:14.519Z"
   },
   {
    "duration": 6,
    "start_time": "2022-02-13T07:57:15.850Z"
   },
   {
    "duration": 645,
    "start_time": "2022-02-13T07:57:15.870Z"
   },
   {
    "duration": 112,
    "start_time": "2022-02-13T07:57:16.406Z"
   },
   {
    "duration": 15,
    "start_time": "2022-02-13T07:57:16.505Z"
   },
   {
    "duration": -21,
    "start_time": "2022-02-13T07:57:16.543Z"
   },
   {
    "duration": -35,
    "start_time": "2022-02-13T07:57:16.558Z"
   },
   {
    "duration": -40,
    "start_time": "2022-02-13T07:57:16.564Z"
   },
   {
    "duration": -46,
    "start_time": "2022-02-13T07:57:16.572Z"
   },
   {
    "duration": -49,
    "start_time": "2022-02-13T07:57:16.576Z"
   },
   {
    "duration": -55,
    "start_time": "2022-02-13T07:57:16.583Z"
   },
   {
    "duration": -56,
    "start_time": "2022-02-13T07:57:16.586Z"
   },
   {
    "duration": -59,
    "start_time": "2022-02-13T07:57:16.590Z"
   },
   {
    "duration": -66,
    "start_time": "2022-02-13T07:57:16.598Z"
   },
   {
    "duration": -68,
    "start_time": "2022-02-13T07:57:16.601Z"
   },
   {
    "duration": -71,
    "start_time": "2022-02-13T07:57:16.606Z"
   },
   {
    "duration": -77,
    "start_time": "2022-02-13T07:57:16.613Z"
   },
   {
    "duration": -80,
    "start_time": "2022-02-13T07:57:16.617Z"
   },
   {
    "duration": -87,
    "start_time": "2022-02-13T07:57:16.625Z"
   },
   {
    "duration": -89,
    "start_time": "2022-02-13T07:57:16.628Z"
   },
   {
    "duration": -98,
    "start_time": "2022-02-13T07:57:16.639Z"
   },
   {
    "duration": -102,
    "start_time": "2022-02-13T07:57:16.644Z"
   },
   {
    "duration": -110,
    "start_time": "2022-02-13T07:57:16.653Z"
   },
   {
    "duration": 55705,
    "start_time": "2022-02-13T11:18:48.016Z"
   },
   {
    "duration": 1979,
    "start_time": "2022-02-13T11:20:20.286Z"
   },
   {
    "duration": 620,
    "start_time": "2022-02-13T11:20:22.270Z"
   },
   {
    "duration": 5,
    "start_time": "2022-02-13T11:20:22.894Z"
   },
   {
    "duration": 143,
    "start_time": "2022-02-13T11:20:22.903Z"
   },
   {
    "duration": 55,
    "start_time": "2022-02-13T11:20:23.050Z"
   },
   {
    "duration": 116,
    "start_time": "2022-02-13T11:20:23.109Z"
   },
   {
    "duration": 8,
    "start_time": "2022-02-13T11:20:23.227Z"
   },
   {
    "duration": 49,
    "start_time": "2022-02-13T11:20:23.240Z"
   },
   {
    "duration": 28,
    "start_time": "2022-02-13T11:20:23.292Z"
   },
   {
    "duration": 66,
    "start_time": "2022-02-13T11:20:23.323Z"
   },
   {
    "duration": 9,
    "start_time": "2022-02-13T11:20:23.392Z"
   },
   {
    "duration": 8,
    "start_time": "2022-02-13T11:20:23.403Z"
   },
   {
    "duration": 10,
    "start_time": "2022-02-13T11:20:23.413Z"
   },
   {
    "duration": 4,
    "start_time": "2022-02-13T11:20:23.426Z"
   },
   {
    "duration": 100,
    "start_time": "2022-02-13T11:20:23.469Z"
   },
   {
    "duration": 9,
    "start_time": "2022-02-13T11:20:23.572Z"
   },
   {
    "duration": 520,
    "start_time": "2022-02-13T11:20:23.583Z"
   },
   {
    "duration": 26,
    "start_time": "2022-02-13T11:20:24.105Z"
   },
   {
    "duration": 44,
    "start_time": "2022-02-13T11:20:24.134Z"
   },
   {
    "duration": 493,
    "start_time": "2022-02-13T11:20:24.180Z"
   },
   {
    "duration": 14,
    "start_time": "2022-02-13T11:20:24.676Z"
   },
   {
    "duration": 3,
    "start_time": "2022-02-13T11:20:24.692Z"
   },
   {
    "duration": 80,
    "start_time": "2022-02-13T11:20:24.701Z"
   },
   {
    "duration": 5,
    "start_time": "2022-02-13T11:20:24.785Z"
   },
   {
    "duration": 19,
    "start_time": "2022-02-13T11:20:24.792Z"
   },
   {
    "duration": 155,
    "start_time": "2022-02-13T11:20:24.814Z"
   },
   {
    "duration": 31,
    "start_time": "2022-02-13T11:20:24.972Z"
   },
   {
    "duration": 20,
    "start_time": "2022-02-13T11:20:25.005Z"
   },
   {
    "duration": 66,
    "start_time": "2022-02-13T11:20:25.028Z"
   },
   {
    "duration": 17,
    "start_time": "2022-02-13T11:20:25.096Z"
   },
   {
    "duration": 55,
    "start_time": "2022-02-13T11:20:25.116Z"
   },
   {
    "duration": 24,
    "start_time": "2022-02-13T11:20:25.173Z"
   },
   {
    "duration": 27,
    "start_time": "2022-02-13T11:20:25.200Z"
   },
   {
    "duration": 42,
    "start_time": "2022-02-13T11:20:25.230Z"
   },
   {
    "duration": 22,
    "start_time": "2022-02-13T11:20:25.275Z"
   },
   {
    "duration": 10,
    "start_time": "2022-02-13T11:20:25.300Z"
   },
   {
    "duration": 200,
    "start_time": "2022-02-13T11:20:25.313Z"
   },
   {
    "duration": 12,
    "start_time": "2022-02-13T11:20:25.516Z"
   },
   {
    "duration": 8,
    "start_time": "2022-02-13T11:20:25.530Z"
   },
   {
    "duration": 31,
    "start_time": "2022-02-13T11:20:25.540Z"
   },
   {
    "duration": 5,
    "start_time": "2022-02-13T11:20:25.574Z"
   },
   {
    "duration": 1297,
    "start_time": "2022-02-13T11:20:25.581Z"
   },
   {
    "duration": 6,
    "start_time": "2022-02-13T11:20:26.880Z"
   },
   {
    "duration": 652,
    "start_time": "2022-02-13T11:20:26.888Z"
   },
   {
    "duration": -150,
    "start_time": "2022-02-13T11:20:27.692Z"
   },
   {
    "duration": -230,
    "start_time": "2022-02-13T11:20:27.774Z"
   },
   {
    "duration": -261,
    "start_time": "2022-02-13T11:20:27.806Z"
   },
   {
    "duration": -282,
    "start_time": "2022-02-13T11:20:27.828Z"
   },
   {
    "duration": -292,
    "start_time": "2022-02-13T11:20:27.839Z"
   },
   {
    "duration": -301,
    "start_time": "2022-02-13T11:20:27.850Z"
   },
   {
    "duration": -310,
    "start_time": "2022-02-13T11:20:27.860Z"
   },
   {
    "duration": -314,
    "start_time": "2022-02-13T11:20:27.865Z"
   },
   {
    "duration": -322,
    "start_time": "2022-02-13T11:20:27.875Z"
   },
   {
    "duration": -332,
    "start_time": "2022-02-13T11:20:27.886Z"
   },
   {
    "duration": -335,
    "start_time": "2022-02-13T11:20:27.891Z"
   },
   {
    "duration": -344,
    "start_time": "2022-02-13T11:20:27.901Z"
   },
   {
    "duration": -353,
    "start_time": "2022-02-13T11:20:27.912Z"
   },
   {
    "duration": -356,
    "start_time": "2022-02-13T11:20:27.916Z"
   },
   {
    "duration": -364,
    "start_time": "2022-02-13T11:20:27.926Z"
   },
   {
    "duration": -366,
    "start_time": "2022-02-13T11:20:27.929Z"
   },
   {
    "duration": -374,
    "start_time": "2022-02-13T11:20:27.939Z"
   },
   {
    "duration": -377,
    "start_time": "2022-02-13T11:20:27.944Z"
   },
   {
    "duration": -384,
    "start_time": "2022-02-13T11:20:27.953Z"
   },
   {
    "duration": -387,
    "start_time": "2022-02-13T11:20:27.957Z"
   },
   {
    "duration": -396,
    "start_time": "2022-02-13T11:20:27.967Z"
   },
   {
    "duration": 1454,
    "start_time": "2022-02-13T11:21:03.500Z"
   },
   {
    "duration": 56028,
    "start_time": "2022-02-13T11:21:04.957Z"
   },
   {
    "duration": 559,
    "start_time": "2022-02-13T11:22:00.988Z"
   },
   {
    "duration": 4,
    "start_time": "2022-02-13T11:22:01.549Z"
   },
   {
    "duration": 106,
    "start_time": "2022-02-13T11:22:01.556Z"
   },
   {
    "duration": 54,
    "start_time": "2022-02-13T11:22:01.664Z"
   },
   {
    "duration": 110,
    "start_time": "2022-02-13T11:22:01.721Z"
   },
   {
    "duration": 38,
    "start_time": "2022-02-13T11:22:01.835Z"
   },
   {
    "duration": 48,
    "start_time": "2022-02-13T11:22:01.876Z"
   },
   {
    "duration": 33,
    "start_time": "2022-02-13T11:22:01.927Z"
   },
   {
    "duration": 39,
    "start_time": "2022-02-13T11:22:01.963Z"
   },
   {
    "duration": 10,
    "start_time": "2022-02-13T11:22:02.005Z"
   },
   {
    "duration": 24,
    "start_time": "2022-02-13T11:22:02.017Z"
   },
   {
    "duration": 35,
    "start_time": "2022-02-13T11:22:02.044Z"
   },
   {
    "duration": 15,
    "start_time": "2022-02-13T11:22:02.082Z"
   },
   {
    "duration": 111,
    "start_time": "2022-02-13T11:22:02.100Z"
   },
   {
    "duration": 9,
    "start_time": "2022-02-13T11:22:02.214Z"
   },
   {
    "duration": 511,
    "start_time": "2022-02-13T11:22:02.225Z"
   },
   {
    "duration": 37,
    "start_time": "2022-02-13T11:22:02.738Z"
   },
   {
    "duration": 22,
    "start_time": "2022-02-13T11:22:02.778Z"
   },
   {
    "duration": 517,
    "start_time": "2022-02-13T11:22:02.803Z"
   },
   {
    "duration": 14,
    "start_time": "2022-02-13T11:22:03.323Z"
   },
   {
    "duration": 26,
    "start_time": "2022-02-13T11:22:03.343Z"
   },
   {
    "duration": 67,
    "start_time": "2022-02-13T11:22:03.372Z"
   },
   {
    "duration": 7,
    "start_time": "2022-02-13T11:22:03.441Z"
   },
   {
    "duration": 5,
    "start_time": "2022-02-13T11:22:03.450Z"
   },
   {
    "duration": 145,
    "start_time": "2022-02-13T11:22:03.470Z"
   },
   {
    "duration": 34,
    "start_time": "2022-02-13T11:22:03.619Z"
   },
   {
    "duration": 34,
    "start_time": "2022-02-13T11:22:03.656Z"
   },
   {
    "duration": 35,
    "start_time": "2022-02-13T11:22:03.693Z"
   },
   {
    "duration": 53,
    "start_time": "2022-02-13T11:22:03.730Z"
   },
   {
    "duration": 33,
    "start_time": "2022-02-13T11:22:03.785Z"
   },
   {
    "duration": 52,
    "start_time": "2022-02-13T11:22:03.821Z"
   },
   {
    "duration": 30,
    "start_time": "2022-02-13T11:22:03.875Z"
   },
   {
    "duration": 13,
    "start_time": "2022-02-13T11:22:03.908Z"
   },
   {
    "duration": 50,
    "start_time": "2022-02-13T11:22:03.924Z"
   },
   {
    "duration": 17,
    "start_time": "2022-02-13T11:22:03.977Z"
   },
   {
    "duration": 188,
    "start_time": "2022-02-13T11:22:03.996Z"
   },
   {
    "duration": 11,
    "start_time": "2022-02-13T11:22:04.186Z"
   },
   {
    "duration": 24,
    "start_time": "2022-02-13T11:22:04.199Z"
   },
   {
    "duration": 11,
    "start_time": "2022-02-13T11:22:04.226Z"
   },
   {
    "duration": 16,
    "start_time": "2022-02-13T11:22:04.239Z"
   },
   {
    "duration": 1297,
    "start_time": "2022-02-13T11:22:04.258Z"
   },
   {
    "duration": 12,
    "start_time": "2022-02-13T11:22:05.557Z"
   },
   {
    "duration": 634,
    "start_time": "2022-02-13T11:22:05.571Z"
   },
   {
    "duration": -217,
    "start_time": "2022-02-13T11:22:06.425Z"
   },
   {
    "duration": -227,
    "start_time": "2022-02-13T11:22:06.436Z"
   },
   {
    "duration": -235,
    "start_time": "2022-02-13T11:22:06.446Z"
   },
   {
    "duration": -241,
    "start_time": "2022-02-13T11:22:06.454Z"
   },
   {
    "duration": -246,
    "start_time": "2022-02-13T11:22:06.460Z"
   },
   {
    "duration": -251,
    "start_time": "2022-02-13T11:22:06.466Z"
   },
   {
    "duration": -256,
    "start_time": "2022-02-13T11:22:06.473Z"
   },
   {
    "duration": -258,
    "start_time": "2022-02-13T11:22:06.476Z"
   },
   {
    "duration": -260,
    "start_time": "2022-02-13T11:22:06.479Z"
   },
   {
    "duration": -262,
    "start_time": "2022-02-13T11:22:06.482Z"
   },
   {
    "duration": -263,
    "start_time": "2022-02-13T11:22:06.485Z"
   },
   {
    "duration": -265,
    "start_time": "2022-02-13T11:22:06.488Z"
   },
   {
    "duration": -267,
    "start_time": "2022-02-13T11:22:06.491Z"
   },
   {
    "duration": -268,
    "start_time": "2022-02-13T11:22:06.494Z"
   },
   {
    "duration": -269,
    "start_time": "2022-02-13T11:22:06.496Z"
   },
   {
    "duration": -272,
    "start_time": "2022-02-13T11:22:06.500Z"
   },
   {
    "duration": -273,
    "start_time": "2022-02-13T11:22:06.503Z"
   },
   {
    "duration": -276,
    "start_time": "2022-02-13T11:22:06.507Z"
   },
   {
    "duration": -170,
    "start_time": "2022-02-13T11:22:06.509Z"
   },
   {
    "duration": -181,
    "start_time": "2022-02-13T11:22:06.521Z"
   },
   {
    "duration": 2203,
    "start_time": "2022-02-13T11:22:57.598Z"
   },
   {
    "duration": 955,
    "start_time": "2022-02-13T11:23:42.591Z"
   },
   {
    "duration": 1792,
    "start_time": "2022-02-13T11:24:01.936Z"
   },
   {
    "duration": 55957,
    "start_time": "2022-02-13T11:24:03.732Z"
   },
   {
    "duration": 843,
    "start_time": "2022-02-13T11:24:59.693Z"
   },
   {
    "duration": 556,
    "start_time": "2022-02-13T11:25:00.540Z"
   },
   {
    "duration": 5,
    "start_time": "2022-02-13T11:25:01.099Z"
   },
   {
    "duration": 104,
    "start_time": "2022-02-13T11:25:01.107Z"
   },
   {
    "duration": 60,
    "start_time": "2022-02-13T11:25:01.214Z"
   },
   {
    "duration": 113,
    "start_time": "2022-02-13T11:25:01.278Z"
   },
   {
    "duration": 10,
    "start_time": "2022-02-13T11:25:01.395Z"
   },
   {
    "duration": 28,
    "start_time": "2022-02-13T11:25:01.408Z"
   },
   {
    "duration": 54,
    "start_time": "2022-02-13T11:25:01.439Z"
   },
   {
    "duration": 34,
    "start_time": "2022-02-13T11:25:01.495Z"
   },
   {
    "duration": 42,
    "start_time": "2022-02-13T11:25:01.531Z"
   },
   {
    "duration": 8,
    "start_time": "2022-02-13T11:25:01.576Z"
   },
   {
    "duration": 23,
    "start_time": "2022-02-13T11:25:01.586Z"
   },
   {
    "duration": 18,
    "start_time": "2022-02-13T11:25:01.611Z"
   },
   {
    "duration": 98,
    "start_time": "2022-02-13T11:25:01.632Z"
   },
   {
    "duration": 11,
    "start_time": "2022-02-13T11:25:01.733Z"
   },
   {
    "duration": 532,
    "start_time": "2022-02-13T11:25:01.746Z"
   },
   {
    "duration": 28,
    "start_time": "2022-02-13T11:25:02.281Z"
   },
   {
    "duration": 25,
    "start_time": "2022-02-13T11:25:02.312Z"
   },
   {
    "duration": 509,
    "start_time": "2022-02-13T11:25:02.369Z"
   },
   {
    "duration": 14,
    "start_time": "2022-02-13T11:25:02.885Z"
   },
   {
    "duration": 4,
    "start_time": "2022-02-13T11:25:02.903Z"
   },
   {
    "duration": 83,
    "start_time": "2022-02-13T11:25:02.909Z"
   },
   {
    "duration": 6,
    "start_time": "2022-02-13T11:25:02.994Z"
   },
   {
    "duration": 13,
    "start_time": "2022-02-13T11:25:03.002Z"
   },
   {
    "duration": 147,
    "start_time": "2022-02-13T11:25:03.018Z"
   },
   {
    "duration": 31,
    "start_time": "2022-02-13T11:25:03.167Z"
   },
   {
    "duration": 19,
    "start_time": "2022-02-13T11:25:03.200Z"
   },
   {
    "duration": 66,
    "start_time": "2022-02-13T11:25:03.221Z"
   },
   {
    "duration": 19,
    "start_time": "2022-02-13T11:25:03.289Z"
   },
   {
    "duration": 32,
    "start_time": "2022-02-13T11:25:03.310Z"
   },
   {
    "duration": 45,
    "start_time": "2022-02-13T11:25:03.345Z"
   },
   {
    "duration": 29,
    "start_time": "2022-02-13T11:25:03.393Z"
   },
   {
    "duration": 44,
    "start_time": "2022-02-13T11:25:03.425Z"
   },
   {
    "duration": 20,
    "start_time": "2022-02-13T11:25:03.472Z"
   },
   {
    "duration": 8,
    "start_time": "2022-02-13T11:25:03.495Z"
   },
   {
    "duration": 182,
    "start_time": "2022-02-13T11:25:03.505Z"
   },
   {
    "duration": 10,
    "start_time": "2022-02-13T11:25:03.689Z"
   },
   {
    "duration": 7,
    "start_time": "2022-02-13T11:25:03.702Z"
   },
   {
    "duration": 6,
    "start_time": "2022-02-13T11:25:03.711Z"
   },
   {
    "duration": 5,
    "start_time": "2022-02-13T11:25:03.719Z"
   },
   {
    "duration": 1455,
    "start_time": "2022-02-13T11:25:03.727Z"
   },
   {
    "duration": 6,
    "start_time": "2022-02-13T11:25:05.186Z"
   },
   {
    "duration": 788,
    "start_time": "2022-02-13T11:25:05.195Z"
   },
   {
    "duration": -144,
    "start_time": "2022-02-13T11:25:06.130Z"
   },
   {
    "duration": -150,
    "start_time": "2022-02-13T11:25:06.137Z"
   },
   {
    "duration": -152,
    "start_time": "2022-02-13T11:25:06.141Z"
   },
   {
    "duration": -229,
    "start_time": "2022-02-13T11:25:06.220Z"
   },
   {
    "duration": -248,
    "start_time": "2022-02-13T11:25:06.240Z"
   },
   {
    "duration": -252,
    "start_time": "2022-02-13T11:25:06.246Z"
   },
   {
    "duration": -255,
    "start_time": "2022-02-13T11:25:06.250Z"
   },
   {
    "duration": -259,
    "start_time": "2022-02-13T11:25:06.255Z"
   },
   {
    "duration": -261,
    "start_time": "2022-02-13T11:25:06.259Z"
   },
   {
    "duration": -263,
    "start_time": "2022-02-13T11:25:06.263Z"
   },
   {
    "duration": -265,
    "start_time": "2022-02-13T11:25:06.267Z"
   },
   {
    "duration": -267,
    "start_time": "2022-02-13T11:25:06.271Z"
   },
   {
    "duration": -279,
    "start_time": "2022-02-13T11:25:06.284Z"
   },
   {
    "duration": -278,
    "start_time": "2022-02-13T11:25:06.286Z"
   },
   {
    "duration": -278,
    "start_time": "2022-02-13T11:25:06.288Z"
   },
   {
    "duration": -280,
    "start_time": "2022-02-13T11:25:06.291Z"
   },
   {
    "duration": -280,
    "start_time": "2022-02-13T11:25:06.293Z"
   },
   {
    "duration": -281,
    "start_time": "2022-02-13T11:25:06.295Z"
   },
   {
    "duration": -282,
    "start_time": "2022-02-13T11:25:06.298Z"
   },
   {
    "duration": -283,
    "start_time": "2022-02-13T11:25:06.300Z"
   },
   {
    "duration": 1522,
    "start_time": "2022-02-13T11:29:11.151Z"
   },
   {
    "duration": 558,
    "start_time": "2022-02-13T11:29:12.676Z"
   },
   {
    "duration": 4,
    "start_time": "2022-02-13T11:29:13.237Z"
   },
   {
    "duration": 83,
    "start_time": "2022-02-13T11:29:13.245Z"
   },
   {
    "duration": 65,
    "start_time": "2022-02-13T11:29:13.331Z"
   },
   {
    "duration": 105,
    "start_time": "2022-02-13T11:29:13.398Z"
   },
   {
    "duration": 8,
    "start_time": "2022-02-13T11:29:13.505Z"
   },
   {
    "duration": 20,
    "start_time": "2022-02-13T11:29:13.518Z"
   },
   {
    "duration": 54,
    "start_time": "2022-02-13T11:29:13.541Z"
   },
   {
    "duration": 36,
    "start_time": "2022-02-13T11:29:13.598Z"
   },
   {
    "duration": 40,
    "start_time": "2022-02-13T11:29:13.636Z"
   },
   {
    "duration": 7,
    "start_time": "2022-02-13T11:29:13.679Z"
   },
   {
    "duration": 9,
    "start_time": "2022-02-13T11:29:13.688Z"
   },
   {
    "duration": 5,
    "start_time": "2022-02-13T11:29:13.700Z"
   },
   {
    "duration": 120,
    "start_time": "2022-02-13T11:29:13.707Z"
   },
   {
    "duration": 8,
    "start_time": "2022-02-13T11:29:13.830Z"
   },
   {
    "duration": 498,
    "start_time": "2022-02-13T11:29:13.842Z"
   },
   {
    "duration": 38,
    "start_time": "2022-02-13T11:29:14.344Z"
   },
   {
    "duration": 28,
    "start_time": "2022-02-13T11:29:14.385Z"
   },
   {
    "duration": 533,
    "start_time": "2022-02-13T11:29:14.416Z"
   },
   {
    "duration": 30,
    "start_time": "2022-02-13T11:29:14.951Z"
   },
   {
    "duration": 4,
    "start_time": "2022-02-13T11:29:14.983Z"
   },
   {
    "duration": 76,
    "start_time": "2022-02-13T11:29:14.993Z"
   },
   {
    "duration": 5,
    "start_time": "2022-02-13T11:29:15.073Z"
   },
   {
    "duration": 15,
    "start_time": "2022-02-13T11:29:15.081Z"
   },
   {
    "duration": 163,
    "start_time": "2022-02-13T11:29:15.098Z"
   },
   {
    "duration": 36,
    "start_time": "2022-02-13T11:29:15.264Z"
   },
   {
    "duration": 22,
    "start_time": "2022-02-13T11:29:15.303Z"
   },
   {
    "duration": 62,
    "start_time": "2022-02-13T11:29:15.328Z"
   },
   {
    "duration": 21,
    "start_time": "2022-02-13T11:29:15.392Z"
   },
   {
    "duration": 58,
    "start_time": "2022-02-13T11:29:15.416Z"
   },
   {
    "duration": 27,
    "start_time": "2022-02-13T11:29:15.477Z"
   },
   {
    "duration": 64,
    "start_time": "2022-02-13T11:29:15.507Z"
   },
   {
    "duration": 17,
    "start_time": "2022-02-13T11:29:15.575Z"
   },
   {
    "duration": 23,
    "start_time": "2022-02-13T11:29:15.595Z"
   },
   {
    "duration": 10,
    "start_time": "2022-02-13T11:29:15.621Z"
   },
   {
    "duration": 173,
    "start_time": "2022-02-13T11:29:15.669Z"
   },
   {
    "duration": 26,
    "start_time": "2022-02-13T11:29:15.845Z"
   },
   {
    "duration": 11,
    "start_time": "2022-02-13T11:29:15.873Z"
   },
   {
    "duration": 6,
    "start_time": "2022-02-13T11:29:15.887Z"
   },
   {
    "duration": 7,
    "start_time": "2022-02-13T11:29:15.895Z"
   },
   {
    "duration": 1350,
    "start_time": "2022-02-13T11:29:15.905Z"
   },
   {
    "duration": 14,
    "start_time": "2022-02-13T11:29:17.257Z"
   },
   {
    "duration": 660,
    "start_time": "2022-02-13T11:29:17.274Z"
   },
   {
    "duration": -159,
    "start_time": "2022-02-13T11:29:18.095Z"
   },
   {
    "duration": -242,
    "start_time": "2022-02-13T11:29:18.180Z"
   },
   {
    "duration": -294,
    "start_time": "2022-02-13T11:29:18.233Z"
   },
   {
    "duration": -300,
    "start_time": "2022-02-13T11:29:18.241Z"
   },
   {
    "duration": -305,
    "start_time": "2022-02-13T11:29:18.248Z"
   },
   {
    "duration": -309,
    "start_time": "2022-02-13T11:29:18.254Z"
   },
   {
    "duration": -315,
    "start_time": "2022-02-13T11:29:18.261Z"
   },
   {
    "duration": -318,
    "start_time": "2022-02-13T11:29:18.266Z"
   },
   {
    "duration": -320,
    "start_time": "2022-02-13T11:29:18.269Z"
   },
   {
    "duration": -320,
    "start_time": "2022-02-13T11:29:18.271Z"
   },
   {
    "duration": -322,
    "start_time": "2022-02-13T11:29:18.274Z"
   },
   {
    "duration": -323,
    "start_time": "2022-02-13T11:29:18.277Z"
   },
   {
    "duration": -324,
    "start_time": "2022-02-13T11:29:18.279Z"
   },
   {
    "duration": -325,
    "start_time": "2022-02-13T11:29:18.282Z"
   },
   {
    "duration": -327,
    "start_time": "2022-02-13T11:29:18.285Z"
   },
   {
    "duration": -328,
    "start_time": "2022-02-13T11:29:18.288Z"
   },
   {
    "duration": -330,
    "start_time": "2022-02-13T11:29:18.291Z"
   },
   {
    "duration": -340,
    "start_time": "2022-02-13T11:29:18.303Z"
   },
   {
    "duration": -266,
    "start_time": "2022-02-13T11:29:18.306Z"
   },
   {
    "duration": -266,
    "start_time": "2022-02-13T11:29:18.308Z"
   },
   {
    "duration": 6,
    "start_time": "2022-02-13T11:35:42.124Z"
   },
   {
    "duration": 6544,
    "start_time": "2022-02-13T11:35:42.611Z"
   },
   {
    "duration": 1565,
    "start_time": "2022-02-13T11:36:32.828Z"
   },
   {
    "duration": 607,
    "start_time": "2022-02-13T11:36:34.396Z"
   },
   {
    "duration": 4,
    "start_time": "2022-02-13T11:36:35.006Z"
   },
   {
    "duration": 94,
    "start_time": "2022-02-13T11:36:35.013Z"
   },
   {
    "duration": 65,
    "start_time": "2022-02-13T11:36:35.109Z"
   },
   {
    "duration": 112,
    "start_time": "2022-02-13T11:36:35.176Z"
   },
   {
    "duration": 10,
    "start_time": "2022-02-13T11:36:35.292Z"
   },
   {
    "duration": 25,
    "start_time": "2022-02-13T11:36:35.305Z"
   },
   {
    "duration": 59,
    "start_time": "2022-02-13T11:36:35.333Z"
   },
   {
    "duration": 34,
    "start_time": "2022-02-13T11:36:35.396Z"
   },
   {
    "duration": 43,
    "start_time": "2022-02-13T11:36:35.432Z"
   },
   {
    "duration": 9,
    "start_time": "2022-02-13T11:36:35.477Z"
   },
   {
    "duration": 15,
    "start_time": "2022-02-13T11:36:35.490Z"
   },
   {
    "duration": 7,
    "start_time": "2022-02-13T11:36:35.507Z"
   },
   {
    "duration": 115,
    "start_time": "2022-02-13T11:36:35.517Z"
   },
   {
    "duration": 11,
    "start_time": "2022-02-13T11:36:35.635Z"
   },
   {
    "duration": 758,
    "start_time": "2022-02-13T11:36:35.669Z"
   },
   {
    "duration": 41,
    "start_time": "2022-02-13T11:36:36.430Z"
   },
   {
    "duration": 23,
    "start_time": "2022-02-13T11:36:36.474Z"
   },
   {
    "duration": 548,
    "start_time": "2022-02-13T11:36:36.500Z"
   },
   {
    "duration": 30,
    "start_time": "2022-02-13T11:36:37.051Z"
   },
   {
    "duration": 4,
    "start_time": "2022-02-13T11:36:37.084Z"
   },
   {
    "duration": 80,
    "start_time": "2022-02-13T11:36:37.091Z"
   },
   {
    "duration": 7,
    "start_time": "2022-02-13T11:36:37.175Z"
   },
   {
    "duration": 6,
    "start_time": "2022-02-13T11:36:37.185Z"
   },
   {
    "duration": 241,
    "start_time": "2022-02-13T11:36:37.194Z"
   },
   {
    "duration": 44,
    "start_time": "2022-02-13T11:36:37.438Z"
   },
   {
    "duration": 20,
    "start_time": "2022-02-13T11:36:37.490Z"
   },
   {
    "duration": 63,
    "start_time": "2022-02-13T11:36:37.513Z"
   },
   {
    "duration": 20,
    "start_time": "2022-02-13T11:36:37.578Z"
   },
   {
    "duration": 30,
    "start_time": "2022-02-13T11:36:37.600Z"
   },
   {
    "duration": 58,
    "start_time": "2022-02-13T11:36:37.632Z"
   },
   {
    "duration": 33,
    "start_time": "2022-02-13T11:36:37.693Z"
   },
   {
    "duration": 41,
    "start_time": "2022-02-13T11:36:37.729Z"
   },
   {
    "duration": 25,
    "start_time": "2022-02-13T11:36:37.773Z"
   },
   {
    "duration": 11,
    "start_time": "2022-02-13T11:36:37.801Z"
   },
   {
    "duration": 199,
    "start_time": "2022-02-13T11:36:37.815Z"
   },
   {
    "duration": 11,
    "start_time": "2022-02-13T11:36:38.018Z"
   },
   {
    "duration": 10,
    "start_time": "2022-02-13T11:36:38.031Z"
   },
   {
    "duration": 12,
    "start_time": "2022-02-13T11:36:38.069Z"
   },
   {
    "duration": 8,
    "start_time": "2022-02-13T11:36:38.084Z"
   },
   {
    "duration": 1325,
    "start_time": "2022-02-13T11:36:38.094Z"
   },
   {
    "duration": 7,
    "start_time": "2022-02-13T11:36:39.421Z"
   },
   {
    "duration": 201,
    "start_time": "2022-02-13T11:36:39.431Z"
   },
   {
    "duration": 0,
    "start_time": "2022-02-13T11:36:39.636Z"
   },
   {
    "duration": 1,
    "start_time": "2022-02-13T11:36:39.638Z"
   },
   {
    "duration": 0,
    "start_time": "2022-02-13T11:36:39.641Z"
   },
   {
    "duration": 0,
    "start_time": "2022-02-13T11:36:39.644Z"
   },
   {
    "duration": 1,
    "start_time": "2022-02-13T11:36:39.669Z"
   },
   {
    "duration": 0,
    "start_time": "2022-02-13T11:36:39.672Z"
   },
   {
    "duration": 0,
    "start_time": "2022-02-13T11:36:39.674Z"
   },
   {
    "duration": 0,
    "start_time": "2022-02-13T11:36:39.677Z"
   },
   {
    "duration": 1,
    "start_time": "2022-02-13T11:36:39.680Z"
   },
   {
    "duration": 0,
    "start_time": "2022-02-13T11:36:39.683Z"
   },
   {
    "duration": 1,
    "start_time": "2022-02-13T11:36:39.684Z"
   },
   {
    "duration": 0,
    "start_time": "2022-02-13T11:36:39.688Z"
   },
   {
    "duration": 1,
    "start_time": "2022-02-13T11:36:39.690Z"
   },
   {
    "duration": 1,
    "start_time": "2022-02-13T11:36:39.693Z"
   },
   {
    "duration": 0,
    "start_time": "2022-02-13T11:36:39.696Z"
   },
   {
    "duration": 0,
    "start_time": "2022-02-13T11:36:39.699Z"
   },
   {
    "duration": 0,
    "start_time": "2022-02-13T11:36:39.702Z"
   },
   {
    "duration": 0,
    "start_time": "2022-02-13T11:36:39.704Z"
   },
   {
    "duration": 0,
    "start_time": "2022-02-13T11:36:39.771Z"
   },
   {
    "duration": 0,
    "start_time": "2022-02-13T11:36:39.773Z"
   },
   {
    "duration": 6,
    "start_time": "2022-02-13T11:39:59.478Z"
   },
   {
    "duration": 5,
    "start_time": "2022-02-13T11:39:59.975Z"
   },
   {
    "duration": 1530,
    "start_time": "2022-02-13T11:47:19.477Z"
   },
   {
    "duration": 531,
    "start_time": "2022-02-13T11:47:21.010Z"
   },
   {
    "duration": 4,
    "start_time": "2022-02-13T11:47:21.544Z"
   },
   {
    "duration": 90,
    "start_time": "2022-02-13T11:47:21.552Z"
   },
   {
    "duration": 60,
    "start_time": "2022-02-13T11:47:21.644Z"
   },
   {
    "duration": 106,
    "start_time": "2022-02-13T11:47:21.706Z"
   },
   {
    "duration": 9,
    "start_time": "2022-02-13T11:47:21.815Z"
   },
   {
    "duration": 53,
    "start_time": "2022-02-13T11:47:21.826Z"
   },
   {
    "duration": 26,
    "start_time": "2022-02-13T11:47:21.881Z"
   },
   {
    "duration": 58,
    "start_time": "2022-02-13T11:47:21.912Z"
   },
   {
    "duration": 11,
    "start_time": "2022-02-13T11:47:21.974Z"
   },
   {
    "duration": 10,
    "start_time": "2022-02-13T11:47:21.988Z"
   },
   {
    "duration": 11,
    "start_time": "2022-02-13T11:47:22.000Z"
   },
   {
    "duration": 7,
    "start_time": "2022-02-13T11:47:22.013Z"
   },
   {
    "duration": 126,
    "start_time": "2022-02-13T11:47:22.023Z"
   },
   {
    "duration": 23,
    "start_time": "2022-02-13T11:47:22.151Z"
   },
   {
    "duration": 517,
    "start_time": "2022-02-13T11:47:22.177Z"
   },
   {
    "duration": 26,
    "start_time": "2022-02-13T11:47:22.696Z"
   },
   {
    "duration": 23,
    "start_time": "2022-02-13T11:47:22.724Z"
   },
   {
    "duration": 522,
    "start_time": "2022-02-13T11:47:22.770Z"
   },
   {
    "duration": 17,
    "start_time": "2022-02-13T11:47:23.294Z"
   },
   {
    "duration": 3,
    "start_time": "2022-02-13T11:47:23.314Z"
   },
   {
    "duration": 79,
    "start_time": "2022-02-13T11:47:23.320Z"
   },
   {
    "duration": 6,
    "start_time": "2022-02-13T11:47:23.402Z"
   },
   {
    "duration": 6,
    "start_time": "2022-02-13T11:47:23.410Z"
   },
   {
    "duration": 233,
    "start_time": "2022-02-13T11:47:23.418Z"
   },
   {
    "duration": 40,
    "start_time": "2022-02-13T11:47:23.653Z"
   },
   {
    "duration": 21,
    "start_time": "2022-02-13T11:47:23.699Z"
   },
   {
    "duration": 62,
    "start_time": "2022-02-13T11:47:23.722Z"
   },
   {
    "duration": 19,
    "start_time": "2022-02-13T11:47:23.786Z"
   },
   {
    "duration": 31,
    "start_time": "2022-02-13T11:47:23.807Z"
   },
   {
    "duration": 25,
    "start_time": "2022-02-13T11:47:23.869Z"
   },
   {
    "duration": 29,
    "start_time": "2022-02-13T11:47:23.896Z"
   },
   {
    "duration": 42,
    "start_time": "2022-02-13T11:47:23.928Z"
   },
   {
    "duration": 22,
    "start_time": "2022-02-13T11:47:23.973Z"
   },
   {
    "duration": 9,
    "start_time": "2022-02-13T11:47:23.997Z"
   },
   {
    "duration": 182,
    "start_time": "2022-02-13T11:47:24.008Z"
   },
   {
    "duration": 12,
    "start_time": "2022-02-13T11:47:24.192Z"
   },
   {
    "duration": 8,
    "start_time": "2022-02-13T11:47:24.206Z"
   },
   {
    "duration": 7,
    "start_time": "2022-02-13T11:47:24.216Z"
   },
   {
    "duration": 45,
    "start_time": "2022-02-13T11:47:24.225Z"
   },
   {
    "duration": 1316,
    "start_time": "2022-02-13T11:47:24.272Z"
   },
   {
    "duration": 6,
    "start_time": "2022-02-13T11:47:25.591Z"
   },
   {
    "duration": 201,
    "start_time": "2022-02-13T11:47:25.599Z"
   },
   {
    "duration": 0,
    "start_time": "2022-02-13T11:47:25.803Z"
   },
   {
    "duration": 0,
    "start_time": "2022-02-13T11:47:25.805Z"
   },
   {
    "duration": 0,
    "start_time": "2022-02-13T11:47:25.807Z"
   },
   {
    "duration": 0,
    "start_time": "2022-02-13T11:47:25.810Z"
   },
   {
    "duration": 0,
    "start_time": "2022-02-13T11:47:25.812Z"
   },
   {
    "duration": 0,
    "start_time": "2022-02-13T11:47:25.815Z"
   },
   {
    "duration": 0,
    "start_time": "2022-02-13T11:47:25.816Z"
   },
   {
    "duration": 1,
    "start_time": "2022-02-13T11:47:25.818Z"
   },
   {
    "duration": 1,
    "start_time": "2022-02-13T11:47:25.820Z"
   },
   {
    "duration": 0,
    "start_time": "2022-02-13T11:47:25.822Z"
   },
   {
    "duration": 0,
    "start_time": "2022-02-13T11:47:25.824Z"
   },
   {
    "duration": 0,
    "start_time": "2022-02-13T11:47:25.870Z"
   },
   {
    "duration": 0,
    "start_time": "2022-02-13T11:47:25.872Z"
   },
   {
    "duration": 0,
    "start_time": "2022-02-13T11:47:25.874Z"
   },
   {
    "duration": 0,
    "start_time": "2022-02-13T11:47:25.877Z"
   },
   {
    "duration": 1,
    "start_time": "2022-02-13T11:47:25.878Z"
   },
   {
    "duration": 0,
    "start_time": "2022-02-13T11:47:25.881Z"
   },
   {
    "duration": 0,
    "start_time": "2022-02-13T11:47:25.883Z"
   },
   {
    "duration": 0,
    "start_time": "2022-02-13T11:47:25.885Z"
   },
   {
    "duration": 0,
    "start_time": "2022-02-13T11:47:25.888Z"
   },
   {
    "duration": 4103,
    "start_time": "2022-02-13T11:48:42.420Z"
   },
   {
    "duration": 1991,
    "start_time": "2022-02-13T11:48:59.714Z"
   },
   {
    "duration": 683,
    "start_time": "2022-02-13T11:49:01.709Z"
   },
   {
    "duration": 4,
    "start_time": "2022-02-13T11:49:02.396Z"
   },
   {
    "duration": 194,
    "start_time": "2022-02-13T11:49:02.404Z"
   },
   {
    "duration": 85,
    "start_time": "2022-02-13T11:49:02.602Z"
   },
   {
    "duration": 126,
    "start_time": "2022-02-13T11:49:02.690Z"
   },
   {
    "duration": 9,
    "start_time": "2022-02-13T11:49:02.820Z"
   },
   {
    "duration": 62,
    "start_time": "2022-02-13T11:49:02.832Z"
   },
   {
    "duration": 39,
    "start_time": "2022-02-13T11:49:02.898Z"
   },
   {
    "duration": 52,
    "start_time": "2022-02-13T11:49:02.972Z"
   },
   {
    "duration": 14,
    "start_time": "2022-02-13T11:49:03.026Z"
   },
   {
    "duration": 30,
    "start_time": "2022-02-13T11:49:03.044Z"
   },
   {
    "duration": 10,
    "start_time": "2022-02-13T11:49:03.077Z"
   },
   {
    "duration": 10,
    "start_time": "2022-02-13T11:49:03.091Z"
   },
   {
    "duration": 130,
    "start_time": "2022-02-13T11:49:03.104Z"
   },
   {
    "duration": 10,
    "start_time": "2022-02-13T11:49:03.237Z"
   },
   {
    "duration": 490,
    "start_time": "2022-02-13T11:49:03.269Z"
   },
   {
    "duration": 31,
    "start_time": "2022-02-13T11:49:03.761Z"
   },
   {
    "duration": 22,
    "start_time": "2022-02-13T11:49:03.794Z"
   },
   {
    "duration": 540,
    "start_time": "2022-02-13T11:49:03.818Z"
   },
   {
    "duration": 17,
    "start_time": "2022-02-13T11:49:04.371Z"
   },
   {
    "duration": 4,
    "start_time": "2022-02-13T11:49:04.391Z"
   },
   {
    "duration": 84,
    "start_time": "2022-02-13T11:49:04.398Z"
   },
   {
    "duration": 8,
    "start_time": "2022-02-13T11:49:04.485Z"
   },
   {
    "duration": 8,
    "start_time": "2022-02-13T11:49:04.496Z"
   },
   {
    "duration": 324,
    "start_time": "2022-02-13T11:49:04.508Z"
   },
   {
    "duration": 45,
    "start_time": "2022-02-13T11:49:04.835Z"
   },
   {
    "duration": 21,
    "start_time": "2022-02-13T11:49:04.886Z"
   },
   {
    "duration": 62,
    "start_time": "2022-02-13T11:49:04.909Z"
   },
   {
    "duration": 19,
    "start_time": "2022-02-13T11:49:04.974Z"
   },
   {
    "duration": 32,
    "start_time": "2022-02-13T11:49:04.995Z"
   },
   {
    "duration": 60,
    "start_time": "2022-02-13T11:49:05.030Z"
   },
   {
    "duration": 32,
    "start_time": "2022-02-13T11:49:05.093Z"
   },
   {
    "duration": 48,
    "start_time": "2022-02-13T11:49:05.127Z"
   },
   {
    "duration": 21,
    "start_time": "2022-02-13T11:49:05.178Z"
   },
   {
    "duration": 10,
    "start_time": "2022-02-13T11:49:05.201Z"
   },
   {
    "duration": 319,
    "start_time": "2022-02-13T11:49:05.214Z"
   },
   {
    "duration": 15,
    "start_time": "2022-02-13T11:49:05.537Z"
   },
   {
    "duration": 22,
    "start_time": "2022-02-13T11:49:05.554Z"
   },
   {
    "duration": 8,
    "start_time": "2022-02-13T11:49:05.580Z"
   },
   {
    "duration": 9,
    "start_time": "2022-02-13T11:49:05.591Z"
   },
   {
    "duration": 1423,
    "start_time": "2022-02-13T11:49:05.602Z"
   },
   {
    "duration": 7,
    "start_time": "2022-02-13T11:49:07.028Z"
   },
   {
    "duration": 925,
    "start_time": "2022-02-13T11:49:07.037Z"
   },
   {
    "duration": 835,
    "start_time": "2022-02-13T11:49:07.969Z"
   },
   {
    "duration": 852,
    "start_time": "2022-02-13T11:49:08.807Z"
   },
   {
    "duration": 29,
    "start_time": "2022-02-13T11:49:09.669Z"
   },
   {
    "duration": 26,
    "start_time": "2022-02-13T11:49:09.702Z"
   },
   {
    "duration": 39,
    "start_time": "2022-02-13T11:49:09.731Z"
   },
   {
    "duration": 11,
    "start_time": "2022-02-13T11:49:09.773Z"
   },
   {
    "duration": 5,
    "start_time": "2022-02-13T11:49:09.787Z"
   },
   {
    "duration": 10,
    "start_time": "2022-02-13T11:49:09.795Z"
   },
   {
    "duration": 7,
    "start_time": "2022-02-13T11:49:09.809Z"
   },
   {
    "duration": 6,
    "start_time": "2022-02-13T11:49:09.869Z"
   },
   {
    "duration": 7,
    "start_time": "2022-02-13T11:49:09.878Z"
   },
   {
    "duration": 9,
    "start_time": "2022-02-13T11:49:09.888Z"
   },
   {
    "duration": 84,
    "start_time": "2022-02-13T11:49:09.899Z"
   },
   {
    "duration": 42,
    "start_time": "2022-02-13T11:49:09.986Z"
   },
   {
    "duration": 5,
    "start_time": "2022-02-13T11:49:10.031Z"
   },
   {
    "duration": 9,
    "start_time": "2022-02-13T11:49:10.071Z"
   },
   {
    "duration": 23,
    "start_time": "2022-02-13T11:49:10.083Z"
   },
   {
    "duration": 12,
    "start_time": "2022-02-13T11:49:10.109Z"
   },
   {
    "duration": 8,
    "start_time": "2022-02-13T11:49:10.123Z"
   },
   {
    "duration": 37,
    "start_time": "2022-02-13T11:49:10.134Z"
   },
   {
    "duration": 5,
    "start_time": "2022-02-13T11:51:40.221Z"
   },
   {
    "duration": 7,
    "start_time": "2022-02-13T11:54:21.711Z"
   },
   {
    "duration": 67,
    "start_time": "2022-02-13T11:55:55.952Z"
   },
   {
    "duration": 10,
    "start_time": "2022-02-13T11:57:32.313Z"
   },
   {
    "duration": 622,
    "start_time": "2022-02-13T11:57:34.131Z"
   },
   {
    "duration": 128,
    "start_time": "2022-02-13T11:58:06.590Z"
   },
   {
    "duration": 802,
    "start_time": "2022-02-13T11:58:07.706Z"
   },
   {
    "duration": 22,
    "start_time": "2022-02-13T11:58:43.087Z"
   },
   {
    "duration": 17,
    "start_time": "2022-02-13T11:59:49.137Z"
   },
   {
    "duration": 517,
    "start_time": "2022-02-13T11:59:52.858Z"
   },
   {
    "duration": 298,
    "start_time": "2022-02-13T12:02:15.335Z"
   },
   {
    "duration": 9,
    "start_time": "2022-02-13T12:07:07.845Z"
   },
   {
    "duration": 19,
    "start_time": "2022-02-13T12:07:09.663Z"
   },
   {
    "duration": 10,
    "start_time": "2022-02-13T12:07:48.126Z"
   },
   {
    "duration": 278,
    "start_time": "2022-02-13T12:07:49.157Z"
   },
   {
    "duration": 9,
    "start_time": "2022-02-13T12:08:02.168Z"
   },
   {
    "duration": 396,
    "start_time": "2022-02-13T12:08:03.051Z"
   },
   {
    "duration": 9,
    "start_time": "2022-02-13T12:08:22.011Z"
   },
   {
    "duration": 489,
    "start_time": "2022-02-13T12:08:23.188Z"
   },
   {
    "duration": 10,
    "start_time": "2022-02-13T12:15:35.775Z"
   },
   {
    "duration": 487,
    "start_time": "2022-02-13T12:15:37.086Z"
   },
   {
    "duration": 10,
    "start_time": "2022-02-13T12:16:04.410Z"
   },
   {
    "duration": 489,
    "start_time": "2022-02-13T12:16:06.084Z"
   },
   {
    "duration": 121,
    "start_time": "2022-02-13T12:16:17.531Z"
   },
   {
    "duration": 480,
    "start_time": "2022-02-13T12:16:18.904Z"
   },
   {
    "duration": 16,
    "start_time": "2022-02-13T12:17:20.451Z"
   },
   {
    "duration": 514,
    "start_time": "2022-02-13T12:17:21.169Z"
   },
   {
    "duration": 49,
    "start_time": "2022-02-13T12:18:25.624Z"
   },
   {
    "duration": 6,
    "start_time": "2022-02-13T12:18:28.599Z"
   },
   {
    "duration": 6,
    "start_time": "2022-02-13T12:18:31.118Z"
   },
   {
    "duration": 143,
    "start_time": "2022-02-13T12:18:31.823Z"
   },
   {
    "duration": 30,
    "start_time": "2022-02-13T12:18:36.970Z"
   },
   {
    "duration": 153,
    "start_time": "2022-02-13T12:33:07.885Z"
   },
   {
    "duration": 1487,
    "start_time": "2022-02-13T13:07:17.180Z"
   },
   {
    "duration": 542,
    "start_time": "2022-02-13T13:07:18.671Z"
   },
   {
    "duration": 4,
    "start_time": "2022-02-13T13:07:19.216Z"
   },
   {
    "duration": 83,
    "start_time": "2022-02-13T13:07:19.223Z"
   },
   {
    "duration": 43,
    "start_time": "2022-02-13T13:07:19.309Z"
   },
   {
    "duration": 107,
    "start_time": "2022-02-13T13:07:19.368Z"
   },
   {
    "duration": 11,
    "start_time": "2022-02-13T13:07:19.479Z"
   },
   {
    "duration": 27,
    "start_time": "2022-02-13T13:07:19.493Z"
   },
   {
    "duration": 61,
    "start_time": "2022-02-13T13:07:19.523Z"
   },
   {
    "duration": 38,
    "start_time": "2022-02-13T13:07:19.588Z"
   },
   {
    "duration": 10,
    "start_time": "2022-02-13T13:07:19.628Z"
   },
   {
    "duration": 9,
    "start_time": "2022-02-13T13:07:19.670Z"
   },
   {
    "duration": 9,
    "start_time": "2022-02-13T13:07:19.682Z"
   },
   {
    "duration": 9,
    "start_time": "2022-02-13T13:07:19.693Z"
   },
   {
    "duration": 132,
    "start_time": "2022-02-13T13:07:19.705Z"
   },
   {
    "duration": 10,
    "start_time": "2022-02-13T13:07:19.839Z"
   },
   {
    "duration": 530,
    "start_time": "2022-02-13T13:07:19.851Z"
   },
   {
    "duration": 27,
    "start_time": "2022-02-13T13:07:20.384Z"
   },
   {
    "duration": 17,
    "start_time": "2022-02-13T13:07:20.414Z"
   },
   {
    "duration": 555,
    "start_time": "2022-02-13T13:07:20.433Z"
   },
   {
    "duration": 15,
    "start_time": "2022-02-13T13:07:20.991Z"
   },
   {
    "duration": 4,
    "start_time": "2022-02-13T13:07:21.010Z"
   },
   {
    "duration": 93,
    "start_time": "2022-02-13T13:07:21.017Z"
   },
   {
    "duration": 7,
    "start_time": "2022-02-13T13:07:21.112Z"
   },
   {
    "duration": 5,
    "start_time": "2022-02-13T13:07:21.122Z"
   },
   {
    "duration": 249,
    "start_time": "2022-02-13T13:07:21.130Z"
   },
   {
    "duration": 31,
    "start_time": "2022-02-13T13:07:21.381Z"
   },
   {
    "duration": 21,
    "start_time": "2022-02-13T13:07:21.418Z"
   },
   {
    "duration": 60,
    "start_time": "2022-02-13T13:07:21.442Z"
   },
   {
    "duration": 19,
    "start_time": "2022-02-13T13:07:21.504Z"
   },
   {
    "duration": 65,
    "start_time": "2022-02-13T13:07:21.525Z"
   },
   {
    "duration": 191,
    "start_time": "2022-02-13T13:07:21.593Z"
   },
   {
    "duration": 0,
    "start_time": "2022-02-13T13:07:21.787Z"
   },
   {
    "duration": 0,
    "start_time": "2022-02-13T13:07:21.789Z"
   },
   {
    "duration": 0,
    "start_time": "2022-02-13T13:07:21.791Z"
   },
   {
    "duration": 0,
    "start_time": "2022-02-13T13:07:21.793Z"
   },
   {
    "duration": 1,
    "start_time": "2022-02-13T13:07:21.795Z"
   },
   {
    "duration": 0,
    "start_time": "2022-02-13T13:07:21.797Z"
   },
   {
    "duration": 0,
    "start_time": "2022-02-13T13:07:21.799Z"
   },
   {
    "duration": 0,
    "start_time": "2022-02-13T13:07:21.801Z"
   },
   {
    "duration": 0,
    "start_time": "2022-02-13T13:07:21.803Z"
   },
   {
    "duration": 0,
    "start_time": "2022-02-13T13:07:21.805Z"
   },
   {
    "duration": 0,
    "start_time": "2022-02-13T13:07:21.807Z"
   },
   {
    "duration": 1,
    "start_time": "2022-02-13T13:07:21.808Z"
   },
   {
    "duration": 0,
    "start_time": "2022-02-13T13:07:21.811Z"
   },
   {
    "duration": 0,
    "start_time": "2022-02-13T13:07:21.812Z"
   },
   {
    "duration": 0,
    "start_time": "2022-02-13T13:07:21.814Z"
   },
   {
    "duration": 52,
    "start_time": "2022-02-13T13:07:21.816Z"
   },
   {
    "duration": 0,
    "start_time": "2022-02-13T13:07:21.870Z"
   },
   {
    "duration": 0,
    "start_time": "2022-02-13T13:07:21.872Z"
   },
   {
    "duration": 0,
    "start_time": "2022-02-13T13:07:21.874Z"
   },
   {
    "duration": 0,
    "start_time": "2022-02-13T13:07:21.875Z"
   },
   {
    "duration": 0,
    "start_time": "2022-02-13T13:07:21.877Z"
   },
   {
    "duration": 0,
    "start_time": "2022-02-13T13:07:21.879Z"
   },
   {
    "duration": 0,
    "start_time": "2022-02-13T13:07:21.880Z"
   },
   {
    "duration": 0,
    "start_time": "2022-02-13T13:07:21.882Z"
   },
   {
    "duration": 0,
    "start_time": "2022-02-13T13:07:21.884Z"
   },
   {
    "duration": 1,
    "start_time": "2022-02-13T13:07:21.885Z"
   },
   {
    "duration": 1,
    "start_time": "2022-02-13T13:07:21.887Z"
   },
   {
    "duration": 0,
    "start_time": "2022-02-13T13:07:21.889Z"
   },
   {
    "duration": 0,
    "start_time": "2022-02-13T13:07:21.891Z"
   },
   {
    "duration": 0,
    "start_time": "2022-02-13T13:07:21.893Z"
   },
   {
    "duration": 0,
    "start_time": "2022-02-13T13:07:21.894Z"
   },
   {
    "duration": 0,
    "start_time": "2022-02-13T13:07:21.896Z"
   },
   {
    "duration": 5,
    "start_time": "2022-02-13T13:08:56.885Z"
   },
   {
    "duration": 36,
    "start_time": "2022-02-13T13:09:03.670Z"
   },
   {
    "duration": 40,
    "start_time": "2022-02-13T13:09:13.767Z"
   },
   {
    "duration": 80,
    "start_time": "2022-02-13T13:09:58.022Z"
   },
   {
    "duration": 82,
    "start_time": "2022-02-13T13:10:13.123Z"
   },
   {
    "duration": 80,
    "start_time": "2022-02-13T13:10:21.533Z"
   },
   {
    "duration": 93,
    "start_time": "2022-02-13T13:10:34.709Z"
   },
   {
    "duration": 26,
    "start_time": "2022-02-13T13:12:34.178Z"
   },
   {
    "duration": 30,
    "start_time": "2022-02-13T13:12:45.986Z"
   },
   {
    "duration": 16,
    "start_time": "2022-02-13T13:12:53.163Z"
   },
   {
    "duration": 22,
    "start_time": "2022-02-13T13:12:53.935Z"
   },
   {
    "duration": 9,
    "start_time": "2022-02-13T13:13:33.075Z"
   },
   {
    "duration": 155,
    "start_time": "2022-02-13T13:13:33.719Z"
   },
   {
    "duration": 12,
    "start_time": "2022-02-13T13:13:39.587Z"
   },
   {
    "duration": 8,
    "start_time": "2022-02-13T13:13:44.056Z"
   },
   {
    "duration": 6,
    "start_time": "2022-02-13T13:13:45.081Z"
   },
   {
    "duration": 5,
    "start_time": "2022-02-13T13:13:58.807Z"
   },
   {
    "duration": 1337,
    "start_time": "2022-02-13T13:14:00.151Z"
   },
   {
    "duration": 6,
    "start_time": "2022-02-13T13:22:12.055Z"
   },
   {
    "duration": 1352,
    "start_time": "2022-02-13T13:22:12.812Z"
   },
   {
    "duration": 6,
    "start_time": "2022-02-13T13:22:20.887Z"
   },
   {
    "duration": 1374,
    "start_time": "2022-02-13T13:22:21.530Z"
   },
   {
    "duration": 6,
    "start_time": "2022-02-13T13:22:37.725Z"
   },
   {
    "duration": 1391,
    "start_time": "2022-02-13T13:22:38.283Z"
   },
   {
    "duration": 1572,
    "start_time": "2022-02-13T13:22:59.674Z"
   },
   {
    "duration": 586,
    "start_time": "2022-02-13T13:23:01.249Z"
   },
   {
    "duration": 5,
    "start_time": "2022-02-13T13:23:01.838Z"
   },
   {
    "duration": 101,
    "start_time": "2022-02-13T13:23:01.847Z"
   },
   {
    "duration": 56,
    "start_time": "2022-02-13T13:23:01.951Z"
   },
   {
    "duration": 108,
    "start_time": "2022-02-13T13:23:02.009Z"
   },
   {
    "duration": 10,
    "start_time": "2022-02-13T13:23:02.119Z"
   },
   {
    "duration": 57,
    "start_time": "2022-02-13T13:23:02.131Z"
   },
   {
    "duration": 28,
    "start_time": "2022-02-13T13:23:02.191Z"
   },
   {
    "duration": 69,
    "start_time": "2022-02-13T13:23:02.224Z"
   },
   {
    "duration": 9,
    "start_time": "2022-02-13T13:23:02.295Z"
   },
   {
    "duration": 56,
    "start_time": "2022-02-13T13:23:02.306Z"
   },
   {
    "duration": 23,
    "start_time": "2022-02-13T13:23:02.365Z"
   },
   {
    "duration": 27,
    "start_time": "2022-02-13T13:23:02.391Z"
   },
   {
    "duration": 128,
    "start_time": "2022-02-13T13:23:02.421Z"
   },
   {
    "duration": 27,
    "start_time": "2022-02-13T13:23:02.553Z"
   },
   {
    "duration": 532,
    "start_time": "2022-02-13T13:23:02.584Z"
   },
   {
    "duration": 27,
    "start_time": "2022-02-13T13:23:03.119Z"
   },
   {
    "duration": 48,
    "start_time": "2022-02-13T13:23:03.149Z"
   },
   {
    "duration": 545,
    "start_time": "2022-02-13T13:23:03.200Z"
   },
   {
    "duration": 25,
    "start_time": "2022-02-13T13:23:03.747Z"
   },
   {
    "duration": 55,
    "start_time": "2022-02-13T13:23:03.775Z"
   },
   {
    "duration": 134,
    "start_time": "2022-02-13T13:23:03.833Z"
   },
   {
    "duration": 46,
    "start_time": "2022-02-13T13:23:03.970Z"
   },
   {
    "duration": 108,
    "start_time": "2022-02-13T13:23:04.019Z"
   },
   {
    "duration": 340,
    "start_time": "2022-02-13T13:23:04.129Z"
   },
   {
    "duration": 34,
    "start_time": "2022-02-13T13:23:04.471Z"
   },
   {
    "duration": 74,
    "start_time": "2022-02-13T13:23:04.513Z"
   },
   {
    "duration": 106,
    "start_time": "2022-02-13T13:23:04.590Z"
   },
   {
    "duration": 52,
    "start_time": "2022-02-13T13:23:04.699Z"
   },
   {
    "duration": 71,
    "start_time": "2022-02-13T13:23:04.754Z"
   },
   {
    "duration": 45,
    "start_time": "2022-02-13T13:23:04.828Z"
   },
   {
    "duration": 63,
    "start_time": "2022-02-13T13:23:04.875Z"
   },
   {
    "duration": 21,
    "start_time": "2022-02-13T13:23:04.940Z"
   },
   {
    "duration": 67,
    "start_time": "2022-02-13T13:23:04.963Z"
   },
   {
    "duration": 141,
    "start_time": "2022-02-13T13:23:05.032Z"
   },
   {
    "duration": 286,
    "start_time": "2022-02-13T13:23:05.176Z"
   },
   {
    "duration": 15,
    "start_time": "2022-02-13T13:23:05.465Z"
   },
   {
    "duration": 74,
    "start_time": "2022-02-13T13:23:05.483Z"
   },
   {
    "duration": 67,
    "start_time": "2022-02-13T13:23:05.559Z"
   },
   {
    "duration": 67,
    "start_time": "2022-02-13T13:23:05.628Z"
   },
   {
    "duration": 1440,
    "start_time": "2022-02-13T13:23:05.697Z"
   },
   {
    "duration": 6,
    "start_time": "2022-02-13T13:23:07.139Z"
   },
   {
    "duration": 1000,
    "start_time": "2022-02-13T13:23:07.148Z"
   },
   {
    "duration": 870,
    "start_time": "2022-02-13T13:23:08.150Z"
   },
   {
    "duration": 1003,
    "start_time": "2022-02-13T13:23:09.023Z"
   },
   {
    "duration": 43,
    "start_time": "2022-02-13T13:23:10.030Z"
   },
   {
    "duration": 27,
    "start_time": "2022-02-13T13:23:10.076Z"
   },
   {
    "duration": 11,
    "start_time": "2022-02-13T13:23:10.106Z"
   },
   {
    "duration": 11,
    "start_time": "2022-02-13T13:23:10.119Z"
   },
   {
    "duration": 40,
    "start_time": "2022-02-13T13:23:10.132Z"
   },
   {
    "duration": 9,
    "start_time": "2022-02-13T13:23:10.174Z"
   },
   {
    "duration": 7,
    "start_time": "2022-02-13T13:23:10.185Z"
   },
   {
    "duration": 8,
    "start_time": "2022-02-13T13:23:10.195Z"
   },
   {
    "duration": 9,
    "start_time": "2022-02-13T13:23:10.205Z"
   },
   {
    "duration": 13,
    "start_time": "2022-02-13T13:23:10.217Z"
   },
   {
    "duration": 45,
    "start_time": "2022-02-13T13:23:10.268Z"
   },
   {
    "duration": 62,
    "start_time": "2022-02-13T13:23:10.316Z"
   },
   {
    "duration": 5,
    "start_time": "2022-02-13T13:23:10.380Z"
   },
   {
    "duration": 10,
    "start_time": "2022-02-13T13:23:10.387Z"
   },
   {
    "duration": 6,
    "start_time": "2022-02-13T13:23:10.400Z"
   },
   {
    "duration": 9,
    "start_time": "2022-02-13T13:23:10.409Z"
   },
   {
    "duration": 6,
    "start_time": "2022-02-13T13:23:10.420Z"
   },
   {
    "duration": 47,
    "start_time": "2022-02-13T13:23:10.428Z"
   }
  ],
  "kernelspec": {
   "display_name": "Python 3 (ipykernel)",
   "language": "python",
   "name": "python3"
  },
  "language_info": {
   "codemirror_mode": {
    "name": "ipython",
    "version": 3
   },
   "file_extension": ".py",
   "mimetype": "text/x-python",
   "name": "python",
   "nbconvert_exporter": "python",
   "pygments_lexer": "ipython3",
   "version": "3.9.7"
  },
  "toc": {
   "base_numbering": 1,
   "nav_menu": {},
   "number_sections": true,
   "sideBar": true,
   "skip_h1_title": true,
   "title_cell": "Table of Contents",
   "title_sidebar": "Contents",
   "toc_cell": false,
   "toc_position": {},
   "toc_section_display": true,
   "toc_window_display": false
  }
 },
 "nbformat": 4,
 "nbformat_minor": 5
}
