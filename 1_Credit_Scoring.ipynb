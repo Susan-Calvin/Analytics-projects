{
  "cells": [
    {
      "cell_type": "markdown",
      "metadata": {
        "id": "UOnvZtc2QtwA"
      },
      "source": [
        "# Analyzing borrower’s risk of defaulting\n",
        "\n",
        "Our project is to prepare a report for a bank’s loan division. We’ll need to find out if a customer’s marital status and number of children has an impact on whether they will default on a loan. The bank already has some data on customers’ credit worthiness.\n",
        "\n",
        "Our report will be considered when building the **credit score** of a potential customer. The **credit score** is used to evaluate the ability of a potential borrower to repay their loan.\n"
      ]
    },
    {
      "cell_type": "markdown",
      "metadata": {
        "id": "4eAVbZtSQtwF"
      },
      "source": [
        "## Open the data file and have a look at the general information. "
      ]
    },
    {
      "cell_type": "code",
      "execution_count": null,
      "metadata": {
        "id": "KvhgH3vZQtwG"
      },
      "outputs": [],
      "source": [
        "# Loading all the libraries\n",
        "import pandas as pd\n",
        "import nltk\n",
        "nltk.download('all')\n",
        "\n",
        "from nltk.stem import SnowballStemmer\n",
        "from nltk.stem import WordNetLemmatizer\n",
        "import warnings\n",
        "\n",
        "warnings.filterwarnings(\"ignore\")"
      ]
    },
    {
      "cell_type": "code",
      "execution_count": 2,
      "metadata": {
        "colab": {
          "base_uri": "https://localhost:8080/",
          "height": 423
        },
        "id": "NEeTjbgeQtwH",
        "outputId": "6c1a6435-9533-4ac9-fa8a-643b3e2c4aef"
      },
      "outputs": [
        {
          "output_type": "execute_result",
          "data": {
            "text/plain": [
              "       children  days_employed  dob_years            education  education_id  \\\n",
              "0             1   -8437.673028         42    bachelor's degree             0   \n",
              "1             1   -4024.803754         36  secondary education             1   \n",
              "2             0   -5623.422610         33  Secondary Education             1   \n",
              "3             3   -4124.747207         32  secondary education             1   \n",
              "4             0  340266.072047         53  secondary education             1   \n",
              "...         ...            ...        ...                  ...           ...   \n",
              "21520         1   -4529.316663         43  secondary education             1   \n",
              "21521         0  343937.404131         67  secondary education             1   \n",
              "21522         1   -2113.346888         38  secondary education             1   \n",
              "21523         3   -3112.481705         38  secondary education             1   \n",
              "21524         2   -1984.507589         40  secondary education             1   \n",
              "\n",
              "           family_status  family_status_id gender income_type  debt  \\\n",
              "0                married                 0      F    employee     0   \n",
              "1                married                 0      F    employee     0   \n",
              "2                married                 0      M    employee     0   \n",
              "3                married                 0      M    employee     0   \n",
              "4      civil partnership                 1      F     retiree     0   \n",
              "...                  ...               ...    ...         ...   ...   \n",
              "21520  civil partnership                 1      F    business     0   \n",
              "21521            married                 0      F     retiree     0   \n",
              "21522  civil partnership                 1      M    employee     1   \n",
              "21523            married                 0      M    employee     1   \n",
              "21524            married                 0      F    employee     0   \n",
              "\n",
              "       total_income                  purpose  \n",
              "0         40620.102    purchase of the house  \n",
              "1         17932.802             car purchase  \n",
              "2         23341.752    purchase of the house  \n",
              "3         42820.568  supplementary education  \n",
              "4         25378.572        to have a wedding  \n",
              "...             ...                      ...  \n",
              "21520     35966.698     housing transactions  \n",
              "21521     24959.969        purchase of a car  \n",
              "21522     14347.610                 property  \n",
              "21523     39054.888        buying my own car  \n",
              "21524     13127.587             to buy a car  \n",
              "\n",
              "[21525 rows x 12 columns]"
            ],
            "text/html": [
              "\n",
              "  <div id=\"df-b1468736-0ae5-42a3-8095-992b37fd0bd0\">\n",
              "    <div class=\"colab-df-container\">\n",
              "      <div>\n",
              "<style scoped>\n",
              "    .dataframe tbody tr th:only-of-type {\n",
              "        vertical-align: middle;\n",
              "    }\n",
              "\n",
              "    .dataframe tbody tr th {\n",
              "        vertical-align: top;\n",
              "    }\n",
              "\n",
              "    .dataframe thead th {\n",
              "        text-align: right;\n",
              "    }\n",
              "</style>\n",
              "<table border=\"1\" class=\"dataframe\">\n",
              "  <thead>\n",
              "    <tr style=\"text-align: right;\">\n",
              "      <th></th>\n",
              "      <th>children</th>\n",
              "      <th>days_employed</th>\n",
              "      <th>dob_years</th>\n",
              "      <th>education</th>\n",
              "      <th>education_id</th>\n",
              "      <th>family_status</th>\n",
              "      <th>family_status_id</th>\n",
              "      <th>gender</th>\n",
              "      <th>income_type</th>\n",
              "      <th>debt</th>\n",
              "      <th>total_income</th>\n",
              "      <th>purpose</th>\n",
              "    </tr>\n",
              "  </thead>\n",
              "  <tbody>\n",
              "    <tr>\n",
              "      <th>0</th>\n",
              "      <td>1</td>\n",
              "      <td>-8437.673028</td>\n",
              "      <td>42</td>\n",
              "      <td>bachelor's degree</td>\n",
              "      <td>0</td>\n",
              "      <td>married</td>\n",
              "      <td>0</td>\n",
              "      <td>F</td>\n",
              "      <td>employee</td>\n",
              "      <td>0</td>\n",
              "      <td>40620.102</td>\n",
              "      <td>purchase of the house</td>\n",
              "    </tr>\n",
              "    <tr>\n",
              "      <th>1</th>\n",
              "      <td>1</td>\n",
              "      <td>-4024.803754</td>\n",
              "      <td>36</td>\n",
              "      <td>secondary education</td>\n",
              "      <td>1</td>\n",
              "      <td>married</td>\n",
              "      <td>0</td>\n",
              "      <td>F</td>\n",
              "      <td>employee</td>\n",
              "      <td>0</td>\n",
              "      <td>17932.802</td>\n",
              "      <td>car purchase</td>\n",
              "    </tr>\n",
              "    <tr>\n",
              "      <th>2</th>\n",
              "      <td>0</td>\n",
              "      <td>-5623.422610</td>\n",
              "      <td>33</td>\n",
              "      <td>Secondary Education</td>\n",
              "      <td>1</td>\n",
              "      <td>married</td>\n",
              "      <td>0</td>\n",
              "      <td>M</td>\n",
              "      <td>employee</td>\n",
              "      <td>0</td>\n",
              "      <td>23341.752</td>\n",
              "      <td>purchase of the house</td>\n",
              "    </tr>\n",
              "    <tr>\n",
              "      <th>3</th>\n",
              "      <td>3</td>\n",
              "      <td>-4124.747207</td>\n",
              "      <td>32</td>\n",
              "      <td>secondary education</td>\n",
              "      <td>1</td>\n",
              "      <td>married</td>\n",
              "      <td>0</td>\n",
              "      <td>M</td>\n",
              "      <td>employee</td>\n",
              "      <td>0</td>\n",
              "      <td>42820.568</td>\n",
              "      <td>supplementary education</td>\n",
              "    </tr>\n",
              "    <tr>\n",
              "      <th>4</th>\n",
              "      <td>0</td>\n",
              "      <td>340266.072047</td>\n",
              "      <td>53</td>\n",
              "      <td>secondary education</td>\n",
              "      <td>1</td>\n",
              "      <td>civil partnership</td>\n",
              "      <td>1</td>\n",
              "      <td>F</td>\n",
              "      <td>retiree</td>\n",
              "      <td>0</td>\n",
              "      <td>25378.572</td>\n",
              "      <td>to have a wedding</td>\n",
              "    </tr>\n",
              "    <tr>\n",
              "      <th>...</th>\n",
              "      <td>...</td>\n",
              "      <td>...</td>\n",
              "      <td>...</td>\n",
              "      <td>...</td>\n",
              "      <td>...</td>\n",
              "      <td>...</td>\n",
              "      <td>...</td>\n",
              "      <td>...</td>\n",
              "      <td>...</td>\n",
              "      <td>...</td>\n",
              "      <td>...</td>\n",
              "      <td>...</td>\n",
              "    </tr>\n",
              "    <tr>\n",
              "      <th>21520</th>\n",
              "      <td>1</td>\n",
              "      <td>-4529.316663</td>\n",
              "      <td>43</td>\n",
              "      <td>secondary education</td>\n",
              "      <td>1</td>\n",
              "      <td>civil partnership</td>\n",
              "      <td>1</td>\n",
              "      <td>F</td>\n",
              "      <td>business</td>\n",
              "      <td>0</td>\n",
              "      <td>35966.698</td>\n",
              "      <td>housing transactions</td>\n",
              "    </tr>\n",
              "    <tr>\n",
              "      <th>21521</th>\n",
              "      <td>0</td>\n",
              "      <td>343937.404131</td>\n",
              "      <td>67</td>\n",
              "      <td>secondary education</td>\n",
              "      <td>1</td>\n",
              "      <td>married</td>\n",
              "      <td>0</td>\n",
              "      <td>F</td>\n",
              "      <td>retiree</td>\n",
              "      <td>0</td>\n",
              "      <td>24959.969</td>\n",
              "      <td>purchase of a car</td>\n",
              "    </tr>\n",
              "    <tr>\n",
              "      <th>21522</th>\n",
              "      <td>1</td>\n",
              "      <td>-2113.346888</td>\n",
              "      <td>38</td>\n",
              "      <td>secondary education</td>\n",
              "      <td>1</td>\n",
              "      <td>civil partnership</td>\n",
              "      <td>1</td>\n",
              "      <td>M</td>\n",
              "      <td>employee</td>\n",
              "      <td>1</td>\n",
              "      <td>14347.610</td>\n",
              "      <td>property</td>\n",
              "    </tr>\n",
              "    <tr>\n",
              "      <th>21523</th>\n",
              "      <td>3</td>\n",
              "      <td>-3112.481705</td>\n",
              "      <td>38</td>\n",
              "      <td>secondary education</td>\n",
              "      <td>1</td>\n",
              "      <td>married</td>\n",
              "      <td>0</td>\n",
              "      <td>M</td>\n",
              "      <td>employee</td>\n",
              "      <td>1</td>\n",
              "      <td>39054.888</td>\n",
              "      <td>buying my own car</td>\n",
              "    </tr>\n",
              "    <tr>\n",
              "      <th>21524</th>\n",
              "      <td>2</td>\n",
              "      <td>-1984.507589</td>\n",
              "      <td>40</td>\n",
              "      <td>secondary education</td>\n",
              "      <td>1</td>\n",
              "      <td>married</td>\n",
              "      <td>0</td>\n",
              "      <td>F</td>\n",
              "      <td>employee</td>\n",
              "      <td>0</td>\n",
              "      <td>13127.587</td>\n",
              "      <td>to buy a car</td>\n",
              "    </tr>\n",
              "  </tbody>\n",
              "</table>\n",
              "<p>21525 rows × 12 columns</p>\n",
              "</div>\n",
              "      <button class=\"colab-df-convert\" onclick=\"convertToInteractive('df-b1468736-0ae5-42a3-8095-992b37fd0bd0')\"\n",
              "              title=\"Convert this dataframe to an interactive table.\"\n",
              "              style=\"display:none;\">\n",
              "        \n",
              "  <svg xmlns=\"http://www.w3.org/2000/svg\" height=\"24px\"viewBox=\"0 0 24 24\"\n",
              "       width=\"24px\">\n",
              "    <path d=\"M0 0h24v24H0V0z\" fill=\"none\"/>\n",
              "    <path d=\"M18.56 5.44l.94 2.06.94-2.06 2.06-.94-2.06-.94-.94-2.06-.94 2.06-2.06.94zm-11 1L8.5 8.5l.94-2.06 2.06-.94-2.06-.94L8.5 2.5l-.94 2.06-2.06.94zm10 10l.94 2.06.94-2.06 2.06-.94-2.06-.94-.94-2.06-.94 2.06-2.06.94z\"/><path d=\"M17.41 7.96l-1.37-1.37c-.4-.4-.92-.59-1.43-.59-.52 0-1.04.2-1.43.59L10.3 9.45l-7.72 7.72c-.78.78-.78 2.05 0 2.83L4 21.41c.39.39.9.59 1.41.59.51 0 1.02-.2 1.41-.59l7.78-7.78 2.81-2.81c.8-.78.8-2.07 0-2.86zM5.41 20L4 18.59l7.72-7.72 1.47 1.35L5.41 20z\"/>\n",
              "  </svg>\n",
              "      </button>\n",
              "      \n",
              "  <style>\n",
              "    .colab-df-container {\n",
              "      display:flex;\n",
              "      flex-wrap:wrap;\n",
              "      gap: 12px;\n",
              "    }\n",
              "\n",
              "    .colab-df-convert {\n",
              "      background-color: #E8F0FE;\n",
              "      border: none;\n",
              "      border-radius: 50%;\n",
              "      cursor: pointer;\n",
              "      display: none;\n",
              "      fill: #1967D2;\n",
              "      height: 32px;\n",
              "      padding: 0 0 0 0;\n",
              "      width: 32px;\n",
              "    }\n",
              "\n",
              "    .colab-df-convert:hover {\n",
              "      background-color: #E2EBFA;\n",
              "      box-shadow: 0px 1px 2px rgba(60, 64, 67, 0.3), 0px 1px 3px 1px rgba(60, 64, 67, 0.15);\n",
              "      fill: #174EA6;\n",
              "    }\n",
              "\n",
              "    [theme=dark] .colab-df-convert {\n",
              "      background-color: #3B4455;\n",
              "      fill: #D2E3FC;\n",
              "    }\n",
              "\n",
              "    [theme=dark] .colab-df-convert:hover {\n",
              "      background-color: #434B5C;\n",
              "      box-shadow: 0px 1px 3px 1px rgba(0, 0, 0, 0.15);\n",
              "      filter: drop-shadow(0px 1px 2px rgba(0, 0, 0, 0.3));\n",
              "      fill: #FFFFFF;\n",
              "    }\n",
              "  </style>\n",
              "\n",
              "      <script>\n",
              "        const buttonEl =\n",
              "          document.querySelector('#df-b1468736-0ae5-42a3-8095-992b37fd0bd0 button.colab-df-convert');\n",
              "        buttonEl.style.display =\n",
              "          google.colab.kernel.accessAllowed ? 'block' : 'none';\n",
              "\n",
              "        async function convertToInteractive(key) {\n",
              "          const element = document.querySelector('#df-b1468736-0ae5-42a3-8095-992b37fd0bd0');\n",
              "          const dataTable =\n",
              "            await google.colab.kernel.invokeFunction('convertToInteractive',\n",
              "                                                     [key], {});\n",
              "          if (!dataTable) return;\n",
              "\n",
              "          const docLinkHtml = 'Like what you see? Visit the ' +\n",
              "            '<a target=\"_blank\" href=https://colab.research.google.com/notebooks/data_table.ipynb>data table notebook</a>'\n",
              "            + ' to learn more about interactive tables.';\n",
              "          element.innerHTML = '';\n",
              "          dataTable['output_type'] = 'display_data';\n",
              "          await google.colab.output.renderOutput(dataTable, element);\n",
              "          const docLink = document.createElement('div');\n",
              "          docLink.innerHTML = docLinkHtml;\n",
              "          element.appendChild(docLink);\n",
              "        }\n",
              "      </script>\n",
              "    </div>\n",
              "  </div>\n",
              "  "
            ]
          },
          "metadata": {},
          "execution_count": 2
        }
      ],
      "source": [
        "# Load the data\n",
        "borrower_data = pd.read_csv('/content/drive/MyDrive/csv_fies/credit_scoring_eng.csv')\n",
        "borrower_data"
      ]
    },
    {
      "cell_type": "markdown",
      "metadata": {
        "id": "xZukOhYaQtwI"
      },
      "source": [
        "## Task 1. Data exploration\n",
        "\n",
        "**Description of the data**\n",
        "- `children` - the number of children in the family\n",
        "- `days_employed` - work experience in days\n",
        "- `dob_years` - client's age in years\n",
        "- `education` - client's education\n",
        "- `education_id` - education identifier\n",
        "- `family_status` - marital status\n",
        "- `family_status_id` - marital status identifier\n",
        "- `gender` - gender of the client\n",
        "- `income_type` - type of employment\n",
        "- `debt` - was there any debt on loan repayment\n",
        "- `total_income` - monthly income\n",
        "- `purpose` - the purpose of obtaining a loan\n"
      ]
    },
    {
      "cell_type": "code",
      "execution_count": 3,
      "metadata": {
        "colab": {
          "base_uri": "https://localhost:8080/"
        },
        "id": "uf5FPI8VQtwJ",
        "outputId": "9b6299a4-06e9-4f0b-968d-f573b4e84181"
      },
      "outputs": [
        {
          "output_type": "stream",
          "name": "stdout",
          "text": [
            "There are 21525 rows and 12 columns in our dataset\n"
          ]
        }
      ],
      "source": [
        "# Let's see how many rows and columns our dataset has \n",
        "print('There are', borrower_data.shape[0], 'rows and', borrower_data.shape[1], 'columns in our dataset')"
      ]
    },
    {
      "cell_type": "code",
      "execution_count": 4,
      "metadata": {
        "scrolled": true,
        "colab": {
          "base_uri": "https://localhost:8080/",
          "height": 363
        },
        "id": "26Rfg7HDQtwJ",
        "outputId": "4640954b-3c3c-4a48-c8b5-571abdd4bbc8"
      },
      "outputs": [
        {
          "output_type": "execute_result",
          "data": {
            "text/plain": [
              "   children  days_employed  dob_years            education  education_id  \\\n",
              "0         1   -8437.673028         42    bachelor's degree             0   \n",
              "1         1   -4024.803754         36  secondary education             1   \n",
              "2         0   -5623.422610         33  Secondary Education             1   \n",
              "3         3   -4124.747207         32  secondary education             1   \n",
              "4         0  340266.072047         53  secondary education             1   \n",
              "5         0    -926.185831         27    bachelor's degree             0   \n",
              "6         0   -2879.202052         43    bachelor's degree             0   \n",
              "7         0    -152.779569         50  SECONDARY EDUCATION             1   \n",
              "8         2   -6929.865299         35    BACHELOR'S DEGREE             0   \n",
              "9         0   -2188.756445         41  secondary education             1   \n",
              "\n",
              "       family_status  family_status_id gender income_type  debt  total_income  \\\n",
              "0            married                 0      F    employee     0     40620.102   \n",
              "1            married                 0      F    employee     0     17932.802   \n",
              "2            married                 0      M    employee     0     23341.752   \n",
              "3            married                 0      M    employee     0     42820.568   \n",
              "4  civil partnership                 1      F     retiree     0     25378.572   \n",
              "5  civil partnership                 1      M    business     0     40922.170   \n",
              "6            married                 0      F    business     0     38484.156   \n",
              "7            married                 0      M    employee     0     21731.829   \n",
              "8  civil partnership                 1      F    employee     0     15337.093   \n",
              "9            married                 0      M    employee     0     23108.150   \n",
              "\n",
              "                               purpose  \n",
              "0                purchase of the house  \n",
              "1                         car purchase  \n",
              "2                purchase of the house  \n",
              "3              supplementary education  \n",
              "4                    to have a wedding  \n",
              "5                purchase of the house  \n",
              "6                 housing transactions  \n",
              "7                            education  \n",
              "8                     having a wedding  \n",
              "9  purchase of the house for my family  "
            ],
            "text/html": [
              "\n",
              "  <div id=\"df-5e073a20-78ed-4df0-a1a1-1c9d92575236\">\n",
              "    <div class=\"colab-df-container\">\n",
              "      <div>\n",
              "<style scoped>\n",
              "    .dataframe tbody tr th:only-of-type {\n",
              "        vertical-align: middle;\n",
              "    }\n",
              "\n",
              "    .dataframe tbody tr th {\n",
              "        vertical-align: top;\n",
              "    }\n",
              "\n",
              "    .dataframe thead th {\n",
              "        text-align: right;\n",
              "    }\n",
              "</style>\n",
              "<table border=\"1\" class=\"dataframe\">\n",
              "  <thead>\n",
              "    <tr style=\"text-align: right;\">\n",
              "      <th></th>\n",
              "      <th>children</th>\n",
              "      <th>days_employed</th>\n",
              "      <th>dob_years</th>\n",
              "      <th>education</th>\n",
              "      <th>education_id</th>\n",
              "      <th>family_status</th>\n",
              "      <th>family_status_id</th>\n",
              "      <th>gender</th>\n",
              "      <th>income_type</th>\n",
              "      <th>debt</th>\n",
              "      <th>total_income</th>\n",
              "      <th>purpose</th>\n",
              "    </tr>\n",
              "  </thead>\n",
              "  <tbody>\n",
              "    <tr>\n",
              "      <th>0</th>\n",
              "      <td>1</td>\n",
              "      <td>-8437.673028</td>\n",
              "      <td>42</td>\n",
              "      <td>bachelor's degree</td>\n",
              "      <td>0</td>\n",
              "      <td>married</td>\n",
              "      <td>0</td>\n",
              "      <td>F</td>\n",
              "      <td>employee</td>\n",
              "      <td>0</td>\n",
              "      <td>40620.102</td>\n",
              "      <td>purchase of the house</td>\n",
              "    </tr>\n",
              "    <tr>\n",
              "      <th>1</th>\n",
              "      <td>1</td>\n",
              "      <td>-4024.803754</td>\n",
              "      <td>36</td>\n",
              "      <td>secondary education</td>\n",
              "      <td>1</td>\n",
              "      <td>married</td>\n",
              "      <td>0</td>\n",
              "      <td>F</td>\n",
              "      <td>employee</td>\n",
              "      <td>0</td>\n",
              "      <td>17932.802</td>\n",
              "      <td>car purchase</td>\n",
              "    </tr>\n",
              "    <tr>\n",
              "      <th>2</th>\n",
              "      <td>0</td>\n",
              "      <td>-5623.422610</td>\n",
              "      <td>33</td>\n",
              "      <td>Secondary Education</td>\n",
              "      <td>1</td>\n",
              "      <td>married</td>\n",
              "      <td>0</td>\n",
              "      <td>M</td>\n",
              "      <td>employee</td>\n",
              "      <td>0</td>\n",
              "      <td>23341.752</td>\n",
              "      <td>purchase of the house</td>\n",
              "    </tr>\n",
              "    <tr>\n",
              "      <th>3</th>\n",
              "      <td>3</td>\n",
              "      <td>-4124.747207</td>\n",
              "      <td>32</td>\n",
              "      <td>secondary education</td>\n",
              "      <td>1</td>\n",
              "      <td>married</td>\n",
              "      <td>0</td>\n",
              "      <td>M</td>\n",
              "      <td>employee</td>\n",
              "      <td>0</td>\n",
              "      <td>42820.568</td>\n",
              "      <td>supplementary education</td>\n",
              "    </tr>\n",
              "    <tr>\n",
              "      <th>4</th>\n",
              "      <td>0</td>\n",
              "      <td>340266.072047</td>\n",
              "      <td>53</td>\n",
              "      <td>secondary education</td>\n",
              "      <td>1</td>\n",
              "      <td>civil partnership</td>\n",
              "      <td>1</td>\n",
              "      <td>F</td>\n",
              "      <td>retiree</td>\n",
              "      <td>0</td>\n",
              "      <td>25378.572</td>\n",
              "      <td>to have a wedding</td>\n",
              "    </tr>\n",
              "    <tr>\n",
              "      <th>5</th>\n",
              "      <td>0</td>\n",
              "      <td>-926.185831</td>\n",
              "      <td>27</td>\n",
              "      <td>bachelor's degree</td>\n",
              "      <td>0</td>\n",
              "      <td>civil partnership</td>\n",
              "      <td>1</td>\n",
              "      <td>M</td>\n",
              "      <td>business</td>\n",
              "      <td>0</td>\n",
              "      <td>40922.170</td>\n",
              "      <td>purchase of the house</td>\n",
              "    </tr>\n",
              "    <tr>\n",
              "      <th>6</th>\n",
              "      <td>0</td>\n",
              "      <td>-2879.202052</td>\n",
              "      <td>43</td>\n",
              "      <td>bachelor's degree</td>\n",
              "      <td>0</td>\n",
              "      <td>married</td>\n",
              "      <td>0</td>\n",
              "      <td>F</td>\n",
              "      <td>business</td>\n",
              "      <td>0</td>\n",
              "      <td>38484.156</td>\n",
              "      <td>housing transactions</td>\n",
              "    </tr>\n",
              "    <tr>\n",
              "      <th>7</th>\n",
              "      <td>0</td>\n",
              "      <td>-152.779569</td>\n",
              "      <td>50</td>\n",
              "      <td>SECONDARY EDUCATION</td>\n",
              "      <td>1</td>\n",
              "      <td>married</td>\n",
              "      <td>0</td>\n",
              "      <td>M</td>\n",
              "      <td>employee</td>\n",
              "      <td>0</td>\n",
              "      <td>21731.829</td>\n",
              "      <td>education</td>\n",
              "    </tr>\n",
              "    <tr>\n",
              "      <th>8</th>\n",
              "      <td>2</td>\n",
              "      <td>-6929.865299</td>\n",
              "      <td>35</td>\n",
              "      <td>BACHELOR'S DEGREE</td>\n",
              "      <td>0</td>\n",
              "      <td>civil partnership</td>\n",
              "      <td>1</td>\n",
              "      <td>F</td>\n",
              "      <td>employee</td>\n",
              "      <td>0</td>\n",
              "      <td>15337.093</td>\n",
              "      <td>having a wedding</td>\n",
              "    </tr>\n",
              "    <tr>\n",
              "      <th>9</th>\n",
              "      <td>0</td>\n",
              "      <td>-2188.756445</td>\n",
              "      <td>41</td>\n",
              "      <td>secondary education</td>\n",
              "      <td>1</td>\n",
              "      <td>married</td>\n",
              "      <td>0</td>\n",
              "      <td>M</td>\n",
              "      <td>employee</td>\n",
              "      <td>0</td>\n",
              "      <td>23108.150</td>\n",
              "      <td>purchase of the house for my family</td>\n",
              "    </tr>\n",
              "  </tbody>\n",
              "</table>\n",
              "</div>\n",
              "      <button class=\"colab-df-convert\" onclick=\"convertToInteractive('df-5e073a20-78ed-4df0-a1a1-1c9d92575236')\"\n",
              "              title=\"Convert this dataframe to an interactive table.\"\n",
              "              style=\"display:none;\">\n",
              "        \n",
              "  <svg xmlns=\"http://www.w3.org/2000/svg\" height=\"24px\"viewBox=\"0 0 24 24\"\n",
              "       width=\"24px\">\n",
              "    <path d=\"M0 0h24v24H0V0z\" fill=\"none\"/>\n",
              "    <path d=\"M18.56 5.44l.94 2.06.94-2.06 2.06-.94-2.06-.94-.94-2.06-.94 2.06-2.06.94zm-11 1L8.5 8.5l.94-2.06 2.06-.94-2.06-.94L8.5 2.5l-.94 2.06-2.06.94zm10 10l.94 2.06.94-2.06 2.06-.94-2.06-.94-.94-2.06-.94 2.06-2.06.94z\"/><path d=\"M17.41 7.96l-1.37-1.37c-.4-.4-.92-.59-1.43-.59-.52 0-1.04.2-1.43.59L10.3 9.45l-7.72 7.72c-.78.78-.78 2.05 0 2.83L4 21.41c.39.39.9.59 1.41.59.51 0 1.02-.2 1.41-.59l7.78-7.78 2.81-2.81c.8-.78.8-2.07 0-2.86zM5.41 20L4 18.59l7.72-7.72 1.47 1.35L5.41 20z\"/>\n",
              "  </svg>\n",
              "      </button>\n",
              "      \n",
              "  <style>\n",
              "    .colab-df-container {\n",
              "      display:flex;\n",
              "      flex-wrap:wrap;\n",
              "      gap: 12px;\n",
              "    }\n",
              "\n",
              "    .colab-df-convert {\n",
              "      background-color: #E8F0FE;\n",
              "      border: none;\n",
              "      border-radius: 50%;\n",
              "      cursor: pointer;\n",
              "      display: none;\n",
              "      fill: #1967D2;\n",
              "      height: 32px;\n",
              "      padding: 0 0 0 0;\n",
              "      width: 32px;\n",
              "    }\n",
              "\n",
              "    .colab-df-convert:hover {\n",
              "      background-color: #E2EBFA;\n",
              "      box-shadow: 0px 1px 2px rgba(60, 64, 67, 0.3), 0px 1px 3px 1px rgba(60, 64, 67, 0.15);\n",
              "      fill: #174EA6;\n",
              "    }\n",
              "\n",
              "    [theme=dark] .colab-df-convert {\n",
              "      background-color: #3B4455;\n",
              "      fill: #D2E3FC;\n",
              "    }\n",
              "\n",
              "    [theme=dark] .colab-df-convert:hover {\n",
              "      background-color: #434B5C;\n",
              "      box-shadow: 0px 1px 3px 1px rgba(0, 0, 0, 0.15);\n",
              "      filter: drop-shadow(0px 1px 2px rgba(0, 0, 0, 0.3));\n",
              "      fill: #FFFFFF;\n",
              "    }\n",
              "  </style>\n",
              "\n",
              "      <script>\n",
              "        const buttonEl =\n",
              "          document.querySelector('#df-5e073a20-78ed-4df0-a1a1-1c9d92575236 button.colab-df-convert');\n",
              "        buttonEl.style.display =\n",
              "          google.colab.kernel.accessAllowed ? 'block' : 'none';\n",
              "\n",
              "        async function convertToInteractive(key) {\n",
              "          const element = document.querySelector('#df-5e073a20-78ed-4df0-a1a1-1c9d92575236');\n",
              "          const dataTable =\n",
              "            await google.colab.kernel.invokeFunction('convertToInteractive',\n",
              "                                                     [key], {});\n",
              "          if (!dataTable) return;\n",
              "\n",
              "          const docLinkHtml = 'Like what you see? Visit the ' +\n",
              "            '<a target=\"_blank\" href=https://colab.research.google.com/notebooks/data_table.ipynb>data table notebook</a>'\n",
              "            + ' to learn more about interactive tables.';\n",
              "          element.innerHTML = '';\n",
              "          dataTable['output_type'] = 'display_data';\n",
              "          await google.colab.output.renderOutput(dataTable, element);\n",
              "          const docLink = document.createElement('div');\n",
              "          docLink.innerHTML = docLinkHtml;\n",
              "          element.appendChild(docLink);\n",
              "        }\n",
              "      </script>\n",
              "    </div>\n",
              "  </div>\n",
              "  "
            ]
          },
          "metadata": {},
          "execution_count": 4
        }
      ],
      "source": [
        "# let's print the first N rows\n",
        "borrower_data.head(10)"
      ]
    },
    {
      "cell_type": "markdown",
      "metadata": {
        "id": "rSFyQxrwQtwK"
      },
      "source": [
        "1. In the column `days of employment` there are a lot of negative numbers, which is contrary to common sense.\n",
        "2. In the `education` column there are different spellings of the same categories - those are duplicates, so we will bring them to lowercase using the `lower()` method and make sure that they are not duplicated.\n",
        "3. The `family status` and `family id` columns essentially reflect the same information as well as the `education` and `education_id`, so we'll just display `family status` and `education` as a reference table. \n",
        "4. In the `purpose` column, we can see similar purposes but phrased differently, we will need to categorize them."
      ]
    },
    {
      "cell_type": "code",
      "execution_count": 5,
      "metadata": {
        "scrolled": true,
        "colab": {
          "base_uri": "https://localhost:8080/"
        },
        "id": "SmoJZ0CvQtwK",
        "outputId": "f520744c-afdb-400d-9931-332fba50f966"
      },
      "outputs": [
        {
          "output_type": "stream",
          "name": "stdout",
          "text": [
            "<class 'pandas.core.frame.DataFrame'>\n",
            "RangeIndex: 21525 entries, 0 to 21524\n",
            "Data columns (total 12 columns):\n",
            " #   Column            Non-Null Count  Dtype  \n",
            "---  ------            --------------  -----  \n",
            " 0   children          21525 non-null  int64  \n",
            " 1   days_employed     19351 non-null  float64\n",
            " 2   dob_years         21525 non-null  int64  \n",
            " 3   education         21525 non-null  object \n",
            " 4   education_id      21525 non-null  int64  \n",
            " 5   family_status     21525 non-null  object \n",
            " 6   family_status_id  21525 non-null  int64  \n",
            " 7   gender            21525 non-null  object \n",
            " 8   income_type       21525 non-null  object \n",
            " 9   debt              21525 non-null  int64  \n",
            " 10  total_income      19351 non-null  float64\n",
            " 11  purpose           21525 non-null  object \n",
            "dtypes: float64(2), int64(5), object(5)\n",
            "memory usage: 2.0+ MB\n"
          ]
        }
      ],
      "source": [
        "# Get info on data\n",
        "borrower_data.info()"
      ]
    },
    {
      "cell_type": "markdown",
      "metadata": {
        "id": "WFneTBw1QtwL"
      },
      "source": [
        "We can see missing values in the `days_employed` and `total_income` columns.\n"
      ]
    },
    {
      "cell_type": "code",
      "execution_count": 6,
      "metadata": {
        "scrolled": true,
        "colab": {
          "base_uri": "https://localhost:8080/",
          "height": 423
        },
        "id": "mlIC2FGtQtwM",
        "outputId": "0f28d478-10b2-4da1-9536-23e8287c70ff"
      },
      "outputs": [
        {
          "output_type": "execute_result",
          "data": {
            "text/plain": [
              "       children  days_employed  dob_years            education  education_id  \\\n",
              "12            0            NaN         65  secondary education             1   \n",
              "26            0            NaN         41  secondary education             1   \n",
              "29            0            NaN         63  secondary education             1   \n",
              "41            0            NaN         50  secondary education             1   \n",
              "55            0            NaN         54  secondary education             1   \n",
              "...         ...            ...        ...                  ...           ...   \n",
              "21489         2            NaN         47  Secondary Education             1   \n",
              "21495         1            NaN         50  secondary education             1   \n",
              "21497         0            NaN         48    BACHELOR'S DEGREE             0   \n",
              "21502         1            NaN         42  secondary education             1   \n",
              "21510         2            NaN         28  secondary education             1   \n",
              "\n",
              "           family_status  family_status_id gender    income_type  debt  \\\n",
              "12     civil partnership                 1      M        retiree     0   \n",
              "26               married                 0      M  civil servant     0   \n",
              "29             unmarried                 4      F        retiree     0   \n",
              "41               married                 0      F  civil servant     0   \n",
              "55     civil partnership                 1      F        retiree     1   \n",
              "...                  ...               ...    ...            ...   ...   \n",
              "21489            married                 0      M       business     0   \n",
              "21495  civil partnership                 1      F       employee     0   \n",
              "21497            married                 0      F       business     0   \n",
              "21502            married                 0      F       employee     0   \n",
              "21510            married                 0      F       employee     0   \n",
              "\n",
              "       total_income                   purpose  \n",
              "12              NaN         to have a wedding  \n",
              "26              NaN                 education  \n",
              "29              NaN    building a real estate  \n",
              "41              NaN  second-hand car purchase  \n",
              "55              NaN         to have a wedding  \n",
              "...             ...                       ...  \n",
              "21489           NaN         purchase of a car  \n",
              "21495           NaN          wedding ceremony  \n",
              "21497           NaN       building a property  \n",
              "21502           NaN    building a real estate  \n",
              "21510           NaN              car purchase  \n",
              "\n",
              "[2174 rows x 12 columns]"
            ],
            "text/html": [
              "\n",
              "  <div id=\"df-0e55d48e-57b8-43c1-8edb-301e78d4c243\">\n",
              "    <div class=\"colab-df-container\">\n",
              "      <div>\n",
              "<style scoped>\n",
              "    .dataframe tbody tr th:only-of-type {\n",
              "        vertical-align: middle;\n",
              "    }\n",
              "\n",
              "    .dataframe tbody tr th {\n",
              "        vertical-align: top;\n",
              "    }\n",
              "\n",
              "    .dataframe thead th {\n",
              "        text-align: right;\n",
              "    }\n",
              "</style>\n",
              "<table border=\"1\" class=\"dataframe\">\n",
              "  <thead>\n",
              "    <tr style=\"text-align: right;\">\n",
              "      <th></th>\n",
              "      <th>children</th>\n",
              "      <th>days_employed</th>\n",
              "      <th>dob_years</th>\n",
              "      <th>education</th>\n",
              "      <th>education_id</th>\n",
              "      <th>family_status</th>\n",
              "      <th>family_status_id</th>\n",
              "      <th>gender</th>\n",
              "      <th>income_type</th>\n",
              "      <th>debt</th>\n",
              "      <th>total_income</th>\n",
              "      <th>purpose</th>\n",
              "    </tr>\n",
              "  </thead>\n",
              "  <tbody>\n",
              "    <tr>\n",
              "      <th>12</th>\n",
              "      <td>0</td>\n",
              "      <td>NaN</td>\n",
              "      <td>65</td>\n",
              "      <td>secondary education</td>\n",
              "      <td>1</td>\n",
              "      <td>civil partnership</td>\n",
              "      <td>1</td>\n",
              "      <td>M</td>\n",
              "      <td>retiree</td>\n",
              "      <td>0</td>\n",
              "      <td>NaN</td>\n",
              "      <td>to have a wedding</td>\n",
              "    </tr>\n",
              "    <tr>\n",
              "      <th>26</th>\n",
              "      <td>0</td>\n",
              "      <td>NaN</td>\n",
              "      <td>41</td>\n",
              "      <td>secondary education</td>\n",
              "      <td>1</td>\n",
              "      <td>married</td>\n",
              "      <td>0</td>\n",
              "      <td>M</td>\n",
              "      <td>civil servant</td>\n",
              "      <td>0</td>\n",
              "      <td>NaN</td>\n",
              "      <td>education</td>\n",
              "    </tr>\n",
              "    <tr>\n",
              "      <th>29</th>\n",
              "      <td>0</td>\n",
              "      <td>NaN</td>\n",
              "      <td>63</td>\n",
              "      <td>secondary education</td>\n",
              "      <td>1</td>\n",
              "      <td>unmarried</td>\n",
              "      <td>4</td>\n",
              "      <td>F</td>\n",
              "      <td>retiree</td>\n",
              "      <td>0</td>\n",
              "      <td>NaN</td>\n",
              "      <td>building a real estate</td>\n",
              "    </tr>\n",
              "    <tr>\n",
              "      <th>41</th>\n",
              "      <td>0</td>\n",
              "      <td>NaN</td>\n",
              "      <td>50</td>\n",
              "      <td>secondary education</td>\n",
              "      <td>1</td>\n",
              "      <td>married</td>\n",
              "      <td>0</td>\n",
              "      <td>F</td>\n",
              "      <td>civil servant</td>\n",
              "      <td>0</td>\n",
              "      <td>NaN</td>\n",
              "      <td>second-hand car purchase</td>\n",
              "    </tr>\n",
              "    <tr>\n",
              "      <th>55</th>\n",
              "      <td>0</td>\n",
              "      <td>NaN</td>\n",
              "      <td>54</td>\n",
              "      <td>secondary education</td>\n",
              "      <td>1</td>\n",
              "      <td>civil partnership</td>\n",
              "      <td>1</td>\n",
              "      <td>F</td>\n",
              "      <td>retiree</td>\n",
              "      <td>1</td>\n",
              "      <td>NaN</td>\n",
              "      <td>to have a wedding</td>\n",
              "    </tr>\n",
              "    <tr>\n",
              "      <th>...</th>\n",
              "      <td>...</td>\n",
              "      <td>...</td>\n",
              "      <td>...</td>\n",
              "      <td>...</td>\n",
              "      <td>...</td>\n",
              "      <td>...</td>\n",
              "      <td>...</td>\n",
              "      <td>...</td>\n",
              "      <td>...</td>\n",
              "      <td>...</td>\n",
              "      <td>...</td>\n",
              "      <td>...</td>\n",
              "    </tr>\n",
              "    <tr>\n",
              "      <th>21489</th>\n",
              "      <td>2</td>\n",
              "      <td>NaN</td>\n",
              "      <td>47</td>\n",
              "      <td>Secondary Education</td>\n",
              "      <td>1</td>\n",
              "      <td>married</td>\n",
              "      <td>0</td>\n",
              "      <td>M</td>\n",
              "      <td>business</td>\n",
              "      <td>0</td>\n",
              "      <td>NaN</td>\n",
              "      <td>purchase of a car</td>\n",
              "    </tr>\n",
              "    <tr>\n",
              "      <th>21495</th>\n",
              "      <td>1</td>\n",
              "      <td>NaN</td>\n",
              "      <td>50</td>\n",
              "      <td>secondary education</td>\n",
              "      <td>1</td>\n",
              "      <td>civil partnership</td>\n",
              "      <td>1</td>\n",
              "      <td>F</td>\n",
              "      <td>employee</td>\n",
              "      <td>0</td>\n",
              "      <td>NaN</td>\n",
              "      <td>wedding ceremony</td>\n",
              "    </tr>\n",
              "    <tr>\n",
              "      <th>21497</th>\n",
              "      <td>0</td>\n",
              "      <td>NaN</td>\n",
              "      <td>48</td>\n",
              "      <td>BACHELOR'S DEGREE</td>\n",
              "      <td>0</td>\n",
              "      <td>married</td>\n",
              "      <td>0</td>\n",
              "      <td>F</td>\n",
              "      <td>business</td>\n",
              "      <td>0</td>\n",
              "      <td>NaN</td>\n",
              "      <td>building a property</td>\n",
              "    </tr>\n",
              "    <tr>\n",
              "      <th>21502</th>\n",
              "      <td>1</td>\n",
              "      <td>NaN</td>\n",
              "      <td>42</td>\n",
              "      <td>secondary education</td>\n",
              "      <td>1</td>\n",
              "      <td>married</td>\n",
              "      <td>0</td>\n",
              "      <td>F</td>\n",
              "      <td>employee</td>\n",
              "      <td>0</td>\n",
              "      <td>NaN</td>\n",
              "      <td>building a real estate</td>\n",
              "    </tr>\n",
              "    <tr>\n",
              "      <th>21510</th>\n",
              "      <td>2</td>\n",
              "      <td>NaN</td>\n",
              "      <td>28</td>\n",
              "      <td>secondary education</td>\n",
              "      <td>1</td>\n",
              "      <td>married</td>\n",
              "      <td>0</td>\n",
              "      <td>F</td>\n",
              "      <td>employee</td>\n",
              "      <td>0</td>\n",
              "      <td>NaN</td>\n",
              "      <td>car purchase</td>\n",
              "    </tr>\n",
              "  </tbody>\n",
              "</table>\n",
              "<p>2174 rows × 12 columns</p>\n",
              "</div>\n",
              "      <button class=\"colab-df-convert\" onclick=\"convertToInteractive('df-0e55d48e-57b8-43c1-8edb-301e78d4c243')\"\n",
              "              title=\"Convert this dataframe to an interactive table.\"\n",
              "              style=\"display:none;\">\n",
              "        \n",
              "  <svg xmlns=\"http://www.w3.org/2000/svg\" height=\"24px\"viewBox=\"0 0 24 24\"\n",
              "       width=\"24px\">\n",
              "    <path d=\"M0 0h24v24H0V0z\" fill=\"none\"/>\n",
              "    <path d=\"M18.56 5.44l.94 2.06.94-2.06 2.06-.94-2.06-.94-.94-2.06-.94 2.06-2.06.94zm-11 1L8.5 8.5l.94-2.06 2.06-.94-2.06-.94L8.5 2.5l-.94 2.06-2.06.94zm10 10l.94 2.06.94-2.06 2.06-.94-2.06-.94-.94-2.06-.94 2.06-2.06.94z\"/><path d=\"M17.41 7.96l-1.37-1.37c-.4-.4-.92-.59-1.43-.59-.52 0-1.04.2-1.43.59L10.3 9.45l-7.72 7.72c-.78.78-.78 2.05 0 2.83L4 21.41c.39.39.9.59 1.41.59.51 0 1.02-.2 1.41-.59l7.78-7.78 2.81-2.81c.8-.78.8-2.07 0-2.86zM5.41 20L4 18.59l7.72-7.72 1.47 1.35L5.41 20z\"/>\n",
              "  </svg>\n",
              "      </button>\n",
              "      \n",
              "  <style>\n",
              "    .colab-df-container {\n",
              "      display:flex;\n",
              "      flex-wrap:wrap;\n",
              "      gap: 12px;\n",
              "    }\n",
              "\n",
              "    .colab-df-convert {\n",
              "      background-color: #E8F0FE;\n",
              "      border: none;\n",
              "      border-radius: 50%;\n",
              "      cursor: pointer;\n",
              "      display: none;\n",
              "      fill: #1967D2;\n",
              "      height: 32px;\n",
              "      padding: 0 0 0 0;\n",
              "      width: 32px;\n",
              "    }\n",
              "\n",
              "    .colab-df-convert:hover {\n",
              "      background-color: #E2EBFA;\n",
              "      box-shadow: 0px 1px 2px rgba(60, 64, 67, 0.3), 0px 1px 3px 1px rgba(60, 64, 67, 0.15);\n",
              "      fill: #174EA6;\n",
              "    }\n",
              "\n",
              "    [theme=dark] .colab-df-convert {\n",
              "      background-color: #3B4455;\n",
              "      fill: #D2E3FC;\n",
              "    }\n",
              "\n",
              "    [theme=dark] .colab-df-convert:hover {\n",
              "      background-color: #434B5C;\n",
              "      box-shadow: 0px 1px 3px 1px rgba(0, 0, 0, 0.15);\n",
              "      filter: drop-shadow(0px 1px 2px rgba(0, 0, 0, 0.3));\n",
              "      fill: #FFFFFF;\n",
              "    }\n",
              "  </style>\n",
              "\n",
              "      <script>\n",
              "        const buttonEl =\n",
              "          document.querySelector('#df-0e55d48e-57b8-43c1-8edb-301e78d4c243 button.colab-df-convert');\n",
              "        buttonEl.style.display =\n",
              "          google.colab.kernel.accessAllowed ? 'block' : 'none';\n",
              "\n",
              "        async function convertToInteractive(key) {\n",
              "          const element = document.querySelector('#df-0e55d48e-57b8-43c1-8edb-301e78d4c243');\n",
              "          const dataTable =\n",
              "            await google.colab.kernel.invokeFunction('convertToInteractive',\n",
              "                                                     [key], {});\n",
              "          if (!dataTable) return;\n",
              "\n",
              "          const docLinkHtml = 'Like what you see? Visit the ' +\n",
              "            '<a target=\"_blank\" href=https://colab.research.google.com/notebooks/data_table.ipynb>data table notebook</a>'\n",
              "            + ' to learn more about interactive tables.';\n",
              "          element.innerHTML = '';\n",
              "          dataTable['output_type'] = 'display_data';\n",
              "          await google.colab.output.renderOutput(dataTable, element);\n",
              "          const docLink = document.createElement('div');\n",
              "          docLink.innerHTML = docLinkHtml;\n",
              "          element.appendChild(docLink);\n",
              "        }\n",
              "      </script>\n",
              "    </div>\n",
              "  </div>\n",
              "  "
            ]
          },
          "metadata": {},
          "execution_count": 6
        }
      ],
      "source": [
        "# Let's look at the filtered table with missing values in the the first column with missing data\n",
        "borrower_data[borrower_data['days_employed'].isnull()]"
      ]
    },
    {
      "cell_type": "markdown",
      "metadata": {
        "id": "-yLeqcTeQtwM"
      },
      "source": [
        "There are 2174 rows with values missing simmetricaly with `days_employed` and `total_income`. Since those two features are related to each other and the ammount of the missing values is the same, the values probably missing because they could be dependant on each other, i.e - a person, who hadn't worked a day never got any income."
      ]
    },
    {
      "cell_type": "code",
      "execution_count": 7,
      "metadata": {
        "colab": {
          "base_uri": "https://localhost:8080/",
          "height": 381
        },
        "id": "2FEeUAlaQtwM",
        "outputId": "33cc3f13-b0ba-4c32-f06d-38fab3a83b41"
      },
      "outputs": [
        {
          "output_type": "stream",
          "name": "stdout",
          "text": [
            "Ammount of rows with missing values: 2174\n"
          ]
        },
        {
          "output_type": "execute_result",
          "data": {
            "text/plain": [
              "    children  days_employed  dob_years            education  education_id  \\\n",
              "12         0            NaN         65  secondary education             1   \n",
              "26         0            NaN         41  secondary education             1   \n",
              "29         0            NaN         63  secondary education             1   \n",
              "41         0            NaN         50  secondary education             1   \n",
              "55         0            NaN         54  secondary education             1   \n",
              "65         0            NaN         21  secondary education             1   \n",
              "67         0            NaN         52    bachelor's degree             0   \n",
              "72         1            NaN         32    bachelor's degree             0   \n",
              "82         2            NaN         50    bachelor's degree             0   \n",
              "83         0            NaN         52  secondary education             1   \n",
              "\n",
              "        family_status  family_status_id gender    income_type  debt  \\\n",
              "12  civil partnership                 1      M        retiree     0   \n",
              "26            married                 0      M  civil servant     0   \n",
              "29          unmarried                 4      F        retiree     0   \n",
              "41            married                 0      F  civil servant     0   \n",
              "55  civil partnership                 1      F        retiree     1   \n",
              "65          unmarried                 4      M       business     0   \n",
              "67            married                 0      F        retiree     0   \n",
              "72            married                 0      M  civil servant     0   \n",
              "82            married                 0      F       employee     0   \n",
              "83            married                 0      M       employee     0   \n",
              "\n",
              "    total_income                                   purpose  \n",
              "12           NaN                         to have a wedding  \n",
              "26           NaN                                 education  \n",
              "29           NaN                    building a real estate  \n",
              "41           NaN                  second-hand car purchase  \n",
              "55           NaN                         to have a wedding  \n",
              "65           NaN  transactions with commercial real estate  \n",
              "67           NaN       purchase of the house for my family  \n",
              "72           NaN  transactions with commercial real estate  \n",
              "82           NaN                                   housing  \n",
              "83           NaN                                   housing  "
            ],
            "text/html": [
              "\n",
              "  <div id=\"df-d89e8780-485d-4578-96df-8c994c5c2a8d\">\n",
              "    <div class=\"colab-df-container\">\n",
              "      <div>\n",
              "<style scoped>\n",
              "    .dataframe tbody tr th:only-of-type {\n",
              "        vertical-align: middle;\n",
              "    }\n",
              "\n",
              "    .dataframe tbody tr th {\n",
              "        vertical-align: top;\n",
              "    }\n",
              "\n",
              "    .dataframe thead th {\n",
              "        text-align: right;\n",
              "    }\n",
              "</style>\n",
              "<table border=\"1\" class=\"dataframe\">\n",
              "  <thead>\n",
              "    <tr style=\"text-align: right;\">\n",
              "      <th></th>\n",
              "      <th>children</th>\n",
              "      <th>days_employed</th>\n",
              "      <th>dob_years</th>\n",
              "      <th>education</th>\n",
              "      <th>education_id</th>\n",
              "      <th>family_status</th>\n",
              "      <th>family_status_id</th>\n",
              "      <th>gender</th>\n",
              "      <th>income_type</th>\n",
              "      <th>debt</th>\n",
              "      <th>total_income</th>\n",
              "      <th>purpose</th>\n",
              "    </tr>\n",
              "  </thead>\n",
              "  <tbody>\n",
              "    <tr>\n",
              "      <th>12</th>\n",
              "      <td>0</td>\n",
              "      <td>NaN</td>\n",
              "      <td>65</td>\n",
              "      <td>secondary education</td>\n",
              "      <td>1</td>\n",
              "      <td>civil partnership</td>\n",
              "      <td>1</td>\n",
              "      <td>M</td>\n",
              "      <td>retiree</td>\n",
              "      <td>0</td>\n",
              "      <td>NaN</td>\n",
              "      <td>to have a wedding</td>\n",
              "    </tr>\n",
              "    <tr>\n",
              "      <th>26</th>\n",
              "      <td>0</td>\n",
              "      <td>NaN</td>\n",
              "      <td>41</td>\n",
              "      <td>secondary education</td>\n",
              "      <td>1</td>\n",
              "      <td>married</td>\n",
              "      <td>0</td>\n",
              "      <td>M</td>\n",
              "      <td>civil servant</td>\n",
              "      <td>0</td>\n",
              "      <td>NaN</td>\n",
              "      <td>education</td>\n",
              "    </tr>\n",
              "    <tr>\n",
              "      <th>29</th>\n",
              "      <td>0</td>\n",
              "      <td>NaN</td>\n",
              "      <td>63</td>\n",
              "      <td>secondary education</td>\n",
              "      <td>1</td>\n",
              "      <td>unmarried</td>\n",
              "      <td>4</td>\n",
              "      <td>F</td>\n",
              "      <td>retiree</td>\n",
              "      <td>0</td>\n",
              "      <td>NaN</td>\n",
              "      <td>building a real estate</td>\n",
              "    </tr>\n",
              "    <tr>\n",
              "      <th>41</th>\n",
              "      <td>0</td>\n",
              "      <td>NaN</td>\n",
              "      <td>50</td>\n",
              "      <td>secondary education</td>\n",
              "      <td>1</td>\n",
              "      <td>married</td>\n",
              "      <td>0</td>\n",
              "      <td>F</td>\n",
              "      <td>civil servant</td>\n",
              "      <td>0</td>\n",
              "      <td>NaN</td>\n",
              "      <td>second-hand car purchase</td>\n",
              "    </tr>\n",
              "    <tr>\n",
              "      <th>55</th>\n",
              "      <td>0</td>\n",
              "      <td>NaN</td>\n",
              "      <td>54</td>\n",
              "      <td>secondary education</td>\n",
              "      <td>1</td>\n",
              "      <td>civil partnership</td>\n",
              "      <td>1</td>\n",
              "      <td>F</td>\n",
              "      <td>retiree</td>\n",
              "      <td>1</td>\n",
              "      <td>NaN</td>\n",
              "      <td>to have a wedding</td>\n",
              "    </tr>\n",
              "    <tr>\n",
              "      <th>65</th>\n",
              "      <td>0</td>\n",
              "      <td>NaN</td>\n",
              "      <td>21</td>\n",
              "      <td>secondary education</td>\n",
              "      <td>1</td>\n",
              "      <td>unmarried</td>\n",
              "      <td>4</td>\n",
              "      <td>M</td>\n",
              "      <td>business</td>\n",
              "      <td>0</td>\n",
              "      <td>NaN</td>\n",
              "      <td>transactions with commercial real estate</td>\n",
              "    </tr>\n",
              "    <tr>\n",
              "      <th>67</th>\n",
              "      <td>0</td>\n",
              "      <td>NaN</td>\n",
              "      <td>52</td>\n",
              "      <td>bachelor's degree</td>\n",
              "      <td>0</td>\n",
              "      <td>married</td>\n",
              "      <td>0</td>\n",
              "      <td>F</td>\n",
              "      <td>retiree</td>\n",
              "      <td>0</td>\n",
              "      <td>NaN</td>\n",
              "      <td>purchase of the house for my family</td>\n",
              "    </tr>\n",
              "    <tr>\n",
              "      <th>72</th>\n",
              "      <td>1</td>\n",
              "      <td>NaN</td>\n",
              "      <td>32</td>\n",
              "      <td>bachelor's degree</td>\n",
              "      <td>0</td>\n",
              "      <td>married</td>\n",
              "      <td>0</td>\n",
              "      <td>M</td>\n",
              "      <td>civil servant</td>\n",
              "      <td>0</td>\n",
              "      <td>NaN</td>\n",
              "      <td>transactions with commercial real estate</td>\n",
              "    </tr>\n",
              "    <tr>\n",
              "      <th>82</th>\n",
              "      <td>2</td>\n",
              "      <td>NaN</td>\n",
              "      <td>50</td>\n",
              "      <td>bachelor's degree</td>\n",
              "      <td>0</td>\n",
              "      <td>married</td>\n",
              "      <td>0</td>\n",
              "      <td>F</td>\n",
              "      <td>employee</td>\n",
              "      <td>0</td>\n",
              "      <td>NaN</td>\n",
              "      <td>housing</td>\n",
              "    </tr>\n",
              "    <tr>\n",
              "      <th>83</th>\n",
              "      <td>0</td>\n",
              "      <td>NaN</td>\n",
              "      <td>52</td>\n",
              "      <td>secondary education</td>\n",
              "      <td>1</td>\n",
              "      <td>married</td>\n",
              "      <td>0</td>\n",
              "      <td>M</td>\n",
              "      <td>employee</td>\n",
              "      <td>0</td>\n",
              "      <td>NaN</td>\n",
              "      <td>housing</td>\n",
              "    </tr>\n",
              "  </tbody>\n",
              "</table>\n",
              "</div>\n",
              "      <button class=\"colab-df-convert\" onclick=\"convertToInteractive('df-d89e8780-485d-4578-96df-8c994c5c2a8d')\"\n",
              "              title=\"Convert this dataframe to an interactive table.\"\n",
              "              style=\"display:none;\">\n",
              "        \n",
              "  <svg xmlns=\"http://www.w3.org/2000/svg\" height=\"24px\"viewBox=\"0 0 24 24\"\n",
              "       width=\"24px\">\n",
              "    <path d=\"M0 0h24v24H0V0z\" fill=\"none\"/>\n",
              "    <path d=\"M18.56 5.44l.94 2.06.94-2.06 2.06-.94-2.06-.94-.94-2.06-.94 2.06-2.06.94zm-11 1L8.5 8.5l.94-2.06 2.06-.94-2.06-.94L8.5 2.5l-.94 2.06-2.06.94zm10 10l.94 2.06.94-2.06 2.06-.94-2.06-.94-.94-2.06-.94 2.06-2.06.94z\"/><path d=\"M17.41 7.96l-1.37-1.37c-.4-.4-.92-.59-1.43-.59-.52 0-1.04.2-1.43.59L10.3 9.45l-7.72 7.72c-.78.78-.78 2.05 0 2.83L4 21.41c.39.39.9.59 1.41.59.51 0 1.02-.2 1.41-.59l7.78-7.78 2.81-2.81c.8-.78.8-2.07 0-2.86zM5.41 20L4 18.59l7.72-7.72 1.47 1.35L5.41 20z\"/>\n",
              "  </svg>\n",
              "      </button>\n",
              "      \n",
              "  <style>\n",
              "    .colab-df-container {\n",
              "      display:flex;\n",
              "      flex-wrap:wrap;\n",
              "      gap: 12px;\n",
              "    }\n",
              "\n",
              "    .colab-df-convert {\n",
              "      background-color: #E8F0FE;\n",
              "      border: none;\n",
              "      border-radius: 50%;\n",
              "      cursor: pointer;\n",
              "      display: none;\n",
              "      fill: #1967D2;\n",
              "      height: 32px;\n",
              "      padding: 0 0 0 0;\n",
              "      width: 32px;\n",
              "    }\n",
              "\n",
              "    .colab-df-convert:hover {\n",
              "      background-color: #E2EBFA;\n",
              "      box-shadow: 0px 1px 2px rgba(60, 64, 67, 0.3), 0px 1px 3px 1px rgba(60, 64, 67, 0.15);\n",
              "      fill: #174EA6;\n",
              "    }\n",
              "\n",
              "    [theme=dark] .colab-df-convert {\n",
              "      background-color: #3B4455;\n",
              "      fill: #D2E3FC;\n",
              "    }\n",
              "\n",
              "    [theme=dark] .colab-df-convert:hover {\n",
              "      background-color: #434B5C;\n",
              "      box-shadow: 0px 1px 3px 1px rgba(0, 0, 0, 0.15);\n",
              "      filter: drop-shadow(0px 1px 2px rgba(0, 0, 0, 0.3));\n",
              "      fill: #FFFFFF;\n",
              "    }\n",
              "  </style>\n",
              "\n",
              "      <script>\n",
              "        const buttonEl =\n",
              "          document.querySelector('#df-d89e8780-485d-4578-96df-8c994c5c2a8d button.colab-df-convert');\n",
              "        buttonEl.style.display =\n",
              "          google.colab.kernel.accessAllowed ? 'block' : 'none';\n",
              "\n",
              "        async function convertToInteractive(key) {\n",
              "          const element = document.querySelector('#df-d89e8780-485d-4578-96df-8c994c5c2a8d');\n",
              "          const dataTable =\n",
              "            await google.colab.kernel.invokeFunction('convertToInteractive',\n",
              "                                                     [key], {});\n",
              "          if (!dataTable) return;\n",
              "\n",
              "          const docLinkHtml = 'Like what you see? Visit the ' +\n",
              "            '<a target=\"_blank\" href=https://colab.research.google.com/notebooks/data_table.ipynb>data table notebook</a>'\n",
              "            + ' to learn more about interactive tables.';\n",
              "          element.innerHTML = '';\n",
              "          dataTable['output_type'] = 'display_data';\n",
              "          await google.colab.output.renderOutput(dataTable, element);\n",
              "          const docLink = document.createElement('div');\n",
              "          docLink.innerHTML = docLinkHtml;\n",
              "          element.appendChild(docLink);\n",
              "        }\n",
              "      </script>\n",
              "    </div>\n",
              "  </div>\n",
              "  "
            ]
          },
          "metadata": {},
          "execution_count": 7
        }
      ],
      "source": [
        "# Let's apply multiple conditions for filtering data and look at the number of rows in the filtered table.\n",
        "borrower_filt = borrower_data[(borrower_data['days_employed'].isnull()) & (borrower_data['total_income'].isnull())]\n",
        "print('Ammount of rows with missing values:', borrower_filt.shape[0])\n",
        "borrower_filt.head(10)"
      ]
    },
    {
      "cell_type": "code",
      "execution_count": 8,
      "metadata": {
        "colab": {
          "base_uri": "https://localhost:8080/"
        },
        "id": "Uce7CS5qQtwN",
        "outputId": "c5e55467-f31f-4966-853c-fd066532320e"
      },
      "outputs": [
        {
          "output_type": "stream",
          "name": "stdout",
          "text": [
            "The percent of missing data is 10.10%\n"
          ]
        }
      ],
      "source": [
        "print('The percent of missing data is {:.2%}'.format(len(borrower_filt) / len(borrower_data)))"
      ]
    },
    {
      "cell_type": "markdown",
      "metadata": {
        "id": "BI61oTLhQtwN"
      },
      "source": [
        "The percent of missing data is so, that a simple remove of the missing data can affect our calculations. We will adress each characteristic, starting with income type and see if there was a correlation."
      ]
    },
    {
      "cell_type": "code",
      "execution_count": 9,
      "metadata": {
        "colab": {
          "base_uri": "https://localhost:8080/"
        },
        "id": "I470dl2wQtwN",
        "outputId": "08be2978-0d28-41b8-a5cf-a572ceb2bbca"
      },
      "outputs": [
        {
          "output_type": "execute_result",
          "data": {
            "text/plain": [
              "employee         1105\n",
              "business          508\n",
              "retiree           413\n",
              "civil servant     147\n",
              "entrepreneur        1\n",
              "Name: income_type, dtype: int64"
            ]
          },
          "metadata": {},
          "execution_count": 9
        }
      ],
      "source": [
        "# Let's investigate clients who do not have data on identified characteristic and the column with the missing values\n",
        "borrower_filt['income_type'].value_counts()"
      ]
    },
    {
      "cell_type": "code",
      "execution_count": 10,
      "metadata": {
        "colab": {
          "base_uri": "https://localhost:8080/"
        },
        "id": "bcsFMi-3QtwO",
        "outputId": "8fcd57b2-17fd-4638-b183-4a005deec5a3"
      },
      "outputs": [
        {
          "output_type": "execute_result",
          "data": {
            "text/plain": [
              "employee         50.827967\n",
              "business         23.367065\n",
              "retiree          18.997240\n",
              "civil servant     6.761730\n",
              "entrepreneur      0.045998\n",
              "Name: income_type, dtype: float64"
            ]
          },
          "metadata": {},
          "execution_count": 10
        }
      ],
      "source": [
        "# Checking distribution\n",
        "tot_rows = len(borrower_filt)\n",
        "income_values = borrower_filt['income_type'].value_counts()\n",
        "distr_income = income_values / tot_rows * 100\n",
        "distr_income"
      ]
    },
    {
      "cell_type": "markdown",
      "metadata": {
        "id": "IMXRS5IDQtwO"
      },
      "source": [
        "It seems that information about total income is missing in half of the clients who are employed, and the other half spreaded between the other types of employment, therefore there is no obvious pattern here"
      ]
    },
    {
      "cell_type": "code",
      "execution_count": 11,
      "metadata": {
        "colab": {
          "base_uri": "https://localhost:8080/"
        },
        "id": "LM6Ty2UxQtwP",
        "outputId": "25cee870-220d-4075-8ddf-cc62033efd6e"
      },
      "outputs": [
        {
          "output_type": "execute_result",
          "data": {
            "text/plain": [
              "employee                       11119\n",
              "business                        5085\n",
              "retiree                         3856\n",
              "civil servant                   1459\n",
              "unemployed                         2\n",
              "entrepreneur                       2\n",
              "student                            1\n",
              "paternity / maternity leave        1\n",
              "Name: income_type, dtype: int64"
            ]
          },
          "metadata": {},
          "execution_count": 11
        }
      ],
      "source": [
        "# Checking the distribution in the whole dataset\n",
        "borrower_data['income_type'].value_counts()"
      ]
    },
    {
      "cell_type": "markdown",
      "metadata": {
        "id": "xR1HzhEBQtwP"
      },
      "source": [
        "The distribution of types of employment on the whole dataset is similar to the one we saw on the subset of missing values, so we can conclude that they probably are missing randomly and not depending on an income type."
      ]
    },
    {
      "cell_type": "code",
      "execution_count": 12,
      "metadata": {
        "colab": {
          "base_uri": "https://localhost:8080/"
        },
        "id": "Vr8ISvZ0QtwP",
        "outputId": "c8ac6d9c-3847-4945-8c59-66994067bb29"
      },
      "outputs": [
        {
          "output_type": "execute_result",
          "data": {
            "text/plain": [
              "married              56.899724\n",
              "civil partnership    20.331187\n",
              "unmarried            13.247470\n",
              "divorced              5.151794\n",
              "widow / widower       4.369825\n",
              "Name: family_status, dtype: float64"
            ]
          },
          "metadata": {},
          "execution_count": 12
        }
      ],
      "source": [
        "# Check for other reasons and patterns that could lead to missing values\n",
        "family_values = borrower_filt['family_status'].value_counts()\n",
        "distr_family = (family_values / tot_rows) * 100\n",
        "distr_family"
      ]
    },
    {
      "cell_type": "code",
      "execution_count": 13,
      "metadata": {
        "colab": {
          "base_uri": "https://localhost:8080/"
        },
        "id": "SRbEe338QtwP",
        "outputId": "27586d4e-f2e4-4a69-9a2e-77e16359d380"
      },
      "outputs": [
        {
          "output_type": "execute_result",
          "data": {
            "text/plain": [
              "secondary education    64.765409\n",
              "bachelor's degree      22.815087\n",
              "SECONDARY EDUCATION     3.081877\n",
              "Secondary Education     2.989880\n",
              "some college            2.529899\n",
              "Bachelor's Degree       1.149954\n",
              "BACHELOR'S DEGREE       1.057958\n",
              "primary education       0.873965\n",
              "Some College            0.321987\n",
              "SOME COLLEGE            0.321987\n",
              "Primary Education       0.045998\n",
              "PRIMARY EDUCATION       0.045998\n",
              "Name: education, dtype: float64"
            ]
          },
          "metadata": {},
          "execution_count": 13
        }
      ],
      "source": [
        "education_values = borrower_filt['education'].value_counts()\n",
        "distr_education = (education_values / tot_rows) * 100\n",
        "distr_education"
      ]
    },
    {
      "cell_type": "markdown",
      "metadata": {
        "id": "nH3YtxzVQtwQ"
      },
      "source": [
        "By analysing the distributions we can see the missing values spreaded more or less randomly. Let's have a look at the overall ammount of people who didn't payback the loan to get a general impression."
      ]
    },
    {
      "cell_type": "code",
      "execution_count": 14,
      "metadata": {
        "colab": {
          "base_uri": "https://localhost:8080/"
        },
        "id": "dc_pH-i5QtwQ",
        "outputId": "b06a0c47-8651-444b-e777-bc67dafd62d9"
      },
      "outputs": [
        {
          "output_type": "execute_result",
          "data": {
            "text/plain": [
              "0    92.180313\n",
              "1     7.819687\n",
              "Name: debt, dtype: float64"
            ]
          },
          "metadata": {},
          "execution_count": 14
        }
      ],
      "source": [
        "debt_values = borrower_filt['debt'].value_counts()\n",
        "distr_debt = (debt_values / tot_rows) * 100\n",
        "distr_debt"
      ]
    },
    {
      "cell_type": "markdown",
      "metadata": {
        "id": "FnjVov6bQtwQ"
      },
      "source": [
        "Most of the clients did pay back their loan in time"
      ]
    },
    {
      "cell_type": "markdown",
      "metadata": {
        "id": "MdDN6dvLQtwQ"
      },
      "source": [
        "**Conclusions**\n",
        "\n",
        "\n",
        "According to the general information about our dataset we noticed two columns with values missing in 10.10% of each of them, after checking the distribution of the missing values on most related charachteristics and the whole dataset no obvious pattern for missing values has occured. The data missing randomly could mean that this happened due to some technical issue (in the process of downloading the data from a server, for example). As the next step we need to take care of those duplicates we saw at the \"education\" column and see if there are any other problematic values out there."
      ]
    },
    {
      "cell_type": "markdown",
      "metadata": {
        "id": "pzjfUXNXQtwR"
      },
      "source": [
        "## Data transformation\n",
        "\n",
        "Let's go through each column to see what issues we may have in them."
      ]
    },
    {
      "cell_type": "code",
      "execution_count": 15,
      "metadata": {
        "colab": {
          "base_uri": "https://localhost:8080/"
        },
        "id": "D-93vBNgQtwR",
        "outputId": "7a53499f-52ad-4e38-e733-b7e8c582cd2e"
      },
      "outputs": [
        {
          "output_type": "execute_result",
          "data": {
            "text/plain": [
              "secondary education    13750\n",
              "bachelor's degree       4718\n",
              "SECONDARY EDUCATION      772\n",
              "Secondary Education      711\n",
              "some college             668\n",
              "BACHELOR'S DEGREE        274\n",
              "Bachelor's Degree        268\n",
              "primary education        250\n",
              "Some College              47\n",
              "SOME COLLEGE              29\n",
              "PRIMARY EDUCATION         17\n",
              "Primary Education         15\n",
              "graduate degree            4\n",
              "Graduate Degree            1\n",
              "GRADUATE DEGREE            1\n",
              "Name: education, dtype: int64"
            ]
          },
          "metadata": {},
          "execution_count": 15
        }
      ],
      "source": [
        "# Let's see all values in education column to check if and what spellings will need to be fixed\n",
        "borrower_data['education'].value_counts()"
      ]
    },
    {
      "cell_type": "code",
      "execution_count": 16,
      "metadata": {
        "scrolled": true,
        "id": "2Z90UE51QtwR"
      },
      "outputs": [],
      "source": [
        "# Fix the registers if required\n",
        "borrower_data['education_lowercase'] = borrower_data['education'].str.lower()"
      ]
    },
    {
      "cell_type": "code",
      "execution_count": 17,
      "metadata": {
        "scrolled": true,
        "colab": {
          "base_uri": "https://localhost:8080/"
        },
        "id": "2mc8CBgzQtwR",
        "outputId": "842d0b31-9716-4525-b8fd-a47627c87678"
      },
      "outputs": [
        {
          "output_type": "execute_result",
          "data": {
            "text/plain": [
              "secondary education    15233\n",
              "bachelor's degree       5260\n",
              "some college             744\n",
              "primary education        282\n",
              "graduate degree            6\n",
              "Name: education_lowercase, dtype: int64"
            ]
          },
          "metadata": {},
          "execution_count": 17
        }
      ],
      "source": [
        "# Checking all the values in the column to make sure we fixed them\n",
        "borrower_data['education_lowercase'].value_counts()"
      ]
    },
    {
      "cell_type": "code",
      "execution_count": 18,
      "metadata": {
        "colab": {
          "base_uri": "https://localhost:8080/"
        },
        "id": "XkAuWT9fQtwR",
        "outputId": "63aa9327-ba3e-45e2-ca66-a2c1a5aa28de"
      },
      "outputs": [
        {
          "output_type": "execute_result",
          "data": {
            "text/plain": [
              "array([ 1,  0,  3,  2, -1,  4, 20,  5])"
            ]
          },
          "metadata": {},
          "execution_count": 18
        }
      ],
      "source": [
        "# Let's see the distribution of values in the `children` column\n",
        "borrower_data['children'].unique()"
      ]
    },
    {
      "cell_type": "code",
      "execution_count": 19,
      "metadata": {
        "colab": {
          "base_uri": "https://localhost:8080/"
        },
        "id": "5qjO_URvQtwR",
        "outputId": "4727f40c-d073-4a62-c6c4-8b940bbc497e"
      },
      "outputs": [
        {
          "output_type": "execute_result",
          "data": {
            "text/plain": [
              " 0     14149\n",
              " 1      4818\n",
              " 2      2055\n",
              " 3       330\n",
              " 20       76\n",
              "-1        47\n",
              " 4        41\n",
              " 5         9\n",
              "Name: children, dtype: int64"
            ]
          },
          "metadata": {},
          "execution_count": 19
        }
      ],
      "source": [
        "borrower_data['children'].value_counts()"
      ]
    },
    {
      "cell_type": "markdown",
      "metadata": {
        "id": "HZ6YyC3QQtwS"
      },
      "source": [
        "Concidering that the ammount of children = 2 is in the top3 most frequent values, we will change the value \"20\" to \"2\", assuming that the value \"20\" occured due to a typo, the same logic goes for negative quantity of children."
      ]
    },
    {
      "cell_type": "code",
      "execution_count": 20,
      "metadata": {
        "id": "-6fJ6zI-QtwS"
      },
      "outputs": [],
      "source": [
        "# [fix the data based on your decision]\n",
        "borrower_data['children'] = borrower_data['children'].abs()  # Getting rid of negative values\n",
        "borrower_data.loc[borrower_data['children'] == 20, 'children'] = 2  # Replacing the value 20 children to 2"
      ]
    },
    {
      "cell_type": "code",
      "execution_count": 21,
      "metadata": {
        "colab": {
          "base_uri": "https://localhost:8080/"
        },
        "id": "f3YrbNEvQtwS",
        "outputId": "b143d316-72af-4c95-981c-7a7486c654b6"
      },
      "outputs": [
        {
          "output_type": "execute_result",
          "data": {
            "text/plain": [
              "array([1, 0, 3, 2, 4, 5])"
            ]
          },
          "metadata": {},
          "execution_count": 21
        }
      ],
      "source": [
        "# Checking the `children` column again to make sure it's all fixed\n",
        "borrower_data['children'].unique()"
      ]
    },
    {
      "cell_type": "code",
      "execution_count": 22,
      "metadata": {
        "colab": {
          "base_uri": "https://localhost:8080/"
        },
        "id": "HrctYqy2QtwS",
        "outputId": "97774ec0-89a5-4da7-a115-ed3cd8181f4c"
      },
      "outputs": [
        {
          "output_type": "execute_result",
          "data": {
            "text/plain": [
              "array([-8437.67302776, -4024.80375385, -5623.42261023, ...,\n",
              "       -2113.3468877 , -3112.4817052 , -1984.50758853])"
            ]
          },
          "metadata": {},
          "execution_count": 22
        }
      ],
      "source": [
        "# Find problematic data in `days_employed`, if they exist, and calculate the percentage\n",
        "borrower_data['days_employed'].unique()"
      ]
    },
    {
      "cell_type": "code",
      "execution_count": 23,
      "metadata": {
        "id": "LOLNduMbQtwS"
      },
      "outputs": [],
      "source": [
        "# Address the problematic values, if they exist\n",
        "borrower_data['days_employed'] = borrower_data['days_employed'].abs() # Getting rid of negative number"
      ]
    },
    {
      "cell_type": "code",
      "execution_count": 24,
      "metadata": {
        "colab": {
          "base_uri": "https://localhost:8080/"
        },
        "id": "qDl1sm9tQtwS",
        "outputId": "513e512d-f20f-4af5-eed3-cfea9ed0c73a"
      },
      "outputs": [
        {
          "output_type": "execute_result",
          "data": {
            "text/plain": [
              "0          351.569709\n",
              "1          167.700156\n",
              "2          234.309275\n",
              "3          171.864467\n",
              "4        14177.753002\n",
              "             ...     \n",
              "21520      188.721528\n",
              "21521    14330.725172\n",
              "21522       88.056120\n",
              "21523      129.686738\n",
              "21524       82.687816\n",
              "Name: days_employed, Length: 21525, dtype: float64"
            ]
          },
          "metadata": {},
          "execution_count": 24
        }
      ],
      "source": [
        "borrower_data['days_employed'] / 24 # Calculating the ammount of days "
      ]
    },
    {
      "cell_type": "markdown",
      "metadata": {
        "id": "SjD3Bu2MQtwT"
      },
      "source": [
        "The absolute most of the data in the `days_employed` column is problematic, for several reasons: \n",
        "1. There are negative values which makes no sense in terms of presenting a period of time. \n",
        "2. The value presented in the float format which is not needed for the purpose of the project, we don't really need to know the ammount of days with such accuracy \n",
        "3. With that being said we will leave it as is for now and will notify our engineers that this problem has occured."
      ]
    },
    {
      "cell_type": "code",
      "execution_count": 25,
      "metadata": {
        "scrolled": true,
        "colab": {
          "base_uri": "https://localhost:8080/"
        },
        "id": "JoQQwdZ0QtwT",
        "outputId": "630cf6aa-36fa-4343-d6ce-0ad2eedf0e31"
      },
      "outputs": [
        {
          "output_type": "execute_result",
          "data": {
            "text/plain": [
              "35    617\n",
              "40    609\n",
              "41    607\n",
              "34    603\n",
              "38    598\n",
              "42    597\n",
              "33    581\n",
              "39    573\n",
              "31    560\n",
              "36    555\n",
              "44    547\n",
              "29    545\n",
              "30    540\n",
              "48    538\n",
              "37    537\n",
              "50    514\n",
              "43    513\n",
              "32    510\n",
              "49    508\n",
              "28    503\n",
              "45    497\n",
              "27    493\n",
              "56    487\n",
              "52    484\n",
              "47    480\n",
              "54    479\n",
              "46    475\n",
              "58    461\n",
              "57    460\n",
              "53    459\n",
              "51    448\n",
              "59    444\n",
              "55    443\n",
              "26    408\n",
              "60    377\n",
              "25    357\n",
              "61    355\n",
              "62    352\n",
              "63    269\n",
              "64    265\n",
              "24    264\n",
              "23    254\n",
              "65    194\n",
              "22    183\n",
              "66    183\n",
              "67    167\n",
              "21    111\n",
              "0     101\n",
              "68     99\n",
              "69     85\n",
              "70     65\n",
              "71     58\n",
              "20     51\n",
              "72     33\n",
              "19     14\n",
              "73      8\n",
              "74      6\n",
              "75      1\n",
              "Name: dob_years, dtype: int64"
            ]
          },
          "metadata": {},
          "execution_count": 25
        }
      ],
      "source": [
        "# Check the `dob_years` for suspicious values and count the percentage\n",
        "borrower_data['dob_years'].value_counts()"
      ]
    },
    {
      "cell_type": "code",
      "execution_count": 26,
      "metadata": {
        "colab": {
          "base_uri": "https://localhost:8080/",
          "height": 0
        },
        "id": "TirU-B8JQtwT",
        "outputId": "c7856a8a-de1c-4a0a-8386-e7a83593756c"
      },
      "outputs": [
        {
          "output_type": "execute_result",
          "data": {
            "text/plain": [
              "       children  days_employed  dob_years            education  education_id  \\\n",
              "99            0  346541.618895          0  Secondary Education             1   \n",
              "149           0    2664.273168          0  secondary education             1   \n",
              "270           3    1872.663186          0  secondary education             1   \n",
              "578           0  397856.565013          0  secondary education             1   \n",
              "1040          0    1158.029561          0    bachelor's degree             0   \n",
              "...         ...            ...        ...                  ...           ...   \n",
              "19829         0            NaN          0  secondary education             1   \n",
              "20462         0  338734.868540          0  secondary education             1   \n",
              "20577         0  331741.271455          0  secondary education             1   \n",
              "21179         2     108.967042          0    bachelor's degree             0   \n",
              "21313         0    1268.487728          0  secondary education             1   \n",
              "\n",
              "      family_status  family_status_id gender income_type  debt  total_income  \\\n",
              "99          married                 0      F     retiree     0     11406.644   \n",
              "149        divorced                 3      F    employee     0     11228.230   \n",
              "270         married                 0      F    employee     0     16346.633   \n",
              "578         married                 0      F     retiree     0     15619.310   \n",
              "1040       divorced                 3      F    business     0     48639.062   \n",
              "...             ...               ...    ...         ...   ...           ...   \n",
              "19829       married                 0      F    employee     0           NaN   \n",
              "20462       married                 0      F     retiree     0     41471.027   \n",
              "20577     unmarried                 4      F     retiree     0     20766.202   \n",
              "21179       married                 0      M    business     0     38512.321   \n",
              "21313     unmarried                 4      M    employee     0     24387.070   \n",
              "\n",
              "                            purpose  education_lowercase  \n",
              "99                              car  secondary education  \n",
              "149            housing transactions  secondary education  \n",
              "270              housing renovation  secondary education  \n",
              "578    construction of own property  secondary education  \n",
              "1040                   to own a car    bachelor's degree  \n",
              "...                             ...                  ...  \n",
              "19829                       housing  secondary education  \n",
              "20462      purchase of my own house  secondary education  \n",
              "20577                      property  secondary education  \n",
              "21179        building a real estate    bachelor's degree  \n",
              "21313          housing transactions  secondary education  \n",
              "\n",
              "[101 rows x 13 columns]"
            ],
            "text/html": [
              "\n",
              "  <div id=\"df-999ad312-02eb-4aff-813e-525c953617dd\">\n",
              "    <div class=\"colab-df-container\">\n",
              "      <div>\n",
              "<style scoped>\n",
              "    .dataframe tbody tr th:only-of-type {\n",
              "        vertical-align: middle;\n",
              "    }\n",
              "\n",
              "    .dataframe tbody tr th {\n",
              "        vertical-align: top;\n",
              "    }\n",
              "\n",
              "    .dataframe thead th {\n",
              "        text-align: right;\n",
              "    }\n",
              "</style>\n",
              "<table border=\"1\" class=\"dataframe\">\n",
              "  <thead>\n",
              "    <tr style=\"text-align: right;\">\n",
              "      <th></th>\n",
              "      <th>children</th>\n",
              "      <th>days_employed</th>\n",
              "      <th>dob_years</th>\n",
              "      <th>education</th>\n",
              "      <th>education_id</th>\n",
              "      <th>family_status</th>\n",
              "      <th>family_status_id</th>\n",
              "      <th>gender</th>\n",
              "      <th>income_type</th>\n",
              "      <th>debt</th>\n",
              "      <th>total_income</th>\n",
              "      <th>purpose</th>\n",
              "      <th>education_lowercase</th>\n",
              "    </tr>\n",
              "  </thead>\n",
              "  <tbody>\n",
              "    <tr>\n",
              "      <th>99</th>\n",
              "      <td>0</td>\n",
              "      <td>346541.618895</td>\n",
              "      <td>0</td>\n",
              "      <td>Secondary Education</td>\n",
              "      <td>1</td>\n",
              "      <td>married</td>\n",
              "      <td>0</td>\n",
              "      <td>F</td>\n",
              "      <td>retiree</td>\n",
              "      <td>0</td>\n",
              "      <td>11406.644</td>\n",
              "      <td>car</td>\n",
              "      <td>secondary education</td>\n",
              "    </tr>\n",
              "    <tr>\n",
              "      <th>149</th>\n",
              "      <td>0</td>\n",
              "      <td>2664.273168</td>\n",
              "      <td>0</td>\n",
              "      <td>secondary education</td>\n",
              "      <td>1</td>\n",
              "      <td>divorced</td>\n",
              "      <td>3</td>\n",
              "      <td>F</td>\n",
              "      <td>employee</td>\n",
              "      <td>0</td>\n",
              "      <td>11228.230</td>\n",
              "      <td>housing transactions</td>\n",
              "      <td>secondary education</td>\n",
              "    </tr>\n",
              "    <tr>\n",
              "      <th>270</th>\n",
              "      <td>3</td>\n",
              "      <td>1872.663186</td>\n",
              "      <td>0</td>\n",
              "      <td>secondary education</td>\n",
              "      <td>1</td>\n",
              "      <td>married</td>\n",
              "      <td>0</td>\n",
              "      <td>F</td>\n",
              "      <td>employee</td>\n",
              "      <td>0</td>\n",
              "      <td>16346.633</td>\n",
              "      <td>housing renovation</td>\n",
              "      <td>secondary education</td>\n",
              "    </tr>\n",
              "    <tr>\n",
              "      <th>578</th>\n",
              "      <td>0</td>\n",
              "      <td>397856.565013</td>\n",
              "      <td>0</td>\n",
              "      <td>secondary education</td>\n",
              "      <td>1</td>\n",
              "      <td>married</td>\n",
              "      <td>0</td>\n",
              "      <td>F</td>\n",
              "      <td>retiree</td>\n",
              "      <td>0</td>\n",
              "      <td>15619.310</td>\n",
              "      <td>construction of own property</td>\n",
              "      <td>secondary education</td>\n",
              "    </tr>\n",
              "    <tr>\n",
              "      <th>1040</th>\n",
              "      <td>0</td>\n",
              "      <td>1158.029561</td>\n",
              "      <td>0</td>\n",
              "      <td>bachelor's degree</td>\n",
              "      <td>0</td>\n",
              "      <td>divorced</td>\n",
              "      <td>3</td>\n",
              "      <td>F</td>\n",
              "      <td>business</td>\n",
              "      <td>0</td>\n",
              "      <td>48639.062</td>\n",
              "      <td>to own a car</td>\n",
              "      <td>bachelor's degree</td>\n",
              "    </tr>\n",
              "    <tr>\n",
              "      <th>...</th>\n",
              "      <td>...</td>\n",
              "      <td>...</td>\n",
              "      <td>...</td>\n",
              "      <td>...</td>\n",
              "      <td>...</td>\n",
              "      <td>...</td>\n",
              "      <td>...</td>\n",
              "      <td>...</td>\n",
              "      <td>...</td>\n",
              "      <td>...</td>\n",
              "      <td>...</td>\n",
              "      <td>...</td>\n",
              "      <td>...</td>\n",
              "    </tr>\n",
              "    <tr>\n",
              "      <th>19829</th>\n",
              "      <td>0</td>\n",
              "      <td>NaN</td>\n",
              "      <td>0</td>\n",
              "      <td>secondary education</td>\n",
              "      <td>1</td>\n",
              "      <td>married</td>\n",
              "      <td>0</td>\n",
              "      <td>F</td>\n",
              "      <td>employee</td>\n",
              "      <td>0</td>\n",
              "      <td>NaN</td>\n",
              "      <td>housing</td>\n",
              "      <td>secondary education</td>\n",
              "    </tr>\n",
              "    <tr>\n",
              "      <th>20462</th>\n",
              "      <td>0</td>\n",
              "      <td>338734.868540</td>\n",
              "      <td>0</td>\n",
              "      <td>secondary education</td>\n",
              "      <td>1</td>\n",
              "      <td>married</td>\n",
              "      <td>0</td>\n",
              "      <td>F</td>\n",
              "      <td>retiree</td>\n",
              "      <td>0</td>\n",
              "      <td>41471.027</td>\n",
              "      <td>purchase of my own house</td>\n",
              "      <td>secondary education</td>\n",
              "    </tr>\n",
              "    <tr>\n",
              "      <th>20577</th>\n",
              "      <td>0</td>\n",
              "      <td>331741.271455</td>\n",
              "      <td>0</td>\n",
              "      <td>secondary education</td>\n",
              "      <td>1</td>\n",
              "      <td>unmarried</td>\n",
              "      <td>4</td>\n",
              "      <td>F</td>\n",
              "      <td>retiree</td>\n",
              "      <td>0</td>\n",
              "      <td>20766.202</td>\n",
              "      <td>property</td>\n",
              "      <td>secondary education</td>\n",
              "    </tr>\n",
              "    <tr>\n",
              "      <th>21179</th>\n",
              "      <td>2</td>\n",
              "      <td>108.967042</td>\n",
              "      <td>0</td>\n",
              "      <td>bachelor's degree</td>\n",
              "      <td>0</td>\n",
              "      <td>married</td>\n",
              "      <td>0</td>\n",
              "      <td>M</td>\n",
              "      <td>business</td>\n",
              "      <td>0</td>\n",
              "      <td>38512.321</td>\n",
              "      <td>building a real estate</td>\n",
              "      <td>bachelor's degree</td>\n",
              "    </tr>\n",
              "    <tr>\n",
              "      <th>21313</th>\n",
              "      <td>0</td>\n",
              "      <td>1268.487728</td>\n",
              "      <td>0</td>\n",
              "      <td>secondary education</td>\n",
              "      <td>1</td>\n",
              "      <td>unmarried</td>\n",
              "      <td>4</td>\n",
              "      <td>M</td>\n",
              "      <td>employee</td>\n",
              "      <td>0</td>\n",
              "      <td>24387.070</td>\n",
              "      <td>housing transactions</td>\n",
              "      <td>secondary education</td>\n",
              "    </tr>\n",
              "  </tbody>\n",
              "</table>\n",
              "<p>101 rows × 13 columns</p>\n",
              "</div>\n",
              "      <button class=\"colab-df-convert\" onclick=\"convertToInteractive('df-999ad312-02eb-4aff-813e-525c953617dd')\"\n",
              "              title=\"Convert this dataframe to an interactive table.\"\n",
              "              style=\"display:none;\">\n",
              "        \n",
              "  <svg xmlns=\"http://www.w3.org/2000/svg\" height=\"24px\"viewBox=\"0 0 24 24\"\n",
              "       width=\"24px\">\n",
              "    <path d=\"M0 0h24v24H0V0z\" fill=\"none\"/>\n",
              "    <path d=\"M18.56 5.44l.94 2.06.94-2.06 2.06-.94-2.06-.94-.94-2.06-.94 2.06-2.06.94zm-11 1L8.5 8.5l.94-2.06 2.06-.94-2.06-.94L8.5 2.5l-.94 2.06-2.06.94zm10 10l.94 2.06.94-2.06 2.06-.94-2.06-.94-.94-2.06-.94 2.06-2.06.94z\"/><path d=\"M17.41 7.96l-1.37-1.37c-.4-.4-.92-.59-1.43-.59-.52 0-1.04.2-1.43.59L10.3 9.45l-7.72 7.72c-.78.78-.78 2.05 0 2.83L4 21.41c.39.39.9.59 1.41.59.51 0 1.02-.2 1.41-.59l7.78-7.78 2.81-2.81c.8-.78.8-2.07 0-2.86zM5.41 20L4 18.59l7.72-7.72 1.47 1.35L5.41 20z\"/>\n",
              "  </svg>\n",
              "      </button>\n",
              "      \n",
              "  <style>\n",
              "    .colab-df-container {\n",
              "      display:flex;\n",
              "      flex-wrap:wrap;\n",
              "      gap: 12px;\n",
              "    }\n",
              "\n",
              "    .colab-df-convert {\n",
              "      background-color: #E8F0FE;\n",
              "      border: none;\n",
              "      border-radius: 50%;\n",
              "      cursor: pointer;\n",
              "      display: none;\n",
              "      fill: #1967D2;\n",
              "      height: 32px;\n",
              "      padding: 0 0 0 0;\n",
              "      width: 32px;\n",
              "    }\n",
              "\n",
              "    .colab-df-convert:hover {\n",
              "      background-color: #E2EBFA;\n",
              "      box-shadow: 0px 1px 2px rgba(60, 64, 67, 0.3), 0px 1px 3px 1px rgba(60, 64, 67, 0.15);\n",
              "      fill: #174EA6;\n",
              "    }\n",
              "\n",
              "    [theme=dark] .colab-df-convert {\n",
              "      background-color: #3B4455;\n",
              "      fill: #D2E3FC;\n",
              "    }\n",
              "\n",
              "    [theme=dark] .colab-df-convert:hover {\n",
              "      background-color: #434B5C;\n",
              "      box-shadow: 0px 1px 3px 1px rgba(0, 0, 0, 0.15);\n",
              "      filter: drop-shadow(0px 1px 2px rgba(0, 0, 0, 0.3));\n",
              "      fill: #FFFFFF;\n",
              "    }\n",
              "  </style>\n",
              "\n",
              "      <script>\n",
              "        const buttonEl =\n",
              "          document.querySelector('#df-999ad312-02eb-4aff-813e-525c953617dd button.colab-df-convert');\n",
              "        buttonEl.style.display =\n",
              "          google.colab.kernel.accessAllowed ? 'block' : 'none';\n",
              "\n",
              "        async function convertToInteractive(key) {\n",
              "          const element = document.querySelector('#df-999ad312-02eb-4aff-813e-525c953617dd');\n",
              "          const dataTable =\n",
              "            await google.colab.kernel.invokeFunction('convertToInteractive',\n",
              "                                                     [key], {});\n",
              "          if (!dataTable) return;\n",
              "\n",
              "          const docLinkHtml = 'Like what you see? Visit the ' +\n",
              "            '<a target=\"_blank\" href=https://colab.research.google.com/notebooks/data_table.ipynb>data table notebook</a>'\n",
              "            + ' to learn more about interactive tables.';\n",
              "          element.innerHTML = '';\n",
              "          dataTable['output_type'] = 'display_data';\n",
              "          await google.colab.output.renderOutput(dataTable, element);\n",
              "          const docLink = document.createElement('div');\n",
              "          docLink.innerHTML = docLinkHtml;\n",
              "          element.appendChild(docLink);\n",
              "        }\n",
              "      </script>\n",
              "    </div>\n",
              "  </div>\n",
              "  "
            ]
          },
          "metadata": {},
          "execution_count": 26
        }
      ],
      "source": [
        "borrower_data[borrower_data['dob_years'] == 0]"
      ]
    },
    {
      "cell_type": "markdown",
      "metadata": {
        "id": "0EubPA3nQtwT"
      },
      "source": [
        "In the age column we have a 0 value age which makes no sence for such a characteristic as 'age', and since it is presented in less then 1% of the dataset we will replace it with an average value."
      ]
    },
    {
      "cell_type": "code",
      "execution_count": 27,
      "metadata": {
        "id": "mKasuVi7QtwT"
      },
      "outputs": [],
      "source": [
        "# Address the issues in the `dob_years` column, if they exist:\n",
        "# After having checked the mean and median value it seams that they close enough to one another, \n",
        "# so there are no strong outliers and we can use median\n",
        "avg_age = borrower_data['dob_years'].median() \n",
        "borrower_data.loc[borrower_data['dob_years'] == 0, 'dob_years'] = avg_age"
      ]
    },
    {
      "cell_type": "code",
      "execution_count": 28,
      "metadata": {
        "colab": {
          "base_uri": "https://localhost:8080/"
        },
        "id": "6O7GpuayQtwT",
        "outputId": "9a442086-d4ca-4939-bf71-c99ba502f8d8"
      },
      "outputs": [
        {
          "output_type": "execute_result",
          "data": {
            "text/plain": [
              "True    21525\n",
              "Name: dob_years, dtype: int64"
            ]
          },
          "metadata": {},
          "execution_count": 28
        }
      ],
      "source": [
        "# Check the result - make sure it's fixed\n",
        "(borrower_data['dob_years'] != 0).value_counts()"
      ]
    },
    {
      "cell_type": "code",
      "execution_count": 29,
      "metadata": {
        "colab": {
          "base_uri": "https://localhost:8080/"
        },
        "id": "aegzVC-cQtwU",
        "outputId": "6ace6f42-8e79-4fe8-8494-63ebef295579"
      },
      "outputs": [
        {
          "output_type": "execute_result",
          "data": {
            "text/plain": [
              "married              12380\n",
              "civil partnership     4177\n",
              "unmarried             2813\n",
              "divorced              1195\n",
              "widow / widower        960\n",
              "Name: family_status, dtype: int64"
            ]
          },
          "metadata": {},
          "execution_count": 29
        }
      ],
      "source": [
        "# Let's see the values for the column\n",
        "borrower_data['family_status'].value_counts()\n"
      ]
    },
    {
      "cell_type": "markdown",
      "metadata": {
        "id": "u9m-GQ1mQtwU"
      },
      "source": [
        "The family status seems proper as it is, so we don't need to change here anything\n",
        "\n"
      ]
    },
    {
      "cell_type": "code",
      "execution_count": 30,
      "metadata": {
        "colab": {
          "base_uri": "https://localhost:8080/"
        },
        "id": "k27nfLswQtwU",
        "outputId": "7d18db72-6e07-4f7a-862b-82371c956996"
      },
      "outputs": [
        {
          "output_type": "execute_result",
          "data": {
            "text/plain": [
              "F      14236\n",
              "M       7288\n",
              "XNA        1\n",
              "Name: gender, dtype: int64"
            ]
          },
          "metadata": {},
          "execution_count": 30
        }
      ],
      "source": [
        "# Let's see the values in the column\n",
        "borrower_data['gender'].value_counts()"
      ]
    },
    {
      "cell_type": "code",
      "execution_count": 31,
      "metadata": {
        "colab": {
          "base_uri": "https://localhost:8080/"
        },
        "id": "08e-MuOFQtwU",
        "outputId": "db2fb079-6d42-4a51-b0ea-75875b32639f"
      },
      "outputs": [
        {
          "output_type": "stream",
          "name": "stdout",
          "text": [
            "       children  days_employed  dob_years     education  education_id  \\\n",
            "10701         0    2358.600502         24  some college             2   \n",
            "\n",
            "           family_status  family_status_id gender income_type  debt  \\\n",
            "10701  civil partnership                 1    XNA    business     0   \n",
            "\n",
            "       total_income          purpose education_lowercase  \n",
            "10701     32624.825  buy real estate        some college  \n"
          ]
        }
      ],
      "source": [
        "# Address the problematic values, if they exist\n",
        "print(borrower_data.loc[borrower_data['gender'] == 'XNA']) # Altering the index of the row with problenatic value\n",
        "borrower_data.drop(labels=10701, axis=0, inplace=True)  # Getting rid of the row entirely\n"
      ]
    },
    {
      "cell_type": "code",
      "execution_count": 32,
      "metadata": {
        "colab": {
          "base_uri": "https://localhost:8080/"
        },
        "id": "Yf-JpmvIQtwU",
        "outputId": "c54afc17-fc14-4272-fd30-86e51610ff3e"
      },
      "outputs": [
        {
          "output_type": "execute_result",
          "data": {
            "text/plain": [
              "F    14236\n",
              "M     7288\n",
              "Name: gender, dtype: int64"
            ]
          },
          "metadata": {},
          "execution_count": 32
        }
      ],
      "source": [
        "# Check the result - make sure it's fixed\n",
        "borrower_data['gender'].value_counts()"
      ]
    },
    {
      "cell_type": "code",
      "execution_count": 33,
      "metadata": {
        "colab": {
          "base_uri": "https://localhost:8080/"
        },
        "id": "sDJYbX8TQtwU",
        "outputId": "89cd4b6b-94ab-4069-ba36-374e116d0500"
      },
      "outputs": [
        {
          "output_type": "execute_result",
          "data": {
            "text/plain": [
              "employee                       11119\n",
              "business                        5084\n",
              "retiree                         3856\n",
              "civil servant                   1459\n",
              "unemployed                         2\n",
              "entrepreneur                       2\n",
              "student                            1\n",
              "paternity / maternity leave        1\n",
              "Name: income_type, dtype: int64"
            ]
          },
          "metadata": {},
          "execution_count": 33
        }
      ],
      "source": [
        "# Let's see the values in the column\n",
        "borrower_data['income_type'].value_counts()"
      ]
    },
    {
      "cell_type": "markdown",
      "metadata": {
        "id": "mhL4tqw_QtwV"
      },
      "source": [
        "Now let's see if we have any duplicates in our data. "
      ]
    },
    {
      "cell_type": "code",
      "execution_count": 34,
      "metadata": {
        "colab": {
          "base_uri": "https://localhost:8080/"
        },
        "id": "gT7szNaTQtwV",
        "outputId": "dc475d06-4dd7-4e60-f8e4-be27dbae6e0e"
      },
      "outputs": [
        {
          "output_type": "stream",
          "name": "stdout",
          "text": [
            "There are 55 duplicated values in our subset\n"
          ]
        }
      ],
      "source": [
        "# Checking duplicates\n",
        "\n",
        "print('There are {:} duplicated values in our subset'.format(borrower_data.duplicated().sum()))"
      ]
    },
    {
      "cell_type": "code",
      "execution_count": 35,
      "metadata": {
        "colab": {
          "base_uri": "https://localhost:8080/"
        },
        "id": "p6wKyNBAQtwV",
        "outputId": "85408199-be9e-4c9c-e899-3237e73db3e4"
      },
      "outputs": [
        {
          "output_type": "execute_result",
          "data": {
            "text/plain": [
              "17312.717    2\n",
              "42413.096    2\n",
              "31791.384    2\n",
              "21005.772    1\n",
              "18591.443    1\n",
              "            ..\n",
              "23686.835    1\n",
              "9606.294     1\n",
              "28156.762    1\n",
              "24931.195    1\n",
              "13127.587    1\n",
              "Name: total_income, Length: 19347, dtype: int64"
            ]
          },
          "metadata": {},
          "execution_count": 35
        }
      ],
      "source": [
        "# Address the duplicates, if they exist\n",
        "borrower_data['total_income'].value_counts()"
      ]
    },
    {
      "cell_type": "markdown",
      "metadata": {
        "id": "CTvzRB_PQtwV"
      },
      "source": [
        "Lets try to have a look at the first three duplicates to get an impression of duplicated values"
      ]
    },
    {
      "cell_type": "code",
      "execution_count": 36,
      "metadata": {
        "id": "FmrUYjl5QtwV"
      },
      "outputs": [],
      "source": [
        "duplicated_income = [17312.717, 31791.384, 42413.096]"
      ]
    },
    {
      "cell_type": "code",
      "execution_count": 37,
      "metadata": {
        "colab": {
          "base_uri": "https://localhost:8080/",
          "height": 0
        },
        "id": "i_NGmuuXQtwW",
        "outputId": "6e9ae46a-c1e2-4e9b-c87b-731bea0d7685"
      },
      "outputs": [
        {
          "output_type": "display_data",
          "data": {
            "text/plain": [
              "       children  days_employed  dob_years            education  education_id  \\\n",
              "6335          0  353726.082244         57  secondary education             1   \n",
              "20529         1    4616.419865         35    BACHELOR'S DEGREE             0   \n",
              "\n",
              "           family_status  family_status_id gender income_type  debt  \\\n",
              "6335     widow / widower                 2      F     retiree     0   \n",
              "20529  civil partnership                 1      M    business     0   \n",
              "\n",
              "       total_income             purpose  education_lowercase  \n",
              "6335      17312.717  to become educated  secondary education  \n",
              "20529     17312.717    wedding ceremony    bachelor's degree  "
            ],
            "text/html": [
              "\n",
              "  <div id=\"df-c073cf7e-451a-4ff4-b1d7-8f168cf94051\">\n",
              "    <div class=\"colab-df-container\">\n",
              "      <div>\n",
              "<style scoped>\n",
              "    .dataframe tbody tr th:only-of-type {\n",
              "        vertical-align: middle;\n",
              "    }\n",
              "\n",
              "    .dataframe tbody tr th {\n",
              "        vertical-align: top;\n",
              "    }\n",
              "\n",
              "    .dataframe thead th {\n",
              "        text-align: right;\n",
              "    }\n",
              "</style>\n",
              "<table border=\"1\" class=\"dataframe\">\n",
              "  <thead>\n",
              "    <tr style=\"text-align: right;\">\n",
              "      <th></th>\n",
              "      <th>children</th>\n",
              "      <th>days_employed</th>\n",
              "      <th>dob_years</th>\n",
              "      <th>education</th>\n",
              "      <th>education_id</th>\n",
              "      <th>family_status</th>\n",
              "      <th>family_status_id</th>\n",
              "      <th>gender</th>\n",
              "      <th>income_type</th>\n",
              "      <th>debt</th>\n",
              "      <th>total_income</th>\n",
              "      <th>purpose</th>\n",
              "      <th>education_lowercase</th>\n",
              "    </tr>\n",
              "  </thead>\n",
              "  <tbody>\n",
              "    <tr>\n",
              "      <th>6335</th>\n",
              "      <td>0</td>\n",
              "      <td>353726.082244</td>\n",
              "      <td>57</td>\n",
              "      <td>secondary education</td>\n",
              "      <td>1</td>\n",
              "      <td>widow / widower</td>\n",
              "      <td>2</td>\n",
              "      <td>F</td>\n",
              "      <td>retiree</td>\n",
              "      <td>0</td>\n",
              "      <td>17312.717</td>\n",
              "      <td>to become educated</td>\n",
              "      <td>secondary education</td>\n",
              "    </tr>\n",
              "    <tr>\n",
              "      <th>20529</th>\n",
              "      <td>1</td>\n",
              "      <td>4616.419865</td>\n",
              "      <td>35</td>\n",
              "      <td>BACHELOR'S DEGREE</td>\n",
              "      <td>0</td>\n",
              "      <td>civil partnership</td>\n",
              "      <td>1</td>\n",
              "      <td>M</td>\n",
              "      <td>business</td>\n",
              "      <td>0</td>\n",
              "      <td>17312.717</td>\n",
              "      <td>wedding ceremony</td>\n",
              "      <td>bachelor's degree</td>\n",
              "    </tr>\n",
              "  </tbody>\n",
              "</table>\n",
              "</div>\n",
              "      <button class=\"colab-df-convert\" onclick=\"convertToInteractive('df-c073cf7e-451a-4ff4-b1d7-8f168cf94051')\"\n",
              "              title=\"Convert this dataframe to an interactive table.\"\n",
              "              style=\"display:none;\">\n",
              "        \n",
              "  <svg xmlns=\"http://www.w3.org/2000/svg\" height=\"24px\"viewBox=\"0 0 24 24\"\n",
              "       width=\"24px\">\n",
              "    <path d=\"M0 0h24v24H0V0z\" fill=\"none\"/>\n",
              "    <path d=\"M18.56 5.44l.94 2.06.94-2.06 2.06-.94-2.06-.94-.94-2.06-.94 2.06-2.06.94zm-11 1L8.5 8.5l.94-2.06 2.06-.94-2.06-.94L8.5 2.5l-.94 2.06-2.06.94zm10 10l.94 2.06.94-2.06 2.06-.94-2.06-.94-.94-2.06-.94 2.06-2.06.94z\"/><path d=\"M17.41 7.96l-1.37-1.37c-.4-.4-.92-.59-1.43-.59-.52 0-1.04.2-1.43.59L10.3 9.45l-7.72 7.72c-.78.78-.78 2.05 0 2.83L4 21.41c.39.39.9.59 1.41.59.51 0 1.02-.2 1.41-.59l7.78-7.78 2.81-2.81c.8-.78.8-2.07 0-2.86zM5.41 20L4 18.59l7.72-7.72 1.47 1.35L5.41 20z\"/>\n",
              "  </svg>\n",
              "      </button>\n",
              "      \n",
              "  <style>\n",
              "    .colab-df-container {\n",
              "      display:flex;\n",
              "      flex-wrap:wrap;\n",
              "      gap: 12px;\n",
              "    }\n",
              "\n",
              "    .colab-df-convert {\n",
              "      background-color: #E8F0FE;\n",
              "      border: none;\n",
              "      border-radius: 50%;\n",
              "      cursor: pointer;\n",
              "      display: none;\n",
              "      fill: #1967D2;\n",
              "      height: 32px;\n",
              "      padding: 0 0 0 0;\n",
              "      width: 32px;\n",
              "    }\n",
              "\n",
              "    .colab-df-convert:hover {\n",
              "      background-color: #E2EBFA;\n",
              "      box-shadow: 0px 1px 2px rgba(60, 64, 67, 0.3), 0px 1px 3px 1px rgba(60, 64, 67, 0.15);\n",
              "      fill: #174EA6;\n",
              "    }\n",
              "\n",
              "    [theme=dark] .colab-df-convert {\n",
              "      background-color: #3B4455;\n",
              "      fill: #D2E3FC;\n",
              "    }\n",
              "\n",
              "    [theme=dark] .colab-df-convert:hover {\n",
              "      background-color: #434B5C;\n",
              "      box-shadow: 0px 1px 3px 1px rgba(0, 0, 0, 0.15);\n",
              "      filter: drop-shadow(0px 1px 2px rgba(0, 0, 0, 0.3));\n",
              "      fill: #FFFFFF;\n",
              "    }\n",
              "  </style>\n",
              "\n",
              "      <script>\n",
              "        const buttonEl =\n",
              "          document.querySelector('#df-c073cf7e-451a-4ff4-b1d7-8f168cf94051 button.colab-df-convert');\n",
              "        buttonEl.style.display =\n",
              "          google.colab.kernel.accessAllowed ? 'block' : 'none';\n",
              "\n",
              "        async function convertToInteractive(key) {\n",
              "          const element = document.querySelector('#df-c073cf7e-451a-4ff4-b1d7-8f168cf94051');\n",
              "          const dataTable =\n",
              "            await google.colab.kernel.invokeFunction('convertToInteractive',\n",
              "                                                     [key], {});\n",
              "          if (!dataTable) return;\n",
              "\n",
              "          const docLinkHtml = 'Like what you see? Visit the ' +\n",
              "            '<a target=\"_blank\" href=https://colab.research.google.com/notebooks/data_table.ipynb>data table notebook</a>'\n",
              "            + ' to learn more about interactive tables.';\n",
              "          element.innerHTML = '';\n",
              "          dataTable['output_type'] = 'display_data';\n",
              "          await google.colab.output.renderOutput(dataTable, element);\n",
              "          const docLink = document.createElement('div');\n",
              "          docLink.innerHTML = docLinkHtml;\n",
              "          element.appendChild(docLink);\n",
              "        }\n",
              "      </script>\n",
              "    </div>\n",
              "  </div>\n",
              "  "
            ]
          },
          "metadata": {}
        },
        {
          "output_type": "stream",
          "name": "stdout",
          "text": [
            "\n"
          ]
        },
        {
          "output_type": "display_data",
          "data": {
            "text/plain": [
              "       children  days_employed  dob_years            education  education_id  \\\n",
              "10326         1    1723.229736         44  secondary education             1   \n",
              "20154         0    1028.200723         51  secondary education             1   \n",
              "\n",
              "           family_status  family_status_id gender income_type  debt  \\\n",
              "10326  civil partnership                 1      M    employee     0   \n",
              "20154            married                 0      F    employee     0   \n",
              "\n",
              "       total_income            purpose  education_lowercase  \n",
              "10326     31791.384  to have a wedding  secondary education  \n",
              "20154     31791.384           property  secondary education  "
            ],
            "text/html": [
              "\n",
              "  <div id=\"df-5e145770-737c-461f-bd68-6eaf8c3548d7\">\n",
              "    <div class=\"colab-df-container\">\n",
              "      <div>\n",
              "<style scoped>\n",
              "    .dataframe tbody tr th:only-of-type {\n",
              "        vertical-align: middle;\n",
              "    }\n",
              "\n",
              "    .dataframe tbody tr th {\n",
              "        vertical-align: top;\n",
              "    }\n",
              "\n",
              "    .dataframe thead th {\n",
              "        text-align: right;\n",
              "    }\n",
              "</style>\n",
              "<table border=\"1\" class=\"dataframe\">\n",
              "  <thead>\n",
              "    <tr style=\"text-align: right;\">\n",
              "      <th></th>\n",
              "      <th>children</th>\n",
              "      <th>days_employed</th>\n",
              "      <th>dob_years</th>\n",
              "      <th>education</th>\n",
              "      <th>education_id</th>\n",
              "      <th>family_status</th>\n",
              "      <th>family_status_id</th>\n",
              "      <th>gender</th>\n",
              "      <th>income_type</th>\n",
              "      <th>debt</th>\n",
              "      <th>total_income</th>\n",
              "      <th>purpose</th>\n",
              "      <th>education_lowercase</th>\n",
              "    </tr>\n",
              "  </thead>\n",
              "  <tbody>\n",
              "    <tr>\n",
              "      <th>10326</th>\n",
              "      <td>1</td>\n",
              "      <td>1723.229736</td>\n",
              "      <td>44</td>\n",
              "      <td>secondary education</td>\n",
              "      <td>1</td>\n",
              "      <td>civil partnership</td>\n",
              "      <td>1</td>\n",
              "      <td>M</td>\n",
              "      <td>employee</td>\n",
              "      <td>0</td>\n",
              "      <td>31791.384</td>\n",
              "      <td>to have a wedding</td>\n",
              "      <td>secondary education</td>\n",
              "    </tr>\n",
              "    <tr>\n",
              "      <th>20154</th>\n",
              "      <td>0</td>\n",
              "      <td>1028.200723</td>\n",
              "      <td>51</td>\n",
              "      <td>secondary education</td>\n",
              "      <td>1</td>\n",
              "      <td>married</td>\n",
              "      <td>0</td>\n",
              "      <td>F</td>\n",
              "      <td>employee</td>\n",
              "      <td>0</td>\n",
              "      <td>31791.384</td>\n",
              "      <td>property</td>\n",
              "      <td>secondary education</td>\n",
              "    </tr>\n",
              "  </tbody>\n",
              "</table>\n",
              "</div>\n",
              "      <button class=\"colab-df-convert\" onclick=\"convertToInteractive('df-5e145770-737c-461f-bd68-6eaf8c3548d7')\"\n",
              "              title=\"Convert this dataframe to an interactive table.\"\n",
              "              style=\"display:none;\">\n",
              "        \n",
              "  <svg xmlns=\"http://www.w3.org/2000/svg\" height=\"24px\"viewBox=\"0 0 24 24\"\n",
              "       width=\"24px\">\n",
              "    <path d=\"M0 0h24v24H0V0z\" fill=\"none\"/>\n",
              "    <path d=\"M18.56 5.44l.94 2.06.94-2.06 2.06-.94-2.06-.94-.94-2.06-.94 2.06-2.06.94zm-11 1L8.5 8.5l.94-2.06 2.06-.94-2.06-.94L8.5 2.5l-.94 2.06-2.06.94zm10 10l.94 2.06.94-2.06 2.06-.94-2.06-.94-.94-2.06-.94 2.06-2.06.94z\"/><path d=\"M17.41 7.96l-1.37-1.37c-.4-.4-.92-.59-1.43-.59-.52 0-1.04.2-1.43.59L10.3 9.45l-7.72 7.72c-.78.78-.78 2.05 0 2.83L4 21.41c.39.39.9.59 1.41.59.51 0 1.02-.2 1.41-.59l7.78-7.78 2.81-2.81c.8-.78.8-2.07 0-2.86zM5.41 20L4 18.59l7.72-7.72 1.47 1.35L5.41 20z\"/>\n",
              "  </svg>\n",
              "      </button>\n",
              "      \n",
              "  <style>\n",
              "    .colab-df-container {\n",
              "      display:flex;\n",
              "      flex-wrap:wrap;\n",
              "      gap: 12px;\n",
              "    }\n",
              "\n",
              "    .colab-df-convert {\n",
              "      background-color: #E8F0FE;\n",
              "      border: none;\n",
              "      border-radius: 50%;\n",
              "      cursor: pointer;\n",
              "      display: none;\n",
              "      fill: #1967D2;\n",
              "      height: 32px;\n",
              "      padding: 0 0 0 0;\n",
              "      width: 32px;\n",
              "    }\n",
              "\n",
              "    .colab-df-convert:hover {\n",
              "      background-color: #E2EBFA;\n",
              "      box-shadow: 0px 1px 2px rgba(60, 64, 67, 0.3), 0px 1px 3px 1px rgba(60, 64, 67, 0.15);\n",
              "      fill: #174EA6;\n",
              "    }\n",
              "\n",
              "    [theme=dark] .colab-df-convert {\n",
              "      background-color: #3B4455;\n",
              "      fill: #D2E3FC;\n",
              "    }\n",
              "\n",
              "    [theme=dark] .colab-df-convert:hover {\n",
              "      background-color: #434B5C;\n",
              "      box-shadow: 0px 1px 3px 1px rgba(0, 0, 0, 0.15);\n",
              "      filter: drop-shadow(0px 1px 2px rgba(0, 0, 0, 0.3));\n",
              "      fill: #FFFFFF;\n",
              "    }\n",
              "  </style>\n",
              "\n",
              "      <script>\n",
              "        const buttonEl =\n",
              "          document.querySelector('#df-5e145770-737c-461f-bd68-6eaf8c3548d7 button.colab-df-convert');\n",
              "        buttonEl.style.display =\n",
              "          google.colab.kernel.accessAllowed ? 'block' : 'none';\n",
              "\n",
              "        async function convertToInteractive(key) {\n",
              "          const element = document.querySelector('#df-5e145770-737c-461f-bd68-6eaf8c3548d7');\n",
              "          const dataTable =\n",
              "            await google.colab.kernel.invokeFunction('convertToInteractive',\n",
              "                                                     [key], {});\n",
              "          if (!dataTable) return;\n",
              "\n",
              "          const docLinkHtml = 'Like what you see? Visit the ' +\n",
              "            '<a target=\"_blank\" href=https://colab.research.google.com/notebooks/data_table.ipynb>data table notebook</a>'\n",
              "            + ' to learn more about interactive tables.';\n",
              "          element.innerHTML = '';\n",
              "          dataTable['output_type'] = 'display_data';\n",
              "          await google.colab.output.renderOutput(dataTable, element);\n",
              "          const docLink = document.createElement('div');\n",
              "          docLink.innerHTML = docLinkHtml;\n",
              "          element.appendChild(docLink);\n",
              "        }\n",
              "      </script>\n",
              "    </div>\n",
              "  </div>\n",
              "  "
            ]
          },
          "metadata": {}
        },
        {
          "output_type": "stream",
          "name": "stdout",
          "text": [
            "\n"
          ]
        },
        {
          "output_type": "display_data",
          "data": {
            "text/plain": [
              "      children  days_employed  dob_years            education  education_id  \\\n",
              "6614         0     417.482928         48    bachelor's degree             0   \n",
              "8377         0  371001.334974         56  secondary education             1   \n",
              "\n",
              "     family_status  family_status_id gender income_type  debt  total_income  \\\n",
              "6614       married                 0      F    business     0     42413.096   \n",
              "8377     unmarried                 4      M     retiree     0     42413.096   \n",
              "\n",
              "                       purpose  education_lowercase  \n",
              "6614  getting higher education    bachelor's degree  \n",
              "8377  real estate transactions  secondary education  "
            ],
            "text/html": [
              "\n",
              "  <div id=\"df-58699f67-c269-4aac-b0fe-85bd3616a45e\">\n",
              "    <div class=\"colab-df-container\">\n",
              "      <div>\n",
              "<style scoped>\n",
              "    .dataframe tbody tr th:only-of-type {\n",
              "        vertical-align: middle;\n",
              "    }\n",
              "\n",
              "    .dataframe tbody tr th {\n",
              "        vertical-align: top;\n",
              "    }\n",
              "\n",
              "    .dataframe thead th {\n",
              "        text-align: right;\n",
              "    }\n",
              "</style>\n",
              "<table border=\"1\" class=\"dataframe\">\n",
              "  <thead>\n",
              "    <tr style=\"text-align: right;\">\n",
              "      <th></th>\n",
              "      <th>children</th>\n",
              "      <th>days_employed</th>\n",
              "      <th>dob_years</th>\n",
              "      <th>education</th>\n",
              "      <th>education_id</th>\n",
              "      <th>family_status</th>\n",
              "      <th>family_status_id</th>\n",
              "      <th>gender</th>\n",
              "      <th>income_type</th>\n",
              "      <th>debt</th>\n",
              "      <th>total_income</th>\n",
              "      <th>purpose</th>\n",
              "      <th>education_lowercase</th>\n",
              "    </tr>\n",
              "  </thead>\n",
              "  <tbody>\n",
              "    <tr>\n",
              "      <th>6614</th>\n",
              "      <td>0</td>\n",
              "      <td>417.482928</td>\n",
              "      <td>48</td>\n",
              "      <td>bachelor's degree</td>\n",
              "      <td>0</td>\n",
              "      <td>married</td>\n",
              "      <td>0</td>\n",
              "      <td>F</td>\n",
              "      <td>business</td>\n",
              "      <td>0</td>\n",
              "      <td>42413.096</td>\n",
              "      <td>getting higher education</td>\n",
              "      <td>bachelor's degree</td>\n",
              "    </tr>\n",
              "    <tr>\n",
              "      <th>8377</th>\n",
              "      <td>0</td>\n",
              "      <td>371001.334974</td>\n",
              "      <td>56</td>\n",
              "      <td>secondary education</td>\n",
              "      <td>1</td>\n",
              "      <td>unmarried</td>\n",
              "      <td>4</td>\n",
              "      <td>M</td>\n",
              "      <td>retiree</td>\n",
              "      <td>0</td>\n",
              "      <td>42413.096</td>\n",
              "      <td>real estate transactions</td>\n",
              "      <td>secondary education</td>\n",
              "    </tr>\n",
              "  </tbody>\n",
              "</table>\n",
              "</div>\n",
              "      <button class=\"colab-df-convert\" onclick=\"convertToInteractive('df-58699f67-c269-4aac-b0fe-85bd3616a45e')\"\n",
              "              title=\"Convert this dataframe to an interactive table.\"\n",
              "              style=\"display:none;\">\n",
              "        \n",
              "  <svg xmlns=\"http://www.w3.org/2000/svg\" height=\"24px\"viewBox=\"0 0 24 24\"\n",
              "       width=\"24px\">\n",
              "    <path d=\"M0 0h24v24H0V0z\" fill=\"none\"/>\n",
              "    <path d=\"M18.56 5.44l.94 2.06.94-2.06 2.06-.94-2.06-.94-.94-2.06-.94 2.06-2.06.94zm-11 1L8.5 8.5l.94-2.06 2.06-.94-2.06-.94L8.5 2.5l-.94 2.06-2.06.94zm10 10l.94 2.06.94-2.06 2.06-.94-2.06-.94-.94-2.06-.94 2.06-2.06.94z\"/><path d=\"M17.41 7.96l-1.37-1.37c-.4-.4-.92-.59-1.43-.59-.52 0-1.04.2-1.43.59L10.3 9.45l-7.72 7.72c-.78.78-.78 2.05 0 2.83L4 21.41c.39.39.9.59 1.41.59.51 0 1.02-.2 1.41-.59l7.78-7.78 2.81-2.81c.8-.78.8-2.07 0-2.86zM5.41 20L4 18.59l7.72-7.72 1.47 1.35L5.41 20z\"/>\n",
              "  </svg>\n",
              "      </button>\n",
              "      \n",
              "  <style>\n",
              "    .colab-df-container {\n",
              "      display:flex;\n",
              "      flex-wrap:wrap;\n",
              "      gap: 12px;\n",
              "    }\n",
              "\n",
              "    .colab-df-convert {\n",
              "      background-color: #E8F0FE;\n",
              "      border: none;\n",
              "      border-radius: 50%;\n",
              "      cursor: pointer;\n",
              "      display: none;\n",
              "      fill: #1967D2;\n",
              "      height: 32px;\n",
              "      padding: 0 0 0 0;\n",
              "      width: 32px;\n",
              "    }\n",
              "\n",
              "    .colab-df-convert:hover {\n",
              "      background-color: #E2EBFA;\n",
              "      box-shadow: 0px 1px 2px rgba(60, 64, 67, 0.3), 0px 1px 3px 1px rgba(60, 64, 67, 0.15);\n",
              "      fill: #174EA6;\n",
              "    }\n",
              "\n",
              "    [theme=dark] .colab-df-convert {\n",
              "      background-color: #3B4455;\n",
              "      fill: #D2E3FC;\n",
              "    }\n",
              "\n",
              "    [theme=dark] .colab-df-convert:hover {\n",
              "      background-color: #434B5C;\n",
              "      box-shadow: 0px 1px 3px 1px rgba(0, 0, 0, 0.15);\n",
              "      filter: drop-shadow(0px 1px 2px rgba(0, 0, 0, 0.3));\n",
              "      fill: #FFFFFF;\n",
              "    }\n",
              "  </style>\n",
              "\n",
              "      <script>\n",
              "        const buttonEl =\n",
              "          document.querySelector('#df-58699f67-c269-4aac-b0fe-85bd3616a45e button.colab-df-convert');\n",
              "        buttonEl.style.display =\n",
              "          google.colab.kernel.accessAllowed ? 'block' : 'none';\n",
              "\n",
              "        async function convertToInteractive(key) {\n",
              "          const element = document.querySelector('#df-58699f67-c269-4aac-b0fe-85bd3616a45e');\n",
              "          const dataTable =\n",
              "            await google.colab.kernel.invokeFunction('convertToInteractive',\n",
              "                                                     [key], {});\n",
              "          if (!dataTable) return;\n",
              "\n",
              "          const docLinkHtml = 'Like what you see? Visit the ' +\n",
              "            '<a target=\"_blank\" href=https://colab.research.google.com/notebooks/data_table.ipynb>data table notebook</a>'\n",
              "            + ' to learn more about interactive tables.';\n",
              "          element.innerHTML = '';\n",
              "          dataTable['output_type'] = 'display_data';\n",
              "          await google.colab.output.renderOutput(dataTable, element);\n",
              "          const docLink = document.createElement('div');\n",
              "          docLink.innerHTML = docLinkHtml;\n",
              "          element.appendChild(docLink);\n",
              "        }\n",
              "      </script>\n",
              "    </div>\n",
              "  </div>\n",
              "  "
            ]
          },
          "metadata": {}
        },
        {
          "output_type": "stream",
          "name": "stdout",
          "text": [
            "\n"
          ]
        }
      ],
      "source": [
        "for income in duplicated_income:\n",
        "    display(borrower_data[borrower_data['total_income'] == income])\n",
        "    print()"
      ]
    },
    {
      "cell_type": "markdown",
      "metadata": {
        "id": "d86wSJI_QtwW"
      },
      "source": [
        "Having looked at a sample of duplicated values we can assume that duplicates occured a large ammount of defferent parameters, and concidering that their share in the whole dataset is less then 1% we can safely drop them"
      ]
    },
    {
      "cell_type": "code",
      "execution_count": 38,
      "metadata": {
        "id": "ZwgQGtUeQtwW"
      },
      "outputs": [],
      "source": [
        "borrower_data = borrower_data.drop_duplicates()"
      ]
    },
    {
      "cell_type": "code",
      "execution_count": 39,
      "metadata": {
        "colab": {
          "base_uri": "https://localhost:8080/",
          "height": 0
        },
        "id": "RPAFi3COQtwW",
        "outputId": "e9faf240-022a-4670-fc75-a9ac8b53ca46"
      },
      "outputs": [
        {
          "output_type": "stream",
          "name": "stdout",
          "text": [
            "There are 21469 rows and 13 columns left in our dataset after eliminating the duplicates\n"
          ]
        },
        {
          "output_type": "execute_result",
          "data": {
            "text/plain": [
              "   children  days_employed  dob_years            education  education_id  \\\n",
              "0         1    8437.673028         42    bachelor's degree             0   \n",
              "1         1    4024.803754         36  secondary education             1   \n",
              "2         0    5623.422610         33  Secondary Education             1   \n",
              "3         3    4124.747207         32  secondary education             1   \n",
              "4         0  340266.072047         53  secondary education             1   \n",
              "5         0     926.185831         27    bachelor's degree             0   \n",
              "6         0    2879.202052         43    bachelor's degree             0   \n",
              "7         0     152.779569         50  SECONDARY EDUCATION             1   \n",
              "8         2    6929.865299         35    BACHELOR'S DEGREE             0   \n",
              "9         0    2188.756445         41  secondary education             1   \n",
              "\n",
              "       family_status  family_status_id gender income_type  debt  total_income  \\\n",
              "0            married                 0      F    employee     0     40620.102   \n",
              "1            married                 0      F    employee     0     17932.802   \n",
              "2            married                 0      M    employee     0     23341.752   \n",
              "3            married                 0      M    employee     0     42820.568   \n",
              "4  civil partnership                 1      F     retiree     0     25378.572   \n",
              "5  civil partnership                 1      M    business     0     40922.170   \n",
              "6            married                 0      F    business     0     38484.156   \n",
              "7            married                 0      M    employee     0     21731.829   \n",
              "8  civil partnership                 1      F    employee     0     15337.093   \n",
              "9            married                 0      M    employee     0     23108.150   \n",
              "\n",
              "                               purpose  education_lowercase  \n",
              "0                purchase of the house    bachelor's degree  \n",
              "1                         car purchase  secondary education  \n",
              "2                purchase of the house  secondary education  \n",
              "3              supplementary education  secondary education  \n",
              "4                    to have a wedding  secondary education  \n",
              "5                purchase of the house    bachelor's degree  \n",
              "6                 housing transactions    bachelor's degree  \n",
              "7                            education  secondary education  \n",
              "8                     having a wedding    bachelor's degree  \n",
              "9  purchase of the house for my family  secondary education  "
            ],
            "text/html": [
              "\n",
              "  <div id=\"df-17b3942d-8a66-400e-98ae-836338a550eb\">\n",
              "    <div class=\"colab-df-container\">\n",
              "      <div>\n",
              "<style scoped>\n",
              "    .dataframe tbody tr th:only-of-type {\n",
              "        vertical-align: middle;\n",
              "    }\n",
              "\n",
              "    .dataframe tbody tr th {\n",
              "        vertical-align: top;\n",
              "    }\n",
              "\n",
              "    .dataframe thead th {\n",
              "        text-align: right;\n",
              "    }\n",
              "</style>\n",
              "<table border=\"1\" class=\"dataframe\">\n",
              "  <thead>\n",
              "    <tr style=\"text-align: right;\">\n",
              "      <th></th>\n",
              "      <th>children</th>\n",
              "      <th>days_employed</th>\n",
              "      <th>dob_years</th>\n",
              "      <th>education</th>\n",
              "      <th>education_id</th>\n",
              "      <th>family_status</th>\n",
              "      <th>family_status_id</th>\n",
              "      <th>gender</th>\n",
              "      <th>income_type</th>\n",
              "      <th>debt</th>\n",
              "      <th>total_income</th>\n",
              "      <th>purpose</th>\n",
              "      <th>education_lowercase</th>\n",
              "    </tr>\n",
              "  </thead>\n",
              "  <tbody>\n",
              "    <tr>\n",
              "      <th>0</th>\n",
              "      <td>1</td>\n",
              "      <td>8437.673028</td>\n",
              "      <td>42</td>\n",
              "      <td>bachelor's degree</td>\n",
              "      <td>0</td>\n",
              "      <td>married</td>\n",
              "      <td>0</td>\n",
              "      <td>F</td>\n",
              "      <td>employee</td>\n",
              "      <td>0</td>\n",
              "      <td>40620.102</td>\n",
              "      <td>purchase of the house</td>\n",
              "      <td>bachelor's degree</td>\n",
              "    </tr>\n",
              "    <tr>\n",
              "      <th>1</th>\n",
              "      <td>1</td>\n",
              "      <td>4024.803754</td>\n",
              "      <td>36</td>\n",
              "      <td>secondary education</td>\n",
              "      <td>1</td>\n",
              "      <td>married</td>\n",
              "      <td>0</td>\n",
              "      <td>F</td>\n",
              "      <td>employee</td>\n",
              "      <td>0</td>\n",
              "      <td>17932.802</td>\n",
              "      <td>car purchase</td>\n",
              "      <td>secondary education</td>\n",
              "    </tr>\n",
              "    <tr>\n",
              "      <th>2</th>\n",
              "      <td>0</td>\n",
              "      <td>5623.422610</td>\n",
              "      <td>33</td>\n",
              "      <td>Secondary Education</td>\n",
              "      <td>1</td>\n",
              "      <td>married</td>\n",
              "      <td>0</td>\n",
              "      <td>M</td>\n",
              "      <td>employee</td>\n",
              "      <td>0</td>\n",
              "      <td>23341.752</td>\n",
              "      <td>purchase of the house</td>\n",
              "      <td>secondary education</td>\n",
              "    </tr>\n",
              "    <tr>\n",
              "      <th>3</th>\n",
              "      <td>3</td>\n",
              "      <td>4124.747207</td>\n",
              "      <td>32</td>\n",
              "      <td>secondary education</td>\n",
              "      <td>1</td>\n",
              "      <td>married</td>\n",
              "      <td>0</td>\n",
              "      <td>M</td>\n",
              "      <td>employee</td>\n",
              "      <td>0</td>\n",
              "      <td>42820.568</td>\n",
              "      <td>supplementary education</td>\n",
              "      <td>secondary education</td>\n",
              "    </tr>\n",
              "    <tr>\n",
              "      <th>4</th>\n",
              "      <td>0</td>\n",
              "      <td>340266.072047</td>\n",
              "      <td>53</td>\n",
              "      <td>secondary education</td>\n",
              "      <td>1</td>\n",
              "      <td>civil partnership</td>\n",
              "      <td>1</td>\n",
              "      <td>F</td>\n",
              "      <td>retiree</td>\n",
              "      <td>0</td>\n",
              "      <td>25378.572</td>\n",
              "      <td>to have a wedding</td>\n",
              "      <td>secondary education</td>\n",
              "    </tr>\n",
              "    <tr>\n",
              "      <th>5</th>\n",
              "      <td>0</td>\n",
              "      <td>926.185831</td>\n",
              "      <td>27</td>\n",
              "      <td>bachelor's degree</td>\n",
              "      <td>0</td>\n",
              "      <td>civil partnership</td>\n",
              "      <td>1</td>\n",
              "      <td>M</td>\n",
              "      <td>business</td>\n",
              "      <td>0</td>\n",
              "      <td>40922.170</td>\n",
              "      <td>purchase of the house</td>\n",
              "      <td>bachelor's degree</td>\n",
              "    </tr>\n",
              "    <tr>\n",
              "      <th>6</th>\n",
              "      <td>0</td>\n",
              "      <td>2879.202052</td>\n",
              "      <td>43</td>\n",
              "      <td>bachelor's degree</td>\n",
              "      <td>0</td>\n",
              "      <td>married</td>\n",
              "      <td>0</td>\n",
              "      <td>F</td>\n",
              "      <td>business</td>\n",
              "      <td>0</td>\n",
              "      <td>38484.156</td>\n",
              "      <td>housing transactions</td>\n",
              "      <td>bachelor's degree</td>\n",
              "    </tr>\n",
              "    <tr>\n",
              "      <th>7</th>\n",
              "      <td>0</td>\n",
              "      <td>152.779569</td>\n",
              "      <td>50</td>\n",
              "      <td>SECONDARY EDUCATION</td>\n",
              "      <td>1</td>\n",
              "      <td>married</td>\n",
              "      <td>0</td>\n",
              "      <td>M</td>\n",
              "      <td>employee</td>\n",
              "      <td>0</td>\n",
              "      <td>21731.829</td>\n",
              "      <td>education</td>\n",
              "      <td>secondary education</td>\n",
              "    </tr>\n",
              "    <tr>\n",
              "      <th>8</th>\n",
              "      <td>2</td>\n",
              "      <td>6929.865299</td>\n",
              "      <td>35</td>\n",
              "      <td>BACHELOR'S DEGREE</td>\n",
              "      <td>0</td>\n",
              "      <td>civil partnership</td>\n",
              "      <td>1</td>\n",
              "      <td>F</td>\n",
              "      <td>employee</td>\n",
              "      <td>0</td>\n",
              "      <td>15337.093</td>\n",
              "      <td>having a wedding</td>\n",
              "      <td>bachelor's degree</td>\n",
              "    </tr>\n",
              "    <tr>\n",
              "      <th>9</th>\n",
              "      <td>0</td>\n",
              "      <td>2188.756445</td>\n",
              "      <td>41</td>\n",
              "      <td>secondary education</td>\n",
              "      <td>1</td>\n",
              "      <td>married</td>\n",
              "      <td>0</td>\n",
              "      <td>M</td>\n",
              "      <td>employee</td>\n",
              "      <td>0</td>\n",
              "      <td>23108.150</td>\n",
              "      <td>purchase of the house for my family</td>\n",
              "      <td>secondary education</td>\n",
              "    </tr>\n",
              "  </tbody>\n",
              "</table>\n",
              "</div>\n",
              "      <button class=\"colab-df-convert\" onclick=\"convertToInteractive('df-17b3942d-8a66-400e-98ae-836338a550eb')\"\n",
              "              title=\"Convert this dataframe to an interactive table.\"\n",
              "              style=\"display:none;\">\n",
              "        \n",
              "  <svg xmlns=\"http://www.w3.org/2000/svg\" height=\"24px\"viewBox=\"0 0 24 24\"\n",
              "       width=\"24px\">\n",
              "    <path d=\"M0 0h24v24H0V0z\" fill=\"none\"/>\n",
              "    <path d=\"M18.56 5.44l.94 2.06.94-2.06 2.06-.94-2.06-.94-.94-2.06-.94 2.06-2.06.94zm-11 1L8.5 8.5l.94-2.06 2.06-.94-2.06-.94L8.5 2.5l-.94 2.06-2.06.94zm10 10l.94 2.06.94-2.06 2.06-.94-2.06-.94-.94-2.06-.94 2.06-2.06.94z\"/><path d=\"M17.41 7.96l-1.37-1.37c-.4-.4-.92-.59-1.43-.59-.52 0-1.04.2-1.43.59L10.3 9.45l-7.72 7.72c-.78.78-.78 2.05 0 2.83L4 21.41c.39.39.9.59 1.41.59.51 0 1.02-.2 1.41-.59l7.78-7.78 2.81-2.81c.8-.78.8-2.07 0-2.86zM5.41 20L4 18.59l7.72-7.72 1.47 1.35L5.41 20z\"/>\n",
              "  </svg>\n",
              "      </button>\n",
              "      \n",
              "  <style>\n",
              "    .colab-df-container {\n",
              "      display:flex;\n",
              "      flex-wrap:wrap;\n",
              "      gap: 12px;\n",
              "    }\n",
              "\n",
              "    .colab-df-convert {\n",
              "      background-color: #E8F0FE;\n",
              "      border: none;\n",
              "      border-radius: 50%;\n",
              "      cursor: pointer;\n",
              "      display: none;\n",
              "      fill: #1967D2;\n",
              "      height: 32px;\n",
              "      padding: 0 0 0 0;\n",
              "      width: 32px;\n",
              "    }\n",
              "\n",
              "    .colab-df-convert:hover {\n",
              "      background-color: #E2EBFA;\n",
              "      box-shadow: 0px 1px 2px rgba(60, 64, 67, 0.3), 0px 1px 3px 1px rgba(60, 64, 67, 0.15);\n",
              "      fill: #174EA6;\n",
              "    }\n",
              "\n",
              "    [theme=dark] .colab-df-convert {\n",
              "      background-color: #3B4455;\n",
              "      fill: #D2E3FC;\n",
              "    }\n",
              "\n",
              "    [theme=dark] .colab-df-convert:hover {\n",
              "      background-color: #434B5C;\n",
              "      box-shadow: 0px 1px 3px 1px rgba(0, 0, 0, 0.15);\n",
              "      filter: drop-shadow(0px 1px 2px rgba(0, 0, 0, 0.3));\n",
              "      fill: #FFFFFF;\n",
              "    }\n",
              "  </style>\n",
              "\n",
              "      <script>\n",
              "        const buttonEl =\n",
              "          document.querySelector('#df-17b3942d-8a66-400e-98ae-836338a550eb button.colab-df-convert');\n",
              "        buttonEl.style.display =\n",
              "          google.colab.kernel.accessAllowed ? 'block' : 'none';\n",
              "\n",
              "        async function convertToInteractive(key) {\n",
              "          const element = document.querySelector('#df-17b3942d-8a66-400e-98ae-836338a550eb');\n",
              "          const dataTable =\n",
              "            await google.colab.kernel.invokeFunction('convertToInteractive',\n",
              "                                                     [key], {});\n",
              "          if (!dataTable) return;\n",
              "\n",
              "          const docLinkHtml = 'Like what you see? Visit the ' +\n",
              "            '<a target=\"_blank\" href=https://colab.research.google.com/notebooks/data_table.ipynb>data table notebook</a>'\n",
              "            + ' to learn more about interactive tables.';\n",
              "          element.innerHTML = '';\n",
              "          dataTable['output_type'] = 'display_data';\n",
              "          await google.colab.output.renderOutput(dataTable, element);\n",
              "          const docLink = document.createElement('div');\n",
              "          docLink.innerHTML = docLinkHtml;\n",
              "          element.appendChild(docLink);\n",
              "        }\n",
              "      </script>\n",
              "    </div>\n",
              "  </div>\n",
              "  "
            ]
          },
          "metadata": {},
          "execution_count": 39
        }
      ],
      "source": [
        "# Check the size of the dataset that you now have after your first manipulations with it\n",
        "print('There are', borrower_data.shape[0], 'rows and', borrower_data.shape[1], 'columns left in our dataset after eliminating the duplicates')\n",
        "borrower_data.head(10)"
      ]
    },
    {
      "cell_type": "markdown",
      "metadata": {
        "id": "1HVkstRTQtwX"
      },
      "source": [
        "Now that we got rid of little problems, such as negative numbers and non-logical values in data and treated duplicates we will move on to dealing with missing values"
      ]
    },
    {
      "cell_type": "markdown",
      "metadata": {
        "id": "QdFCmigwQtwX"
      },
      "source": [
        "# Working with missing values"
      ]
    },
    {
      "cell_type": "markdown",
      "metadata": {
        "id": "CXjFjpfSQtwX"
      },
      "source": [
        "We have formed two dictionaries - of education and family status keys and values, in order to ease operating with different kinds of statuses, for example: a merried clients' status is 0. But we will not use them for this project."
      ]
    },
    {
      "cell_type": "code",
      "execution_count": 40,
      "metadata": {
        "id": "95R7jmFQQtwX"
      },
      "outputs": [],
      "source": [
        "# Find the dictionaries\n",
        "education_dict = {'0' : \"bachelor's degree\", \n",
        "                  '1' : 'secondary education', \n",
        "                  '2' : 'some college', \n",
        "                  '3' : 'primary education', \n",
        "                  '4' : \"bachelor's degree\"}\n",
        "\n",
        "marital_stat_dict = {'0' : 'married', \n",
        "                     '1' : 'civil partnership', \n",
        "                     '2' : 'widow / widower',  \n",
        "                     '3' : 'divorced', \n",
        "                     '4' : 'unmarried'}"
      ]
    },
    {
      "cell_type": "markdown",
      "metadata": {
        "id": "JfAuZIZYQtwX"
      },
      "source": [
        "### Restoring missing values in `total_income`"
      ]
    },
    {
      "cell_type": "markdown",
      "metadata": {
        "id": "cLKskwT8QtwX"
      },
      "source": [
        "There are two culumns where we meet missing values, but only one of them we will treat - the `total income`."
      ]
    },
    {
      "cell_type": "code",
      "execution_count": 41,
      "metadata": {
        "id": "PLu-xHO_QtwX"
      },
      "outputs": [],
      "source": [
        "# Let's write a function that calculates the age category\n",
        "def age_category(age):\n",
        "    if age <= 18.0:\n",
        "        return 'minors'\n",
        "    if age <= 64.0:\n",
        "        return 'adult'\n",
        "    return 'retired'    "
      ]
    },
    {
      "cell_type": "code",
      "execution_count": 42,
      "metadata": {
        "colab": {
          "base_uri": "https://localhost:8080/"
        },
        "id": "0iON1QjNQtwX",
        "outputId": "3f78ad6b-c402-4091-ba71-90f3acc82b7d"
      },
      "outputs": [
        {
          "output_type": "stream",
          "name": "stdout",
          "text": [
            "minors\n",
            "adult\n",
            "retired\n"
          ]
        }
      ],
      "source": [
        "# Test if the function works\n",
        "print(age_category(17.0))\n",
        "print(age_category(64.0))\n",
        "print(age_category(75.0))"
      ]
    },
    {
      "cell_type": "code",
      "execution_count": 43,
      "metadata": {
        "id": "wdgxUUR0QtwY"
      },
      "outputs": [],
      "source": [
        "# Creating new column based on function\n",
        "borrower_data['category_by_age'] = borrower_data['dob_years'].apply(age_category)"
      ]
    },
    {
      "cell_type": "code",
      "execution_count": 44,
      "metadata": {
        "colab": {
          "base_uri": "https://localhost:8080/"
        },
        "id": "KcgKUvexQtwY",
        "outputId": "09b151b3-a690-42c2-cceb-3985293052ea"
      },
      "outputs": [
        {
          "output_type": "execute_result",
          "data": {
            "text/plain": [
              "adult      20571\n",
              "retired      898\n",
              "Name: category_by_age, dtype: int64"
            ]
          },
          "metadata": {},
          "execution_count": 44
        }
      ],
      "source": [
        "# Checking how values in the new column\n",
        "borrower_data['category_by_age'].value_counts()"
      ]
    },
    {
      "cell_type": "markdown",
      "metadata": {
        "id": "4I9SZiIXQtwY"
      },
      "source": [
        "Create a table that only has data without missing values. This data will be used to restore the missing values."
      ]
    },
    {
      "cell_type": "code",
      "execution_count": 45,
      "metadata": {
        "colab": {
          "base_uri": "https://localhost:8080/",
          "height": 0
        },
        "id": "QVnJgTbfQtwY",
        "outputId": "f0410e15-0d15-4f51-f59e-16dbf740e705"
      },
      "outputs": [
        {
          "output_type": "execute_result",
          "data": {
            "text/plain": [
              "       children  days_employed  dob_years            education  education_id  \\\n",
              "0             1    8437.673028         42    bachelor's degree             0   \n",
              "1             1    4024.803754         36  secondary education             1   \n",
              "2             0    5623.422610         33  Secondary Education             1   \n",
              "3             3    4124.747207         32  secondary education             1   \n",
              "4             0  340266.072047         53  secondary education             1   \n",
              "...         ...            ...        ...                  ...           ...   \n",
              "21520         1    4529.316663         43  secondary education             1   \n",
              "21521         0  343937.404131         67  secondary education             1   \n",
              "21522         1    2113.346888         38  secondary education             1   \n",
              "21523         3    3112.481705         38  secondary education             1   \n",
              "21524         2    1984.507589         40  secondary education             1   \n",
              "\n",
              "           family_status  family_status_id gender income_type  debt  \\\n",
              "0                married                 0      F    employee     0   \n",
              "1                married                 0      F    employee     0   \n",
              "2                married                 0      M    employee     0   \n",
              "3                married                 0      M    employee     0   \n",
              "4      civil partnership                 1      F     retiree     0   \n",
              "...                  ...               ...    ...         ...   ...   \n",
              "21520  civil partnership                 1      F    business     0   \n",
              "21521            married                 0      F     retiree     0   \n",
              "21522  civil partnership                 1      M    employee     1   \n",
              "21523            married                 0      M    employee     1   \n",
              "21524            married                 0      F    employee     0   \n",
              "\n",
              "       total_income                  purpose  education_lowercase  \\\n",
              "0         40620.102    purchase of the house    bachelor's degree   \n",
              "1         17932.802             car purchase  secondary education   \n",
              "2         23341.752    purchase of the house  secondary education   \n",
              "3         42820.568  supplementary education  secondary education   \n",
              "4         25378.572        to have a wedding  secondary education   \n",
              "...             ...                      ...                  ...   \n",
              "21520     35966.698     housing transactions  secondary education   \n",
              "21521     24959.969        purchase of a car  secondary education   \n",
              "21522     14347.610                 property  secondary education   \n",
              "21523     39054.888        buying my own car  secondary education   \n",
              "21524     13127.587             to buy a car  secondary education   \n",
              "\n",
              "      category_by_age  \n",
              "0               adult  \n",
              "1               adult  \n",
              "2               adult  \n",
              "3               adult  \n",
              "4               adult  \n",
              "...               ...  \n",
              "21520           adult  \n",
              "21521         retired  \n",
              "21522           adult  \n",
              "21523           adult  \n",
              "21524           adult  \n",
              "\n",
              "[19350 rows x 14 columns]"
            ],
            "text/html": [
              "\n",
              "  <div id=\"df-915d7934-3d24-4a73-b87e-1c6808d4ff85\">\n",
              "    <div class=\"colab-df-container\">\n",
              "      <div>\n",
              "<style scoped>\n",
              "    .dataframe tbody tr th:only-of-type {\n",
              "        vertical-align: middle;\n",
              "    }\n",
              "\n",
              "    .dataframe tbody tr th {\n",
              "        vertical-align: top;\n",
              "    }\n",
              "\n",
              "    .dataframe thead th {\n",
              "        text-align: right;\n",
              "    }\n",
              "</style>\n",
              "<table border=\"1\" class=\"dataframe\">\n",
              "  <thead>\n",
              "    <tr style=\"text-align: right;\">\n",
              "      <th></th>\n",
              "      <th>children</th>\n",
              "      <th>days_employed</th>\n",
              "      <th>dob_years</th>\n",
              "      <th>education</th>\n",
              "      <th>education_id</th>\n",
              "      <th>family_status</th>\n",
              "      <th>family_status_id</th>\n",
              "      <th>gender</th>\n",
              "      <th>income_type</th>\n",
              "      <th>debt</th>\n",
              "      <th>total_income</th>\n",
              "      <th>purpose</th>\n",
              "      <th>education_lowercase</th>\n",
              "      <th>category_by_age</th>\n",
              "    </tr>\n",
              "  </thead>\n",
              "  <tbody>\n",
              "    <tr>\n",
              "      <th>0</th>\n",
              "      <td>1</td>\n",
              "      <td>8437.673028</td>\n",
              "      <td>42</td>\n",
              "      <td>bachelor's degree</td>\n",
              "      <td>0</td>\n",
              "      <td>married</td>\n",
              "      <td>0</td>\n",
              "      <td>F</td>\n",
              "      <td>employee</td>\n",
              "      <td>0</td>\n",
              "      <td>40620.102</td>\n",
              "      <td>purchase of the house</td>\n",
              "      <td>bachelor's degree</td>\n",
              "      <td>adult</td>\n",
              "    </tr>\n",
              "    <tr>\n",
              "      <th>1</th>\n",
              "      <td>1</td>\n",
              "      <td>4024.803754</td>\n",
              "      <td>36</td>\n",
              "      <td>secondary education</td>\n",
              "      <td>1</td>\n",
              "      <td>married</td>\n",
              "      <td>0</td>\n",
              "      <td>F</td>\n",
              "      <td>employee</td>\n",
              "      <td>0</td>\n",
              "      <td>17932.802</td>\n",
              "      <td>car purchase</td>\n",
              "      <td>secondary education</td>\n",
              "      <td>adult</td>\n",
              "    </tr>\n",
              "    <tr>\n",
              "      <th>2</th>\n",
              "      <td>0</td>\n",
              "      <td>5623.422610</td>\n",
              "      <td>33</td>\n",
              "      <td>Secondary Education</td>\n",
              "      <td>1</td>\n",
              "      <td>married</td>\n",
              "      <td>0</td>\n",
              "      <td>M</td>\n",
              "      <td>employee</td>\n",
              "      <td>0</td>\n",
              "      <td>23341.752</td>\n",
              "      <td>purchase of the house</td>\n",
              "      <td>secondary education</td>\n",
              "      <td>adult</td>\n",
              "    </tr>\n",
              "    <tr>\n",
              "      <th>3</th>\n",
              "      <td>3</td>\n",
              "      <td>4124.747207</td>\n",
              "      <td>32</td>\n",
              "      <td>secondary education</td>\n",
              "      <td>1</td>\n",
              "      <td>married</td>\n",
              "      <td>0</td>\n",
              "      <td>M</td>\n",
              "      <td>employee</td>\n",
              "      <td>0</td>\n",
              "      <td>42820.568</td>\n",
              "      <td>supplementary education</td>\n",
              "      <td>secondary education</td>\n",
              "      <td>adult</td>\n",
              "    </tr>\n",
              "    <tr>\n",
              "      <th>4</th>\n",
              "      <td>0</td>\n",
              "      <td>340266.072047</td>\n",
              "      <td>53</td>\n",
              "      <td>secondary education</td>\n",
              "      <td>1</td>\n",
              "      <td>civil partnership</td>\n",
              "      <td>1</td>\n",
              "      <td>F</td>\n",
              "      <td>retiree</td>\n",
              "      <td>0</td>\n",
              "      <td>25378.572</td>\n",
              "      <td>to have a wedding</td>\n",
              "      <td>secondary education</td>\n",
              "      <td>adult</td>\n",
              "    </tr>\n",
              "    <tr>\n",
              "      <th>...</th>\n",
              "      <td>...</td>\n",
              "      <td>...</td>\n",
              "      <td>...</td>\n",
              "      <td>...</td>\n",
              "      <td>...</td>\n",
              "      <td>...</td>\n",
              "      <td>...</td>\n",
              "      <td>...</td>\n",
              "      <td>...</td>\n",
              "      <td>...</td>\n",
              "      <td>...</td>\n",
              "      <td>...</td>\n",
              "      <td>...</td>\n",
              "      <td>...</td>\n",
              "    </tr>\n",
              "    <tr>\n",
              "      <th>21520</th>\n",
              "      <td>1</td>\n",
              "      <td>4529.316663</td>\n",
              "      <td>43</td>\n",
              "      <td>secondary education</td>\n",
              "      <td>1</td>\n",
              "      <td>civil partnership</td>\n",
              "      <td>1</td>\n",
              "      <td>F</td>\n",
              "      <td>business</td>\n",
              "      <td>0</td>\n",
              "      <td>35966.698</td>\n",
              "      <td>housing transactions</td>\n",
              "      <td>secondary education</td>\n",
              "      <td>adult</td>\n",
              "    </tr>\n",
              "    <tr>\n",
              "      <th>21521</th>\n",
              "      <td>0</td>\n",
              "      <td>343937.404131</td>\n",
              "      <td>67</td>\n",
              "      <td>secondary education</td>\n",
              "      <td>1</td>\n",
              "      <td>married</td>\n",
              "      <td>0</td>\n",
              "      <td>F</td>\n",
              "      <td>retiree</td>\n",
              "      <td>0</td>\n",
              "      <td>24959.969</td>\n",
              "      <td>purchase of a car</td>\n",
              "      <td>secondary education</td>\n",
              "      <td>retired</td>\n",
              "    </tr>\n",
              "    <tr>\n",
              "      <th>21522</th>\n",
              "      <td>1</td>\n",
              "      <td>2113.346888</td>\n",
              "      <td>38</td>\n",
              "      <td>secondary education</td>\n",
              "      <td>1</td>\n",
              "      <td>civil partnership</td>\n",
              "      <td>1</td>\n",
              "      <td>M</td>\n",
              "      <td>employee</td>\n",
              "      <td>1</td>\n",
              "      <td>14347.610</td>\n",
              "      <td>property</td>\n",
              "      <td>secondary education</td>\n",
              "      <td>adult</td>\n",
              "    </tr>\n",
              "    <tr>\n",
              "      <th>21523</th>\n",
              "      <td>3</td>\n",
              "      <td>3112.481705</td>\n",
              "      <td>38</td>\n",
              "      <td>secondary education</td>\n",
              "      <td>1</td>\n",
              "      <td>married</td>\n",
              "      <td>0</td>\n",
              "      <td>M</td>\n",
              "      <td>employee</td>\n",
              "      <td>1</td>\n",
              "      <td>39054.888</td>\n",
              "      <td>buying my own car</td>\n",
              "      <td>secondary education</td>\n",
              "      <td>adult</td>\n",
              "    </tr>\n",
              "    <tr>\n",
              "      <th>21524</th>\n",
              "      <td>2</td>\n",
              "      <td>1984.507589</td>\n",
              "      <td>40</td>\n",
              "      <td>secondary education</td>\n",
              "      <td>1</td>\n",
              "      <td>married</td>\n",
              "      <td>0</td>\n",
              "      <td>F</td>\n",
              "      <td>employee</td>\n",
              "      <td>0</td>\n",
              "      <td>13127.587</td>\n",
              "      <td>to buy a car</td>\n",
              "      <td>secondary education</td>\n",
              "      <td>adult</td>\n",
              "    </tr>\n",
              "  </tbody>\n",
              "</table>\n",
              "<p>19350 rows × 14 columns</p>\n",
              "</div>\n",
              "      <button class=\"colab-df-convert\" onclick=\"convertToInteractive('df-915d7934-3d24-4a73-b87e-1c6808d4ff85')\"\n",
              "              title=\"Convert this dataframe to an interactive table.\"\n",
              "              style=\"display:none;\">\n",
              "        \n",
              "  <svg xmlns=\"http://www.w3.org/2000/svg\" height=\"24px\"viewBox=\"0 0 24 24\"\n",
              "       width=\"24px\">\n",
              "    <path d=\"M0 0h24v24H0V0z\" fill=\"none\"/>\n",
              "    <path d=\"M18.56 5.44l.94 2.06.94-2.06 2.06-.94-2.06-.94-.94-2.06-.94 2.06-2.06.94zm-11 1L8.5 8.5l.94-2.06 2.06-.94-2.06-.94L8.5 2.5l-.94 2.06-2.06.94zm10 10l.94 2.06.94-2.06 2.06-.94-2.06-.94-.94-2.06-.94 2.06-2.06.94z\"/><path d=\"M17.41 7.96l-1.37-1.37c-.4-.4-.92-.59-1.43-.59-.52 0-1.04.2-1.43.59L10.3 9.45l-7.72 7.72c-.78.78-.78 2.05 0 2.83L4 21.41c.39.39.9.59 1.41.59.51 0 1.02-.2 1.41-.59l7.78-7.78 2.81-2.81c.8-.78.8-2.07 0-2.86zM5.41 20L4 18.59l7.72-7.72 1.47 1.35L5.41 20z\"/>\n",
              "  </svg>\n",
              "      </button>\n",
              "      \n",
              "  <style>\n",
              "    .colab-df-container {\n",
              "      display:flex;\n",
              "      flex-wrap:wrap;\n",
              "      gap: 12px;\n",
              "    }\n",
              "\n",
              "    .colab-df-convert {\n",
              "      background-color: #E8F0FE;\n",
              "      border: none;\n",
              "      border-radius: 50%;\n",
              "      cursor: pointer;\n",
              "      display: none;\n",
              "      fill: #1967D2;\n",
              "      height: 32px;\n",
              "      padding: 0 0 0 0;\n",
              "      width: 32px;\n",
              "    }\n",
              "\n",
              "    .colab-df-convert:hover {\n",
              "      background-color: #E2EBFA;\n",
              "      box-shadow: 0px 1px 2px rgba(60, 64, 67, 0.3), 0px 1px 3px 1px rgba(60, 64, 67, 0.15);\n",
              "      fill: #174EA6;\n",
              "    }\n",
              "\n",
              "    [theme=dark] .colab-df-convert {\n",
              "      background-color: #3B4455;\n",
              "      fill: #D2E3FC;\n",
              "    }\n",
              "\n",
              "    [theme=dark] .colab-df-convert:hover {\n",
              "      background-color: #434B5C;\n",
              "      box-shadow: 0px 1px 3px 1px rgba(0, 0, 0, 0.15);\n",
              "      filter: drop-shadow(0px 1px 2px rgba(0, 0, 0, 0.3));\n",
              "      fill: #FFFFFF;\n",
              "    }\n",
              "  </style>\n",
              "\n",
              "      <script>\n",
              "        const buttonEl =\n",
              "          document.querySelector('#df-915d7934-3d24-4a73-b87e-1c6808d4ff85 button.colab-df-convert');\n",
              "        buttonEl.style.display =\n",
              "          google.colab.kernel.accessAllowed ? 'block' : 'none';\n",
              "\n",
              "        async function convertToInteractive(key) {\n",
              "          const element = document.querySelector('#df-915d7934-3d24-4a73-b87e-1c6808d4ff85');\n",
              "          const dataTable =\n",
              "            await google.colab.kernel.invokeFunction('convertToInteractive',\n",
              "                                                     [key], {});\n",
              "          if (!dataTable) return;\n",
              "\n",
              "          const docLinkHtml = 'Like what you see? Visit the ' +\n",
              "            '<a target=\"_blank\" href=https://colab.research.google.com/notebooks/data_table.ipynb>data table notebook</a>'\n",
              "            + ' to learn more about interactive tables.';\n",
              "          element.innerHTML = '';\n",
              "          dataTable['output_type'] = 'display_data';\n",
              "          await google.colab.output.renderOutput(dataTable, element);\n",
              "          const docLink = document.createElement('div');\n",
              "          docLink.innerHTML = docLinkHtml;\n",
              "          element.appendChild(docLink);\n",
              "        }\n",
              "      </script>\n",
              "    </div>\n",
              "  </div>\n",
              "  "
            ]
          },
          "metadata": {},
          "execution_count": 45
        }
      ],
      "source": [
        "# Create a table without missing values and print a few of its rows to make sure it looks fine\n",
        "borrower_clean = borrower_data[(borrower_data.days_employed.notna())&(borrower_data.total_income.notna())]\n",
        "borrower_clean"
      ]
    },
    {
      "cell_type": "code",
      "execution_count": 46,
      "metadata": {
        "colab": {
          "base_uri": "https://localhost:8080/"
        },
        "id": "YzKTOkrNQtwY",
        "outputId": "931dcedc-bc6f-445a-e52c-32f8a6855c38"
      },
      "outputs": [
        {
          "output_type": "stream",
          "name": "stdout",
          "text": [
            "The mean value of total income is: 26787.27\n"
          ]
        }
      ],
      "source": [
        "# Look at the mean values for income based on your identified factors\n",
        "avg_income = borrower_clean['total_income'].mean()\n",
        "print('The mean value of total income is: {:.2f}'.format(avg_income))"
      ]
    },
    {
      "cell_type": "code",
      "execution_count": 47,
      "metadata": {
        "scrolled": true,
        "colab": {
          "base_uri": "https://localhost:8080/"
        },
        "id": "3Yu9-ZG_QtwY",
        "outputId": "c5dc55a0-f69a-4d84-ee4c-937243464ce5"
      },
      "outputs": [
        {
          "output_type": "stream",
          "name": "stdout",
          "text": [
            "The median of the total income is: 23201.87\n"
          ]
        }
      ],
      "source": [
        "# Look at the median values for income based on your identified factors\n",
        "median_income = borrower_clean['total_income'].median()\n",
        "print('The median of the total income is: {:.2f}'.format(median_income))"
      ]
    },
    {
      "cell_type": "code",
      "execution_count": 48,
      "metadata": {
        "colab": {
          "base_uri": "https://localhost:8080/"
        },
        "id": "w4WpWuUlQtwY",
        "outputId": "f5c6e4e8-a5bb-40b4-ca27-ef402effbe24"
      },
      "outputs": [
        {
          "output_type": "stream",
          "name": "stdout",
          "text": [
            "The avarage age is: 43.45\n"
          ]
        }
      ],
      "source": [
        "avg_age = borrower_clean['dob_years'].mean()\n",
        "print('The avarage age is: {:.2f}'.format(avg_age))"
      ]
    },
    {
      "cell_type": "code",
      "execution_count": 49,
      "metadata": {
        "colab": {
          "base_uri": "https://localhost:8080/"
        },
        "id": "eiEapvqXQtwZ",
        "outputId": "a61be5c1-d832-4d34-96de-c746b78cd7ac"
      },
      "outputs": [
        {
          "output_type": "stream",
          "name": "stdout",
          "text": [
            "The median age is: 42\n"
          ]
        }
      ],
      "source": [
        "median_age = borrower_clean['dob_years'].median()\n",
        "print('The median age is: {:.0f}'.format(median_age))"
      ]
    },
    {
      "cell_type": "code",
      "execution_count": 50,
      "metadata": {
        "colab": {
          "base_uri": "https://localhost:8080/",
          "height": 0
        },
        "id": "cdKzEFLtQtwZ",
        "outputId": "47e10123-bc9a-4914-cae6-e018af4adcfc"
      },
      "outputs": [
        {
          "output_type": "execute_result",
          "data": {
            "text/plain": [
              "income_type         business  civil servant     employee  entrepreneur  \\\n",
              "category_by_age                                                          \n",
              "adult            2101.315980    3387.057925  2313.993758    520.848083   \n",
              "retired          3292.768472    4377.924812  4366.938943           NaN   \n",
              "\n",
              "income_type      paternity / maternity leave        retiree     student  \\\n",
              "category_by_age                                                           \n",
              "adult                            3296.759962  364791.529478  578.751554   \n",
              "retired                                  NaN  365832.591336         NaN   \n",
              "\n",
              "income_type         unemployed  \n",
              "category_by_age                 \n",
              "adult            366413.652744  \n",
              "retired                    NaN  "
            ],
            "text/html": [
              "\n",
              "  <div id=\"df-5f26ebd0-c395-408b-9364-1103a9af9a36\">\n",
              "    <div class=\"colab-df-container\">\n",
              "      <div>\n",
              "<style scoped>\n",
              "    .dataframe tbody tr th:only-of-type {\n",
              "        vertical-align: middle;\n",
              "    }\n",
              "\n",
              "    .dataframe tbody tr th {\n",
              "        vertical-align: top;\n",
              "    }\n",
              "\n",
              "    .dataframe thead th {\n",
              "        text-align: right;\n",
              "    }\n",
              "</style>\n",
              "<table border=\"1\" class=\"dataframe\">\n",
              "  <thead>\n",
              "    <tr style=\"text-align: right;\">\n",
              "      <th>income_type</th>\n",
              "      <th>business</th>\n",
              "      <th>civil servant</th>\n",
              "      <th>employee</th>\n",
              "      <th>entrepreneur</th>\n",
              "      <th>paternity / maternity leave</th>\n",
              "      <th>retiree</th>\n",
              "      <th>student</th>\n",
              "      <th>unemployed</th>\n",
              "    </tr>\n",
              "    <tr>\n",
              "      <th>category_by_age</th>\n",
              "      <th></th>\n",
              "      <th></th>\n",
              "      <th></th>\n",
              "      <th></th>\n",
              "      <th></th>\n",
              "      <th></th>\n",
              "      <th></th>\n",
              "      <th></th>\n",
              "    </tr>\n",
              "  </thead>\n",
              "  <tbody>\n",
              "    <tr>\n",
              "      <th>adult</th>\n",
              "      <td>2101.315980</td>\n",
              "      <td>3387.057925</td>\n",
              "      <td>2313.993758</td>\n",
              "      <td>520.848083</td>\n",
              "      <td>3296.759962</td>\n",
              "      <td>364791.529478</td>\n",
              "      <td>578.751554</td>\n",
              "      <td>366413.652744</td>\n",
              "    </tr>\n",
              "    <tr>\n",
              "      <th>retired</th>\n",
              "      <td>3292.768472</td>\n",
              "      <td>4377.924812</td>\n",
              "      <td>4366.938943</td>\n",
              "      <td>NaN</td>\n",
              "      <td>NaN</td>\n",
              "      <td>365832.591336</td>\n",
              "      <td>NaN</td>\n",
              "      <td>NaN</td>\n",
              "    </tr>\n",
              "  </tbody>\n",
              "</table>\n",
              "</div>\n",
              "      <button class=\"colab-df-convert\" onclick=\"convertToInteractive('df-5f26ebd0-c395-408b-9364-1103a9af9a36')\"\n",
              "              title=\"Convert this dataframe to an interactive table.\"\n",
              "              style=\"display:none;\">\n",
              "        \n",
              "  <svg xmlns=\"http://www.w3.org/2000/svg\" height=\"24px\"viewBox=\"0 0 24 24\"\n",
              "       width=\"24px\">\n",
              "    <path d=\"M0 0h24v24H0V0z\" fill=\"none\"/>\n",
              "    <path d=\"M18.56 5.44l.94 2.06.94-2.06 2.06-.94-2.06-.94-.94-2.06-.94 2.06-2.06.94zm-11 1L8.5 8.5l.94-2.06 2.06-.94-2.06-.94L8.5 2.5l-.94 2.06-2.06.94zm10 10l.94 2.06.94-2.06 2.06-.94-2.06-.94-.94-2.06-.94 2.06-2.06.94z\"/><path d=\"M17.41 7.96l-1.37-1.37c-.4-.4-.92-.59-1.43-.59-.52 0-1.04.2-1.43.59L10.3 9.45l-7.72 7.72c-.78.78-.78 2.05 0 2.83L4 21.41c.39.39.9.59 1.41.59.51 0 1.02-.2 1.41-.59l7.78-7.78 2.81-2.81c.8-.78.8-2.07 0-2.86zM5.41 20L4 18.59l7.72-7.72 1.47 1.35L5.41 20z\"/>\n",
              "  </svg>\n",
              "      </button>\n",
              "      \n",
              "  <style>\n",
              "    .colab-df-container {\n",
              "      display:flex;\n",
              "      flex-wrap:wrap;\n",
              "      gap: 12px;\n",
              "    }\n",
              "\n",
              "    .colab-df-convert {\n",
              "      background-color: #E8F0FE;\n",
              "      border: none;\n",
              "      border-radius: 50%;\n",
              "      cursor: pointer;\n",
              "      display: none;\n",
              "      fill: #1967D2;\n",
              "      height: 32px;\n",
              "      padding: 0 0 0 0;\n",
              "      width: 32px;\n",
              "    }\n",
              "\n",
              "    .colab-df-convert:hover {\n",
              "      background-color: #E2EBFA;\n",
              "      box-shadow: 0px 1px 2px rgba(60, 64, 67, 0.3), 0px 1px 3px 1px rgba(60, 64, 67, 0.15);\n",
              "      fill: #174EA6;\n",
              "    }\n",
              "\n",
              "    [theme=dark] .colab-df-convert {\n",
              "      background-color: #3B4455;\n",
              "      fill: #D2E3FC;\n",
              "    }\n",
              "\n",
              "    [theme=dark] .colab-df-convert:hover {\n",
              "      background-color: #434B5C;\n",
              "      box-shadow: 0px 1px 3px 1px rgba(0, 0, 0, 0.15);\n",
              "      filter: drop-shadow(0px 1px 2px rgba(0, 0, 0, 0.3));\n",
              "      fill: #FFFFFF;\n",
              "    }\n",
              "  </style>\n",
              "\n",
              "      <script>\n",
              "        const buttonEl =\n",
              "          document.querySelector('#df-5f26ebd0-c395-408b-9364-1103a9af9a36 button.colab-df-convert');\n",
              "        buttonEl.style.display =\n",
              "          google.colab.kernel.accessAllowed ? 'block' : 'none';\n",
              "\n",
              "        async function convertToInteractive(key) {\n",
              "          const element = document.querySelector('#df-5f26ebd0-c395-408b-9364-1103a9af9a36');\n",
              "          const dataTable =\n",
              "            await google.colab.kernel.invokeFunction('convertToInteractive',\n",
              "                                                     [key], {});\n",
              "          if (!dataTable) return;\n",
              "\n",
              "          const docLinkHtml = 'Like what you see? Visit the ' +\n",
              "            '<a target=\"_blank\" href=https://colab.research.google.com/notebooks/data_table.ipynb>data table notebook</a>'\n",
              "            + ' to learn more about interactive tables.';\n",
              "          element.innerHTML = '';\n",
              "          dataTable['output_type'] = 'display_data';\n",
              "          await google.colab.output.renderOutput(dataTable, element);\n",
              "          const docLink = document.createElement('div');\n",
              "          docLink.innerHTML = docLinkHtml;\n",
              "          element.appendChild(docLink);\n",
              "        }\n",
              "      </script>\n",
              "    </div>\n",
              "  </div>\n",
              "  "
            ]
          },
          "metadata": {},
          "execution_count": 50
        }
      ],
      "source": [
        "pivot = borrower_clean.pivot_table(\n",
        "index = 'category_by_age',\n",
        "columns = 'income_type',\n",
        "values = 'days_employed',\n",
        "aggfunc = 'mean')\n",
        "pivot"
      ]
    },
    {
      "cell_type": "markdown",
      "metadata": {
        "id": "sb7p3TkMQtwZ"
      },
      "source": [
        "We will use the median for both age and income filling values because it is a more precise number."
      ]
    },
    {
      "cell_type": "code",
      "execution_count": 51,
      "metadata": {
        "colab": {
          "base_uri": "https://localhost:8080/"
        },
        "id": "ReA82t-aQtwZ",
        "outputId": "5b0764d9-5ab3-4542-f7f0-ddf153edbd1e"
      },
      "outputs": [
        {
          "output_type": "execute_result",
          "data": {
            "text/plain": [
              "income_type\n",
              "business                       27571.0825\n",
              "civil servant                  24071.6695\n",
              "employee                       22815.1035\n",
              "entrepreneur                   79866.1030\n",
              "paternity / maternity leave     8612.6610\n",
              "retiree                        18962.3180\n",
              "student                        15712.2600\n",
              "unemployed                     21014.3605\n",
              "Name: total_income, dtype: float64"
            ]
          },
          "metadata": {},
          "execution_count": 51
        }
      ],
      "source": [
        "#  Write a function that we will use for filling in missing values\n",
        "median_by_income = borrower_clean.groupby('income_type')['total_income'].median()\n",
        "median_by_income"
      ]
    },
    {
      "cell_type": "code",
      "execution_count": 52,
      "metadata": {
        "id": "6IJS9KupQtwZ"
      },
      "outputs": [],
      "source": [
        "borrower_data['total_income'] = borrower_data.groupby(['income_type'])['total_income']\\\n",
        "                                            .transform(lambda x: x.fillna(x.median()))"
      ]
    },
    {
      "cell_type": "code",
      "execution_count": 53,
      "metadata": {
        "colab": {
          "base_uri": "https://localhost:8080/",
          "height": 0
        },
        "id": "CfM9jcVqQtwZ",
        "outputId": "73c36085-dc4d-44b3-f16e-9250a8c59326"
      },
      "outputs": [
        {
          "output_type": "execute_result",
          "data": {
            "text/plain": [
              "Empty DataFrame\n",
              "Columns: [children, days_employed, dob_years, education, education_id, family_status, family_status_id, gender, income_type, debt, total_income, purpose, education_lowercase, category_by_age]\n",
              "Index: []"
            ],
            "text/html": [
              "\n",
              "  <div id=\"df-44570c4a-3558-42f5-a77e-9806841d9d9d\">\n",
              "    <div class=\"colab-df-container\">\n",
              "      <div>\n",
              "<style scoped>\n",
              "    .dataframe tbody tr th:only-of-type {\n",
              "        vertical-align: middle;\n",
              "    }\n",
              "\n",
              "    .dataframe tbody tr th {\n",
              "        vertical-align: top;\n",
              "    }\n",
              "\n",
              "    .dataframe thead th {\n",
              "        text-align: right;\n",
              "    }\n",
              "</style>\n",
              "<table border=\"1\" class=\"dataframe\">\n",
              "  <thead>\n",
              "    <tr style=\"text-align: right;\">\n",
              "      <th></th>\n",
              "      <th>children</th>\n",
              "      <th>days_employed</th>\n",
              "      <th>dob_years</th>\n",
              "      <th>education</th>\n",
              "      <th>education_id</th>\n",
              "      <th>family_status</th>\n",
              "      <th>family_status_id</th>\n",
              "      <th>gender</th>\n",
              "      <th>income_type</th>\n",
              "      <th>debt</th>\n",
              "      <th>total_income</th>\n",
              "      <th>purpose</th>\n",
              "      <th>education_lowercase</th>\n",
              "      <th>category_by_age</th>\n",
              "    </tr>\n",
              "  </thead>\n",
              "  <tbody>\n",
              "  </tbody>\n",
              "</table>\n",
              "</div>\n",
              "      <button class=\"colab-df-convert\" onclick=\"convertToInteractive('df-44570c4a-3558-42f5-a77e-9806841d9d9d')\"\n",
              "              title=\"Convert this dataframe to an interactive table.\"\n",
              "              style=\"display:none;\">\n",
              "        \n",
              "  <svg xmlns=\"http://www.w3.org/2000/svg\" height=\"24px\"viewBox=\"0 0 24 24\"\n",
              "       width=\"24px\">\n",
              "    <path d=\"M0 0h24v24H0V0z\" fill=\"none\"/>\n",
              "    <path d=\"M18.56 5.44l.94 2.06.94-2.06 2.06-.94-2.06-.94-.94-2.06-.94 2.06-2.06.94zm-11 1L8.5 8.5l.94-2.06 2.06-.94-2.06-.94L8.5 2.5l-.94 2.06-2.06.94zm10 10l.94 2.06.94-2.06 2.06-.94-2.06-.94-.94-2.06-.94 2.06-2.06.94z\"/><path d=\"M17.41 7.96l-1.37-1.37c-.4-.4-.92-.59-1.43-.59-.52 0-1.04.2-1.43.59L10.3 9.45l-7.72 7.72c-.78.78-.78 2.05 0 2.83L4 21.41c.39.39.9.59 1.41.59.51 0 1.02-.2 1.41-.59l7.78-7.78 2.81-2.81c.8-.78.8-2.07 0-2.86zM5.41 20L4 18.59l7.72-7.72 1.47 1.35L5.41 20z\"/>\n",
              "  </svg>\n",
              "      </button>\n",
              "      \n",
              "  <style>\n",
              "    .colab-df-container {\n",
              "      display:flex;\n",
              "      flex-wrap:wrap;\n",
              "      gap: 12px;\n",
              "    }\n",
              "\n",
              "    .colab-df-convert {\n",
              "      background-color: #E8F0FE;\n",
              "      border: none;\n",
              "      border-radius: 50%;\n",
              "      cursor: pointer;\n",
              "      display: none;\n",
              "      fill: #1967D2;\n",
              "      height: 32px;\n",
              "      padding: 0 0 0 0;\n",
              "      width: 32px;\n",
              "    }\n",
              "\n",
              "    .colab-df-convert:hover {\n",
              "      background-color: #E2EBFA;\n",
              "      box-shadow: 0px 1px 2px rgba(60, 64, 67, 0.3), 0px 1px 3px 1px rgba(60, 64, 67, 0.15);\n",
              "      fill: #174EA6;\n",
              "    }\n",
              "\n",
              "    [theme=dark] .colab-df-convert {\n",
              "      background-color: #3B4455;\n",
              "      fill: #D2E3FC;\n",
              "    }\n",
              "\n",
              "    [theme=dark] .colab-df-convert:hover {\n",
              "      background-color: #434B5C;\n",
              "      box-shadow: 0px 1px 3px 1px rgba(0, 0, 0, 0.15);\n",
              "      filter: drop-shadow(0px 1px 2px rgba(0, 0, 0, 0.3));\n",
              "      fill: #FFFFFF;\n",
              "    }\n",
              "  </style>\n",
              "\n",
              "      <script>\n",
              "        const buttonEl =\n",
              "          document.querySelector('#df-44570c4a-3558-42f5-a77e-9806841d9d9d button.colab-df-convert');\n",
              "        buttonEl.style.display =\n",
              "          google.colab.kernel.accessAllowed ? 'block' : 'none';\n",
              "\n",
              "        async function convertToInteractive(key) {\n",
              "          const element = document.querySelector('#df-44570c4a-3558-42f5-a77e-9806841d9d9d');\n",
              "          const dataTable =\n",
              "            await google.colab.kernel.invokeFunction('convertToInteractive',\n",
              "                                                     [key], {});\n",
              "          if (!dataTable) return;\n",
              "\n",
              "          const docLinkHtml = 'Like what you see? Visit the ' +\n",
              "            '<a target=\"_blank\" href=https://colab.research.google.com/notebooks/data_table.ipynb>data table notebook</a>'\n",
              "            + ' to learn more about interactive tables.';\n",
              "          element.innerHTML = '';\n",
              "          dataTable['output_type'] = 'display_data';\n",
              "          await google.colab.output.renderOutput(dataTable, element);\n",
              "          const docLink = document.createElement('div');\n",
              "          docLink.innerHTML = docLinkHtml;\n",
              "          element.appendChild(docLink);\n",
              "        }\n",
              "      </script>\n",
              "    </div>\n",
              "  </div>\n",
              "  "
            ]
          },
          "metadata": {},
          "execution_count": 53
        }
      ],
      "source": [
        "# Check if it works\n",
        "borrower_data[borrower_data['total_income'].isnull()]"
      ]
    },
    {
      "cell_type": "code",
      "execution_count": 54,
      "metadata": {
        "scrolled": true,
        "colab": {
          "base_uri": "https://localhost:8080/"
        },
        "id": "0tpnE338Qtwa",
        "outputId": "eb8bb098-8760-4a72-aaa4-e68209a911a6"
      },
      "outputs": [
        {
          "output_type": "execute_result",
          "data": {
            "text/plain": [
              "21469"
            ]
          },
          "metadata": {},
          "execution_count": 54
        }
      ],
      "source": [
        "# Checking the number of entries in the columns\n",
        "borrower_data['total_income'].count()"
      ]
    },
    {
      "cell_type": "markdown",
      "metadata": {
        "id": "u4VRBC4vQtwa"
      },
      "source": [
        "###  Restoring values in `days_employed`"
      ]
    },
    {
      "cell_type": "markdown",
      "metadata": {
        "id": "Ypu43rM2Qtwa"
      },
      "source": [
        "In this project we will replace missing values in the `days_employed` with the median as well, but we will not be using this data at all because it had a lot of negative numbers that we don't know how occured and as we previously stated this data is problematic to take it into analisys."
      ]
    },
    {
      "cell_type": "code",
      "execution_count": 55,
      "metadata": {
        "pycharm": {
          "name": "#%%\n"
        },
        "colab": {
          "base_uri": "https://localhost:8080/"
        },
        "id": "4koEOh-bQtwa",
        "outputId": "9f227382-af6c-4fac-f9fb-c874b396f337"
      },
      "outputs": [
        {
          "output_type": "execute_result",
          "data": {
            "text/plain": [
              "income_type\n",
              "business                         1546.333214\n",
              "civil servant                    2689.368353\n",
              "employee                         1574.202821\n",
              "entrepreneur                      520.848083\n",
              "paternity / maternity leave      3296.759962\n",
              "retiree                        365213.306266\n",
              "student                           578.751554\n",
              "unemployed                     366413.652744\n",
              "Name: days_employed, dtype: float64"
            ]
          },
          "metadata": {},
          "execution_count": 55
        }
      ],
      "source": [
        "# Distribution of `days_employed` medians based on your identified parameters\n",
        "median_days_by_income = borrower_clean.groupby('income_type')['days_employed'].median()\n",
        "median_days_by_income\n"
      ]
    },
    {
      "cell_type": "code",
      "execution_count": 56,
      "metadata": {
        "colab": {
          "base_uri": "https://localhost:8080/"
        },
        "id": "LJvjX8pBQtwa",
        "outputId": "92b18aa8-ff41-44a0-934c-8ee322469cbb"
      },
      "outputs": [
        {
          "output_type": "execute_result",
          "data": {
            "text/plain": [
              "income_type\n",
              "business                         2111.470404\n",
              "civil servant                    3399.896902\n",
              "employee                         2326.499216\n",
              "entrepreneur                      520.848083\n",
              "paternity / maternity leave      3296.759962\n",
              "retiree                        365003.491245\n",
              "student                           578.751554\n",
              "unemployed                     366413.652744\n",
              "Name: days_employed, dtype: float64"
            ]
          },
          "metadata": {},
          "execution_count": 56
        }
      ],
      "source": [
        "# Distribution of `days_employed` means based on your identified parameters\n",
        "mean_days_by_income = borrower_clean.groupby('income_type')['days_employed'].mean()\n",
        "mean_days_by_income\n"
      ]
    },
    {
      "cell_type": "code",
      "execution_count": 57,
      "metadata": {
        "colab": {
          "base_uri": "https://localhost:8080/"
        },
        "id": "XXPEEKyxQtwa",
        "outputId": "1f2801c1-f79f-40d1-9de1-ef1b5a7fb8fd"
      },
      "outputs": [
        {
          "output_type": "execute_result",
          "data": {
            "text/plain": [
              "count     19350.000000\n",
              "mean      66918.065141\n",
              "std      139033.698578\n",
              "min          24.141633\n",
              "25%         926.990457\n",
              "50%        2194.218768\n",
              "75%        5538.423086\n",
              "max      401755.400475\n",
              "Name: days_employed, dtype: float64"
            ]
          },
          "metadata": {},
          "execution_count": 57
        }
      ],
      "source": [
        "borrower_data['days_employed'].describe()"
      ]
    },
    {
      "cell_type": "markdown",
      "metadata": {
        "id": "jV6FDqGQQtwa"
      },
      "source": [
        "Medians are more safe to use when we have outliers and we certeinly do have them - the minimum and maximum values of `days_employed` are in rather a big range."
      ]
    },
    {
      "cell_type": "code",
      "execution_count": 58,
      "metadata": {
        "id": "7eqkd_DFQtwb"
      },
      "outputs": [],
      "source": [
        "# Let's write a function that calculates means or medians (depending on your decision) based on your identified parameter\n",
        "borrower_data['days_employed'] = borrower_data.groupby('income_type')['days_employed']\\\n",
        "                                                .transform(lambda x: x.fillna(x.median()))"
      ]
    },
    {
      "cell_type": "code",
      "execution_count": 59,
      "metadata": {
        "colab": {
          "base_uri": "https://localhost:8080/",
          "height": 0
        },
        "id": "g1G7hTdAQtwb",
        "outputId": "c4335c9a-4190-40c3-a9f9-3776f8d241c1"
      },
      "outputs": [
        {
          "output_type": "execute_result",
          "data": {
            "text/plain": [
              "Empty DataFrame\n",
              "Columns: [children, days_employed, dob_years, education, education_id, family_status, family_status_id, gender, income_type, debt, total_income, purpose, education_lowercase, category_by_age]\n",
              "Index: []"
            ],
            "text/html": [
              "\n",
              "  <div id=\"df-d90341c4-e772-4870-a36b-94f5f9361bb9\">\n",
              "    <div class=\"colab-df-container\">\n",
              "      <div>\n",
              "<style scoped>\n",
              "    .dataframe tbody tr th:only-of-type {\n",
              "        vertical-align: middle;\n",
              "    }\n",
              "\n",
              "    .dataframe tbody tr th {\n",
              "        vertical-align: top;\n",
              "    }\n",
              "\n",
              "    .dataframe thead th {\n",
              "        text-align: right;\n",
              "    }\n",
              "</style>\n",
              "<table border=\"1\" class=\"dataframe\">\n",
              "  <thead>\n",
              "    <tr style=\"text-align: right;\">\n",
              "      <th></th>\n",
              "      <th>children</th>\n",
              "      <th>days_employed</th>\n",
              "      <th>dob_years</th>\n",
              "      <th>education</th>\n",
              "      <th>education_id</th>\n",
              "      <th>family_status</th>\n",
              "      <th>family_status_id</th>\n",
              "      <th>gender</th>\n",
              "      <th>income_type</th>\n",
              "      <th>debt</th>\n",
              "      <th>total_income</th>\n",
              "      <th>purpose</th>\n",
              "      <th>education_lowercase</th>\n",
              "      <th>category_by_age</th>\n",
              "    </tr>\n",
              "  </thead>\n",
              "  <tbody>\n",
              "  </tbody>\n",
              "</table>\n",
              "</div>\n",
              "      <button class=\"colab-df-convert\" onclick=\"convertToInteractive('df-d90341c4-e772-4870-a36b-94f5f9361bb9')\"\n",
              "              title=\"Convert this dataframe to an interactive table.\"\n",
              "              style=\"display:none;\">\n",
              "        \n",
              "  <svg xmlns=\"http://www.w3.org/2000/svg\" height=\"24px\"viewBox=\"0 0 24 24\"\n",
              "       width=\"24px\">\n",
              "    <path d=\"M0 0h24v24H0V0z\" fill=\"none\"/>\n",
              "    <path d=\"M18.56 5.44l.94 2.06.94-2.06 2.06-.94-2.06-.94-.94-2.06-.94 2.06-2.06.94zm-11 1L8.5 8.5l.94-2.06 2.06-.94-2.06-.94L8.5 2.5l-.94 2.06-2.06.94zm10 10l.94 2.06.94-2.06 2.06-.94-2.06-.94-.94-2.06-.94 2.06-2.06.94z\"/><path d=\"M17.41 7.96l-1.37-1.37c-.4-.4-.92-.59-1.43-.59-.52 0-1.04.2-1.43.59L10.3 9.45l-7.72 7.72c-.78.78-.78 2.05 0 2.83L4 21.41c.39.39.9.59 1.41.59.51 0 1.02-.2 1.41-.59l7.78-7.78 2.81-2.81c.8-.78.8-2.07 0-2.86zM5.41 20L4 18.59l7.72-7.72 1.47 1.35L5.41 20z\"/>\n",
              "  </svg>\n",
              "      </button>\n",
              "      \n",
              "  <style>\n",
              "    .colab-df-container {\n",
              "      display:flex;\n",
              "      flex-wrap:wrap;\n",
              "      gap: 12px;\n",
              "    }\n",
              "\n",
              "    .colab-df-convert {\n",
              "      background-color: #E8F0FE;\n",
              "      border: none;\n",
              "      border-radius: 50%;\n",
              "      cursor: pointer;\n",
              "      display: none;\n",
              "      fill: #1967D2;\n",
              "      height: 32px;\n",
              "      padding: 0 0 0 0;\n",
              "      width: 32px;\n",
              "    }\n",
              "\n",
              "    .colab-df-convert:hover {\n",
              "      background-color: #E2EBFA;\n",
              "      box-shadow: 0px 1px 2px rgba(60, 64, 67, 0.3), 0px 1px 3px 1px rgba(60, 64, 67, 0.15);\n",
              "      fill: #174EA6;\n",
              "    }\n",
              "\n",
              "    [theme=dark] .colab-df-convert {\n",
              "      background-color: #3B4455;\n",
              "      fill: #D2E3FC;\n",
              "    }\n",
              "\n",
              "    [theme=dark] .colab-df-convert:hover {\n",
              "      background-color: #434B5C;\n",
              "      box-shadow: 0px 1px 3px 1px rgba(0, 0, 0, 0.15);\n",
              "      filter: drop-shadow(0px 1px 2px rgba(0, 0, 0, 0.3));\n",
              "      fill: #FFFFFF;\n",
              "    }\n",
              "  </style>\n",
              "\n",
              "      <script>\n",
              "        const buttonEl =\n",
              "          document.querySelector('#df-d90341c4-e772-4870-a36b-94f5f9361bb9 button.colab-df-convert');\n",
              "        buttonEl.style.display =\n",
              "          google.colab.kernel.accessAllowed ? 'block' : 'none';\n",
              "\n",
              "        async function convertToInteractive(key) {\n",
              "          const element = document.querySelector('#df-d90341c4-e772-4870-a36b-94f5f9361bb9');\n",
              "          const dataTable =\n",
              "            await google.colab.kernel.invokeFunction('convertToInteractive',\n",
              "                                                     [key], {});\n",
              "          if (!dataTable) return;\n",
              "\n",
              "          const docLinkHtml = 'Like what you see? Visit the ' +\n",
              "            '<a target=\"_blank\" href=https://colab.research.google.com/notebooks/data_table.ipynb>data table notebook</a>'\n",
              "            + ' to learn more about interactive tables.';\n",
              "          element.innerHTML = '';\n",
              "          dataTable['output_type'] = 'display_data';\n",
              "          await google.colab.output.renderOutput(dataTable, element);\n",
              "          const docLink = document.createElement('div');\n",
              "          docLink.innerHTML = docLinkHtml;\n",
              "          element.appendChild(docLink);\n",
              "        }\n",
              "      </script>\n",
              "    </div>\n",
              "  </div>\n",
              "  "
            ]
          },
          "metadata": {},
          "execution_count": 59
        }
      ],
      "source": [
        "# Check that the function works\n",
        "borrower_data[borrower_data['days_employed'].isnull()]"
      ]
    },
    {
      "cell_type": "markdown",
      "metadata": {
        "id": "7XrY3McEQtwb"
      },
      "source": [
        "[When you think you've finished with `total_income`, check that the total number of values in this column matches the number of values in other ones.]"
      ]
    },
    {
      "cell_type": "code",
      "execution_count": 60,
      "metadata": {
        "scrolled": true,
        "colab": {
          "base_uri": "https://localhost:8080/"
        },
        "id": "0vXMHNdSQtwb",
        "outputId": "5a5147f5-8ada-414f-8533-cb64e15edae0"
      },
      "outputs": [
        {
          "output_type": "execute_result",
          "data": {
            "text/plain": [
              "children               0\n",
              "days_employed          0\n",
              "dob_years              0\n",
              "education              0\n",
              "education_id           0\n",
              "family_status          0\n",
              "family_status_id       0\n",
              "gender                 0\n",
              "income_type            0\n",
              "debt                   0\n",
              "total_income           0\n",
              "purpose                0\n",
              "education_lowercase    0\n",
              "category_by_age        0\n",
              "dtype: int64"
            ]
          },
          "metadata": {},
          "execution_count": 60
        }
      ],
      "source": [
        "# Check the entries in all columns - make sure we fixed all missing values\n",
        "borrower_data.isnull().sum()\n"
      ]
    },
    {
      "cell_type": "markdown",
      "metadata": {
        "id": "VOEy-DRKQtwb"
      },
      "source": [
        "## Categorization of data"
      ]
    },
    {
      "cell_type": "code",
      "execution_count": 61,
      "metadata": {
        "scrolled": true,
        "colab": {
          "base_uri": "https://localhost:8080/"
        },
        "id": "mUoTiL8UQtwb",
        "outputId": "bd11adde-9439-4d2d-966a-a9a2d33125a5"
      },
      "outputs": [
        {
          "output_type": "execute_result",
          "data": {
            "text/plain": [
              "count                21469\n",
              "unique                  38\n",
              "top       wedding ceremony\n",
              "freq                   793\n",
              "Name: purpose, dtype: object"
            ]
          },
          "metadata": {},
          "execution_count": 61
        }
      ],
      "source": [
        "# Print the values for your selected data for categorization\n",
        "borrower_data['purpose'].describe()"
      ]
    },
    {
      "cell_type": "markdown",
      "metadata": {
        "id": "jPsaqaNuQtwc"
      },
      "source": [
        "Let's check unique values"
      ]
    },
    {
      "cell_type": "code",
      "execution_count": 62,
      "metadata": {
        "colab": {
          "base_uri": "https://localhost:8080/"
        },
        "id": "WRT3FlmpQtwc",
        "outputId": "3731721d-1e5d-48b2-b428-983423e43531"
      },
      "outputs": [
        {
          "output_type": "execute_result",
          "data": {
            "text/plain": [
              "array(['purchase of the house', 'car purchase', 'supplementary education',\n",
              "       'to have a wedding', 'housing transactions', 'education',\n",
              "       'having a wedding', 'purchase of the house for my family',\n",
              "       'buy real estate', 'buy commercial real estate',\n",
              "       'buy residential real estate', 'construction of own property',\n",
              "       'property', 'building a property', 'buying a second-hand car',\n",
              "       'buying my own car', 'transactions with commercial real estate',\n",
              "       'building a real estate', 'housing',\n",
              "       'transactions with my real estate', 'cars', 'to become educated',\n",
              "       'second-hand car purchase', 'getting an education', 'car',\n",
              "       'wedding ceremony', 'to get a supplementary education',\n",
              "       'purchase of my own house', 'real estate transactions',\n",
              "       'getting higher education', 'to own a car', 'purchase of a car',\n",
              "       'profile education', 'university education',\n",
              "       'buying property for renting out', 'to buy a car',\n",
              "       'housing renovation', 'going to university'], dtype=object)"
            ]
          },
          "metadata": {},
          "execution_count": 62
        }
      ],
      "source": [
        "# Check the unique values\n",
        "borrower_data['purpose'].unique() \n"
      ]
    },
    {
      "cell_type": "code",
      "execution_count": 63,
      "metadata": {
        "id": "GieZ6n1bQtwc"
      },
      "outputs": [],
      "source": [
        "wordnet_lemma = WordNetLemmatizer()"
      ]
    },
    {
      "cell_type": "code",
      "execution_count": 67,
      "metadata": {
        "colab": {
          "base_uri": "https://localhost:8080/"
        },
        "id": "EW-7y0wsQtwc",
        "outputId": "02c06ff0-818d-4427-cce9-37e1f1d734d5"
      },
      "outputs": [
        {
          "output_type": "stream",
          "name": "stdout",
          "text": [
            "['purchase', 'of', 'the', 'house']\n",
            "['purchase', 'of', 'the', 'house']\n"
          ]
        }
      ],
      "source": [
        "phrase = 'purchase of the house'\n",
        "token = nltk.word_tokenize(phrase)\n",
        "print(token)\n",
        "lemmas = [wordnet_lemma.lemmatize(t, pos = 'n') for t in token]\n",
        "print(lemmas)"
      ]
    },
    {
      "cell_type": "code",
      "execution_count": 68,
      "metadata": {
        "colab": {
          "base_uri": "https://localhost:8080/"
        },
        "id": "E3E9YiiGQtwc",
        "outputId": "a43e501f-b325-430a-cb60-76c0f9181800"
      },
      "outputs": [
        {
          "output_type": "execute_result",
          "data": {
            "text/plain": [
              "['purchase',\n",
              " 'of',\n",
              " 'the',\n",
              " 'house',\n",
              " 'car',\n",
              " 'purchase',\n",
              " 'supplementary',\n",
              " 'education',\n",
              " 'to',\n",
              " 'have',\n",
              " 'a',\n",
              " 'wedding',\n",
              " 'housing',\n",
              " 'transaction',\n",
              " 'education',\n",
              " 'having',\n",
              " 'a',\n",
              " 'wedding',\n",
              " 'purchase',\n",
              " 'of',\n",
              " 'the',\n",
              " 'house',\n",
              " 'for',\n",
              " 'my',\n",
              " 'family',\n",
              " 'buy',\n",
              " 'real',\n",
              " 'estate',\n",
              " 'buy',\n",
              " 'commercial',\n",
              " 'real',\n",
              " 'estate',\n",
              " 'buy',\n",
              " 'residential',\n",
              " 'real',\n",
              " 'estate',\n",
              " 'construction',\n",
              " 'of',\n",
              " 'own',\n",
              " 'property',\n",
              " 'property',\n",
              " 'building',\n",
              " 'a',\n",
              " 'property',\n",
              " 'buying',\n",
              " 'a',\n",
              " 'second-hand',\n",
              " 'car',\n",
              " 'buying',\n",
              " 'my',\n",
              " 'own',\n",
              " 'car',\n",
              " 'transaction',\n",
              " 'with',\n",
              " 'commercial',\n",
              " 'real',\n",
              " 'estate',\n",
              " 'building',\n",
              " 'a',\n",
              " 'real',\n",
              " 'estate',\n",
              " 'housing',\n",
              " 'transaction',\n",
              " 'with',\n",
              " 'my',\n",
              " 'real',\n",
              " 'estate',\n",
              " 'car',\n",
              " 'to',\n",
              " 'become',\n",
              " 'educated',\n",
              " 'second-hand',\n",
              " 'car',\n",
              " 'purchase',\n",
              " 'getting',\n",
              " 'an',\n",
              " 'education',\n",
              " 'car',\n",
              " 'wedding',\n",
              " 'ceremony',\n",
              " 'to',\n",
              " 'get',\n",
              " 'a',\n",
              " 'supplementary',\n",
              " 'education',\n",
              " 'purchase',\n",
              " 'of',\n",
              " 'my',\n",
              " 'own',\n",
              " 'house',\n",
              " 'real',\n",
              " 'estate',\n",
              " 'transaction',\n",
              " 'getting',\n",
              " 'higher',\n",
              " 'education',\n",
              " 'to',\n",
              " 'own',\n",
              " 'a',\n",
              " 'car',\n",
              " 'purchase',\n",
              " 'of',\n",
              " 'a',\n",
              " 'car',\n",
              " 'profile',\n",
              " 'education',\n",
              " 'university',\n",
              " 'education',\n",
              " 'buying',\n",
              " 'property',\n",
              " 'for',\n",
              " 'renting',\n",
              " 'out',\n",
              " 'to',\n",
              " 'buy',\n",
              " 'a',\n",
              " 'car',\n",
              " 'housing',\n",
              " 'renovation',\n",
              " 'going',\n",
              " 'to',\n",
              " 'university']"
            ]
          },
          "metadata": {},
          "execution_count": 68
        }
      ],
      "source": [
        "lemmas_list = []\n",
        "\n",
        "for purpose in borrower_data['purpose'].unique():\n",
        "    words = nltk.word_tokenize(purpose)\n",
        "    lemmas = [wordnet_lemma.lemmatize(w, pos = 'n') for w in words]\n",
        "    for i in lemmas:\n",
        "        lemmas_list.append(i)\n",
        "        \n",
        "lemmas_list"
      ]
    },
    {
      "cell_type": "code",
      "execution_count": 69,
      "metadata": {
        "colab": {
          "base_uri": "https://localhost:8080/"
        },
        "id": "_zUv4fBxQtwc",
        "outputId": "4aeccda1-6be4-439d-eebd-acaefa7136e8"
      },
      "outputs": [
        {
          "output_type": "execute_result",
          "data": {
            "text/plain": [
              "Counter({'a': 9,\n",
              "         'an': 1,\n",
              "         'become': 1,\n",
              "         'building': 2,\n",
              "         'buy': 4,\n",
              "         'buying': 3,\n",
              "         'car': 9,\n",
              "         'ceremony': 1,\n",
              "         'commercial': 2,\n",
              "         'construction': 1,\n",
              "         'educated': 1,\n",
              "         'education': 7,\n",
              "         'estate': 7,\n",
              "         'family': 1,\n",
              "         'for': 2,\n",
              "         'get': 1,\n",
              "         'getting': 2,\n",
              "         'going': 1,\n",
              "         'have': 1,\n",
              "         'having': 1,\n",
              "         'higher': 1,\n",
              "         'house': 3,\n",
              "         'housing': 3,\n",
              "         'my': 4,\n",
              "         'of': 5,\n",
              "         'out': 1,\n",
              "         'own': 4,\n",
              "         'profile': 1,\n",
              "         'property': 4,\n",
              "         'purchase': 6,\n",
              "         'real': 7,\n",
              "         'renovation': 1,\n",
              "         'renting': 1,\n",
              "         'residential': 1,\n",
              "         'second-hand': 2,\n",
              "         'supplementary': 2,\n",
              "         'the': 2,\n",
              "         'to': 6,\n",
              "         'transaction': 4,\n",
              "         'university': 2,\n",
              "         'wedding': 3,\n",
              "         'with': 2})"
            ]
          },
          "metadata": {},
          "execution_count": 69
        }
      ],
      "source": [
        "from collections import Counter\n",
        "\n",
        "Counter(lemmas_list)"
      ]
    },
    {
      "cell_type": "markdown",
      "metadata": {
        "id": "DOwQXH5PQtwc"
      },
      "source": [
        "By having looked at the list of our keywords we can state some new cregories for our data:"
      ]
    },
    {
      "cell_type": "code",
      "execution_count": 70,
      "metadata": {
        "id": "TDxZo0tOQtwd"
      },
      "outputs": [],
      "source": [
        "# Let's write a function to categorize the data based on common topics\n",
        "education_phrases = ['education', 'educated', 'university']\n"
      ]
    },
    {
      "cell_type": "code",
      "execution_count": 71,
      "metadata": {
        "id": "xWcwhqUqQtwd"
      },
      "outputs": [],
      "source": [
        "real_estate_phrases = ['house', 'housing', 'real', 'estate', \n",
        "                       'commercial','residential', 'construction', \n",
        "                       'property', 'building', 'renting', 'renovation']"
      ]
    },
    {
      "cell_type": "code",
      "execution_count": 72,
      "metadata": {
        "id": "cfnmFnyuQtwd"
      },
      "outputs": [],
      "source": [
        "wedding_phrases = ['wedding', 'ceremony']"
      ]
    },
    {
      "cell_type": "code",
      "execution_count": 73,
      "metadata": {
        "id": "MW44Z8RaQtwd"
      },
      "outputs": [],
      "source": [
        "vehicle_phrases = ['car','cars']"
      ]
    },
    {
      "cell_type": "markdown",
      "metadata": {
        "id": "CIjQs5G8Qtwd"
      },
      "source": [
        "Lets start our function by testing it just on one phrase"
      ]
    },
    {
      "cell_type": "code",
      "execution_count": 74,
      "metadata": {
        "id": "aA9Ot1reQtwd"
      },
      "outputs": [],
      "source": [
        "def purpose_category(purpose):\n",
        "    category=[]\n",
        "    words = nltk.word_tokenize(purpose)\n",
        "    lemmas = [wordnet_lemma.lemmatize(w, pos = 'n') for w in words]\n",
        "    for word in lemmas: \n",
        "        return lemmas"
      ]
    },
    {
      "cell_type": "code",
      "execution_count": 75,
      "metadata": {
        "colab": {
          "base_uri": "https://localhost:8080/"
        },
        "id": "PYFdhK9hQtwg",
        "outputId": "adb59898-55b1-4d56-e357-955b845a8e0b"
      },
      "outputs": [
        {
          "output_type": "execute_result",
          "data": {
            "text/plain": [
              "['purchase', 'of', 'the', 'house']"
            ]
          },
          "metadata": {},
          "execution_count": 75
        }
      ],
      "source": [
        "test = borrower_data.loc[0]['purpose']\n",
        "purpose_category(test)"
      ]
    },
    {
      "cell_type": "markdown",
      "metadata": {
        "id": "UJKtl3F1Qtwg"
      },
      "source": [
        "Now we can finish composing our function"
      ]
    },
    {
      "cell_type": "code",
      "execution_count": 76,
      "metadata": {
        "id": "_JdzWA8BQtwg"
      },
      "outputs": [],
      "source": [
        "def purpose_category(purpose):\n",
        "    category=[]\n",
        "    words = nltk.word_tokenize(purpose)\n",
        "    lemmas = [wordnet_lemma.lemmatize(w, pos = 'n') for w in words] \n",
        "    if any(word in lemmas for word in education_phrases):\n",
        "        return 'education'\n",
        "    elif  any(word in lemmas for word in real_estate_phrases):\n",
        "        return 'real estate expenses'\n",
        "    elif  any(word in lemmas for word in wedding_phrases):\n",
        "        return 'wedding expenses'\n",
        "    elif  any(word in lemmas for word in vehicle_phrases):\n",
        "        return 'vehicle purchase'\n"
      ]
    },
    {
      "cell_type": "code",
      "execution_count": 77,
      "metadata": {
        "id": "VUM0oMceQtwh"
      },
      "outputs": [],
      "source": [
        "# Create a column with the categories and count the values for them\n",
        "borrower_data['category_by_purpose'] = borrower_data['purpose'].apply(purpose_category)"
      ]
    },
    {
      "cell_type": "code",
      "execution_count": 78,
      "metadata": {
        "colab": {
          "base_uri": "https://localhost:8080/"
        },
        "id": "JyA1vUBCQtwh",
        "outputId": "64f23d92-7c07-46f1-aac3-1647594a4a27"
      },
      "outputs": [
        {
          "output_type": "execute_result",
          "data": {
            "text/plain": [
              "real estate expenses    10813\n",
              "vehicle purchase         4308\n",
              "education                4014\n",
              "wedding expenses         2334\n",
              "Name: category_by_purpose, dtype: int64"
            ]
          },
          "metadata": {},
          "execution_count": 78
        }
      ],
      "source": [
        "borrower_data['category_by_purpose'].value_counts()"
      ]
    },
    {
      "cell_type": "code",
      "execution_count": 79,
      "metadata": {
        "colab": {
          "base_uri": "https://localhost:8080/"
        },
        "id": "I_KlDTdGQtwh",
        "outputId": "698592cf-b1e2-4a7e-c632-bdb827e21aa7"
      },
      "outputs": [
        {
          "output_type": "execute_result",
          "data": {
            "text/plain": [
              "0        40620.102\n",
              "1        17932.802\n",
              "2        23341.752\n",
              "3        42820.568\n",
              "4        25378.572\n",
              "           ...    \n",
              "21520    35966.698\n",
              "21521    24959.969\n",
              "21522    14347.610\n",
              "21523    39054.888\n",
              "21524    13127.587\n",
              "Name: total_income, Length: 21469, dtype: float64"
            ]
          },
          "metadata": {},
          "execution_count": 79
        }
      ],
      "source": [
        "# Looking through all the numerical data in your selected column for categorization\n",
        "borrower_data['total_income']"
      ]
    },
    {
      "cell_type": "code",
      "execution_count": 80,
      "metadata": {
        "colab": {
          "base_uri": "https://localhost:8080/"
        },
        "id": "j7VusVapQtwh",
        "outputId": "599ee81e-d8c3-44c2-e5f7-00b58d640b2a"
      },
      "outputs": [
        {
          "output_type": "execute_result",
          "data": {
            "text/plain": [
              "count     21469.000000\n",
              "mean      26447.078473\n",
              "std       15705.198189\n",
              "min        3306.762000\n",
              "25%       17224.099000\n",
              "50%       22815.103500\n",
              "75%       31320.429000\n",
              "max      362496.645000\n",
              "Name: total_income, dtype: float64"
            ]
          },
          "metadata": {},
          "execution_count": 80
        }
      ],
      "source": [
        "# Getting summary statistics for the column\n",
        "borrower_data['total_income'].describe()"
      ]
    },
    {
      "cell_type": "markdown",
      "metadata": {
        "id": "eZUx63IOQtwh"
      },
      "source": [
        "By having a look at the statistic charachteristics in the `total income` we can recognize approximate levels as per the quartiles."
      ]
    },
    {
      "cell_type": "code",
      "execution_count": 81,
      "metadata": {
        "id": "-3XK7F1qQtwh"
      },
      "outputs": [],
      "source": [
        "# Creating function for categorizing into different numerical groups based on ranges\n",
        "def income_category(income):\n",
        "    if income < 15000:\n",
        "        return 'low level'\n",
        "    if 15001 < income < 25000:\n",
        "        return 'middle level'\n",
        "    if 25001 < income < 30000:\n",
        "        return 'above middle level'\n",
        "    elif income > 30001:\n",
        "        return 'high level'"
      ]
    },
    {
      "cell_type": "code",
      "execution_count": 82,
      "metadata": {
        "id": "e5EbhCA8Qtwi"
      },
      "outputs": [],
      "source": [
        "# Creating column with categories\n",
        "borrower_data['category_by_income'] = borrower_data['total_income'].apply(income_category)"
      ]
    },
    {
      "cell_type": "code",
      "execution_count": 83,
      "metadata": {
        "colab": {
          "base_uri": "https://localhost:8080/"
        },
        "id": "nF4mxFyeQtwi",
        "outputId": "057733c3-2e00-45f3-8264-011e7031ec55"
      },
      "outputs": [
        {
          "output_type": "execute_result",
          "data": {
            "text/plain": [
              "middle level          8618\n",
              "high level            5919\n",
              "low level             3743\n",
              "above middle level    3185\n",
              "Name: category_by_income, dtype: int64"
            ]
          },
          "metadata": {},
          "execution_count": 83
        }
      ],
      "source": [
        "# Count each categories values to see the distribution\n",
        "borrower_data['category_by_income'].value_counts()"
      ]
    },
    {
      "cell_type": "markdown",
      "metadata": {
        "id": "mKvX9dogQtwi"
      },
      "source": [
        "## Checking the Hypotheses\n"
      ]
    },
    {
      "cell_type": "markdown",
      "metadata": {
        "id": "P0Ke-Q4dQtwi"
      },
      "source": [
        "**Is there a correlation between having children and paying back on time?**"
      ]
    },
    {
      "cell_type": "code",
      "execution_count": 84,
      "metadata": {
        "colab": {
          "base_uri": "https://localhost:8080/",
          "height": 477
        },
        "id": "fTXyHn6QQtwi",
        "outputId": "1d30be4f-a35a-4859-e841-25e4c2812748"
      },
      "outputs": [
        {
          "output_type": "stream",
          "name": "stdout",
          "text": [
            "children  debt\n",
            "0         0       13042\n",
            "          1        1063\n",
            "1         0        4411\n",
            "          1         445\n",
            "2         0        1926\n",
            "          1         202\n",
            "3         0         303\n",
            "          1          27\n",
            "4         0          37\n",
            "          1           4\n",
            "5         0           9\n",
            "Name: debt, dtype: int64\n"
          ]
        },
        {
          "output_type": "execute_result",
          "data": {
            "text/plain": [
              "   children      debt\n",
              "5         5  0.000000\n",
              "0         0  0.075363\n",
              "3         3  0.081818\n",
              "1         1  0.091639\n",
              "2         2  0.094925\n",
              "4         4  0.097561"
            ],
            "text/html": [
              "\n",
              "  <div id=\"df-4bf4f61e-89cb-4b26-9309-fff8c7fb417e\">\n",
              "    <div class=\"colab-df-container\">\n",
              "      <div>\n",
              "<style scoped>\n",
              "    .dataframe tbody tr th:only-of-type {\n",
              "        vertical-align: middle;\n",
              "    }\n",
              "\n",
              "    .dataframe tbody tr th {\n",
              "        vertical-align: top;\n",
              "    }\n",
              "\n",
              "    .dataframe thead th {\n",
              "        text-align: right;\n",
              "    }\n",
              "</style>\n",
              "<table border=\"1\" class=\"dataframe\">\n",
              "  <thead>\n",
              "    <tr style=\"text-align: right;\">\n",
              "      <th></th>\n",
              "      <th>children</th>\n",
              "      <th>debt</th>\n",
              "    </tr>\n",
              "  </thead>\n",
              "  <tbody>\n",
              "    <tr>\n",
              "      <th>5</th>\n",
              "      <td>5</td>\n",
              "      <td>0.000000</td>\n",
              "    </tr>\n",
              "    <tr>\n",
              "      <th>0</th>\n",
              "      <td>0</td>\n",
              "      <td>0.075363</td>\n",
              "    </tr>\n",
              "    <tr>\n",
              "      <th>3</th>\n",
              "      <td>3</td>\n",
              "      <td>0.081818</td>\n",
              "    </tr>\n",
              "    <tr>\n",
              "      <th>1</th>\n",
              "      <td>1</td>\n",
              "      <td>0.091639</td>\n",
              "    </tr>\n",
              "    <tr>\n",
              "      <th>2</th>\n",
              "      <td>2</td>\n",
              "      <td>0.094925</td>\n",
              "    </tr>\n",
              "    <tr>\n",
              "      <th>4</th>\n",
              "      <td>4</td>\n",
              "      <td>0.097561</td>\n",
              "    </tr>\n",
              "  </tbody>\n",
              "</table>\n",
              "</div>\n",
              "      <button class=\"colab-df-convert\" onclick=\"convertToInteractive('df-4bf4f61e-89cb-4b26-9309-fff8c7fb417e')\"\n",
              "              title=\"Convert this dataframe to an interactive table.\"\n",
              "              style=\"display:none;\">\n",
              "        \n",
              "  <svg xmlns=\"http://www.w3.org/2000/svg\" height=\"24px\"viewBox=\"0 0 24 24\"\n",
              "       width=\"24px\">\n",
              "    <path d=\"M0 0h24v24H0V0z\" fill=\"none\"/>\n",
              "    <path d=\"M18.56 5.44l.94 2.06.94-2.06 2.06-.94-2.06-.94-.94-2.06-.94 2.06-2.06.94zm-11 1L8.5 8.5l.94-2.06 2.06-.94-2.06-.94L8.5 2.5l-.94 2.06-2.06.94zm10 10l.94 2.06.94-2.06 2.06-.94-2.06-.94-.94-2.06-.94 2.06-2.06.94z\"/><path d=\"M17.41 7.96l-1.37-1.37c-.4-.4-.92-.59-1.43-.59-.52 0-1.04.2-1.43.59L10.3 9.45l-7.72 7.72c-.78.78-.78 2.05 0 2.83L4 21.41c.39.39.9.59 1.41.59.51 0 1.02-.2 1.41-.59l7.78-7.78 2.81-2.81c.8-.78.8-2.07 0-2.86zM5.41 20L4 18.59l7.72-7.72 1.47 1.35L5.41 20z\"/>\n",
              "  </svg>\n",
              "      </button>\n",
              "      \n",
              "  <style>\n",
              "    .colab-df-container {\n",
              "      display:flex;\n",
              "      flex-wrap:wrap;\n",
              "      gap: 12px;\n",
              "    }\n",
              "\n",
              "    .colab-df-convert {\n",
              "      background-color: #E8F0FE;\n",
              "      border: none;\n",
              "      border-radius: 50%;\n",
              "      cursor: pointer;\n",
              "      display: none;\n",
              "      fill: #1967D2;\n",
              "      height: 32px;\n",
              "      padding: 0 0 0 0;\n",
              "      width: 32px;\n",
              "    }\n",
              "\n",
              "    .colab-df-convert:hover {\n",
              "      background-color: #E2EBFA;\n",
              "      box-shadow: 0px 1px 2px rgba(60, 64, 67, 0.3), 0px 1px 3px 1px rgba(60, 64, 67, 0.15);\n",
              "      fill: #174EA6;\n",
              "    }\n",
              "\n",
              "    [theme=dark] .colab-df-convert {\n",
              "      background-color: #3B4455;\n",
              "      fill: #D2E3FC;\n",
              "    }\n",
              "\n",
              "    [theme=dark] .colab-df-convert:hover {\n",
              "      background-color: #434B5C;\n",
              "      box-shadow: 0px 1px 3px 1px rgba(0, 0, 0, 0.15);\n",
              "      filter: drop-shadow(0px 1px 2px rgba(0, 0, 0, 0.3));\n",
              "      fill: #FFFFFF;\n",
              "    }\n",
              "  </style>\n",
              "\n",
              "      <script>\n",
              "        const buttonEl =\n",
              "          document.querySelector('#df-4bf4f61e-89cb-4b26-9309-fff8c7fb417e button.colab-df-convert');\n",
              "        buttonEl.style.display =\n",
              "          google.colab.kernel.accessAllowed ? 'block' : 'none';\n",
              "\n",
              "        async function convertToInteractive(key) {\n",
              "          const element = document.querySelector('#df-4bf4f61e-89cb-4b26-9309-fff8c7fb417e');\n",
              "          const dataTable =\n",
              "            await google.colab.kernel.invokeFunction('convertToInteractive',\n",
              "                                                     [key], {});\n",
              "          if (!dataTable) return;\n",
              "\n",
              "          const docLinkHtml = 'Like what you see? Visit the ' +\n",
              "            '<a target=\"_blank\" href=https://colab.research.google.com/notebooks/data_table.ipynb>data table notebook</a>'\n",
              "            + ' to learn more about interactive tables.';\n",
              "          element.innerHTML = '';\n",
              "          dataTable['output_type'] = 'display_data';\n",
              "          await google.colab.output.renderOutput(dataTable, element);\n",
              "          const docLink = document.createElement('div');\n",
              "          docLink.innerHTML = docLinkHtml;\n",
              "          element.appendChild(docLink);\n",
              "        }\n",
              "      </script>\n",
              "    </div>\n",
              "  </div>\n",
              "  "
            ]
          },
          "metadata": {},
          "execution_count": 84
        }
      ],
      "source": [
        "# Check the children data and paying back on time\n",
        "print(borrower_data.groupby('children')['debt'].value_counts())\n",
        "\n",
        "# Calculating default-rate based on the number of children\n",
        "borrower_data.groupby(['children'])['debt'].mean().reset_index().sort_values(by='debt')\n"
      ]
    },
    {
      "cell_type": "markdown",
      "metadata": {
        "id": "lnmrGYuEQtwj"
      },
      "source": [
        "**Conclusion**\n",
        "We can see that all the clients with 5 children have paid back their loan."
      ]
    },
    {
      "cell_type": "markdown",
      "metadata": {
        "id": "6LBqTIYTQtwj"
      },
      "source": [
        "**Is there a correlation between family status and paying back on time?**"
      ]
    },
    {
      "cell_type": "code",
      "execution_count": 85,
      "metadata": {
        "colab": {
          "base_uri": "https://localhost:8080/",
          "height": 428
        },
        "id": "KD_QaDseQtwj",
        "outputId": "e0777f4a-2a36-4313-bc33-df4aa6938a7c"
      },
      "outputs": [
        {
          "output_type": "stream",
          "name": "stdout",
          "text": [
            "family_status      debt\n",
            "civil partnership  0        3773\n",
            "                   1         388\n",
            "divorced           0        1110\n",
            "                   1          85\n",
            "married            0       11413\n",
            "                   1         931\n",
            "unmarried          0        2536\n",
            "                   1         274\n",
            "widow / widower    0         896\n",
            "                   1          63\n",
            "Name: debt, dtype: int64\n"
          ]
        },
        {
          "output_type": "execute_result",
          "data": {
            "text/plain": [
              "       family_status      debt\n",
              "4    widow / widower  0.065693\n",
              "1           divorced  0.071130\n",
              "2            married  0.075421\n",
              "0  civil partnership  0.093247\n",
              "3          unmarried  0.097509"
            ],
            "text/html": [
              "\n",
              "  <div id=\"df-873291c5-73de-4518-9d92-1bf91e14c9da\">\n",
              "    <div class=\"colab-df-container\">\n",
              "      <div>\n",
              "<style scoped>\n",
              "    .dataframe tbody tr th:only-of-type {\n",
              "        vertical-align: middle;\n",
              "    }\n",
              "\n",
              "    .dataframe tbody tr th {\n",
              "        vertical-align: top;\n",
              "    }\n",
              "\n",
              "    .dataframe thead th {\n",
              "        text-align: right;\n",
              "    }\n",
              "</style>\n",
              "<table border=\"1\" class=\"dataframe\">\n",
              "  <thead>\n",
              "    <tr style=\"text-align: right;\">\n",
              "      <th></th>\n",
              "      <th>family_status</th>\n",
              "      <th>debt</th>\n",
              "    </tr>\n",
              "  </thead>\n",
              "  <tbody>\n",
              "    <tr>\n",
              "      <th>4</th>\n",
              "      <td>widow / widower</td>\n",
              "      <td>0.065693</td>\n",
              "    </tr>\n",
              "    <tr>\n",
              "      <th>1</th>\n",
              "      <td>divorced</td>\n",
              "      <td>0.071130</td>\n",
              "    </tr>\n",
              "    <tr>\n",
              "      <th>2</th>\n",
              "      <td>married</td>\n",
              "      <td>0.075421</td>\n",
              "    </tr>\n",
              "    <tr>\n",
              "      <th>0</th>\n",
              "      <td>civil partnership</td>\n",
              "      <td>0.093247</td>\n",
              "    </tr>\n",
              "    <tr>\n",
              "      <th>3</th>\n",
              "      <td>unmarried</td>\n",
              "      <td>0.097509</td>\n",
              "    </tr>\n",
              "  </tbody>\n",
              "</table>\n",
              "</div>\n",
              "      <button class=\"colab-df-convert\" onclick=\"convertToInteractive('df-873291c5-73de-4518-9d92-1bf91e14c9da')\"\n",
              "              title=\"Convert this dataframe to an interactive table.\"\n",
              "              style=\"display:none;\">\n",
              "        \n",
              "  <svg xmlns=\"http://www.w3.org/2000/svg\" height=\"24px\"viewBox=\"0 0 24 24\"\n",
              "       width=\"24px\">\n",
              "    <path d=\"M0 0h24v24H0V0z\" fill=\"none\"/>\n",
              "    <path d=\"M18.56 5.44l.94 2.06.94-2.06 2.06-.94-2.06-.94-.94-2.06-.94 2.06-2.06.94zm-11 1L8.5 8.5l.94-2.06 2.06-.94-2.06-.94L8.5 2.5l-.94 2.06-2.06.94zm10 10l.94 2.06.94-2.06 2.06-.94-2.06-.94-.94-2.06-.94 2.06-2.06.94z\"/><path d=\"M17.41 7.96l-1.37-1.37c-.4-.4-.92-.59-1.43-.59-.52 0-1.04.2-1.43.59L10.3 9.45l-7.72 7.72c-.78.78-.78 2.05 0 2.83L4 21.41c.39.39.9.59 1.41.59.51 0 1.02-.2 1.41-.59l7.78-7.78 2.81-2.81c.8-.78.8-2.07 0-2.86zM5.41 20L4 18.59l7.72-7.72 1.47 1.35L5.41 20z\"/>\n",
              "  </svg>\n",
              "      </button>\n",
              "      \n",
              "  <style>\n",
              "    .colab-df-container {\n",
              "      display:flex;\n",
              "      flex-wrap:wrap;\n",
              "      gap: 12px;\n",
              "    }\n",
              "\n",
              "    .colab-df-convert {\n",
              "      background-color: #E8F0FE;\n",
              "      border: none;\n",
              "      border-radius: 50%;\n",
              "      cursor: pointer;\n",
              "      display: none;\n",
              "      fill: #1967D2;\n",
              "      height: 32px;\n",
              "      padding: 0 0 0 0;\n",
              "      width: 32px;\n",
              "    }\n",
              "\n",
              "    .colab-df-convert:hover {\n",
              "      background-color: #E2EBFA;\n",
              "      box-shadow: 0px 1px 2px rgba(60, 64, 67, 0.3), 0px 1px 3px 1px rgba(60, 64, 67, 0.15);\n",
              "      fill: #174EA6;\n",
              "    }\n",
              "\n",
              "    [theme=dark] .colab-df-convert {\n",
              "      background-color: #3B4455;\n",
              "      fill: #D2E3FC;\n",
              "    }\n",
              "\n",
              "    [theme=dark] .colab-df-convert:hover {\n",
              "      background-color: #434B5C;\n",
              "      box-shadow: 0px 1px 3px 1px rgba(0, 0, 0, 0.15);\n",
              "      filter: drop-shadow(0px 1px 2px rgba(0, 0, 0, 0.3));\n",
              "      fill: #FFFFFF;\n",
              "    }\n",
              "  </style>\n",
              "\n",
              "      <script>\n",
              "        const buttonEl =\n",
              "          document.querySelector('#df-873291c5-73de-4518-9d92-1bf91e14c9da button.colab-df-convert');\n",
              "        buttonEl.style.display =\n",
              "          google.colab.kernel.accessAllowed ? 'block' : 'none';\n",
              "\n",
              "        async function convertToInteractive(key) {\n",
              "          const element = document.querySelector('#df-873291c5-73de-4518-9d92-1bf91e14c9da');\n",
              "          const dataTable =\n",
              "            await google.colab.kernel.invokeFunction('convertToInteractive',\n",
              "                                                     [key], {});\n",
              "          if (!dataTable) return;\n",
              "\n",
              "          const docLinkHtml = 'Like what you see? Visit the ' +\n",
              "            '<a target=\"_blank\" href=https://colab.research.google.com/notebooks/data_table.ipynb>data table notebook</a>'\n",
              "            + ' to learn more about interactive tables.';\n",
              "          element.innerHTML = '';\n",
              "          dataTable['output_type'] = 'display_data';\n",
              "          await google.colab.output.renderOutput(dataTable, element);\n",
              "          const docLink = document.createElement('div');\n",
              "          docLink.innerHTML = docLinkHtml;\n",
              "          element.appendChild(docLink);\n",
              "        }\n",
              "      </script>\n",
              "    </div>\n",
              "  </div>\n",
              "  "
            ]
          },
          "metadata": {},
          "execution_count": 85
        }
      ],
      "source": [
        "# Check the family status data and paying back on time\n",
        "print(borrower_data.groupby('family_status')['debt'].value_counts())\n",
        "\n",
        "\n",
        "# Calculating default-rate based on family status\n",
        "borrower_data.groupby(['family_status'])['debt'].mean().reset_index().sort_values(by='debt')\n"
      ]
    },
    {
      "cell_type": "markdown",
      "metadata": {
        "id": "sGKduteRQtwj"
      },
      "source": [
        "**Conclusion**\n",
        "\n",
        "We can say that the widowers paid back least acuurately then other clients, while the unmerried is the category has the highets value."
      ]
    },
    {
      "cell_type": "markdown",
      "metadata": {
        "id": "rw0mee23Qtwj"
      },
      "source": [
        "**Is there a correlation between income level and paying back on time?**"
      ]
    },
    {
      "cell_type": "code",
      "execution_count": 86,
      "metadata": {
        "colab": {
          "base_uri": "https://localhost:8080/"
        },
        "id": "d-6BdWr8Qtwk",
        "outputId": "c8ff860d-f598-4f41-ae27-ddad0269f54a"
      },
      "outputs": [
        {
          "output_type": "stream",
          "name": "stdout",
          "text": [
            "In average 8% of clients did not repay their loan\n"
          ]
        }
      ],
      "source": [
        "print('In average {:.0%} of clients did not repay their loan'.format(borrower_data['debt'].mean()))"
      ]
    },
    {
      "cell_type": "code",
      "execution_count": 87,
      "metadata": {
        "colab": {
          "base_uri": "https://localhost:8080/",
          "height": 359
        },
        "id": "nRJFRgdGQtwk",
        "outputId": "b882a900-c7e8-407d-94dc-a7691561f06a"
      },
      "outputs": [
        {
          "output_type": "stream",
          "name": "stdout",
          "text": [
            "category_by_income  debt\n",
            "above middle level  0       2916\n",
            "                    1        269\n",
            "high level          0       5483\n",
            "                    1        436\n",
            "low level           0       3445\n",
            "                    1        298\n",
            "middle level        0       7880\n",
            "                    1        738\n",
            "Name: debt, dtype: int64\n"
          ]
        },
        {
          "output_type": "execute_result",
          "data": {
            "text/plain": [
              "   category_by_income      debt\n",
              "1          high level  0.073661\n",
              "2           low level  0.079615\n",
              "0  above middle level  0.084458\n",
              "3        middle level  0.085635"
            ],
            "text/html": [
              "\n",
              "  <div id=\"df-38c380a2-6345-4da5-aa57-914308bc6914\">\n",
              "    <div class=\"colab-df-container\">\n",
              "      <div>\n",
              "<style scoped>\n",
              "    .dataframe tbody tr th:only-of-type {\n",
              "        vertical-align: middle;\n",
              "    }\n",
              "\n",
              "    .dataframe tbody tr th {\n",
              "        vertical-align: top;\n",
              "    }\n",
              "\n",
              "    .dataframe thead th {\n",
              "        text-align: right;\n",
              "    }\n",
              "</style>\n",
              "<table border=\"1\" class=\"dataframe\">\n",
              "  <thead>\n",
              "    <tr style=\"text-align: right;\">\n",
              "      <th></th>\n",
              "      <th>category_by_income</th>\n",
              "      <th>debt</th>\n",
              "    </tr>\n",
              "  </thead>\n",
              "  <tbody>\n",
              "    <tr>\n",
              "      <th>1</th>\n",
              "      <td>high level</td>\n",
              "      <td>0.073661</td>\n",
              "    </tr>\n",
              "    <tr>\n",
              "      <th>2</th>\n",
              "      <td>low level</td>\n",
              "      <td>0.079615</td>\n",
              "    </tr>\n",
              "    <tr>\n",
              "      <th>0</th>\n",
              "      <td>above middle level</td>\n",
              "      <td>0.084458</td>\n",
              "    </tr>\n",
              "    <tr>\n",
              "      <th>3</th>\n",
              "      <td>middle level</td>\n",
              "      <td>0.085635</td>\n",
              "    </tr>\n",
              "  </tbody>\n",
              "</table>\n",
              "</div>\n",
              "      <button class=\"colab-df-convert\" onclick=\"convertToInteractive('df-38c380a2-6345-4da5-aa57-914308bc6914')\"\n",
              "              title=\"Convert this dataframe to an interactive table.\"\n",
              "              style=\"display:none;\">\n",
              "        \n",
              "  <svg xmlns=\"http://www.w3.org/2000/svg\" height=\"24px\"viewBox=\"0 0 24 24\"\n",
              "       width=\"24px\">\n",
              "    <path d=\"M0 0h24v24H0V0z\" fill=\"none\"/>\n",
              "    <path d=\"M18.56 5.44l.94 2.06.94-2.06 2.06-.94-2.06-.94-.94-2.06-.94 2.06-2.06.94zm-11 1L8.5 8.5l.94-2.06 2.06-.94-2.06-.94L8.5 2.5l-.94 2.06-2.06.94zm10 10l.94 2.06.94-2.06 2.06-.94-2.06-.94-.94-2.06-.94 2.06-2.06.94z\"/><path d=\"M17.41 7.96l-1.37-1.37c-.4-.4-.92-.59-1.43-.59-.52 0-1.04.2-1.43.59L10.3 9.45l-7.72 7.72c-.78.78-.78 2.05 0 2.83L4 21.41c.39.39.9.59 1.41.59.51 0 1.02-.2 1.41-.59l7.78-7.78 2.81-2.81c.8-.78.8-2.07 0-2.86zM5.41 20L4 18.59l7.72-7.72 1.47 1.35L5.41 20z\"/>\n",
              "  </svg>\n",
              "      </button>\n",
              "      \n",
              "  <style>\n",
              "    .colab-df-container {\n",
              "      display:flex;\n",
              "      flex-wrap:wrap;\n",
              "      gap: 12px;\n",
              "    }\n",
              "\n",
              "    .colab-df-convert {\n",
              "      background-color: #E8F0FE;\n",
              "      border: none;\n",
              "      border-radius: 50%;\n",
              "      cursor: pointer;\n",
              "      display: none;\n",
              "      fill: #1967D2;\n",
              "      height: 32px;\n",
              "      padding: 0 0 0 0;\n",
              "      width: 32px;\n",
              "    }\n",
              "\n",
              "    .colab-df-convert:hover {\n",
              "      background-color: #E2EBFA;\n",
              "      box-shadow: 0px 1px 2px rgba(60, 64, 67, 0.3), 0px 1px 3px 1px rgba(60, 64, 67, 0.15);\n",
              "      fill: #174EA6;\n",
              "    }\n",
              "\n",
              "    [theme=dark] .colab-df-convert {\n",
              "      background-color: #3B4455;\n",
              "      fill: #D2E3FC;\n",
              "    }\n",
              "\n",
              "    [theme=dark] .colab-df-convert:hover {\n",
              "      background-color: #434B5C;\n",
              "      box-shadow: 0px 1px 3px 1px rgba(0, 0, 0, 0.15);\n",
              "      filter: drop-shadow(0px 1px 2px rgba(0, 0, 0, 0.3));\n",
              "      fill: #FFFFFF;\n",
              "    }\n",
              "  </style>\n",
              "\n",
              "      <script>\n",
              "        const buttonEl =\n",
              "          document.querySelector('#df-38c380a2-6345-4da5-aa57-914308bc6914 button.colab-df-convert');\n",
              "        buttonEl.style.display =\n",
              "          google.colab.kernel.accessAllowed ? 'block' : 'none';\n",
              "\n",
              "        async function convertToInteractive(key) {\n",
              "          const element = document.querySelector('#df-38c380a2-6345-4da5-aa57-914308bc6914');\n",
              "          const dataTable =\n",
              "            await google.colab.kernel.invokeFunction('convertToInteractive',\n",
              "                                                     [key], {});\n",
              "          if (!dataTable) return;\n",
              "\n",
              "          const docLinkHtml = 'Like what you see? Visit the ' +\n",
              "            '<a target=\"_blank\" href=https://colab.research.google.com/notebooks/data_table.ipynb>data table notebook</a>'\n",
              "            + ' to learn more about interactive tables.';\n",
              "          element.innerHTML = '';\n",
              "          dataTable['output_type'] = 'display_data';\n",
              "          await google.colab.output.renderOutput(dataTable, element);\n",
              "          const docLink = document.createElement('div');\n",
              "          docLink.innerHTML = docLinkHtml;\n",
              "          element.appendChild(docLink);\n",
              "        }\n",
              "      </script>\n",
              "    </div>\n",
              "  </div>\n",
              "  "
            ]
          },
          "metadata": {},
          "execution_count": 87
        }
      ],
      "source": [
        "# Check the income level data and paying back on time\n",
        "print(borrower_data.groupby('category_by_income')['debt'].value_counts())\n",
        "\n",
        "\n",
        "# Calculating default-rate based on income level\n",
        "borrower_data.groupby(['category_by_income'])['debt'].mean().reset_index().sort_values(by='debt')\n"
      ]
    },
    {
      "cell_type": "markdown",
      "metadata": {
        "id": "9V8AmNjxQtwk"
      },
      "source": [
        "**Conclusion**\n",
        "\n",
        "The percentage depending on income level seems to be distributed evenly."
      ]
    },
    {
      "cell_type": "markdown",
      "metadata": {
        "id": "tmv34NIGQtwk"
      },
      "source": [
        "**How does credit purpose affect the default rate?**"
      ]
    },
    {
      "cell_type": "code",
      "execution_count": 88,
      "metadata": {
        "colab": {
          "base_uri": "https://localhost:8080/",
          "height": 175
        },
        "id": "qA-bru4GQtwk",
        "outputId": "6cf884b5-8779-4978-d367-0fc54b6a8bb4"
      },
      "outputs": [
        {
          "output_type": "execute_result",
          "data": {
            "text/plain": [
              "    category_by_purpose      debt\n",
              "1  real estate expenses  0.072320\n",
              "3      wedding expenses  0.079692\n",
              "0             education  0.092177\n",
              "2      vehicle purchase  0.093547"
            ],
            "text/html": [
              "\n",
              "  <div id=\"df-15d69945-97f2-42d6-8d7b-004a4d95da18\">\n",
              "    <div class=\"colab-df-container\">\n",
              "      <div>\n",
              "<style scoped>\n",
              "    .dataframe tbody tr th:only-of-type {\n",
              "        vertical-align: middle;\n",
              "    }\n",
              "\n",
              "    .dataframe tbody tr th {\n",
              "        vertical-align: top;\n",
              "    }\n",
              "\n",
              "    .dataframe thead th {\n",
              "        text-align: right;\n",
              "    }\n",
              "</style>\n",
              "<table border=\"1\" class=\"dataframe\">\n",
              "  <thead>\n",
              "    <tr style=\"text-align: right;\">\n",
              "      <th></th>\n",
              "      <th>category_by_purpose</th>\n",
              "      <th>debt</th>\n",
              "    </tr>\n",
              "  </thead>\n",
              "  <tbody>\n",
              "    <tr>\n",
              "      <th>1</th>\n",
              "      <td>real estate expenses</td>\n",
              "      <td>0.072320</td>\n",
              "    </tr>\n",
              "    <tr>\n",
              "      <th>3</th>\n",
              "      <td>wedding expenses</td>\n",
              "      <td>0.079692</td>\n",
              "    </tr>\n",
              "    <tr>\n",
              "      <th>0</th>\n",
              "      <td>education</td>\n",
              "      <td>0.092177</td>\n",
              "    </tr>\n",
              "    <tr>\n",
              "      <th>2</th>\n",
              "      <td>vehicle purchase</td>\n",
              "      <td>0.093547</td>\n",
              "    </tr>\n",
              "  </tbody>\n",
              "</table>\n",
              "</div>\n",
              "      <button class=\"colab-df-convert\" onclick=\"convertToInteractive('df-15d69945-97f2-42d6-8d7b-004a4d95da18')\"\n",
              "              title=\"Convert this dataframe to an interactive table.\"\n",
              "              style=\"display:none;\">\n",
              "        \n",
              "  <svg xmlns=\"http://www.w3.org/2000/svg\" height=\"24px\"viewBox=\"0 0 24 24\"\n",
              "       width=\"24px\">\n",
              "    <path d=\"M0 0h24v24H0V0z\" fill=\"none\"/>\n",
              "    <path d=\"M18.56 5.44l.94 2.06.94-2.06 2.06-.94-2.06-.94-.94-2.06-.94 2.06-2.06.94zm-11 1L8.5 8.5l.94-2.06 2.06-.94-2.06-.94L8.5 2.5l-.94 2.06-2.06.94zm10 10l.94 2.06.94-2.06 2.06-.94-2.06-.94-.94-2.06-.94 2.06-2.06.94z\"/><path d=\"M17.41 7.96l-1.37-1.37c-.4-.4-.92-.59-1.43-.59-.52 0-1.04.2-1.43.59L10.3 9.45l-7.72 7.72c-.78.78-.78 2.05 0 2.83L4 21.41c.39.39.9.59 1.41.59.51 0 1.02-.2 1.41-.59l7.78-7.78 2.81-2.81c.8-.78.8-2.07 0-2.86zM5.41 20L4 18.59l7.72-7.72 1.47 1.35L5.41 20z\"/>\n",
              "  </svg>\n",
              "      </button>\n",
              "      \n",
              "  <style>\n",
              "    .colab-df-container {\n",
              "      display:flex;\n",
              "      flex-wrap:wrap;\n",
              "      gap: 12px;\n",
              "    }\n",
              "\n",
              "    .colab-df-convert {\n",
              "      background-color: #E8F0FE;\n",
              "      border: none;\n",
              "      border-radius: 50%;\n",
              "      cursor: pointer;\n",
              "      display: none;\n",
              "      fill: #1967D2;\n",
              "      height: 32px;\n",
              "      padding: 0 0 0 0;\n",
              "      width: 32px;\n",
              "    }\n",
              "\n",
              "    .colab-df-convert:hover {\n",
              "      background-color: #E2EBFA;\n",
              "      box-shadow: 0px 1px 2px rgba(60, 64, 67, 0.3), 0px 1px 3px 1px rgba(60, 64, 67, 0.15);\n",
              "      fill: #174EA6;\n",
              "    }\n",
              "\n",
              "    [theme=dark] .colab-df-convert {\n",
              "      background-color: #3B4455;\n",
              "      fill: #D2E3FC;\n",
              "    }\n",
              "\n",
              "    [theme=dark] .colab-df-convert:hover {\n",
              "      background-color: #434B5C;\n",
              "      box-shadow: 0px 1px 3px 1px rgba(0, 0, 0, 0.15);\n",
              "      filter: drop-shadow(0px 1px 2px rgba(0, 0, 0, 0.3));\n",
              "      fill: #FFFFFF;\n",
              "    }\n",
              "  </style>\n",
              "\n",
              "      <script>\n",
              "        const buttonEl =\n",
              "          document.querySelector('#df-15d69945-97f2-42d6-8d7b-004a4d95da18 button.colab-df-convert');\n",
              "        buttonEl.style.display =\n",
              "          google.colab.kernel.accessAllowed ? 'block' : 'none';\n",
              "\n",
              "        async function convertToInteractive(key) {\n",
              "          const element = document.querySelector('#df-15d69945-97f2-42d6-8d7b-004a4d95da18');\n",
              "          const dataTable =\n",
              "            await google.colab.kernel.invokeFunction('convertToInteractive',\n",
              "                                                     [key], {});\n",
              "          if (!dataTable) return;\n",
              "\n",
              "          const docLinkHtml = 'Like what you see? Visit the ' +\n",
              "            '<a target=\"_blank\" href=https://colab.research.google.com/notebooks/data_table.ipynb>data table notebook</a>'\n",
              "            + ' to learn more about interactive tables.';\n",
              "          element.innerHTML = '';\n",
              "          dataTable['output_type'] = 'display_data';\n",
              "          await google.colab.output.renderOutput(dataTable, element);\n",
              "          const docLink = document.createElement('div');\n",
              "          docLink.innerHTML = docLinkHtml;\n",
              "          element.appendChild(docLink);\n",
              "        }\n",
              "      </script>\n",
              "    </div>\n",
              "  </div>\n",
              "  "
            ]
          },
          "metadata": {},
          "execution_count": 88
        }
      ],
      "source": [
        "# Check the percentages for default rate for each credit purpose and analyze them\n",
        "borrower_data.groupby(['category_by_purpose'])['debt'].mean().reset_index().sort_values(by='debt')\n"
      ]
    },
    {
      "cell_type": "markdown",
      "metadata": {
        "id": "vuNGFtCIQtwk"
      },
      "source": [
        "**Conclusion**\n",
        "\n",
        "All clients with real estate expenses paid their loans in a more accurate way than clients with other credit purposes, clients who used their loans to purchase a vehicle have the most ammount of debt."
      ]
    },
    {
      "cell_type": "markdown",
      "metadata": {
        "id": "wmF5houwQtwk"
      },
      "source": [
        "# General Conclusion \n"
      ]
    },
    {
      "cell_type": "markdown",
      "metadata": {
        "id": "TxiRk94pQtwl"
      },
      "source": [
        "In our dataset we have come across with some problematic data: 10.10% of our data was missing randomly in columns which refer to ammount of the clients days employed and their total income simmetrically, the missing values were filled with a median value for each column. We treated the duplicates in the education column manually and dropped all the duplicated rows as their share in the whole dataset was less then 1%. We had a problematic value in the information about the age (0 age value) which we also rplaced with a median value. To have a better view in compering data with each other we categorized the age, total income and purpose columns"
      ]
    },
    {
      "cell_type": "markdown",
      "metadata": {
        "id": "1B86juaKQtwl"
      },
      "source": [
        "After checking the chosen charachteristics we couldn't clearly define that there is a strong correlation between paying a debt on time and having a certein purpose for the loan or a certein family status or a particular level of income. However, we did see that all clients with ammount of children equaling to 5 did pay their loan on time, so as most of the widowers, and clients whos' purpose of credit was real estate expenses. And to the opposite: most of the clients who purchased cars and unmerried clients didn't pay their loan on time."
      ]
    }
  ],
  "metadata": {
    "ExecuteTimeLog": [
      {
        "duration": 2741,
        "start_time": "2021-10-21T01:08:49.480Z"
      },
      {
        "duration": 52,
        "start_time": "2021-10-21T01:08:53.315Z"
      },
      {
        "duration": 49,
        "start_time": "2021-10-21T01:08:57.432Z"
      },
      {
        "duration": 70,
        "start_time": "2021-10-21T01:09:07.706Z"
      },
      {
        "duration": 717,
        "start_time": "2022-01-08T09:48:29.727Z"
      },
      {
        "duration": 334,
        "start_time": "2022-01-08T09:49:56.651Z"
      },
      {
        "duration": 424,
        "start_time": "2022-01-08T09:50:21.014Z"
      },
      {
        "duration": 4,
        "start_time": "2022-01-08T09:50:28.375Z"
      },
      {
        "duration": 12,
        "start_time": "2022-01-08T09:50:54.663Z"
      },
      {
        "duration": 12,
        "start_time": "2022-01-08T10:04:28.557Z"
      },
      {
        "duration": 11,
        "start_time": "2022-01-08T10:25:19.261Z"
      },
      {
        "duration": 9,
        "start_time": "2022-01-08T10:25:50.919Z"
      },
      {
        "duration": 6,
        "start_time": "2022-01-08T10:37:31.740Z"
      },
      {
        "duration": 5,
        "start_time": "2022-01-08T10:40:10.423Z"
      },
      {
        "duration": 10,
        "start_time": "2022-01-08T10:40:29.296Z"
      },
      {
        "duration": 7,
        "start_time": "2022-01-08T10:44:06.506Z"
      },
      {
        "duration": 254,
        "start_time": "2022-01-08T10:56:03.203Z"
      },
      {
        "duration": 229,
        "start_time": "2022-01-08T10:57:41.017Z"
      },
      {
        "duration": 348,
        "start_time": "2022-01-08T10:58:21.193Z"
      },
      {
        "duration": 247,
        "start_time": "2022-01-08T10:58:42.880Z"
      },
      {
        "duration": 232,
        "start_time": "2022-01-08T10:59:07.600Z"
      },
      {
        "duration": 79,
        "start_time": "2022-01-08T10:59:17.335Z"
      },
      {
        "duration": 238,
        "start_time": "2022-01-08T10:59:21.393Z"
      },
      {
        "duration": -1361,
        "start_time": "2022-01-08T11:03:25.820Z"
      },
      {
        "duration": 8059,
        "start_time": "2022-01-08T11:03:29.984Z"
      },
      {
        "duration": 7933,
        "start_time": "2022-01-08T11:04:13.816Z"
      },
      {
        "duration": 345,
        "start_time": "2022-01-08T11:04:53.776Z"
      },
      {
        "duration": 304,
        "start_time": "2022-01-08T11:05:13.353Z"
      },
      {
        "duration": 238,
        "start_time": "2022-01-08T11:05:39.142Z"
      },
      {
        "duration": 4,
        "start_time": "2022-01-08T11:05:52.160Z"
      },
      {
        "duration": 3,
        "start_time": "2022-01-08T11:06:26.350Z"
      },
      {
        "duration": 5,
        "start_time": "2022-01-08T11:06:32.478Z"
      },
      {
        "duration": 4,
        "start_time": "2022-01-08T11:06:42.005Z"
      },
      {
        "duration": 5,
        "start_time": "2022-01-08T11:06:53.859Z"
      },
      {
        "duration": 4,
        "start_time": "2022-01-08T11:07:10.775Z"
      },
      {
        "duration": 4,
        "start_time": "2022-01-08T11:07:37.862Z"
      },
      {
        "duration": 5,
        "start_time": "2022-01-08T12:18:01.778Z"
      },
      {
        "duration": 5,
        "start_time": "2022-01-08T12:18:19.394Z"
      },
      {
        "duration": 82,
        "start_time": "2022-01-08T12:31:22.629Z"
      },
      {
        "duration": 307,
        "start_time": "2022-01-08T12:31:46.650Z"
      },
      {
        "duration": 679,
        "start_time": "2022-01-08T12:37:08.628Z"
      },
      {
        "duration": 4,
        "start_time": "2022-01-08T12:37:16.346Z"
      },
      {
        "duration": 13,
        "start_time": "2022-01-08T12:37:19.494Z"
      },
      {
        "duration": 12,
        "start_time": "2022-01-08T12:37:24.992Z"
      },
      {
        "duration": 6426,
        "start_time": "2022-01-08T12:50:33.293Z"
      },
      {
        "duration": 5,
        "start_time": "2022-01-08T12:51:13.430Z"
      },
      {
        "duration": 6,
        "start_time": "2022-01-08T12:51:44.318Z"
      },
      {
        "duration": 240,
        "start_time": "2022-01-08T12:51:57.117Z"
      },
      {
        "duration": 5,
        "start_time": "2022-01-08T12:52:18.104Z"
      },
      {
        "duration": 248,
        "start_time": "2022-01-08T12:53:54.999Z"
      },
      {
        "duration": 8,
        "start_time": "2022-01-08T12:54:42.251Z"
      },
      {
        "duration": 8,
        "start_time": "2022-01-08T12:54:56.875Z"
      },
      {
        "duration": 8,
        "start_time": "2022-01-08T12:55:11.219Z"
      },
      {
        "duration": 8,
        "start_time": "2022-01-08T12:55:28.994Z"
      },
      {
        "duration": 7,
        "start_time": "2022-01-08T12:55:41.150Z"
      },
      {
        "duration": 4,
        "start_time": "2022-01-08T12:57:35.739Z"
      },
      {
        "duration": 13,
        "start_time": "2022-01-08T12:57:56.420Z"
      },
      {
        "duration": 18,
        "start_time": "2022-01-08T12:58:15.222Z"
      },
      {
        "duration": 20,
        "start_time": "2022-01-08T12:58:27.038Z"
      },
      {
        "duration": 291,
        "start_time": "2022-01-08T12:59:14.438Z"
      },
      {
        "duration": 24,
        "start_time": "2022-01-08T12:59:27.681Z"
      },
      {
        "duration": 16,
        "start_time": "2022-01-08T12:59:37.591Z"
      },
      {
        "duration": 22,
        "start_time": "2022-01-08T13:00:05.799Z"
      },
      {
        "duration": 8,
        "start_time": "2022-01-08T13:09:52.327Z"
      },
      {
        "duration": 352,
        "start_time": "2022-01-08T14:49:50.847Z"
      },
      {
        "duration": 421,
        "start_time": "2022-01-08T14:50:00.351Z"
      },
      {
        "duration": 840,
        "start_time": "2022-01-08T14:50:14.477Z"
      },
      {
        "duration": 5,
        "start_time": "2022-01-08T14:50:19.573Z"
      },
      {
        "duration": 21,
        "start_time": "2022-01-08T14:50:21.974Z"
      },
      {
        "duration": 16,
        "start_time": "2022-01-08T14:50:25.275Z"
      },
      {
        "duration": 34,
        "start_time": "2022-01-08T14:50:28.606Z"
      },
      {
        "duration": 321,
        "start_time": "2022-01-08T14:50:35.097Z"
      },
      {
        "duration": 25,
        "start_time": "2022-01-08T14:50:48.628Z"
      },
      {
        "duration": 11,
        "start_time": "2022-01-08T14:51:12.231Z"
      },
      {
        "duration": 6,
        "start_time": "2022-01-08T14:58:07.877Z"
      },
      {
        "duration": 7,
        "start_time": "2022-01-08T14:58:29.677Z"
      },
      {
        "duration": 11,
        "start_time": "2022-01-08T15:15:16.354Z"
      },
      {
        "duration": 32,
        "start_time": "2022-01-08T15:15:21.992Z"
      },
      {
        "duration": 330,
        "start_time": "2022-01-08T15:18:53.348Z"
      },
      {
        "duration": 281,
        "start_time": "2022-01-08T15:19:10.413Z"
      },
      {
        "duration": 1986,
        "start_time": "2022-01-08T15:19:34.384Z"
      },
      {
        "duration": 11,
        "start_time": "2022-01-08T15:20:10.934Z"
      },
      {
        "duration": 318,
        "start_time": "2022-01-08T15:23:59.998Z"
      },
      {
        "duration": 381,
        "start_time": "2022-01-08T15:24:07.490Z"
      },
      {
        "duration": 36,
        "start_time": "2022-01-08T15:24:20.536Z"
      },
      {
        "duration": 2140,
        "start_time": "2022-01-08T15:25:08.915Z"
      },
      {
        "duration": 128,
        "start_time": "2022-01-08T15:25:54.394Z"
      },
      {
        "duration": 97,
        "start_time": "2022-01-08T15:26:08.114Z"
      },
      {
        "duration": 94,
        "start_time": "2022-01-08T15:26:12.219Z"
      },
      {
        "duration": 95,
        "start_time": "2022-01-08T15:26:15.588Z"
      },
      {
        "duration": 100,
        "start_time": "2022-01-08T15:26:20.238Z"
      },
      {
        "duration": 122,
        "start_time": "2022-01-08T15:26:43.355Z"
      },
      {
        "duration": 99,
        "start_time": "2022-01-08T15:26:48.234Z"
      },
      {
        "duration": 1132,
        "start_time": "2022-01-08T15:26:58.567Z"
      },
      {
        "duration": 98,
        "start_time": "2022-01-08T15:27:03.080Z"
      },
      {
        "duration": 98,
        "start_time": "2022-01-08T15:27:11.585Z"
      },
      {
        "duration": 96,
        "start_time": "2022-01-08T15:27:41.213Z"
      },
      {
        "duration": 106,
        "start_time": "2022-01-08T15:27:52.045Z"
      },
      {
        "duration": 159,
        "start_time": "2022-01-08T15:27:55.863Z"
      },
      {
        "duration": 100,
        "start_time": "2022-01-08T15:28:04.584Z"
      },
      {
        "duration": 93,
        "start_time": "2022-01-08T15:28:40.388Z"
      },
      {
        "duration": 148,
        "start_time": "2022-01-08T15:28:46.049Z"
      },
      {
        "duration": 93,
        "start_time": "2022-01-08T15:28:54.124Z"
      },
      {
        "duration": 93,
        "start_time": "2022-01-08T15:29:16.858Z"
      },
      {
        "duration": 117,
        "start_time": "2022-01-08T15:29:20.277Z"
      },
      {
        "duration": 141,
        "start_time": "2022-01-08T15:29:23.987Z"
      },
      {
        "duration": 92,
        "start_time": "2022-01-08T15:29:26.549Z"
      },
      {
        "duration": 106,
        "start_time": "2022-01-08T15:31:27.098Z"
      },
      {
        "duration": 98,
        "start_time": "2022-01-08T15:31:41.081Z"
      },
      {
        "duration": 101,
        "start_time": "2022-01-08T15:31:54.808Z"
      },
      {
        "duration": 3147,
        "start_time": "2022-01-08T15:32:05.596Z"
      },
      {
        "duration": 403,
        "start_time": "2022-01-08T18:55:13.925Z"
      },
      {
        "duration": 864,
        "start_time": "2022-01-08T18:55:32.396Z"
      },
      {
        "duration": 5,
        "start_time": "2022-01-08T18:55:37.847Z"
      },
      {
        "duration": 19,
        "start_time": "2022-01-08T18:55:40.768Z"
      },
      {
        "duration": 15,
        "start_time": "2022-01-08T18:55:43.960Z"
      },
      {
        "duration": 19,
        "start_time": "2022-01-08T18:55:47.587Z"
      },
      {
        "duration": 14,
        "start_time": "2022-01-08T18:56:00.296Z"
      },
      {
        "duration": 9,
        "start_time": "2022-01-08T18:57:08.569Z"
      },
      {
        "duration": 36,
        "start_time": "2022-01-08T19:10:49.208Z"
      },
      {
        "duration": 51,
        "start_time": "2022-01-08T19:11:25.998Z"
      },
      {
        "duration": 12,
        "start_time": "2022-01-08T19:30:39.887Z"
      },
      {
        "duration": -2034,
        "start_time": "2022-01-08T19:31:05.989Z"
      },
      {
        "duration": 6827,
        "start_time": "2022-01-08T19:31:10.590Z"
      },
      {
        "duration": 8,
        "start_time": "2022-01-08T19:31:35.441Z"
      },
      {
        "duration": 459,
        "start_time": "2022-01-08T19:55:19.784Z"
      },
      {
        "duration": 15,
        "start_time": "2022-01-08T19:55:28.336Z"
      },
      {
        "duration": 627,
        "start_time": "2022-01-09T06:40:21.458Z"
      },
      {
        "duration": 4,
        "start_time": "2022-01-09T06:40:26.212Z"
      },
      {
        "duration": 14,
        "start_time": "2022-01-09T06:40:30.216Z"
      },
      {
        "duration": 12,
        "start_time": "2022-01-09T06:40:34.130Z"
      },
      {
        "duration": 6,
        "start_time": "2022-01-09T06:40:38.199Z"
      },
      {
        "duration": 3,
        "start_time": "2022-01-09T06:41:10.819Z"
      },
      {
        "duration": 5,
        "start_time": "2022-01-09T06:42:16.321Z"
      },
      {
        "duration": 5,
        "start_time": "2022-01-09T06:42:29.779Z"
      },
      {
        "duration": 4,
        "start_time": "2022-01-09T06:44:22.637Z"
      },
      {
        "duration": 63,
        "start_time": "2022-01-09T06:44:41.463Z"
      },
      {
        "duration": 5,
        "start_time": "2022-01-09T06:45:02.441Z"
      },
      {
        "duration": 5,
        "start_time": "2022-01-09T06:45:09.314Z"
      },
      {
        "duration": 234,
        "start_time": "2022-01-09T06:45:15.328Z"
      },
      {
        "duration": 231,
        "start_time": "2022-01-09T06:45:19.533Z"
      },
      {
        "duration": 4,
        "start_time": "2022-01-09T06:45:30.754Z"
      },
      {
        "duration": 57,
        "start_time": "2022-01-09T07:14:19.395Z"
      },
      {
        "duration": 11,
        "start_time": "2022-01-09T07:14:41.475Z"
      },
      {
        "duration": 7,
        "start_time": "2022-01-09T07:14:44.638Z"
      },
      {
        "duration": 23,
        "start_time": "2022-01-09T07:15:03.063Z"
      },
      {
        "duration": 61,
        "start_time": "2022-01-09T07:15:24.222Z"
      },
      {
        "duration": 4,
        "start_time": "2022-01-09T07:15:36.848Z"
      },
      {
        "duration": 3160,
        "start_time": "2022-01-09T07:47:22.756Z"
      },
      {
        "duration": 6,
        "start_time": "2022-01-09T07:48:34.816Z"
      },
      {
        "duration": 6,
        "start_time": "2022-01-09T07:48:38.724Z"
      },
      {
        "duration": 17,
        "start_time": "2022-01-09T07:48:59.981Z"
      },
      {
        "duration": 7,
        "start_time": "2022-01-09T07:49:11.316Z"
      },
      {
        "duration": 1688,
        "start_time": "2022-01-09T07:49:19.888Z"
      },
      {
        "duration": 177,
        "start_time": "2022-01-09T07:49:47.334Z"
      },
      {
        "duration": 3266,
        "start_time": "2022-01-09T07:50:03.791Z"
      },
      {
        "duration": 59,
        "start_time": "2022-01-09T07:50:45.709Z"
      },
      {
        "duration": 8,
        "start_time": "2022-01-09T07:50:56.678Z"
      },
      {
        "duration": 17,
        "start_time": "2022-01-09T07:51:16.708Z"
      },
      {
        "duration": 7,
        "start_time": "2022-01-09T07:51:38.436Z"
      },
      {
        "duration": 173,
        "start_time": "2022-01-09T07:52:24.139Z"
      },
      {
        "duration": 7,
        "start_time": "2022-01-09T07:52:37.924Z"
      },
      {
        "duration": 17,
        "start_time": "2022-01-09T07:53:36.711Z"
      },
      {
        "duration": 18,
        "start_time": "2022-01-09T07:54:09.958Z"
      },
      {
        "duration": 184,
        "start_time": "2022-01-09T07:54:26.633Z"
      },
      {
        "duration": 18,
        "start_time": "2022-01-09T07:54:36.342Z"
      },
      {
        "duration": 11,
        "start_time": "2022-01-09T07:54:44.481Z"
      },
      {
        "duration": 176,
        "start_time": "2022-01-09T07:54:57.305Z"
      },
      {
        "duration": 180,
        "start_time": "2022-01-09T07:55:04.887Z"
      },
      {
        "duration": 24,
        "start_time": "2022-01-09T07:56:09.202Z"
      },
      {
        "duration": 3,
        "start_time": "2022-01-09T07:56:47.394Z"
      },
      {
        "duration": 222,
        "start_time": "2022-01-09T08:56:31.881Z"
      },
      {
        "duration": 9,
        "start_time": "2022-01-09T09:02:55.943Z"
      },
      {
        "duration": 2,
        "start_time": "2022-01-09T09:03:35.305Z"
      },
      {
        "duration": 7,
        "start_time": "2022-01-09T09:03:41.749Z"
      },
      {
        "duration": 7,
        "start_time": "2022-01-09T09:04:40.709Z"
      },
      {
        "duration": 6,
        "start_time": "2022-01-09T09:05:18.736Z"
      },
      {
        "duration": 23,
        "start_time": "2022-01-09T09:05:26.134Z"
      },
      {
        "duration": 188,
        "start_time": "2022-01-09T09:10:53.170Z"
      },
      {
        "duration": 6,
        "start_time": "2022-01-09T09:11:45.281Z"
      },
      {
        "duration": 12,
        "start_time": "2022-01-09T09:12:35.926Z"
      },
      {
        "duration": 53,
        "start_time": "2022-01-09T09:28:41.153Z"
      },
      {
        "duration": 77,
        "start_time": "2022-01-09T09:29:31.305Z"
      },
      {
        "duration": 55,
        "start_time": "2022-01-09T09:29:59.405Z"
      },
      {
        "duration": 63,
        "start_time": "2022-01-09T09:30:43.626Z"
      },
      {
        "duration": 96,
        "start_time": "2022-01-09T09:30:48.999Z"
      },
      {
        "duration": 59,
        "start_time": "2022-01-09T09:30:54.389Z"
      },
      {
        "duration": 5,
        "start_time": "2022-01-09T09:32:56.760Z"
      },
      {
        "duration": 6,
        "start_time": "2022-01-09T09:33:36.614Z"
      },
      {
        "duration": 13,
        "start_time": "2022-01-09T09:45:10.052Z"
      },
      {
        "duration": 10,
        "start_time": "2022-01-09T09:45:34.861Z"
      },
      {
        "duration": 14,
        "start_time": "2022-01-09T09:45:48.277Z"
      },
      {
        "duration": 173,
        "start_time": "2022-01-09T09:46:23.460Z"
      },
      {
        "duration": 13,
        "start_time": "2022-01-09T09:46:29.409Z"
      },
      {
        "duration": 7,
        "start_time": "2022-01-09T09:47:02.734Z"
      },
      {
        "duration": 7,
        "start_time": "2022-01-09T09:47:12.807Z"
      },
      {
        "duration": 8,
        "start_time": "2022-01-09T09:47:36.283Z"
      },
      {
        "duration": 167,
        "start_time": "2022-01-09T09:47:46.722Z"
      },
      {
        "duration": 7,
        "start_time": "2022-01-09T09:47:54.263Z"
      },
      {
        "duration": -120,
        "start_time": "2022-01-09T09:54:59.272Z"
      },
      {
        "duration": 4955,
        "start_time": "2022-01-09T09:55:06.540Z"
      },
      {
        "duration": 7,
        "start_time": "2022-01-09T09:55:34.785Z"
      },
      {
        "duration": 18,
        "start_time": "2022-01-09T09:58:22.101Z"
      },
      {
        "duration": 4706,
        "start_time": "2022-01-09T10:08:35.364Z"
      },
      {
        "duration": 196,
        "start_time": "2022-01-09T10:09:03.349Z"
      },
      {
        "duration": 10,
        "start_time": "2022-01-09T10:09:17.672Z"
      },
      {
        "duration": 3,
        "start_time": "2022-01-09T10:12:09.934Z"
      },
      {
        "duration": 6,
        "start_time": "2022-01-09T10:46:32.894Z"
      },
      {
        "duration": 169,
        "start_time": "2022-01-09T10:48:21.473Z"
      },
      {
        "duration": 173,
        "start_time": "2022-01-09T10:48:31.064Z"
      },
      {
        "duration": 4130,
        "start_time": "2022-01-09T10:48:41.751Z"
      },
      {
        "duration": 3145,
        "start_time": "2022-01-09T10:49:24.267Z"
      },
      {
        "duration": 6,
        "start_time": "2022-01-09T11:56:52.884Z"
      },
      {
        "duration": 9,
        "start_time": "2022-01-09T12:00:38.296Z"
      },
      {
        "duration": 17,
        "start_time": "2022-01-09T12:01:03.312Z"
      },
      {
        "duration": 250,
        "start_time": "2022-01-09T13:09:13.007Z"
      },
      {
        "duration": 18,
        "start_time": "2022-01-09T13:09:21.319Z"
      },
      {
        "duration": 17,
        "start_time": "2022-01-09T13:09:31.371Z"
      },
      {
        "duration": 17,
        "start_time": "2022-01-09T13:10:15.276Z"
      },
      {
        "duration": 14,
        "start_time": "2022-01-09T13:18:33.540Z"
      },
      {
        "duration": 5,
        "start_time": "2022-01-09T13:18:35.479Z"
      },
      {
        "duration": 17,
        "start_time": "2022-01-09T13:19:16.364Z"
      },
      {
        "duration": 23,
        "start_time": "2022-01-09T13:19:24.885Z"
      },
      {
        "duration": 12,
        "start_time": "2022-01-09T13:20:07.756Z"
      },
      {
        "duration": 18,
        "start_time": "2022-01-09T13:20:14.765Z"
      },
      {
        "duration": 174,
        "start_time": "2022-01-09T13:46:02.743Z"
      },
      {
        "duration": 19,
        "start_time": "2022-01-09T13:46:10.336Z"
      },
      {
        "duration": 3,
        "start_time": "2022-01-09T13:46:12.274Z"
      },
      {
        "duration": 175,
        "start_time": "2022-01-09T13:46:33.232Z"
      },
      {
        "duration": 12,
        "start_time": "2022-01-09T13:46:42.394Z"
      },
      {
        "duration": 184,
        "start_time": "2022-01-09T13:54:32.176Z"
      },
      {
        "duration": 5,
        "start_time": "2022-01-09T18:19:00.656Z"
      },
      {
        "duration": 359,
        "start_time": "2022-01-09T18:25:47.536Z"
      },
      {
        "duration": 314,
        "start_time": "2022-01-09T18:25:56.341Z"
      },
      {
        "duration": 412,
        "start_time": "2022-01-09T18:26:05.423Z"
      },
      {
        "duration": 274,
        "start_time": "2022-01-09T18:26:06.613Z"
      },
      {
        "duration": 835,
        "start_time": "2022-01-09T18:26:10.380Z"
      },
      {
        "duration": 5,
        "start_time": "2022-01-09T18:26:11.219Z"
      },
      {
        "duration": 20,
        "start_time": "2022-01-09T18:26:11.412Z"
      },
      {
        "duration": 16,
        "start_time": "2022-01-09T18:26:11.811Z"
      },
      {
        "duration": 10,
        "start_time": "2022-01-09T18:26:12.167Z"
      },
      {
        "duration": 26,
        "start_time": "2022-01-09T18:26:12.539Z"
      },
      {
        "duration": 8,
        "start_time": "2022-01-09T18:26:12.971Z"
      },
      {
        "duration": 19,
        "start_time": "2022-01-09T18:26:13.209Z"
      },
      {
        "duration": 28,
        "start_time": "2022-01-09T18:26:13.611Z"
      },
      {
        "duration": 3,
        "start_time": "2022-01-09T18:26:14.016Z"
      },
      {
        "duration": 15,
        "start_time": "2022-01-09T19:17:48.799Z"
      },
      {
        "duration": 14,
        "start_time": "2022-01-09T19:18:00.261Z"
      },
      {
        "duration": 5,
        "start_time": "2022-01-09T19:18:23.610Z"
      },
      {
        "duration": 61,
        "start_time": "2022-01-09T19:19:17.043Z"
      },
      {
        "duration": 60,
        "start_time": "2022-01-09T19:19:22.507Z"
      },
      {
        "duration": 327,
        "start_time": "2022-01-09T19:20:04.737Z"
      },
      {
        "duration": 7420,
        "start_time": "2022-01-09T19:20:22.166Z"
      },
      {
        "duration": 7,
        "start_time": "2022-01-09T19:20:44.752Z"
      },
      {
        "duration": 11,
        "start_time": "2022-01-09T19:21:23.120Z"
      },
      {
        "duration": 9,
        "start_time": "2022-01-09T19:21:31.440Z"
      },
      {
        "duration": 5202,
        "start_time": "2022-01-09T19:21:44.816Z"
      },
      {
        "duration": 338,
        "start_time": "2022-01-09T19:22:04.842Z"
      },
      {
        "duration": 39,
        "start_time": "2022-01-09T19:22:17.487Z"
      },
      {
        "duration": 9,
        "start_time": "2022-01-09T19:22:39.007Z"
      },
      {
        "duration": 9,
        "start_time": "2022-01-09T19:23:28.798Z"
      },
      {
        "duration": 36,
        "start_time": "2022-01-09T19:24:04.956Z"
      },
      {
        "duration": 23,
        "start_time": "2022-01-09T19:24:11.599Z"
      },
      {
        "duration": 5,
        "start_time": "2022-01-09T19:25:14.946Z"
      },
      {
        "duration": 5,
        "start_time": "2022-01-09T19:25:20.299Z"
      },
      {
        "duration": 19,
        "start_time": "2022-01-09T19:25:33.755Z"
      },
      {
        "duration": 818,
        "start_time": "2022-01-09T19:25:47.961Z"
      },
      {
        "duration": 278,
        "start_time": "2022-01-09T19:26:03.817Z"
      },
      {
        "duration": 10,
        "start_time": "2022-01-09T19:26:45.862Z"
      },
      {
        "duration": 8,
        "start_time": "2022-01-09T19:27:44.163Z"
      },
      {
        "duration": 5,
        "start_time": "2022-01-09T19:27:51.899Z"
      },
      {
        "duration": 7,
        "start_time": "2022-01-09T19:28:15.729Z"
      },
      {
        "duration": 12,
        "start_time": "2022-01-09T19:28:31.925Z"
      },
      {
        "duration": 31,
        "start_time": "2022-01-09T19:29:48.086Z"
      },
      {
        "duration": 14,
        "start_time": "2022-01-09T19:29:56.844Z"
      },
      {
        "duration": 6,
        "start_time": "2022-01-09T19:30:23.148Z"
      },
      {
        "duration": 8,
        "start_time": "2022-01-09T19:30:37.227Z"
      },
      {
        "duration": 25,
        "start_time": "2022-01-09T19:31:26.067Z"
      },
      {
        "duration": 3,
        "start_time": "2022-01-09T19:38:37.250Z"
      },
      {
        "duration": 3,
        "start_time": "2022-01-09T19:38:50.200Z"
      },
      {
        "duration": 13,
        "start_time": "2022-01-09T19:40:38.025Z"
      },
      {
        "duration": 289,
        "start_time": "2022-01-09T19:40:59.787Z"
      },
      {
        "duration": 7,
        "start_time": "2022-01-09T19:41:06.893Z"
      },
      {
        "duration": 255,
        "start_time": "2022-01-09T19:42:29.053Z"
      },
      {
        "duration": 3,
        "start_time": "2022-01-09T19:42:38.403Z"
      },
      {
        "duration": 3,
        "start_time": "2022-01-09T19:42:46.620Z"
      },
      {
        "duration": 5,
        "start_time": "2022-01-09T19:53:15.059Z"
      },
      {
        "duration": 13,
        "start_time": "2022-01-09T19:53:23.502Z"
      },
      {
        "duration": 22,
        "start_time": "2022-01-09T19:53:47.818Z"
      },
      {
        "duration": 401,
        "start_time": "2022-01-09T19:56:30.125Z"
      },
      {
        "duration": 15,
        "start_time": "2022-01-09T20:01:17.253Z"
      },
      {
        "duration": 273,
        "start_time": "2022-01-09T20:03:23.750Z"
      },
      {
        "duration": 15,
        "start_time": "2022-01-09T20:03:54.924Z"
      },
      {
        "duration": 16,
        "start_time": "2022-01-09T20:04:13.608Z"
      },
      {
        "duration": 382,
        "start_time": "2022-01-09T20:05:20.969Z"
      },
      {
        "duration": 341,
        "start_time": "2022-01-09T20:05:43.857Z"
      },
      {
        "duration": 14,
        "start_time": "2022-01-09T20:06:01.623Z"
      },
      {
        "duration": 15,
        "start_time": "2022-01-09T20:06:24.152Z"
      },
      {
        "duration": 17,
        "start_time": "2022-01-09T20:06:32.189Z"
      },
      {
        "duration": 15,
        "start_time": "2022-01-09T20:07:08.127Z"
      },
      {
        "duration": 312,
        "start_time": "2022-01-09T20:07:38.969Z"
      },
      {
        "duration": 101,
        "start_time": "2022-01-09T20:08:05.332Z"
      },
      {
        "duration": 15,
        "start_time": "2022-01-09T20:08:20.115Z"
      },
      {
        "duration": 14,
        "start_time": "2022-01-09T20:08:44.271Z"
      },
      {
        "duration": 13,
        "start_time": "2022-01-09T20:09:26.070Z"
      },
      {
        "duration": 15,
        "start_time": "2022-01-09T20:11:04.481Z"
      },
      {
        "duration": 15,
        "start_time": "2022-01-09T20:11:16.265Z"
      },
      {
        "duration": 13,
        "start_time": "2022-01-09T20:11:41.535Z"
      },
      {
        "duration": 10,
        "start_time": "2022-01-09T20:14:57.428Z"
      },
      {
        "duration": 88,
        "start_time": "2022-01-09T20:15:12.541Z"
      },
      {
        "duration": 4405,
        "start_time": "2022-01-09T20:15:19.092Z"
      },
      {
        "duration": 5916,
        "start_time": "2022-01-09T20:15:36.535Z"
      },
      {
        "duration": 6872,
        "start_time": "2022-01-09T20:17:17.071Z"
      },
      {
        "duration": 12,
        "start_time": "2022-01-09T20:17:25.006Z"
      },
      {
        "duration": 10,
        "start_time": "2022-01-09T20:18:18.633Z"
      },
      {
        "duration": 783,
        "start_time": "2022-01-09T20:19:07.553Z"
      },
      {
        "duration": 292,
        "start_time": "2022-01-09T20:19:26.386Z"
      },
      {
        "duration": 280,
        "start_time": "2022-01-09T20:20:43.408Z"
      },
      {
        "duration": 6941,
        "start_time": "2022-01-09T20:20:54.957Z"
      },
      {
        "duration": 11,
        "start_time": "2022-01-09T20:21:13.844Z"
      },
      {
        "duration": 3,
        "start_time": "2022-01-09T20:22:58.273Z"
      },
      {
        "duration": 20,
        "start_time": "2022-01-09T20:23:31.274Z"
      },
      {
        "duration": 20,
        "start_time": "2022-01-09T20:23:50.698Z"
      },
      {
        "duration": 21,
        "start_time": "2022-01-09T20:24:11.258Z"
      },
      {
        "duration": 28,
        "start_time": "2022-01-09T20:26:14.734Z"
      },
      {
        "duration": 31,
        "start_time": "2022-01-09T20:26:44.303Z"
      },
      {
        "duration": 482,
        "start_time": "2022-01-09T20:42:53.870Z"
      },
      {
        "duration": 1942,
        "start_time": "2022-01-09T20:59:51.968Z"
      },
      {
        "duration": 9,
        "start_time": "2022-01-09T21:00:17.602Z"
      },
      {
        "duration": 8,
        "start_time": "2022-01-09T21:00:27.401Z"
      },
      {
        "duration": 10,
        "start_time": "2022-01-09T21:01:00.940Z"
      },
      {
        "duration": 1167,
        "start_time": "2022-01-10T06:17:04.976Z"
      },
      {
        "duration": 5,
        "start_time": "2022-01-10T06:17:06.147Z"
      },
      {
        "duration": 28,
        "start_time": "2022-01-10T06:17:06.155Z"
      },
      {
        "duration": 59,
        "start_time": "2022-01-10T06:17:06.186Z"
      },
      {
        "duration": 25,
        "start_time": "2022-01-10T06:17:06.248Z"
      },
      {
        "duration": 27,
        "start_time": "2022-01-10T06:17:06.992Z"
      },
      {
        "duration": 29,
        "start_time": "2022-01-10T06:17:08.191Z"
      },
      {
        "duration": 45,
        "start_time": "2022-01-10T06:17:08.839Z"
      },
      {
        "duration": 370,
        "start_time": "2022-01-10T06:56:40.458Z"
      },
      {
        "duration": 125,
        "start_time": "2022-01-10T06:56:52.132Z"
      },
      {
        "duration": 22,
        "start_time": "2022-01-10T06:57:11.580Z"
      },
      {
        "duration": 479,
        "start_time": "2022-01-10T06:58:13.555Z"
      },
      {
        "duration": 458,
        "start_time": "2022-01-10T06:58:22.635Z"
      },
      {
        "duration": 19,
        "start_time": "2022-01-10T06:58:44.755Z"
      },
      {
        "duration": 41,
        "start_time": "2022-01-10T06:59:05.022Z"
      },
      {
        "duration": 21,
        "start_time": "2022-01-10T06:59:31.404Z"
      },
      {
        "duration": 21,
        "start_time": "2022-01-10T06:59:44.002Z"
      },
      {
        "duration": 35,
        "start_time": "2022-01-10T07:09:57.037Z"
      },
      {
        "duration": 24,
        "start_time": "2022-01-10T07:11:14.494Z"
      },
      {
        "duration": 351,
        "start_time": "2022-01-10T07:14:22.339Z"
      },
      {
        "duration": 9414,
        "start_time": "2022-01-10T07:14:36.716Z"
      },
      {
        "duration": 7,
        "start_time": "2022-01-10T07:15:05.399Z"
      },
      {
        "duration": 6,
        "start_time": "2022-01-10T07:15:16.245Z"
      },
      {
        "duration": 9,
        "start_time": "2022-01-10T07:15:28.798Z"
      },
      {
        "duration": 13,
        "start_time": "2022-01-10T07:16:06.971Z"
      },
      {
        "duration": 12,
        "start_time": "2022-01-10T07:31:25.357Z"
      },
      {
        "duration": 351,
        "start_time": "2022-01-10T07:32:13.795Z"
      },
      {
        "duration": 396,
        "start_time": "2022-01-10T07:32:25.144Z"
      },
      {
        "duration": 58,
        "start_time": "2022-01-10T07:32:35.638Z"
      },
      {
        "duration": 365,
        "start_time": "2022-01-10T07:33:23.369Z"
      },
      {
        "duration": 53,
        "start_time": "2022-01-10T07:33:32.600Z"
      },
      {
        "duration": 369,
        "start_time": "2022-01-10T07:33:57.667Z"
      },
      {
        "duration": 35,
        "start_time": "2022-01-10T07:34:12.872Z"
      },
      {
        "duration": 444,
        "start_time": "2022-01-10T07:35:57.713Z"
      },
      {
        "duration": 54,
        "start_time": "2022-01-10T07:36:17.335Z"
      },
      {
        "duration": 9,
        "start_time": "2022-01-10T07:52:26.179Z"
      },
      {
        "duration": 10,
        "start_time": "2022-01-10T07:54:04.201Z"
      },
      {
        "duration": 16,
        "start_time": "2022-01-10T07:54:41.174Z"
      },
      {
        "duration": 14,
        "start_time": "2022-01-10T07:55:30.749Z"
      },
      {
        "duration": 13,
        "start_time": "2022-01-10T07:57:16.536Z"
      },
      {
        "duration": 12,
        "start_time": "2022-01-10T08:19:58.109Z"
      },
      {
        "duration": 18,
        "start_time": "2022-01-10T08:20:13.855Z"
      },
      {
        "duration": 32,
        "start_time": "2022-01-10T08:25:17.384Z"
      },
      {
        "duration": 35,
        "start_time": "2022-01-10T08:44:50.013Z"
      },
      {
        "duration": 394,
        "start_time": "2022-01-10T08:45:51.820Z"
      },
      {
        "duration": 50,
        "start_time": "2022-01-10T08:46:00.789Z"
      },
      {
        "duration": 42,
        "start_time": "2022-01-10T08:46:25.866Z"
      },
      {
        "duration": 15,
        "start_time": "2022-01-10T09:34:00.902Z"
      },
      {
        "duration": 28,
        "start_time": "2022-01-10T09:34:34.251Z"
      },
      {
        "duration": 33,
        "start_time": "2022-01-10T09:34:50.632Z"
      },
      {
        "duration": 32,
        "start_time": "2022-01-10T09:35:13.902Z"
      },
      {
        "duration": 30,
        "start_time": "2022-01-10T09:35:25.616Z"
      },
      {
        "duration": 33,
        "start_time": "2022-01-10T09:36:07.291Z"
      },
      {
        "duration": 25,
        "start_time": "2022-01-10T09:44:46.778Z"
      },
      {
        "duration": 3,
        "start_time": "2022-01-10T09:44:52.855Z"
      },
      {
        "duration": 3,
        "start_time": "2022-01-10T09:44:53.081Z"
      },
      {
        "duration": 13,
        "start_time": "2022-01-10T09:44:53.972Z"
      },
      {
        "duration": 3,
        "start_time": "2022-01-10T09:45:00.893Z"
      },
      {
        "duration": 458,
        "start_time": "2022-01-10T09:46:17.372Z"
      },
      {
        "duration": -711,
        "start_time": "2022-01-10T09:46:51.343Z"
      },
      {
        "duration": 7335,
        "start_time": "2022-01-10T09:47:18.019Z"
      },
      {
        "duration": 6,
        "start_time": "2022-01-10T09:47:34.640Z"
      },
      {
        "duration": 25,
        "start_time": "2022-01-10T09:51:47.729Z"
      },
      {
        "duration": -1081,
        "start_time": "2022-01-10T09:55:18.525Z"
      },
      {
        "duration": 8861,
        "start_time": "2022-01-10T09:56:27.947Z"
      },
      {
        "duration": 19,
        "start_time": "2022-01-10T09:56:46.876Z"
      },
      {
        "duration": 23,
        "start_time": "2022-01-10T09:57:07.866Z"
      },
      {
        "duration": 15,
        "start_time": "2022-01-10T09:57:22.720Z"
      },
      {
        "duration": 373,
        "start_time": "2022-01-10T09:57:35.999Z"
      },
      {
        "duration": 17,
        "start_time": "2022-01-10T09:57:44.666Z"
      },
      {
        "duration": 13,
        "start_time": "2022-01-10T09:57:55.114Z"
      },
      {
        "duration": 647,
        "start_time": "2022-01-10T09:58:06.003Z"
      },
      {
        "duration": 18,
        "start_time": "2022-01-10T09:58:12.832Z"
      },
      {
        "duration": 15,
        "start_time": "2022-01-10T09:58:38.798Z"
      },
      {
        "duration": 17,
        "start_time": "2022-01-10T09:58:51.258Z"
      },
      {
        "duration": 353,
        "start_time": "2022-01-10T10:00:44.238Z"
      },
      {
        "duration": 388,
        "start_time": "2022-01-10T10:03:06.153Z"
      },
      {
        "duration": 66,
        "start_time": "2022-01-10T10:03:41.365Z"
      },
      {
        "duration": 7,
        "start_time": "2022-01-10T10:03:58.464Z"
      },
      {
        "duration": 7,
        "start_time": "2022-01-10T10:04:23.838Z"
      },
      {
        "duration": 33,
        "start_time": "2022-01-10T10:05:13.200Z"
      },
      {
        "duration": 10,
        "start_time": "2022-01-10T10:05:19.721Z"
      },
      {
        "duration": 9,
        "start_time": "2022-01-10T10:05:58.984Z"
      },
      {
        "duration": 7,
        "start_time": "2022-01-10T10:06:55.144Z"
      },
      {
        "duration": 5,
        "start_time": "2022-01-10T10:07:35.254Z"
      },
      {
        "duration": 524,
        "start_time": "2022-01-10T10:10:45.367Z"
      },
      {
        "duration": 5362,
        "start_time": "2022-01-10T10:11:38.702Z"
      },
      {
        "duration": 9,
        "start_time": "2022-01-10T10:14:37.309Z"
      },
      {
        "duration": 9,
        "start_time": "2022-01-10T10:15:14.618Z"
      },
      {
        "duration": 7,
        "start_time": "2022-01-10T10:15:17.690Z"
      },
      {
        "duration": 6,
        "start_time": "2022-01-10T10:15:32.589Z"
      },
      {
        "duration": 6,
        "start_time": "2022-01-10T10:15:57.908Z"
      },
      {
        "duration": 6,
        "start_time": "2022-01-10T10:16:03.918Z"
      },
      {
        "duration": 6,
        "start_time": "2022-01-10T10:16:04.650Z"
      },
      {
        "duration": 7,
        "start_time": "2022-01-10T10:16:15.883Z"
      },
      {
        "duration": 5,
        "start_time": "2022-01-10T10:16:46.210Z"
      },
      {
        "duration": 7,
        "start_time": "2022-01-10T10:16:46.656Z"
      },
      {
        "duration": 6,
        "start_time": "2022-01-10T10:16:58.831Z"
      },
      {
        "duration": 4,
        "start_time": "2022-01-10T10:17:00.222Z"
      },
      {
        "duration": 8,
        "start_time": "2022-01-10T10:17:00.900Z"
      },
      {
        "duration": 6,
        "start_time": "2022-01-10T10:18:19.438Z"
      },
      {
        "duration": 7,
        "start_time": "2022-01-10T10:18:29.466Z"
      },
      {
        "duration": 7,
        "start_time": "2022-01-10T10:18:32.944Z"
      },
      {
        "duration": 7,
        "start_time": "2022-01-10T10:18:41.204Z"
      },
      {
        "duration": 6,
        "start_time": "2022-01-10T10:18:59.334Z"
      },
      {
        "duration": 9,
        "start_time": "2022-01-10T10:19:37.049Z"
      },
      {
        "duration": 8,
        "start_time": "2022-01-10T10:20:05.476Z"
      },
      {
        "duration": 8,
        "start_time": "2022-01-10T10:20:08.479Z"
      },
      {
        "duration": 3,
        "start_time": "2022-01-10T10:20:12.214Z"
      },
      {
        "duration": 402,
        "start_time": "2022-01-10T10:23:00.468Z"
      },
      {
        "duration": 8,
        "start_time": "2022-01-10T10:23:07.612Z"
      },
      {
        "duration": 12,
        "start_time": "2022-01-10T10:23:51.931Z"
      },
      {
        "duration": 40,
        "start_time": "2022-01-10T10:24:52.269Z"
      },
      {
        "duration": 15,
        "start_time": "2022-01-10T10:26:19.156Z"
      },
      {
        "duration": 23,
        "start_time": "2022-01-10T10:26:52.973Z"
      },
      {
        "duration": 11,
        "start_time": "2022-01-10T10:27:27.461Z"
      },
      {
        "duration": 363,
        "start_time": "2022-01-10T10:28:11.148Z"
      },
      {
        "duration": 357,
        "start_time": "2022-01-10T10:28:45.798Z"
      },
      {
        "duration": 26,
        "start_time": "2022-01-10T10:28:52.607Z"
      },
      {
        "duration": 21,
        "start_time": "2022-01-10T10:29:29.028Z"
      },
      {
        "duration": 29,
        "start_time": "2022-01-10T10:29:38.569Z"
      },
      {
        "duration": 7,
        "start_time": "2022-01-10T10:31:46.740Z"
      },
      {
        "duration": 11,
        "start_time": "2022-01-10T10:31:55.554Z"
      },
      {
        "duration": 8,
        "start_time": "2022-01-10T10:32:12.534Z"
      },
      {
        "duration": 27,
        "start_time": "2022-01-10T10:32:23.960Z"
      },
      {
        "duration": 21,
        "start_time": "2022-01-10T10:32:52.995Z"
      },
      {
        "duration": 7,
        "start_time": "2022-01-10T10:33:05.496Z"
      },
      {
        "duration": 9,
        "start_time": "2022-01-10T10:33:56.807Z"
      },
      {
        "duration": 9,
        "start_time": "2022-01-10T10:34:06.865Z"
      },
      {
        "duration": 20,
        "start_time": "2022-01-10T10:34:39.512Z"
      },
      {
        "duration": 28,
        "start_time": "2022-01-10T10:35:07.773Z"
      },
      {
        "duration": 21,
        "start_time": "2022-01-10T10:35:16.337Z"
      },
      {
        "duration": 17,
        "start_time": "2022-01-10T10:38:05.097Z"
      },
      {
        "duration": 365,
        "start_time": "2022-01-10T11:15:14.025Z"
      },
      {
        "duration": 5,
        "start_time": "2022-01-10T11:15:38.430Z"
      },
      {
        "duration": 5,
        "start_time": "2022-01-10T11:15:40.134Z"
      },
      {
        "duration": 5,
        "start_time": "2022-01-10T11:16:04.356Z"
      },
      {
        "duration": 7,
        "start_time": "2022-01-10T11:16:21.302Z"
      },
      {
        "duration": 6,
        "start_time": "2022-01-10T11:16:34.593Z"
      },
      {
        "duration": 11,
        "start_time": "2022-01-10T11:18:09.677Z"
      },
      {
        "duration": 42,
        "start_time": "2022-01-10T11:18:13.174Z"
      },
      {
        "duration": 375,
        "start_time": "2022-01-10T11:18:49.106Z"
      },
      {
        "duration": 8,
        "start_time": "2022-01-10T11:18:56.725Z"
      },
      {
        "duration": 6,
        "start_time": "2022-01-10T11:19:04.012Z"
      },
      {
        "duration": 10,
        "start_time": "2022-01-10T11:19:32.660Z"
      },
      {
        "duration": 377,
        "start_time": "2022-01-10T11:24:14.569Z"
      },
      {
        "duration": 40,
        "start_time": "2022-01-10T11:24:23.258Z"
      },
      {
        "duration": 18,
        "start_time": "2022-01-10T11:28:24.289Z"
      },
      {
        "duration": 6,
        "start_time": "2022-01-10T11:28:44.302Z"
      },
      {
        "duration": 7,
        "start_time": "2022-01-10T11:28:49.169Z"
      },
      {
        "duration": 5,
        "start_time": "2022-01-10T11:29:01.827Z"
      },
      {
        "duration": 3,
        "start_time": "2022-01-10T11:29:10.262Z"
      },
      {
        "duration": 7,
        "start_time": "2022-01-10T11:29:13.090Z"
      },
      {
        "duration": 4,
        "start_time": "2022-01-10T11:29:18.821Z"
      },
      {
        "duration": 10,
        "start_time": "2022-01-10T11:29:21.425Z"
      },
      {
        "duration": 8,
        "start_time": "2022-01-10T11:29:25.125Z"
      },
      {
        "duration": 8,
        "start_time": "2022-01-10T11:29:33.457Z"
      },
      {
        "duration": 1150,
        "start_time": "2022-01-10T11:30:08.872Z"
      },
      {
        "duration": 6,
        "start_time": "2022-01-10T11:30:10.025Z"
      },
      {
        "duration": 40,
        "start_time": "2022-01-10T11:30:10.034Z"
      },
      {
        "duration": 58,
        "start_time": "2022-01-10T11:30:10.077Z"
      },
      {
        "duration": 40,
        "start_time": "2022-01-10T11:30:10.138Z"
      },
      {
        "duration": 24,
        "start_time": "2022-01-10T11:30:10.180Z"
      },
      {
        "duration": 57,
        "start_time": "2022-01-10T11:30:10.207Z"
      },
      {
        "duration": 3,
        "start_time": "2022-01-10T11:30:10.268Z"
      },
      {
        "duration": 8,
        "start_time": "2022-01-10T11:30:10.274Z"
      },
      {
        "duration": 6,
        "start_time": "2022-01-10T11:30:10.284Z"
      },
      {
        "duration": 9,
        "start_time": "2022-01-10T11:30:10.292Z"
      },
      {
        "duration": 10,
        "start_time": "2022-01-10T11:30:10.303Z"
      },
      {
        "duration": 47,
        "start_time": "2022-01-10T11:30:10.316Z"
      },
      {
        "duration": 9,
        "start_time": "2022-01-10T11:30:10.366Z"
      },
      {
        "duration": 9,
        "start_time": "2022-01-10T11:30:10.378Z"
      },
      {
        "duration": 10,
        "start_time": "2022-01-10T11:30:10.389Z"
      },
      {
        "duration": 9,
        "start_time": "2022-01-10T11:30:10.401Z"
      },
      {
        "duration": 7,
        "start_time": "2022-01-10T11:30:10.461Z"
      },
      {
        "duration": 5,
        "start_time": "2022-01-10T11:30:10.470Z"
      },
      {
        "duration": 7,
        "start_time": "2022-01-10T11:30:10.478Z"
      },
      {
        "duration": 12,
        "start_time": "2022-01-10T11:30:10.488Z"
      },
      {
        "duration": 79,
        "start_time": "2022-01-10T11:30:10.503Z"
      },
      {
        "duration": 3,
        "start_time": "2022-01-10T11:30:10.591Z"
      },
      {
        "duration": 10,
        "start_time": "2022-01-10T11:30:10.598Z"
      },
      {
        "duration": 6,
        "start_time": "2022-01-10T11:30:10.611Z"
      },
      {
        "duration": 39,
        "start_time": "2022-01-10T11:30:10.620Z"
      },
      {
        "duration": 14,
        "start_time": "2022-01-10T11:30:10.663Z"
      },
      {
        "duration": 19,
        "start_time": "2022-01-10T11:30:10.679Z"
      },
      {
        "duration": 17,
        "start_time": "2022-01-10T11:30:10.701Z"
      },
      {
        "duration": 39,
        "start_time": "2022-01-10T11:30:10.720Z"
      },
      {
        "duration": 4,
        "start_time": "2022-01-10T11:30:10.762Z"
      },
      {
        "duration": 8,
        "start_time": "2022-01-10T11:30:10.769Z"
      },
      {
        "duration": 26,
        "start_time": "2022-01-10T11:30:10.779Z"
      },
      {
        "duration": 13,
        "start_time": "2022-01-10T11:30:10.808Z"
      },
      {
        "duration": 36,
        "start_time": "2022-01-10T11:30:10.823Z"
      },
      {
        "duration": 6,
        "start_time": "2022-01-10T11:30:10.861Z"
      },
      {
        "duration": 9,
        "start_time": "2022-01-10T11:30:10.869Z"
      },
      {
        "duration": 8,
        "start_time": "2022-01-10T11:30:10.880Z"
      },
      {
        "duration": 8,
        "start_time": "2022-01-10T11:30:10.890Z"
      },
      {
        "duration": 67,
        "start_time": "2022-01-10T11:30:10.900Z"
      },
      {
        "duration": 9,
        "start_time": "2022-01-10T11:30:10.970Z"
      },
      {
        "duration": 45,
        "start_time": "2022-01-10T11:30:10.982Z"
      },
      {
        "duration": 29,
        "start_time": "2022-01-10T11:30:11.030Z"
      },
      {
        "duration": 5,
        "start_time": "2022-01-10T11:30:11.063Z"
      },
      {
        "duration": 9,
        "start_time": "2022-01-10T11:30:11.071Z"
      },
      {
        "duration": 13,
        "start_time": "2022-01-10T11:30:11.083Z"
      },
      {
        "duration": 11,
        "start_time": "2022-01-10T11:30:11.098Z"
      },
      {
        "duration": 22,
        "start_time": "2022-01-10T11:30:11.112Z"
      },
      {
        "duration": 9,
        "start_time": "2022-01-10T11:30:11.137Z"
      },
      {
        "duration": 4,
        "start_time": "2022-01-10T11:30:11.160Z"
      },
      {
        "duration": 7,
        "start_time": "2022-01-10T11:30:11.167Z"
      },
      {
        "duration": 6,
        "start_time": "2022-01-10T11:30:11.177Z"
      },
      {
        "duration": 6,
        "start_time": "2022-01-10T11:30:11.186Z"
      },
      {
        "duration": 5,
        "start_time": "2022-01-10T11:30:11.196Z"
      },
      {
        "duration": 6,
        "start_time": "2022-01-10T11:30:11.204Z"
      },
      {
        "duration": 6,
        "start_time": "2022-01-10T11:30:11.213Z"
      },
      {
        "duration": 41,
        "start_time": "2022-01-10T11:30:11.221Z"
      },
      {
        "duration": 7,
        "start_time": "2022-01-10T11:30:11.265Z"
      },
      {
        "duration": 6,
        "start_time": "2022-01-10T11:30:11.275Z"
      },
      {
        "duration": 6,
        "start_time": "2022-01-10T11:30:11.283Z"
      },
      {
        "duration": 7,
        "start_time": "2022-01-10T11:30:11.291Z"
      },
      {
        "duration": 7,
        "start_time": "2022-01-10T11:30:11.301Z"
      },
      {
        "duration": 4,
        "start_time": "2022-01-10T11:30:11.311Z"
      },
      {
        "duration": 44,
        "start_time": "2022-01-10T11:30:11.318Z"
      },
      {
        "duration": 6,
        "start_time": "2022-01-10T11:30:11.365Z"
      },
      {
        "duration": 8,
        "start_time": "2022-01-10T11:30:11.373Z"
      },
      {
        "duration": 7,
        "start_time": "2022-01-10T11:30:11.383Z"
      },
      {
        "duration": 6,
        "start_time": "2022-01-10T11:30:11.396Z"
      },
      {
        "duration": 6,
        "start_time": "2022-01-10T11:30:11.405Z"
      },
      {
        "duration": 6,
        "start_time": "2022-01-10T11:30:11.414Z"
      },
      {
        "duration": 37,
        "start_time": "2022-01-10T11:30:11.423Z"
      },
      {
        "duration": 24,
        "start_time": "2022-01-10T11:30:41.934Z"
      },
      {
        "duration": 515,
        "start_time": "2022-01-10T11:31:55.230Z"
      },
      {
        "duration": 164,
        "start_time": "2022-01-10T11:32:24.657Z"
      },
      {
        "duration": 412,
        "start_time": "2022-01-10T11:32:32.528Z"
      },
      {
        "duration": 4,
        "start_time": "2022-01-10T11:37:53.127Z"
      },
      {
        "duration": 436,
        "start_time": "2022-01-10T11:38:12.606Z"
      },
      {
        "duration": 5,
        "start_time": "2022-01-10T11:38:17.556Z"
      },
      {
        "duration": 51,
        "start_time": "2022-01-10T11:53:42.925Z"
      },
      {
        "duration": 23,
        "start_time": "2022-01-10T11:53:58.555Z"
      },
      {
        "duration": 23,
        "start_time": "2022-01-10T11:54:19.667Z"
      },
      {
        "duration": 23,
        "start_time": "2022-01-10T11:54:47.516Z"
      },
      {
        "duration": 6,
        "start_time": "2022-01-10T11:55:08.640Z"
      },
      {
        "duration": 355,
        "start_time": "2022-01-10T11:55:16.964Z"
      },
      {
        "duration": 8,
        "start_time": "2022-01-10T11:55:34.588Z"
      },
      {
        "duration": 8,
        "start_time": "2022-01-10T11:55:48.377Z"
      },
      {
        "duration": 26,
        "start_time": "2022-01-10T11:56:09.433Z"
      },
      {
        "duration": 23,
        "start_time": "2022-01-10T11:56:29.548Z"
      },
      {
        "duration": 3,
        "start_time": "2022-01-10T11:56:34.874Z"
      },
      {
        "duration": 14,
        "start_time": "2022-01-10T11:59:39.658Z"
      },
      {
        "duration": 17,
        "start_time": "2022-01-10T11:59:48.058Z"
      },
      {
        "duration": 7,
        "start_time": "2022-01-10T12:00:01.005Z"
      },
      {
        "duration": 13,
        "start_time": "2022-01-10T12:00:12.603Z"
      },
      {
        "duration": 11,
        "start_time": "2022-01-10T12:00:20.241Z"
      },
      {
        "duration": 899,
        "start_time": "2022-01-10T12:00:32.627Z"
      },
      {
        "duration": 4,
        "start_time": "2022-01-10T12:00:33.529Z"
      },
      {
        "duration": 33,
        "start_time": "2022-01-10T12:00:33.536Z"
      },
      {
        "duration": 59,
        "start_time": "2022-01-10T12:00:33.572Z"
      },
      {
        "duration": 39,
        "start_time": "2022-01-10T12:00:33.633Z"
      },
      {
        "duration": 24,
        "start_time": "2022-01-10T12:00:33.674Z"
      },
      {
        "duration": 15,
        "start_time": "2022-01-10T12:00:33.700Z"
      },
      {
        "duration": 42,
        "start_time": "2022-01-10T12:00:33.719Z"
      },
      {
        "duration": 7,
        "start_time": "2022-01-10T12:00:33.765Z"
      },
      {
        "duration": 9,
        "start_time": "2022-01-10T12:00:33.775Z"
      },
      {
        "duration": 4,
        "start_time": "2022-01-10T12:00:33.786Z"
      },
      {
        "duration": 13,
        "start_time": "2022-01-10T12:00:33.793Z"
      },
      {
        "duration": 15,
        "start_time": "2022-01-10T12:00:33.808Z"
      },
      {
        "duration": 11,
        "start_time": "2022-01-10T12:00:33.860Z"
      },
      {
        "duration": 5,
        "start_time": "2022-01-10T12:00:33.874Z"
      },
      {
        "duration": 9,
        "start_time": "2022-01-10T12:00:33.881Z"
      },
      {
        "duration": 5,
        "start_time": "2022-01-10T12:00:33.892Z"
      },
      {
        "duration": 9,
        "start_time": "2022-01-10T12:00:33.900Z"
      },
      {
        "duration": 7,
        "start_time": "2022-01-10T12:00:33.960Z"
      },
      {
        "duration": 3,
        "start_time": "2022-01-10T12:00:33.970Z"
      },
      {
        "duration": 11,
        "start_time": "2022-01-10T12:00:33.976Z"
      },
      {
        "duration": 82,
        "start_time": "2022-01-10T12:00:33.990Z"
      },
      {
        "duration": 4,
        "start_time": "2022-01-10T12:00:34.074Z"
      },
      {
        "duration": 11,
        "start_time": "2022-01-10T12:00:34.080Z"
      },
      {
        "duration": 5,
        "start_time": "2022-01-10T12:00:34.093Z"
      },
      {
        "duration": 5,
        "start_time": "2022-01-10T12:00:34.100Z"
      },
      {
        "duration": 10,
        "start_time": "2022-01-10T12:00:34.110Z"
      },
      {
        "duration": 19,
        "start_time": "2022-01-10T12:00:34.161Z"
      },
      {
        "duration": 3,
        "start_time": "2022-01-10T12:00:34.183Z"
      },
      {
        "duration": 14,
        "start_time": "2022-01-10T12:00:34.189Z"
      },
      {
        "duration": 5,
        "start_time": "2022-01-10T12:00:34.206Z"
      },
      {
        "duration": 50,
        "start_time": "2022-01-10T12:00:34.213Z"
      },
      {
        "duration": 27,
        "start_time": "2022-01-10T12:00:34.266Z"
      },
      {
        "duration": 11,
        "start_time": "2022-01-10T12:00:34.295Z"
      },
      {
        "duration": 7,
        "start_time": "2022-01-10T12:00:34.309Z"
      },
      {
        "duration": 6,
        "start_time": "2022-01-10T12:00:34.318Z"
      },
      {
        "duration": 34,
        "start_time": "2022-01-10T12:00:34.326Z"
      },
      {
        "duration": 7,
        "start_time": "2022-01-10T12:00:34.363Z"
      },
      {
        "duration": 6,
        "start_time": "2022-01-10T12:00:34.372Z"
      },
      {
        "duration": 42,
        "start_time": "2022-01-10T12:00:34.381Z"
      },
      {
        "duration": 40,
        "start_time": "2022-01-10T12:00:34.426Z"
      },
      {
        "duration": 95,
        "start_time": "2022-01-10T12:00:34.469Z"
      },
      {
        "duration": 4,
        "start_time": "2022-01-10T12:00:34.567Z"
      },
      {
        "duration": 9,
        "start_time": "2022-01-10T12:00:34.574Z"
      },
      {
        "duration": 10,
        "start_time": "2022-01-10T12:00:34.585Z"
      },
      {
        "duration": 7,
        "start_time": "2022-01-10T12:00:34.597Z"
      },
      {
        "duration": 8,
        "start_time": "2022-01-10T12:00:34.606Z"
      },
      {
        "duration": 4,
        "start_time": "2022-01-10T12:00:34.616Z"
      },
      {
        "duration": 10,
        "start_time": "2022-01-10T12:00:34.622Z"
      },
      {
        "duration": 3,
        "start_time": "2022-01-10T12:00:34.660Z"
      },
      {
        "duration": 7,
        "start_time": "2022-01-10T12:00:34.666Z"
      },
      {
        "duration": 7,
        "start_time": "2022-01-10T12:00:34.676Z"
      },
      {
        "duration": 7,
        "start_time": "2022-01-10T12:00:34.685Z"
      },
      {
        "duration": 8,
        "start_time": "2022-01-10T12:00:34.695Z"
      },
      {
        "duration": 8,
        "start_time": "2022-01-10T12:00:34.705Z"
      },
      {
        "duration": 6,
        "start_time": "2022-01-10T12:00:34.715Z"
      },
      {
        "duration": 39,
        "start_time": "2022-01-10T12:00:34.724Z"
      },
      {
        "duration": 4,
        "start_time": "2022-01-10T12:00:34.767Z"
      },
      {
        "duration": 3,
        "start_time": "2022-01-10T12:00:34.774Z"
      },
      {
        "duration": 5,
        "start_time": "2022-01-10T12:00:34.780Z"
      },
      {
        "duration": 4,
        "start_time": "2022-01-10T12:00:34.788Z"
      },
      {
        "duration": 5,
        "start_time": "2022-01-10T12:00:34.795Z"
      },
      {
        "duration": 58,
        "start_time": "2022-01-10T12:00:34.802Z"
      },
      {
        "duration": 5,
        "start_time": "2022-01-10T12:00:34.862Z"
      },
      {
        "duration": 5,
        "start_time": "2022-01-10T12:00:34.870Z"
      },
      {
        "duration": 4,
        "start_time": "2022-01-10T12:00:34.878Z"
      },
      {
        "duration": 7,
        "start_time": "2022-01-10T12:00:34.884Z"
      },
      {
        "duration": 8,
        "start_time": "2022-01-10T12:00:34.893Z"
      },
      {
        "duration": 5,
        "start_time": "2022-01-10T12:00:34.904Z"
      },
      {
        "duration": 56,
        "start_time": "2022-01-10T12:00:34.911Z"
      },
      {
        "duration": 6,
        "start_time": "2022-01-10T12:00:34.971Z"
      },
      {
        "duration": 7,
        "start_time": "2022-01-10T12:42:51.355Z"
      },
      {
        "duration": 15,
        "start_time": "2022-01-10T12:42:55.103Z"
      },
      {
        "duration": 7,
        "start_time": "2022-01-10T12:42:56.839Z"
      },
      {
        "duration": 9,
        "start_time": "2022-01-10T12:43:00.725Z"
      },
      {
        "duration": 9,
        "start_time": "2022-01-10T12:43:32.417Z"
      },
      {
        "duration": 9,
        "start_time": "2022-01-10T12:44:51.942Z"
      },
      {
        "duration": 10,
        "start_time": "2022-01-10T12:44:59.226Z"
      },
      {
        "duration": 40,
        "start_time": "2022-01-10T12:45:02.431Z"
      },
      {
        "duration": 6,
        "start_time": "2022-01-10T12:45:42.596Z"
      },
      {
        "duration": 8,
        "start_time": "2022-01-10T12:45:56.745Z"
      },
      {
        "duration": 473,
        "start_time": "2022-01-10T12:47:45.015Z"
      },
      {
        "duration": 42,
        "start_time": "2022-01-10T12:48:35.008Z"
      },
      {
        "duration": 10,
        "start_time": "2022-01-10T12:50:09.088Z"
      },
      {
        "duration": 9,
        "start_time": "2022-01-10T12:50:22.376Z"
      },
      {
        "duration": 9,
        "start_time": "2022-01-10T12:50:25.943Z"
      },
      {
        "duration": 16,
        "start_time": "2022-01-10T12:58:45.436Z"
      },
      {
        "duration": 30,
        "start_time": "2022-01-10T12:58:58.769Z"
      },
      {
        "duration": 14,
        "start_time": "2022-01-10T13:01:43.543Z"
      },
      {
        "duration": 12,
        "start_time": "2022-01-10T13:02:05.978Z"
      },
      {
        "duration": 863,
        "start_time": "2022-01-10T13:03:00.174Z"
      },
      {
        "duration": 376,
        "start_time": "2022-01-10T13:03:09.733Z"
      },
      {
        "duration": 423,
        "start_time": "2022-01-10T13:03:38.417Z"
      },
      {
        "duration": 378,
        "start_time": "2022-01-10T13:04:17.921Z"
      },
      {
        "duration": 20,
        "start_time": "2022-01-10T13:04:31.463Z"
      },
      {
        "duration": 11,
        "start_time": "2022-01-10T13:04:35.285Z"
      },
      {
        "duration": 13,
        "start_time": "2022-01-10T13:04:51.646Z"
      },
      {
        "duration": 10,
        "start_time": "2022-01-10T13:04:53.864Z"
      },
      {
        "duration": 114,
        "start_time": "2022-01-10T13:05:57.147Z"
      },
      {
        "duration": 6743,
        "start_time": "2022-01-10T13:06:06.728Z"
      },
      {
        "duration": -725,
        "start_time": "2022-01-10T13:06:14.199Z"
      },
      {
        "duration": 422,
        "start_time": "2022-01-10T13:07:09.326Z"
      },
      {
        "duration": 16,
        "start_time": "2022-01-10T13:08:06.842Z"
      },
      {
        "duration": 14,
        "start_time": "2022-01-10T13:30:41.769Z"
      },
      {
        "duration": 14,
        "start_time": "2022-01-10T13:30:48.965Z"
      },
      {
        "duration": 482,
        "start_time": "2022-01-10T13:31:07.157Z"
      },
      {
        "duration": 857,
        "start_time": "2022-01-10T13:31:08.096Z"
      },
      {
        "duration": 5,
        "start_time": "2022-01-10T13:31:08.956Z"
      },
      {
        "duration": 23,
        "start_time": "2022-01-10T13:31:08.963Z"
      },
      {
        "duration": 85,
        "start_time": "2022-01-10T13:31:08.990Z"
      },
      {
        "duration": 15,
        "start_time": "2022-01-10T13:31:09.078Z"
      },
      {
        "duration": 25,
        "start_time": "2022-01-10T13:31:09.096Z"
      },
      {
        "duration": 49,
        "start_time": "2022-01-10T13:31:09.123Z"
      },
      {
        "duration": 3,
        "start_time": "2022-01-10T13:31:09.175Z"
      },
      {
        "duration": 7,
        "start_time": "2022-01-10T13:31:09.184Z"
      },
      {
        "duration": 10,
        "start_time": "2022-01-10T13:31:09.195Z"
      },
      {
        "duration": 5,
        "start_time": "2022-01-10T13:31:09.208Z"
      },
      {
        "duration": 10,
        "start_time": "2022-01-10T13:31:09.215Z"
      },
      {
        "duration": 15,
        "start_time": "2022-01-10T13:31:09.259Z"
      },
      {
        "duration": 16,
        "start_time": "2022-01-10T13:31:09.277Z"
      },
      {
        "duration": 7,
        "start_time": "2022-01-10T13:31:09.296Z"
      },
      {
        "duration": 9,
        "start_time": "2022-01-10T13:31:09.306Z"
      },
      {
        "duration": 7,
        "start_time": "2022-01-10T13:31:09.359Z"
      },
      {
        "duration": 10,
        "start_time": "2022-01-10T13:31:09.369Z"
      },
      {
        "duration": 6,
        "start_time": "2022-01-10T13:31:09.382Z"
      },
      {
        "duration": 5,
        "start_time": "2022-01-10T13:31:09.391Z"
      },
      {
        "duration": 11,
        "start_time": "2022-01-10T13:31:09.399Z"
      },
      {
        "duration": 79,
        "start_time": "2022-01-10T13:31:09.412Z"
      },
      {
        "duration": 9,
        "start_time": "2022-01-10T13:31:09.493Z"
      },
      {
        "duration": 13,
        "start_time": "2022-01-10T13:31:09.504Z"
      },
      {
        "duration": 49,
        "start_time": "2022-01-10T13:31:09.520Z"
      },
      {
        "duration": 5,
        "start_time": "2022-01-10T13:31:09.571Z"
      },
      {
        "duration": 3,
        "start_time": "2022-01-10T13:31:09.583Z"
      },
      {
        "duration": 10,
        "start_time": "2022-01-10T13:31:09.589Z"
      },
      {
        "duration": 63,
        "start_time": "2022-01-10T13:31:09.601Z"
      },
      {
        "duration": 13,
        "start_time": "2022-01-10T13:31:09.667Z"
      },
      {
        "duration": 12,
        "start_time": "2022-01-10T13:31:09.683Z"
      },
      {
        "duration": 4,
        "start_time": "2022-01-10T13:31:09.697Z"
      },
      {
        "duration": 4,
        "start_time": "2022-01-10T13:31:09.704Z"
      },
      {
        "duration": 67,
        "start_time": "2022-01-10T13:31:09.710Z"
      },
      {
        "duration": 11,
        "start_time": "2022-01-10T13:31:09.779Z"
      },
      {
        "duration": 7,
        "start_time": "2022-01-10T13:31:09.792Z"
      },
      {
        "duration": 8,
        "start_time": "2022-01-10T13:31:09.802Z"
      },
      {
        "duration": 46,
        "start_time": "2022-01-10T13:31:09.813Z"
      },
      {
        "duration": 4,
        "start_time": "2022-01-10T13:31:09.862Z"
      },
      {
        "duration": 11,
        "start_time": "2022-01-10T13:31:09.868Z"
      },
      {
        "duration": 80,
        "start_time": "2022-01-10T13:31:09.881Z"
      },
      {
        "duration": 10,
        "start_time": "2022-01-10T13:31:09.963Z"
      },
      {
        "duration": 42,
        "start_time": "2022-01-10T13:31:09.975Z"
      },
      {
        "duration": 39,
        "start_time": "2022-01-10T13:31:10.020Z"
      },
      {
        "duration": 3,
        "start_time": "2022-01-10T13:31:10.062Z"
      },
      {
        "duration": 12,
        "start_time": "2022-01-10T13:31:10.068Z"
      },
      {
        "duration": 7,
        "start_time": "2022-01-10T13:31:10.083Z"
      },
      {
        "duration": 5,
        "start_time": "2022-01-10T13:31:10.092Z"
      },
      {
        "duration": 9,
        "start_time": "2022-01-10T13:31:10.099Z"
      },
      {
        "duration": 5,
        "start_time": "2022-01-10T13:31:10.111Z"
      },
      {
        "duration": 42,
        "start_time": "2022-01-10T13:31:10.118Z"
      },
      {
        "duration": 8,
        "start_time": "2022-01-10T13:31:10.163Z"
      },
      {
        "duration": 12,
        "start_time": "2022-01-10T13:31:10.174Z"
      },
      {
        "duration": 13,
        "start_time": "2022-01-10T13:31:10.188Z"
      },
      {
        "duration": 5,
        "start_time": "2022-01-10T13:31:10.203Z"
      },
      {
        "duration": 10,
        "start_time": "2022-01-10T13:31:10.210Z"
      },
      {
        "duration": 6,
        "start_time": "2022-01-10T13:31:10.222Z"
      },
      {
        "duration": 2,
        "start_time": "2022-01-10T13:31:10.260Z"
      },
      {
        "duration": 7,
        "start_time": "2022-01-10T13:31:10.264Z"
      },
      {
        "duration": 5,
        "start_time": "2022-01-10T13:31:10.273Z"
      },
      {
        "duration": 9,
        "start_time": "2022-01-10T13:31:10.280Z"
      },
      {
        "duration": 12,
        "start_time": "2022-01-10T13:31:10.291Z"
      },
      {
        "duration": 4,
        "start_time": "2022-01-10T13:31:10.307Z"
      },
      {
        "duration": 45,
        "start_time": "2022-01-10T13:31:10.314Z"
      },
      {
        "duration": 6,
        "start_time": "2022-01-10T13:31:10.362Z"
      },
      {
        "duration": 16,
        "start_time": "2022-01-10T13:31:10.370Z"
      },
      {
        "duration": 11,
        "start_time": "2022-01-10T13:31:10.389Z"
      },
      {
        "duration": 6,
        "start_time": "2022-01-10T13:31:10.403Z"
      },
      {
        "duration": 6,
        "start_time": "2022-01-10T13:31:10.412Z"
      },
      {
        "duration": 8,
        "start_time": "2022-01-10T13:31:10.420Z"
      },
      {
        "duration": 5,
        "start_time": "2022-01-10T13:31:10.430Z"
      },
      {
        "duration": 3,
        "start_time": "2022-01-10T13:31:10.459Z"
      },
      {
        "duration": 20,
        "start_time": "2022-01-10T13:33:24.456Z"
      },
      {
        "duration": 11,
        "start_time": "2022-01-10T13:33:27.499Z"
      },
      {
        "duration": 9,
        "start_time": "2022-01-10T13:33:43.527Z"
      },
      {
        "duration": 13,
        "start_time": "2022-01-10T13:33:51.177Z"
      },
      {
        "duration": 20,
        "start_time": "2022-01-10T15:29:12.360Z"
      },
      {
        "duration": 9437,
        "start_time": "2022-01-10T15:32:47.208Z"
      },
      {
        "duration": 371,
        "start_time": "2022-01-10T15:33:15.250Z"
      },
      {
        "duration": 16,
        "start_time": "2022-01-10T15:33:34.196Z"
      },
      {
        "duration": 27,
        "start_time": "2022-01-10T16:11:35.988Z"
      },
      {
        "duration": 19,
        "start_time": "2022-01-10T16:12:01.842Z"
      },
      {
        "duration": 3,
        "start_time": "2022-01-10T16:12:04.161Z"
      },
      {
        "duration": -590,
        "start_time": "2022-01-10T16:12:45.462Z"
      },
      {
        "duration": 10637,
        "start_time": "2022-01-10T16:15:40.899Z"
      },
      {
        "duration": 16,
        "start_time": "2022-01-10T16:16:10.569Z"
      },
      {
        "duration": 422,
        "start_time": "2022-01-10T16:16:28.970Z"
      },
      {
        "duration": 15,
        "start_time": "2022-01-10T16:16:41.946Z"
      },
      {
        "duration": 210,
        "start_time": "2022-01-10T17:57:42.433Z"
      },
      {
        "duration": 346,
        "start_time": "2022-01-10T17:57:47.792Z"
      },
      {
        "duration": 7,
        "start_time": "2022-01-10T17:57:53.854Z"
      },
      {
        "duration": 6,
        "start_time": "2022-01-10T17:58:03.168Z"
      },
      {
        "duration": 1290,
        "start_time": "2022-01-10T17:58:12.513Z"
      },
      {
        "duration": 6,
        "start_time": "2022-01-10T17:58:13.806Z"
      },
      {
        "duration": 43,
        "start_time": "2022-01-10T17:58:13.816Z"
      },
      {
        "duration": 61,
        "start_time": "2022-01-10T17:58:13.862Z"
      },
      {
        "duration": 34,
        "start_time": "2022-01-10T17:58:13.926Z"
      },
      {
        "duration": 26,
        "start_time": "2022-01-10T17:58:13.963Z"
      },
      {
        "duration": 16,
        "start_time": "2022-01-10T17:58:13.992Z"
      },
      {
        "duration": 47,
        "start_time": "2022-01-10T17:58:14.013Z"
      },
      {
        "duration": 29,
        "start_time": "2022-01-10T17:58:14.063Z"
      },
      {
        "duration": 3,
        "start_time": "2022-01-10T17:58:14.096Z"
      },
      {
        "duration": 4,
        "start_time": "2022-01-10T17:58:14.102Z"
      },
      {
        "duration": 9,
        "start_time": "2022-01-10T17:58:14.109Z"
      },
      {
        "duration": 48,
        "start_time": "2022-01-10T17:58:14.120Z"
      },
      {
        "duration": 9,
        "start_time": "2022-01-10T17:58:14.171Z"
      },
      {
        "duration": 8,
        "start_time": "2022-01-10T17:58:14.182Z"
      },
      {
        "duration": 11,
        "start_time": "2022-01-10T17:58:14.193Z"
      },
      {
        "duration": 7,
        "start_time": "2022-01-10T17:58:14.208Z"
      },
      {
        "duration": 55,
        "start_time": "2022-01-10T17:58:14.218Z"
      },
      {
        "duration": 5,
        "start_time": "2022-01-10T17:58:14.275Z"
      },
      {
        "duration": 4,
        "start_time": "2022-01-10T17:58:14.282Z"
      },
      {
        "duration": 13,
        "start_time": "2022-01-10T17:58:14.288Z"
      },
      {
        "duration": 60,
        "start_time": "2022-01-10T17:58:14.303Z"
      },
      {
        "duration": 9,
        "start_time": "2022-01-10T17:58:14.369Z"
      },
      {
        "duration": 11,
        "start_time": "2022-01-10T17:58:14.382Z"
      },
      {
        "duration": 14,
        "start_time": "2022-01-10T17:58:14.395Z"
      },
      {
        "duration": 4,
        "start_time": "2022-01-10T17:58:14.412Z"
      },
      {
        "duration": 40,
        "start_time": "2022-01-10T17:58:14.419Z"
      },
      {
        "duration": 12,
        "start_time": "2022-01-10T17:58:14.461Z"
      },
      {
        "duration": 15,
        "start_time": "2022-01-10T17:58:14.475Z"
      },
      {
        "duration": 10,
        "start_time": "2022-01-10T17:58:14.493Z"
      },
      {
        "duration": 11,
        "start_time": "2022-01-10T17:58:14.506Z"
      },
      {
        "duration": 4,
        "start_time": "2022-01-10T17:58:14.560Z"
      },
      {
        "duration": 8,
        "start_time": "2022-01-10T17:58:14.566Z"
      },
      {
        "duration": 28,
        "start_time": "2022-01-10T17:58:14.577Z"
      },
      {
        "duration": 11,
        "start_time": "2022-01-10T17:58:14.607Z"
      },
      {
        "duration": 5,
        "start_time": "2022-01-10T17:58:14.621Z"
      },
      {
        "duration": 3,
        "start_time": "2022-01-10T17:58:14.660Z"
      },
      {
        "duration": 8,
        "start_time": "2022-01-10T17:58:14.665Z"
      },
      {
        "duration": 6,
        "start_time": "2022-01-10T17:58:14.676Z"
      },
      {
        "duration": 6,
        "start_time": "2022-01-10T17:58:14.685Z"
      },
      {
        "duration": 72,
        "start_time": "2022-01-10T17:58:14.694Z"
      },
      {
        "duration": 12,
        "start_time": "2022-01-10T17:58:14.769Z"
      },
      {
        "duration": 47,
        "start_time": "2022-01-10T17:58:14.783Z"
      },
      {
        "duration": 25,
        "start_time": "2022-01-10T17:58:14.834Z"
      },
      {
        "duration": 7,
        "start_time": "2022-01-10T17:58:14.861Z"
      },
      {
        "duration": 6,
        "start_time": "2022-01-10T17:58:14.871Z"
      },
      {
        "duration": 7,
        "start_time": "2022-01-10T17:58:14.879Z"
      },
      {
        "duration": 6,
        "start_time": "2022-01-10T17:58:14.889Z"
      },
      {
        "duration": 9,
        "start_time": "2022-01-10T17:58:14.897Z"
      },
      {
        "duration": 7,
        "start_time": "2022-01-10T17:58:14.908Z"
      },
      {
        "duration": 8,
        "start_time": "2022-01-10T17:58:14.918Z"
      },
      {
        "duration": 8,
        "start_time": "2022-01-10T17:58:14.960Z"
      },
      {
        "duration": 9,
        "start_time": "2022-01-10T17:58:14.971Z"
      },
      {
        "duration": 5,
        "start_time": "2022-01-10T17:58:14.983Z"
      },
      {
        "duration": 6,
        "start_time": "2022-01-10T17:58:14.990Z"
      },
      {
        "duration": 16,
        "start_time": "2022-01-10T17:58:14.998Z"
      },
      {
        "duration": 19,
        "start_time": "2022-01-10T17:58:15.016Z"
      },
      {
        "duration": 16,
        "start_time": "2022-01-10T17:58:15.037Z"
      },
      {
        "duration": 8,
        "start_time": "2022-01-10T17:58:15.056Z"
      },
      {
        "duration": 6,
        "start_time": "2022-01-10T17:58:15.066Z"
      },
      {
        "duration": 7,
        "start_time": "2022-01-10T17:58:15.075Z"
      },
      {
        "duration": 9,
        "start_time": "2022-01-10T17:58:15.084Z"
      },
      {
        "duration": 6,
        "start_time": "2022-01-10T17:58:15.095Z"
      },
      {
        "duration": 11,
        "start_time": "2022-01-10T17:58:15.104Z"
      },
      {
        "duration": 9,
        "start_time": "2022-01-10T17:58:15.118Z"
      },
      {
        "duration": 29,
        "start_time": "2022-01-10T17:58:15.130Z"
      },
      {
        "duration": 5,
        "start_time": "2022-01-10T17:58:15.162Z"
      },
      {
        "duration": 3,
        "start_time": "2022-01-10T17:58:15.178Z"
      },
      {
        "duration": 6,
        "start_time": "2022-01-10T17:58:15.184Z"
      },
      {
        "duration": 5,
        "start_time": "2022-01-10T17:58:15.193Z"
      },
      {
        "duration": 3,
        "start_time": "2022-01-10T17:58:15.201Z"
      },
      {
        "duration": 5,
        "start_time": "2022-01-10T17:58:15.207Z"
      },
      {
        "duration": 80,
        "start_time": "2022-01-10T17:58:32.055Z"
      },
      {
        "duration": 6,
        "start_time": "2022-01-10T17:58:32.997Z"
      },
      {
        "duration": 20,
        "start_time": "2022-01-10T17:58:33.350Z"
      },
      {
        "duration": 84,
        "start_time": "2022-01-10T17:58:33.925Z"
      },
      {
        "duration": 14,
        "start_time": "2022-01-10T17:58:34.406Z"
      },
      {
        "duration": 25,
        "start_time": "2022-01-10T17:58:34.886Z"
      },
      {
        "duration": 17,
        "start_time": "2022-01-10T17:58:35.462Z"
      },
      {
        "duration": 3,
        "start_time": "2022-01-10T17:58:35.913Z"
      },
      {
        "duration": 21,
        "start_time": "2022-01-10T17:58:38.166Z"
      },
      {
        "duration": 3,
        "start_time": "2022-01-10T17:58:39.654Z"
      },
      {
        "duration": 4,
        "start_time": "2022-01-10T17:58:41.087Z"
      },
      {
        "duration": 10,
        "start_time": "2022-01-10T17:58:42.847Z"
      },
      {
        "duration": 23,
        "start_time": "2022-01-10T17:58:43.797Z"
      },
      {
        "duration": 11,
        "start_time": "2022-01-10T17:58:45.069Z"
      },
      {
        "duration": 10,
        "start_time": "2022-01-10T18:03:29.202Z"
      },
      {
        "duration": 11,
        "start_time": "2022-01-10T18:04:12.375Z"
      },
      {
        "duration": 13,
        "start_time": "2022-01-10T18:04:33.311Z"
      },
      {
        "duration": 12,
        "start_time": "2022-01-10T18:04:48.244Z"
      },
      {
        "duration": 25,
        "start_time": "2022-01-10T18:06:31.097Z"
      },
      {
        "duration": 25,
        "start_time": "2022-01-10T18:08:14.761Z"
      },
      {
        "duration": 11,
        "start_time": "2022-01-10T18:08:16.538Z"
      },
      {
        "duration": 899,
        "start_time": "2022-01-10T18:08:38.950Z"
      },
      {
        "duration": 5,
        "start_time": "2022-01-10T18:08:39.851Z"
      },
      {
        "duration": 20,
        "start_time": "2022-01-10T18:08:39.859Z"
      },
      {
        "duration": 78,
        "start_time": "2022-01-10T18:08:39.881Z"
      },
      {
        "duration": 13,
        "start_time": "2022-01-10T18:08:39.962Z"
      },
      {
        "duration": 37,
        "start_time": "2022-01-10T18:08:39.978Z"
      },
      {
        "duration": 55,
        "start_time": "2022-01-10T18:08:40.018Z"
      },
      {
        "duration": 4,
        "start_time": "2022-01-10T18:08:40.076Z"
      },
      {
        "duration": 20,
        "start_time": "2022-01-10T18:08:40.083Z"
      },
      {
        "duration": 5,
        "start_time": "2022-01-10T18:08:40.105Z"
      },
      {
        "duration": 7,
        "start_time": "2022-01-10T18:08:40.112Z"
      },
      {
        "duration": 47,
        "start_time": "2022-01-10T18:08:40.122Z"
      },
      {
        "duration": 15,
        "start_time": "2022-01-10T18:08:40.172Z"
      },
      {
        "duration": 30,
        "start_time": "2022-01-10T18:08:40.190Z"
      },
      {
        "duration": 12,
        "start_time": "2022-01-10T18:08:40.222Z"
      },
      {
        "duration": 8,
        "start_time": "2022-01-10T18:08:40.260Z"
      },
      {
        "duration": 458,
        "start_time": "2022-01-10T18:08:40.271Z"
      },
      {
        "duration": -421,
        "start_time": "2022-01-10T18:08:41.157Z"
      },
      {
        "duration": -424,
        "start_time": "2022-01-10T18:08:41.162Z"
      },
      {
        "duration": -428,
        "start_time": "2022-01-10T18:08:41.168Z"
      },
      {
        "duration": -431,
        "start_time": "2022-01-10T18:08:41.173Z"
      },
      {
        "duration": -433,
        "start_time": "2022-01-10T18:08:41.177Z"
      },
      {
        "duration": -433,
        "start_time": "2022-01-10T18:08:41.179Z"
      },
      {
        "duration": -433,
        "start_time": "2022-01-10T18:08:41.182Z"
      },
      {
        "duration": -434,
        "start_time": "2022-01-10T18:08:41.185Z"
      },
      {
        "duration": -435,
        "start_time": "2022-01-10T18:08:41.188Z"
      },
      {
        "duration": -437,
        "start_time": "2022-01-10T18:08:41.192Z"
      },
      {
        "duration": -436,
        "start_time": "2022-01-10T18:08:41.194Z"
      },
      {
        "duration": -437,
        "start_time": "2022-01-10T18:08:41.197Z"
      },
      {
        "duration": -438,
        "start_time": "2022-01-10T18:08:41.200Z"
      },
      {
        "duration": -440,
        "start_time": "2022-01-10T18:08:41.204Z"
      },
      {
        "duration": -603,
        "start_time": "2022-01-10T18:08:41.369Z"
      },
      {
        "duration": -615,
        "start_time": "2022-01-10T18:08:41.383Z"
      },
      {
        "duration": -614,
        "start_time": "2022-01-10T18:08:41.385Z"
      },
      {
        "duration": -615,
        "start_time": "2022-01-10T18:08:41.388Z"
      },
      {
        "duration": -615,
        "start_time": "2022-01-10T18:08:41.390Z"
      },
      {
        "duration": -615,
        "start_time": "2022-01-10T18:08:41.392Z"
      },
      {
        "duration": -615,
        "start_time": "2022-01-10T18:08:41.394Z"
      },
      {
        "duration": -614,
        "start_time": "2022-01-10T18:08:41.396Z"
      },
      {
        "duration": -615,
        "start_time": "2022-01-10T18:08:41.399Z"
      },
      {
        "duration": -615,
        "start_time": "2022-01-10T18:08:41.401Z"
      },
      {
        "duration": -615,
        "start_time": "2022-01-10T18:08:41.403Z"
      },
      {
        "duration": -615,
        "start_time": "2022-01-10T18:08:41.406Z"
      },
      {
        "duration": -615,
        "start_time": "2022-01-10T18:08:41.408Z"
      },
      {
        "duration": -615,
        "start_time": "2022-01-10T18:08:41.410Z"
      },
      {
        "duration": -679,
        "start_time": "2022-01-10T18:08:41.476Z"
      },
      {
        "duration": -679,
        "start_time": "2022-01-10T18:08:41.478Z"
      },
      {
        "duration": -622,
        "start_time": "2022-01-10T18:08:41.480Z"
      },
      {
        "duration": -622,
        "start_time": "2022-01-10T18:08:41.483Z"
      },
      {
        "duration": -622,
        "start_time": "2022-01-10T18:08:41.485Z"
      },
      {
        "duration": -622,
        "start_time": "2022-01-10T18:08:41.487Z"
      },
      {
        "duration": -622,
        "start_time": "2022-01-10T18:08:41.489Z"
      },
      {
        "duration": -621,
        "start_time": "2022-01-10T18:08:41.491Z"
      },
      {
        "duration": -623,
        "start_time": "2022-01-10T18:08:41.495Z"
      },
      {
        "duration": -634,
        "start_time": "2022-01-10T18:08:41.508Z"
      },
      {
        "duration": -634,
        "start_time": "2022-01-10T18:08:41.510Z"
      },
      {
        "duration": -634,
        "start_time": "2022-01-10T18:08:41.512Z"
      },
      {
        "duration": -634,
        "start_time": "2022-01-10T18:08:41.515Z"
      },
      {
        "duration": -634,
        "start_time": "2022-01-10T18:08:41.517Z"
      },
      {
        "duration": -634,
        "start_time": "2022-01-10T18:08:41.519Z"
      },
      {
        "duration": -643,
        "start_time": "2022-01-10T18:08:41.530Z"
      },
      {
        "duration": -667,
        "start_time": "2022-01-10T18:08:41.557Z"
      },
      {
        "duration": -669,
        "start_time": "2022-01-10T18:08:41.561Z"
      },
      {
        "duration": -674,
        "start_time": "2022-01-10T18:08:41.568Z"
      },
      {
        "duration": -674,
        "start_time": "2022-01-10T18:08:41.572Z"
      },
      {
        "duration": -616,
        "start_time": "2022-01-10T18:08:41.575Z"
      },
      {
        "duration": -620,
        "start_time": "2022-01-10T18:08:41.582Z"
      },
      {
        "duration": -621,
        "start_time": "2022-01-10T18:08:41.585Z"
      },
      {
        "duration": -623,
        "start_time": "2022-01-10T18:08:41.589Z"
      },
      {
        "duration": -642,
        "start_time": "2022-01-10T18:08:41.610Z"
      },
      {
        "duration": -643,
        "start_time": "2022-01-10T18:08:41.614Z"
      },
      {
        "duration": -650,
        "start_time": "2022-01-10T18:08:41.622Z"
      },
      {
        "duration": -650,
        "start_time": "2022-01-10T18:08:41.625Z"
      },
      {
        "duration": 83,
        "start_time": "2022-01-10T18:08:44.464Z"
      },
      {
        "duration": 5,
        "start_time": "2022-01-10T18:08:45.904Z"
      },
      {
        "duration": 20,
        "start_time": "2022-01-10T18:08:46.398Z"
      },
      {
        "duration": 56,
        "start_time": "2022-01-10T18:08:47.464Z"
      },
      {
        "duration": 15,
        "start_time": "2022-01-10T18:08:50.528Z"
      },
      {
        "duration": 25,
        "start_time": "2022-01-10T18:08:52.695Z"
      },
      {
        "duration": 15,
        "start_time": "2022-01-10T18:08:55.382Z"
      },
      {
        "duration": 3,
        "start_time": "2022-01-10T18:08:56.788Z"
      },
      {
        "duration": 47,
        "start_time": "2022-01-10T18:08:59.847Z"
      },
      {
        "duration": 3,
        "start_time": "2022-01-10T18:09:03.831Z"
      },
      {
        "duration": 4,
        "start_time": "2022-01-10T18:09:05.119Z"
      },
      {
        "duration": 6,
        "start_time": "2022-01-10T18:09:07.351Z"
      },
      {
        "duration": 14,
        "start_time": "2022-01-10T18:09:08.197Z"
      },
      {
        "duration": 29,
        "start_time": "2022-01-10T18:09:09.078Z"
      },
      {
        "duration": 14,
        "start_time": "2022-01-10T18:09:13.374Z"
      },
      {
        "duration": 6,
        "start_time": "2022-01-10T18:09:57.745Z"
      },
      {
        "duration": 14,
        "start_time": "2022-01-10T18:09:58.455Z"
      },
      {
        "duration": 21,
        "start_time": "2022-01-10T18:09:59.027Z"
      },
      {
        "duration": 11,
        "start_time": "2022-01-10T18:09:59.831Z"
      },
      {
        "duration": 8,
        "start_time": "2022-01-10T18:10:02.599Z"
      },
      {
        "duration": 1196,
        "start_time": "2022-01-10T18:10:10.311Z"
      },
      {
        "duration": -450,
        "start_time": "2022-01-10T18:10:11.960Z"
      },
      {
        "duration": 470,
        "start_time": "2022-01-10T18:10:22.623Z"
      },
      {
        "duration": 9,
        "start_time": "2022-01-10T18:10:34.353Z"
      },
      {
        "duration": 13,
        "start_time": "2022-01-10T18:10:37.759Z"
      },
      {
        "duration": 6,
        "start_time": "2022-01-10T18:10:41.519Z"
      },
      {
        "duration": 4,
        "start_time": "2022-01-10T18:10:43.622Z"
      },
      {
        "duration": 11,
        "start_time": "2022-01-10T18:10:46.957Z"
      },
      {
        "duration": 11,
        "start_time": "2022-01-10T18:11:01.976Z"
      },
      {
        "duration": 27,
        "start_time": "2022-01-10T18:11:02.946Z"
      },
      {
        "duration": 468,
        "start_time": "2022-01-10T18:11:04.549Z"
      },
      {
        "duration": 11,
        "start_time": "2022-01-10T18:11:05.205Z"
      },
      {
        "duration": 13,
        "start_time": "2022-01-10T18:11:06.573Z"
      },
      {
        "duration": 2,
        "start_time": "2022-01-10T18:11:07.331Z"
      },
      {
        "duration": 8,
        "start_time": "2022-01-10T18:11:12.790Z"
      },
      {
        "duration": 13,
        "start_time": "2022-01-10T18:11:13.692Z"
      },
      {
        "duration": 14,
        "start_time": "2022-01-10T18:11:14.041Z"
      },
      {
        "duration": 10,
        "start_time": "2022-01-10T18:11:14.466Z"
      },
      {
        "duration": 10,
        "start_time": "2022-01-10T18:11:15.379Z"
      },
      {
        "duration": 3,
        "start_time": "2022-01-10T18:11:15.754Z"
      },
      {
        "duration": 4,
        "start_time": "2022-01-10T18:11:16.461Z"
      },
      {
        "duration": 36,
        "start_time": "2022-01-10T18:11:17.777Z"
      },
      {
        "duration": 11,
        "start_time": "2022-01-10T18:11:18.283Z"
      },
      {
        "duration": 3,
        "start_time": "2022-01-10T18:11:19.341Z"
      },
      {
        "duration": 3,
        "start_time": "2022-01-10T18:11:22.079Z"
      },
      {
        "duration": 1221,
        "start_time": "2022-01-10T20:10:48.391Z"
      },
      {
        "duration": 5,
        "start_time": "2022-01-10T20:10:49.614Z"
      },
      {
        "duration": 41,
        "start_time": "2022-01-10T20:10:49.622Z"
      },
      {
        "duration": 73,
        "start_time": "2022-01-10T20:10:49.667Z"
      },
      {
        "duration": 33,
        "start_time": "2022-01-10T20:10:49.742Z"
      },
      {
        "duration": 31,
        "start_time": "2022-01-10T20:10:49.778Z"
      },
      {
        "duration": 63,
        "start_time": "2022-01-10T20:10:49.811Z"
      },
      {
        "duration": 4,
        "start_time": "2022-01-10T20:10:49.881Z"
      },
      {
        "duration": 21,
        "start_time": "2022-01-10T20:10:49.888Z"
      },
      {
        "duration": 3,
        "start_time": "2022-01-10T20:10:49.912Z"
      },
      {
        "duration": 9,
        "start_time": "2022-01-10T20:10:49.917Z"
      },
      {
        "duration": 42,
        "start_time": "2022-01-10T20:10:49.928Z"
      },
      {
        "duration": 24,
        "start_time": "2022-01-10T20:10:49.973Z"
      },
      {
        "duration": 29,
        "start_time": "2022-01-10T20:10:50.000Z"
      },
      {
        "duration": 36,
        "start_time": "2022-01-10T20:10:50.031Z"
      },
      {
        "duration": 18,
        "start_time": "2022-01-10T20:10:50.070Z"
      },
      {
        "duration": 608,
        "start_time": "2022-01-10T20:10:50.090Z"
      },
      {
        "duration": -614,
        "start_time": "2022-01-10T20:10:51.317Z"
      },
      {
        "duration": -622,
        "start_time": "2022-01-10T20:10:51.326Z"
      },
      {
        "duration": -632,
        "start_time": "2022-01-10T20:10:51.337Z"
      },
      {
        "duration": -641,
        "start_time": "2022-01-10T20:10:51.348Z"
      },
      {
        "duration": -651,
        "start_time": "2022-01-10T20:10:51.359Z"
      },
      {
        "duration": -661,
        "start_time": "2022-01-10T20:10:51.370Z"
      },
      {
        "duration": -666,
        "start_time": "2022-01-10T20:10:51.376Z"
      },
      {
        "duration": -668,
        "start_time": "2022-01-10T20:10:51.380Z"
      },
      {
        "duration": -697,
        "start_time": "2022-01-10T20:10:51.410Z"
      },
      {
        "duration": -699,
        "start_time": "2022-01-10T20:10:51.413Z"
      },
      {
        "duration": -700,
        "start_time": "2022-01-10T20:10:51.415Z"
      },
      {
        "duration": -701,
        "start_time": "2022-01-10T20:10:51.417Z"
      },
      {
        "duration": -706,
        "start_time": "2022-01-10T20:10:51.423Z"
      },
      {
        "duration": -708,
        "start_time": "2022-01-10T20:10:51.427Z"
      },
      {
        "duration": -710,
        "start_time": "2022-01-10T20:10:51.430Z"
      },
      {
        "duration": -715,
        "start_time": "2022-01-10T20:10:51.436Z"
      },
      {
        "duration": -716,
        "start_time": "2022-01-10T20:10:51.439Z"
      },
      {
        "duration": -717,
        "start_time": "2022-01-10T20:10:51.441Z"
      },
      {
        "duration": -719,
        "start_time": "2022-01-10T20:10:51.444Z"
      },
      {
        "duration": -969,
        "start_time": "2022-01-10T20:10:51.696Z"
      },
      {
        "duration": -976,
        "start_time": "2022-01-10T20:10:51.704Z"
      },
      {
        "duration": -973,
        "start_time": "2022-01-10T20:10:51.707Z"
      },
      {
        "duration": -975,
        "start_time": "2022-01-10T20:10:51.711Z"
      },
      {
        "duration": -982,
        "start_time": "2022-01-10T20:10:51.719Z"
      },
      {
        "duration": -984,
        "start_time": "2022-01-10T20:10:51.722Z"
      },
      {
        "duration": -966,
        "start_time": "2022-01-10T20:10:51.725Z"
      },
      {
        "duration": -972,
        "start_time": "2022-01-10T20:10:51.733Z"
      },
      {
        "duration": -974,
        "start_time": "2022-01-10T20:10:51.737Z"
      },
      {
        "duration": -980,
        "start_time": "2022-01-10T20:10:51.745Z"
      },
      {
        "duration": -981,
        "start_time": "2022-01-10T20:10:51.748Z"
      },
      {
        "duration": -983,
        "start_time": "2022-01-10T20:10:51.752Z"
      },
      {
        "duration": -990,
        "start_time": "2022-01-10T20:10:51.760Z"
      },
      {
        "duration": -992,
        "start_time": "2022-01-10T20:10:51.764Z"
      },
      {
        "duration": -998,
        "start_time": "2022-01-10T20:10:51.771Z"
      },
      {
        "duration": -1000,
        "start_time": "2022-01-10T20:10:51.775Z"
      },
      {
        "duration": -1008,
        "start_time": "2022-01-10T20:10:51.784Z"
      },
      {
        "duration": -1009,
        "start_time": "2022-01-10T20:10:51.787Z"
      },
      {
        "duration": -1010,
        "start_time": "2022-01-10T20:10:51.791Z"
      },
      {
        "duration": -1016,
        "start_time": "2022-01-10T20:10:51.799Z"
      },
      {
        "duration": -1017,
        "start_time": "2022-01-10T20:10:51.802Z"
      },
      {
        "duration": -1023,
        "start_time": "2022-01-10T20:10:51.810Z"
      },
      {
        "duration": -1025,
        "start_time": "2022-01-10T20:10:51.814Z"
      },
      {
        "duration": -1034,
        "start_time": "2022-01-10T20:10:51.825Z"
      },
      {
        "duration": -1038,
        "start_time": "2022-01-10T20:10:51.831Z"
      },
      {
        "duration": -1045,
        "start_time": "2022-01-10T20:10:51.840Z"
      },
      {
        "duration": -1047,
        "start_time": "2022-01-10T20:10:51.844Z"
      },
      {
        "duration": -1054,
        "start_time": "2022-01-10T20:10:51.853Z"
      },
      {
        "duration": -1057,
        "start_time": "2022-01-10T20:10:51.857Z"
      },
      {
        "duration": -1007,
        "start_time": "2022-01-10T20:10:51.866Z"
      },
      {
        "duration": -1008,
        "start_time": "2022-01-10T20:10:51.869Z"
      },
      {
        "duration": -1053,
        "start_time": "2022-01-10T20:10:51.916Z"
      },
      {
        "duration": -1054,
        "start_time": "2022-01-10T20:10:51.919Z"
      },
      {
        "duration": -1055,
        "start_time": "2022-01-10T20:10:51.922Z"
      },
      {
        "duration": -1083,
        "start_time": "2022-01-10T20:10:51.952Z"
      },
      {
        "duration": -1099,
        "start_time": "2022-01-10T20:10:51.970Z"
      },
      {
        "duration": -1100,
        "start_time": "2022-01-10T20:10:51.973Z"
      },
      {
        "duration": 97,
        "start_time": "2022-01-10T20:10:59.219Z"
      },
      {
        "duration": 84,
        "start_time": "2022-01-10T20:13:56.959Z"
      },
      {
        "duration": 5,
        "start_time": "2022-01-10T20:14:36.718Z"
      },
      {
        "duration": 24,
        "start_time": "2022-01-10T20:14:44.944Z"
      },
      {
        "duration": 10823,
        "start_time": "2022-01-10T20:21:46.902Z"
      },
      {
        "duration": 123,
        "start_time": "2022-01-10T20:22:14.000Z"
      },
      {
        "duration": 14,
        "start_time": "2022-01-10T20:22:26.004Z"
      },
      {
        "duration": 16,
        "start_time": "2022-01-10T20:25:13.175Z"
      },
      {
        "duration": 28,
        "start_time": "2022-01-10T20:25:50.016Z"
      },
      {
        "duration": 906,
        "start_time": "2022-01-11T06:15:56.632Z"
      },
      {
        "duration": 5,
        "start_time": "2022-01-11T06:16:02.882Z"
      },
      {
        "duration": 19,
        "start_time": "2022-01-11T06:16:05.363Z"
      },
      {
        "duration": 59,
        "start_time": "2022-01-11T06:16:10.893Z"
      },
      {
        "duration": 15,
        "start_time": "2022-01-11T06:16:15.168Z"
      },
      {
        "duration": 15,
        "start_time": "2022-01-11T06:16:29.791Z"
      },
      {
        "duration": 19,
        "start_time": "2022-01-11T06:16:35.268Z"
      },
      {
        "duration": 8,
        "start_time": "2022-01-11T06:16:40.196Z"
      },
      {
        "duration": 16,
        "start_time": "2022-01-11T06:16:43.520Z"
      },
      {
        "duration": 12,
        "start_time": "2022-01-11T06:17:01.737Z"
      },
      {
        "duration": 11,
        "start_time": "2022-01-11T06:17:07.621Z"
      },
      {
        "duration": 7,
        "start_time": "2022-01-11T06:17:17.558Z"
      },
      {
        "duration": 15,
        "start_time": "2022-01-11T06:17:31.328Z"
      },
      {
        "duration": 14,
        "start_time": "2022-01-11T06:19:36.354Z"
      },
      {
        "duration": 5,
        "start_time": "2022-01-11T06:19:37.322Z"
      },
      {
        "duration": 7,
        "start_time": "2022-01-11T06:19:52.359Z"
      },
      {
        "duration": 6,
        "start_time": "2022-01-11T06:19:56.369Z"
      },
      {
        "duration": 9,
        "start_time": "2022-01-11T06:20:47.782Z"
      },
      {
        "duration": 34,
        "start_time": "2022-01-11T06:20:56.105Z"
      },
      {
        "duration": 8,
        "start_time": "2022-01-11T06:23:20.732Z"
      },
      {
        "duration": 10,
        "start_time": "2022-01-11T06:23:28.450Z"
      },
      {
        "duration": 11,
        "start_time": "2022-01-11T06:23:36.806Z"
      },
      {
        "duration": 10,
        "start_time": "2022-01-11T06:23:42.544Z"
      },
      {
        "duration": 14,
        "start_time": "2022-01-11T06:23:50.928Z"
      },
      {
        "duration": 12,
        "start_time": "2022-01-11T06:24:00.861Z"
      },
      {
        "duration": 495,
        "start_time": "2022-01-11T06:27:15.350Z"
      },
      {
        "duration": 316,
        "start_time": "2022-01-11T06:27:41.288Z"
      },
      {
        "duration": 2222,
        "start_time": "2022-01-11T06:27:49.038Z"
      },
      {
        "duration": 319,
        "start_time": "2022-01-11T06:28:16.942Z"
      },
      {
        "duration": 101,
        "start_time": "2022-01-11T06:28:26.850Z"
      },
      {
        "duration": 326,
        "start_time": "2022-01-11T06:28:29.757Z"
      },
      {
        "duration": 335,
        "start_time": "2022-01-11T06:28:41.672Z"
      },
      {
        "duration": 10,
        "start_time": "2022-01-11T06:28:56.655Z"
      },
      {
        "duration": 8,
        "start_time": "2022-01-11T06:29:20.395Z"
      },
      {
        "duration": 3,
        "start_time": "2022-01-11T06:29:26.787Z"
      },
      {
        "duration": 10,
        "start_time": "2022-01-11T06:29:32.713Z"
      },
      {
        "duration": 931,
        "start_time": "2022-01-11T06:30:00.512Z"
      },
      {
        "duration": 4,
        "start_time": "2022-01-11T06:30:01.446Z"
      },
      {
        "duration": 69,
        "start_time": "2022-01-11T06:30:01.454Z"
      },
      {
        "duration": 82,
        "start_time": "2022-01-11T06:30:01.526Z"
      },
      {
        "duration": 16,
        "start_time": "2022-01-11T06:30:01.611Z"
      },
      {
        "duration": 65,
        "start_time": "2022-01-11T06:30:01.630Z"
      },
      {
        "duration": 15,
        "start_time": "2022-01-11T06:30:01.698Z"
      },
      {
        "duration": 33,
        "start_time": "2022-01-11T06:30:01.715Z"
      },
      {
        "duration": 53,
        "start_time": "2022-01-11T06:30:01.754Z"
      },
      {
        "duration": 32,
        "start_time": "2022-01-11T06:30:01.811Z"
      },
      {
        "duration": 12,
        "start_time": "2022-01-11T06:30:01.846Z"
      },
      {
        "duration": 24,
        "start_time": "2022-01-11T06:30:01.860Z"
      },
      {
        "duration": 38,
        "start_time": "2022-01-11T06:30:01.886Z"
      },
      {
        "duration": 24,
        "start_time": "2022-01-11T06:30:01.926Z"
      },
      {
        "duration": 34,
        "start_time": "2022-01-11T06:30:01.953Z"
      },
      {
        "duration": 24,
        "start_time": "2022-01-11T06:30:01.990Z"
      },
      {
        "duration": 31,
        "start_time": "2022-01-11T06:30:02.016Z"
      },
      {
        "duration": 14,
        "start_time": "2022-01-11T06:30:02.049Z"
      },
      {
        "duration": 35,
        "start_time": "2022-01-11T06:30:02.066Z"
      },
      {
        "duration": 16,
        "start_time": "2022-01-11T06:30:02.104Z"
      },
      {
        "duration": 20,
        "start_time": "2022-01-11T06:30:02.123Z"
      },
      {
        "duration": 22,
        "start_time": "2022-01-11T06:30:02.146Z"
      },
      {
        "duration": 36,
        "start_time": "2022-01-11T06:30:02.181Z"
      },
      {
        "duration": 14,
        "start_time": "2022-01-11T06:30:02.220Z"
      },
      {
        "duration": 15,
        "start_time": "2022-01-11T06:30:02.236Z"
      },
      {
        "duration": 28,
        "start_time": "2022-01-11T06:30:02.253Z"
      },
      {
        "duration": 2,
        "start_time": "2022-01-11T06:30:02.292Z"
      },
      {
        "duration": 15,
        "start_time": "2022-01-11T06:30:02.297Z"
      },
      {
        "duration": 27,
        "start_time": "2022-01-11T06:30:02.315Z"
      },
      {
        "duration": 31,
        "start_time": "2022-01-11T06:30:02.345Z"
      },
      {
        "duration": 3,
        "start_time": "2022-01-11T06:30:02.379Z"
      },
      {
        "duration": 23,
        "start_time": "2022-01-11T06:30:02.384Z"
      },
      {
        "duration": 5,
        "start_time": "2022-01-11T06:30:02.410Z"
      },
      {
        "duration": 12,
        "start_time": "2022-01-11T06:30:02.418Z"
      },
      {
        "duration": 44,
        "start_time": "2022-01-11T06:30:02.432Z"
      },
      {
        "duration": 11,
        "start_time": "2022-01-11T06:30:02.478Z"
      },
      {
        "duration": 19,
        "start_time": "2022-01-11T06:30:02.492Z"
      },
      {
        "duration": 15,
        "start_time": "2022-01-11T06:30:02.513Z"
      },
      {
        "duration": 9,
        "start_time": "2022-01-11T06:30:02.530Z"
      },
      {
        "duration": 10,
        "start_time": "2022-01-11T06:30:02.542Z"
      },
      {
        "duration": 25,
        "start_time": "2022-01-11T06:30:02.555Z"
      },
      {
        "duration": 76,
        "start_time": "2022-01-11T06:30:02.583Z"
      },
      {
        "duration": 13,
        "start_time": "2022-01-11T06:30:02.662Z"
      },
      {
        "duration": 54,
        "start_time": "2022-01-11T06:30:02.678Z"
      },
      {
        "duration": 3,
        "start_time": "2022-01-11T06:30:02.735Z"
      },
      {
        "duration": 27,
        "start_time": "2022-01-11T06:30:02.741Z"
      },
      {
        "duration": 14,
        "start_time": "2022-01-11T06:30:02.773Z"
      },
      {
        "duration": 10,
        "start_time": "2022-01-11T06:30:02.789Z"
      },
      {
        "duration": 7,
        "start_time": "2022-01-11T06:30:02.802Z"
      },
      {
        "duration": 7,
        "start_time": "2022-01-11T06:30:02.811Z"
      },
      {
        "duration": 8,
        "start_time": "2022-01-11T06:30:02.821Z"
      },
      {
        "duration": 6,
        "start_time": "2022-01-11T06:30:02.832Z"
      },
      {
        "duration": 35,
        "start_time": "2022-01-11T06:30:02.841Z"
      },
      {
        "duration": 13,
        "start_time": "2022-01-11T06:30:02.880Z"
      },
      {
        "duration": 10,
        "start_time": "2022-01-11T06:30:02.895Z"
      },
      {
        "duration": 6,
        "start_time": "2022-01-11T06:30:02.908Z"
      },
      {
        "duration": 14,
        "start_time": "2022-01-11T06:30:02.917Z"
      },
      {
        "duration": 13,
        "start_time": "2022-01-11T06:30:02.933Z"
      },
      {
        "duration": 8,
        "start_time": "2022-01-11T06:30:02.948Z"
      },
      {
        "duration": 20,
        "start_time": "2022-01-11T06:30:02.959Z"
      },
      {
        "duration": 19,
        "start_time": "2022-01-11T06:30:02.982Z"
      },
      {
        "duration": 14,
        "start_time": "2022-01-11T06:30:03.004Z"
      },
      {
        "duration": 18,
        "start_time": "2022-01-11T06:30:03.020Z"
      },
      {
        "duration": 17,
        "start_time": "2022-01-11T06:30:03.041Z"
      },
      {
        "duration": 24,
        "start_time": "2022-01-11T06:30:03.060Z"
      },
      {
        "duration": 33,
        "start_time": "2022-01-11T06:30:03.086Z"
      },
      {
        "duration": 17,
        "start_time": "2022-01-11T06:30:03.122Z"
      },
      {
        "duration": 17,
        "start_time": "2022-01-11T06:30:03.141Z"
      },
      {
        "duration": 11,
        "start_time": "2022-01-11T06:30:03.160Z"
      },
      {
        "duration": 20,
        "start_time": "2022-01-11T06:30:03.177Z"
      },
      {
        "duration": 17,
        "start_time": "2022-01-11T06:30:03.199Z"
      },
      {
        "duration": 19,
        "start_time": "2022-01-11T06:30:03.218Z"
      },
      {
        "duration": 19,
        "start_time": "2022-01-11T06:30:03.240Z"
      },
      {
        "duration": 92,
        "start_time": "2022-01-11T06:30:13.766Z"
      },
      {
        "duration": 6,
        "start_time": "2022-01-11T06:30:15.571Z"
      },
      {
        "duration": 21,
        "start_time": "2022-01-11T06:30:16.692Z"
      },
      {
        "duration": 72,
        "start_time": "2022-01-11T06:30:23.037Z"
      },
      {
        "duration": 15,
        "start_time": "2022-01-11T06:30:23.517Z"
      },
      {
        "duration": 27,
        "start_time": "2022-01-11T06:30:23.928Z"
      },
      {
        "duration": 15,
        "start_time": "2022-01-11T06:30:25.244Z"
      },
      {
        "duration": 4,
        "start_time": "2022-01-11T06:30:26.219Z"
      },
      {
        "duration": 21,
        "start_time": "2022-01-11T06:30:28.057Z"
      },
      {
        "duration": 3,
        "start_time": "2022-01-11T06:30:29.970Z"
      },
      {
        "duration": 3,
        "start_time": "2022-01-11T06:30:35.644Z"
      },
      {
        "duration": 8,
        "start_time": "2022-01-11T06:30:38.880Z"
      },
      {
        "duration": 15,
        "start_time": "2022-01-11T06:30:39.520Z"
      },
      {
        "duration": 9,
        "start_time": "2022-01-11T06:30:40.115Z"
      },
      {
        "duration": 13,
        "start_time": "2022-01-11T06:30:40.819Z"
      },
      {
        "duration": 6,
        "start_time": "2022-01-11T06:30:42.259Z"
      },
      {
        "duration": 14,
        "start_time": "2022-01-11T06:30:44.048Z"
      },
      {
        "duration": 10,
        "start_time": "2022-01-11T06:30:44.966Z"
      },
      {
        "duration": 9,
        "start_time": "2022-01-11T06:30:47.042Z"
      },
      {
        "duration": 5,
        "start_time": "2022-01-11T06:30:48.761Z"
      },
      {
        "duration": 3,
        "start_time": "2022-01-11T06:30:49.627Z"
      },
      {
        "duration": 8,
        "start_time": "2022-01-11T06:30:52.967Z"
      },
      {
        "duration": 35,
        "start_time": "2022-01-11T06:30:54.796Z"
      },
      {
        "duration": 8,
        "start_time": "2022-01-11T06:31:04.077Z"
      },
      {
        "duration": 13,
        "start_time": "2022-01-11T06:31:05.151Z"
      },
      {
        "duration": 9,
        "start_time": "2022-01-11T06:31:19.551Z"
      },
      {
        "duration": 3,
        "start_time": "2022-01-11T06:31:23.984Z"
      },
      {
        "duration": 3,
        "start_time": "2022-01-11T06:31:24.644Z"
      },
      {
        "duration": 11,
        "start_time": "2022-01-11T06:31:30.912Z"
      },
      {
        "duration": 61,
        "start_time": "2022-01-11T06:31:50.487Z"
      },
      {
        "duration": 20,
        "start_time": "2022-01-11T06:32:18.555Z"
      },
      {
        "duration": 10,
        "start_time": "2022-01-11T06:32:28.548Z"
      },
      {
        "duration": 10,
        "start_time": "2022-01-11T06:32:48.111Z"
      },
      {
        "duration": 3,
        "start_time": "2022-01-11T06:32:49.814Z"
      },
      {
        "duration": 3,
        "start_time": "2022-01-11T06:32:50.347Z"
      },
      {
        "duration": 24,
        "start_time": "2022-01-11T06:32:52.727Z"
      },
      {
        "duration": 23,
        "start_time": "2022-01-11T06:33:06.282Z"
      },
      {
        "duration": 4,
        "start_time": "2022-01-11T06:44:56.526Z"
      },
      {
        "duration": 37,
        "start_time": "2022-01-11T06:45:02.779Z"
      },
      {
        "duration": 4,
        "start_time": "2022-01-11T06:45:06.941Z"
      },
      {
        "duration": 338,
        "start_time": "2022-01-11T06:45:24.931Z"
      },
      {
        "duration": 6,
        "start_time": "2022-01-11T06:45:42.956Z"
      },
      {
        "duration": 103,
        "start_time": "2022-01-11T06:46:09.683Z"
      },
      {
        "duration": 105,
        "start_time": "2022-01-11T06:46:24.382Z"
      },
      {
        "duration": 99,
        "start_time": "2022-01-11T06:46:32.663Z"
      },
      {
        "duration": 290,
        "start_time": "2022-01-11T06:46:37.289Z"
      },
      {
        "duration": 4,
        "start_time": "2022-01-11T07:12:11.548Z"
      },
      {
        "duration": 6,
        "start_time": "2022-01-11T07:12:26.531Z"
      },
      {
        "duration": 7,
        "start_time": "2022-01-11T07:12:37.262Z"
      },
      {
        "duration": 12,
        "start_time": "2022-01-11T07:24:20.048Z"
      },
      {
        "duration": 267,
        "start_time": "2022-01-11T07:28:33.385Z"
      },
      {
        "duration": 286,
        "start_time": "2022-01-11T07:28:42.597Z"
      },
      {
        "duration": 3,
        "start_time": "2022-01-11T07:28:47.002Z"
      },
      {
        "duration": 27,
        "start_time": "2022-01-11T07:28:48.054Z"
      },
      {
        "duration": 28,
        "start_time": "2022-01-11T07:38:44.858Z"
      },
      {
        "duration": 37,
        "start_time": "2022-01-11T07:47:19.675Z"
      },
      {
        "duration": 24,
        "start_time": "2022-01-11T07:47:34.801Z"
      },
      {
        "duration": 274,
        "start_time": "2022-01-11T07:47:57.453Z"
      },
      {
        "duration": 6,
        "start_time": "2022-01-11T07:48:00.481Z"
      },
      {
        "duration": 7,
        "start_time": "2022-01-11T07:50:56.879Z"
      },
      {
        "duration": 40,
        "start_time": "2022-01-11T07:51:00.160Z"
      },
      {
        "duration": 6,
        "start_time": "2022-01-11T07:51:42.275Z"
      },
      {
        "duration": 7,
        "start_time": "2022-01-11T07:51:49.951Z"
      },
      {
        "duration": 7,
        "start_time": "2022-01-11T07:52:59.898Z"
      },
      {
        "duration": 6,
        "start_time": "2022-01-11T07:53:00.748Z"
      },
      {
        "duration": 7341,
        "start_time": "2022-01-11T07:55:54.818Z"
      },
      {
        "duration": 5,
        "start_time": "2022-01-11T07:56:14.545Z"
      },
      {
        "duration": 5,
        "start_time": "2022-01-11T07:56:15.157Z"
      },
      {
        "duration": 47,
        "start_time": "2022-01-11T07:56:16.388Z"
      },
      {
        "duration": 10,
        "start_time": "2022-01-11T07:56:18.312Z"
      },
      {
        "duration": 649,
        "start_time": "2022-01-11T07:56:48.802Z"
      },
      {
        "duration": 4,
        "start_time": "2022-01-11T07:57:01.839Z"
      },
      {
        "duration": 5,
        "start_time": "2022-01-11T07:57:02.975Z"
      },
      {
        "duration": 4866,
        "start_time": "2022-01-11T07:59:02.331Z"
      },
      {
        "duration": 3,
        "start_time": "2022-01-11T08:01:07.717Z"
      },
      {
        "duration": 4,
        "start_time": "2022-01-11T08:01:09.324Z"
      },
      {
        "duration": 6,
        "start_time": "2022-01-11T08:01:13.008Z"
      },
      {
        "duration": 7499,
        "start_time": "2022-01-11T08:01:14.647Z"
      },
      {
        "duration": 15,
        "start_time": "2022-01-11T08:01:51.235Z"
      },
      {
        "duration": 5055,
        "start_time": "2022-01-11T08:02:15.001Z"
      },
      {
        "duration": 264,
        "start_time": "2022-01-11T08:02:47.176Z"
      },
      {
        "duration": 96,
        "start_time": "2022-01-11T08:02:52.216Z"
      },
      {
        "duration": 605,
        "start_time": "2022-01-11T08:02:55.592Z"
      },
      {
        "duration": 6,
        "start_time": "2022-01-11T08:03:43.750Z"
      },
      {
        "duration": 885,
        "start_time": "2022-01-11T08:03:52.472Z"
      },
      {
        "duration": 5,
        "start_time": "2022-01-11T08:03:53.360Z"
      },
      {
        "duration": 23,
        "start_time": "2022-01-11T08:03:53.368Z"
      },
      {
        "duration": 85,
        "start_time": "2022-01-11T08:03:53.394Z"
      },
      {
        "duration": 14,
        "start_time": "2022-01-11T08:03:53.482Z"
      },
      {
        "duration": 31,
        "start_time": "2022-01-11T08:03:53.499Z"
      },
      {
        "duration": 48,
        "start_time": "2022-01-11T08:03:53.533Z"
      },
      {
        "duration": 3,
        "start_time": "2022-01-11T08:03:53.587Z"
      },
      {
        "duration": 42,
        "start_time": "2022-01-11T08:03:53.594Z"
      },
      {
        "duration": 3,
        "start_time": "2022-01-11T08:03:53.638Z"
      },
      {
        "duration": 4,
        "start_time": "2022-01-11T08:03:53.666Z"
      },
      {
        "duration": 10,
        "start_time": "2022-01-11T08:03:53.672Z"
      },
      {
        "duration": 17,
        "start_time": "2022-01-11T08:03:53.684Z"
      },
      {
        "duration": 13,
        "start_time": "2022-01-11T08:03:53.704Z"
      },
      {
        "duration": 16,
        "start_time": "2022-01-11T08:03:53.720Z"
      },
      {
        "duration": 32,
        "start_time": "2022-01-11T08:03:53.740Z"
      },
      {
        "duration": 14,
        "start_time": "2022-01-11T08:03:53.775Z"
      },
      {
        "duration": 6,
        "start_time": "2022-01-11T08:03:53.791Z"
      },
      {
        "duration": 11,
        "start_time": "2022-01-11T08:03:53.799Z"
      },
      {
        "duration": 10,
        "start_time": "2022-01-11T08:03:53.812Z"
      },
      {
        "duration": 46,
        "start_time": "2022-01-11T08:03:53.824Z"
      },
      {
        "duration": 15,
        "start_time": "2022-01-11T08:03:53.872Z"
      },
      {
        "duration": 36,
        "start_time": "2022-01-11T08:03:53.893Z"
      },
      {
        "duration": 38,
        "start_time": "2022-01-11T08:03:53.933Z"
      },
      {
        "duration": 9,
        "start_time": "2022-01-11T08:03:53.973Z"
      },
      {
        "duration": 10,
        "start_time": "2022-01-11T08:03:53.984Z"
      },
      {
        "duration": 8,
        "start_time": "2022-01-11T08:03:53.997Z"
      },
      {
        "duration": 16,
        "start_time": "2022-01-11T08:03:54.008Z"
      },
      {
        "duration": 13,
        "start_time": "2022-01-11T08:03:54.026Z"
      },
      {
        "duration": 20,
        "start_time": "2022-01-11T08:03:54.068Z"
      },
      {
        "duration": 10,
        "start_time": "2022-01-11T08:03:54.091Z"
      },
      {
        "duration": 13,
        "start_time": "2022-01-11T08:03:54.103Z"
      },
      {
        "duration": 9,
        "start_time": "2022-01-11T08:03:54.118Z"
      },
      {
        "duration": 38,
        "start_time": "2022-01-11T08:03:54.129Z"
      },
      {
        "duration": 25,
        "start_time": "2022-01-11T08:03:54.170Z"
      },
      {
        "duration": 10,
        "start_time": "2022-01-11T08:03:54.197Z"
      },
      {
        "duration": 4,
        "start_time": "2022-01-11T08:03:54.210Z"
      },
      {
        "duration": 63,
        "start_time": "2022-01-11T08:03:54.216Z"
      },
      {
        "duration": 24,
        "start_time": "2022-01-11T08:03:54.281Z"
      },
      {
        "duration": 4,
        "start_time": "2022-01-11T08:03:54.308Z"
      },
      {
        "duration": 6,
        "start_time": "2022-01-11T08:03:54.314Z"
      },
      {
        "duration": 44,
        "start_time": "2022-01-11T08:03:54.323Z"
      },
      {
        "duration": 6,
        "start_time": "2022-01-11T08:03:54.370Z"
      },
      {
        "duration": 667,
        "start_time": "2022-01-11T08:03:54.379Z"
      },
      {
        "duration": -925,
        "start_time": "2022-01-11T08:03:55.974Z"
      },
      {
        "duration": -927,
        "start_time": "2022-01-11T08:03:55.977Z"
      },
      {
        "duration": -933,
        "start_time": "2022-01-11T08:03:55.985Z"
      },
      {
        "duration": -934,
        "start_time": "2022-01-11T08:03:55.987Z"
      },
      {
        "duration": -935,
        "start_time": "2022-01-11T08:03:55.990Z"
      },
      {
        "duration": -936,
        "start_time": "2022-01-11T08:03:55.992Z"
      },
      {
        "duration": -944,
        "start_time": "2022-01-11T08:03:56.001Z"
      },
      {
        "duration": -944,
        "start_time": "2022-01-11T08:03:56.003Z"
      },
      {
        "duration": -946,
        "start_time": "2022-01-11T08:03:56.006Z"
      },
      {
        "duration": -946,
        "start_time": "2022-01-11T08:03:56.008Z"
      },
      {
        "duration": -954,
        "start_time": "2022-01-11T08:03:56.017Z"
      },
      {
        "duration": -955,
        "start_time": "2022-01-11T08:03:56.020Z"
      },
      {
        "duration": -956,
        "start_time": "2022-01-11T08:03:56.022Z"
      },
      {
        "duration": -956,
        "start_time": "2022-01-11T08:03:56.024Z"
      },
      {
        "duration": -965,
        "start_time": "2022-01-11T08:03:56.034Z"
      },
      {
        "duration": -965,
        "start_time": "2022-01-11T08:03:56.036Z"
      },
      {
        "duration": -965,
        "start_time": "2022-01-11T08:03:56.039Z"
      },
      {
        "duration": -990,
        "start_time": "2022-01-11T08:03:56.066Z"
      },
      {
        "duration": -992,
        "start_time": "2022-01-11T08:03:56.069Z"
      },
      {
        "duration": -992,
        "start_time": "2022-01-11T08:03:56.071Z"
      },
      {
        "duration": -993,
        "start_time": "2022-01-11T08:03:56.073Z"
      },
      {
        "duration": -993,
        "start_time": "2022-01-11T08:03:56.075Z"
      },
      {
        "duration": -1000,
        "start_time": "2022-01-11T08:03:56.084Z"
      },
      {
        "duration": -1001,
        "start_time": "2022-01-11T08:03:56.086Z"
      },
      {
        "duration": -1002,
        "start_time": "2022-01-11T08:03:56.089Z"
      },
      {
        "duration": -1002,
        "start_time": "2022-01-11T08:03:56.091Z"
      },
      {
        "duration": -1004,
        "start_time": "2022-01-11T08:03:56.094Z"
      },
      {
        "duration": -1010,
        "start_time": "2022-01-11T08:03:56.102Z"
      },
      {
        "duration": -1012,
        "start_time": "2022-01-11T08:03:56.105Z"
      },
      {
        "duration": -1012,
        "start_time": "2022-01-11T08:03:56.107Z"
      },
      {
        "duration": -1014,
        "start_time": "2022-01-11T08:03:56.110Z"
      },
      {
        "duration": -1019,
        "start_time": "2022-01-11T08:03:56.117Z"
      },
      {
        "duration": -1021,
        "start_time": "2022-01-11T08:03:56.120Z"
      },
      {
        "duration": -1021,
        "start_time": "2022-01-11T08:03:56.122Z"
      },
      {
        "duration": -1022,
        "start_time": "2022-01-11T08:03:56.125Z"
      },
      {
        "duration": 90,
        "start_time": "2022-01-11T08:03:58.477Z"
      },
      {
        "duration": 5,
        "start_time": "2022-01-11T08:04:00.424Z"
      },
      {
        "duration": 22,
        "start_time": "2022-01-11T08:04:01.640Z"
      },
      {
        "duration": 59,
        "start_time": "2022-01-11T08:04:12.370Z"
      },
      {
        "duration": 17,
        "start_time": "2022-01-11T08:04:15.429Z"
      },
      {
        "duration": 27,
        "start_time": "2022-01-11T08:04:18.064Z"
      },
      {
        "duration": 17,
        "start_time": "2022-01-11T08:04:21.835Z"
      },
      {
        "duration": 3,
        "start_time": "2022-01-11T08:04:22.786Z"
      },
      {
        "duration": 19,
        "start_time": "2022-01-11T08:04:24.736Z"
      },
      {
        "duration": 3,
        "start_time": "2022-01-11T08:04:27.343Z"
      },
      {
        "duration": 3,
        "start_time": "2022-01-11T08:04:28.686Z"
      },
      {
        "duration": 7,
        "start_time": "2022-01-11T08:04:30.420Z"
      },
      {
        "duration": 15,
        "start_time": "2022-01-11T08:04:31.204Z"
      },
      {
        "duration": 9,
        "start_time": "2022-01-11T08:04:31.902Z"
      },
      {
        "duration": 11,
        "start_time": "2022-01-11T08:04:32.695Z"
      },
      {
        "duration": 12,
        "start_time": "2022-01-11T08:04:36.897Z"
      },
      {
        "duration": 15,
        "start_time": "2022-01-11T08:04:39.536Z"
      },
      {
        "duration": 5,
        "start_time": "2022-01-11T08:04:48.423Z"
      },
      {
        "duration": 7,
        "start_time": "2022-01-11T08:05:11.272Z"
      },
      {
        "duration": 5,
        "start_time": "2022-01-11T08:05:13.033Z"
      },
      {
        "duration": 3,
        "start_time": "2022-01-11T08:05:13.849Z"
      },
      {
        "duration": 8,
        "start_time": "2022-01-11T08:05:16.668Z"
      },
      {
        "duration": 36,
        "start_time": "2022-01-11T08:05:17.876Z"
      },
      {
        "duration": 8,
        "start_time": "2022-01-11T08:05:22.107Z"
      },
      {
        "duration": 10,
        "start_time": "2022-01-11T08:05:23.133Z"
      },
      {
        "duration": 11,
        "start_time": "2022-01-11T08:05:27.671Z"
      },
      {
        "duration": 3,
        "start_time": "2022-01-11T08:05:30.918Z"
      },
      {
        "duration": 3,
        "start_time": "2022-01-11T08:05:34.138Z"
      },
      {
        "duration": 10,
        "start_time": "2022-01-11T08:05:36.119Z"
      },
      {
        "duration": 19,
        "start_time": "2022-01-11T08:05:37.504Z"
      },
      {
        "duration": 9,
        "start_time": "2022-01-11T08:05:41.099Z"
      },
      {
        "duration": 10,
        "start_time": "2022-01-11T08:05:43.220Z"
      },
      {
        "duration": 3,
        "start_time": "2022-01-11T08:05:46.444Z"
      },
      {
        "duration": 4,
        "start_time": "2022-01-11T08:05:46.992Z"
      },
      {
        "duration": 26,
        "start_time": "2022-01-11T08:05:48.506Z"
      },
      {
        "duration": 13,
        "start_time": "2022-01-11T08:05:49.550Z"
      },
      {
        "duration": 4,
        "start_time": "2022-01-11T08:05:56.092Z"
      },
      {
        "duration": 29,
        "start_time": "2022-01-11T08:05:57.414Z"
      },
      {
        "duration": 24,
        "start_time": "2022-01-11T08:06:03.385Z"
      },
      {
        "duration": 6,
        "start_time": "2022-01-11T08:06:05.310Z"
      },
      {
        "duration": 4,
        "start_time": "2022-01-11T08:06:11.721Z"
      },
      {
        "duration": 4,
        "start_time": "2022-01-11T08:06:14.888Z"
      },
      {
        "duration": 6,
        "start_time": "2022-01-11T08:06:15.742Z"
      },
      {
        "duration": 46,
        "start_time": "2022-01-11T08:06:35.344Z"
      },
      {
        "duration": 13,
        "start_time": "2022-01-11T08:15:17.348Z"
      },
      {
        "duration": 5908,
        "start_time": "2022-01-11T08:16:16.936Z"
      },
      {
        "duration": 10,
        "start_time": "2022-01-11T08:16:56.387Z"
      },
      {
        "duration": 15,
        "start_time": "2022-01-11T08:18:27.440Z"
      },
      {
        "duration": 33,
        "start_time": "2022-01-11T08:18:55.207Z"
      },
      {
        "duration": 16,
        "start_time": "2022-01-11T08:19:27.792Z"
      },
      {
        "duration": 4,
        "start_time": "2022-01-11T08:32:09.925Z"
      },
      {
        "duration": 5,
        "start_time": "2022-01-11T08:32:17.800Z"
      },
      {
        "duration": 5098,
        "start_time": "2022-01-11T08:32:23.807Z"
      },
      {
        "duration": 9,
        "start_time": "2022-01-11T08:32:36.619Z"
      },
      {
        "duration": 40,
        "start_time": "2022-01-11T08:33:09.748Z"
      },
      {
        "duration": 7,
        "start_time": "2022-01-11T08:33:15.681Z"
      },
      {
        "duration": 6,
        "start_time": "2022-01-11T08:33:52.242Z"
      },
      {
        "duration": 6,
        "start_time": "2022-01-11T08:34:22.755Z"
      },
      {
        "duration": 6,
        "start_time": "2022-01-11T08:34:52.268Z"
      },
      {
        "duration": 7,
        "start_time": "2022-01-11T08:54:40.191Z"
      },
      {
        "duration": 3,
        "start_time": "2022-01-11T08:59:31.124Z"
      },
      {
        "duration": 14,
        "start_time": "2022-01-11T09:00:24.259Z"
      },
      {
        "duration": 19,
        "start_time": "2022-01-11T09:01:44.590Z"
      },
      {
        "duration": 10,
        "start_time": "2022-01-11T09:08:12.953Z"
      },
      {
        "duration": 87,
        "start_time": "2022-01-11T09:10:24.477Z"
      },
      {
        "duration": 9,
        "start_time": "2022-01-11T09:10:31.408Z"
      },
      {
        "duration": 5917,
        "start_time": "2022-01-11T09:10:43.373Z"
      },
      {
        "duration": 4967,
        "start_time": "2022-01-11T09:10:52.956Z"
      },
      {
        "duration": 81,
        "start_time": "2022-01-11T09:11:07.288Z"
      },
      {
        "duration": 5,
        "start_time": "2022-01-11T09:11:08.379Z"
      },
      {
        "duration": 21,
        "start_time": "2022-01-11T09:11:08.387Z"
      },
      {
        "duration": 58,
        "start_time": "2022-01-11T09:11:08.659Z"
      },
      {
        "duration": 18,
        "start_time": "2022-01-11T09:11:09.018Z"
      },
      {
        "duration": 25,
        "start_time": "2022-01-11T09:11:09.366Z"
      },
      {
        "duration": 15,
        "start_time": "2022-01-11T09:11:09.751Z"
      },
      {
        "duration": 21,
        "start_time": "2022-01-11T09:11:09.941Z"
      },
      {
        "duration": 4,
        "start_time": "2022-01-11T09:11:10.337Z"
      },
      {
        "duration": 3,
        "start_time": "2022-01-11T09:11:10.747Z"
      },
      {
        "duration": 4,
        "start_time": "2022-01-11T09:11:11.367Z"
      },
      {
        "duration": 8,
        "start_time": "2022-01-11T09:11:12.442Z"
      },
      {
        "duration": 16,
        "start_time": "2022-01-11T09:11:12.685Z"
      },
      {
        "duration": 10,
        "start_time": "2022-01-11T09:11:13.035Z"
      },
      {
        "duration": 13,
        "start_time": "2022-01-11T09:11:13.315Z"
      },
      {
        "duration": 6,
        "start_time": "2022-01-11T09:11:13.874Z"
      },
      {
        "duration": 13,
        "start_time": "2022-01-11T09:11:14.400Z"
      },
      {
        "duration": 6,
        "start_time": "2022-01-11T09:11:14.670Z"
      },
      {
        "duration": 7,
        "start_time": "2022-01-11T09:11:15.232Z"
      },
      {
        "duration": 6,
        "start_time": "2022-01-11T09:11:15.801Z"
      },
      {
        "duration": 3,
        "start_time": "2022-01-11T09:11:16.037Z"
      },
      {
        "duration": 8,
        "start_time": "2022-01-11T09:11:16.572Z"
      },
      {
        "duration": 35,
        "start_time": "2022-01-11T09:11:16.875Z"
      },
      {
        "duration": 9,
        "start_time": "2022-01-11T09:11:17.775Z"
      },
      {
        "duration": 16,
        "start_time": "2022-01-11T09:11:17.787Z"
      },
      {
        "duration": 11,
        "start_time": "2022-01-11T09:11:18.232Z"
      },
      {
        "duration": 3,
        "start_time": "2022-01-11T09:11:18.477Z"
      },
      {
        "duration": 3,
        "start_time": "2022-01-11T09:11:18.748Z"
      },
      {
        "duration": 10,
        "start_time": "2022-01-11T09:11:19.563Z"
      },
      {
        "duration": 19,
        "start_time": "2022-01-11T09:11:19.576Z"
      },
      {
        "duration": 10,
        "start_time": "2022-01-11T09:11:19.748Z"
      },
      {
        "duration": 10,
        "start_time": "2022-01-11T09:11:20.341Z"
      },
      {
        "duration": 3,
        "start_time": "2022-01-11T09:11:20.713Z"
      },
      {
        "duration": 3,
        "start_time": "2022-01-11T09:11:21.103Z"
      },
      {
        "duration": 24,
        "start_time": "2022-01-11T09:11:21.761Z"
      },
      {
        "duration": 12,
        "start_time": "2022-01-11T09:11:22.120Z"
      },
      {
        "duration": 4,
        "start_time": "2022-01-11T09:11:22.547Z"
      },
      {
        "duration": 28,
        "start_time": "2022-01-11T09:11:22.932Z"
      },
      {
        "duration": 26,
        "start_time": "2022-01-11T09:11:23.805Z"
      },
      {
        "duration": 5,
        "start_time": "2022-01-11T09:11:24.246Z"
      },
      {
        "duration": 4,
        "start_time": "2022-01-11T09:11:25.677Z"
      },
      {
        "duration": 4,
        "start_time": "2022-01-11T09:11:27.268Z"
      },
      {
        "duration": 5,
        "start_time": "2022-01-11T09:11:27.805Z"
      },
      {
        "duration": 5833,
        "start_time": "2022-01-11T09:11:28.448Z"
      },
      {
        "duration": -1342,
        "start_time": "2022-01-11T09:11:35.626Z"
      },
      {
        "duration": -1344,
        "start_time": "2022-01-11T09:11:35.630Z"
      },
      {
        "duration": -1345,
        "start_time": "2022-01-11T09:11:35.632Z"
      },
      {
        "duration": -1345,
        "start_time": "2022-01-11T09:11:35.634Z"
      },
      {
        "duration": -1347,
        "start_time": "2022-01-11T09:11:35.637Z"
      },
      {
        "duration": -1347,
        "start_time": "2022-01-11T09:11:35.639Z"
      },
      {
        "duration": -1347,
        "start_time": "2022-01-11T09:11:35.641Z"
      },
      {
        "duration": -1348,
        "start_time": "2022-01-11T09:11:35.643Z"
      },
      {
        "duration": -1349,
        "start_time": "2022-01-11T09:11:35.645Z"
      },
      {
        "duration": 7242,
        "start_time": "2022-01-11T09:11:44.262Z"
      },
      {
        "duration": 6000,
        "start_time": "2022-01-11T09:11:55.984Z"
      },
      {
        "duration": -1217,
        "start_time": "2022-01-11T09:12:03.203Z"
      },
      {
        "duration": 5667,
        "start_time": "2022-01-11T09:12:09.042Z"
      },
      {
        "duration": 945,
        "start_time": "2022-01-11T09:12:29.609Z"
      },
      {
        "duration": 5,
        "start_time": "2022-01-11T09:12:30.557Z"
      },
      {
        "duration": 41,
        "start_time": "2022-01-11T09:12:30.564Z"
      },
      {
        "duration": 74,
        "start_time": "2022-01-11T09:12:30.609Z"
      },
      {
        "duration": 16,
        "start_time": "2022-01-11T09:12:30.686Z"
      },
      {
        "duration": 64,
        "start_time": "2022-01-11T09:12:30.705Z"
      },
      {
        "duration": 15,
        "start_time": "2022-01-11T09:12:30.772Z"
      },
      {
        "duration": 41,
        "start_time": "2022-01-11T09:12:30.789Z"
      },
      {
        "duration": 21,
        "start_time": "2022-01-11T09:12:30.836Z"
      },
      {
        "duration": 10,
        "start_time": "2022-01-11T09:12:30.861Z"
      },
      {
        "duration": 19,
        "start_time": "2022-01-11T09:12:30.874Z"
      },
      {
        "duration": 17,
        "start_time": "2022-01-11T09:12:30.895Z"
      },
      {
        "duration": 22,
        "start_time": "2022-01-11T09:12:30.914Z"
      },
      {
        "duration": 15,
        "start_time": "2022-01-11T09:12:30.938Z"
      },
      {
        "duration": 23,
        "start_time": "2022-01-11T09:12:30.956Z"
      },
      {
        "duration": 34,
        "start_time": "2022-01-11T09:12:30.981Z"
      },
      {
        "duration": 20,
        "start_time": "2022-01-11T09:12:31.018Z"
      },
      {
        "duration": 18,
        "start_time": "2022-01-11T09:12:31.041Z"
      },
      {
        "duration": 21,
        "start_time": "2022-01-11T09:12:31.062Z"
      },
      {
        "duration": 11,
        "start_time": "2022-01-11T09:12:31.085Z"
      },
      {
        "duration": 8,
        "start_time": "2022-01-11T09:12:31.099Z"
      },
      {
        "duration": 17,
        "start_time": "2022-01-11T09:12:31.109Z"
      },
      {
        "duration": 49,
        "start_time": "2022-01-11T09:12:31.129Z"
      },
      {
        "duration": 9,
        "start_time": "2022-01-11T09:12:31.181Z"
      },
      {
        "duration": 21,
        "start_time": "2022-01-11T09:12:31.192Z"
      },
      {
        "duration": 11,
        "start_time": "2022-01-11T09:12:31.216Z"
      },
      {
        "duration": 33,
        "start_time": "2022-01-11T09:12:31.234Z"
      },
      {
        "duration": 13,
        "start_time": "2022-01-11T09:12:31.271Z"
      },
      {
        "duration": 25,
        "start_time": "2022-01-11T09:12:31.286Z"
      },
      {
        "duration": 31,
        "start_time": "2022-01-11T09:12:31.314Z"
      },
      {
        "duration": 53,
        "start_time": "2022-01-11T09:12:31.348Z"
      },
      {
        "duration": 37,
        "start_time": "2022-01-11T09:12:31.404Z"
      },
      {
        "duration": 16,
        "start_time": "2022-01-11T09:12:31.443Z"
      },
      {
        "duration": 9,
        "start_time": "2022-01-11T09:12:31.462Z"
      },
      {
        "duration": 37,
        "start_time": "2022-01-11T09:12:31.473Z"
      },
      {
        "duration": 13,
        "start_time": "2022-01-11T09:12:31.513Z"
      },
      {
        "duration": 16,
        "start_time": "2022-01-11T09:12:31.529Z"
      },
      {
        "duration": 40,
        "start_time": "2022-01-11T09:12:31.547Z"
      },
      {
        "duration": 26,
        "start_time": "2022-01-11T09:12:31.590Z"
      },
      {
        "duration": 5,
        "start_time": "2022-01-11T09:12:31.619Z"
      },
      {
        "duration": 21,
        "start_time": "2022-01-11T09:12:31.626Z"
      },
      {
        "duration": 5,
        "start_time": "2022-01-11T09:12:31.669Z"
      },
      {
        "duration": 19,
        "start_time": "2022-01-11T09:12:31.677Z"
      },
      {
        "duration": 5226,
        "start_time": "2022-01-11T09:12:31.699Z"
      },
      {
        "duration": -1069,
        "start_time": "2022-01-11T09:12:37.997Z"
      },
      {
        "duration": -1090,
        "start_time": "2022-01-11T09:12:38.019Z"
      },
      {
        "duration": -1108,
        "start_time": "2022-01-11T09:12:38.040Z"
      },
      {
        "duration": -1108,
        "start_time": "2022-01-11T09:12:38.042Z"
      },
      {
        "duration": -1109,
        "start_time": "2022-01-11T09:12:38.045Z"
      },
      {
        "duration": -1184,
        "start_time": "2022-01-11T09:12:38.122Z"
      },
      {
        "duration": -1199,
        "start_time": "2022-01-11T09:12:38.139Z"
      },
      {
        "duration": -1201,
        "start_time": "2022-01-11T09:12:38.142Z"
      },
      {
        "duration": -1201,
        "start_time": "2022-01-11T09:12:38.144Z"
      },
      {
        "duration": -1202,
        "start_time": "2022-01-11T09:12:38.146Z"
      },
      {
        "duration": -1206,
        "start_time": "2022-01-11T09:12:38.152Z"
      },
      {
        "duration": -1207,
        "start_time": "2022-01-11T09:12:38.154Z"
      },
      {
        "duration": -1207,
        "start_time": "2022-01-11T09:12:38.156Z"
      },
      {
        "duration": -1208,
        "start_time": "2022-01-11T09:12:38.158Z"
      },
      {
        "duration": -1208,
        "start_time": "2022-01-11T09:12:38.160Z"
      },
      {
        "duration": -1209,
        "start_time": "2022-01-11T09:12:38.162Z"
      },
      {
        "duration": -1209,
        "start_time": "2022-01-11T09:12:38.164Z"
      },
      {
        "duration": -1216,
        "start_time": "2022-01-11T09:12:38.173Z"
      },
      {
        "duration": -1217,
        "start_time": "2022-01-11T09:12:38.176Z"
      },
      {
        "duration": -1237,
        "start_time": "2022-01-11T09:12:38.198Z"
      },
      {
        "duration": -1256,
        "start_time": "2022-01-11T09:12:38.219Z"
      },
      {
        "duration": -1257,
        "start_time": "2022-01-11T09:12:38.221Z"
      },
      {
        "duration": -1258,
        "start_time": "2022-01-11T09:12:38.224Z"
      },
      {
        "duration": -1257,
        "start_time": "2022-01-11T09:12:38.226Z"
      },
      {
        "duration": -1257,
        "start_time": "2022-01-11T09:12:38.228Z"
      },
      {
        "duration": -1258,
        "start_time": "2022-01-11T09:12:38.231Z"
      },
      {
        "duration": -1266,
        "start_time": "2022-01-11T09:12:38.241Z"
      },
      {
        "duration": -1266,
        "start_time": "2022-01-11T09:12:38.243Z"
      },
      {
        "duration": -1306,
        "start_time": "2022-01-11T09:12:38.285Z"
      },
      {
        "duration": -1307,
        "start_time": "2022-01-11T09:12:38.287Z"
      },
      {
        "duration": -1308,
        "start_time": "2022-01-11T09:12:38.290Z"
      },
      {
        "duration": -1308,
        "start_time": "2022-01-11T09:12:38.292Z"
      },
      {
        "duration": -1308,
        "start_time": "2022-01-11T09:12:38.294Z"
      },
      {
        "duration": 83,
        "start_time": "2022-01-11T09:12:41.981Z"
      },
      {
        "duration": 7,
        "start_time": "2022-01-11T09:12:48.357Z"
      },
      {
        "duration": 5,
        "start_time": "2022-01-11T09:14:08.449Z"
      },
      {
        "duration": 19,
        "start_time": "2022-01-11T09:14:12.729Z"
      },
      {
        "duration": 15,
        "start_time": "2022-01-11T09:14:31.609Z"
      },
      {
        "duration": 14,
        "start_time": "2022-01-11T09:14:40.989Z"
      },
      {
        "duration": 25,
        "start_time": "2022-01-11T09:14:50.296Z"
      },
      {
        "duration": 24,
        "start_time": "2022-01-11T09:15:26.179Z"
      },
      {
        "duration": 26,
        "start_time": "2022-01-11T09:15:48.234Z"
      },
      {
        "duration": 38,
        "start_time": "2022-01-11T09:16:03.659Z"
      },
      {
        "duration": 25,
        "start_time": "2022-01-11T09:16:12.126Z"
      },
      {
        "duration": 15,
        "start_time": "2022-01-11T09:16:27.699Z"
      },
      {
        "duration": 271,
        "start_time": "2022-01-11T09:16:50.245Z"
      },
      {
        "duration": 298,
        "start_time": "2022-01-11T09:17:11.530Z"
      },
      {
        "duration": 16,
        "start_time": "2022-01-11T09:17:18.508Z"
      },
      {
        "duration": 7,
        "start_time": "2022-01-11T09:18:07.963Z"
      },
      {
        "duration": 14,
        "start_time": "2022-01-11T09:18:13.843Z"
      },
      {
        "duration": 9,
        "start_time": "2022-01-11T09:18:15.204Z"
      },
      {
        "duration": 12,
        "start_time": "2022-01-11T09:18:21.888Z"
      },
      {
        "duration": 7,
        "start_time": "2022-01-11T09:18:26.336Z"
      },
      {
        "duration": 20,
        "start_time": "2022-01-11T09:18:33.518Z"
      },
      {
        "duration": 7,
        "start_time": "2022-01-11T09:18:37.347Z"
      },
      {
        "duration": 7,
        "start_time": "2022-01-11T09:18:41.860Z"
      },
      {
        "duration": 6,
        "start_time": "2022-01-11T09:18:44.831Z"
      },
      {
        "duration": 13,
        "start_time": "2022-01-11T09:18:49.265Z"
      },
      {
        "duration": 34,
        "start_time": "2022-01-11T09:18:52.387Z"
      },
      {
        "duration": 10,
        "start_time": "2022-01-11T09:19:06.563Z"
      },
      {
        "duration": 12,
        "start_time": "2022-01-11T09:19:10.298Z"
      },
      {
        "duration": 10,
        "start_time": "2022-01-11T09:19:13.013Z"
      },
      {
        "duration": 22,
        "start_time": "2022-01-11T09:19:15.395Z"
      },
      {
        "duration": 10,
        "start_time": "2022-01-11T09:19:18.643Z"
      },
      {
        "duration": 13,
        "start_time": "2022-01-11T09:19:21.890Z"
      },
      {
        "duration": 24,
        "start_time": "2022-01-11T09:19:25.435Z"
      },
      {
        "duration": 12,
        "start_time": "2022-01-11T09:19:27.439Z"
      },
      {
        "duration": 4,
        "start_time": "2022-01-11T09:19:30.012Z"
      },
      {
        "duration": 24,
        "start_time": "2022-01-11T09:19:33.766Z"
      },
      {
        "duration": 5,
        "start_time": "2022-01-11T09:19:35.838Z"
      },
      {
        "duration": 5,
        "start_time": "2022-01-11T09:20:44.843Z"
      },
      {
        "duration": 3,
        "start_time": "2022-01-11T09:20:55.045Z"
      },
      {
        "duration": 5,
        "start_time": "2022-01-11T09:20:59.134Z"
      },
      {
        "duration": 5030,
        "start_time": "2022-01-11T09:27:07.383Z"
      },
      {
        "duration": 5598,
        "start_time": "2022-01-11T09:27:20.969Z"
      },
      {
        "duration": 31,
        "start_time": "2022-01-11T09:31:47.179Z"
      },
      {
        "duration": 5,
        "start_time": "2022-01-11T09:31:49.215Z"
      },
      {
        "duration": 4,
        "start_time": "2022-01-11T09:31:52.598Z"
      },
      {
        "duration": 5,
        "start_time": "2022-01-11T09:31:53.807Z"
      },
      {
        "duration": 6511,
        "start_time": "2022-01-11T09:31:54.652Z"
      },
      {
        "duration": 7652,
        "start_time": "2022-01-11T09:32:11.130Z"
      },
      {
        "duration": 27,
        "start_time": "2022-01-11T09:34:48.148Z"
      },
      {
        "duration": 5,
        "start_time": "2022-01-11T09:34:48.178Z"
      },
      {
        "duration": 34,
        "start_time": "2022-01-11T09:34:54.826Z"
      },
      {
        "duration": 22,
        "start_time": "2022-01-11T09:35:09.715Z"
      },
      {
        "duration": 41,
        "start_time": "2022-01-11T09:38:01.863Z"
      },
      {
        "duration": 6,
        "start_time": "2022-01-11T09:38:03.646Z"
      },
      {
        "duration": 7,
        "start_time": "2022-01-11T09:38:06.262Z"
      },
      {
        "duration": 6,
        "start_time": "2022-01-11T09:38:07.211Z"
      },
      {
        "duration": 7,
        "start_time": "2022-01-11T09:38:08.091Z"
      },
      {
        "duration": 5543,
        "start_time": "2022-01-11T09:38:09.857Z"
      },
      {
        "duration": -970,
        "start_time": "2022-01-11T09:38:16.373Z"
      },
      {
        "duration": -975,
        "start_time": "2022-01-11T09:38:16.379Z"
      },
      {
        "duration": -978,
        "start_time": "2022-01-11T09:38:16.383Z"
      },
      {
        "duration": 6238,
        "start_time": "2022-01-11T09:39:17.852Z"
      },
      {
        "duration": -991,
        "start_time": "2022-01-11T09:39:25.083Z"
      },
      {
        "duration": 5,
        "start_time": "2022-01-11T09:40:16.728Z"
      },
      {
        "duration": 5752,
        "start_time": "2022-01-11T09:40:19.355Z"
      },
      {
        "duration": 8405,
        "start_time": "2022-01-11T09:42:00.853Z"
      },
      {
        "duration": 12,
        "start_time": "2022-01-11T09:45:41.693Z"
      },
      {
        "duration": 11,
        "start_time": "2022-01-11T09:46:18.227Z"
      },
      {
        "duration": 42,
        "start_time": "2022-01-11T09:46:24.583Z"
      },
      {
        "duration": 8,
        "start_time": "2022-01-11T09:46:25.364Z"
      },
      {
        "duration": 15,
        "start_time": "2022-01-11T09:46:26.079Z"
      },
      {
        "duration": 6,
        "start_time": "2022-01-11T09:46:26.827Z"
      },
      {
        "duration": 6,
        "start_time": "2022-01-11T09:46:27.452Z"
      },
      {
        "duration": 6,
        "start_time": "2022-01-11T09:46:28.590Z"
      },
      {
        "duration": 6373,
        "start_time": "2022-01-11T09:46:29.486Z"
      },
      {
        "duration": 11,
        "start_time": "2022-01-11T09:46:44.171Z"
      },
      {
        "duration": 4,
        "start_time": "2022-01-11T09:48:03.274Z"
      },
      {
        "duration": 28,
        "start_time": "2022-01-11T09:48:04.426Z"
      },
      {
        "duration": 27,
        "start_time": "2022-01-11T09:48:15.127Z"
      },
      {
        "duration": 27,
        "start_time": "2022-01-11T09:48:16.326Z"
      },
      {
        "duration": 4,
        "start_time": "2022-01-11T09:48:25.115Z"
      },
      {
        "duration": 16,
        "start_time": "2022-01-11T10:06:27.900Z"
      },
      {
        "duration": 346,
        "start_time": "2022-01-11T10:06:40.900Z"
      },
      {
        "duration": 349,
        "start_time": "2022-01-11T10:06:46.997Z"
      },
      {
        "duration": 12,
        "start_time": "2022-01-11T10:06:56.056Z"
      },
      {
        "duration": 285,
        "start_time": "2022-01-11T10:07:07.258Z"
      },
      {
        "duration": 10,
        "start_time": "2022-01-11T10:07:43.765Z"
      },
      {
        "duration": 14,
        "start_time": "2022-01-11T10:07:52.811Z"
      },
      {
        "duration": 357,
        "start_time": "2022-01-11T10:08:31.047Z"
      },
      {
        "duration": 272,
        "start_time": "2022-01-11T10:08:36.285Z"
      },
      {
        "duration": 342,
        "start_time": "2022-01-11T10:08:45.066Z"
      },
      {
        "duration": 288,
        "start_time": "2022-01-11T10:08:54.249Z"
      },
      {
        "duration": 293,
        "start_time": "2022-01-11T10:09:06.358Z"
      },
      {
        "duration": 280,
        "start_time": "2022-01-11T10:09:23.084Z"
      },
      {
        "duration": 13,
        "start_time": "2022-01-11T10:12:53.915Z"
      },
      {
        "duration": 15,
        "start_time": "2022-01-11T10:16:55.824Z"
      },
      {
        "duration": 149,
        "start_time": "2022-01-11T10:18:02.864Z"
      },
      {
        "duration": 20,
        "start_time": "2022-01-11T10:18:09.261Z"
      },
      {
        "duration": 107,
        "start_time": "2022-01-11T10:20:41.887Z"
      },
      {
        "duration": 20,
        "start_time": "2022-01-11T10:20:49.260Z"
      },
      {
        "duration": 8,
        "start_time": "2022-01-11T10:21:03.169Z"
      },
      {
        "duration": 12,
        "start_time": "2022-01-11T10:21:30.119Z"
      },
      {
        "duration": 8,
        "start_time": "2022-01-11T11:43:48.112Z"
      },
      {
        "duration": 5,
        "start_time": "2022-01-11T11:58:40.717Z"
      },
      {
        "duration": 7,
        "start_time": "2022-01-11T11:58:42.342Z"
      },
      {
        "duration": 14,
        "start_time": "2022-01-11T12:20:00.242Z"
      },
      {
        "duration": 281,
        "start_time": "2022-01-11T12:22:36.341Z"
      },
      {
        "duration": 13,
        "start_time": "2022-01-11T12:22:44.112Z"
      },
      {
        "duration": 350,
        "start_time": "2022-01-11T12:23:37.133Z"
      },
      {
        "duration": 18,
        "start_time": "2022-01-11T12:23:42.038Z"
      },
      {
        "duration": 9,
        "start_time": "2022-01-11T12:24:02.362Z"
      },
      {
        "duration": 16,
        "start_time": "2022-01-11T12:24:08.856Z"
      },
      {
        "duration": 14,
        "start_time": "2022-01-11T12:24:11.912Z"
      },
      {
        "duration": 6,
        "start_time": "2022-01-11T12:26:18.145Z"
      },
      {
        "duration": 8,
        "start_time": "2022-01-11T12:26:28.568Z"
      },
      {
        "duration": 7,
        "start_time": "2022-01-11T12:26:35.045Z"
      },
      {
        "duration": 5,
        "start_time": "2022-01-11T12:26:51.374Z"
      },
      {
        "duration": 1212,
        "start_time": "2022-01-11T12:29:49.683Z"
      },
      {
        "duration": 258,
        "start_time": "2022-01-11T12:30:35.143Z"
      },
      {
        "duration": 83,
        "start_time": "2022-01-11T12:31:19.805Z"
      },
      {
        "duration": 409,
        "start_time": "2022-01-11T12:31:29.844Z"
      },
      {
        "duration": 83,
        "start_time": "2022-01-11T12:32:31.552Z"
      },
      {
        "duration": 354,
        "start_time": "2022-01-11T12:32:40.696Z"
      },
      {
        "duration": 6096,
        "start_time": "2022-01-11T12:32:57.222Z"
      },
      {
        "duration": 293,
        "start_time": "2022-01-11T12:33:13.960Z"
      },
      {
        "duration": 19,
        "start_time": "2022-01-11T12:35:20.745Z"
      },
      {
        "duration": 363,
        "start_time": "2022-01-11T13:21:23.305Z"
      },
      {
        "duration": 6,
        "start_time": "2022-01-11T13:21:27.137Z"
      },
      {
        "duration": 525,
        "start_time": "2022-01-11T13:21:30.090Z"
      },
      {
        "duration": 4,
        "start_time": "2022-01-11T13:22:04.700Z"
      },
      {
        "duration": 559,
        "start_time": "2022-01-11T13:22:06.407Z"
      },
      {
        "duration": 84,
        "start_time": "2022-01-11T13:23:59.336Z"
      },
      {
        "duration": 156,
        "start_time": "2022-01-11T13:24:18.603Z"
      },
      {
        "duration": 4,
        "start_time": "2022-01-11T13:24:46.732Z"
      },
      {
        "duration": 552,
        "start_time": "2022-01-11T13:24:48.278Z"
      },
      {
        "duration": 5,
        "start_time": "2022-01-11T13:25:50.107Z"
      },
      {
        "duration": 556,
        "start_time": "2022-01-11T13:25:52.646Z"
      },
      {
        "duration": 3854,
        "start_time": "2022-01-11T13:26:15.153Z"
      },
      {
        "duration": 5,
        "start_time": "2022-01-11T13:26:51.017Z"
      },
      {
        "duration": 3763,
        "start_time": "2022-01-11T13:26:52.001Z"
      },
      {
        "duration": 4,
        "start_time": "2022-01-11T13:27:07.035Z"
      },
      {
        "duration": 4319,
        "start_time": "2022-01-11T13:27:09.550Z"
      },
      {
        "duration": 580,
        "start_time": "2022-01-11T13:27:25.674Z"
      },
      {
        "duration": 4,
        "start_time": "2022-01-11T13:29:13.951Z"
      },
      {
        "duration": 546,
        "start_time": "2022-01-11T13:29:14.961Z"
      },
      {
        "duration": 5,
        "start_time": "2022-01-11T13:30:07.008Z"
      },
      {
        "duration": 4135,
        "start_time": "2022-01-11T13:30:08.622Z"
      },
      {
        "duration": 110,
        "start_time": "2022-01-11T13:30:51.620Z"
      },
      {
        "duration": 113,
        "start_time": "2022-01-11T13:30:57.594Z"
      },
      {
        "duration": 83,
        "start_time": "2022-01-11T13:31:02.836Z"
      },
      {
        "duration": 5,
        "start_time": "2022-01-11T13:31:12.591Z"
      },
      {
        "duration": 4,
        "start_time": "2022-01-11T13:33:12.988Z"
      },
      {
        "duration": 1637,
        "start_time": "2022-01-11T13:33:14.661Z"
      },
      {
        "duration": 34,
        "start_time": "2022-01-11T15:56:03.097Z"
      },
      {
        "duration": 8,
        "start_time": "2022-01-11T15:56:35.293Z"
      },
      {
        "duration": 4,
        "start_time": "2022-01-11T15:57:06.354Z"
      },
      {
        "duration": 505,
        "start_time": "2022-01-11T15:57:08.492Z"
      },
      {
        "duration": 1279,
        "start_time": "2022-01-11T15:58:15.026Z"
      },
      {
        "duration": 1292,
        "start_time": "2022-01-11T15:58:41.738Z"
      },
      {
        "duration": 1397,
        "start_time": "2022-01-11T15:58:50.481Z"
      },
      {
        "duration": 1337,
        "start_time": "2022-01-11T15:59:01.964Z"
      },
      {
        "duration": 4,
        "start_time": "2022-01-11T15:59:25.051Z"
      },
      {
        "duration": 1301,
        "start_time": "2022-01-11T15:59:27.659Z"
      },
      {
        "duration": 4,
        "start_time": "2022-01-11T16:01:51.960Z"
      },
      {
        "duration": 2137,
        "start_time": "2022-01-11T16:01:53.463Z"
      },
      {
        "duration": 4,
        "start_time": "2022-01-11T16:02:08.661Z"
      },
      {
        "duration": 4,
        "start_time": "2022-01-11T16:02:16.125Z"
      },
      {
        "duration": 87,
        "start_time": "2022-01-11T16:02:21.224Z"
      },
      {
        "duration": 88,
        "start_time": "2022-01-11T16:02:28.789Z"
      },
      {
        "duration": 91,
        "start_time": "2022-01-11T16:02:36.868Z"
      },
      {
        "duration": 85,
        "start_time": "2022-01-11T16:02:41.111Z"
      },
      {
        "duration": 75,
        "start_time": "2022-01-11T16:02:44.436Z"
      },
      {
        "duration": 4,
        "start_time": "2022-01-11T16:02:48.524Z"
      },
      {
        "duration": 4,
        "start_time": "2022-01-11T16:05:27.886Z"
      },
      {
        "duration": 1892,
        "start_time": "2022-01-11T16:05:30.873Z"
      },
      {
        "duration": 6,
        "start_time": "2022-01-11T16:07:26.199Z"
      },
      {
        "duration": 1424,
        "start_time": "2022-01-11T16:07:27.181Z"
      },
      {
        "duration": 4,
        "start_time": "2022-01-11T16:07:54.237Z"
      },
      {
        "duration": 1667,
        "start_time": "2022-01-11T16:08:03.613Z"
      },
      {
        "duration": 6,
        "start_time": "2022-01-11T16:08:05.283Z"
      },
      {
        "duration": 192,
        "start_time": "2022-01-11T16:08:05.292Z"
      },
      {
        "duration": 218,
        "start_time": "2022-01-11T16:08:05.487Z"
      },
      {
        "duration": 213,
        "start_time": "2022-01-11T16:08:05.708Z"
      },
      {
        "duration": 215,
        "start_time": "2022-01-11T16:08:05.923Z"
      },
      {
        "duration": 200,
        "start_time": "2022-01-11T16:08:06.141Z"
      },
      {
        "duration": 192,
        "start_time": "2022-01-11T16:08:06.345Z"
      },
      {
        "duration": 170,
        "start_time": "2022-01-11T16:08:06.541Z"
      },
      {
        "duration": 184,
        "start_time": "2022-01-11T16:08:06.714Z"
      },
      {
        "duration": 275,
        "start_time": "2022-01-11T16:08:06.901Z"
      },
      {
        "duration": 212,
        "start_time": "2022-01-11T16:08:07.179Z"
      },
      {
        "duration": 195,
        "start_time": "2022-01-11T16:08:07.394Z"
      },
      {
        "duration": 205,
        "start_time": "2022-01-11T16:08:07.592Z"
      },
      {
        "duration": 160,
        "start_time": "2022-01-11T16:08:07.799Z"
      },
      {
        "duration": 149,
        "start_time": "2022-01-11T16:08:07.962Z"
      },
      {
        "duration": 277,
        "start_time": "2022-01-11T16:08:08.114Z"
      },
      {
        "duration": 262,
        "start_time": "2022-01-11T16:08:08.394Z"
      },
      {
        "duration": 312,
        "start_time": "2022-01-11T16:08:08.658Z"
      },
      {
        "duration": 276,
        "start_time": "2022-01-11T16:08:08.973Z"
      },
      {
        "duration": 260,
        "start_time": "2022-01-11T16:08:09.252Z"
      },
      {
        "duration": 279,
        "start_time": "2022-01-11T16:08:09.515Z"
      },
      {
        "duration": 329,
        "start_time": "2022-01-11T16:08:09.800Z"
      },
      {
        "duration": 172,
        "start_time": "2022-01-11T16:08:10.133Z"
      },
      {
        "duration": 237,
        "start_time": "2022-01-11T16:08:10.308Z"
      },
      {
        "duration": 222,
        "start_time": "2022-01-11T16:08:10.548Z"
      },
      {
        "duration": 216,
        "start_time": "2022-01-11T16:08:10.773Z"
      },
      {
        "duration": 203,
        "start_time": "2022-01-11T16:08:10.991Z"
      },
      {
        "duration": 208,
        "start_time": "2022-01-11T16:08:11.197Z"
      },
      {
        "duration": 226,
        "start_time": "2022-01-11T16:08:11.408Z"
      },
      {
        "duration": 208,
        "start_time": "2022-01-11T16:08:11.637Z"
      },
      {
        "duration": 219,
        "start_time": "2022-01-11T16:08:11.847Z"
      },
      {
        "duration": 239,
        "start_time": "2022-01-11T16:08:12.068Z"
      },
      {
        "duration": 242,
        "start_time": "2022-01-11T16:08:12.309Z"
      },
      {
        "duration": 260,
        "start_time": "2022-01-11T16:08:12.553Z"
      },
      {
        "duration": 236,
        "start_time": "2022-01-11T16:08:12.815Z"
      },
      {
        "duration": 180,
        "start_time": "2022-01-11T16:08:13.053Z"
      },
      {
        "duration": 351,
        "start_time": "2022-01-11T16:08:13.235Z"
      },
      {
        "duration": 248,
        "start_time": "2022-01-11T16:08:13.588Z"
      },
      {
        "duration": 203,
        "start_time": "2022-01-11T16:08:13.838Z"
      },
      {
        "duration": 216,
        "start_time": "2022-01-11T16:08:14.043Z"
      },
      {
        "duration": 294,
        "start_time": "2022-01-11T16:08:14.262Z"
      },
      {
        "duration": 320,
        "start_time": "2022-01-11T16:08:14.559Z"
      },
      {
        "duration": 215,
        "start_time": "2022-01-11T16:08:14.882Z"
      },
      {
        "duration": 243,
        "start_time": "2022-01-11T16:08:15.099Z"
      },
      {
        "duration": 384,
        "start_time": "2022-01-11T16:08:15.344Z"
      },
      {
        "duration": 270,
        "start_time": "2022-01-11T16:08:15.731Z"
      },
      {
        "duration": 266,
        "start_time": "2022-01-11T16:08:16.005Z"
      },
      {
        "duration": 353,
        "start_time": "2022-01-11T16:08:16.274Z"
      },
      {
        "duration": 313,
        "start_time": "2022-01-11T16:08:16.629Z"
      },
      {
        "duration": 308,
        "start_time": "2022-01-11T16:08:16.945Z"
      },
      {
        "duration": 2255,
        "start_time": "2022-01-11T16:08:17.256Z"
      },
      {
        "duration": -263,
        "start_time": "2022-01-11T16:08:19.778Z"
      },
      {
        "duration": -275,
        "start_time": "2022-01-11T16:08:19.791Z"
      },
      {
        "duration": -275,
        "start_time": "2022-01-11T16:08:19.793Z"
      },
      {
        "duration": -276,
        "start_time": "2022-01-11T16:08:19.795Z"
      },
      {
        "duration": -277,
        "start_time": "2022-01-11T16:08:19.798Z"
      },
      {
        "duration": -278,
        "start_time": "2022-01-11T16:08:19.800Z"
      },
      {
        "duration": -278,
        "start_time": "2022-01-11T16:08:19.802Z"
      },
      {
        "duration": -280,
        "start_time": "2022-01-11T16:08:19.805Z"
      },
      {
        "duration": -280,
        "start_time": "2022-01-11T16:08:19.807Z"
      },
      {
        "duration": -280,
        "start_time": "2022-01-11T16:08:19.809Z"
      },
      {
        "duration": -281,
        "start_time": "2022-01-11T16:08:19.811Z"
      },
      {
        "duration": -282,
        "start_time": "2022-01-11T16:08:19.813Z"
      },
      {
        "duration": -337,
        "start_time": "2022-01-11T16:08:19.870Z"
      },
      {
        "duration": -340,
        "start_time": "2022-01-11T16:08:19.874Z"
      },
      {
        "duration": -344,
        "start_time": "2022-01-11T16:08:19.879Z"
      },
      {
        "duration": -351,
        "start_time": "2022-01-11T16:08:19.888Z"
      },
      {
        "duration": -352,
        "start_time": "2022-01-11T16:08:19.890Z"
      },
      {
        "duration": -353,
        "start_time": "2022-01-11T16:08:19.893Z"
      },
      {
        "duration": -354,
        "start_time": "2022-01-11T16:08:19.895Z"
      },
      {
        "duration": -355,
        "start_time": "2022-01-11T16:08:19.898Z"
      },
      {
        "duration": -355,
        "start_time": "2022-01-11T16:08:19.900Z"
      },
      {
        "duration": -357,
        "start_time": "2022-01-11T16:08:19.903Z"
      },
      {
        "duration": -357,
        "start_time": "2022-01-11T16:08:19.905Z"
      },
      {
        "duration": -358,
        "start_time": "2022-01-11T16:08:19.907Z"
      },
      {
        "duration": -359,
        "start_time": "2022-01-11T16:08:19.910Z"
      },
      {
        "duration": -341,
        "start_time": "2022-01-11T16:08:19.912Z"
      },
      {
        "duration": -420,
        "start_time": "2022-01-11T16:08:19.993Z"
      },
      {
        "duration": -449,
        "start_time": "2022-01-11T16:08:20.025Z"
      },
      {
        "duration": -459,
        "start_time": "2022-01-11T16:08:20.037Z"
      },
      {
        "duration": -459,
        "start_time": "2022-01-11T16:08:20.039Z"
      },
      {
        "duration": -458,
        "start_time": "2022-01-11T16:08:20.041Z"
      },
      {
        "duration": -459,
        "start_time": "2022-01-11T16:08:20.044Z"
      },
      {
        "duration": -463,
        "start_time": "2022-01-11T16:08:20.050Z"
      },
      {
        "duration": -462,
        "start_time": "2022-01-11T16:08:20.052Z"
      },
      {
        "duration": -463,
        "start_time": "2022-01-11T16:08:20.054Z"
      },
      {
        "duration": -462,
        "start_time": "2022-01-11T16:08:20.056Z"
      },
      {
        "duration": -466,
        "start_time": "2022-01-11T16:08:20.062Z"
      },
      {
        "duration": 7,
        "start_time": "2022-01-11T16:08:19.765Z"
      },
      {
        "duration": 16,
        "start_time": "2022-01-11T16:08:20.173Z"
      },
      {
        "duration": 11,
        "start_time": "2022-01-11T16:08:20.596Z"
      },
      {
        "duration": 12,
        "start_time": "2022-01-11T16:08:33.591Z"
      },
      {
        "duration": 6,
        "start_time": "2022-01-11T16:08:34.798Z"
      },
      {
        "duration": 18,
        "start_time": "2022-01-11T16:08:35.772Z"
      },
      {
        "duration": 6,
        "start_time": "2022-01-11T16:08:36.215Z"
      },
      {
        "duration": 7,
        "start_time": "2022-01-11T16:08:37.165Z"
      },
      {
        "duration": 5,
        "start_time": "2022-01-11T16:08:38.012Z"
      },
      {
        "duration": 5,
        "start_time": "2022-01-11T16:08:38.451Z"
      },
      {
        "duration": 10,
        "start_time": "2022-01-11T16:08:39.306Z"
      },
      {
        "duration": 16,
        "start_time": "2022-01-11T16:08:39.813Z"
      },
      {
        "duration": 10,
        "start_time": "2022-01-11T16:08:40.788Z"
      },
      {
        "duration": 9,
        "start_time": "2022-01-11T16:08:41.258Z"
      },
      {
        "duration": 11,
        "start_time": "2022-01-11T16:08:42.428Z"
      },
      {
        "duration": 3,
        "start_time": "2022-01-11T16:08:42.859Z"
      },
      {
        "duration": 3,
        "start_time": "2022-01-11T16:08:43.213Z"
      },
      {
        "duration": 10,
        "start_time": "2022-01-11T16:08:43.686Z"
      },
      {
        "duration": 277,
        "start_time": "2022-01-11T16:08:43.956Z"
      },
      {
        "duration": 11,
        "start_time": "2022-01-11T16:08:44.407Z"
      },
      {
        "duration": 11,
        "start_time": "2022-01-11T16:08:45.119Z"
      },
      {
        "duration": 40,
        "start_time": "2022-01-11T16:08:45.351Z"
      },
      {
        "duration": 54,
        "start_time": "2022-01-11T16:08:45.592Z"
      },
      {
        "duration": 25,
        "start_time": "2022-01-11T16:08:46.519Z"
      },
      {
        "duration": 12,
        "start_time": "2022-01-11T16:08:46.946Z"
      },
      {
        "duration": 4,
        "start_time": "2022-01-11T16:08:47.820Z"
      },
      {
        "duration": 103,
        "start_time": "2022-01-11T16:08:48.076Z"
      },
      {
        "duration": 27,
        "start_time": "2022-01-11T16:08:49.219Z"
      },
      {
        "duration": 25,
        "start_time": "2022-01-11T16:08:50.126Z"
      },
      {
        "duration": 4,
        "start_time": "2022-01-11T16:08:52.982Z"
      },
      {
        "duration": 4,
        "start_time": "2022-01-11T16:08:54.849Z"
      },
      {
        "duration": 5,
        "start_time": "2022-01-11T16:08:55.572Z"
      },
      {
        "duration": 13,
        "start_time": "2022-01-11T16:08:56.469Z"
      },
      {
        "duration": 10,
        "start_time": "2022-01-11T16:08:57.680Z"
      },
      {
        "duration": 44,
        "start_time": "2022-01-11T16:09:00.455Z"
      },
      {
        "duration": 6,
        "start_time": "2022-01-11T16:09:01.221Z"
      },
      {
        "duration": 7,
        "start_time": "2022-01-11T16:09:03.776Z"
      },
      {
        "duration": 154,
        "start_time": "2022-01-11T16:09:03.787Z"
      },
      {
        "duration": 188,
        "start_time": "2022-01-11T16:09:03.944Z"
      },
      {
        "duration": 4,
        "start_time": "2022-01-11T16:09:04.867Z"
      },
      {
        "duration": 1325,
        "start_time": "2022-01-11T16:09:05.618Z"
      },
      {
        "duration": -236,
        "start_time": "2022-01-11T16:09:07.182Z"
      },
      {
        "duration": 18,
        "start_time": "2022-01-11T16:09:34.941Z"
      },
      {
        "duration": 33,
        "start_time": "2022-01-11T17:31:21.280Z"
      },
      {
        "duration": 17,
        "start_time": "2022-01-11T17:31:24.408Z"
      },
      {
        "duration": 12,
        "start_time": "2022-01-11T17:34:02.044Z"
      },
      {
        "duration": 6,
        "start_time": "2022-01-11T17:34:04.928Z"
      },
      {
        "duration": 86,
        "start_time": "2022-01-11T17:34:17.103Z"
      },
      {
        "duration": 5,
        "start_time": "2022-01-11T17:34:18.962Z"
      },
      {
        "duration": 22,
        "start_time": "2022-01-11T17:34:20.196Z"
      },
      {
        "duration": 16,
        "start_time": "2022-01-11T17:34:21.716Z"
      },
      {
        "duration": 19,
        "start_time": "2022-01-11T17:34:23.445Z"
      },
      {
        "duration": 25,
        "start_time": "2022-01-11T17:34:24.625Z"
      },
      {
        "duration": 15,
        "start_time": "2022-01-11T17:34:26.229Z"
      },
      {
        "duration": 15,
        "start_time": "2022-01-11T17:34:27.069Z"
      },
      {
        "duration": 4,
        "start_time": "2022-01-11T17:34:28.646Z"
      },
      {
        "duration": 3,
        "start_time": "2022-01-11T17:34:30.004Z"
      },
      {
        "duration": 3,
        "start_time": "2022-01-11T17:34:31.296Z"
      },
      {
        "duration": 7,
        "start_time": "2022-01-11T17:34:33.518Z"
      },
      {
        "duration": 31,
        "start_time": "2022-01-11T17:34:34.420Z"
      },
      {
        "duration": 18,
        "start_time": "2022-01-11T17:34:35.490Z"
      },
      {
        "duration": 11,
        "start_time": "2022-01-11T17:34:36.579Z"
      },
      {
        "duration": 7,
        "start_time": "2022-01-11T17:34:39.971Z"
      },
      {
        "duration": 16,
        "start_time": "2022-01-11T17:34:53.292Z"
      },
      {
        "duration": 8,
        "start_time": "2022-01-11T17:35:07.342Z"
      },
      {
        "duration": 1680,
        "start_time": "2022-01-11T17:35:31.629Z"
      },
      {
        "duration": 5,
        "start_time": "2022-01-11T17:35:33.312Z"
      },
      {
        "duration": 22,
        "start_time": "2022-01-11T17:35:33.319Z"
      },
      {
        "duration": 32,
        "start_time": "2022-01-11T17:35:33.344Z"
      },
      {
        "duration": 14,
        "start_time": "2022-01-11T17:35:33.378Z"
      },
      {
        "duration": 25,
        "start_time": "2022-01-11T17:35:33.394Z"
      },
      {
        "duration": 54,
        "start_time": "2022-01-11T17:35:33.421Z"
      },
      {
        "duration": 20,
        "start_time": "2022-01-11T17:35:33.478Z"
      },
      {
        "duration": 8,
        "start_time": "2022-01-11T17:35:33.501Z"
      },
      {
        "duration": 10,
        "start_time": "2022-01-11T17:35:33.511Z"
      },
      {
        "duration": 9,
        "start_time": "2022-01-11T17:35:33.524Z"
      },
      {
        "duration": 34,
        "start_time": "2022-01-11T17:35:33.535Z"
      },
      {
        "duration": 36,
        "start_time": "2022-01-11T17:35:33.573Z"
      },
      {
        "duration": 17,
        "start_time": "2022-01-11T17:35:33.612Z"
      },
      {
        "duration": 40,
        "start_time": "2022-01-11T17:35:33.632Z"
      },
      {
        "duration": 8,
        "start_time": "2022-01-11T17:35:33.675Z"
      },
      {
        "duration": 15,
        "start_time": "2022-01-11T17:35:33.687Z"
      },
      {
        "duration": 10,
        "start_time": "2022-01-11T17:35:33.705Z"
      },
      {
        "duration": 8,
        "start_time": "2022-01-11T17:35:33.767Z"
      },
      {
        "duration": 5,
        "start_time": "2022-01-11T17:35:33.777Z"
      },
      {
        "duration": 6,
        "start_time": "2022-01-11T17:35:33.784Z"
      },
      {
        "duration": 14,
        "start_time": "2022-01-11T17:35:33.793Z"
      },
      {
        "duration": 75,
        "start_time": "2022-01-11T17:35:33.813Z"
      },
      {
        "duration": 9,
        "start_time": "2022-01-11T17:35:33.892Z"
      },
      {
        "duration": 21,
        "start_time": "2022-01-11T17:35:33.904Z"
      },
      {
        "duration": 9,
        "start_time": "2022-01-11T17:35:33.927Z"
      },
      {
        "duration": 29,
        "start_time": "2022-01-11T17:35:33.939Z"
      },
      {
        "duration": 8,
        "start_time": "2022-01-11T17:35:33.970Z"
      },
      {
        "duration": 14,
        "start_time": "2022-01-11T17:35:33.980Z"
      },
      {
        "duration": 29,
        "start_time": "2022-01-11T17:35:33.996Z"
      },
      {
        "duration": 43,
        "start_time": "2022-01-11T17:35:34.028Z"
      },
      {
        "duration": 10,
        "start_time": "2022-01-11T17:35:34.074Z"
      },
      {
        "duration": 4,
        "start_time": "2022-01-11T17:35:34.087Z"
      },
      {
        "duration": 6,
        "start_time": "2022-01-11T17:35:34.094Z"
      },
      {
        "duration": 66,
        "start_time": "2022-01-11T17:35:34.103Z"
      },
      {
        "duration": 12,
        "start_time": "2022-01-11T17:35:34.171Z"
      },
      {
        "duration": 4,
        "start_time": "2022-01-11T17:35:34.185Z"
      },
      {
        "duration": 31,
        "start_time": "2022-01-11T17:35:34.192Z"
      },
      {
        "duration": 66,
        "start_time": "2022-01-11T17:35:34.225Z"
      },
      {
        "duration": 25,
        "start_time": "2022-01-11T17:35:34.293Z"
      },
      {
        "duration": 4,
        "start_time": "2022-01-11T17:35:34.321Z"
      },
      {
        "duration": 7,
        "start_time": "2022-01-11T17:35:34.328Z"
      },
      {
        "duration": 30,
        "start_time": "2022-01-11T17:35:34.338Z"
      },
      {
        "duration": 14,
        "start_time": "2022-01-11T17:35:34.370Z"
      },
      {
        "duration": 10,
        "start_time": "2022-01-11T17:35:34.387Z"
      },
      {
        "duration": 76,
        "start_time": "2022-01-11T17:35:34.399Z"
      },
      {
        "duration": 6,
        "start_time": "2022-01-11T17:35:34.478Z"
      },
      {
        "duration": 11,
        "start_time": "2022-01-11T17:35:34.487Z"
      },
      {
        "duration": 6,
        "start_time": "2022-01-11T17:35:34.501Z"
      },
      {
        "duration": 6,
        "start_time": "2022-01-11T17:35:34.509Z"
      },
      {
        "duration": 50,
        "start_time": "2022-01-11T17:35:34.517Z"
      },
      {
        "duration": 1592,
        "start_time": "2022-01-11T17:35:34.570Z"
      },
      {
        "duration": 222,
        "start_time": "2022-01-11T17:35:35.943Z"
      },
      {
        "duration": 220,
        "start_time": "2022-01-11T17:35:35.947Z"
      },
      {
        "duration": 219,
        "start_time": "2022-01-11T17:35:35.949Z"
      },
      {
        "duration": 217,
        "start_time": "2022-01-11T17:35:35.952Z"
      },
      {
        "duration": 216,
        "start_time": "2022-01-11T17:35:35.955Z"
      },
      {
        "duration": 215,
        "start_time": "2022-01-11T17:35:35.957Z"
      },
      {
        "duration": 214,
        "start_time": "2022-01-11T17:35:35.960Z"
      },
      {
        "duration": 214,
        "start_time": "2022-01-11T17:35:35.962Z"
      },
      {
        "duration": 212,
        "start_time": "2022-01-11T17:35:35.965Z"
      },
      {
        "duration": 211,
        "start_time": "2022-01-11T17:35:35.968Z"
      },
      {
        "duration": 211,
        "start_time": "2022-01-11T17:35:35.971Z"
      },
      {
        "duration": 209,
        "start_time": "2022-01-11T17:35:35.974Z"
      },
      {
        "duration": 208,
        "start_time": "2022-01-11T17:35:35.977Z"
      },
      {
        "duration": 206,
        "start_time": "2022-01-11T17:35:35.980Z"
      },
      {
        "duration": 205,
        "start_time": "2022-01-11T17:35:35.983Z"
      },
      {
        "duration": 204,
        "start_time": "2022-01-11T17:35:35.986Z"
      },
      {
        "duration": 203,
        "start_time": "2022-01-11T17:35:35.989Z"
      },
      {
        "duration": 202,
        "start_time": "2022-01-11T17:35:35.992Z"
      },
      {
        "duration": 201,
        "start_time": "2022-01-11T17:35:35.995Z"
      },
      {
        "duration": 200,
        "start_time": "2022-01-11T17:35:35.997Z"
      },
      {
        "duration": 199,
        "start_time": "2022-01-11T17:35:36.000Z"
      },
      {
        "duration": 145,
        "start_time": "2022-01-11T17:35:36.055Z"
      },
      {
        "duration": 135,
        "start_time": "2022-01-11T17:35:36.066Z"
      },
      {
        "duration": 133,
        "start_time": "2022-01-11T17:35:36.069Z"
      },
      {
        "duration": 127,
        "start_time": "2022-01-11T17:35:36.077Z"
      },
      {
        "duration": 125,
        "start_time": "2022-01-11T17:35:36.080Z"
      },
      {
        "duration": 89,
        "start_time": "2022-01-11T17:35:43.785Z"
      },
      {
        "duration": 5,
        "start_time": "2022-01-11T17:35:45.258Z"
      },
      {
        "duration": 20,
        "start_time": "2022-01-11T17:35:45.913Z"
      },
      {
        "duration": 14,
        "start_time": "2022-01-11T17:35:47.211Z"
      },
      {
        "duration": 14,
        "start_time": "2022-01-11T17:35:49.789Z"
      },
      {
        "duration": 25,
        "start_time": "2022-01-11T17:35:51.362Z"
      },
      {
        "duration": 15,
        "start_time": "2022-01-11T17:35:53.241Z"
      },
      {
        "duration": 14,
        "start_time": "2022-01-11T17:35:54.230Z"
      },
      {
        "duration": 3,
        "start_time": "2022-01-11T17:35:55.994Z"
      },
      {
        "duration": 3,
        "start_time": "2022-01-11T17:35:57.619Z"
      },
      {
        "duration": 4,
        "start_time": "2022-01-11T17:35:59.271Z"
      },
      {
        "duration": 7,
        "start_time": "2022-01-11T17:36:02.369Z"
      },
      {
        "duration": 33,
        "start_time": "2022-01-11T17:36:09.538Z"
      },
      {
        "duration": 15,
        "start_time": "2022-01-11T17:36:11.105Z"
      },
      {
        "duration": 10,
        "start_time": "2022-01-11T17:36:17.441Z"
      },
      {
        "duration": 80,
        "start_time": "2022-01-11T17:52:32.347Z"
      },
      {
        "duration": 5,
        "start_time": "2022-01-11T17:52:33.949Z"
      },
      {
        "duration": 20,
        "start_time": "2022-01-11T17:52:35.085Z"
      },
      {
        "duration": 17,
        "start_time": "2022-01-11T17:52:37.105Z"
      },
      {
        "duration": 17,
        "start_time": "2022-01-11T17:52:41.024Z"
      },
      {
        "duration": 28,
        "start_time": "2022-01-11T17:52:42.820Z"
      },
      {
        "duration": 15,
        "start_time": "2022-01-11T17:52:44.663Z"
      },
      {
        "duration": 15,
        "start_time": "2022-01-11T17:52:45.533Z"
      },
      {
        "duration": 3,
        "start_time": "2022-01-11T17:52:47.843Z"
      },
      {
        "duration": 3,
        "start_time": "2022-01-11T17:52:49.107Z"
      },
      {
        "duration": 4,
        "start_time": "2022-01-11T17:52:50.522Z"
      },
      {
        "duration": 8,
        "start_time": "2022-01-11T17:52:52.725Z"
      },
      {
        "duration": 34,
        "start_time": "2022-01-11T17:52:54.980Z"
      },
      {
        "duration": 18,
        "start_time": "2022-01-11T17:52:57.680Z"
      },
      {
        "duration": 9,
        "start_time": "2022-01-11T17:53:05.580Z"
      },
      {
        "duration": 1907,
        "start_time": "2022-01-11T17:53:44.928Z"
      },
      {
        "duration": 6,
        "start_time": "2022-01-11T17:53:46.837Z"
      },
      {
        "duration": 28,
        "start_time": "2022-01-11T17:53:46.845Z"
      },
      {
        "duration": 17,
        "start_time": "2022-01-11T17:53:46.876Z"
      },
      {
        "duration": 13,
        "start_time": "2022-01-11T17:53:46.895Z"
      },
      {
        "duration": 58,
        "start_time": "2022-01-11T17:53:46.911Z"
      },
      {
        "duration": 15,
        "start_time": "2022-01-11T17:53:46.972Z"
      },
      {
        "duration": 18,
        "start_time": "2022-01-11T17:53:46.989Z"
      },
      {
        "duration": 4,
        "start_time": "2022-01-11T17:53:47.011Z"
      },
      {
        "duration": 10,
        "start_time": "2022-01-11T17:53:47.018Z"
      },
      {
        "duration": 10,
        "start_time": "2022-01-11T17:53:47.031Z"
      },
      {
        "duration": 13,
        "start_time": "2022-01-11T17:53:47.069Z"
      },
      {
        "duration": 39,
        "start_time": "2022-01-11T17:53:47.085Z"
      },
      {
        "duration": 42,
        "start_time": "2022-01-11T17:53:47.126Z"
      },
      {
        "duration": 12,
        "start_time": "2022-01-11T17:53:47.171Z"
      },
      {
        "duration": 8,
        "start_time": "2022-01-11T17:53:47.185Z"
      },
      {
        "duration": 12,
        "start_time": "2022-01-11T17:53:47.196Z"
      },
      {
        "duration": 6,
        "start_time": "2022-01-11T17:53:47.210Z"
      },
      {
        "duration": 7,
        "start_time": "2022-01-11T17:53:47.218Z"
      },
      {
        "duration": 5,
        "start_time": "2022-01-11T17:53:47.267Z"
      },
      {
        "duration": 6,
        "start_time": "2022-01-11T17:53:47.274Z"
      },
      {
        "duration": 13,
        "start_time": "2022-01-11T17:53:47.282Z"
      },
      {
        "duration": 70,
        "start_time": "2022-01-11T17:53:47.297Z"
      },
      {
        "duration": 9,
        "start_time": "2022-01-11T17:53:47.370Z"
      },
      {
        "duration": 9,
        "start_time": "2022-01-11T17:53:47.382Z"
      },
      {
        "duration": 11,
        "start_time": "2022-01-11T17:53:47.393Z"
      },
      {
        "duration": 3,
        "start_time": "2022-01-11T17:53:47.411Z"
      },
      {
        "duration": 50,
        "start_time": "2022-01-11T17:53:47.417Z"
      },
      {
        "duration": 12,
        "start_time": "2022-01-11T17:53:47.470Z"
      },
      {
        "duration": 22,
        "start_time": "2022-01-11T17:53:47.485Z"
      },
      {
        "duration": 11,
        "start_time": "2022-01-11T17:53:47.510Z"
      },
      {
        "duration": 47,
        "start_time": "2022-01-11T17:53:47.523Z"
      },
      {
        "duration": 5,
        "start_time": "2022-01-11T17:53:47.573Z"
      },
      {
        "duration": 11,
        "start_time": "2022-01-11T17:53:47.581Z"
      },
      {
        "duration": 31,
        "start_time": "2022-01-11T17:53:47.595Z"
      },
      {
        "duration": 39,
        "start_time": "2022-01-11T17:53:47.629Z"
      },
      {
        "duration": 3,
        "start_time": "2022-01-11T17:53:47.671Z"
      },
      {
        "duration": 39,
        "start_time": "2022-01-11T17:53:47.677Z"
      },
      {
        "duration": 60,
        "start_time": "2022-01-11T17:53:47.719Z"
      },
      {
        "duration": 25,
        "start_time": "2022-01-11T17:53:47.782Z"
      },
      {
        "duration": 4,
        "start_time": "2022-01-11T17:53:47.810Z"
      },
      {
        "duration": 6,
        "start_time": "2022-01-11T17:53:47.817Z"
      },
      {
        "duration": 8,
        "start_time": "2022-01-11T17:53:47.825Z"
      },
      {
        "duration": 16,
        "start_time": "2022-01-11T17:53:47.868Z"
      },
      {
        "duration": 11,
        "start_time": "2022-01-11T17:53:47.887Z"
      },
      {
        "duration": 74,
        "start_time": "2022-01-11T17:53:47.901Z"
      },
      {
        "duration": 5,
        "start_time": "2022-01-11T17:53:47.977Z"
      },
      {
        "duration": 30,
        "start_time": "2022-01-11T17:53:47.985Z"
      },
      {
        "duration": 12,
        "start_time": "2022-01-11T17:53:48.018Z"
      },
      {
        "duration": 15,
        "start_time": "2022-01-11T17:53:48.032Z"
      },
      {
        "duration": 16,
        "start_time": "2022-01-11T17:53:48.049Z"
      },
      {
        "duration": 1468,
        "start_time": "2022-01-11T17:53:48.068Z"
      },
      {
        "duration": 213,
        "start_time": "2022-01-11T17:53:49.325Z"
      },
      {
        "duration": 212,
        "start_time": "2022-01-11T17:53:49.328Z"
      },
      {
        "duration": 211,
        "start_time": "2022-01-11T17:53:49.330Z"
      },
      {
        "duration": 210,
        "start_time": "2022-01-11T17:53:49.333Z"
      },
      {
        "duration": 208,
        "start_time": "2022-01-11T17:53:49.336Z"
      },
      {
        "duration": 207,
        "start_time": "2022-01-11T17:53:49.338Z"
      },
      {
        "duration": 206,
        "start_time": "2022-01-11T17:53:49.341Z"
      },
      {
        "duration": 204,
        "start_time": "2022-01-11T17:53:49.344Z"
      },
      {
        "duration": 203,
        "start_time": "2022-01-11T17:53:49.346Z"
      },
      {
        "duration": 201,
        "start_time": "2022-01-11T17:53:49.349Z"
      },
      {
        "duration": 201,
        "start_time": "2022-01-11T17:53:49.351Z"
      },
      {
        "duration": 199,
        "start_time": "2022-01-11T17:53:49.354Z"
      },
      {
        "duration": 199,
        "start_time": "2022-01-11T17:53:49.356Z"
      },
      {
        "duration": 196,
        "start_time": "2022-01-11T17:53:49.360Z"
      },
      {
        "duration": 196,
        "start_time": "2022-01-11T17:53:49.362Z"
      },
      {
        "duration": 195,
        "start_time": "2022-01-11T17:53:49.365Z"
      },
      {
        "duration": 193,
        "start_time": "2022-01-11T17:53:49.368Z"
      },
      {
        "duration": 192,
        "start_time": "2022-01-11T17:53:49.371Z"
      },
      {
        "duration": 170,
        "start_time": "2022-01-11T17:53:49.394Z"
      },
      {
        "duration": 169,
        "start_time": "2022-01-11T17:53:49.397Z"
      },
      {
        "duration": 167,
        "start_time": "2022-01-11T17:53:49.400Z"
      },
      {
        "duration": 111,
        "start_time": "2022-01-11T17:53:49.458Z"
      },
      {
        "duration": 104,
        "start_time": "2022-01-11T17:53:49.466Z"
      },
      {
        "duration": 103,
        "start_time": "2022-01-11T17:53:49.469Z"
      },
      {
        "duration": 103,
        "start_time": "2022-01-11T17:53:49.471Z"
      },
      {
        "duration": 100,
        "start_time": "2022-01-11T17:53:49.475Z"
      },
      {
        "duration": 84,
        "start_time": "2022-01-11T17:53:52.470Z"
      },
      {
        "duration": 5,
        "start_time": "2022-01-11T17:53:53.216Z"
      },
      {
        "duration": 20,
        "start_time": "2022-01-11T17:53:53.608Z"
      },
      {
        "duration": 15,
        "start_time": "2022-01-11T17:53:54.416Z"
      },
      {
        "duration": 15,
        "start_time": "2022-01-11T17:53:55.766Z"
      },
      {
        "duration": 25,
        "start_time": "2022-01-11T17:53:56.955Z"
      },
      {
        "duration": 16,
        "start_time": "2022-01-11T17:53:58.724Z"
      },
      {
        "duration": 16,
        "start_time": "2022-01-11T17:53:59.441Z"
      },
      {
        "duration": 4,
        "start_time": "2022-01-11T17:54:01.210Z"
      },
      {
        "duration": 3,
        "start_time": "2022-01-11T17:54:02.745Z"
      },
      {
        "duration": 3,
        "start_time": "2022-01-11T17:54:04.116Z"
      },
      {
        "duration": 8,
        "start_time": "2022-01-11T17:54:05.985Z"
      },
      {
        "duration": 32,
        "start_time": "2022-01-11T17:54:06.889Z"
      },
      {
        "duration": 16,
        "start_time": "2022-01-11T17:54:07.618Z"
      },
      {
        "duration": 10,
        "start_time": "2022-01-11T17:54:08.660Z"
      },
      {
        "duration": 1604,
        "start_time": "2022-01-12T06:04:08.389Z"
      },
      {
        "duration": 5,
        "start_time": "2022-01-12T06:04:09.996Z"
      },
      {
        "duration": 24,
        "start_time": "2022-01-12T06:04:10.004Z"
      },
      {
        "duration": 39,
        "start_time": "2022-01-12T06:04:10.031Z"
      },
      {
        "duration": 15,
        "start_time": "2022-01-12T06:04:10.073Z"
      },
      {
        "duration": 25,
        "start_time": "2022-01-12T06:04:10.090Z"
      },
      {
        "duration": 56,
        "start_time": "2022-01-12T06:04:10.117Z"
      },
      {
        "duration": 19,
        "start_time": "2022-01-12T06:04:10.177Z"
      },
      {
        "duration": 4,
        "start_time": "2022-01-12T06:04:10.199Z"
      },
      {
        "duration": 5,
        "start_time": "2022-01-12T06:04:10.205Z"
      },
      {
        "duration": 5,
        "start_time": "2022-01-12T06:04:10.213Z"
      },
      {
        "duration": 44,
        "start_time": "2022-01-12T06:04:10.220Z"
      },
      {
        "duration": 31,
        "start_time": "2022-01-12T06:04:10.267Z"
      },
      {
        "duration": 15,
        "start_time": "2022-01-12T06:04:10.301Z"
      },
      {
        "duration": 9,
        "start_time": "2022-01-12T06:04:10.318Z"
      },
      {
        "duration": 37,
        "start_time": "2022-01-12T06:04:10.330Z"
      },
      {
        "duration": 13,
        "start_time": "2022-01-12T06:04:10.370Z"
      },
      {
        "duration": 11,
        "start_time": "2022-01-12T06:04:10.385Z"
      },
      {
        "duration": 8,
        "start_time": "2022-01-12T06:04:10.398Z"
      },
      {
        "duration": 7,
        "start_time": "2022-01-12T06:04:10.408Z"
      },
      {
        "duration": 45,
        "start_time": "2022-01-12T06:04:10.418Z"
      },
      {
        "duration": 21,
        "start_time": "2022-01-12T06:04:10.466Z"
      },
      {
        "duration": 36,
        "start_time": "2022-01-12T06:04:10.493Z"
      },
      {
        "duration": 18,
        "start_time": "2022-01-12T06:04:10.532Z"
      },
      {
        "duration": 20,
        "start_time": "2022-01-12T06:04:10.552Z"
      },
      {
        "duration": 9,
        "start_time": "2022-01-12T06:04:10.575Z"
      },
      {
        "duration": 20,
        "start_time": "2022-01-12T06:04:10.586Z"
      },
      {
        "duration": 14,
        "start_time": "2022-01-12T06:04:10.609Z"
      },
      {
        "duration": 19,
        "start_time": "2022-01-12T06:04:10.625Z"
      },
      {
        "duration": 37,
        "start_time": "2022-01-12T06:04:10.646Z"
      },
      {
        "duration": 16,
        "start_time": "2022-01-12T06:04:10.685Z"
      },
      {
        "duration": 16,
        "start_time": "2022-01-12T06:04:10.704Z"
      },
      {
        "duration": 6,
        "start_time": "2022-01-12T06:04:10.722Z"
      },
      {
        "duration": 13,
        "start_time": "2022-01-12T06:04:10.731Z"
      },
      {
        "duration": 42,
        "start_time": "2022-01-12T06:04:10.746Z"
      },
      {
        "duration": 12,
        "start_time": "2022-01-12T06:04:10.791Z"
      },
      {
        "duration": 6,
        "start_time": "2022-01-12T06:04:10.806Z"
      },
      {
        "duration": 67,
        "start_time": "2022-01-12T06:04:10.815Z"
      },
      {
        "duration": 36,
        "start_time": "2022-01-12T06:04:10.886Z"
      },
      {
        "duration": 43,
        "start_time": "2022-01-12T06:04:10.925Z"
      },
      {
        "duration": 11,
        "start_time": "2022-01-12T06:04:10.972Z"
      },
      {
        "duration": 16,
        "start_time": "2022-01-12T06:04:10.985Z"
      },
      {
        "duration": 23,
        "start_time": "2022-01-12T06:04:11.003Z"
      },
      {
        "duration": 21,
        "start_time": "2022-01-12T06:04:11.028Z"
      },
      {
        "duration": 11,
        "start_time": "2022-01-12T06:04:11.065Z"
      },
      {
        "duration": 55,
        "start_time": "2022-01-12T06:04:11.080Z"
      },
      {
        "duration": 28,
        "start_time": "2022-01-12T06:04:11.138Z"
      },
      {
        "duration": 13,
        "start_time": "2022-01-12T06:04:11.169Z"
      },
      {
        "duration": 15,
        "start_time": "2022-01-12T06:04:11.185Z"
      },
      {
        "duration": 7,
        "start_time": "2022-01-12T06:04:11.203Z"
      },
      {
        "duration": 17,
        "start_time": "2022-01-12T06:04:11.212Z"
      },
      {
        "duration": 1628,
        "start_time": "2022-01-12T06:04:11.231Z"
      },
      {
        "duration": -1142,
        "start_time": "2022-01-12T06:04:14.004Z"
      },
      {
        "duration": -1149,
        "start_time": "2022-01-12T06:04:14.013Z"
      },
      {
        "duration": -1158,
        "start_time": "2022-01-12T06:04:14.023Z"
      },
      {
        "duration": -1167,
        "start_time": "2022-01-12T06:04:14.034Z"
      },
      {
        "duration": -1170,
        "start_time": "2022-01-12T06:04:14.038Z"
      },
      {
        "duration": -1170,
        "start_time": "2022-01-12T06:04:14.040Z"
      },
      {
        "duration": -1172,
        "start_time": "2022-01-12T06:04:14.043Z"
      },
      {
        "duration": -1172,
        "start_time": "2022-01-12T06:04:14.045Z"
      },
      {
        "duration": -1173,
        "start_time": "2022-01-12T06:04:14.047Z"
      },
      {
        "duration": -1174,
        "start_time": "2022-01-12T06:04:14.050Z"
      },
      {
        "duration": -1175,
        "start_time": "2022-01-12T06:04:14.052Z"
      },
      {
        "duration": -1176,
        "start_time": "2022-01-12T06:04:14.054Z"
      },
      {
        "duration": -1176,
        "start_time": "2022-01-12T06:04:14.056Z"
      },
      {
        "duration": -1178,
        "start_time": "2022-01-12T06:04:14.059Z"
      },
      {
        "duration": -1178,
        "start_time": "2022-01-12T06:04:14.061Z"
      },
      {
        "duration": -1179,
        "start_time": "2022-01-12T06:04:14.063Z"
      },
      {
        "duration": -1204,
        "start_time": "2022-01-12T06:04:14.089Z"
      },
      {
        "duration": -1204,
        "start_time": "2022-01-12T06:04:14.091Z"
      },
      {
        "duration": -1205,
        "start_time": "2022-01-12T06:04:14.093Z"
      },
      {
        "duration": -1206,
        "start_time": "2022-01-12T06:04:14.095Z"
      },
      {
        "duration": -1208,
        "start_time": "2022-01-12T06:04:14.098Z"
      },
      {
        "duration": -1209,
        "start_time": "2022-01-12T06:04:14.100Z"
      },
      {
        "duration": -1209,
        "start_time": "2022-01-12T06:04:14.102Z"
      },
      {
        "duration": -1210,
        "start_time": "2022-01-12T06:04:14.104Z"
      },
      {
        "duration": -1219,
        "start_time": "2022-01-12T06:04:14.114Z"
      },
      {
        "duration": -1221,
        "start_time": "2022-01-12T06:04:14.117Z"
      },
      {
        "duration": 8,
        "start_time": "2022-01-12T06:06:34.246Z"
      },
      {
        "duration": 8,
        "start_time": "2022-01-12T06:07:52.366Z"
      },
      {
        "duration": 37,
        "start_time": "2022-01-12T06:08:03.642Z"
      },
      {
        "duration": 36,
        "start_time": "2022-01-12T06:09:37.056Z"
      },
      {
        "duration": 1708,
        "start_time": "2022-01-12T06:12:33.654Z"
      },
      {
        "duration": 5,
        "start_time": "2022-01-12T06:12:35.365Z"
      },
      {
        "duration": 27,
        "start_time": "2022-01-12T06:12:35.373Z"
      },
      {
        "duration": 17,
        "start_time": "2022-01-12T06:12:35.403Z"
      },
      {
        "duration": 40,
        "start_time": "2022-01-12T06:12:35.423Z"
      },
      {
        "duration": 34,
        "start_time": "2022-01-12T06:12:35.466Z"
      },
      {
        "duration": 25,
        "start_time": "2022-01-12T06:12:35.503Z"
      },
      {
        "duration": 42,
        "start_time": "2022-01-12T06:12:35.531Z"
      },
      {
        "duration": 14,
        "start_time": "2022-01-12T06:12:35.576Z"
      },
      {
        "duration": 3,
        "start_time": "2022-01-12T06:12:35.592Z"
      },
      {
        "duration": 4,
        "start_time": "2022-01-12T06:12:35.598Z"
      },
      {
        "duration": 4,
        "start_time": "2022-01-12T06:12:35.605Z"
      },
      {
        "duration": 52,
        "start_time": "2022-01-12T06:12:35.612Z"
      },
      {
        "duration": 3,
        "start_time": "2022-01-12T06:12:35.667Z"
      },
      {
        "duration": 12,
        "start_time": "2022-01-12T06:12:35.672Z"
      },
      {
        "duration": 12,
        "start_time": "2022-01-12T06:12:35.687Z"
      },
      {
        "duration": 6,
        "start_time": "2022-01-12T06:12:35.701Z"
      },
      {
        "duration": 9,
        "start_time": "2022-01-12T06:12:35.710Z"
      },
      {
        "duration": 43,
        "start_time": "2022-01-12T06:12:35.721Z"
      },
      {
        "duration": 7,
        "start_time": "2022-01-12T06:12:35.766Z"
      },
      {
        "duration": 5,
        "start_time": "2022-01-12T06:12:35.776Z"
      },
      {
        "duration": 3,
        "start_time": "2022-01-12T06:12:35.784Z"
      },
      {
        "duration": 9,
        "start_time": "2022-01-12T06:12:35.793Z"
      },
      {
        "duration": 85,
        "start_time": "2022-01-12T06:12:35.806Z"
      },
      {
        "duration": 4,
        "start_time": "2022-01-12T06:12:35.893Z"
      },
      {
        "duration": 10,
        "start_time": "2022-01-12T06:12:35.900Z"
      },
      {
        "duration": 9,
        "start_time": "2022-01-12T06:12:35.913Z"
      },
      {
        "duration": 3,
        "start_time": "2022-01-12T06:12:35.963Z"
      },
      {
        "duration": 4,
        "start_time": "2022-01-12T06:12:35.969Z"
      },
      {
        "duration": 11,
        "start_time": "2022-01-12T06:12:35.975Z"
      },
      {
        "duration": 3,
        "start_time": "2022-01-12T06:12:35.988Z"
      },
      {
        "duration": 10,
        "start_time": "2022-01-12T06:12:35.993Z"
      },
      {
        "duration": 12,
        "start_time": "2022-01-12T06:12:36.005Z"
      },
      {
        "duration": 3,
        "start_time": "2022-01-12T06:12:36.063Z"
      },
      {
        "duration": 4,
        "start_time": "2022-01-12T06:12:36.069Z"
      },
      {
        "duration": 25,
        "start_time": "2022-01-12T06:12:36.075Z"
      },
      {
        "duration": 9,
        "start_time": "2022-01-12T06:12:36.102Z"
      },
      {
        "duration": 3,
        "start_time": "2022-01-12T06:12:36.114Z"
      },
      {
        "duration": 43,
        "start_time": "2022-01-12T06:12:36.120Z"
      },
      {
        "duration": 5,
        "start_time": "2022-01-12T06:12:36.166Z"
      },
      {
        "duration": 7,
        "start_time": "2022-01-12T06:12:36.174Z"
      },
      {
        "duration": 19,
        "start_time": "2022-01-12T06:12:36.183Z"
      },
      {
        "duration": 8,
        "start_time": "2022-01-12T06:12:36.204Z"
      },
      {
        "duration": 10,
        "start_time": "2022-01-12T06:12:36.214Z"
      },
      {
        "duration": 9,
        "start_time": "2022-01-12T06:12:36.226Z"
      },
      {
        "duration": 26,
        "start_time": "2022-01-12T06:12:36.237Z"
      },
      {
        "duration": 18,
        "start_time": "2022-01-12T06:12:36.266Z"
      },
      {
        "duration": 11,
        "start_time": "2022-01-12T06:12:36.286Z"
      },
      {
        "duration": 15,
        "start_time": "2022-01-12T06:12:36.300Z"
      },
      {
        "duration": 15,
        "start_time": "2022-01-12T06:12:36.317Z"
      },
      {
        "duration": 13,
        "start_time": "2022-01-12T06:12:36.334Z"
      },
      {
        "duration": 15,
        "start_time": "2022-01-12T06:12:36.349Z"
      },
      {
        "duration": 17,
        "start_time": "2022-01-12T06:12:36.366Z"
      },
      {
        "duration": 6,
        "start_time": "2022-01-12T06:12:36.385Z"
      },
      {
        "duration": 16,
        "start_time": "2022-01-12T06:12:36.393Z"
      },
      {
        "duration": 18,
        "start_time": "2022-01-12T06:12:36.412Z"
      },
      {
        "duration": 16,
        "start_time": "2022-01-12T06:12:36.433Z"
      },
      {
        "duration": 35,
        "start_time": "2022-01-12T06:12:36.452Z"
      },
      {
        "duration": 20,
        "start_time": "2022-01-12T06:12:36.490Z"
      },
      {
        "duration": 7,
        "start_time": "2022-01-12T06:12:36.512Z"
      },
      {
        "duration": 4,
        "start_time": "2022-01-12T06:12:36.522Z"
      },
      {
        "duration": 9,
        "start_time": "2022-01-12T06:12:36.529Z"
      },
      {
        "duration": 22,
        "start_time": "2022-01-12T06:12:36.540Z"
      },
      {
        "duration": 6,
        "start_time": "2022-01-12T06:12:36.565Z"
      },
      {
        "duration": 10,
        "start_time": "2022-01-12T06:12:36.574Z"
      },
      {
        "duration": 19,
        "start_time": "2022-01-12T06:12:36.586Z"
      },
      {
        "duration": 8,
        "start_time": "2022-01-12T06:12:36.608Z"
      },
      {
        "duration": 33,
        "start_time": "2022-01-12T06:12:36.623Z"
      },
      {
        "duration": 8,
        "start_time": "2022-01-12T06:12:36.659Z"
      },
      {
        "duration": 13,
        "start_time": "2022-01-12T06:12:36.669Z"
      },
      {
        "duration": 12,
        "start_time": "2022-01-12T06:12:36.684Z"
      },
      {
        "duration": 7,
        "start_time": "2022-01-12T06:12:36.699Z"
      },
      {
        "duration": 6,
        "start_time": "2022-01-12T06:12:36.709Z"
      },
      {
        "duration": 5,
        "start_time": "2022-01-12T06:12:36.718Z"
      },
      {
        "duration": 3,
        "start_time": "2022-01-12T06:12:36.726Z"
      },
      {
        "duration": 3,
        "start_time": "2022-01-12T06:12:36.733Z"
      },
      {
        "duration": 3,
        "start_time": "2022-01-12T06:12:36.762Z"
      },
      {
        "duration": 4,
        "start_time": "2022-01-12T06:12:36.768Z"
      },
      {
        "duration": 3,
        "start_time": "2022-01-12T06:12:36.775Z"
      },
      {
        "duration": 27,
        "start_time": "2022-01-12T06:13:53.846Z"
      },
      {
        "duration": 14,
        "start_time": "2022-01-12T06:14:25.774Z"
      },
      {
        "duration": 34,
        "start_time": "2022-01-12T06:14:40.383Z"
      },
      {
        "duration": 24,
        "start_time": "2022-01-12T06:15:36.980Z"
      },
      {
        "duration": 14,
        "start_time": "2022-01-12T06:15:49.700Z"
      },
      {
        "duration": 450,
        "start_time": "2022-01-12T06:16:03.422Z"
      },
      {
        "duration": 9,
        "start_time": "2022-01-12T06:17:11.035Z"
      },
      {
        "duration": 10,
        "start_time": "2022-01-12T06:17:18.761Z"
      },
      {
        "duration": 318,
        "start_time": "2022-01-12T06:17:31.624Z"
      },
      {
        "duration": 279,
        "start_time": "2022-01-12T06:18:03.499Z"
      },
      {
        "duration": 22,
        "start_time": "2022-01-12T06:18:10.289Z"
      },
      {
        "duration": 303,
        "start_time": "2022-01-12T06:18:54.930Z"
      },
      {
        "duration": 178,
        "start_time": "2022-01-12T06:19:34.704Z"
      },
      {
        "duration": 286,
        "start_time": "2022-01-12T06:19:42.151Z"
      },
      {
        "duration": 10,
        "start_time": "2022-01-12T06:19:54.811Z"
      },
      {
        "duration": 303,
        "start_time": "2022-01-12T06:20:18.965Z"
      },
      {
        "duration": 293,
        "start_time": "2022-01-12T06:20:43.549Z"
      },
      {
        "duration": 4309,
        "start_time": "2022-01-12T06:42:31.985Z"
      },
      {
        "duration": 5029,
        "start_time": "2022-01-12T06:42:56.001Z"
      },
      {
        "duration": 35,
        "start_time": "2022-01-12T06:43:10.900Z"
      },
      {
        "duration": 32,
        "start_time": "2022-01-12T06:43:13.017Z"
      },
      {
        "duration": 3959,
        "start_time": "2022-01-12T06:43:14.651Z"
      },
      {
        "duration": 155,
        "start_time": "2022-01-12T06:43:30.512Z"
      },
      {
        "duration": 293,
        "start_time": "2022-01-12T06:43:34.827Z"
      },
      {
        "duration": 2040,
        "start_time": "2022-01-12T06:43:46.507Z"
      },
      {
        "duration": 7,
        "start_time": "2022-01-12T06:44:31.687Z"
      },
      {
        "duration": 3,
        "start_time": "2022-01-12T06:44:36.131Z"
      },
      {
        "duration": 33,
        "start_time": "2022-01-12T06:44:41.282Z"
      },
      {
        "duration": 15,
        "start_time": "2022-01-12T06:44:54.823Z"
      },
      {
        "duration": 9,
        "start_time": "2022-01-12T06:44:58.673Z"
      },
      {
        "duration": 7,
        "start_time": "2022-01-12T06:45:17.660Z"
      },
      {
        "duration": 2202,
        "start_time": "2022-01-12T06:50:33.412Z"
      },
      {
        "duration": -1331,
        "start_time": "2022-01-12T06:51:12.642Z"
      },
      {
        "duration": 98,
        "start_time": "2022-01-12T06:51:22.042Z"
      },
      {
        "duration": 289,
        "start_time": "2022-01-12T06:51:25.118Z"
      },
      {
        "duration": 7715,
        "start_time": "2022-01-12T06:51:42.564Z"
      },
      {
        "duration": 9854,
        "start_time": "2022-01-12T06:52:00.088Z"
      },
      {
        "duration": 3316,
        "start_time": "2022-01-12T06:52:54.158Z"
      },
      {
        "duration": 3015,
        "start_time": "2022-01-12T06:53:01.600Z"
      },
      {
        "duration": 3039,
        "start_time": "2022-01-12T06:53:20.577Z"
      },
      {
        "duration": 6558,
        "start_time": "2022-01-12T06:54:03.140Z"
      },
      {
        "duration": 5902,
        "start_time": "2022-01-12T06:54:25.280Z"
      },
      {
        "duration": 29,
        "start_time": "2022-01-12T06:54:45.095Z"
      },
      {
        "duration": 7,
        "start_time": "2022-01-12T06:54:58.339Z"
      },
      {
        "duration": 9,
        "start_time": "2022-01-12T06:55:18.176Z"
      },
      {
        "duration": 7,
        "start_time": "2022-01-12T06:57:44.965Z"
      },
      {
        "duration": 6,
        "start_time": "2022-01-12T06:58:04.882Z"
      },
      {
        "duration": 10,
        "start_time": "2022-01-12T06:58:36.461Z"
      },
      {
        "duration": 15,
        "start_time": "2022-01-12T06:58:48.504Z"
      },
      {
        "duration": 99,
        "start_time": "2022-01-12T07:00:35.096Z"
      },
      {
        "duration": 6,
        "start_time": "2022-01-12T07:00:48.530Z"
      },
      {
        "duration": 20,
        "start_time": "2022-01-12T07:00:52.655Z"
      },
      {
        "duration": 16,
        "start_time": "2022-01-12T07:00:57.876Z"
      },
      {
        "duration": 35,
        "start_time": "2022-01-12T07:01:07.980Z"
      },
      {
        "duration": 25,
        "start_time": "2022-01-12T07:01:49.918Z"
      },
      {
        "duration": 8,
        "start_time": "2022-01-12T07:01:56.569Z"
      },
      {
        "duration": 10,
        "start_time": "2022-01-12T07:02:10.768Z"
      },
      {
        "duration": 9,
        "start_time": "2022-01-12T07:03:11.146Z"
      },
      {
        "duration": 15,
        "start_time": "2022-01-12T07:04:17.967Z"
      },
      {
        "duration": 10,
        "start_time": "2022-01-12T07:05:26.470Z"
      },
      {
        "duration": 9,
        "start_time": "2022-01-12T07:06:05.094Z"
      },
      {
        "duration": 10,
        "start_time": "2022-01-12T07:57:31.972Z"
      },
      {
        "duration": 10,
        "start_time": "2022-01-12T07:58:21.829Z"
      },
      {
        "duration": 7,
        "start_time": "2022-01-12T07:58:40.215Z"
      },
      {
        "duration": 28,
        "start_time": "2022-01-12T07:58:45.918Z"
      },
      {
        "duration": 10,
        "start_time": "2022-01-12T07:58:53.449Z"
      },
      {
        "duration": 28,
        "start_time": "2022-01-12T07:59:11.620Z"
      },
      {
        "duration": 10,
        "start_time": "2022-01-12T07:59:14.011Z"
      },
      {
        "duration": 8,
        "start_time": "2022-01-12T08:00:35.454Z"
      },
      {
        "duration": 32,
        "start_time": "2022-01-12T08:00:46.513Z"
      },
      {
        "duration": 14,
        "start_time": "2022-01-12T08:00:48.643Z"
      },
      {
        "duration": 331,
        "start_time": "2022-01-12T08:01:22.621Z"
      },
      {
        "duration": 111,
        "start_time": "2022-01-12T08:01:28.390Z"
      },
      {
        "duration": 325,
        "start_time": "2022-01-12T08:01:30.584Z"
      },
      {
        "duration": 18,
        "start_time": "2022-01-12T08:02:01.385Z"
      },
      {
        "duration": 613,
        "start_time": "2022-01-12T08:02:03.852Z"
      },
      {
        "duration": 110,
        "start_time": "2022-01-12T08:02:19.505Z"
      },
      {
        "duration": 436,
        "start_time": "2022-01-12T08:02:27.194Z"
      },
      {
        "duration": 124,
        "start_time": "2022-01-12T08:02:38.657Z"
      },
      {
        "duration": 360,
        "start_time": "2022-01-12T08:02:41.655Z"
      },
      {
        "duration": 6,
        "start_time": "2022-01-12T08:03:02.364Z"
      },
      {
        "duration": 6,
        "start_time": "2022-01-12T08:03:12.249Z"
      },
      {
        "duration": 539,
        "start_time": "2022-01-12T08:03:18.672Z"
      },
      {
        "duration": 7,
        "start_time": "2022-01-12T08:07:00.273Z"
      },
      {
        "duration": 6,
        "start_time": "2022-01-12T08:10:29.366Z"
      },
      {
        "duration": 7,
        "start_time": "2022-01-12T08:10:56.843Z"
      },
      {
        "duration": 1609,
        "start_time": "2022-01-12T08:13:40.190Z"
      },
      {
        "duration": 5,
        "start_time": "2022-01-12T08:13:41.802Z"
      },
      {
        "duration": 34,
        "start_time": "2022-01-12T08:13:41.810Z"
      },
      {
        "duration": 30,
        "start_time": "2022-01-12T08:13:41.847Z"
      },
      {
        "duration": 50,
        "start_time": "2022-01-12T08:13:41.881Z"
      },
      {
        "duration": 44,
        "start_time": "2022-01-12T08:13:41.934Z"
      },
      {
        "duration": 29,
        "start_time": "2022-01-12T08:13:41.981Z"
      },
      {
        "duration": 15,
        "start_time": "2022-01-12T08:13:42.014Z"
      },
      {
        "duration": 25,
        "start_time": "2022-01-12T08:13:42.032Z"
      },
      {
        "duration": 16,
        "start_time": "2022-01-12T08:13:42.059Z"
      },
      {
        "duration": 13,
        "start_time": "2022-01-12T08:13:42.082Z"
      },
      {
        "duration": 18,
        "start_time": "2022-01-12T08:13:42.098Z"
      },
      {
        "duration": 23,
        "start_time": "2022-01-12T08:13:42.119Z"
      },
      {
        "duration": 19,
        "start_time": "2022-01-12T08:13:42.145Z"
      },
      {
        "duration": 20,
        "start_time": "2022-01-12T08:13:42.166Z"
      },
      {
        "duration": 21,
        "start_time": "2022-01-12T08:13:42.188Z"
      },
      {
        "duration": 548,
        "start_time": "2022-01-12T08:13:42.212Z"
      },
      {
        "duration": -971,
        "start_time": "2022-01-12T08:13:43.738Z"
      },
      {
        "duration": -974,
        "start_time": "2022-01-12T08:13:43.742Z"
      },
      {
        "duration": -975,
        "start_time": "2022-01-12T08:13:43.745Z"
      },
      {
        "duration": -983,
        "start_time": "2022-01-12T08:13:43.754Z"
      },
      {
        "duration": -985,
        "start_time": "2022-01-12T08:13:43.757Z"
      },
      {
        "duration": -985,
        "start_time": "2022-01-12T08:13:43.759Z"
      },
      {
        "duration": -987,
        "start_time": "2022-01-12T08:13:43.762Z"
      },
      {
        "duration": -987,
        "start_time": "2022-01-12T08:13:43.764Z"
      },
      {
        "duration": -988,
        "start_time": "2022-01-12T08:13:43.766Z"
      },
      {
        "duration": -994,
        "start_time": "2022-01-12T08:13:43.773Z"
      },
      {
        "duration": -994,
        "start_time": "2022-01-12T08:13:43.775Z"
      },
      {
        "duration": -1027,
        "start_time": "2022-01-12T08:13:43.809Z"
      },
      {
        "duration": -1030,
        "start_time": "2022-01-12T08:13:43.813Z"
      },
      {
        "duration": -1031,
        "start_time": "2022-01-12T08:13:43.816Z"
      },
      {
        "duration": -1033,
        "start_time": "2022-01-12T08:13:43.819Z"
      },
      {
        "duration": -1034,
        "start_time": "2022-01-12T08:13:43.822Z"
      },
      {
        "duration": -1047,
        "start_time": "2022-01-12T08:13:43.836Z"
      },
      {
        "duration": -1063,
        "start_time": "2022-01-12T08:13:43.854Z"
      },
      {
        "duration": -1065,
        "start_time": "2022-01-12T08:13:43.857Z"
      },
      {
        "duration": -1065,
        "start_time": "2022-01-12T08:13:43.859Z"
      },
      {
        "duration": -1067,
        "start_time": "2022-01-12T08:13:43.862Z"
      },
      {
        "duration": -1069,
        "start_time": "2022-01-12T08:13:43.865Z"
      },
      {
        "duration": -1069,
        "start_time": "2022-01-12T08:13:43.867Z"
      },
      {
        "duration": -1122,
        "start_time": "2022-01-12T08:13:43.921Z"
      },
      {
        "duration": -1123,
        "start_time": "2022-01-12T08:13:43.923Z"
      },
      {
        "duration": -1124,
        "start_time": "2022-01-12T08:13:43.926Z"
      },
      {
        "duration": -1126,
        "start_time": "2022-01-12T08:13:43.929Z"
      },
      {
        "duration": -1067,
        "start_time": "2022-01-12T08:13:43.931Z"
      },
      {
        "duration": -1068,
        "start_time": "2022-01-12T08:13:43.933Z"
      },
      {
        "duration": -1069,
        "start_time": "2022-01-12T08:13:43.936Z"
      },
      {
        "duration": -1070,
        "start_time": "2022-01-12T08:13:43.938Z"
      },
      {
        "duration": -1070,
        "start_time": "2022-01-12T08:13:43.940Z"
      },
      {
        "duration": -1081,
        "start_time": "2022-01-12T08:13:43.952Z"
      },
      {
        "duration": -1097,
        "start_time": "2022-01-12T08:13:43.969Z"
      },
      {
        "duration": -1097,
        "start_time": "2022-01-12T08:13:43.971Z"
      },
      {
        "duration": -1099,
        "start_time": "2022-01-12T08:13:43.974Z"
      },
      {
        "duration": -1144,
        "start_time": "2022-01-12T08:13:44.021Z"
      },
      {
        "duration": -1182,
        "start_time": "2022-01-12T08:13:44.060Z"
      },
      {
        "duration": -1184,
        "start_time": "2022-01-12T08:13:44.063Z"
      },
      {
        "duration": -1184,
        "start_time": "2022-01-12T08:13:44.065Z"
      },
      {
        "duration": -1192,
        "start_time": "2022-01-12T08:13:44.074Z"
      },
      {
        "duration": -1193,
        "start_time": "2022-01-12T08:13:44.076Z"
      },
      {
        "duration": -1194,
        "start_time": "2022-01-12T08:13:44.079Z"
      },
      {
        "duration": -1194,
        "start_time": "2022-01-12T08:13:44.081Z"
      },
      {
        "duration": -1195,
        "start_time": "2022-01-12T08:13:44.083Z"
      },
      {
        "duration": -1196,
        "start_time": "2022-01-12T08:13:44.085Z"
      },
      {
        "duration": -1197,
        "start_time": "2022-01-12T08:13:44.088Z"
      },
      {
        "duration": -1198,
        "start_time": "2022-01-12T08:13:44.090Z"
      },
      {
        "duration": -1198,
        "start_time": "2022-01-12T08:13:44.092Z"
      },
      {
        "duration": -1199,
        "start_time": "2022-01-12T08:13:44.094Z"
      },
      {
        "duration": -1216,
        "start_time": "2022-01-12T08:13:44.113Z"
      },
      {
        "duration": -1228,
        "start_time": "2022-01-12T08:13:44.126Z"
      },
      {
        "duration": -1230,
        "start_time": "2022-01-12T08:13:44.129Z"
      },
      {
        "duration": -1231,
        "start_time": "2022-01-12T08:13:44.131Z"
      },
      {
        "duration": -1171,
        "start_time": "2022-01-12T08:13:44.133Z"
      },
      {
        "duration": -1172,
        "start_time": "2022-01-12T08:13:44.136Z"
      },
      {
        "duration": -1172,
        "start_time": "2022-01-12T08:13:44.138Z"
      },
      {
        "duration": -1173,
        "start_time": "2022-01-12T08:13:44.140Z"
      },
      {
        "duration": -1174,
        "start_time": "2022-01-12T08:13:44.142Z"
      },
      {
        "duration": -1175,
        "start_time": "2022-01-12T08:13:44.145Z"
      },
      {
        "duration": -1176,
        "start_time": "2022-01-12T08:13:44.147Z"
      },
      {
        "duration": -1176,
        "start_time": "2022-01-12T08:13:44.149Z"
      },
      {
        "duration": 87,
        "start_time": "2022-01-12T08:14:23.082Z"
      },
      {
        "duration": 6,
        "start_time": "2022-01-12T08:14:24.523Z"
      },
      {
        "duration": 20,
        "start_time": "2022-01-12T08:14:25.314Z"
      },
      {
        "duration": 14,
        "start_time": "2022-01-12T08:14:26.645Z"
      },
      {
        "duration": 36,
        "start_time": "2022-01-12T08:14:28.121Z"
      },
      {
        "duration": 25,
        "start_time": "2022-01-12T08:14:29.943Z"
      },
      {
        "duration": 8,
        "start_time": "2022-01-12T08:14:35.118Z"
      },
      {
        "duration": 9,
        "start_time": "2022-01-12T08:14:37.246Z"
      },
      {
        "duration": 14,
        "start_time": "2022-01-12T08:14:46.117Z"
      },
      {
        "duration": 10,
        "start_time": "2022-01-12T08:14:55.211Z"
      },
      {
        "duration": 9,
        "start_time": "2022-01-12T08:15:14.886Z"
      },
      {
        "duration": 10,
        "start_time": "2022-01-12T08:15:49.477Z"
      },
      {
        "duration": 15,
        "start_time": "2022-01-12T08:17:38.067Z"
      },
      {
        "duration": 11,
        "start_time": "2022-01-12T08:17:52.608Z"
      },
      {
        "duration": 31,
        "start_time": "2022-01-12T08:17:58.942Z"
      },
      {
        "duration": 13,
        "start_time": "2022-01-12T08:18:06.014Z"
      },
      {
        "duration": 313,
        "start_time": "2022-01-12T08:26:19.903Z"
      },
      {
        "duration": 318,
        "start_time": "2022-01-12T08:27:51.201Z"
      },
      {
        "duration": 9,
        "start_time": "2022-01-12T08:27:56.744Z"
      },
      {
        "duration": 11,
        "start_time": "2022-01-12T08:27:59.768Z"
      },
      {
        "duration": 13,
        "start_time": "2022-01-12T08:28:15.014Z"
      },
      {
        "duration": 19,
        "start_time": "2022-01-12T08:32:03.691Z"
      },
      {
        "duration": 11,
        "start_time": "2022-01-12T08:32:09.271Z"
      },
      {
        "duration": 294,
        "start_time": "2022-01-12T08:32:53.270Z"
      },
      {
        "duration": 389,
        "start_time": "2022-01-12T08:33:02.637Z"
      },
      {
        "duration": 10,
        "start_time": "2022-01-12T08:33:11.619Z"
      },
      {
        "duration": 6,
        "start_time": "2022-01-12T08:33:20.704Z"
      },
      {
        "duration": 10,
        "start_time": "2022-01-12T08:33:53.320Z"
      },
      {
        "duration": 391,
        "start_time": "2022-01-12T08:33:57.877Z"
      },
      {
        "duration": 21,
        "start_time": "2022-01-12T08:34:08.433Z"
      },
      {
        "duration": 8,
        "start_time": "2022-01-12T08:34:12.806Z"
      },
      {
        "duration": 7,
        "start_time": "2022-01-12T08:34:21.418Z"
      },
      {
        "duration": 11,
        "start_time": "2022-01-12T08:34:23.661Z"
      },
      {
        "duration": 426,
        "start_time": "2022-01-12T08:34:39.012Z"
      },
      {
        "duration": 8,
        "start_time": "2022-01-12T08:34:48.784Z"
      },
      {
        "duration": 6,
        "start_time": "2022-01-12T08:34:55.857Z"
      },
      {
        "duration": 25,
        "start_time": "2022-01-12T08:37:22.325Z"
      },
      {
        "duration": 9,
        "start_time": "2022-01-12T08:37:31.961Z"
      },
      {
        "duration": 10,
        "start_time": "2022-01-12T08:37:41.190Z"
      },
      {
        "duration": 9,
        "start_time": "2022-01-12T08:38:14.340Z"
      },
      {
        "duration": 39,
        "start_time": "2022-01-12T08:38:29.848Z"
      },
      {
        "duration": 8,
        "start_time": "2022-01-12T08:45:24.939Z"
      },
      {
        "duration": 11,
        "start_time": "2022-01-12T08:45:29.904Z"
      },
      {
        "duration": 9,
        "start_time": "2022-01-12T08:45:40.484Z"
      },
      {
        "duration": 13,
        "start_time": "2022-01-12T08:45:46.939Z"
      },
      {
        "duration": 21,
        "start_time": "2022-01-12T08:46:06.149Z"
      },
      {
        "duration": 326,
        "start_time": "2022-01-12T08:46:09.033Z"
      },
      {
        "duration": 12,
        "start_time": "2022-01-12T08:46:14.741Z"
      },
      {
        "duration": 15,
        "start_time": "2022-01-12T08:46:20.738Z"
      },
      {
        "duration": 27,
        "start_time": "2022-01-12T08:47:56.911Z"
      },
      {
        "duration": 11,
        "start_time": "2022-01-12T08:48:06.920Z"
      },
      {
        "duration": 3,
        "start_time": "2022-01-12T08:48:13.599Z"
      },
      {
        "duration": 294,
        "start_time": "2022-01-12T08:48:24.708Z"
      },
      {
        "duration": 28,
        "start_time": "2022-01-12T08:48:40.916Z"
      },
      {
        "duration": 29,
        "start_time": "2022-01-12T09:00:26.556Z"
      },
      {
        "duration": 25,
        "start_time": "2022-01-12T09:00:41.267Z"
      },
      {
        "duration": 8,
        "start_time": "2022-01-12T09:01:16.764Z"
      },
      {
        "duration": 5,
        "start_time": "2022-01-12T09:01:31.096Z"
      },
      {
        "duration": 5,
        "start_time": "2022-01-12T09:01:39.148Z"
      },
      {
        "duration": 14,
        "start_time": "2022-01-12T09:02:01.485Z"
      },
      {
        "duration": 12,
        "start_time": "2022-01-12T09:02:47.714Z"
      },
      {
        "duration": 6628,
        "start_time": "2022-01-12T09:02:53.851Z"
      },
      {
        "duration": 12,
        "start_time": "2022-01-12T09:07:30.956Z"
      },
      {
        "duration": 10,
        "start_time": "2022-01-12T09:08:01.359Z"
      },
      {
        "duration": 10,
        "start_time": "2022-01-12T09:08:20.714Z"
      },
      {
        "duration": 375,
        "start_time": "2022-01-12T09:09:04.076Z"
      },
      {
        "duration": 44,
        "start_time": "2022-01-12T09:09:38.264Z"
      },
      {
        "duration": 5,
        "start_time": "2022-01-12T09:10:15.239Z"
      },
      {
        "duration": 6,
        "start_time": "2022-01-12T09:10:25.703Z"
      },
      {
        "duration": 5,
        "start_time": "2022-01-12T09:10:36.339Z"
      },
      {
        "duration": 8,
        "start_time": "2022-01-12T09:11:20.865Z"
      },
      {
        "duration": 123,
        "start_time": "2022-01-12T09:11:54.959Z"
      },
      {
        "duration": 6,
        "start_time": "2022-01-12T09:11:57.542Z"
      },
      {
        "duration": 6,
        "start_time": "2022-01-12T09:12:18.384Z"
      },
      {
        "duration": 6,
        "start_time": "2022-01-12T09:12:37.059Z"
      },
      {
        "duration": 7,
        "start_time": "2022-01-12T09:12:45.515Z"
      },
      {
        "duration": 5,
        "start_time": "2022-01-12T09:12:49.083Z"
      },
      {
        "duration": 119,
        "start_time": "2022-01-12T09:13:10.545Z"
      },
      {
        "duration": 11,
        "start_time": "2022-01-12T09:13:14.279Z"
      },
      {
        "duration": 6,
        "start_time": "2022-01-12T09:13:20.685Z"
      },
      {
        "duration": 6,
        "start_time": "2022-01-12T09:13:25.374Z"
      },
      {
        "duration": 300,
        "start_time": "2022-01-12T09:14:19.616Z"
      },
      {
        "duration": 595,
        "start_time": "2022-01-12T09:14:46.153Z"
      },
      {
        "duration": 4,
        "start_time": "2022-01-12T09:14:53.225Z"
      },
      {
        "duration": 1804,
        "start_time": "2022-01-12T09:14:54.206Z"
      },
      {
        "duration": 5,
        "start_time": "2022-01-12T09:17:39.780Z"
      },
      {
        "duration": 12,
        "start_time": "2022-01-12T09:17:52.433Z"
      },
      {
        "duration": 6565,
        "start_time": "2022-01-12T09:25:12.401Z"
      },
      {
        "duration": 7181,
        "start_time": "2022-01-12T09:27:19.784Z"
      },
      {
        "duration": 9,
        "start_time": "2022-01-12T09:41:47.649Z"
      },
      {
        "duration": 11,
        "start_time": "2022-01-12T09:41:56.520Z"
      },
      {
        "duration": 8,
        "start_time": "2022-01-12T09:42:13.315Z"
      },
      {
        "duration": 22,
        "start_time": "2022-01-12T09:42:20.672Z"
      },
      {
        "duration": 11,
        "start_time": "2022-01-12T09:43:06.141Z"
      },
      {
        "duration": 9,
        "start_time": "2022-01-12T09:46:09.810Z"
      },
      {
        "duration": 316,
        "start_time": "2022-01-12T09:46:14.091Z"
      },
      {
        "duration": 370,
        "start_time": "2022-01-12T09:46:17.534Z"
      },
      {
        "duration": 11,
        "start_time": "2022-01-12T09:46:21.437Z"
      },
      {
        "duration": 89,
        "start_time": "2022-01-12T09:59:09.240Z"
      },
      {
        "duration": 102,
        "start_time": "2022-01-12T10:10:39.430Z"
      },
      {
        "duration": 512,
        "start_time": "2022-01-12T10:11:09.562Z"
      },
      {
        "duration": 111,
        "start_time": "2022-01-12T10:11:59.966Z"
      },
      {
        "duration": 29,
        "start_time": "2022-01-12T10:12:22.307Z"
      },
      {
        "duration": 7,
        "start_time": "2022-01-12T10:12:34.651Z"
      },
      {
        "duration": 27,
        "start_time": "2022-01-12T10:18:29.907Z"
      },
      {
        "duration": 111,
        "start_time": "2022-01-12T10:18:33.771Z"
      },
      {
        "duration": 8,
        "start_time": "2022-01-12T10:18:36.710Z"
      },
      {
        "duration": 92,
        "start_time": "2022-01-12T10:20:18.338Z"
      },
      {
        "duration": 44,
        "start_time": "2022-01-12T10:20:26.773Z"
      },
      {
        "duration": 8,
        "start_time": "2022-01-12T10:20:28.562Z"
      },
      {
        "duration": 1007,
        "start_time": "2022-01-12T10:23:28.907Z"
      },
      {
        "duration": 7,
        "start_time": "2022-01-12T10:23:30.094Z"
      },
      {
        "duration": 116,
        "start_time": "2022-01-12T10:24:00.185Z"
      },
      {
        "duration": 75,
        "start_time": "2022-01-12T10:24:20.074Z"
      },
      {
        "duration": 6,
        "start_time": "2022-01-12T10:24:22.450Z"
      },
      {
        "duration": 144,
        "start_time": "2022-01-12T10:24:59.450Z"
      },
      {
        "duration": 593,
        "start_time": "2022-01-12T10:25:03.115Z"
      },
      {
        "duration": 129,
        "start_time": "2022-01-12T10:26:02.936Z"
      },
      {
        "duration": 32,
        "start_time": "2022-01-12T10:26:12.194Z"
      },
      {
        "duration": 10,
        "start_time": "2022-01-12T10:26:14.962Z"
      },
      {
        "duration": 413,
        "start_time": "2022-01-12T10:34:59.644Z"
      },
      {
        "duration": 656,
        "start_time": "2022-01-12T10:52:21.776Z"
      },
      {
        "duration": 726,
        "start_time": "2022-01-12T10:52:29.698Z"
      },
      {
        "duration": 692,
        "start_time": "2022-01-12T10:52:37.095Z"
      },
      {
        "duration": 29,
        "start_time": "2022-01-12T10:52:48.851Z"
      },
      {
        "duration": 6,
        "start_time": "2022-01-12T10:52:50.035Z"
      },
      {
        "duration": 18,
        "start_time": "2022-01-12T10:53:12.265Z"
      },
      {
        "duration": 14,
        "start_time": "2022-01-12T10:53:24.344Z"
      },
      {
        "duration": 549,
        "start_time": "2022-01-12T10:54:35.401Z"
      },
      {
        "duration": 9,
        "start_time": "2022-01-12T10:54:36.541Z"
      },
      {
        "duration": 12,
        "start_time": "2022-01-12T10:54:37.739Z"
      },
      {
        "duration": 28,
        "start_time": "2022-01-12T10:55:07.149Z"
      },
      {
        "duration": 7,
        "start_time": "2022-01-12T10:55:08.466Z"
      },
      {
        "duration": 19,
        "start_time": "2022-01-12T10:55:09.469Z"
      },
      {
        "duration": 14,
        "start_time": "2022-01-12T11:06:41.572Z"
      },
      {
        "duration": 10,
        "start_time": "2022-01-12T11:07:08.982Z"
      },
      {
        "duration": 19,
        "start_time": "2022-01-12T11:08:13.058Z"
      },
      {
        "duration": 21,
        "start_time": "2022-01-12T11:09:56.141Z"
      },
      {
        "duration": 7,
        "start_time": "2022-01-12T11:10:20.029Z"
      },
      {
        "duration": 25,
        "start_time": "2022-01-12T11:12:25.861Z"
      },
      {
        "duration": 13,
        "start_time": "2022-01-12T11:13:05.418Z"
      },
      {
        "duration": 7,
        "start_time": "2022-01-12T11:13:15.147Z"
      },
      {
        "duration": 544,
        "start_time": "2022-01-12T11:13:33.846Z"
      },
      {
        "duration": 20,
        "start_time": "2022-01-12T11:13:41.897Z"
      },
      {
        "duration": 5,
        "start_time": "2022-01-12T11:52:24.120Z"
      },
      {
        "duration": 4,
        "start_time": "2022-01-12T12:05:32.291Z"
      },
      {
        "duration": 4,
        "start_time": "2022-01-12T12:05:33.315Z"
      },
      {
        "duration": 4,
        "start_time": "2022-01-12T12:05:33.918Z"
      },
      {
        "duration": 4,
        "start_time": "2022-01-12T12:05:34.432Z"
      },
      {
        "duration": 139,
        "start_time": "2022-01-12T12:06:43.544Z"
      },
      {
        "duration": 5,
        "start_time": "2022-01-12T12:07:00.310Z"
      },
      {
        "duration": 5,
        "start_time": "2022-01-12T12:07:17.637Z"
      },
      {
        "duration": 21,
        "start_time": "2022-01-12T12:08:42.530Z"
      },
      {
        "duration": 17,
        "start_time": "2022-01-12T12:09:01.354Z"
      },
      {
        "duration": 13,
        "start_time": "2022-01-12T12:09:20.383Z"
      },
      {
        "duration": 4,
        "start_time": "2022-01-12T12:12:54.171Z"
      },
      {
        "duration": 20,
        "start_time": "2022-01-12T12:13:31.832Z"
      },
      {
        "duration": 5,
        "start_time": "2022-01-12T12:13:33.188Z"
      },
      {
        "duration": 20,
        "start_time": "2022-01-12T12:13:33.898Z"
      },
      {
        "duration": 11,
        "start_time": "2022-01-12T12:13:45.154Z"
      },
      {
        "duration": 12,
        "start_time": "2022-01-12T12:14:07.801Z"
      },
      {
        "duration": 13,
        "start_time": "2022-01-12T12:14:19.903Z"
      },
      {
        "duration": 377,
        "start_time": "2022-01-12T12:14:29.753Z"
      },
      {
        "duration": 15,
        "start_time": "2022-01-12T12:14:30.771Z"
      },
      {
        "duration": 10,
        "start_time": "2022-01-12T12:15:02.671Z"
      },
      {
        "duration": 25,
        "start_time": "2022-01-12T12:15:07.648Z"
      },
      {
        "duration": 10,
        "start_time": "2022-01-12T12:16:28.341Z"
      },
      {
        "duration": 22,
        "start_time": "2022-01-12T12:16:55.738Z"
      },
      {
        "duration": 321,
        "start_time": "2022-01-12T12:17:35.274Z"
      },
      {
        "duration": 33,
        "start_time": "2022-01-12T12:17:44.658Z"
      },
      {
        "duration": 87,
        "start_time": "2022-01-12T12:17:59.012Z"
      },
      {
        "duration": 6,
        "start_time": "2022-01-12T12:18:00.978Z"
      },
      {
        "duration": 20,
        "start_time": "2022-01-12T12:18:01.824Z"
      },
      {
        "duration": 15,
        "start_time": "2022-01-12T12:18:03.602Z"
      },
      {
        "duration": 37,
        "start_time": "2022-01-12T12:18:05.396Z"
      },
      {
        "duration": 24,
        "start_time": "2022-01-12T12:18:07.434Z"
      },
      {
        "duration": 9,
        "start_time": "2022-01-12T12:18:10.204Z"
      },
      {
        "duration": 11,
        "start_time": "2022-01-12T12:18:11.193Z"
      },
      {
        "duration": 22,
        "start_time": "2022-01-12T12:18:12.800Z"
      },
      {
        "duration": 10,
        "start_time": "2022-01-12T12:18:15.393Z"
      },
      {
        "duration": 11,
        "start_time": "2022-01-12T12:18:16.900Z"
      },
      {
        "duration": 3,
        "start_time": "2022-01-12T12:18:17.833Z"
      },
      {
        "duration": 11,
        "start_time": "2022-01-12T12:18:20.990Z"
      },
      {
        "duration": 20,
        "start_time": "2022-01-12T12:18:22.929Z"
      },
      {
        "duration": 11415,
        "start_time": "2022-01-12T12:18:25.365Z"
      },
      {
        "duration": -977,
        "start_time": "2022-01-12T12:18:37.762Z"
      },
      {
        "duration": -979,
        "start_time": "2022-01-12T12:18:37.765Z"
      },
      {
        "duration": 1636,
        "start_time": "2022-01-12T12:18:53.992Z"
      },
      {
        "duration": 5,
        "start_time": "2022-01-12T12:18:55.631Z"
      },
      {
        "duration": 31,
        "start_time": "2022-01-12T12:18:55.639Z"
      },
      {
        "duration": 17,
        "start_time": "2022-01-12T12:18:55.674Z"
      },
      {
        "duration": 35,
        "start_time": "2022-01-12T12:18:55.693Z"
      },
      {
        "duration": 56,
        "start_time": "2022-01-12T12:18:55.730Z"
      },
      {
        "duration": 10,
        "start_time": "2022-01-12T12:18:55.788Z"
      },
      {
        "duration": 16,
        "start_time": "2022-01-12T12:18:55.802Z"
      },
      {
        "duration": 51,
        "start_time": "2022-01-12T12:18:55.822Z"
      },
      {
        "duration": 11,
        "start_time": "2022-01-12T12:18:55.876Z"
      },
      {
        "duration": 13,
        "start_time": "2022-01-12T12:18:55.890Z"
      },
      {
        "duration": 9,
        "start_time": "2022-01-12T12:18:55.905Z"
      },
      {
        "duration": 14,
        "start_time": "2022-01-12T12:18:55.916Z"
      },
      {
        "duration": 55,
        "start_time": "2022-01-12T12:18:55.932Z"
      },
      {
        "duration": 1830,
        "start_time": "2022-01-12T12:19:28.624Z"
      },
      {
        "duration": 5,
        "start_time": "2022-01-12T12:19:30.457Z"
      },
      {
        "duration": 42,
        "start_time": "2022-01-12T12:19:30.466Z"
      },
      {
        "duration": 22,
        "start_time": "2022-01-12T12:19:30.510Z"
      },
      {
        "duration": 53,
        "start_time": "2022-01-12T12:19:30.535Z"
      },
      {
        "duration": 26,
        "start_time": "2022-01-12T12:19:30.590Z"
      },
      {
        "duration": 8,
        "start_time": "2022-01-12T12:19:30.621Z"
      },
      {
        "duration": 21,
        "start_time": "2022-01-12T12:19:30.665Z"
      },
      {
        "duration": 30,
        "start_time": "2022-01-12T12:19:30.689Z"
      },
      {
        "duration": 15,
        "start_time": "2022-01-12T12:19:30.721Z"
      },
      {
        "duration": 36,
        "start_time": "2022-01-12T12:19:30.738Z"
      },
      {
        "duration": 14,
        "start_time": "2022-01-12T12:19:30.777Z"
      },
      {
        "duration": 31,
        "start_time": "2022-01-12T12:19:30.794Z"
      },
      {
        "duration": 23,
        "start_time": "2022-01-12T12:19:30.828Z"
      },
      {
        "duration": 7649,
        "start_time": "2022-01-12T12:19:30.854Z"
      },
      {
        "duration": -979,
        "start_time": "2022-01-12T12:19:39.489Z"
      },
      {
        "duration": -987,
        "start_time": "2022-01-12T12:19:39.499Z"
      },
      {
        "duration": -991,
        "start_time": "2022-01-12T12:19:39.504Z"
      },
      {
        "duration": -1067,
        "start_time": "2022-01-12T12:19:39.582Z"
      },
      {
        "duration": -1189,
        "start_time": "2022-01-12T12:19:39.706Z"
      },
      {
        "duration": -1190,
        "start_time": "2022-01-12T12:19:39.708Z"
      },
      {
        "duration": -1190,
        "start_time": "2022-01-12T12:19:39.710Z"
      },
      {
        "duration": -1190,
        "start_time": "2022-01-12T12:19:39.712Z"
      },
      {
        "duration": -1191,
        "start_time": "2022-01-12T12:19:39.714Z"
      },
      {
        "duration": -1191,
        "start_time": "2022-01-12T12:19:39.716Z"
      },
      {
        "duration": -1192,
        "start_time": "2022-01-12T12:19:39.719Z"
      },
      {
        "duration": -1228,
        "start_time": "2022-01-12T12:19:39.756Z"
      },
      {
        "duration": -1228,
        "start_time": "2022-01-12T12:19:39.758Z"
      },
      {
        "duration": -1230,
        "start_time": "2022-01-12T12:19:39.761Z"
      },
      {
        "duration": -1231,
        "start_time": "2022-01-12T12:19:39.763Z"
      },
      {
        "duration": -1231,
        "start_time": "2022-01-12T12:19:39.765Z"
      },
      {
        "duration": -1231,
        "start_time": "2022-01-12T12:19:39.767Z"
      },
      {
        "duration": -1232,
        "start_time": "2022-01-12T12:19:39.769Z"
      },
      {
        "duration": -1233,
        "start_time": "2022-01-12T12:19:39.771Z"
      },
      {
        "duration": -1238,
        "start_time": "2022-01-12T12:19:39.778Z"
      },
      {
        "duration": -1240,
        "start_time": "2022-01-12T12:19:39.781Z"
      },
      {
        "duration": -1501,
        "start_time": "2022-01-12T12:19:40.044Z"
      },
      {
        "duration": -1502,
        "start_time": "2022-01-12T12:19:40.047Z"
      },
      {
        "duration": -1503,
        "start_time": "2022-01-12T12:19:40.049Z"
      },
      {
        "duration": -1504,
        "start_time": "2022-01-12T12:19:40.051Z"
      },
      {
        "duration": -1504,
        "start_time": "2022-01-12T12:19:40.053Z"
      },
      {
        "duration": -1493,
        "start_time": "2022-01-12T12:19:40.055Z"
      },
      {
        "duration": -1499,
        "start_time": "2022-01-12T12:19:40.062Z"
      },
      {
        "duration": -1500,
        "start_time": "2022-01-12T12:19:40.064Z"
      },
      {
        "duration": -1500,
        "start_time": "2022-01-12T12:19:40.066Z"
      },
      {
        "duration": -1501,
        "start_time": "2022-01-12T12:19:40.068Z"
      },
      {
        "duration": -1502,
        "start_time": "2022-01-12T12:19:40.071Z"
      },
      {
        "duration": -1502,
        "start_time": "2022-01-12T12:19:40.073Z"
      },
      {
        "duration": -1586,
        "start_time": "2022-01-12T12:19:40.164Z"
      },
      {
        "duration": -1655,
        "start_time": "2022-01-12T12:19:40.235Z"
      },
      {
        "duration": -1657,
        "start_time": "2022-01-12T12:19:40.238Z"
      },
      {
        "duration": -1658,
        "start_time": "2022-01-12T12:19:40.240Z"
      },
      {
        "duration": -1724,
        "start_time": "2022-01-12T12:19:40.308Z"
      },
      {
        "duration": -1725,
        "start_time": "2022-01-12T12:19:40.310Z"
      },
      {
        "duration": -1726,
        "start_time": "2022-01-12T12:19:40.312Z"
      },
      {
        "duration": -1728,
        "start_time": "2022-01-12T12:19:40.315Z"
      },
      {
        "duration": -1775,
        "start_time": "2022-01-12T12:19:40.364Z"
      },
      {
        "duration": -1776,
        "start_time": "2022-01-12T12:19:40.366Z"
      },
      {
        "duration": -1778,
        "start_time": "2022-01-12T12:19:40.369Z"
      },
      {
        "duration": -1778,
        "start_time": "2022-01-12T12:19:40.371Z"
      },
      {
        "duration": -1779,
        "start_time": "2022-01-12T12:19:40.373Z"
      },
      {
        "duration": -1918,
        "start_time": "2022-01-12T12:19:40.513Z"
      },
      {
        "duration": -1920,
        "start_time": "2022-01-12T12:19:40.516Z"
      },
      {
        "duration": -1979,
        "start_time": "2022-01-12T12:19:40.577Z"
      },
      {
        "duration": -1997,
        "start_time": "2022-01-12T12:19:40.596Z"
      },
      {
        "duration": -2005,
        "start_time": "2022-01-12T12:19:40.605Z"
      },
      {
        "duration": -2009,
        "start_time": "2022-01-12T12:19:40.611Z"
      },
      {
        "duration": -2014,
        "start_time": "2022-01-12T12:19:40.617Z"
      },
      {
        "duration": -2018,
        "start_time": "2022-01-12T12:19:40.622Z"
      },
      {
        "duration": -2022,
        "start_time": "2022-01-12T12:19:40.627Z"
      },
      {
        "duration": -1991,
        "start_time": "2022-01-12T12:19:40.655Z"
      },
      {
        "duration": -1992,
        "start_time": "2022-01-12T12:19:40.658Z"
      },
      {
        "duration": -1993,
        "start_time": "2022-01-12T12:19:40.660Z"
      },
      {
        "duration": -1994,
        "start_time": "2022-01-12T12:19:40.662Z"
      },
      {
        "duration": -1994,
        "start_time": "2022-01-12T12:19:40.664Z"
      },
      {
        "duration": -1995,
        "start_time": "2022-01-12T12:19:40.666Z"
      },
      {
        "duration": -2126,
        "start_time": "2022-01-12T12:19:40.798Z"
      },
      {
        "duration": -2131,
        "start_time": "2022-01-12T12:19:40.805Z"
      },
      {
        "duration": -2132,
        "start_time": "2022-01-12T12:19:40.807Z"
      },
      {
        "duration": -2133,
        "start_time": "2022-01-12T12:19:40.809Z"
      },
      {
        "duration": -2133,
        "start_time": "2022-01-12T12:19:40.811Z"
      },
      {
        "duration": -2135,
        "start_time": "2022-01-12T12:19:40.814Z"
      },
      {
        "duration": -2256,
        "start_time": "2022-01-12T12:19:40.936Z"
      },
      {
        "duration": -2268,
        "start_time": "2022-01-12T12:19:40.950Z"
      },
      {
        "duration": 398,
        "start_time": "2022-01-12T12:20:41.761Z"
      },
      {
        "duration": 8238,
        "start_time": "2022-01-12T12:21:19.562Z"
      },
      {
        "duration": 15,
        "start_time": "2022-01-12T12:21:37.635Z"
      },
      {
        "duration": 18,
        "start_time": "2022-01-12T12:22:04.073Z"
      },
      {
        "duration": 18,
        "start_time": "2022-01-12T12:22:06.845Z"
      },
      {
        "duration": 6,
        "start_time": "2022-01-12T12:23:05.640Z"
      },
      {
        "duration": 22,
        "start_time": "2022-01-12T12:23:09.560Z"
      },
      {
        "duration": 9,
        "start_time": "2022-01-12T12:23:17.628Z"
      },
      {
        "duration": 7,
        "start_time": "2022-01-12T12:23:21.145Z"
      },
      {
        "duration": 7,
        "start_time": "2022-01-12T12:23:38.416Z"
      },
      {
        "duration": 5,
        "start_time": "2022-01-12T12:23:42.501Z"
      },
      {
        "duration": 14,
        "start_time": "2022-01-12T12:23:45.964Z"
      },
      {
        "duration": 53,
        "start_time": "2022-01-12T12:23:48.943Z"
      },
      {
        "duration": 9,
        "start_time": "2022-01-12T12:23:52.146Z"
      },
      {
        "duration": 12,
        "start_time": "2022-01-12T12:23:57.412Z"
      },
      {
        "duration": 17,
        "start_time": "2022-01-12T12:24:01.262Z"
      },
      {
        "duration": 18,
        "start_time": "2022-01-12T12:24:06.064Z"
      },
      {
        "duration": 22,
        "start_time": "2022-01-12T12:24:08.385Z"
      },
      {
        "duration": 12,
        "start_time": "2022-01-12T12:24:10.508Z"
      },
      {
        "duration": 11,
        "start_time": "2022-01-12T12:24:12.749Z"
      },
      {
        "duration": 32,
        "start_time": "2022-01-12T12:24:16.059Z"
      },
      {
        "duration": 11,
        "start_time": "2022-01-12T12:24:18.023Z"
      },
      {
        "duration": 4,
        "start_time": "2022-01-12T12:24:20.979Z"
      },
      {
        "duration": 34,
        "start_time": "2022-01-12T12:24:25.147Z"
      },
      {
        "duration": 30,
        "start_time": "2022-01-12T12:24:28.440Z"
      },
      {
        "duration": 25,
        "start_time": "2022-01-12T12:24:31.014Z"
      },
      {
        "duration": 6,
        "start_time": "2022-01-12T12:24:34.946Z"
      },
      {
        "duration": 5,
        "start_time": "2022-01-12T12:24:37.296Z"
      },
      {
        "duration": 6,
        "start_time": "2022-01-12T12:24:39.815Z"
      },
      {
        "duration": 13,
        "start_time": "2022-01-12T12:24:42.745Z"
      },
      {
        "duration": 10,
        "start_time": "2022-01-12T12:24:45.101Z"
      },
      {
        "duration": 65,
        "start_time": "2022-01-12T12:24:48.034Z"
      },
      {
        "duration": 7,
        "start_time": "2022-01-12T12:24:51.516Z"
      },
      {
        "duration": 6,
        "start_time": "2022-01-12T12:24:54.108Z"
      },
      {
        "duration": 6,
        "start_time": "2022-01-12T12:24:56.214Z"
      },
      {
        "duration": 7,
        "start_time": "2022-01-12T12:24:57.993Z"
      },
      {
        "duration": 13,
        "start_time": "2022-01-12T12:25:00.910Z"
      },
      {
        "duration": 23,
        "start_time": "2022-01-12T12:25:03.149Z"
      },
      {
        "duration": 6,
        "start_time": "2022-01-12T12:25:06.079Z"
      },
      {
        "duration": 11,
        "start_time": "2022-01-12T12:25:08.083Z"
      },
      {
        "duration": 10,
        "start_time": "2022-01-12T12:25:12.933Z"
      },
      {
        "duration": 9,
        "start_time": "2022-01-12T12:25:15.087Z"
      },
      {
        "duration": 22,
        "start_time": "2022-01-12T12:25:18.422Z"
      },
      {
        "duration": 6,
        "start_time": "2022-01-12T12:25:21.227Z"
      },
      {
        "duration": 13,
        "start_time": "2022-01-12T12:25:26.124Z"
      },
      {
        "duration": 7,
        "start_time": "2022-01-12T12:25:28.779Z"
      },
      {
        "duration": 4,
        "start_time": "2022-01-12T12:25:30.909Z"
      },
      {
        "duration": 4,
        "start_time": "2022-01-12T12:25:32.851Z"
      },
      {
        "duration": 3,
        "start_time": "2022-01-12T12:25:33.940Z"
      },
      {
        "duration": 4,
        "start_time": "2022-01-12T12:25:35.080Z"
      },
      {
        "duration": 6,
        "start_time": "2022-01-12T12:25:36.726Z"
      },
      {
        "duration": 23,
        "start_time": "2022-01-12T12:25:39.128Z"
      },
      {
        "duration": 12,
        "start_time": "2022-01-12T12:25:43.696Z"
      },
      {
        "duration": 38,
        "start_time": "2022-01-12T12:25:45.850Z"
      },
      {
        "duration": 19,
        "start_time": "2022-01-12T12:25:48.380Z"
      },
      {
        "duration": 30,
        "start_time": "2022-01-12T12:25:57.393Z"
      },
      {
        "duration": 10,
        "start_time": "2022-01-12T12:26:16.446Z"
      },
      {
        "duration": 9,
        "start_time": "2022-01-12T12:30:51.093Z"
      },
      {
        "duration": 369,
        "start_time": "2022-01-12T12:31:16.582Z"
      },
      {
        "duration": 12,
        "start_time": "2022-01-12T12:31:26.230Z"
      },
      {
        "duration": 9,
        "start_time": "2022-01-12T12:31:59.118Z"
      },
      {
        "duration": 15,
        "start_time": "2022-01-12T12:32:47.239Z"
      },
      {
        "duration": 31,
        "start_time": "2022-01-12T12:33:15.763Z"
      },
      {
        "duration": 13,
        "start_time": "2022-01-12T12:33:27.693Z"
      },
      {
        "duration": 12,
        "start_time": "2022-01-12T12:33:39.137Z"
      },
      {
        "duration": 11,
        "start_time": "2022-01-12T12:34:33.431Z"
      },
      {
        "duration": 4,
        "start_time": "2022-01-12T12:42:10.920Z"
      },
      {
        "duration": 16,
        "start_time": "2022-01-12T12:42:49.330Z"
      },
      {
        "duration": 10,
        "start_time": "2022-01-12T12:43:16.886Z"
      },
      {
        "duration": 5,
        "start_time": "2022-01-12T12:44:29.630Z"
      },
      {
        "duration": 10,
        "start_time": "2022-01-12T12:44:31.551Z"
      },
      {
        "duration": 16,
        "start_time": "2022-01-12T12:44:40.449Z"
      },
      {
        "duration": 10,
        "start_time": "2022-01-12T12:44:42.251Z"
      },
      {
        "duration": 3,
        "start_time": "2022-01-12T12:44:54.525Z"
      },
      {
        "duration": 11,
        "start_time": "2022-01-12T12:45:06.164Z"
      },
      {
        "duration": 20,
        "start_time": "2022-01-12T12:45:06.865Z"
      },
      {
        "duration": 10,
        "start_time": "2022-01-12T12:45:07.322Z"
      },
      {
        "duration": 22,
        "start_time": "2022-01-12T12:45:31.794Z"
      },
      {
        "duration": 9,
        "start_time": "2022-01-12T13:41:22.072Z"
      },
      {
        "duration": 6310,
        "start_time": "2022-01-12T13:41:33.191Z"
      },
      {
        "duration": 326,
        "start_time": "2022-01-12T13:41:47.127Z"
      },
      {
        "duration": 473,
        "start_time": "2022-01-12T13:42:09.569Z"
      },
      {
        "duration": 333,
        "start_time": "2022-01-12T13:42:35.117Z"
      },
      {
        "duration": 302,
        "start_time": "2022-01-12T13:43:53.523Z"
      },
      {
        "duration": 435,
        "start_time": "2022-01-12T13:44:08.397Z"
      },
      {
        "duration": 348,
        "start_time": "2022-01-12T13:44:29.756Z"
      },
      {
        "duration": 2370,
        "start_time": "2022-01-12T13:44:51.965Z"
      },
      {
        "duration": 615,
        "start_time": "2022-01-12T13:45:51.802Z"
      },
      {
        "duration": 371,
        "start_time": "2022-01-12T13:45:58.857Z"
      },
      {
        "duration": 772,
        "start_time": "2022-01-12T13:46:04.827Z"
      },
      {
        "duration": 8,
        "start_time": "2022-01-12T13:46:38.535Z"
      },
      {
        "duration": 5,
        "start_time": "2022-01-12T13:47:52.101Z"
      },
      {
        "duration": 5,
        "start_time": "2022-01-12T13:48:01.972Z"
      },
      {
        "duration": 5,
        "start_time": "2022-01-12T13:48:24.761Z"
      },
      {
        "duration": 1677,
        "start_time": "2022-01-12T13:59:16.911Z"
      },
      {
        "duration": 6,
        "start_time": "2022-01-12T13:59:18.592Z"
      },
      {
        "duration": 23,
        "start_time": "2022-01-12T13:59:18.602Z"
      },
      {
        "duration": 45,
        "start_time": "2022-01-12T13:59:18.628Z"
      },
      {
        "duration": 41,
        "start_time": "2022-01-12T13:59:18.676Z"
      },
      {
        "duration": 25,
        "start_time": "2022-01-12T13:59:18.720Z"
      },
      {
        "duration": 21,
        "start_time": "2022-01-12T13:59:18.762Z"
      },
      {
        "duration": 30,
        "start_time": "2022-01-12T13:59:18.787Z"
      },
      {
        "duration": 16,
        "start_time": "2022-01-12T13:59:18.820Z"
      },
      {
        "duration": 40,
        "start_time": "2022-01-12T13:59:18.838Z"
      },
      {
        "duration": 42,
        "start_time": "2022-01-12T13:59:18.880Z"
      },
      {
        "duration": 10,
        "start_time": "2022-01-12T13:59:18.924Z"
      },
      {
        "duration": 43,
        "start_time": "2022-01-12T13:59:18.936Z"
      },
      {
        "duration": 22,
        "start_time": "2022-01-12T13:59:18.981Z"
      },
      {
        "duration": 27,
        "start_time": "2022-01-12T13:59:19.005Z"
      },
      {
        "duration": 27,
        "start_time": "2022-01-12T13:59:19.035Z"
      },
      {
        "duration": 28,
        "start_time": "2022-01-12T13:59:19.065Z"
      },
      {
        "duration": 15,
        "start_time": "2022-01-12T13:59:19.095Z"
      },
      {
        "duration": 25,
        "start_time": "2022-01-12T13:59:19.112Z"
      },
      {
        "duration": 31,
        "start_time": "2022-01-12T13:59:19.139Z"
      },
      {
        "duration": 26,
        "start_time": "2022-01-12T13:59:19.173Z"
      },
      {
        "duration": 14,
        "start_time": "2022-01-12T13:59:19.202Z"
      },
      {
        "duration": 54,
        "start_time": "2022-01-12T13:59:19.223Z"
      },
      {
        "duration": 9,
        "start_time": "2022-01-12T13:59:19.281Z"
      },
      {
        "duration": 23,
        "start_time": "2022-01-12T13:59:19.292Z"
      },
      {
        "duration": 43,
        "start_time": "2022-01-12T13:59:19.318Z"
      },
      {
        "duration": 28,
        "start_time": "2022-01-12T13:59:19.363Z"
      },
      {
        "duration": 42,
        "start_time": "2022-01-12T13:59:19.394Z"
      },
      {
        "duration": 47,
        "start_time": "2022-01-12T13:59:19.439Z"
      },
      {
        "duration": 48,
        "start_time": "2022-01-12T13:59:19.488Z"
      },
      {
        "duration": 10,
        "start_time": "2022-01-12T13:59:19.538Z"
      },
      {
        "duration": 32,
        "start_time": "2022-01-12T13:59:19.550Z"
      },
      {
        "duration": 32,
        "start_time": "2022-01-12T13:59:19.584Z"
      },
      {
        "duration": 27,
        "start_time": "2022-01-12T13:59:19.618Z"
      },
      {
        "duration": 56,
        "start_time": "2022-01-12T13:59:19.648Z"
      },
      {
        "duration": 9,
        "start_time": "2022-01-12T13:59:19.706Z"
      },
      {
        "duration": 32,
        "start_time": "2022-01-12T13:59:19.717Z"
      },
      {
        "duration": 50,
        "start_time": "2022-01-12T13:59:19.751Z"
      },
      {
        "duration": 49,
        "start_time": "2022-01-12T13:59:19.803Z"
      },
      {
        "duration": 31,
        "start_time": "2022-01-12T13:59:19.855Z"
      },
      {
        "duration": 8,
        "start_time": "2022-01-12T13:59:19.889Z"
      },
      {
        "duration": 42,
        "start_time": "2022-01-12T13:59:19.899Z"
      },
      {
        "duration": 25,
        "start_time": "2022-01-12T13:59:19.944Z"
      },
      {
        "duration": 34,
        "start_time": "2022-01-12T13:59:19.972Z"
      },
      {
        "duration": 23,
        "start_time": "2022-01-12T13:59:20.009Z"
      },
      {
        "duration": 57,
        "start_time": "2022-01-12T13:59:20.034Z"
      },
      {
        "duration": 4,
        "start_time": "2022-01-12T13:59:20.094Z"
      },
      {
        "duration": 18,
        "start_time": "2022-01-12T13:59:20.101Z"
      },
      {
        "duration": 28,
        "start_time": "2022-01-12T13:59:20.122Z"
      },
      {
        "duration": 26,
        "start_time": "2022-01-12T13:59:20.153Z"
      },
      {
        "duration": 21,
        "start_time": "2022-01-12T13:59:20.181Z"
      },
      {
        "duration": 26,
        "start_time": "2022-01-12T13:59:20.205Z"
      },
      {
        "duration": 44,
        "start_time": "2022-01-12T13:59:20.234Z"
      },
      {
        "duration": 21,
        "start_time": "2022-01-12T13:59:20.281Z"
      },
      {
        "duration": 4,
        "start_time": "2022-01-12T13:59:20.304Z"
      },
      {
        "duration": 23,
        "start_time": "2022-01-12T13:59:20.310Z"
      },
      {
        "duration": 13,
        "start_time": "2022-01-12T13:59:20.336Z"
      },
      {
        "duration": 28,
        "start_time": "2022-01-12T13:59:20.352Z"
      },
      {
        "duration": 25,
        "start_time": "2022-01-12T13:59:20.383Z"
      },
      {
        "duration": 33,
        "start_time": "2022-01-12T13:59:20.411Z"
      },
      {
        "duration": 6,
        "start_time": "2022-01-12T13:59:20.446Z"
      },
      {
        "duration": 26,
        "start_time": "2022-01-12T13:59:20.456Z"
      },
      {
        "duration": 27,
        "start_time": "2022-01-12T13:59:20.485Z"
      },
      {
        "duration": 26,
        "start_time": "2022-01-12T13:59:20.515Z"
      },
      {
        "duration": 53,
        "start_time": "2022-01-12T13:59:20.543Z"
      },
      {
        "duration": 30,
        "start_time": "2022-01-12T13:59:20.599Z"
      },
      {
        "duration": 45,
        "start_time": "2022-01-12T13:59:20.632Z"
      },
      {
        "duration": 115,
        "start_time": "2022-01-12T13:59:20.685Z"
      },
      {
        "duration": -726,
        "start_time": "2022-01-12T13:59:21.529Z"
      },
      {
        "duration": -730,
        "start_time": "2022-01-12T13:59:21.534Z"
      },
      {
        "duration": -730,
        "start_time": "2022-01-12T13:59:21.536Z"
      },
      {
        "duration": -737,
        "start_time": "2022-01-12T13:59:21.544Z"
      },
      {
        "duration": -740,
        "start_time": "2022-01-12T13:59:21.548Z"
      },
      {
        "duration": -740,
        "start_time": "2022-01-12T13:59:21.550Z"
      },
      {
        "duration": -741,
        "start_time": "2022-01-12T13:59:21.552Z"
      },
      {
        "duration": -743,
        "start_time": "2022-01-12T13:59:21.555Z"
      },
      {
        "duration": -744,
        "start_time": "2022-01-12T13:59:21.557Z"
      },
      {
        "duration": -788,
        "start_time": "2022-01-12T13:59:21.603Z"
      },
      {
        "duration": -791,
        "start_time": "2022-01-12T13:59:21.607Z"
      },
      {
        "duration": -792,
        "start_time": "2022-01-12T13:59:21.610Z"
      },
      {
        "duration": -851,
        "start_time": "2022-01-12T13:59:21.670Z"
      },
      {
        "duration": -854,
        "start_time": "2022-01-12T13:59:21.675Z"
      },
      {
        "duration": -855,
        "start_time": "2022-01-12T13:59:21.677Z"
      },
      {
        "duration": -856,
        "start_time": "2022-01-12T13:59:21.680Z"
      },
      {
        "duration": 2315,
        "start_time": "2022-01-12T16:15:14.376Z"
      },
      {
        "duration": 6,
        "start_time": "2022-01-12T16:15:16.694Z"
      },
      {
        "duration": 21,
        "start_time": "2022-01-12T16:15:16.704Z"
      },
      {
        "duration": 14,
        "start_time": "2022-01-12T16:15:16.728Z"
      },
      {
        "duration": 71,
        "start_time": "2022-01-12T16:15:16.745Z"
      },
      {
        "duration": 25,
        "start_time": "2022-01-12T16:15:16.818Z"
      },
      {
        "duration": 21,
        "start_time": "2022-01-12T16:15:16.845Z"
      },
      {
        "duration": 17,
        "start_time": "2022-01-12T16:15:16.899Z"
      },
      {
        "duration": 18,
        "start_time": "2022-01-12T16:15:16.919Z"
      },
      {
        "duration": 19,
        "start_time": "2022-01-12T16:15:16.939Z"
      },
      {
        "duration": 14,
        "start_time": "2022-01-12T16:15:16.961Z"
      },
      {
        "duration": 4,
        "start_time": "2022-01-12T16:15:17.000Z"
      },
      {
        "duration": 21,
        "start_time": "2022-01-12T16:15:17.006Z"
      },
      {
        "duration": 37,
        "start_time": "2022-01-12T16:15:17.029Z"
      },
      {
        "duration": 24,
        "start_time": "2022-01-12T16:15:17.069Z"
      },
      {
        "duration": 22,
        "start_time": "2022-01-12T16:15:17.096Z"
      },
      {
        "duration": 20,
        "start_time": "2022-01-12T16:15:17.121Z"
      },
      {
        "duration": 22,
        "start_time": "2022-01-12T16:15:17.144Z"
      },
      {
        "duration": 15,
        "start_time": "2022-01-12T16:15:17.169Z"
      },
      {
        "duration": 6,
        "start_time": "2022-01-12T16:15:17.188Z"
      },
      {
        "duration": 4,
        "start_time": "2022-01-12T16:15:17.201Z"
      },
      {
        "duration": 13,
        "start_time": "2022-01-12T16:15:17.207Z"
      },
      {
        "duration": 93,
        "start_time": "2022-01-12T16:15:17.229Z"
      },
      {
        "duration": 8,
        "start_time": "2022-01-12T16:15:17.326Z"
      },
      {
        "duration": 10,
        "start_time": "2022-01-12T16:15:17.337Z"
      },
      {
        "duration": 9,
        "start_time": "2022-01-12T16:15:17.350Z"
      },
      {
        "duration": 4,
        "start_time": "2022-01-12T16:15:17.362Z"
      },
      {
        "duration": 10,
        "start_time": "2022-01-12T16:15:17.401Z"
      },
      {
        "duration": 13,
        "start_time": "2022-01-12T16:15:17.414Z"
      },
      {
        "duration": 32,
        "start_time": "2022-01-12T16:15:17.431Z"
      },
      {
        "duration": 43,
        "start_time": "2022-01-12T16:15:17.466Z"
      },
      {
        "duration": 11,
        "start_time": "2022-01-12T16:15:17.512Z"
      },
      {
        "duration": 6,
        "start_time": "2022-01-12T16:15:17.526Z"
      },
      {
        "duration": 7,
        "start_time": "2022-01-12T16:15:17.534Z"
      },
      {
        "duration": 203,
        "start_time": "2022-01-12T16:15:17.545Z"
      },
      {
        "duration": 10,
        "start_time": "2022-01-12T16:15:17.751Z"
      },
      {
        "duration": 4,
        "start_time": "2022-01-12T16:15:17.765Z"
      },
      {
        "duration": 54,
        "start_time": "2022-01-12T16:15:17.771Z"
      },
      {
        "duration": 26,
        "start_time": "2022-01-12T16:15:17.828Z"
      },
      {
        "duration": 43,
        "start_time": "2022-01-12T16:15:17.857Z"
      },
      {
        "duration": 5,
        "start_time": "2022-01-12T16:15:17.903Z"
      },
      {
        "duration": 30,
        "start_time": "2022-01-12T16:15:17.911Z"
      },
      {
        "duration": 25,
        "start_time": "2022-01-12T16:15:17.945Z"
      },
      {
        "duration": 22,
        "start_time": "2022-01-12T16:15:17.972Z"
      },
      {
        "duration": 27,
        "start_time": "2022-01-12T16:15:17.997Z"
      },
      {
        "duration": 67,
        "start_time": "2022-01-12T16:15:18.026Z"
      },
      {
        "duration": 6,
        "start_time": "2022-01-12T16:15:18.096Z"
      },
      {
        "duration": 29,
        "start_time": "2022-01-12T16:15:18.104Z"
      },
      {
        "duration": 8,
        "start_time": "2022-01-12T16:15:18.136Z"
      },
      {
        "duration": 22,
        "start_time": "2022-01-12T16:15:18.147Z"
      },
      {
        "duration": 35,
        "start_time": "2022-01-12T16:15:18.172Z"
      },
      {
        "duration": 24,
        "start_time": "2022-01-12T16:15:18.210Z"
      },
      {
        "duration": 7,
        "start_time": "2022-01-12T16:15:18.236Z"
      },
      {
        "duration": 18,
        "start_time": "2022-01-12T16:15:18.246Z"
      },
      {
        "duration": 3,
        "start_time": "2022-01-12T16:15:18.266Z"
      },
      {
        "duration": 31,
        "start_time": "2022-01-12T16:15:18.271Z"
      },
      {
        "duration": 5,
        "start_time": "2022-01-12T16:15:18.305Z"
      },
      {
        "duration": 14,
        "start_time": "2022-01-12T16:15:18.313Z"
      },
      {
        "duration": 10,
        "start_time": "2022-01-12T16:15:18.329Z"
      },
      {
        "duration": 73,
        "start_time": "2022-01-12T16:15:18.342Z"
      },
      {
        "duration": 8,
        "start_time": "2022-01-12T16:15:18.417Z"
      },
      {
        "duration": 7,
        "start_time": "2022-01-12T16:15:18.429Z"
      },
      {
        "duration": 16,
        "start_time": "2022-01-12T16:15:18.438Z"
      },
      {
        "duration": 8,
        "start_time": "2022-01-12T16:15:18.457Z"
      },
      {
        "duration": 48,
        "start_time": "2022-01-12T16:15:18.468Z"
      },
      {
        "duration": 21,
        "start_time": "2022-01-12T16:15:18.519Z"
      },
      {
        "duration": 13,
        "start_time": "2022-01-12T16:15:18.543Z"
      },
      {
        "duration": 121,
        "start_time": "2022-01-12T16:15:18.566Z"
      },
      {
        "duration": 255,
        "start_time": "2022-01-12T16:15:18.436Z"
      },
      {
        "duration": 253,
        "start_time": "2022-01-12T16:15:18.440Z"
      },
      {
        "duration": 250,
        "start_time": "2022-01-12T16:15:18.445Z"
      },
      {
        "duration": 248,
        "start_time": "2022-01-12T16:15:18.449Z"
      },
      {
        "duration": 247,
        "start_time": "2022-01-12T16:15:18.452Z"
      },
      {
        "duration": 244,
        "start_time": "2022-01-12T16:15:18.457Z"
      },
      {
        "duration": 243,
        "start_time": "2022-01-12T16:15:18.460Z"
      },
      {
        "duration": 241,
        "start_time": "2022-01-12T16:15:18.464Z"
      },
      {
        "duration": 239,
        "start_time": "2022-01-12T16:15:18.468Z"
      },
      {
        "duration": 227,
        "start_time": "2022-01-12T16:15:18.482Z"
      },
      {
        "duration": 225,
        "start_time": "2022-01-12T16:15:18.486Z"
      },
      {
        "duration": 224,
        "start_time": "2022-01-12T16:15:18.489Z"
      },
      {
        "duration": 223,
        "start_time": "2022-01-12T16:15:18.492Z"
      },
      {
        "duration": 220,
        "start_time": "2022-01-12T16:15:18.497Z"
      },
      {
        "duration": 217,
        "start_time": "2022-01-12T16:15:18.502Z"
      },
      {
        "duration": 216,
        "start_time": "2022-01-12T16:15:18.505Z"
      },
      {
        "duration": 84,
        "start_time": "2022-01-12T16:15:25.056Z"
      },
      {
        "duration": 6,
        "start_time": "2022-01-12T16:15:28.017Z"
      },
      {
        "duration": 29,
        "start_time": "2022-01-12T16:15:29.841Z"
      },
      {
        "duration": 14,
        "start_time": "2022-01-12T16:15:33.484Z"
      },
      {
        "duration": 35,
        "start_time": "2022-01-12T16:15:43.585Z"
      },
      {
        "duration": 26,
        "start_time": "2022-01-12T16:15:48.768Z"
      },
      {
        "duration": 10,
        "start_time": "2022-01-12T16:15:55.806Z"
      },
      {
        "duration": 9,
        "start_time": "2022-01-12T16:15:59.475Z"
      },
      {
        "duration": 10,
        "start_time": "2022-01-12T16:16:12.516Z"
      },
      {
        "duration": 15,
        "start_time": "2022-01-12T16:16:17.497Z"
      },
      {
        "duration": 10,
        "start_time": "2022-01-12T16:16:22.744Z"
      },
      {
        "duration": 10,
        "start_time": "2022-01-12T16:16:34.187Z"
      },
      {
        "duration": 3,
        "start_time": "2022-01-12T16:16:35.647Z"
      },
      {
        "duration": 11,
        "start_time": "2022-01-12T16:17:36.399Z"
      },
      {
        "duration": 6,
        "start_time": "2022-01-12T16:19:24.268Z"
      },
      {
        "duration": 10,
        "start_time": "2022-01-12T16:19:42.895Z"
      },
      {
        "duration": 10,
        "start_time": "2022-01-12T16:20:25.737Z"
      },
      {
        "duration": 10,
        "start_time": "2022-01-12T16:20:30.728Z"
      },
      {
        "duration": 16,
        "start_time": "2022-01-12T16:20:33.017Z"
      },
      {
        "duration": 12,
        "start_time": "2022-01-12T16:20:36.813Z"
      },
      {
        "duration": 6,
        "start_time": "2022-01-12T16:20:39.087Z"
      },
      {
        "duration": 11,
        "start_time": "2022-01-12T16:20:41.189Z"
      },
      {
        "duration": 5,
        "start_time": "2022-01-12T16:20:41.784Z"
      },
      {
        "duration": 9,
        "start_time": "2022-01-12T16:20:47.373Z"
      },
      {
        "duration": 6,
        "start_time": "2022-01-12T16:20:54.641Z"
      },
      {
        "duration": 9,
        "start_time": "2022-01-12T16:29:38.936Z"
      },
      {
        "duration": 38,
        "start_time": "2022-01-12T16:29:39.682Z"
      },
      {
        "duration": 8,
        "start_time": "2022-01-12T16:29:47.842Z"
      },
      {
        "duration": 10,
        "start_time": "2022-01-12T16:29:48.647Z"
      },
      {
        "duration": 10,
        "start_time": "2022-01-12T16:29:50.130Z"
      },
      {
        "duration": 3,
        "start_time": "2022-01-12T16:30:03.839Z"
      },
      {
        "duration": 3,
        "start_time": "2022-01-12T16:30:04.529Z"
      },
      {
        "duration": 10,
        "start_time": "2022-01-12T16:30:05.938Z"
      },
      {
        "duration": 19,
        "start_time": "2022-01-12T16:30:09.580Z"
      },
      {
        "duration": 9,
        "start_time": "2022-01-12T16:30:09.601Z"
      },
      {
        "duration": 10,
        "start_time": "2022-01-12T16:30:14.679Z"
      },
      {
        "duration": 3,
        "start_time": "2022-01-12T16:30:18.340Z"
      },
      {
        "duration": 3,
        "start_time": "2022-01-12T16:30:19.179Z"
      },
      {
        "duration": 26,
        "start_time": "2022-01-12T16:30:31.872Z"
      },
      {
        "duration": 11,
        "start_time": "2022-01-12T16:30:32.876Z"
      },
      {
        "duration": 3,
        "start_time": "2022-01-12T16:30:52.715Z"
      },
      {
        "duration": 27,
        "start_time": "2022-01-12T16:30:53.694Z"
      },
      {
        "duration": 28,
        "start_time": "2022-01-12T16:31:01.605Z"
      },
      {
        "duration": 24,
        "start_time": "2022-01-12T16:31:09.251Z"
      },
      {
        "duration": 5,
        "start_time": "2022-01-12T16:31:38.854Z"
      },
      {
        "duration": 4,
        "start_time": "2022-01-12T16:31:40.808Z"
      },
      {
        "duration": 6,
        "start_time": "2022-01-12T16:31:44.198Z"
      },
      {
        "duration": 13,
        "start_time": "2022-01-12T16:31:45.212Z"
      },
      {
        "duration": 10,
        "start_time": "2022-01-12T16:31:48.000Z"
      },
      {
        "duration": 50,
        "start_time": "2022-01-12T16:31:54.513Z"
      },
      {
        "duration": 6,
        "start_time": "2022-01-12T16:31:55.442Z"
      },
      {
        "duration": 7,
        "start_time": "2022-01-12T16:31:57.730Z"
      },
      {
        "duration": 6,
        "start_time": "2022-01-12T16:31:58.417Z"
      },
      {
        "duration": 7,
        "start_time": "2022-01-12T16:31:59.111Z"
      },
      {
        "duration": 11,
        "start_time": "2022-01-12T16:32:04.236Z"
      },
      {
        "duration": 23,
        "start_time": "2022-01-12T16:32:11.248Z"
      },
      {
        "duration": 6,
        "start_time": "2022-01-12T16:32:12.067Z"
      },
      {
        "duration": 12,
        "start_time": "2022-01-12T16:32:13.156Z"
      },
      {
        "duration": 3,
        "start_time": "2022-01-12T16:33:36.055Z"
      },
      {
        "duration": 3,
        "start_time": "2022-01-12T16:33:39.790Z"
      },
      {
        "duration": 9,
        "start_time": "2022-01-12T16:34:34.693Z"
      },
      {
        "duration": 10,
        "start_time": "2022-01-12T16:34:37.477Z"
      },
      {
        "duration": 22,
        "start_time": "2022-01-12T16:34:42.787Z"
      },
      {
        "duration": 8,
        "start_time": "2022-01-12T16:35:00.406Z"
      },
      {
        "duration": 6,
        "start_time": "2022-01-12T16:35:10.884Z"
      },
      {
        "duration": 7,
        "start_time": "2022-01-12T16:35:30.539Z"
      },
      {
        "duration": 15,
        "start_time": "2022-01-12T16:35:45.827Z"
      },
      {
        "duration": 14,
        "start_time": "2022-01-12T16:35:53.731Z"
      },
      {
        "duration": 7,
        "start_time": "2022-01-12T16:35:57.497Z"
      },
      {
        "duration": 3,
        "start_time": "2022-01-12T16:36:18.194Z"
      },
      {
        "duration": 5,
        "start_time": "2022-01-12T16:36:32.207Z"
      },
      {
        "duration": 524,
        "start_time": "2022-01-12T16:37:50.036Z"
      },
      {
        "duration": 6,
        "start_time": "2022-01-12T16:39:16.295Z"
      },
      {
        "duration": 167,
        "start_time": "2022-01-12T16:39:54.926Z"
      },
      {
        "duration": 5,
        "start_time": "2022-01-12T16:40:02.450Z"
      },
      {
        "duration": 6,
        "start_time": "2022-01-12T16:40:18.360Z"
      },
      {
        "duration": 1856,
        "start_time": "2022-01-12T16:40:28.452Z"
      },
      {
        "duration": 5,
        "start_time": "2022-01-12T16:41:21.167Z"
      },
      {
        "duration": 20162,
        "start_time": "2022-01-12T16:41:25.064Z"
      },
      {
        "duration": 12,
        "start_time": "2022-01-12T16:41:45.229Z"
      },
      {
        "duration": 5,
        "start_time": "2022-01-12T16:42:33.234Z"
      },
      {
        "duration": 6,
        "start_time": "2022-01-12T16:42:34.949Z"
      },
      {
        "duration": 20034,
        "start_time": "2022-01-12T16:42:37.724Z"
      },
      {
        "duration": 11,
        "start_time": "2022-01-12T16:42:57.760Z"
      },
      {
        "duration": 6,
        "start_time": "2022-01-12T16:45:33.689Z"
      },
      {
        "duration": 4,
        "start_time": "2022-01-12T16:46:04.284Z"
      },
      {
        "duration": 1850,
        "start_time": "2022-01-12T16:46:09.955Z"
      },
      {
        "duration": 5,
        "start_time": "2022-01-12T16:46:25.062Z"
      },
      {
        "duration": 1813,
        "start_time": "2022-01-12T16:46:31.181Z"
      },
      {
        "duration": 448,
        "start_time": "2022-01-12T16:47:35.297Z"
      },
      {
        "duration": 5,
        "start_time": "2022-01-12T16:47:40.359Z"
      },
      {
        "duration": 7,
        "start_time": "2022-01-12T16:47:41.831Z"
      },
      {
        "duration": 126,
        "start_time": "2022-01-12T16:48:05.469Z"
      },
      {
        "duration": 6,
        "start_time": "2022-01-12T16:48:15.632Z"
      },
      {
        "duration": 410,
        "start_time": "2022-01-12T16:48:29.144Z"
      },
      {
        "duration": 7,
        "start_time": "2022-01-12T16:48:34.637Z"
      },
      {
        "duration": 5,
        "start_time": "2022-01-12T16:49:19.813Z"
      },
      {
        "duration": 19915,
        "start_time": "2022-01-12T16:49:30.020Z"
      },
      {
        "duration": 7,
        "start_time": "2022-01-12T16:52:55.734Z"
      },
      {
        "duration": 5,
        "start_time": "2022-01-12T16:53:11.293Z"
      },
      {
        "duration": 5,
        "start_time": "2022-01-12T16:54:18.354Z"
      },
      {
        "duration": 20002,
        "start_time": "2022-01-12T16:54:27.079Z"
      },
      {
        "duration": 12,
        "start_time": "2022-01-12T16:54:47.123Z"
      },
      {
        "duration": 18,
        "start_time": "2022-01-12T18:28:20.141Z"
      },
      {
        "duration": 382,
        "start_time": "2022-01-12T18:29:00.433Z"
      },
      {
        "duration": 11,
        "start_time": "2022-01-12T18:29:08.322Z"
      },
      {
        "duration": 11,
        "start_time": "2022-01-12T18:29:30.319Z"
      },
      {
        "duration": 18,
        "start_time": "2022-01-12T18:33:19.508Z"
      },
      {
        "duration": 24,
        "start_time": "2022-01-12T18:33:46.564Z"
      },
      {
        "duration": 406,
        "start_time": "2022-01-12T18:34:15.625Z"
      },
      {
        "duration": 120,
        "start_time": "2022-01-12T18:53:37.981Z"
      },
      {
        "duration": 6,
        "start_time": "2022-01-12T18:53:59.187Z"
      },
      {
        "duration": 546,
        "start_time": "2022-01-12T18:54:09.549Z"
      },
      {
        "duration": 5,
        "start_time": "2022-01-12T18:54:28.714Z"
      },
      {
        "duration": 1955,
        "start_time": "2022-01-12T18:54:31.773Z"
      },
      {
        "duration": 2047,
        "start_time": "2022-01-12T18:54:53.973Z"
      },
      {
        "duration": 6,
        "start_time": "2022-01-12T18:55:01.234Z"
      },
      {
        "duration": 1882,
        "start_time": "2022-01-12T18:55:04.197Z"
      },
      {
        "duration": 336,
        "start_time": "2022-01-12T18:55:05.745Z"
      },
      {
        "duration": 1709,
        "start_time": "2022-01-12T18:55:22.828Z"
      },
      {
        "duration": 5,
        "start_time": "2022-01-12T18:55:24.539Z"
      },
      {
        "duration": 22,
        "start_time": "2022-01-12T18:55:24.547Z"
      },
      {
        "duration": 40,
        "start_time": "2022-01-12T18:55:24.572Z"
      },
      {
        "duration": 35,
        "start_time": "2022-01-12T18:55:24.614Z"
      },
      {
        "duration": 50,
        "start_time": "2022-01-12T18:55:24.651Z"
      },
      {
        "duration": 8,
        "start_time": "2022-01-12T18:55:24.704Z"
      },
      {
        "duration": 18,
        "start_time": "2022-01-12T18:55:24.716Z"
      },
      {
        "duration": 14,
        "start_time": "2022-01-12T18:55:24.737Z"
      },
      {
        "duration": 9,
        "start_time": "2022-01-12T18:55:24.753Z"
      },
      {
        "duration": 45,
        "start_time": "2022-01-12T18:55:24.764Z"
      },
      {
        "duration": 4,
        "start_time": "2022-01-12T18:55:24.811Z"
      },
      {
        "duration": 12,
        "start_time": "2022-01-12T18:55:24.817Z"
      },
      {
        "duration": 9,
        "start_time": "2022-01-12T18:55:24.831Z"
      },
      {
        "duration": 9,
        "start_time": "2022-01-12T18:55:24.843Z"
      },
      {
        "duration": 59,
        "start_time": "2022-01-12T18:55:24.854Z"
      },
      {
        "duration": 12,
        "start_time": "2022-01-12T18:55:24.916Z"
      },
      {
        "duration": 11,
        "start_time": "2022-01-12T18:55:24.930Z"
      },
      {
        "duration": 12,
        "start_time": "2022-01-12T18:55:24.943Z"
      },
      {
        "duration": 42,
        "start_time": "2022-01-12T18:55:24.958Z"
      },
      {
        "duration": 7,
        "start_time": "2022-01-12T18:55:25.003Z"
      },
      {
        "duration": 7,
        "start_time": "2022-01-12T18:55:25.013Z"
      },
      {
        "duration": 3,
        "start_time": "2022-01-12T18:55:25.026Z"
      },
      {
        "duration": 11,
        "start_time": "2022-01-12T18:55:25.033Z"
      },
      {
        "duration": 83,
        "start_time": "2022-01-12T18:55:25.046Z"
      },
      {
        "duration": 10,
        "start_time": "2022-01-12T18:55:25.132Z"
      },
      {
        "duration": 9,
        "start_time": "2022-01-12T18:55:25.145Z"
      },
      {
        "duration": 10,
        "start_time": "2022-01-12T18:55:25.156Z"
      },
      {
        "duration": 3,
        "start_time": "2022-01-12T18:55:25.200Z"
      },
      {
        "duration": 5,
        "start_time": "2022-01-12T18:55:25.206Z"
      },
      {
        "duration": 12,
        "start_time": "2022-01-12T18:55:25.213Z"
      },
      {
        "duration": 21,
        "start_time": "2022-01-12T18:55:25.227Z"
      },
      {
        "duration": 49,
        "start_time": "2022-01-12T18:55:25.251Z"
      },
      {
        "duration": 10,
        "start_time": "2022-01-12T18:55:25.303Z"
      },
      {
        "duration": 5,
        "start_time": "2022-01-12T18:55:25.315Z"
      },
      {
        "duration": 6,
        "start_time": "2022-01-12T18:55:25.323Z"
      },
      {
        "duration": 28,
        "start_time": "2022-01-12T18:55:25.332Z"
      },
      {
        "duration": 50,
        "start_time": "2022-01-12T18:55:25.362Z"
      },
      {
        "duration": 3,
        "start_time": "2022-01-12T18:55:25.415Z"
      },
      {
        "duration": 30,
        "start_time": "2022-01-12T18:55:25.421Z"
      },
      {
        "duration": 63,
        "start_time": "2022-01-12T18:55:25.453Z"
      },
      {
        "duration": 24,
        "start_time": "2022-01-12T18:55:25.518Z"
      },
      {
        "duration": 8,
        "start_time": "2022-01-12T18:55:25.544Z"
      },
      {
        "duration": 10,
        "start_time": "2022-01-12T18:55:25.554Z"
      },
      {
        "duration": 17,
        "start_time": "2022-01-12T18:55:25.566Z"
      },
      {
        "duration": 13,
        "start_time": "2022-01-12T18:55:25.602Z"
      },
      {
        "duration": 15,
        "start_time": "2022-01-12T18:55:25.617Z"
      },
      {
        "duration": 76,
        "start_time": "2022-01-12T18:55:25.634Z"
      },
      {
        "duration": 5,
        "start_time": "2022-01-12T18:55:25.713Z"
      },
      {
        "duration": 21,
        "start_time": "2022-01-12T18:55:25.720Z"
      },
      {
        "duration": 36,
        "start_time": "2022-01-12T18:55:25.744Z"
      },
      {
        "duration": 12,
        "start_time": "2022-01-12T18:55:25.782Z"
      },
      {
        "duration": 17,
        "start_time": "2022-01-12T18:55:25.796Z"
      },
      {
        "duration": 29,
        "start_time": "2022-01-12T18:55:25.815Z"
      },
      {
        "duration": 6,
        "start_time": "2022-01-12T18:55:25.846Z"
      },
      {
        "duration": 24,
        "start_time": "2022-01-12T18:55:25.854Z"
      },
      {
        "duration": 21,
        "start_time": "2022-01-12T18:55:25.880Z"
      },
      {
        "duration": 11,
        "start_time": "2022-01-12T18:55:25.903Z"
      },
      {
        "duration": 5,
        "start_time": "2022-01-12T18:55:25.916Z"
      },
      {
        "duration": 13,
        "start_time": "2022-01-12T18:55:25.923Z"
      },
      {
        "duration": 10,
        "start_time": "2022-01-12T18:55:25.938Z"
      },
      {
        "duration": 55,
        "start_time": "2022-01-12T18:55:25.950Z"
      },
      {
        "duration": 6,
        "start_time": "2022-01-12T18:55:26.008Z"
      },
      {
        "duration": 7,
        "start_time": "2022-01-12T18:55:26.016Z"
      },
      {
        "duration": 8,
        "start_time": "2022-01-12T18:55:26.025Z"
      },
      {
        "duration": 6,
        "start_time": "2022-01-12T18:55:26.035Z"
      },
      {
        "duration": 22,
        "start_time": "2022-01-12T18:55:26.043Z"
      },
      {
        "duration": 14,
        "start_time": "2022-01-12T18:55:26.103Z"
      },
      {
        "duration": 8,
        "start_time": "2022-01-12T18:55:26.121Z"
      },
      {
        "duration": 3,
        "start_time": "2022-01-12T18:55:26.131Z"
      },
      {
        "duration": 7,
        "start_time": "2022-01-12T18:55:26.137Z"
      },
      {
        "duration": 8,
        "start_time": "2022-01-12T18:55:26.146Z"
      },
      {
        "duration": 43,
        "start_time": "2022-01-12T18:55:26.157Z"
      },
      {
        "duration": 6,
        "start_time": "2022-01-12T18:55:26.203Z"
      },
      {
        "duration": 1977,
        "start_time": "2022-01-12T18:55:26.211Z"
      },
      {
        "duration": -57,
        "start_time": "2022-01-12T18:55:28.248Z"
      },
      {
        "duration": -61,
        "start_time": "2022-01-12T18:55:28.253Z"
      },
      {
        "duration": -91,
        "start_time": "2022-01-12T18:55:28.285Z"
      },
      {
        "duration": -95,
        "start_time": "2022-01-12T18:55:28.290Z"
      },
      {
        "duration": -97,
        "start_time": "2022-01-12T18:55:28.293Z"
      },
      {
        "duration": -176,
        "start_time": "2022-01-12T18:55:28.374Z"
      },
      {
        "duration": -180,
        "start_time": "2022-01-12T18:55:28.379Z"
      },
      {
        "duration": -189,
        "start_time": "2022-01-12T18:55:28.390Z"
      },
      {
        "duration": -193,
        "start_time": "2022-01-12T18:55:28.395Z"
      },
      {
        "duration": -220,
        "start_time": "2022-01-12T18:55:28.424Z"
      },
      {
        "duration": 315,
        "start_time": "2022-01-13T09:30:26.628Z"
      },
      {
        "duration": 1697,
        "start_time": "2022-01-13T09:30:36.585Z"
      },
      {
        "duration": 6,
        "start_time": "2022-01-13T09:30:38.285Z"
      },
      {
        "duration": 36,
        "start_time": "2022-01-13T09:30:38.294Z"
      },
      {
        "duration": 16,
        "start_time": "2022-01-13T09:30:38.553Z"
      },
      {
        "duration": 35,
        "start_time": "2022-01-13T09:30:39.040Z"
      },
      {
        "duration": 25,
        "start_time": "2022-01-13T09:30:39.543Z"
      },
      {
        "duration": 8,
        "start_time": "2022-01-13T09:30:40.074Z"
      },
      {
        "duration": 13,
        "start_time": "2022-01-13T09:30:40.347Z"
      },
      {
        "duration": 15,
        "start_time": "2022-01-13T09:30:40.937Z"
      },
      {
        "duration": 9,
        "start_time": "2022-01-13T09:30:41.456Z"
      },
      {
        "duration": 10,
        "start_time": "2022-01-13T09:30:41.951Z"
      },
      {
        "duration": 4,
        "start_time": "2022-01-13T09:30:42.218Z"
      },
      {
        "duration": 10,
        "start_time": "2022-01-13T09:30:42.456Z"
      },
      {
        "duration": 10,
        "start_time": "2022-01-13T09:30:42.695Z"
      },
      {
        "duration": 11,
        "start_time": "2022-01-13T09:30:43.437Z"
      },
      {
        "duration": 15,
        "start_time": "2022-01-13T09:30:43.672Z"
      },
      {
        "duration": 13,
        "start_time": "2022-01-13T09:30:43.928Z"
      },
      {
        "duration": 6,
        "start_time": "2022-01-13T09:30:44.446Z"
      },
      {
        "duration": 13,
        "start_time": "2022-01-13T09:30:44.960Z"
      },
      {
        "duration": 6,
        "start_time": "2022-01-13T09:30:45.204Z"
      },
      {
        "duration": 7,
        "start_time": "2022-01-13T09:30:45.710Z"
      },
      {
        "duration": 4,
        "start_time": "2022-01-13T09:30:46.271Z"
      },
      {
        "duration": 4,
        "start_time": "2022-01-13T09:30:46.527Z"
      },
      {
        "duration": 8,
        "start_time": "2022-01-13T09:30:47.009Z"
      },
      {
        "duration": 35,
        "start_time": "2022-01-13T09:30:47.248Z"
      },
      {
        "duration": 9,
        "start_time": "2022-01-13T09:30:47.736Z"
      },
      {
        "duration": 11,
        "start_time": "2022-01-13T09:30:47.985Z"
      },
      {
        "duration": 10,
        "start_time": "2022-01-13T09:30:48.478Z"
      },
      {
        "duration": 3,
        "start_time": "2022-01-13T09:30:48.710Z"
      },
      {
        "duration": 4,
        "start_time": "2022-01-13T09:30:48.958Z"
      },
      {
        "duration": 11,
        "start_time": "2022-01-13T09:30:49.512Z"
      },
      {
        "duration": 20,
        "start_time": "2022-01-13T09:30:49.769Z"
      },
      {
        "duration": 10,
        "start_time": "2022-01-13T09:30:50.031Z"
      },
      {
        "duration": 11,
        "start_time": "2022-01-13T09:30:50.878Z"
      },
      {
        "duration": 4,
        "start_time": "2022-01-13T09:30:51.272Z"
      },
      {
        "duration": 3,
        "start_time": "2022-01-13T09:30:51.607Z"
      },
      {
        "duration": 28,
        "start_time": "2022-01-13T09:30:52.297Z"
      },
      {
        "duration": 19,
        "start_time": "2022-01-13T09:30:52.711Z"
      },
      {
        "duration": 4,
        "start_time": "2022-01-13T09:30:53.447Z"
      },
      {
        "duration": 27,
        "start_time": "2022-01-13T09:30:53.751Z"
      },
      {
        "duration": 27,
        "start_time": "2022-01-13T09:30:54.326Z"
      },
      {
        "duration": 25,
        "start_time": "2022-01-13T09:30:54.626Z"
      },
      {
        "duration": 4,
        "start_time": "2022-01-13T09:30:55.968Z"
      },
      {
        "duration": 3,
        "start_time": "2022-01-13T09:30:57.344Z"
      },
      {
        "duration": 4,
        "start_time": "2022-01-13T09:30:57.870Z"
      },
      {
        "duration": 13,
        "start_time": "2022-01-13T09:30:58.349Z"
      },
      {
        "duration": 12,
        "start_time": "2022-01-13T09:30:58.797Z"
      },
      {
        "duration": 48,
        "start_time": "2022-01-13T09:31:00.673Z"
      },
      {
        "duration": 7,
        "start_time": "2022-01-13T09:31:01.224Z"
      },
      {
        "duration": 6,
        "start_time": "2022-01-13T09:31:01.753Z"
      },
      {
        "duration": 5,
        "start_time": "2022-01-13T09:31:02.245Z"
      },
      {
        "duration": 5,
        "start_time": "2022-01-13T09:31:02.751Z"
      },
      {
        "duration": 9,
        "start_time": "2022-01-13T09:31:03.767Z"
      },
      {
        "duration": 23,
        "start_time": "2022-01-13T09:31:04.271Z"
      },
      {
        "duration": 6,
        "start_time": "2022-01-13T09:31:04.783Z"
      },
      {
        "duration": 11,
        "start_time": "2022-01-13T09:31:05.239Z"
      },
      {
        "duration": 3,
        "start_time": "2022-01-13T09:31:05.670Z"
      },
      {
        "duration": 4,
        "start_time": "2022-01-13T09:31:06.503Z"
      },
      {
        "duration": 3,
        "start_time": "2022-01-13T09:31:07.309Z"
      },
      {
        "duration": 9,
        "start_time": "2022-01-13T09:31:08.456Z"
      },
      {
        "duration": 10,
        "start_time": "2022-01-13T09:31:08.863Z"
      },
      {
        "duration": 27,
        "start_time": "2022-01-13T09:31:09.711Z"
      },
      {
        "duration": 5,
        "start_time": "2022-01-13T09:31:10.110Z"
      },
      {
        "duration": 3,
        "start_time": "2022-01-13T09:31:10.501Z"
      },
      {
        "duration": 3,
        "start_time": "2022-01-13T09:31:10.894Z"
      },
      {
        "duration": 3,
        "start_time": "2022-01-13T09:31:11.230Z"
      },
      {
        "duration": 15,
        "start_time": "2022-01-13T09:31:11.894Z"
      },
      {
        "duration": 13,
        "start_time": "2022-01-13T09:31:12.638Z"
      },
      {
        "duration": 8,
        "start_time": "2022-01-13T09:31:13.457Z"
      },
      {
        "duration": 397,
        "start_time": "2022-01-13T09:31:17.967Z"
      },
      {
        "duration": 275,
        "start_time": "2022-01-13T09:32:49.546Z"
      },
      {
        "duration": 5,
        "start_time": "2022-01-13T09:34:16.138Z"
      },
      {
        "duration": 5,
        "start_time": "2022-01-13T09:42:22.568Z"
      },
      {
        "duration": 1283,
        "start_time": "2022-01-13T09:42:38.251Z"
      },
      {
        "duration": 4,
        "start_time": "2022-01-13T09:42:45.161Z"
      },
      {
        "duration": 4,
        "start_time": "2022-01-13T09:42:46.202Z"
      },
      {
        "duration": 4,
        "start_time": "2022-01-13T09:42:46.857Z"
      },
      {
        "duration": 3,
        "start_time": "2022-01-13T09:42:47.353Z"
      },
      {
        "duration": 5,
        "start_time": "2022-01-13T09:42:47.832Z"
      },
      {
        "duration": 1736,
        "start_time": "2022-01-13T09:50:42.806Z"
      },
      {
        "duration": 6,
        "start_time": "2022-01-13T09:50:44.545Z"
      },
      {
        "duration": 26,
        "start_time": "2022-01-13T09:50:44.555Z"
      },
      {
        "duration": 33,
        "start_time": "2022-01-13T09:50:44.585Z"
      },
      {
        "duration": 39,
        "start_time": "2022-01-13T09:50:44.620Z"
      },
      {
        "duration": 54,
        "start_time": "2022-01-13T09:50:44.662Z"
      },
      {
        "duration": 13,
        "start_time": "2022-01-13T09:50:44.720Z"
      },
      {
        "duration": 14,
        "start_time": "2022-01-13T09:50:44.742Z"
      },
      {
        "duration": 18,
        "start_time": "2022-01-13T09:50:44.759Z"
      },
      {
        "duration": 45,
        "start_time": "2022-01-13T09:50:44.779Z"
      },
      {
        "duration": 15,
        "start_time": "2022-01-13T09:50:44.828Z"
      },
      {
        "duration": 4,
        "start_time": "2022-01-13T09:50:44.846Z"
      },
      {
        "duration": 11,
        "start_time": "2022-01-13T09:50:44.853Z"
      },
      {
        "duration": 51,
        "start_time": "2022-01-13T09:50:44.866Z"
      },
      {
        "duration": 16,
        "start_time": "2022-01-13T09:50:44.920Z"
      },
      {
        "duration": 19,
        "start_time": "2022-01-13T09:50:44.940Z"
      },
      {
        "duration": 12,
        "start_time": "2022-01-13T09:50:44.963Z"
      },
      {
        "duration": 53,
        "start_time": "2022-01-13T09:50:44.979Z"
      },
      {
        "duration": 18,
        "start_time": "2022-01-13T09:50:45.037Z"
      },
      {
        "duration": 6,
        "start_time": "2022-01-13T09:50:45.057Z"
      },
      {
        "duration": 11,
        "start_time": "2022-01-13T09:50:45.066Z"
      },
      {
        "duration": 41,
        "start_time": "2022-01-13T09:50:45.080Z"
      },
      {
        "duration": 4,
        "start_time": "2022-01-13T09:50:45.130Z"
      },
      {
        "duration": 12,
        "start_time": "2022-01-13T09:50:45.138Z"
      },
      {
        "duration": 68,
        "start_time": "2022-01-13T09:50:45.153Z"
      },
      {
        "duration": 16,
        "start_time": "2022-01-13T09:50:45.224Z"
      },
      {
        "duration": 10,
        "start_time": "2022-01-13T09:50:45.242Z"
      },
      {
        "duration": 11,
        "start_time": "2022-01-13T09:50:45.255Z"
      },
      {
        "duration": 3,
        "start_time": "2022-01-13T09:50:45.269Z"
      },
      {
        "duration": 49,
        "start_time": "2022-01-13T09:50:45.275Z"
      },
      {
        "duration": 13,
        "start_time": "2022-01-13T09:50:45.328Z"
      },
      {
        "duration": 20,
        "start_time": "2022-01-13T09:50:45.343Z"
      },
      {
        "duration": 9,
        "start_time": "2022-01-13T09:50:45.366Z"
      },
      {
        "duration": 54,
        "start_time": "2022-01-13T09:50:45.378Z"
      },
      {
        "duration": 6,
        "start_time": "2022-01-13T09:50:45.436Z"
      },
      {
        "duration": 5,
        "start_time": "2022-01-13T09:50:45.445Z"
      },
      {
        "duration": 29,
        "start_time": "2022-01-13T09:50:45.453Z"
      },
      {
        "duration": 41,
        "start_time": "2022-01-13T09:50:45.484Z"
      },
      {
        "duration": 4,
        "start_time": "2022-01-13T09:50:45.528Z"
      },
      {
        "duration": 37,
        "start_time": "2022-01-13T09:50:45.534Z"
      },
      {
        "duration": 61,
        "start_time": "2022-01-13T09:50:45.573Z"
      },
      {
        "duration": 23,
        "start_time": "2022-01-13T09:50:45.637Z"
      },
      {
        "duration": 5,
        "start_time": "2022-01-13T09:50:45.662Z"
      },
      {
        "duration": 5,
        "start_time": "2022-01-13T09:50:45.669Z"
      },
      {
        "duration": 59,
        "start_time": "2022-01-13T09:50:45.676Z"
      },
      {
        "duration": 14,
        "start_time": "2022-01-13T09:50:45.737Z"
      },
      {
        "duration": 14,
        "start_time": "2022-01-13T09:50:45.753Z"
      },
      {
        "duration": 75,
        "start_time": "2022-01-13T09:50:45.769Z"
      },
      {
        "duration": 5,
        "start_time": "2022-01-13T09:50:45.847Z"
      },
      {
        "duration": 14,
        "start_time": "2022-01-13T09:50:45.855Z"
      },
      {
        "duration": 10,
        "start_time": "2022-01-13T09:50:45.872Z"
      },
      {
        "duration": 35,
        "start_time": "2022-01-13T09:50:45.885Z"
      },
      {
        "duration": 17,
        "start_time": "2022-01-13T09:50:45.924Z"
      },
      {
        "duration": 24,
        "start_time": "2022-01-13T09:50:45.944Z"
      },
      {
        "duration": 7,
        "start_time": "2022-01-13T09:50:45.970Z"
      },
      {
        "duration": 52,
        "start_time": "2022-01-13T09:50:45.979Z"
      },
      {
        "duration": 4,
        "start_time": "2022-01-13T09:50:46.034Z"
      },
      {
        "duration": 11,
        "start_time": "2022-01-13T09:50:46.040Z"
      },
      {
        "duration": 7,
        "start_time": "2022-01-13T09:50:46.055Z"
      },
      {
        "duration": 12,
        "start_time": "2022-01-13T09:50:46.064Z"
      },
      {
        "duration": 14,
        "start_time": "2022-01-13T09:50:46.117Z"
      },
      {
        "duration": 30,
        "start_time": "2022-01-13T09:50:46.134Z"
      },
      {
        "duration": 6,
        "start_time": "2022-01-13T09:50:46.167Z"
      },
      {
        "duration": 42,
        "start_time": "2022-01-13T09:50:46.175Z"
      },
      {
        "duration": 15,
        "start_time": "2022-01-13T09:50:46.220Z"
      },
      {
        "duration": 7,
        "start_time": "2022-01-13T09:50:46.238Z"
      },
      {
        "duration": 25,
        "start_time": "2022-01-13T09:50:46.248Z"
      },
      {
        "duration": 53,
        "start_time": "2022-01-13T09:50:46.285Z"
      },
      {
        "duration": 7,
        "start_time": "2022-01-13T09:50:46.341Z"
      },
      {
        "duration": 4,
        "start_time": "2022-01-13T09:50:46.351Z"
      },
      {
        "duration": 5,
        "start_time": "2022-01-13T09:50:46.358Z"
      },
      {
        "duration": 5,
        "start_time": "2022-01-13T09:50:46.365Z"
      },
      {
        "duration": 7,
        "start_time": "2022-01-13T09:50:46.372Z"
      },
      {
        "duration": 40,
        "start_time": "2022-01-13T09:50:46.381Z"
      },
      {
        "duration": 8,
        "start_time": "2022-01-13T09:50:46.425Z"
      },
      {
        "duration": 443,
        "start_time": "2022-01-13T09:50:46.437Z"
      },
      {
        "duration": 9,
        "start_time": "2022-01-13T09:50:46.883Z"
      },
      {
        "duration": 52,
        "start_time": "2022-01-13T09:50:46.894Z"
      },
      {
        "duration": 12,
        "start_time": "2022-01-13T09:50:46.948Z"
      },
      {
        "duration": 19,
        "start_time": "2022-01-13T09:50:46.963Z"
      },
      {
        "duration": 33,
        "start_time": "2022-01-13T09:50:46.985Z"
      },
      {
        "duration": 17,
        "start_time": "2022-01-13T09:50:47.022Z"
      },
      {
        "duration": 27,
        "start_time": "2022-01-13T09:50:47.043Z"
      },
      {
        "duration": 69,
        "start_time": "2022-01-13T09:50:47.073Z"
      },
      {
        "duration": 28,
        "start_time": "2022-01-13T09:50:47.145Z"
      },
      {
        "duration": 2,
        "start_time": "2022-01-13T09:50:47.176Z"
      },
      {
        "duration": 119,
        "start_time": "2022-01-13T09:50:50.294Z"
      },
      {
        "duration": 5,
        "start_time": "2022-01-13T09:50:51.050Z"
      },
      {
        "duration": 20,
        "start_time": "2022-01-13T09:50:51.331Z"
      },
      {
        "duration": 15,
        "start_time": "2022-01-13T09:50:51.770Z"
      },
      {
        "duration": 42,
        "start_time": "2022-01-13T09:50:52.123Z"
      },
      {
        "duration": 24,
        "start_time": "2022-01-13T09:50:52.475Z"
      },
      {
        "duration": 8,
        "start_time": "2022-01-13T09:50:53.109Z"
      },
      {
        "duration": 10,
        "start_time": "2022-01-13T09:50:54.091Z"
      },
      {
        "duration": 15,
        "start_time": "2022-01-13T09:50:55.149Z"
      },
      {
        "duration": 10,
        "start_time": "2022-01-13T09:50:56.051Z"
      },
      {
        "duration": 10,
        "start_time": "2022-01-13T09:50:56.931Z"
      },
      {
        "duration": 4,
        "start_time": "2022-01-13T09:50:57.387Z"
      },
      {
        "duration": 9,
        "start_time": "2022-01-13T09:50:57.845Z"
      },
      {
        "duration": 9,
        "start_time": "2022-01-13T09:50:58.307Z"
      },
      {
        "duration": 17,
        "start_time": "2022-01-13T09:50:59.724Z"
      },
      {
        "duration": 15,
        "start_time": "2022-01-13T09:51:00.180Z"
      },
      {
        "duration": 11,
        "start_time": "2022-01-13T09:51:00.677Z"
      },
      {
        "duration": 7,
        "start_time": "2022-01-13T09:51:01.618Z"
      },
      {
        "duration": 12,
        "start_time": "2022-01-13T09:51:02.578Z"
      },
      {
        "duration": 6,
        "start_time": "2022-01-13T09:51:03.010Z"
      },
      {
        "duration": 9,
        "start_time": "2022-01-13T09:51:03.931Z"
      },
      {
        "duration": 5,
        "start_time": "2022-01-13T09:51:04.869Z"
      },
      {
        "duration": 4,
        "start_time": "2022-01-13T09:51:05.234Z"
      },
      {
        "duration": 9,
        "start_time": "2022-01-13T09:51:05.899Z"
      },
      {
        "duration": 36,
        "start_time": "2022-01-13T09:51:06.842Z"
      },
      {
        "duration": 12,
        "start_time": "2022-01-13T09:51:07.819Z"
      },
      {
        "duration": 10,
        "start_time": "2022-01-13T09:51:08.210Z"
      },
      {
        "duration": 9,
        "start_time": "2022-01-13T09:51:09.267Z"
      },
      {
        "duration": 3,
        "start_time": "2022-01-13T09:51:09.770Z"
      },
      {
        "duration": 3,
        "start_time": "2022-01-13T09:51:10.282Z"
      },
      {
        "duration": 16,
        "start_time": "2022-01-13T09:51:11.611Z"
      },
      {
        "duration": 20,
        "start_time": "2022-01-13T09:51:12.145Z"
      },
      {
        "duration": 9,
        "start_time": "2022-01-13T09:51:12.692Z"
      },
      {
        "duration": 9,
        "start_time": "2022-01-13T09:51:13.089Z"
      },
      {
        "duration": 3,
        "start_time": "2022-01-13T09:51:13.269Z"
      },
      {
        "duration": 3,
        "start_time": "2022-01-13T09:51:13.453Z"
      },
      {
        "duration": 39,
        "start_time": "2022-01-13T09:51:13.805Z"
      },
      {
        "duration": 11,
        "start_time": "2022-01-13T09:51:13.995Z"
      },
      {
        "duration": 3,
        "start_time": "2022-01-13T09:51:14.347Z"
      },
      {
        "duration": 33,
        "start_time": "2022-01-13T09:51:14.516Z"
      },
      {
        "duration": 31,
        "start_time": "2022-01-13T09:51:14.874Z"
      },
      {
        "duration": 27,
        "start_time": "2022-01-13T09:51:15.397Z"
      },
      {
        "duration": 5,
        "start_time": "2022-01-13T09:51:16.964Z"
      },
      {
        "duration": 3,
        "start_time": "2022-01-13T09:51:18.236Z"
      },
      {
        "duration": 7,
        "start_time": "2022-01-13T09:51:18.619Z"
      },
      {
        "duration": 15,
        "start_time": "2022-01-13T09:51:18.978Z"
      },
      {
        "duration": 10,
        "start_time": "2022-01-13T09:51:19.354Z"
      },
      {
        "duration": 49,
        "start_time": "2022-01-13T09:51:20.595Z"
      },
      {
        "duration": 5,
        "start_time": "2022-01-13T09:51:21.051Z"
      },
      {
        "duration": 7,
        "start_time": "2022-01-13T09:51:21.610Z"
      },
      {
        "duration": 7,
        "start_time": "2022-01-13T09:51:22.083Z"
      },
      {
        "duration": 7,
        "start_time": "2022-01-13T09:51:22.531Z"
      },
      {
        "duration": 10,
        "start_time": "2022-01-13T09:51:23.579Z"
      },
      {
        "duration": 23,
        "start_time": "2022-01-13T09:51:24.187Z"
      },
      {
        "duration": 6,
        "start_time": "2022-01-13T09:51:24.835Z"
      },
      {
        "duration": 11,
        "start_time": "2022-01-13T09:51:25.355Z"
      },
      {
        "duration": 3,
        "start_time": "2022-01-13T09:51:25.948Z"
      },
      {
        "duration": 3,
        "start_time": "2022-01-13T09:51:26.897Z"
      },
      {
        "duration": 3,
        "start_time": "2022-01-13T09:51:27.601Z"
      },
      {
        "duration": 14,
        "start_time": "2022-01-13T09:51:28.723Z"
      },
      {
        "duration": 9,
        "start_time": "2022-01-13T09:51:29.178Z"
      },
      {
        "duration": 23,
        "start_time": "2022-01-13T09:51:30.482Z"
      },
      {
        "duration": 6,
        "start_time": "2022-01-13T09:51:31.003Z"
      },
      {
        "duration": 3,
        "start_time": "2022-01-13T09:51:31.850Z"
      },
      {
        "duration": 3,
        "start_time": "2022-01-13T09:51:32.234Z"
      },
      {
        "duration": 3,
        "start_time": "2022-01-13T09:51:32.595Z"
      },
      {
        "duration": 15,
        "start_time": "2022-01-13T09:51:33.458Z"
      },
      {
        "duration": 12,
        "start_time": "2022-01-13T09:51:34.403Z"
      },
      {
        "duration": 9,
        "start_time": "2022-01-13T09:51:35.821Z"
      },
      {
        "duration": 5,
        "start_time": "2022-01-13T09:51:40.029Z"
      },
      {
        "duration": 4,
        "start_time": "2022-01-13T09:51:43.356Z"
      },
      {
        "duration": 4,
        "start_time": "2022-01-13T09:51:43.746Z"
      },
      {
        "duration": 3,
        "start_time": "2022-01-13T09:51:44.234Z"
      },
      {
        "duration": 3,
        "start_time": "2022-01-13T09:51:44.739Z"
      },
      {
        "duration": 5,
        "start_time": "2022-01-13T09:51:47.565Z"
      },
      {
        "duration": 421,
        "start_time": "2022-01-13T09:51:48.883Z"
      },
      {
        "duration": 10,
        "start_time": "2022-01-13T09:51:53.236Z"
      },
      {
        "duration": 5,
        "start_time": "2022-01-13T09:52:23.458Z"
      },
      {
        "duration": 415,
        "start_time": "2022-01-13T09:52:26.410Z"
      },
      {
        "duration": 11,
        "start_time": "2022-01-13T09:52:28.059Z"
      },
      {
        "duration": 85,
        "start_time": "2022-01-13T12:57:51.653Z"
      },
      {
        "duration": 15,
        "start_time": "2022-01-13T13:02:34.085Z"
      },
      {
        "duration": 35,
        "start_time": "2022-01-13T13:03:56.451Z"
      },
      {
        "duration": 27,
        "start_time": "2022-01-13T13:04:37.500Z"
      },
      {
        "duration": 11,
        "start_time": "2022-01-13T13:06:39.970Z"
      },
      {
        "duration": 10,
        "start_time": "2022-01-13T13:06:41.205Z"
      },
      {
        "duration": 9,
        "start_time": "2022-01-13T13:07:19.552Z"
      },
      {
        "duration": 10,
        "start_time": "2022-01-13T13:07:58.077Z"
      },
      {
        "duration": 10,
        "start_time": "2022-01-13T13:08:05.668Z"
      },
      {
        "duration": 4,
        "start_time": "2022-01-13T13:08:13.101Z"
      },
      {
        "duration": 10,
        "start_time": "2022-01-13T13:08:20.078Z"
      },
      {
        "duration": 10,
        "start_time": "2022-01-13T13:09:02.341Z"
      },
      {
        "duration": 90,
        "start_time": "2022-01-13T13:18:17.777Z"
      },
      {
        "duration": 87,
        "start_time": "2022-01-13T13:18:31.704Z"
      },
      {
        "duration": 6,
        "start_time": "2022-01-13T13:18:46.729Z"
      },
      {
        "duration": 1382,
        "start_time": "2022-01-13T13:19:08.648Z"
      },
      {
        "duration": 5,
        "start_time": "2022-01-13T13:20:53.424Z"
      },
      {
        "duration": 3473,
        "start_time": "2022-01-13T13:20:54.293Z"
      },
      {
        "duration": -1509,
        "start_time": "2022-01-13T13:20:59.277Z"
      },
      {
        "duration": 6,
        "start_time": "2022-01-13T13:21:06.093Z"
      },
      {
        "duration": 2370,
        "start_time": "2022-01-13T13:21:06.827Z"
      },
      {
        "duration": 7,
        "start_time": "2022-01-13T13:21:16.278Z"
      },
      {
        "duration": 3164,
        "start_time": "2022-01-13T13:21:17.485Z"
      },
      {
        "duration": 19,
        "start_time": "2022-01-13T13:21:22.309Z"
      },
      {
        "duration": 4,
        "start_time": "2022-01-13T13:21:38.230Z"
      },
      {
        "duration": 5,
        "start_time": "2022-01-13T13:21:38.804Z"
      },
      {
        "duration": 4,
        "start_time": "2022-01-13T13:21:39.443Z"
      },
      {
        "duration": 4,
        "start_time": "2022-01-13T13:21:40.098Z"
      },
      {
        "duration": 82,
        "start_time": "2022-01-13T13:21:40.761Z"
      },
      {
        "duration": 6,
        "start_time": "2022-01-13T13:21:41.666Z"
      },
      {
        "duration": 3125,
        "start_time": "2022-01-13T13:21:42.372Z"
      },
      {
        "duration": 25,
        "start_time": "2022-01-13T13:21:45.500Z"
      },
      {
        "duration": 5498,
        "start_time": "2022-01-13T13:23:50.177Z"
      },
      {
        "duration": 4654,
        "start_time": "2022-01-13T13:24:07.459Z"
      },
      {
        "duration": 3,
        "start_time": "2022-01-13T13:24:34.362Z"
      },
      {
        "duration": 9,
        "start_time": "2022-01-13T13:24:39.436Z"
      },
      {
        "duration": 4893,
        "start_time": "2022-01-13T13:26:08.766Z"
      },
      {
        "duration": 260,
        "start_time": "2022-01-13T13:26:32.298Z"
      },
      {
        "duration": 6,
        "start_time": "2022-01-13T13:27:02.949Z"
      },
      {
        "duration": 2459,
        "start_time": "2022-01-13T13:27:09.798Z"
      },
      {
        "duration": 302,
        "start_time": "2022-01-13T13:39:02.592Z"
      },
      {
        "duration": 42,
        "start_time": "2022-01-13T13:39:26.359Z"
      },
      {
        "duration": 18,
        "start_time": "2022-01-13T13:39:35.981Z"
      },
      {
        "duration": 9,
        "start_time": "2022-01-13T13:46:30.102Z"
      },
      {
        "duration": 9,
        "start_time": "2022-01-13T13:46:42.522Z"
      },
      {
        "duration": 30,
        "start_time": "2022-01-13T13:47:02.989Z"
      },
      {
        "duration": 8,
        "start_time": "2022-01-13T13:47:22.036Z"
      },
      {
        "duration": 42,
        "start_time": "2022-01-13T13:47:40.724Z"
      },
      {
        "duration": 40,
        "start_time": "2022-01-13T13:48:39.448Z"
      },
      {
        "duration": 9,
        "start_time": "2022-01-13T13:51:42.237Z"
      },
      {
        "duration": 10,
        "start_time": "2022-01-13T14:03:40.102Z"
      },
      {
        "duration": 9,
        "start_time": "2022-01-13T14:03:40.565Z"
      },
      {
        "duration": 9,
        "start_time": "2022-01-13T14:04:02.909Z"
      },
      {
        "duration": 10,
        "start_time": "2022-01-13T14:05:47.942Z"
      },
      {
        "duration": 14,
        "start_time": "2022-01-13T14:05:48.615Z"
      },
      {
        "duration": 11,
        "start_time": "2022-01-13T14:05:49.293Z"
      },
      {
        "duration": 5,
        "start_time": "2022-01-13T14:05:50.538Z"
      },
      {
        "duration": 17,
        "start_time": "2022-01-13T14:05:55.871Z"
      },
      {
        "duration": 6,
        "start_time": "2022-01-13T14:05:56.602Z"
      },
      {
        "duration": 8,
        "start_time": "2022-01-13T14:05:58.018Z"
      },
      {
        "duration": 5,
        "start_time": "2022-01-13T14:07:16.429Z"
      },
      {
        "duration": 9,
        "start_time": "2022-01-13T14:07:32.793Z"
      },
      {
        "duration": 43,
        "start_time": "2022-01-13T14:07:34.977Z"
      },
      {
        "duration": 9,
        "start_time": "2022-01-13T14:07:58.642Z"
      },
      {
        "duration": 10,
        "start_time": "2022-01-13T14:08:03.610Z"
      },
      {
        "duration": 9,
        "start_time": "2022-01-13T14:08:04.122Z"
      },
      {
        "duration": 8,
        "start_time": "2022-01-13T14:08:28.932Z"
      },
      {
        "duration": 9,
        "start_time": "2022-01-13T14:08:39.904Z"
      },
      {
        "duration": 14,
        "start_time": "2022-01-13T14:09:05.520Z"
      },
      {
        "duration": 282,
        "start_time": "2022-01-13T14:09:22.943Z"
      },
      {
        "duration": 80,
        "start_time": "2022-01-13T14:09:42.833Z"
      },
      {
        "duration": 9,
        "start_time": "2022-01-13T14:09:53.583Z"
      },
      {
        "duration": 9,
        "start_time": "2022-01-13T14:10:10.326Z"
      },
      {
        "duration": 12,
        "start_time": "2022-01-13T14:11:17.006Z"
      },
      {
        "duration": 24,
        "start_time": "2022-01-13T14:11:17.611Z"
      },
      {
        "duration": 9,
        "start_time": "2022-01-13T14:11:21.053Z"
      },
      {
        "duration": 9,
        "start_time": "2022-01-13T14:12:11.382Z"
      },
      {
        "duration": 1792,
        "start_time": "2022-01-13T14:12:30.781Z"
      },
      {
        "duration": -1624,
        "start_time": "2022-01-13T14:12:34.200Z"
      },
      {
        "duration": 4,
        "start_time": "2022-01-13T14:12:32.874Z"
      },
      {
        "duration": 1958,
        "start_time": "2022-01-13T14:12:52.949Z"
      },
      {
        "duration": 1817,
        "start_time": "2022-01-13T14:13:11.372Z"
      },
      {
        "duration": 1725,
        "start_time": "2022-01-13T14:13:35.868Z"
      },
      {
        "duration": 1778,
        "start_time": "2022-01-13T14:13:47.712Z"
      },
      {
        "duration": 1706,
        "start_time": "2022-01-13T14:14:02.555Z"
      },
      {
        "duration": 36,
        "start_time": "2022-01-13T14:15:00.828Z"
      },
      {
        "duration": 1735,
        "start_time": "2022-01-13T14:15:09.539Z"
      },
      {
        "duration": 1658,
        "start_time": "2022-01-13T14:15:27.180Z"
      },
      {
        "duration": 6,
        "start_time": "2022-01-13T14:15:28.842Z"
      },
      {
        "duration": 25,
        "start_time": "2022-01-13T14:15:28.852Z"
      },
      {
        "duration": 46,
        "start_time": "2022-01-13T14:15:28.879Z"
      },
      {
        "duration": 52,
        "start_time": "2022-01-13T14:15:28.927Z"
      },
      {
        "duration": 44,
        "start_time": "2022-01-13T14:15:28.982Z"
      },
      {
        "duration": 8,
        "start_time": "2022-01-13T14:15:29.028Z"
      },
      {
        "duration": 14,
        "start_time": "2022-01-13T14:15:29.039Z"
      },
      {
        "duration": 20,
        "start_time": "2022-01-13T14:15:29.057Z"
      },
      {
        "duration": 43,
        "start_time": "2022-01-13T14:15:29.080Z"
      },
      {
        "duration": 14,
        "start_time": "2022-01-13T14:15:29.125Z"
      },
      {
        "duration": 23,
        "start_time": "2022-01-13T14:15:29.142Z"
      },
      {
        "duration": 17,
        "start_time": "2022-01-13T14:15:29.168Z"
      },
      {
        "duration": 41,
        "start_time": "2022-01-13T14:15:29.187Z"
      },
      {
        "duration": 11,
        "start_time": "2022-01-13T14:15:29.230Z"
      },
      {
        "duration": 14,
        "start_time": "2022-01-13T14:15:29.244Z"
      },
      {
        "duration": 20,
        "start_time": "2022-01-13T14:15:29.260Z"
      },
      {
        "duration": 39,
        "start_time": "2022-01-13T14:15:29.283Z"
      },
      {
        "duration": 10,
        "start_time": "2022-01-13T14:15:29.325Z"
      },
      {
        "duration": 14,
        "start_time": "2022-01-13T14:15:29.338Z"
      },
      {
        "duration": 12,
        "start_time": "2022-01-13T14:15:29.355Z"
      },
      {
        "duration": 86,
        "start_time": "2022-01-13T14:15:29.369Z"
      },
      {
        "duration": 50,
        "start_time": "2022-01-13T14:15:29.467Z"
      },
      {
        "duration": 10,
        "start_time": "2022-01-13T14:15:29.521Z"
      },
      {
        "duration": 11,
        "start_time": "2022-01-13T14:15:29.533Z"
      },
      {
        "duration": 16,
        "start_time": "2022-01-13T14:15:29.546Z"
      },
      {
        "duration": 61,
        "start_time": "2022-01-13T14:15:29.564Z"
      },
      {
        "duration": 10,
        "start_time": "2022-01-13T14:15:29.627Z"
      },
      {
        "duration": 16,
        "start_time": "2022-01-13T14:15:29.639Z"
      },
      {
        "duration": 62,
        "start_time": "2022-01-13T14:15:29.658Z"
      },
      {
        "duration": 11,
        "start_time": "2022-01-13T14:15:29.722Z"
      },
      {
        "duration": 3,
        "start_time": "2022-01-13T14:15:29.735Z"
      },
      {
        "duration": 32,
        "start_time": "2022-01-13T14:15:29.741Z"
      },
      {
        "duration": 63,
        "start_time": "2022-01-13T14:15:29.775Z"
      },
      {
        "duration": 23,
        "start_time": "2022-01-13T14:15:29.841Z"
      },
      {
        "duration": 4,
        "start_time": "2022-01-13T14:15:29.867Z"
      },
      {
        "duration": 6,
        "start_time": "2022-01-13T14:15:29.875Z"
      },
      {
        "duration": 40,
        "start_time": "2022-01-13T14:15:29.883Z"
      },
      {
        "duration": 24,
        "start_time": "2022-01-13T14:15:29.926Z"
      },
      {
        "duration": 11,
        "start_time": "2022-01-13T14:15:29.953Z"
      },
      {
        "duration": 50,
        "start_time": "2022-01-13T14:15:30.017Z"
      },
      {
        "duration": 7,
        "start_time": "2022-01-13T14:15:30.070Z"
      },
      {
        "duration": 43,
        "start_time": "2022-01-13T14:15:30.079Z"
      },
      {
        "duration": 10,
        "start_time": "2022-01-13T14:15:30.124Z"
      },
      {
        "duration": 14,
        "start_time": "2022-01-13T14:15:30.136Z"
      },
      {
        "duration": 16,
        "start_time": "2022-01-13T14:15:30.152Z"
      },
      {
        "duration": 67,
        "start_time": "2022-01-13T14:15:30.170Z"
      },
      {
        "duration": 6,
        "start_time": "2022-01-13T14:15:30.239Z"
      },
      {
        "duration": 25,
        "start_time": "2022-01-13T14:15:30.247Z"
      },
      {
        "duration": 9,
        "start_time": "2022-01-13T14:15:30.274Z"
      },
      {
        "duration": 9,
        "start_time": "2022-01-13T14:15:30.285Z"
      },
      {
        "duration": 9,
        "start_time": "2022-01-13T14:15:30.318Z"
      },
      {
        "duration": 22,
        "start_time": "2022-01-13T14:15:30.329Z"
      },
      {
        "duration": 8,
        "start_time": "2022-01-13T14:15:30.353Z"
      },
      {
        "duration": 57,
        "start_time": "2022-01-13T14:15:30.364Z"
      },
      {
        "duration": 7,
        "start_time": "2022-01-13T14:15:30.423Z"
      },
      {
        "duration": 5,
        "start_time": "2022-01-13T14:15:30.433Z"
      },
      {
        "duration": 16,
        "start_time": "2022-01-13T14:15:30.441Z"
      },
      {
        "duration": 11,
        "start_time": "2022-01-13T14:15:30.460Z"
      },
      {
        "duration": 46,
        "start_time": "2022-01-13T14:15:30.474Z"
      },
      {
        "duration": 13,
        "start_time": "2022-01-13T14:15:30.523Z"
      },
      {
        "duration": 12,
        "start_time": "2022-01-13T14:15:30.538Z"
      },
      {
        "duration": 10,
        "start_time": "2022-01-13T14:15:30.553Z"
      },
      {
        "duration": 28,
        "start_time": "2022-01-13T14:15:30.565Z"
      },
      {
        "duration": 23,
        "start_time": "2022-01-13T14:15:30.595Z"
      },
      {
        "duration": 9,
        "start_time": "2022-01-13T14:15:30.620Z"
      },
      {
        "duration": 16,
        "start_time": "2022-01-13T14:15:30.632Z"
      },
      {
        "duration": 8,
        "start_time": "2022-01-13T14:15:30.656Z"
      },
      {
        "duration": 1645,
        "start_time": "2022-01-13T14:15:30.666Z"
      },
      {
        "duration": -1605,
        "start_time": "2022-01-13T14:15:33.919Z"
      },
      {
        "duration": -1617,
        "start_time": "2022-01-13T14:15:33.933Z"
      },
      {
        "duration": -1624,
        "start_time": "2022-01-13T14:15:33.941Z"
      },
      {
        "duration": -1632,
        "start_time": "2022-01-13T14:15:33.950Z"
      },
      {
        "duration": -1638,
        "start_time": "2022-01-13T14:15:33.957Z"
      },
      {
        "duration": -1645,
        "start_time": "2022-01-13T14:15:33.966Z"
      },
      {
        "duration": -1651,
        "start_time": "2022-01-13T14:15:33.973Z"
      },
      {
        "duration": -1659,
        "start_time": "2022-01-13T14:15:33.982Z"
      },
      {
        "duration": -1666,
        "start_time": "2022-01-13T14:15:33.990Z"
      },
      {
        "duration": -1670,
        "start_time": "2022-01-13T14:15:33.996Z"
      },
      {
        "duration": 81,
        "start_time": "2022-01-13T14:15:36.537Z"
      },
      {
        "duration": 22,
        "start_time": "2022-01-13T14:15:54.940Z"
      },
      {
        "duration": 296,
        "start_time": "2022-01-13T14:17:12.807Z"
      },
      {
        "duration": 21,
        "start_time": "2022-01-13T14:17:20.950Z"
      },
      {
        "duration": 22,
        "start_time": "2022-01-13T14:17:30.990Z"
      },
      {
        "duration": 12,
        "start_time": "2022-01-13T14:17:34.377Z"
      },
      {
        "duration": 4,
        "start_time": "2022-01-13T14:17:46.157Z"
      },
      {
        "duration": 27,
        "start_time": "2022-01-13T14:17:50.014Z"
      },
      {
        "duration": 24,
        "start_time": "2022-01-13T14:17:59.510Z"
      },
      {
        "duration": 24,
        "start_time": "2022-01-13T14:18:04.191Z"
      },
      {
        "duration": 4,
        "start_time": "2022-01-13T14:20:58.739Z"
      },
      {
        "duration": 4,
        "start_time": "2022-01-13T14:21:13.969Z"
      },
      {
        "duration": 5,
        "start_time": "2022-01-13T14:21:14.840Z"
      },
      {
        "duration": 13,
        "start_time": "2022-01-13T14:21:16.689Z"
      },
      {
        "duration": 10,
        "start_time": "2022-01-13T14:21:21.898Z"
      },
      {
        "duration": 9,
        "start_time": "2022-01-13T14:22:04.663Z"
      },
      {
        "duration": 13,
        "start_time": "2022-01-13T14:22:32.784Z"
      },
      {
        "duration": 11,
        "start_time": "2022-01-13T14:22:34.103Z"
      },
      {
        "duration": 9,
        "start_time": "2022-01-13T14:22:52.359Z"
      },
      {
        "duration": 5,
        "start_time": "2022-01-13T14:23:08.745Z"
      },
      {
        "duration": 5,
        "start_time": "2022-01-13T14:23:09.197Z"
      },
      {
        "duration": 13,
        "start_time": "2022-01-13T14:23:09.613Z"
      },
      {
        "duration": 11,
        "start_time": "2022-01-13T14:23:12.943Z"
      },
      {
        "duration": 39,
        "start_time": "2022-01-13T14:23:35.977Z"
      },
      {
        "duration": 6,
        "start_time": "2022-01-13T14:23:39.504Z"
      },
      {
        "duration": 6,
        "start_time": "2022-01-13T14:23:39.908Z"
      },
      {
        "duration": 5,
        "start_time": "2022-01-13T14:23:40.262Z"
      },
      {
        "duration": 6,
        "start_time": "2022-01-13T14:23:40.604Z"
      },
      {
        "duration": 11,
        "start_time": "2022-01-13T14:25:37.931Z"
      },
      {
        "duration": 23,
        "start_time": "2022-01-13T14:25:38.731Z"
      },
      {
        "duration": 6,
        "start_time": "2022-01-13T14:25:39.681Z"
      },
      {
        "duration": 11,
        "start_time": "2022-01-13T14:25:40.705Z"
      },
      {
        "duration": 13,
        "start_time": "2022-01-13T14:26:06.396Z"
      },
      {
        "duration": 3,
        "start_time": "2022-01-13T14:28:50.567Z"
      },
      {
        "duration": 3,
        "start_time": "2022-01-13T14:28:54.743Z"
      },
      {
        "duration": 13,
        "start_time": "2022-01-13T14:29:19.903Z"
      },
      {
        "duration": 1621,
        "start_time": "2022-01-13T14:29:38.929Z"
      },
      {
        "duration": 7,
        "start_time": "2022-01-13T14:29:40.553Z"
      },
      {
        "duration": 24,
        "start_time": "2022-01-13T14:29:40.564Z"
      },
      {
        "duration": 19,
        "start_time": "2022-01-13T14:29:40.619Z"
      },
      {
        "duration": 31,
        "start_time": "2022-01-13T14:29:40.641Z"
      },
      {
        "duration": 64,
        "start_time": "2022-01-13T14:29:40.675Z"
      },
      {
        "duration": 10,
        "start_time": "2022-01-13T14:29:40.741Z"
      },
      {
        "duration": 16,
        "start_time": "2022-01-13T14:29:40.754Z"
      },
      {
        "duration": 55,
        "start_time": "2022-01-13T14:29:40.773Z"
      },
      {
        "duration": 9,
        "start_time": "2022-01-13T14:29:40.831Z"
      },
      {
        "duration": 10,
        "start_time": "2022-01-13T14:29:40.843Z"
      },
      {
        "duration": 12,
        "start_time": "2022-01-13T14:29:40.856Z"
      },
      {
        "duration": 54,
        "start_time": "2022-01-13T14:29:40.871Z"
      },
      {
        "duration": 17,
        "start_time": "2022-01-13T14:29:40.927Z"
      },
      {
        "duration": 20,
        "start_time": "2022-01-13T14:29:40.946Z"
      },
      {
        "duration": 47,
        "start_time": "2022-01-13T14:29:40.970Z"
      },
      {
        "duration": 16,
        "start_time": "2022-01-13T14:29:41.021Z"
      },
      {
        "duration": 11,
        "start_time": "2022-01-13T14:29:41.047Z"
      },
      {
        "duration": 15,
        "start_time": "2022-01-13T14:29:41.061Z"
      },
      {
        "duration": 48,
        "start_time": "2022-01-13T14:29:41.079Z"
      },
      {
        "duration": 23,
        "start_time": "2022-01-13T14:29:41.130Z"
      },
      {
        "duration": 35,
        "start_time": "2022-01-13T14:29:41.156Z"
      },
      {
        "duration": 10,
        "start_time": "2022-01-13T14:29:41.218Z"
      },
      {
        "duration": 8,
        "start_time": "2022-01-13T14:29:41.232Z"
      },
      {
        "duration": 11,
        "start_time": "2022-01-13T14:29:41.242Z"
      },
      {
        "duration": 13,
        "start_time": "2022-01-13T14:29:41.255Z"
      },
      {
        "duration": 63,
        "start_time": "2022-01-13T14:29:41.271Z"
      },
      {
        "duration": 10,
        "start_time": "2022-01-13T14:29:41.337Z"
      },
      {
        "duration": 12,
        "start_time": "2022-01-13T14:29:41.349Z"
      },
      {
        "duration": 70,
        "start_time": "2022-01-13T14:29:41.364Z"
      },
      {
        "duration": 14,
        "start_time": "2022-01-13T14:29:41.437Z"
      },
      {
        "duration": 12,
        "start_time": "2022-01-13T14:29:41.454Z"
      },
      {
        "duration": 66,
        "start_time": "2022-01-13T14:29:41.468Z"
      },
      {
        "duration": 30,
        "start_time": "2022-01-13T14:29:41.537Z"
      },
      {
        "duration": 53,
        "start_time": "2022-01-13T14:29:41.569Z"
      },
      {
        "duration": 6,
        "start_time": "2022-01-13T14:29:41.625Z"
      },
      {
        "duration": 8,
        "start_time": "2022-01-13T14:29:41.634Z"
      },
      {
        "duration": 13,
        "start_time": "2022-01-13T14:29:41.644Z"
      },
      {
        "duration": 18,
        "start_time": "2022-01-13T14:29:41.660Z"
      },
      {
        "duration": 10,
        "start_time": "2022-01-13T14:29:41.718Z"
      },
      {
        "duration": 54,
        "start_time": "2022-01-13T14:29:41.730Z"
      },
      {
        "duration": 30,
        "start_time": "2022-01-13T14:29:41.787Z"
      },
      {
        "duration": 12,
        "start_time": "2022-01-13T14:29:41.820Z"
      },
      {
        "duration": 11,
        "start_time": "2022-01-13T14:29:41.835Z"
      },
      {
        "duration": 8,
        "start_time": "2022-01-13T14:29:41.849Z"
      },
      {
        "duration": 10,
        "start_time": "2022-01-13T14:29:41.859Z"
      },
      {
        "duration": 22,
        "start_time": "2022-01-13T14:29:41.916Z"
      },
      {
        "duration": 6,
        "start_time": "2022-01-13T14:29:41.940Z"
      },
      {
        "duration": 13,
        "start_time": "2022-01-13T14:29:41.948Z"
      },
      {
        "duration": 3,
        "start_time": "2022-01-13T14:29:41.964Z"
      },
      {
        "duration": 4,
        "start_time": "2022-01-13T14:29:42.018Z"
      },
      {
        "duration": 15,
        "start_time": "2022-01-13T14:29:42.025Z"
      },
      {
        "duration": 13,
        "start_time": "2022-01-13T14:29:42.043Z"
      },
      {
        "duration": 4,
        "start_time": "2022-01-13T14:29:42.059Z"
      },
      {
        "duration": 3,
        "start_time": "2022-01-13T14:29:42.118Z"
      },
      {
        "duration": 11,
        "start_time": "2022-01-13T14:29:42.123Z"
      },
      {
        "duration": 7,
        "start_time": "2022-01-13T14:29:42.136Z"
      },
      {
        "duration": 7,
        "start_time": "2022-01-13T14:29:42.146Z"
      },
      {
        "duration": 18,
        "start_time": "2022-01-13T14:29:42.156Z"
      },
      {
        "duration": 47,
        "start_time": "2022-01-13T14:29:42.176Z"
      },
      {
        "duration": 9,
        "start_time": "2022-01-13T14:29:42.225Z"
      },
      {
        "duration": 5,
        "start_time": "2022-01-13T14:29:42.237Z"
      },
      {
        "duration": 9,
        "start_time": "2022-01-13T14:29:42.245Z"
      },
      {
        "duration": 11,
        "start_time": "2022-01-13T14:29:42.256Z"
      },
      {
        "duration": 53,
        "start_time": "2022-01-13T14:29:42.269Z"
      },
      {
        "duration": 7,
        "start_time": "2022-01-13T14:29:42.325Z"
      },
      {
        "duration": 7,
        "start_time": "2022-01-13T14:29:42.335Z"
      },
      {
        "duration": 1557,
        "start_time": "2022-01-13T14:29:42.352Z"
      },
      {
        "duration": -1605,
        "start_time": "2022-01-13T14:29:45.516Z"
      },
      {
        "duration": -1605,
        "start_time": "2022-01-13T14:29:45.518Z"
      },
      {
        "duration": -1607,
        "start_time": "2022-01-13T14:29:45.521Z"
      },
      {
        "duration": -1608,
        "start_time": "2022-01-13T14:29:45.524Z"
      },
      {
        "duration": -1611,
        "start_time": "2022-01-13T14:29:45.528Z"
      },
      {
        "duration": -1613,
        "start_time": "2022-01-13T14:29:45.531Z"
      },
      {
        "duration": -1616,
        "start_time": "2022-01-13T14:29:45.535Z"
      },
      {
        "duration": -1617,
        "start_time": "2022-01-13T14:29:45.538Z"
      },
      {
        "duration": -1620,
        "start_time": "2022-01-13T14:29:45.542Z"
      },
      {
        "duration": -1620,
        "start_time": "2022-01-13T14:29:45.544Z"
      },
      {
        "duration": 86,
        "start_time": "2022-01-13T14:30:03.206Z"
      },
      {
        "duration": 5,
        "start_time": "2022-01-13T14:30:03.938Z"
      },
      {
        "duration": 20,
        "start_time": "2022-01-13T14:30:04.226Z"
      },
      {
        "duration": 24,
        "start_time": "2022-01-13T14:30:05.002Z"
      },
      {
        "duration": 54,
        "start_time": "2022-01-13T14:30:05.779Z"
      },
      {
        "duration": 41,
        "start_time": "2022-01-13T14:30:06.676Z"
      },
      {
        "duration": 9,
        "start_time": "2022-01-13T14:30:08.090Z"
      },
      {
        "duration": 10,
        "start_time": "2022-01-13T14:30:13.195Z"
      },
      {
        "duration": 17,
        "start_time": "2022-01-13T14:30:14.081Z"
      },
      {
        "duration": 14,
        "start_time": "2022-01-13T14:30:14.938Z"
      },
      {
        "duration": 15,
        "start_time": "2022-01-13T14:30:15.346Z"
      },
      {
        "duration": 10,
        "start_time": "2022-01-13T14:30:17.178Z"
      },
      {
        "duration": 10,
        "start_time": "2022-01-13T14:30:18.652Z"
      },
      {
        "duration": 14,
        "start_time": "2022-01-13T14:30:19.010Z"
      },
      {
        "duration": 11,
        "start_time": "2022-01-13T14:30:19.395Z"
      },
      {
        "duration": 6,
        "start_time": "2022-01-13T14:30:20.165Z"
      },
      {
        "duration": 12,
        "start_time": "2022-01-13T14:30:20.891Z"
      },
      {
        "duration": 7,
        "start_time": "2022-01-13T14:30:21.234Z"
      },
      {
        "duration": 8,
        "start_time": "2022-01-13T14:30:21.874Z"
      },
      {
        "duration": 6,
        "start_time": "2022-01-13T14:30:22.849Z"
      },
      {
        "duration": 12,
        "start_time": "2022-01-13T14:30:23.553Z"
      },
      {
        "duration": 49,
        "start_time": "2022-01-13T14:30:23.987Z"
      },
      {
        "duration": 9,
        "start_time": "2022-01-13T14:30:25.091Z"
      },
      {
        "duration": 9,
        "start_time": "2022-01-13T14:30:25.410Z"
      },
      {
        "duration": 11,
        "start_time": "2022-01-13T14:30:26.121Z"
      },
      {
        "duration": 10,
        "start_time": "2022-01-13T14:30:27.596Z"
      },
      {
        "duration": 21,
        "start_time": "2022-01-13T14:30:28.044Z"
      },
      {
        "duration": 14,
        "start_time": "2022-01-13T14:30:28.458Z"
      },
      {
        "duration": 10,
        "start_time": "2022-01-13T14:30:29.563Z"
      },
      {
        "duration": 27,
        "start_time": "2022-01-13T14:30:30.250Z"
      },
      {
        "duration": 12,
        "start_time": "2022-01-13T14:30:30.566Z"
      },
      {
        "duration": 4,
        "start_time": "2022-01-13T14:30:31.226Z"
      },
      {
        "duration": 27,
        "start_time": "2022-01-13T14:30:31.578Z"
      },
      {
        "duration": 26,
        "start_time": "2022-01-13T14:30:32.274Z"
      },
      {
        "duration": 25,
        "start_time": "2022-01-13T14:30:32.642Z"
      },
      {
        "duration": 6,
        "start_time": "2022-01-13T14:30:39.491Z"
      },
      {
        "duration": 5,
        "start_time": "2022-01-13T14:30:41.084Z"
      },
      {
        "duration": 4,
        "start_time": "2022-01-13T14:30:41.626Z"
      },
      {
        "duration": 12,
        "start_time": "2022-01-13T14:30:42.450Z"
      },
      {
        "duration": 14,
        "start_time": "2022-01-13T14:30:45.925Z"
      },
      {
        "duration": 46,
        "start_time": "2022-01-13T14:30:48.373Z"
      },
      {
        "duration": 6,
        "start_time": "2022-01-13T14:30:49.040Z"
      },
      {
        "duration": 6,
        "start_time": "2022-01-13T14:30:51.172Z"
      },
      {
        "duration": 5,
        "start_time": "2022-01-13T14:30:51.801Z"
      },
      {
        "duration": 6,
        "start_time": "2022-01-13T14:30:52.449Z"
      },
      {
        "duration": 10,
        "start_time": "2022-01-13T14:30:57.330Z"
      },
      {
        "duration": 22,
        "start_time": "2022-01-13T14:31:00.826Z"
      },
      {
        "duration": 6,
        "start_time": "2022-01-13T14:31:01.872Z"
      },
      {
        "duration": 13,
        "start_time": "2022-01-13T14:31:03.827Z"
      },
      {
        "duration": 3,
        "start_time": "2022-01-13T14:31:05.739Z"
      },
      {
        "duration": 3,
        "start_time": "2022-01-13T14:31:06.731Z"
      },
      {
        "duration": 10,
        "start_time": "2022-01-13T14:31:10.780Z"
      },
      {
        "duration": 9,
        "start_time": "2022-01-13T14:31:11.560Z"
      },
      {
        "duration": 4,
        "start_time": "2022-01-13T15:16:10.914Z"
      },
      {
        "duration": 4,
        "start_time": "2022-01-13T15:17:08.265Z"
      },
      {
        "duration": 6,
        "start_time": "2022-01-13T15:17:14.497Z"
      },
      {
        "duration": 253,
        "start_time": "2022-01-13T15:18:15.883Z"
      },
      {
        "duration": 232,
        "start_time": "2022-01-13T15:18:27.698Z"
      },
      {
        "duration": 85,
        "start_time": "2022-01-13T15:18:38.923Z"
      },
      {
        "duration": 358,
        "start_time": "2022-01-13T15:18:52.831Z"
      },
      {
        "duration": 96,
        "start_time": "2022-01-13T15:19:50.476Z"
      },
      {
        "duration": 250,
        "start_time": "2022-01-13T15:20:09.062Z"
      },
      {
        "duration": 262,
        "start_time": "2022-01-13T15:20:36.312Z"
      },
      {
        "duration": 426,
        "start_time": "2022-01-13T15:21:20.893Z"
      },
      {
        "duration": 458,
        "start_time": "2022-01-13T15:21:42.160Z"
      },
      {
        "duration": 4,
        "start_time": "2022-01-13T15:27:02.718Z"
      },
      {
        "duration": 450,
        "start_time": "2022-01-13T15:27:04.029Z"
      },
      {
        "duration": 2059,
        "start_time": "2022-01-13T15:27:17.582Z"
      },
      {
        "duration": 408,
        "start_time": "2022-01-13T15:29:26.032Z"
      },
      {
        "duration": 5,
        "start_time": "2022-01-13T15:29:38.114Z"
      },
      {
        "duration": 395,
        "start_time": "2022-01-13T15:30:46.569Z"
      },
      {
        "duration": 6,
        "start_time": "2022-01-13T15:30:52.096Z"
      },
      {
        "duration": 924,
        "start_time": "2022-01-13T15:37:10.512Z"
      },
      {
        "duration": 14,
        "start_time": "2022-01-13T15:37:25.222Z"
      },
      {
        "duration": 19,
        "start_time": "2022-01-13T15:37:35.446Z"
      },
      {
        "duration": 268,
        "start_time": "2022-01-13T15:37:48.143Z"
      },
      {
        "duration": 17,
        "start_time": "2022-01-13T15:38:06.088Z"
      },
      {
        "duration": 16,
        "start_time": "2022-01-13T15:39:50.028Z"
      },
      {
        "duration": 15,
        "start_time": "2022-01-13T15:40:58.117Z"
      },
      {
        "duration": 18,
        "start_time": "2022-01-13T15:41:42.473Z"
      },
      {
        "duration": 297,
        "start_time": "2022-01-13T15:42:31.400Z"
      },
      {
        "duration": 8,
        "start_time": "2022-01-13T15:42:38.937Z"
      },
      {
        "duration": 7,
        "start_time": "2022-01-13T15:45:16.390Z"
      },
      {
        "duration": 4,
        "start_time": "2022-01-13T15:51:58.715Z"
      },
      {
        "duration": 4,
        "start_time": "2022-01-13T15:51:59.419Z"
      },
      {
        "duration": 3,
        "start_time": "2022-01-13T15:52:00.162Z"
      },
      {
        "duration": 3,
        "start_time": "2022-01-13T15:52:00.770Z"
      },
      {
        "duration": 6,
        "start_time": "2022-01-13T15:55:31.399Z"
      },
      {
        "duration": 3420,
        "start_time": "2022-01-13T15:55:40.190Z"
      },
      {
        "duration": 21,
        "start_time": "2022-01-13T15:55:44.174Z"
      },
      {
        "duration": 4,
        "start_time": "2022-01-13T16:23:10.713Z"
      },
      {
        "duration": 6,
        "start_time": "2022-01-13T16:23:22.575Z"
      },
      {
        "duration": 6,
        "start_time": "2022-01-13T16:24:56.418Z"
      },
      {
        "duration": 6,
        "start_time": "2022-01-13T16:25:26.051Z"
      },
      {
        "duration": 5553,
        "start_time": "2022-01-13T16:25:31.989Z"
      },
      {
        "duration": 32,
        "start_time": "2022-01-13T16:25:37.545Z"
      },
      {
        "duration": 1823,
        "start_time": "2022-01-13T16:27:53.380Z"
      },
      {
        "duration": 5,
        "start_time": "2022-01-13T16:27:55.206Z"
      },
      {
        "duration": 23,
        "start_time": "2022-01-13T16:27:55.220Z"
      },
      {
        "duration": 20,
        "start_time": "2022-01-13T16:27:55.246Z"
      },
      {
        "duration": 86,
        "start_time": "2022-01-13T16:27:55.269Z"
      },
      {
        "duration": 27,
        "start_time": "2022-01-13T16:27:55.357Z"
      },
      {
        "duration": 9,
        "start_time": "2022-01-13T16:27:55.417Z"
      },
      {
        "duration": 12,
        "start_time": "2022-01-13T16:27:55.430Z"
      },
      {
        "duration": 16,
        "start_time": "2022-01-13T16:27:55.446Z"
      },
      {
        "duration": 58,
        "start_time": "2022-01-13T16:27:55.465Z"
      },
      {
        "duration": 15,
        "start_time": "2022-01-13T16:27:55.526Z"
      },
      {
        "duration": 12,
        "start_time": "2022-01-13T16:27:55.543Z"
      },
      {
        "duration": 61,
        "start_time": "2022-01-13T16:27:55.558Z"
      },
      {
        "duration": 16,
        "start_time": "2022-01-13T16:27:55.622Z"
      },
      {
        "duration": 12,
        "start_time": "2022-01-13T16:27:55.641Z"
      },
      {
        "duration": 7,
        "start_time": "2022-01-13T16:27:55.656Z"
      },
      {
        "duration": 63,
        "start_time": "2022-01-13T16:27:55.666Z"
      },
      {
        "duration": 6,
        "start_time": "2022-01-13T16:27:55.731Z"
      },
      {
        "duration": 7,
        "start_time": "2022-01-13T16:27:55.740Z"
      },
      {
        "duration": 5,
        "start_time": "2022-01-13T16:27:55.749Z"
      },
      {
        "duration": 62,
        "start_time": "2022-01-13T16:27:55.756Z"
      },
      {
        "duration": 37,
        "start_time": "2022-01-13T16:27:55.820Z"
      },
      {
        "duration": 65,
        "start_time": "2022-01-13T16:27:55.864Z"
      },
      {
        "duration": 9,
        "start_time": "2022-01-13T16:27:55.933Z"
      },
      {
        "duration": 10,
        "start_time": "2022-01-13T16:27:55.945Z"
      },
      {
        "duration": 12,
        "start_time": "2022-01-13T16:27:55.957Z"
      },
      {
        "duration": 65,
        "start_time": "2022-01-13T16:27:55.971Z"
      },
      {
        "duration": 10,
        "start_time": "2022-01-13T16:27:56.039Z"
      },
      {
        "duration": 11,
        "start_time": "2022-01-13T16:27:56.052Z"
      },
      {
        "duration": 37,
        "start_time": "2022-01-13T16:27:56.118Z"
      },
      {
        "duration": 10,
        "start_time": "2022-01-13T16:27:56.158Z"
      },
      {
        "duration": 4,
        "start_time": "2022-01-13T16:27:56.171Z"
      },
      {
        "duration": 29,
        "start_time": "2022-01-13T16:27:56.218Z"
      },
      {
        "duration": 26,
        "start_time": "2022-01-13T16:27:56.250Z"
      },
      {
        "duration": 58,
        "start_time": "2022-01-13T16:27:56.278Z"
      },
      {
        "duration": 5,
        "start_time": "2022-01-13T16:27:56.339Z"
      },
      {
        "duration": 7,
        "start_time": "2022-01-13T16:27:56.346Z"
      },
      {
        "duration": 12,
        "start_time": "2022-01-13T16:27:56.356Z"
      },
      {
        "duration": 61,
        "start_time": "2022-01-13T16:27:56.371Z"
      },
      {
        "duration": 14,
        "start_time": "2022-01-13T16:27:56.435Z"
      },
      {
        "duration": 97,
        "start_time": "2022-01-13T16:27:56.452Z"
      },
      {
        "duration": 7,
        "start_time": "2022-01-13T16:27:56.552Z"
      },
      {
        "duration": 11,
        "start_time": "2022-01-13T16:27:56.561Z"
      },
      {
        "duration": 44,
        "start_time": "2022-01-13T16:27:56.574Z"
      },
      {
        "duration": 14,
        "start_time": "2022-01-13T16:27:56.621Z"
      },
      {
        "duration": 25,
        "start_time": "2022-01-13T16:27:56.638Z"
      },
      {
        "duration": 29,
        "start_time": "2022-01-13T16:27:56.666Z"
      },
      {
        "duration": 23,
        "start_time": "2022-01-13T16:27:56.697Z"
      },
      {
        "duration": 17,
        "start_time": "2022-01-13T16:27:56.722Z"
      },
      {
        "duration": 4,
        "start_time": "2022-01-13T16:27:56.741Z"
      },
      {
        "duration": 10,
        "start_time": "2022-01-13T16:27:56.747Z"
      },
      {
        "duration": 13,
        "start_time": "2022-01-13T16:27:56.760Z"
      },
      {
        "duration": 49,
        "start_time": "2022-01-13T16:27:56.775Z"
      },
      {
        "duration": 3,
        "start_time": "2022-01-13T16:27:56.827Z"
      },
      {
        "duration": 6,
        "start_time": "2022-01-13T16:27:56.833Z"
      },
      {
        "duration": 7,
        "start_time": "2022-01-13T16:27:56.841Z"
      },
      {
        "duration": 6,
        "start_time": "2022-01-13T16:27:56.850Z"
      },
      {
        "duration": 5,
        "start_time": "2022-01-13T16:27:56.858Z"
      },
      {
        "duration": 64,
        "start_time": "2022-01-13T16:27:56.865Z"
      },
      {
        "duration": 13,
        "start_time": "2022-01-13T16:27:56.932Z"
      },
      {
        "duration": 10,
        "start_time": "2022-01-13T16:27:56.947Z"
      },
      {
        "duration": 3,
        "start_time": "2022-01-13T16:27:56.960Z"
      },
      {
        "duration": 2981,
        "start_time": "2022-01-13T16:27:57.022Z"
      },
      {
        "duration": 23,
        "start_time": "2022-01-13T16:28:00.006Z"
      },
      {
        "duration": 8,
        "start_time": "2022-01-13T16:28:00.031Z"
      },
      {
        "duration": 5,
        "start_time": "2022-01-13T16:28:00.042Z"
      },
      {
        "duration": 11,
        "start_time": "2022-01-13T16:28:00.051Z"
      },
      {
        "duration": 4,
        "start_time": "2022-01-13T16:28:00.118Z"
      },
      {
        "duration": 6,
        "start_time": "2022-01-13T16:28:00.125Z"
      },
      {
        "duration": 20,
        "start_time": "2022-01-13T16:28:00.133Z"
      },
      {
        "duration": 12,
        "start_time": "2022-01-13T16:28:00.155Z"
      },
      {
        "duration": 11,
        "start_time": "2022-01-13T16:28:00.170Z"
      },
      {
        "duration": 3345,
        "start_time": "2022-01-13T16:28:00.183Z"
      },
      {
        "duration": 19,
        "start_time": "2022-01-13T16:28:03.531Z"
      },
      {
        "duration": 3,
        "start_time": "2022-01-13T16:28:03.553Z"
      },
      {
        "duration": 3032,
        "start_time": "2022-01-13T16:28:03.558Z"
      },
      {
        "duration": -329,
        "start_time": "2022-01-13T16:28:06.922Z"
      },
      {
        "duration": -332,
        "start_time": "2022-01-13T16:28:06.926Z"
      },
      {
        "duration": -334,
        "start_time": "2022-01-13T16:28:06.929Z"
      },
      {
        "duration": -336,
        "start_time": "2022-01-13T16:28:06.933Z"
      },
      {
        "duration": -337,
        "start_time": "2022-01-13T16:28:06.935Z"
      },
      {
        "duration": -338,
        "start_time": "2022-01-13T16:28:06.938Z"
      },
      {
        "duration": -339,
        "start_time": "2022-01-13T16:28:06.941Z"
      },
      {
        "duration": -341,
        "start_time": "2022-01-13T16:28:06.944Z"
      },
      {
        "duration": -342,
        "start_time": "2022-01-13T16:28:06.947Z"
      },
      {
        "duration": -344,
        "start_time": "2022-01-13T16:28:06.950Z"
      },
      {
        "duration": -346,
        "start_time": "2022-01-13T16:28:06.953Z"
      },
      {
        "duration": -419,
        "start_time": "2022-01-13T16:28:07.028Z"
      },
      {
        "duration": 18,
        "start_time": "2022-01-13T16:28:07.655Z"
      },
      {
        "duration": 7,
        "start_time": "2022-01-13T16:28:09.106Z"
      },
      {
        "duration": 9,
        "start_time": "2022-01-13T16:28:09.589Z"
      },
      {
        "duration": 18,
        "start_time": "2022-01-13T16:28:10.417Z"
      },
      {
        "duration": 10,
        "start_time": "2022-01-13T16:28:11.183Z"
      },
      {
        "duration": 9,
        "start_time": "2022-01-13T16:28:11.417Z"
      },
      {
        "duration": 9,
        "start_time": "2022-01-13T16:28:12.426Z"
      },
      {
        "duration": 10,
        "start_time": "2022-01-13T16:28:13.784Z"
      },
      {
        "duration": 16,
        "start_time": "2022-01-13T16:28:14.282Z"
      },
      {
        "duration": 11,
        "start_time": "2022-01-13T16:28:14.750Z"
      },
      {
        "duration": 7,
        "start_time": "2022-01-13T16:28:15.833Z"
      },
      {
        "duration": 11,
        "start_time": "2022-01-13T16:28:16.747Z"
      },
      {
        "duration": 6,
        "start_time": "2022-01-13T16:28:17.203Z"
      },
      {
        "duration": 7,
        "start_time": "2022-01-13T16:28:18.183Z"
      },
      {
        "duration": 5,
        "start_time": "2022-01-13T16:28:19.657Z"
      },
      {
        "duration": 10,
        "start_time": "2022-01-13T16:28:20.532Z"
      },
      {
        "duration": 14,
        "start_time": "2022-01-13T16:28:20.987Z"
      },
      {
        "duration": 8,
        "start_time": "2022-01-13T16:28:22.383Z"
      },
      {
        "duration": 9,
        "start_time": "2022-01-13T16:28:22.856Z"
      },
      {
        "duration": 10,
        "start_time": "2022-01-13T16:28:23.913Z"
      },
      {
        "duration": 9,
        "start_time": "2022-01-13T16:28:26.938Z"
      },
      {
        "duration": 289,
        "start_time": "2022-01-13T16:28:26.950Z"
      },
      {
        "duration": 10,
        "start_time": "2022-01-13T16:28:27.534Z"
      },
      {
        "duration": 11,
        "start_time": "2022-01-13T16:28:28.928Z"
      },
      {
        "duration": 2487,
        "start_time": "2022-01-13T16:28:29.732Z"
      },
      {
        "duration": -387,
        "start_time": "2022-01-13T16:28:32.608Z"
      },
      {
        "duration": -395,
        "start_time": "2022-01-13T16:28:32.617Z"
      },
      {
        "duration": -397,
        "start_time": "2022-01-13T16:28:32.621Z"
      },
      {
        "duration": 2051,
        "start_time": "2022-01-13T16:28:32.383Z"
      },
      {
        "duration": -335,
        "start_time": "2022-01-13T16:28:34.773Z"
      },
      {
        "duration": 5,
        "start_time": "2022-01-13T16:28:35.250Z"
      },
      {
        "duration": 4,
        "start_time": "2022-01-13T16:28:43.931Z"
      },
      {
        "duration": 5,
        "start_time": "2022-01-13T16:28:44.404Z"
      },
      {
        "duration": 11,
        "start_time": "2022-01-13T16:28:45.070Z"
      },
      {
        "duration": 9,
        "start_time": "2022-01-13T16:28:45.965Z"
      },
      {
        "duration": 44,
        "start_time": "2022-01-13T16:28:48.246Z"
      },
      {
        "duration": 5,
        "start_time": "2022-01-13T16:28:49.042Z"
      },
      {
        "duration": 6,
        "start_time": "2022-01-13T16:28:49.763Z"
      },
      {
        "duration": 6,
        "start_time": "2022-01-13T16:28:50.247Z"
      },
      {
        "duration": 7,
        "start_time": "2022-01-13T16:28:50.803Z"
      },
      {
        "duration": 12,
        "start_time": "2022-01-13T16:28:52.209Z"
      },
      {
        "duration": 22,
        "start_time": "2022-01-13T16:28:52.675Z"
      },
      {
        "duration": 8,
        "start_time": "2022-01-13T16:28:53.153Z"
      },
      {
        "duration": 14,
        "start_time": "2022-01-13T16:28:53.845Z"
      },
      {
        "duration": 3,
        "start_time": "2022-01-13T16:28:54.941Z"
      },
      {
        "duration": 3,
        "start_time": "2022-01-13T16:28:56.618Z"
      },
      {
        "duration": 11,
        "start_time": "2022-01-13T16:28:58.717Z"
      },
      {
        "duration": 10,
        "start_time": "2022-01-13T16:28:59.333Z"
      },
      {
        "duration": 3,
        "start_time": "2022-01-13T16:29:00.939Z"
      },
      {
        "duration": 3,
        "start_time": "2022-01-13T16:29:01.475Z"
      },
      {
        "duration": 3,
        "start_time": "2022-01-13T16:29:01.937Z"
      },
      {
        "duration": 4,
        "start_time": "2022-01-13T16:29:02.274Z"
      },
      {
        "duration": 3,
        "start_time": "2022-01-13T16:29:02.632Z"
      },
      {
        "duration": 18,
        "start_time": "2022-01-13T16:29:03.657Z"
      },
      {
        "duration": 14,
        "start_time": "2022-01-13T16:29:04.922Z"
      },
      {
        "duration": 6,
        "start_time": "2022-01-13T16:29:06.159Z"
      },
      {
        "duration": 3,
        "start_time": "2022-01-13T16:29:06.824Z"
      },
      {
        "duration": 6,
        "start_time": "2022-01-13T16:29:08.005Z"
      },
      {
        "duration": 17,
        "start_time": "2022-01-13T16:29:08.843Z"
      },
      {
        "duration": 10,
        "start_time": "2022-01-13T16:29:09.638Z"
      },
      {
        "duration": 3,
        "start_time": "2022-01-13T16:29:11.181Z"
      },
      {
        "duration": 4,
        "start_time": "2022-01-13T16:29:11.676Z"
      },
      {
        "duration": 3,
        "start_time": "2022-01-13T16:29:12.082Z"
      },
      {
        "duration": 4,
        "start_time": "2022-01-13T16:29:12.579Z"
      },
      {
        "duration": 4,
        "start_time": "2022-01-13T16:29:13.488Z"
      },
      {
        "duration": 5,
        "start_time": "2022-01-13T16:29:14.008Z"
      },
      {
        "duration": 6,
        "start_time": "2022-01-13T16:29:14.654Z"
      },
      {
        "duration": 3026,
        "start_time": "2022-01-13T16:29:15.846Z"
      },
      {
        "duration": 21,
        "start_time": "2022-01-13T16:29:18.875Z"
      },
      {
        "duration": 7,
        "start_time": "2022-01-13T16:33:44.714Z"
      },
      {
        "duration": 6,
        "start_time": "2022-01-13T16:34:06.701Z"
      },
      {
        "duration": 6,
        "start_time": "2022-01-13T16:34:40.107Z"
      },
      {
        "duration": 325,
        "start_time": "2022-01-13T16:36:12.084Z"
      },
      {
        "duration": 5,
        "start_time": "2022-01-13T16:36:35.021Z"
      },
      {
        "duration": 6,
        "start_time": "2022-01-13T16:39:02.677Z"
      },
      {
        "duration": 3415,
        "start_time": "2022-01-13T16:39:07.257Z"
      },
      {
        "duration": 10,
        "start_time": "2022-01-13T16:39:10.675Z"
      },
      {
        "duration": 3219,
        "start_time": "2022-01-13T16:39:27.209Z"
      },
      {
        "duration": 12,
        "start_time": "2022-01-13T16:39:30.430Z"
      },
      {
        "duration": 3,
        "start_time": "2022-01-13T16:39:36.284Z"
      },
      {
        "duration": 15,
        "start_time": "2022-01-13T16:39:37.012Z"
      },
      {
        "duration": 11,
        "start_time": "2022-01-13T16:40:25.115Z"
      },
      {
        "duration": 5,
        "start_time": "2022-01-13T16:42:52.047Z"
      },
      {
        "duration": 20,
        "start_time": "2022-01-13T16:42:52.865Z"
      },
      {
        "duration": 10,
        "start_time": "2022-01-13T16:42:53.683Z"
      },
      {
        "duration": 5,
        "start_time": "2022-01-13T16:47:46.585Z"
      },
      {
        "duration": 3361,
        "start_time": "2022-01-13T16:47:49.567Z"
      },
      {
        "duration": 10,
        "start_time": "2022-01-13T16:47:56.466Z"
      },
      {
        "duration": 7,
        "start_time": "2022-01-13T16:49:56.393Z"
      },
      {
        "duration": 9,
        "start_time": "2022-01-13T16:51:39.648Z"
      },
      {
        "duration": 24,
        "start_time": "2022-01-13T16:53:18.322Z"
      },
      {
        "duration": 16,
        "start_time": "2022-01-13T16:58:20.665Z"
      },
      {
        "duration": 20,
        "start_time": "2022-01-13T16:58:36.278Z"
      },
      {
        "duration": 28,
        "start_time": "2022-01-13T16:58:45.457Z"
      },
      {
        "duration": 6,
        "start_time": "2022-01-13T17:10:43.645Z"
      },
      {
        "duration": 313,
        "start_time": "2022-01-13T17:12:16.616Z"
      },
      {
        "duration": 252,
        "start_time": "2022-01-13T17:12:29.355Z"
      },
      {
        "duration": 5,
        "start_time": "2022-01-13T17:12:39.802Z"
      },
      {
        "duration": 25,
        "start_time": "2022-01-13T17:13:11.860Z"
      },
      {
        "duration": 22,
        "start_time": "2022-01-13T17:17:18.356Z"
      },
      {
        "duration": 24,
        "start_time": "2022-01-13T17:17:48.354Z"
      },
      {
        "duration": 5,
        "start_time": "2022-01-13T17:18:03.621Z"
      },
      {
        "duration": 25,
        "start_time": "2022-01-13T17:18:04.725Z"
      },
      {
        "duration": 14,
        "start_time": "2022-01-13T17:18:14.198Z"
      },
      {
        "duration": 6,
        "start_time": "2022-01-13T17:24:25.429Z"
      },
      {
        "duration": 25,
        "start_time": "2022-01-13T17:24:28.077Z"
      },
      {
        "duration": 20,
        "start_time": "2022-01-13T17:25:07.497Z"
      },
      {
        "duration": 17,
        "start_time": "2022-01-13T17:28:41.262Z"
      },
      {
        "duration": 1584,
        "start_time": "2022-01-13T17:31:13.566Z"
      },
      {
        "duration": 5,
        "start_time": "2022-01-13T17:31:15.153Z"
      },
      {
        "duration": 21,
        "start_time": "2022-01-13T17:31:15.161Z"
      },
      {
        "duration": 46,
        "start_time": "2022-01-13T17:31:15.184Z"
      },
      {
        "duration": 34,
        "start_time": "2022-01-13T17:31:15.232Z"
      },
      {
        "duration": 60,
        "start_time": "2022-01-13T17:31:15.268Z"
      },
      {
        "duration": 10,
        "start_time": "2022-01-13T17:31:15.330Z"
      },
      {
        "duration": 12,
        "start_time": "2022-01-13T17:31:15.343Z"
      },
      {
        "duration": 13,
        "start_time": "2022-01-13T17:31:15.358Z"
      },
      {
        "duration": 9,
        "start_time": "2022-01-13T17:31:15.420Z"
      },
      {
        "duration": 12,
        "start_time": "2022-01-13T17:31:15.431Z"
      },
      {
        "duration": 9,
        "start_time": "2022-01-13T17:31:15.446Z"
      },
      {
        "duration": 63,
        "start_time": "2022-01-13T17:31:15.457Z"
      },
      {
        "duration": 16,
        "start_time": "2022-01-13T17:31:15.523Z"
      },
      {
        "duration": 18,
        "start_time": "2022-01-13T17:31:15.541Z"
      },
      {
        "duration": 6,
        "start_time": "2022-01-13T17:31:15.561Z"
      },
      {
        "duration": 50,
        "start_time": "2022-01-13T17:31:15.569Z"
      },
      {
        "duration": 5,
        "start_time": "2022-01-13T17:31:15.621Z"
      },
      {
        "duration": 7,
        "start_time": "2022-01-13T17:31:15.629Z"
      },
      {
        "duration": 5,
        "start_time": "2022-01-13T17:31:15.638Z"
      },
      {
        "duration": 10,
        "start_time": "2022-01-13T17:31:15.645Z"
      },
      {
        "duration": 88,
        "start_time": "2022-01-13T17:31:15.657Z"
      },
      {
        "duration": 9,
        "start_time": "2022-01-13T17:31:15.751Z"
      },
      {
        "duration": 8,
        "start_time": "2022-01-13T17:31:15.764Z"
      },
      {
        "duration": 50,
        "start_time": "2022-01-13T17:31:15.774Z"
      },
      {
        "duration": 11,
        "start_time": "2022-01-13T17:31:15.826Z"
      },
      {
        "duration": 21,
        "start_time": "2022-01-13T17:31:15.839Z"
      },
      {
        "duration": 9,
        "start_time": "2022-01-13T17:31:15.862Z"
      },
      {
        "duration": 53,
        "start_time": "2022-01-13T17:31:15.873Z"
      },
      {
        "duration": 29,
        "start_time": "2022-01-13T17:31:15.929Z"
      },
      {
        "duration": 9,
        "start_time": "2022-01-13T17:31:15.961Z"
      },
      {
        "duration": 4,
        "start_time": "2022-01-13T17:31:15.972Z"
      },
      {
        "duration": 28,
        "start_time": "2022-01-13T17:31:16.017Z"
      },
      {
        "duration": 24,
        "start_time": "2022-01-13T17:31:16.048Z"
      },
      {
        "duration": 56,
        "start_time": "2022-01-13T17:31:16.074Z"
      },
      {
        "duration": 7,
        "start_time": "2022-01-13T17:31:16.133Z"
      },
      {
        "duration": 5,
        "start_time": "2022-01-13T17:31:16.142Z"
      },
      {
        "duration": 9,
        "start_time": "2022-01-13T17:31:16.150Z"
      },
      {
        "duration": 56,
        "start_time": "2022-01-13T17:31:16.161Z"
      },
      {
        "duration": 9,
        "start_time": "2022-01-13T17:31:16.220Z"
      },
      {
        "duration": 48,
        "start_time": "2022-01-13T17:31:16.231Z"
      },
      {
        "duration": 38,
        "start_time": "2022-01-13T17:31:16.281Z"
      },
      {
        "duration": 5,
        "start_time": "2022-01-13T17:31:16.322Z"
      },
      {
        "duration": 13,
        "start_time": "2022-01-13T17:31:16.329Z"
      },
      {
        "duration": 11,
        "start_time": "2022-01-13T17:31:16.344Z"
      },
      {
        "duration": 12,
        "start_time": "2022-01-13T17:31:16.357Z"
      },
      {
        "duration": 63,
        "start_time": "2022-01-13T17:31:16.372Z"
      },
      {
        "duration": 7,
        "start_time": "2022-01-13T17:31:16.439Z"
      },
      {
        "duration": 15,
        "start_time": "2022-01-13T17:31:16.449Z"
      },
      {
        "duration": 53,
        "start_time": "2022-01-13T17:31:16.467Z"
      },
      {
        "duration": 7,
        "start_time": "2022-01-13T17:31:16.523Z"
      },
      {
        "duration": 14,
        "start_time": "2022-01-13T17:31:16.533Z"
      },
      {
        "duration": 12,
        "start_time": "2022-01-13T17:31:16.550Z"
      },
      {
        "duration": 4,
        "start_time": "2022-01-13T17:31:16.618Z"
      },
      {
        "duration": 7,
        "start_time": "2022-01-13T17:31:16.625Z"
      },
      {
        "duration": 10,
        "start_time": "2022-01-13T17:31:16.635Z"
      },
      {
        "duration": 10,
        "start_time": "2022-01-13T17:31:16.647Z"
      },
      {
        "duration": 4,
        "start_time": "2022-01-13T17:31:16.659Z"
      },
      {
        "duration": 53,
        "start_time": "2022-01-13T17:31:16.665Z"
      },
      {
        "duration": 14,
        "start_time": "2022-01-13T17:31:16.720Z"
      },
      {
        "duration": 9,
        "start_time": "2022-01-13T17:31:16.737Z"
      },
      {
        "duration": 4,
        "start_time": "2022-01-13T17:31:16.749Z"
      },
      {
        "duration": 2114,
        "start_time": "2022-01-13T17:31:16.756Z"
      },
      {
        "duration": 15,
        "start_time": "2022-01-13T17:31:18.872Z"
      },
      {
        "duration": 28,
        "start_time": "2022-01-13T17:31:18.890Z"
      },
      {
        "duration": 4,
        "start_time": "2022-01-13T17:31:18.920Z"
      },
      {
        "duration": 7,
        "start_time": "2022-01-13T17:31:18.926Z"
      },
      {
        "duration": 3,
        "start_time": "2022-01-13T17:31:18.941Z"
      },
      {
        "duration": 5,
        "start_time": "2022-01-13T17:31:18.947Z"
      },
      {
        "duration": 6,
        "start_time": "2022-01-13T17:31:18.955Z"
      },
      {
        "duration": 59,
        "start_time": "2022-01-13T17:31:18.963Z"
      },
      {
        "duration": 6,
        "start_time": "2022-01-13T17:31:19.025Z"
      },
      {
        "duration": 3057,
        "start_time": "2022-01-13T17:31:19.033Z"
      },
      {
        "duration": 10,
        "start_time": "2022-01-13T17:31:22.092Z"
      },
      {
        "duration": 6,
        "start_time": "2022-01-13T17:31:22.117Z"
      },
      {
        "duration": 20,
        "start_time": "2022-01-13T17:31:22.125Z"
      },
      {
        "duration": 12,
        "start_time": "2022-01-13T17:31:22.147Z"
      },
      {
        "duration": 4,
        "start_time": "2022-01-13T17:31:22.161Z"
      },
      {
        "duration": 63,
        "start_time": "2022-01-13T17:31:22.167Z"
      },
      {
        "duration": 10,
        "start_time": "2022-01-13T17:31:22.232Z"
      },
      {
        "duration": 31,
        "start_time": "2022-01-13T17:31:22.244Z"
      },
      {
        "duration": 58,
        "start_time": "2022-01-13T17:31:22.277Z"
      },
      {
        "duration": 4,
        "start_time": "2022-01-13T17:31:22.338Z"
      },
      {
        "duration": 74,
        "start_time": "2022-01-13T17:31:22.344Z"
      },
      {
        "duration": 16,
        "start_time": "2022-01-13T17:31:22.420Z"
      },
      {
        "duration": 81,
        "start_time": "2022-01-13T17:31:39.101Z"
      },
      {
        "duration": 6,
        "start_time": "2022-01-13T17:31:41.971Z"
      },
      {
        "duration": 19,
        "start_time": "2022-01-13T17:31:42.848Z"
      },
      {
        "duration": 15,
        "start_time": "2022-01-13T17:31:45.609Z"
      },
      {
        "duration": 33,
        "start_time": "2022-01-13T17:31:49.134Z"
      },
      {
        "duration": 25,
        "start_time": "2022-01-13T17:34:10.843Z"
      },
      {
        "duration": 26,
        "start_time": "2022-01-13T17:34:27.113Z"
      },
      {
        "duration": 8,
        "start_time": "2022-01-13T17:41:40.294Z"
      },
      {
        "duration": 9,
        "start_time": "2022-01-13T17:41:49.057Z"
      },
      {
        "duration": 413,
        "start_time": "2022-01-13T17:45:32.328Z"
      },
      {
        "duration": 307,
        "start_time": "2022-01-13T17:45:59.146Z"
      },
      {
        "duration": 11,
        "start_time": "2022-01-13T17:46:08.529Z"
      },
      {
        "duration": 17,
        "start_time": "2022-01-13T17:48:44.723Z"
      },
      {
        "duration": 10,
        "start_time": "2022-01-13T17:50:36.272Z"
      },
      {
        "duration": 5,
        "start_time": "2022-01-13T18:01:29.683Z"
      },
      {
        "duration": 85,
        "start_time": "2022-01-13T18:01:43.908Z"
      },
      {
        "duration": 46,
        "start_time": "2022-01-13T18:01:52.733Z"
      },
      {
        "duration": 7,
        "start_time": "2022-01-13T18:02:07.939Z"
      },
      {
        "duration": 44,
        "start_time": "2022-01-13T18:02:17.719Z"
      },
      {
        "duration": 7,
        "start_time": "2022-01-13T18:02:20.298Z"
      },
      {
        "duration": 9,
        "start_time": "2022-01-13T18:02:38.318Z"
      },
      {
        "duration": 6,
        "start_time": "2022-01-13T18:02:42.505Z"
      },
      {
        "duration": 4,
        "start_time": "2022-01-13T18:03:42.100Z"
      },
      {
        "duration": 8,
        "start_time": "2022-01-13T18:03:49.724Z"
      },
      {
        "duration": 8,
        "start_time": "2022-01-13T18:03:57.435Z"
      },
      {
        "duration": 8,
        "start_time": "2022-01-13T18:04:53.414Z"
      },
      {
        "duration": 8,
        "start_time": "2022-01-13T18:10:07.026Z"
      },
      {
        "duration": 34,
        "start_time": "2022-01-13T18:10:14.005Z"
      },
      {
        "duration": 9,
        "start_time": "2022-01-13T18:11:18.394Z"
      },
      {
        "duration": 9,
        "start_time": "2022-01-13T18:11:21.130Z"
      },
      {
        "duration": 10,
        "start_time": "2022-01-13T18:11:36.668Z"
      },
      {
        "duration": 13,
        "start_time": "2022-01-13T18:11:41.392Z"
      },
      {
        "duration": 10,
        "start_time": "2022-01-13T18:11:54.297Z"
      },
      {
        "duration": 18,
        "start_time": "2022-01-13T18:12:59.737Z"
      },
      {
        "duration": 10,
        "start_time": "2022-01-13T18:13:05.438Z"
      },
      {
        "duration": 11,
        "start_time": "2022-01-13T18:13:16.694Z"
      },
      {
        "duration": 24,
        "start_time": "2022-01-13T18:14:08.447Z"
      },
      {
        "duration": 11,
        "start_time": "2022-01-13T18:14:43.302Z"
      },
      {
        "duration": 4,
        "start_time": "2022-01-13T18:14:59.726Z"
      },
      {
        "duration": 25,
        "start_time": "2022-01-13T18:15:06.202Z"
      },
      {
        "duration": 25,
        "start_time": "2022-01-13T18:15:19.714Z"
      },
      {
        "duration": 24,
        "start_time": "2022-01-13T18:15:36.222Z"
      },
      {
        "duration": 3,
        "start_time": "2022-01-13T18:16:30.798Z"
      },
      {
        "duration": 26,
        "start_time": "2022-01-13T18:16:31.676Z"
      },
      {
        "duration": 26,
        "start_time": "2022-01-13T18:16:42.763Z"
      },
      {
        "duration": 26,
        "start_time": "2022-01-13T18:19:32.420Z"
      },
      {
        "duration": 24,
        "start_time": "2022-01-13T18:19:33.862Z"
      },
      {
        "duration": 5,
        "start_time": "2022-01-13T18:23:02.526Z"
      },
      {
        "duration": 4,
        "start_time": "2022-01-13T18:25:03.837Z"
      },
      {
        "duration": 5,
        "start_time": "2022-01-13T18:25:04.484Z"
      },
      {
        "duration": 12,
        "start_time": "2022-01-13T18:25:05.223Z"
      },
      {
        "duration": 9,
        "start_time": "2022-01-13T18:25:08.740Z"
      },
      {
        "duration": 40,
        "start_time": "2022-01-13T18:25:19.214Z"
      },
      {
        "duration": 6,
        "start_time": "2022-01-13T18:25:37.459Z"
      },
      {
        "duration": 6,
        "start_time": "2022-01-13T18:25:38.468Z"
      },
      {
        "duration": 5,
        "start_time": "2022-01-13T18:25:39.184Z"
      },
      {
        "duration": 6,
        "start_time": "2022-01-13T18:25:39.914Z"
      },
      {
        "duration": 10,
        "start_time": "2022-01-13T18:25:47.401Z"
      },
      {
        "duration": 11,
        "start_time": "2022-01-13T18:26:03.391Z"
      },
      {
        "duration": 21,
        "start_time": "2022-01-13T18:26:04.941Z"
      },
      {
        "duration": 7,
        "start_time": "2022-01-13T18:26:07.589Z"
      },
      {
        "duration": 10,
        "start_time": "2022-01-13T18:26:11.533Z"
      },
      {
        "duration": 10,
        "start_time": "2022-01-13T18:27:30.816Z"
      },
      {
        "duration": 23,
        "start_time": "2022-01-13T18:27:32.197Z"
      },
      {
        "duration": 20,
        "start_time": "2022-01-13T18:29:20.570Z"
      },
      {
        "duration": 6,
        "start_time": "2022-01-13T18:29:21.738Z"
      },
      {
        "duration": 6,
        "start_time": "2022-01-13T18:29:34.103Z"
      },
      {
        "duration": 12,
        "start_time": "2022-01-13T18:30:36.994Z"
      },
      {
        "duration": 9,
        "start_time": "2022-01-13T18:31:22.110Z"
      },
      {
        "duration": 11,
        "start_time": "2022-01-13T18:31:32.730Z"
      },
      {
        "duration": 8,
        "start_time": "2022-01-13T18:31:37.290Z"
      },
      {
        "duration": 45,
        "start_time": "2022-01-13T18:31:46.928Z"
      },
      {
        "duration": 1585,
        "start_time": "2022-01-13T18:32:48.973Z"
      },
      {
        "duration": 5,
        "start_time": "2022-01-13T18:32:50.561Z"
      },
      {
        "duration": 23,
        "start_time": "2022-01-13T18:32:50.569Z"
      },
      {
        "duration": 39,
        "start_time": "2022-01-13T18:32:50.595Z"
      },
      {
        "duration": 35,
        "start_time": "2022-01-13T18:32:50.636Z"
      },
      {
        "duration": 63,
        "start_time": "2022-01-13T18:32:50.674Z"
      },
      {
        "duration": 8,
        "start_time": "2022-01-13T18:32:50.740Z"
      },
      {
        "duration": 12,
        "start_time": "2022-01-13T18:32:50.750Z"
      },
      {
        "duration": 55,
        "start_time": "2022-01-13T18:32:50.766Z"
      },
      {
        "duration": 10,
        "start_time": "2022-01-13T18:32:50.824Z"
      },
      {
        "duration": 9,
        "start_time": "2022-01-13T18:32:50.837Z"
      },
      {
        "duration": 11,
        "start_time": "2022-01-13T18:32:50.848Z"
      },
      {
        "duration": 60,
        "start_time": "2022-01-13T18:32:50.861Z"
      },
      {
        "duration": 16,
        "start_time": "2022-01-13T18:32:50.923Z"
      },
      {
        "duration": 14,
        "start_time": "2022-01-13T18:32:50.941Z"
      },
      {
        "duration": 11,
        "start_time": "2022-01-13T18:32:50.958Z"
      },
      {
        "duration": 56,
        "start_time": "2022-01-13T18:32:50.971Z"
      },
      {
        "duration": 6,
        "start_time": "2022-01-13T18:32:51.030Z"
      },
      {
        "duration": 10,
        "start_time": "2022-01-13T18:32:51.039Z"
      },
      {
        "duration": 4,
        "start_time": "2022-01-13T18:32:51.052Z"
      },
      {
        "duration": 12,
        "start_time": "2022-01-13T18:32:51.058Z"
      },
      {
        "duration": 54,
        "start_time": "2022-01-13T18:32:51.072Z"
      },
      {
        "duration": 35,
        "start_time": "2022-01-13T18:32:51.128Z"
      },
      {
        "duration": 9,
        "start_time": "2022-01-13T18:32:51.165Z"
      },
      {
        "duration": 9,
        "start_time": "2022-01-13T18:32:51.217Z"
      },
      {
        "duration": 9,
        "start_time": "2022-01-13T18:32:51.229Z"
      },
      {
        "duration": 9,
        "start_time": "2022-01-13T18:32:51.245Z"
      },
      {
        "duration": 69,
        "start_time": "2022-01-13T18:32:51.258Z"
      },
      {
        "duration": 10,
        "start_time": "2022-01-13T18:32:51.329Z"
      },
      {
        "duration": 11,
        "start_time": "2022-01-13T18:32:51.341Z"
      },
      {
        "duration": 65,
        "start_time": "2022-01-13T18:32:51.355Z"
      },
      {
        "duration": 10,
        "start_time": "2022-01-13T18:32:51.423Z"
      },
      {
        "duration": 4,
        "start_time": "2022-01-13T18:32:51.435Z"
      },
      {
        "duration": 29,
        "start_time": "2022-01-13T18:32:51.441Z"
      },
      {
        "duration": 67,
        "start_time": "2022-01-13T18:32:51.472Z"
      },
      {
        "duration": 23,
        "start_time": "2022-01-13T18:32:51.541Z"
      },
      {
        "duration": 5,
        "start_time": "2022-01-13T18:32:51.566Z"
      },
      {
        "duration": 44,
        "start_time": "2022-01-13T18:32:51.573Z"
      },
      {
        "duration": 7,
        "start_time": "2022-01-13T18:32:51.620Z"
      },
      {
        "duration": 14,
        "start_time": "2022-01-13T18:32:51.629Z"
      },
      {
        "duration": 10,
        "start_time": "2022-01-13T18:32:51.646Z"
      },
      {
        "duration": 93,
        "start_time": "2022-01-13T18:32:51.659Z"
      },
      {
        "duration": 6,
        "start_time": "2022-01-13T18:32:51.755Z"
      },
      {
        "duration": 8,
        "start_time": "2022-01-13T18:32:51.763Z"
      },
      {
        "duration": 6,
        "start_time": "2022-01-13T18:32:51.773Z"
      },
      {
        "duration": 39,
        "start_time": "2022-01-13T18:32:51.781Z"
      },
      {
        "duration": 12,
        "start_time": "2022-01-13T18:32:51.823Z"
      },
      {
        "duration": 22,
        "start_time": "2022-01-13T18:32:51.837Z"
      },
      {
        "duration": 57,
        "start_time": "2022-01-13T18:32:51.862Z"
      },
      {
        "duration": 6,
        "start_time": "2022-01-13T18:32:51.921Z"
      },
      {
        "duration": 39,
        "start_time": "2022-01-13T18:32:51.930Z"
      },
      {
        "duration": 3,
        "start_time": "2022-01-13T18:32:51.972Z"
      },
      {
        "duration": 3,
        "start_time": "2022-01-13T18:32:52.017Z"
      },
      {
        "duration": 12,
        "start_time": "2022-01-13T18:32:52.022Z"
      },
      {
        "duration": 9,
        "start_time": "2022-01-13T18:32:52.037Z"
      },
      {
        "duration": 3,
        "start_time": "2022-01-13T18:32:52.048Z"
      },
      {
        "duration": 6,
        "start_time": "2022-01-13T18:32:52.054Z"
      },
      {
        "duration": 3,
        "start_time": "2022-01-13T18:32:52.118Z"
      },
      {
        "duration": 6,
        "start_time": "2022-01-13T18:32:52.123Z"
      },
      {
        "duration": 5,
        "start_time": "2022-01-13T18:32:52.131Z"
      },
      {
        "duration": 16,
        "start_time": "2022-01-13T18:32:52.139Z"
      },
      {
        "duration": 62,
        "start_time": "2022-01-13T18:32:52.157Z"
      },
      {
        "duration": 7,
        "start_time": "2022-01-13T18:32:52.221Z"
      },
      {
        "duration": 3,
        "start_time": "2022-01-13T18:32:52.231Z"
      },
      {
        "duration": 2229,
        "start_time": "2022-01-13T18:32:52.236Z"
      },
      {
        "duration": 16,
        "start_time": "2022-01-13T18:32:54.467Z"
      },
      {
        "duration": 7,
        "start_time": "2022-01-13T18:32:54.485Z"
      },
      {
        "duration": 24,
        "start_time": "2022-01-13T18:32:54.494Z"
      },
      {
        "duration": 6,
        "start_time": "2022-01-13T18:32:54.521Z"
      },
      {
        "duration": 5,
        "start_time": "2022-01-13T18:32:54.530Z"
      },
      {
        "duration": 6,
        "start_time": "2022-01-13T18:32:54.538Z"
      },
      {
        "duration": 7,
        "start_time": "2022-01-13T18:32:54.546Z"
      },
      {
        "duration": 61,
        "start_time": "2022-01-13T18:32:54.555Z"
      },
      {
        "duration": 6,
        "start_time": "2022-01-13T18:32:54.618Z"
      },
      {
        "duration": 3065,
        "start_time": "2022-01-13T18:32:54.626Z"
      },
      {
        "duration": 25,
        "start_time": "2022-01-13T18:32:57.694Z"
      },
      {
        "duration": 10,
        "start_time": "2022-01-13T18:32:57.721Z"
      },
      {
        "duration": 21,
        "start_time": "2022-01-13T18:32:57.733Z"
      },
      {
        "duration": 13,
        "start_time": "2022-01-13T18:32:57.757Z"
      },
      {
        "duration": 45,
        "start_time": "2022-01-13T18:32:57.772Z"
      },
      {
        "duration": 16,
        "start_time": "2022-01-13T18:32:57.827Z"
      },
      {
        "duration": 11,
        "start_time": "2022-01-13T18:32:57.845Z"
      },
      {
        "duration": 78,
        "start_time": "2022-01-13T18:32:57.858Z"
      },
      {
        "duration": 24,
        "start_time": "2022-01-13T18:32:57.939Z"
      },
      {
        "duration": 5,
        "start_time": "2022-01-13T18:32:57.966Z"
      },
      {
        "duration": 71,
        "start_time": "2022-01-13T18:32:57.974Z"
      },
      {
        "duration": 15,
        "start_time": "2022-01-13T18:32:58.048Z"
      },
      {
        "duration": 117,
        "start_time": "2022-01-13T18:32:58.066Z"
      },
      {
        "duration": 4,
        "start_time": "2022-01-13T18:32:58.186Z"
      },
      {
        "duration": 41,
        "start_time": "2022-01-13T18:32:58.193Z"
      },
      {
        "duration": 16,
        "start_time": "2022-01-13T18:32:58.236Z"
      },
      {
        "duration": 72,
        "start_time": "2022-01-13T18:32:58.255Z"
      },
      {
        "duration": 24,
        "start_time": "2022-01-13T18:32:58.330Z"
      },
      {
        "duration": 8,
        "start_time": "2022-01-13T18:32:58.357Z"
      },
      {
        "duration": 10,
        "start_time": "2022-01-13T18:32:58.452Z"
      },
      {
        "duration": 11,
        "start_time": "2022-01-13T18:32:59.337Z"
      },
      {
        "duration": 9,
        "start_time": "2022-01-13T18:33:00.277Z"
      },
      {
        "duration": 10,
        "start_time": "2022-01-13T18:33:00.565Z"
      },
      {
        "duration": 9,
        "start_time": "2022-01-13T18:33:01.924Z"
      },
      {
        "duration": 11,
        "start_time": "2022-01-13T18:33:02.919Z"
      },
      {
        "duration": 17,
        "start_time": "2022-01-13T18:33:03.165Z"
      },
      {
        "duration": 11,
        "start_time": "2022-01-13T18:33:03.627Z"
      },
      {
        "duration": 6,
        "start_time": "2022-01-13T18:33:04.622Z"
      },
      {
        "duration": 12,
        "start_time": "2022-01-13T18:33:09.424Z"
      },
      {
        "duration": 6,
        "start_time": "2022-01-13T18:33:10.009Z"
      },
      {
        "duration": 7,
        "start_time": "2022-01-13T18:33:11.600Z"
      },
      {
        "duration": 4,
        "start_time": "2022-01-13T18:33:12.733Z"
      },
      {
        "duration": 7,
        "start_time": "2022-01-13T18:33:13.111Z"
      },
      {
        "duration": 9,
        "start_time": "2022-01-13T18:33:14.871Z"
      },
      {
        "duration": 42,
        "start_time": "2022-01-13T18:33:15.142Z"
      },
      {
        "duration": 10,
        "start_time": "2022-01-13T18:33:16.080Z"
      },
      {
        "duration": 9,
        "start_time": "2022-01-13T18:33:16.299Z"
      },
      {
        "duration": 9,
        "start_time": "2022-01-13T18:33:16.996Z"
      },
      {
        "duration": 10,
        "start_time": "2022-01-13T18:33:17.793Z"
      },
      {
        "duration": 20,
        "start_time": "2022-01-13T18:33:18.281Z"
      },
      {
        "duration": 9,
        "start_time": "2022-01-13T18:33:18.738Z"
      },
      {
        "duration": 9,
        "start_time": "2022-01-13T18:33:19.459Z"
      },
      {
        "duration": 23,
        "start_time": "2022-01-13T18:33:20.319Z"
      },
      {
        "duration": 10,
        "start_time": "2022-01-13T18:33:20.942Z"
      },
      {
        "duration": 4,
        "start_time": "2022-01-13T18:33:21.808Z"
      },
      {
        "duration": 29,
        "start_time": "2022-01-13T18:33:22.216Z"
      },
      {
        "duration": 24,
        "start_time": "2022-01-13T18:33:23.620Z"
      },
      {
        "duration": 25,
        "start_time": "2022-01-13T18:33:25.292Z"
      },
      {
        "duration": 4,
        "start_time": "2022-01-13T18:33:29.552Z"
      },
      {
        "duration": 4,
        "start_time": "2022-01-13T18:33:30.932Z"
      },
      {
        "duration": 5,
        "start_time": "2022-01-13T18:33:31.223Z"
      },
      {
        "duration": 13,
        "start_time": "2022-01-13T18:33:31.712Z"
      },
      {
        "duration": 9,
        "start_time": "2022-01-13T18:33:32.226Z"
      },
      {
        "duration": 47,
        "start_time": "2022-01-13T18:33:34.096Z"
      },
      {
        "duration": 5,
        "start_time": "2022-01-13T18:33:40.669Z"
      },
      {
        "duration": 6,
        "start_time": "2022-01-13T18:33:41.761Z"
      },
      {
        "duration": 6,
        "start_time": "2022-01-13T18:33:42.452Z"
      },
      {
        "duration": 5,
        "start_time": "2022-01-13T18:33:42.718Z"
      },
      {
        "duration": 11,
        "start_time": "2022-01-13T18:33:45.261Z"
      },
      {
        "duration": 23,
        "start_time": "2022-01-13T18:33:45.969Z"
      },
      {
        "duration": 11,
        "start_time": "2022-01-13T18:33:48.775Z"
      },
      {
        "duration": 6,
        "start_time": "2022-01-13T18:33:49.738Z"
      },
      {
        "duration": 10,
        "start_time": "2022-01-13T18:34:53.172Z"
      },
      {
        "duration": 6,
        "start_time": "2022-01-13T18:34:57.792Z"
      },
      {
        "duration": 37,
        "start_time": "2022-01-13T18:35:03.850Z"
      },
      {
        "duration": 23,
        "start_time": "2022-01-13T18:35:48.892Z"
      },
      {
        "duration": 12,
        "start_time": "2022-01-13T18:35:49.499Z"
      },
      {
        "duration": 7,
        "start_time": "2022-01-13T18:35:50.162Z"
      },
      {
        "duration": 36,
        "start_time": "2022-01-13T18:35:51.003Z"
      },
      {
        "duration": 23,
        "start_time": "2022-01-13T18:36:41.693Z"
      },
      {
        "duration": 10,
        "start_time": "2022-01-13T18:36:45.708Z"
      },
      {
        "duration": 6,
        "start_time": "2022-01-13T18:36:46.508Z"
      },
      {
        "duration": 9,
        "start_time": "2022-01-13T18:38:30.823Z"
      },
      {
        "duration": 13,
        "start_time": "2022-01-13T18:38:39.459Z"
      },
      {
        "duration": 37,
        "start_time": "2022-01-13T18:38:59.356Z"
      },
      {
        "duration": 18,
        "start_time": "2022-01-13T18:39:10.905Z"
      },
      {
        "duration": 14,
        "start_time": "2022-01-13T18:39:19.861Z"
      },
      {
        "duration": 572,
        "start_time": "2022-01-13T18:40:17.733Z"
      },
      {
        "duration": 100,
        "start_time": "2022-01-13T18:41:05.206Z"
      },
      {
        "duration": 598,
        "start_time": "2022-01-13T18:41:35.876Z"
      },
      {
        "duration": 21,
        "start_time": "2022-01-13T18:41:48.778Z"
      },
      {
        "duration": 11,
        "start_time": "2022-01-13T18:41:50.263Z"
      },
      {
        "duration": 35,
        "start_time": "2022-01-13T18:41:53.897Z"
      },
      {
        "duration": 13,
        "start_time": "2022-01-13T18:42:06.195Z"
      },
      {
        "duration": 54,
        "start_time": "2022-01-13T18:42:35.237Z"
      },
      {
        "duration": 1912,
        "start_time": "2022-01-13T18:42:58.790Z"
      },
      {
        "duration": 12,
        "start_time": "2022-01-13T18:43:00.706Z"
      },
      {
        "duration": 25,
        "start_time": "2022-01-13T18:43:00.722Z"
      },
      {
        "duration": 66,
        "start_time": "2022-01-13T18:43:00.751Z"
      },
      {
        "duration": 44,
        "start_time": "2022-01-13T18:43:00.820Z"
      },
      {
        "duration": 65,
        "start_time": "2022-01-13T18:43:00.868Z"
      },
      {
        "duration": 10,
        "start_time": "2022-01-13T18:43:00.935Z"
      },
      {
        "duration": 15,
        "start_time": "2022-01-13T18:43:00.950Z"
      },
      {
        "duration": 13,
        "start_time": "2022-01-13T18:43:01.019Z"
      },
      {
        "duration": 20,
        "start_time": "2022-01-13T18:43:01.035Z"
      },
      {
        "duration": 27,
        "start_time": "2022-01-13T18:43:01.059Z"
      },
      {
        "duration": 13,
        "start_time": "2022-01-13T18:43:01.118Z"
      },
      {
        "duration": 16,
        "start_time": "2022-01-13T18:43:01.135Z"
      },
      {
        "duration": 26,
        "start_time": "2022-01-13T18:43:01.154Z"
      },
      {
        "duration": 45,
        "start_time": "2022-01-13T18:43:01.183Z"
      },
      {
        "duration": 19,
        "start_time": "2022-01-13T18:43:01.231Z"
      },
      {
        "duration": 47,
        "start_time": "2022-01-13T18:43:01.253Z"
      },
      {
        "duration": 20,
        "start_time": "2022-01-13T18:43:01.304Z"
      },
      {
        "duration": 46,
        "start_time": "2022-01-13T18:43:01.327Z"
      },
      {
        "duration": 49,
        "start_time": "2022-01-13T18:43:01.377Z"
      },
      {
        "duration": 21,
        "start_time": "2022-01-13T18:43:01.429Z"
      },
      {
        "duration": 29,
        "start_time": "2022-01-13T18:43:01.452Z"
      },
      {
        "duration": 68,
        "start_time": "2022-01-13T18:43:01.489Z"
      },
      {
        "duration": 37,
        "start_time": "2022-01-13T18:43:01.563Z"
      },
      {
        "duration": 56,
        "start_time": "2022-01-13T18:43:01.603Z"
      },
      {
        "duration": 22,
        "start_time": "2022-01-13T18:43:01.662Z"
      },
      {
        "duration": 29,
        "start_time": "2022-01-13T18:43:01.688Z"
      },
      {
        "duration": 43,
        "start_time": "2022-01-13T18:43:01.720Z"
      },
      {
        "duration": 22,
        "start_time": "2022-01-13T18:43:01.766Z"
      },
      {
        "duration": 35,
        "start_time": "2022-01-13T18:43:01.791Z"
      },
      {
        "duration": 51,
        "start_time": "2022-01-13T18:43:01.829Z"
      },
      {
        "duration": 36,
        "start_time": "2022-01-13T18:43:01.883Z"
      },
      {
        "duration": 5,
        "start_time": "2022-01-13T18:43:01.922Z"
      },
      {
        "duration": 45,
        "start_time": "2022-01-13T18:43:01.930Z"
      },
      {
        "duration": 58,
        "start_time": "2022-01-13T18:43:01.977Z"
      },
      {
        "duration": 26,
        "start_time": "2022-01-13T18:43:02.038Z"
      },
      {
        "duration": 7,
        "start_time": "2022-01-13T18:43:02.067Z"
      },
      {
        "duration": 41,
        "start_time": "2022-01-13T18:43:02.077Z"
      },
      {
        "duration": 11,
        "start_time": "2022-01-13T18:43:02.121Z"
      },
      {
        "duration": 21,
        "start_time": "2022-01-13T18:43:02.135Z"
      },
      {
        "duration": 63,
        "start_time": "2022-01-13T18:43:02.159Z"
      },
      {
        "duration": 70,
        "start_time": "2022-01-13T18:43:02.225Z"
      },
      {
        "duration": 7,
        "start_time": "2022-01-13T18:43:02.318Z"
      },
      {
        "duration": 14,
        "start_time": "2022-01-13T18:43:02.327Z"
      },
      {
        "duration": 7,
        "start_time": "2022-01-13T18:43:02.345Z"
      },
      {
        "duration": 7,
        "start_time": "2022-01-13T18:43:02.356Z"
      },
      {
        "duration": 15,
        "start_time": "2022-01-13T18:43:02.418Z"
      },
      {
        "duration": 39,
        "start_time": "2022-01-13T18:43:02.437Z"
      },
      {
        "duration": 49,
        "start_time": "2022-01-13T18:43:02.479Z"
      },
      {
        "duration": 39,
        "start_time": "2022-01-13T18:43:02.531Z"
      },
      {
        "duration": 56,
        "start_time": "2022-01-13T18:43:02.574Z"
      },
      {
        "duration": 7,
        "start_time": "2022-01-13T18:43:02.633Z"
      },
      {
        "duration": 5,
        "start_time": "2022-01-13T18:43:02.643Z"
      },
      {
        "duration": 14,
        "start_time": "2022-01-13T18:43:02.652Z"
      },
      {
        "duration": 57,
        "start_time": "2022-01-13T18:43:02.670Z"
      },
      {
        "duration": 3,
        "start_time": "2022-01-13T18:43:02.731Z"
      },
      {
        "duration": 11,
        "start_time": "2022-01-13T18:43:02.737Z"
      },
      {
        "duration": 11,
        "start_time": "2022-01-13T18:43:02.751Z"
      },
      {
        "duration": 10,
        "start_time": "2022-01-13T18:43:02.765Z"
      },
      {
        "duration": 10,
        "start_time": "2022-01-13T18:43:02.778Z"
      },
      {
        "duration": 31,
        "start_time": "2022-01-13T18:43:02.818Z"
      },
      {
        "duration": 19,
        "start_time": "2022-01-13T18:43:02.852Z"
      },
      {
        "duration": 48,
        "start_time": "2022-01-13T18:43:02.874Z"
      },
      {
        "duration": 6,
        "start_time": "2022-01-13T18:43:02.925Z"
      },
      {
        "duration": 2303,
        "start_time": "2022-01-13T18:43:02.933Z"
      },
      {
        "duration": 25,
        "start_time": "2022-01-13T18:43:05.239Z"
      },
      {
        "duration": 8,
        "start_time": "2022-01-13T18:43:05.267Z"
      },
      {
        "duration": 34,
        "start_time": "2022-01-13T18:43:05.285Z"
      },
      {
        "duration": 5,
        "start_time": "2022-01-13T18:43:05.323Z"
      },
      {
        "duration": 7,
        "start_time": "2022-01-13T18:43:05.331Z"
      },
      {
        "duration": 6,
        "start_time": "2022-01-13T18:43:05.341Z"
      },
      {
        "duration": 6,
        "start_time": "2022-01-13T18:43:05.349Z"
      },
      {
        "duration": 63,
        "start_time": "2022-01-13T18:43:05.358Z"
      },
      {
        "duration": 6,
        "start_time": "2022-01-13T18:43:05.424Z"
      },
      {
        "duration": 3353,
        "start_time": "2022-01-13T18:43:05.433Z"
      },
      {
        "duration": 10,
        "start_time": "2022-01-13T18:43:08.789Z"
      },
      {
        "duration": 21,
        "start_time": "2022-01-13T18:43:08.801Z"
      },
      {
        "duration": 27,
        "start_time": "2022-01-13T18:43:08.824Z"
      },
      {
        "duration": 13,
        "start_time": "2022-01-13T18:43:08.855Z"
      },
      {
        "duration": 5,
        "start_time": "2022-01-13T18:43:08.870Z"
      },
      {
        "duration": 17,
        "start_time": "2022-01-13T18:43:08.917Z"
      },
      {
        "duration": 13,
        "start_time": "2022-01-13T18:43:08.936Z"
      },
      {
        "duration": 81,
        "start_time": "2022-01-13T18:43:08.952Z"
      },
      {
        "duration": 29,
        "start_time": "2022-01-13T18:43:09.035Z"
      },
      {
        "duration": 6,
        "start_time": "2022-01-13T18:43:09.071Z"
      },
      {
        "duration": 71,
        "start_time": "2022-01-13T18:43:09.080Z"
      },
      {
        "duration": 23,
        "start_time": "2022-01-13T18:43:09.154Z"
      },
      {
        "duration": 128,
        "start_time": "2022-01-13T18:43:15.617Z"
      },
      {
        "duration": 7,
        "start_time": "2022-01-13T18:43:16.272Z"
      },
      {
        "duration": 20,
        "start_time": "2022-01-13T18:43:16.584Z"
      },
      {
        "duration": 14,
        "start_time": "2022-01-13T18:43:17.202Z"
      },
      {
        "duration": 37,
        "start_time": "2022-01-13T18:43:17.785Z"
      },
      {
        "duration": 38,
        "start_time": "2022-01-13T18:43:18.702Z"
      },
      {
        "duration": 8,
        "start_time": "2022-01-13T18:43:19.646Z"
      },
      {
        "duration": 10,
        "start_time": "2022-01-13T18:43:19.936Z"
      },
      {
        "duration": 10,
        "start_time": "2022-01-13T18:43:20.850Z"
      },
      {
        "duration": 10,
        "start_time": "2022-01-13T18:43:21.708Z"
      },
      {
        "duration": 13,
        "start_time": "2022-01-13T18:43:22.007Z"
      },
      {
        "duration": 10,
        "start_time": "2022-01-13T18:43:23.508Z"
      },
      {
        "duration": 13,
        "start_time": "2022-01-13T18:43:24.683Z"
      },
      {
        "duration": 14,
        "start_time": "2022-01-13T18:43:25.061Z"
      },
      {
        "duration": 12,
        "start_time": "2022-01-13T18:43:27.350Z"
      },
      {
        "duration": 7,
        "start_time": "2022-01-13T18:43:27.906Z"
      },
      {
        "duration": 12,
        "start_time": "2022-01-13T18:43:28.455Z"
      },
      {
        "duration": 7,
        "start_time": "2022-01-13T18:43:28.738Z"
      },
      {
        "duration": 8,
        "start_time": "2022-01-13T18:43:29.299Z"
      },
      {
        "duration": 5,
        "start_time": "2022-01-13T18:43:29.870Z"
      },
      {
        "duration": 8,
        "start_time": "2022-01-13T18:43:30.165Z"
      },
      {
        "duration": 9,
        "start_time": "2022-01-13T18:43:31.077Z"
      },
      {
        "duration": 36,
        "start_time": "2022-01-13T18:43:31.449Z"
      },
      {
        "duration": 9,
        "start_time": "2022-01-13T18:43:33.075Z"
      },
      {
        "duration": 10,
        "start_time": "2022-01-13T18:43:33.575Z"
      },
      {
        "duration": 10,
        "start_time": "2022-01-13T18:43:34.707Z"
      },
      {
        "duration": 10,
        "start_time": "2022-01-13T18:43:36.061Z"
      },
      {
        "duration": 19,
        "start_time": "2022-01-13T18:43:36.551Z"
      },
      {
        "duration": 9,
        "start_time": "2022-01-13T18:43:36.907Z"
      },
      {
        "duration": 11,
        "start_time": "2022-01-13T18:43:37.656Z"
      },
      {
        "duration": 32,
        "start_time": "2022-01-13T18:43:38.250Z"
      },
      {
        "duration": 11,
        "start_time": "2022-01-13T18:43:38.560Z"
      },
      {
        "duration": 3,
        "start_time": "2022-01-13T18:43:39.148Z"
      },
      {
        "duration": 28,
        "start_time": "2022-01-13T18:43:39.442Z"
      },
      {
        "duration": 28,
        "start_time": "2022-01-13T18:43:40.038Z"
      },
      {
        "duration": 34,
        "start_time": "2022-01-13T18:43:40.363Z"
      },
      {
        "duration": 4,
        "start_time": "2022-01-13T18:43:42.939Z"
      },
      {
        "duration": 4,
        "start_time": "2022-01-13T18:43:44.472Z"
      },
      {
        "duration": 5,
        "start_time": "2022-01-13T18:43:44.765Z"
      },
      {
        "duration": 13,
        "start_time": "2022-01-13T18:43:45.098Z"
      },
      {
        "duration": 10,
        "start_time": "2022-01-13T18:43:45.601Z"
      },
      {
        "duration": 45,
        "start_time": "2022-01-13T18:43:47.005Z"
      },
      {
        "duration": 5,
        "start_time": "2022-01-13T18:43:47.986Z"
      },
      {
        "duration": 6,
        "start_time": "2022-01-13T18:43:49.234Z"
      },
      {
        "duration": 6,
        "start_time": "2022-01-13T18:43:49.791Z"
      },
      {
        "duration": 7,
        "start_time": "2022-01-13T18:43:50.531Z"
      },
      {
        "duration": 11,
        "start_time": "2022-01-13T18:43:56.452Z"
      },
      {
        "duration": 21,
        "start_time": "2022-01-13T18:43:57.455Z"
      },
      {
        "duration": 11,
        "start_time": "2022-01-13T18:44:00.103Z"
      },
      {
        "duration": 38,
        "start_time": "2022-01-13T18:44:02.699Z"
      },
      {
        "duration": 18,
        "start_time": "2022-01-13T18:44:32.967Z"
      },
      {
        "duration": 27,
        "start_time": "2022-01-13T18:55:15.580Z"
      },
      {
        "duration": 20,
        "start_time": "2022-01-13T18:55:45.646Z"
      },
      {
        "duration": 13,
        "start_time": "2022-01-13T18:55:49.687Z"
      },
      {
        "duration": 27,
        "start_time": "2022-01-13T18:55:55.158Z"
      },
      {
        "duration": 1579,
        "start_time": "2022-01-13T18:56:17.372Z"
      },
      {
        "duration": 5,
        "start_time": "2022-01-13T18:56:18.954Z"
      },
      {
        "duration": 19,
        "start_time": "2022-01-13T18:56:18.964Z"
      },
      {
        "duration": 43,
        "start_time": "2022-01-13T18:56:18.986Z"
      },
      {
        "duration": 34,
        "start_time": "2022-01-13T18:56:19.031Z"
      },
      {
        "duration": 65,
        "start_time": "2022-01-13T18:56:19.067Z"
      },
      {
        "duration": 9,
        "start_time": "2022-01-13T18:56:19.135Z"
      },
      {
        "duration": 17,
        "start_time": "2022-01-13T18:56:19.147Z"
      },
      {
        "duration": 52,
        "start_time": "2022-01-13T18:56:19.167Z"
      },
      {
        "duration": 14,
        "start_time": "2022-01-13T18:56:19.222Z"
      },
      {
        "duration": 12,
        "start_time": "2022-01-13T18:56:19.239Z"
      },
      {
        "duration": 67,
        "start_time": "2022-01-13T18:56:19.254Z"
      },
      {
        "duration": 19,
        "start_time": "2022-01-13T18:56:19.324Z"
      },
      {
        "duration": 22,
        "start_time": "2022-01-13T18:56:19.349Z"
      },
      {
        "duration": 51,
        "start_time": "2022-01-13T18:56:19.374Z"
      },
      {
        "duration": 8,
        "start_time": "2022-01-13T18:56:19.428Z"
      },
      {
        "duration": 20,
        "start_time": "2022-01-13T18:56:19.439Z"
      },
      {
        "duration": 58,
        "start_time": "2022-01-13T18:56:19.464Z"
      },
      {
        "duration": 9,
        "start_time": "2022-01-13T18:56:19.526Z"
      },
      {
        "duration": 12,
        "start_time": "2022-01-13T18:56:19.539Z"
      },
      {
        "duration": 9,
        "start_time": "2022-01-13T18:56:19.554Z"
      },
      {
        "duration": 55,
        "start_time": "2022-01-13T18:56:19.570Z"
      },
      {
        "duration": 49,
        "start_time": "2022-01-13T18:56:19.629Z"
      },
      {
        "duration": 12,
        "start_time": "2022-01-13T18:56:19.717Z"
      },
      {
        "duration": 13,
        "start_time": "2022-01-13T18:56:19.732Z"
      },
      {
        "duration": 16,
        "start_time": "2022-01-13T18:56:19.748Z"
      },
      {
        "duration": 61,
        "start_time": "2022-01-13T18:56:19.768Z"
      },
      {
        "duration": 26,
        "start_time": "2022-01-13T18:56:19.832Z"
      },
      {
        "duration": 55,
        "start_time": "2022-01-13T18:56:19.862Z"
      },
      {
        "duration": 12,
        "start_time": "2022-01-13T18:56:19.920Z"
      },
      {
        "duration": 29,
        "start_time": "2022-01-13T18:56:19.934Z"
      },
      {
        "duration": 55,
        "start_time": "2022-01-13T18:56:19.966Z"
      },
      {
        "duration": 4,
        "start_time": "2022-01-13T18:56:20.024Z"
      },
      {
        "duration": 42,
        "start_time": "2022-01-13T18:56:20.031Z"
      },
      {
        "duration": 69,
        "start_time": "2022-01-13T18:56:20.076Z"
      },
      {
        "duration": 25,
        "start_time": "2022-01-13T18:56:20.148Z"
      },
      {
        "duration": 42,
        "start_time": "2022-01-13T18:56:20.177Z"
      },
      {
        "duration": 7,
        "start_time": "2022-01-13T18:56:20.223Z"
      },
      {
        "duration": 7,
        "start_time": "2022-01-13T18:56:20.234Z"
      },
      {
        "duration": 16,
        "start_time": "2022-01-13T18:56:20.243Z"
      },
      {
        "duration": 59,
        "start_time": "2022-01-13T18:56:20.262Z"
      },
      {
        "duration": 67,
        "start_time": "2022-01-13T18:56:20.324Z"
      },
      {
        "duration": 27,
        "start_time": "2022-01-13T18:56:20.394Z"
      },
      {
        "duration": 8,
        "start_time": "2022-01-13T18:56:20.423Z"
      },
      {
        "duration": 7,
        "start_time": "2022-01-13T18:56:20.435Z"
      },
      {
        "duration": 6,
        "start_time": "2022-01-13T18:56:20.445Z"
      },
      {
        "duration": 70,
        "start_time": "2022-01-13T18:56:20.454Z"
      },
      {
        "duration": 22,
        "start_time": "2022-01-13T18:56:20.526Z"
      },
      {
        "duration": 10,
        "start_time": "2022-01-13T18:56:20.551Z"
      },
      {
        "duration": 75,
        "start_time": "2022-01-13T18:56:20.564Z"
      },
      {
        "duration": 17,
        "start_time": "2022-01-13T18:56:20.642Z"
      },
      {
        "duration": 27,
        "start_time": "2022-01-13T18:56:20.662Z"
      },
      {
        "duration": 26,
        "start_time": "2022-01-13T18:56:20.692Z"
      },
      {
        "duration": 44,
        "start_time": "2022-01-13T18:56:20.721Z"
      },
      {
        "duration": 10,
        "start_time": "2022-01-13T18:56:20.768Z"
      },
      {
        "duration": 6,
        "start_time": "2022-01-13T18:56:20.781Z"
      },
      {
        "duration": 14,
        "start_time": "2022-01-13T18:56:20.789Z"
      },
      {
        "duration": 4,
        "start_time": "2022-01-13T18:56:20.806Z"
      },
      {
        "duration": 5,
        "start_time": "2022-01-13T18:56:20.816Z"
      },
      {
        "duration": 7,
        "start_time": "2022-01-13T18:56:20.824Z"
      },
      {
        "duration": 21,
        "start_time": "2022-01-13T18:56:20.834Z"
      },
      {
        "duration": 68,
        "start_time": "2022-01-13T18:56:20.858Z"
      },
      {
        "duration": 9,
        "start_time": "2022-01-13T18:56:20.929Z"
      },
      {
        "duration": 3,
        "start_time": "2022-01-13T18:56:20.945Z"
      },
      {
        "duration": 2477,
        "start_time": "2022-01-13T18:56:20.951Z"
      },
      {
        "duration": 22,
        "start_time": "2022-01-13T18:56:23.431Z"
      },
      {
        "duration": 8,
        "start_time": "2022-01-13T18:56:23.467Z"
      },
      {
        "duration": 4,
        "start_time": "2022-01-13T18:56:23.518Z"
      },
      {
        "duration": 12,
        "start_time": "2022-01-13T18:56:23.525Z"
      },
      {
        "duration": 10,
        "start_time": "2022-01-13T18:56:23.540Z"
      },
      {
        "duration": 5,
        "start_time": "2022-01-13T18:56:23.553Z"
      },
      {
        "duration": 6,
        "start_time": "2022-01-13T18:56:23.562Z"
      },
      {
        "duration": 55,
        "start_time": "2022-01-13T18:56:23.571Z"
      },
      {
        "duration": 9,
        "start_time": "2022-01-13T18:56:23.629Z"
      },
      {
        "duration": 3489,
        "start_time": "2022-01-13T18:56:23.641Z"
      },
      {
        "duration": 9,
        "start_time": "2022-01-13T18:56:27.133Z"
      },
      {
        "duration": 29,
        "start_time": "2022-01-13T18:56:27.145Z"
      },
      {
        "duration": 22,
        "start_time": "2022-01-13T18:56:27.176Z"
      },
      {
        "duration": 11,
        "start_time": "2022-01-13T18:56:27.201Z"
      },
      {
        "duration": 4,
        "start_time": "2022-01-13T18:56:27.215Z"
      },
      {
        "duration": 18,
        "start_time": "2022-01-13T18:56:27.221Z"
      },
      {
        "duration": 14,
        "start_time": "2022-01-13T18:56:27.242Z"
      },
      {
        "duration": 65,
        "start_time": "2022-01-13T18:56:27.258Z"
      },
      {
        "duration": 22,
        "start_time": "2022-01-13T18:56:27.325Z"
      },
      {
        "duration": 6,
        "start_time": "2022-01-13T18:56:27.350Z"
      },
      {
        "duration": 81,
        "start_time": "2022-01-13T18:56:27.358Z"
      },
      {
        "duration": 16,
        "start_time": "2022-01-13T18:56:27.441Z"
      },
      {
        "duration": 125,
        "start_time": "2022-01-13T18:56:27.517Z"
      },
      {
        "duration": 6,
        "start_time": "2022-01-13T18:56:27.935Z"
      },
      {
        "duration": 22,
        "start_time": "2022-01-13T18:56:27.944Z"
      },
      {
        "duration": 54,
        "start_time": "2022-01-13T18:56:27.969Z"
      },
      {
        "duration": 109,
        "start_time": "2022-01-13T18:56:28.027Z"
      },
      {
        "duration": 80,
        "start_time": "2022-01-13T18:56:28.139Z"
      },
      {
        "duration": 8,
        "start_time": "2022-01-13T18:56:28.826Z"
      },
      {
        "duration": 9,
        "start_time": "2022-01-13T18:56:29.125Z"
      },
      {
        "duration": 10,
        "start_time": "2022-01-13T18:56:29.679Z"
      },
      {
        "duration": 10,
        "start_time": "2022-01-13T18:56:30.226Z"
      },
      {
        "duration": 24,
        "start_time": "2022-01-13T18:56:30.428Z"
      },
      {
        "duration": 9,
        "start_time": "2022-01-13T18:56:31.654Z"
      },
      {
        "duration": 11,
        "start_time": "2022-01-13T18:56:32.883Z"
      },
      {
        "duration": 15,
        "start_time": "2022-01-13T18:56:33.083Z"
      },
      {
        "duration": 11,
        "start_time": "2022-01-13T18:56:33.291Z"
      },
      {
        "duration": 7,
        "start_time": "2022-01-13T18:56:34.007Z"
      },
      {
        "duration": 12,
        "start_time": "2022-01-13T18:56:34.790Z"
      },
      {
        "duration": 7,
        "start_time": "2022-01-13T18:56:35.036Z"
      },
      {
        "duration": 8,
        "start_time": "2022-01-13T18:56:35.406Z"
      },
      {
        "duration": 6,
        "start_time": "2022-01-13T18:56:35.986Z"
      },
      {
        "duration": 8,
        "start_time": "2022-01-13T18:56:36.425Z"
      },
      {
        "duration": 9,
        "start_time": "2022-01-13T18:56:38.285Z"
      },
      {
        "duration": 55,
        "start_time": "2022-01-13T18:56:38.750Z"
      },
      {
        "duration": 9,
        "start_time": "2022-01-13T18:56:40.223Z"
      },
      {
        "duration": 12,
        "start_time": "2022-01-13T18:56:40.889Z"
      },
      {
        "duration": 9,
        "start_time": "2022-01-13T18:56:41.649Z"
      },
      {
        "duration": 9,
        "start_time": "2022-01-13T18:56:43.815Z"
      },
      {
        "duration": 20,
        "start_time": "2022-01-13T18:56:44.341Z"
      },
      {
        "duration": 10,
        "start_time": "2022-01-13T18:56:46.490Z"
      },
      {
        "duration": 9,
        "start_time": "2022-01-13T18:56:47.327Z"
      },
      {
        "duration": 29,
        "start_time": "2022-01-13T18:56:48.198Z"
      },
      {
        "duration": 12,
        "start_time": "2022-01-13T18:56:48.506Z"
      },
      {
        "duration": 4,
        "start_time": "2022-01-13T18:56:49.011Z"
      },
      {
        "duration": 28,
        "start_time": "2022-01-13T18:56:49.342Z"
      },
      {
        "duration": 26,
        "start_time": "2022-01-13T18:56:56.320Z"
      },
      {
        "duration": 23,
        "start_time": "2022-01-13T18:56:56.808Z"
      },
      {
        "duration": 4,
        "start_time": "2022-01-13T18:57:03.445Z"
      },
      {
        "duration": 3,
        "start_time": "2022-01-13T18:57:07.011Z"
      },
      {
        "duration": 5,
        "start_time": "2022-01-13T18:57:07.822Z"
      },
      {
        "duration": 13,
        "start_time": "2022-01-13T18:57:11.066Z"
      },
      {
        "duration": 10,
        "start_time": "2022-01-13T18:57:11.892Z"
      },
      {
        "duration": 45,
        "start_time": "2022-01-13T18:57:17.555Z"
      },
      {
        "duration": 6,
        "start_time": "2022-01-13T18:57:21.296Z"
      },
      {
        "duration": 6,
        "start_time": "2022-01-13T18:57:22.574Z"
      },
      {
        "duration": 5,
        "start_time": "2022-01-13T18:57:22.947Z"
      },
      {
        "duration": 6,
        "start_time": "2022-01-13T18:57:23.424Z"
      },
      {
        "duration": 10,
        "start_time": "2022-01-13T18:57:28.016Z"
      },
      {
        "duration": 20,
        "start_time": "2022-01-13T18:57:32.882Z"
      },
      {
        "duration": 10,
        "start_time": "2022-01-13T18:57:37.247Z"
      },
      {
        "duration": 20,
        "start_time": "2022-01-13T18:57:38.302Z"
      },
      {
        "duration": 25,
        "start_time": "2022-01-13T18:57:52.044Z"
      },
      {
        "duration": 3,
        "start_time": "2022-01-13T18:58:05.160Z"
      },
      {
        "duration": 15,
        "start_time": "2022-01-13T18:58:07.342Z"
      },
      {
        "duration": 38,
        "start_time": "2022-01-13T19:00:20.532Z"
      },
      {
        "duration": 15,
        "start_time": "2022-01-13T19:00:25.656Z"
      },
      {
        "duration": 38,
        "start_time": "2022-01-13T19:02:02.471Z"
      },
      {
        "duration": 40,
        "start_time": "2022-01-13T19:02:03.389Z"
      },
      {
        "duration": 1750,
        "start_time": "2022-01-13T19:02:14.812Z"
      },
      {
        "duration": -175,
        "start_time": "2022-01-13T19:02:16.741Z"
      },
      {
        "duration": 23,
        "start_time": "2022-01-13T19:02:17.237Z"
      },
      {
        "duration": 1144,
        "start_time": "2022-01-13T19:02:48.953Z"
      },
      {
        "duration": 1647,
        "start_time": "2022-01-13T19:03:13.398Z"
      },
      {
        "duration": 6,
        "start_time": "2022-01-13T19:03:15.048Z"
      },
      {
        "duration": 55,
        "start_time": "2022-01-13T19:03:15.062Z"
      },
      {
        "duration": 19,
        "start_time": "2022-01-13T19:03:15.120Z"
      },
      {
        "duration": 77,
        "start_time": "2022-01-13T19:03:15.142Z"
      },
      {
        "duration": 23,
        "start_time": "2022-01-13T19:03:15.221Z"
      },
      {
        "duration": 10,
        "start_time": "2022-01-13T19:03:15.248Z"
      },
      {
        "duration": 10,
        "start_time": "2022-01-13T19:03:15.261Z"
      },
      {
        "duration": 10,
        "start_time": "2022-01-13T19:03:15.316Z"
      },
      {
        "duration": 12,
        "start_time": "2022-01-13T19:03:15.328Z"
      },
      {
        "duration": 14,
        "start_time": "2022-01-13T19:03:15.342Z"
      },
      {
        "duration": 66,
        "start_time": "2022-01-13T19:03:15.359Z"
      },
      {
        "duration": 13,
        "start_time": "2022-01-13T19:03:15.428Z"
      },
      {
        "duration": 16,
        "start_time": "2022-01-13T19:03:15.444Z"
      },
      {
        "duration": 56,
        "start_time": "2022-01-13T19:03:15.462Z"
      },
      {
        "duration": 12,
        "start_time": "2022-01-13T19:03:15.521Z"
      },
      {
        "duration": 13,
        "start_time": "2022-01-13T19:03:15.535Z"
      },
      {
        "duration": 6,
        "start_time": "2022-01-13T19:03:15.551Z"
      },
      {
        "duration": 17,
        "start_time": "2022-01-13T19:03:15.559Z"
      },
      {
        "duration": 5,
        "start_time": "2022-01-13T19:03:15.617Z"
      },
      {
        "duration": 12,
        "start_time": "2022-01-13T19:03:15.624Z"
      },
      {
        "duration": 9,
        "start_time": "2022-01-13T19:03:15.645Z"
      },
      {
        "duration": 89,
        "start_time": "2022-01-13T19:03:15.659Z"
      },
      {
        "duration": 9,
        "start_time": "2022-01-13T19:03:15.750Z"
      },
      {
        "duration": 9,
        "start_time": "2022-01-13T19:03:15.761Z"
      },
      {
        "duration": 49,
        "start_time": "2022-01-13T19:03:15.772Z"
      },
      {
        "duration": 15,
        "start_time": "2022-01-13T19:03:15.823Z"
      },
      {
        "duration": 20,
        "start_time": "2022-01-13T19:03:15.840Z"
      },
      {
        "duration": 9,
        "start_time": "2022-01-13T19:03:15.862Z"
      },
      {
        "duration": 10,
        "start_time": "2022-01-13T19:03:15.918Z"
      },
      {
        "duration": 26,
        "start_time": "2022-01-13T19:03:15.930Z"
      },
      {
        "duration": 10,
        "start_time": "2022-01-13T19:03:15.958Z"
      },
      {
        "duration": 47,
        "start_time": "2022-01-13T19:03:15.970Z"
      },
      {
        "duration": 30,
        "start_time": "2022-01-13T19:03:16.020Z"
      },
      {
        "duration": 25,
        "start_time": "2022-01-13T19:03:16.052Z"
      },
      {
        "duration": 57,
        "start_time": "2022-01-13T19:03:16.080Z"
      },
      {
        "duration": 6,
        "start_time": "2022-01-13T19:03:16.140Z"
      },
      {
        "duration": 5,
        "start_time": "2022-01-13T19:03:16.149Z"
      },
      {
        "duration": 6,
        "start_time": "2022-01-13T19:03:16.157Z"
      },
      {
        "duration": 68,
        "start_time": "2022-01-13T19:03:16.166Z"
      },
      {
        "duration": 14,
        "start_time": "2022-01-13T19:03:16.237Z"
      },
      {
        "duration": 100,
        "start_time": "2022-01-13T19:03:16.254Z"
      },
      {
        "duration": 6,
        "start_time": "2022-01-13T19:03:16.356Z"
      },
      {
        "duration": 7,
        "start_time": "2022-01-13T19:03:16.364Z"
      },
      {
        "duration": 43,
        "start_time": "2022-01-13T19:03:16.374Z"
      },
      {
        "duration": 6,
        "start_time": "2022-01-13T19:03:16.420Z"
      },
      {
        "duration": 11,
        "start_time": "2022-01-13T19:03:16.428Z"
      },
      {
        "duration": 21,
        "start_time": "2022-01-13T19:03:16.442Z"
      },
      {
        "duration": 35,
        "start_time": "2022-01-13T19:03:16.517Z"
      },
      {
        "duration": 14,
        "start_time": "2022-01-13T19:03:16.555Z"
      },
      {
        "duration": 45,
        "start_time": "2022-01-13T19:03:16.572Z"
      },
      {
        "duration": 4,
        "start_time": "2022-01-13T19:03:16.620Z"
      },
      {
        "duration": 13,
        "start_time": "2022-01-13T19:03:16.627Z"
      },
      {
        "duration": 10,
        "start_time": "2022-01-13T19:03:16.643Z"
      },
      {
        "duration": 3,
        "start_time": "2022-01-13T19:03:16.655Z"
      },
      {
        "duration": 9,
        "start_time": "2022-01-13T19:03:16.660Z"
      },
      {
        "duration": 48,
        "start_time": "2022-01-13T19:03:16.671Z"
      },
      {
        "duration": 6,
        "start_time": "2022-01-13T19:03:16.722Z"
      },
      {
        "duration": 6,
        "start_time": "2022-01-13T19:03:16.730Z"
      },
      {
        "duration": 18,
        "start_time": "2022-01-13T19:03:16.739Z"
      },
      {
        "duration": 62,
        "start_time": "2022-01-13T19:03:16.760Z"
      },
      {
        "duration": 8,
        "start_time": "2022-01-13T19:03:16.826Z"
      },
      {
        "duration": 4,
        "start_time": "2022-01-13T19:03:16.837Z"
      },
      {
        "duration": 2084,
        "start_time": "2022-01-13T19:03:16.843Z"
      },
      {
        "duration": 21,
        "start_time": "2022-01-13T19:03:18.930Z"
      },
      {
        "duration": 8,
        "start_time": "2022-01-13T19:03:18.955Z"
      },
      {
        "duration": 3,
        "start_time": "2022-01-13T19:03:19.019Z"
      },
      {
        "duration": 5,
        "start_time": "2022-01-13T19:03:19.026Z"
      },
      {
        "duration": 5,
        "start_time": "2022-01-13T19:03:19.034Z"
      },
      {
        "duration": 5,
        "start_time": "2022-01-13T19:03:19.042Z"
      },
      {
        "duration": 6,
        "start_time": "2022-01-13T19:03:19.050Z"
      },
      {
        "duration": 58,
        "start_time": "2022-01-13T19:03:19.059Z"
      },
      {
        "duration": 9,
        "start_time": "2022-01-13T19:03:19.120Z"
      },
      {
        "duration": 3136,
        "start_time": "2022-01-13T19:03:19.132Z"
      },
      {
        "duration": 12,
        "start_time": "2022-01-13T19:03:22.271Z"
      },
      {
        "duration": 33,
        "start_time": "2022-01-13T19:03:22.286Z"
      },
      {
        "duration": 18,
        "start_time": "2022-01-13T19:03:22.322Z"
      },
      {
        "duration": 12,
        "start_time": "2022-01-13T19:03:22.342Z"
      },
      {
        "duration": 5,
        "start_time": "2022-01-13T19:03:22.357Z"
      },
      {
        "duration": 68,
        "start_time": "2022-01-13T19:03:22.365Z"
      },
      {
        "duration": 11,
        "start_time": "2022-01-13T19:03:22.437Z"
      },
      {
        "duration": 65,
        "start_time": "2022-01-13T19:03:22.451Z"
      },
      {
        "duration": 22,
        "start_time": "2022-01-13T19:03:22.519Z"
      },
      {
        "duration": 5,
        "start_time": "2022-01-13T19:03:22.543Z"
      },
      {
        "duration": 68,
        "start_time": "2022-01-13T19:03:22.550Z"
      },
      {
        "duration": 17,
        "start_time": "2022-01-13T19:03:22.621Z"
      },
      {
        "duration": 24,
        "start_time": "2022-01-13T19:03:51.496Z"
      },
      {
        "duration": 51,
        "start_time": "2022-01-13T19:03:53.166Z"
      },
      {
        "duration": 6,
        "start_time": "2022-01-13T19:04:25.658Z"
      },
      {
        "duration": 10,
        "start_time": "2022-01-13T19:04:31.542Z"
      },
      {
        "duration": 409,
        "start_time": "2022-01-13T19:04:40.362Z"
      },
      {
        "duration": 22,
        "start_time": "2022-01-13T19:05:00.870Z"
      },
      {
        "duration": 9,
        "start_time": "2022-01-13T19:05:21.921Z"
      },
      {
        "duration": 20,
        "start_time": "2022-01-13T19:06:14.666Z"
      },
      {
        "duration": 7,
        "start_time": "2022-01-13T19:06:53.249Z"
      },
      {
        "duration": 13,
        "start_time": "2022-01-13T19:07:04.488Z"
      },
      {
        "duration": 20,
        "start_time": "2022-01-13T19:07:45.126Z"
      },
      {
        "duration": 14,
        "start_time": "2022-01-13T19:07:53.522Z"
      },
      {
        "duration": 7,
        "start_time": "2022-01-13T19:07:55.790Z"
      },
      {
        "duration": 3,
        "start_time": "2022-01-13T19:07:56.256Z"
      },
      {
        "duration": 5,
        "start_time": "2022-01-13T19:07:56.612Z"
      },
      {
        "duration": 17,
        "start_time": "2022-01-13T19:07:56.904Z"
      },
      {
        "duration": 6,
        "start_time": "2022-01-13T19:07:57.169Z"
      },
      {
        "duration": 4,
        "start_time": "2022-01-13T19:07:57.842Z"
      },
      {
        "duration": 4,
        "start_time": "2022-01-13T19:07:58.054Z"
      },
      {
        "duration": 3,
        "start_time": "2022-01-13T19:07:58.276Z"
      },
      {
        "duration": 3,
        "start_time": "2022-01-13T19:07:58.494Z"
      },
      {
        "duration": 5,
        "start_time": "2022-01-13T19:07:58.917Z"
      },
      {
        "duration": 7,
        "start_time": "2022-01-13T19:07:59.509Z"
      },
      {
        "duration": 6,
        "start_time": "2022-01-13T19:08:00.466Z"
      },
      {
        "duration": 3020,
        "start_time": "2022-01-13T19:08:00.746Z"
      },
      {
        "duration": 11,
        "start_time": "2022-01-13T19:08:03.769Z"
      },
      {
        "duration": 7,
        "start_time": "2022-01-13T19:08:03.783Z"
      },
      {
        "duration": 36,
        "start_time": "2022-01-13T19:08:03.792Z"
      },
      {
        "duration": 11,
        "start_time": "2022-01-13T19:08:03.830Z"
      },
      {
        "duration": 4,
        "start_time": "2022-01-13T19:08:03.843Z"
      },
      {
        "duration": 68,
        "start_time": "2022-01-13T19:08:03.850Z"
      },
      {
        "duration": 9,
        "start_time": "2022-01-13T19:08:03.922Z"
      },
      {
        "duration": 19,
        "start_time": "2022-01-13T19:08:03.934Z"
      },
      {
        "duration": 23,
        "start_time": "2022-01-13T19:08:06.489Z"
      },
      {
        "duration": 5,
        "start_time": "2022-01-13T19:08:08.656Z"
      },
      {
        "duration": 23,
        "start_time": "2022-01-13T19:08:19.767Z"
      },
      {
        "duration": 18,
        "start_time": "2022-01-13T19:08:46.159Z"
      },
      {
        "duration": 10,
        "start_time": "2022-01-13T19:23:14.305Z"
      },
      {
        "duration": 6,
        "start_time": "2022-01-13T19:23:28.633Z"
      },
      {
        "duration": 82,
        "start_time": "2022-01-13T19:49:15.018Z"
      },
      {
        "duration": 420,
        "start_time": "2022-01-13T19:49:44.155Z"
      },
      {
        "duration": 20,
        "start_time": "2022-01-13T19:50:10.192Z"
      },
      {
        "duration": 11,
        "start_time": "2022-01-13T19:50:18.335Z"
      },
      {
        "duration": 13,
        "start_time": "2022-01-13T19:50:21.405Z"
      },
      {
        "duration": 5,
        "start_time": "2022-01-13T19:50:55.475Z"
      },
      {
        "duration": 11,
        "start_time": "2022-01-13T19:51:04.229Z"
      },
      {
        "duration": 12,
        "start_time": "2022-01-13T19:51:08.164Z"
      },
      {
        "duration": 15,
        "start_time": "2022-01-13T19:53:47.633Z"
      },
      {
        "duration": 3,
        "start_time": "2022-01-13T19:54:02.736Z"
      },
      {
        "duration": 14,
        "start_time": "2022-01-13T19:55:03.031Z"
      },
      {
        "duration": 8,
        "start_time": "2022-01-13T19:55:13.323Z"
      },
      {
        "duration": 4,
        "start_time": "2022-01-13T19:55:15.636Z"
      },
      {
        "duration": 5,
        "start_time": "2022-01-13T19:55:29.677Z"
      },
      {
        "duration": 21,
        "start_time": "2022-01-13T19:55:32.458Z"
      },
      {
        "duration": 7,
        "start_time": "2022-01-13T19:55:34.423Z"
      },
      {
        "duration": 3,
        "start_time": "2022-01-13T19:55:59.419Z"
      },
      {
        "duration": 4,
        "start_time": "2022-01-13T19:56:00.351Z"
      },
      {
        "duration": 9,
        "start_time": "2022-01-13T19:56:00.946Z"
      },
      {
        "duration": 4,
        "start_time": "2022-01-13T19:56:01.455Z"
      },
      {
        "duration": 4,
        "start_time": "2022-01-13T19:56:11.355Z"
      },
      {
        "duration": 6,
        "start_time": "2022-01-13T19:56:15.968Z"
      },
      {
        "duration": 6,
        "start_time": "2022-01-13T19:57:04.345Z"
      },
      {
        "duration": 3088,
        "start_time": "2022-01-13T19:57:04.946Z"
      },
      {
        "duration": 10,
        "start_time": "2022-01-13T19:57:08.037Z"
      },
      {
        "duration": 7,
        "start_time": "2022-01-13T19:57:17.649Z"
      },
      {
        "duration": 4,
        "start_time": "2022-01-13T19:58:28.318Z"
      },
      {
        "duration": 12,
        "start_time": "2022-01-13T19:59:06.508Z"
      },
      {
        "duration": 12,
        "start_time": "2022-01-13T20:00:09.327Z"
      },
      {
        "duration": 7,
        "start_time": "2022-01-13T20:00:42.302Z"
      },
      {
        "duration": 93,
        "start_time": "2022-01-13T20:01:02.478Z"
      },
      {
        "duration": 280,
        "start_time": "2022-01-13T20:01:06.198Z"
      },
      {
        "duration": 329,
        "start_time": "2022-01-13T20:01:13.785Z"
      },
      {
        "duration": 7,
        "start_time": "2022-01-13T20:01:24.210Z"
      },
      {
        "duration": 4,
        "start_time": "2022-01-13T20:01:51.852Z"
      },
      {
        "duration": 14,
        "start_time": "2022-01-13T20:01:52.505Z"
      },
      {
        "duration": 10,
        "start_time": "2022-01-13T20:01:53.325Z"
      },
      {
        "duration": 25,
        "start_time": "2022-01-13T20:02:03.158Z"
      },
      {
        "duration": 23,
        "start_time": "2022-01-13T20:02:17.338Z"
      },
      {
        "duration": 5,
        "start_time": "2022-01-13T20:02:34.873Z"
      },
      {
        "duration": 27,
        "start_time": "2022-01-13T20:02:42.918Z"
      },
      {
        "duration": 17,
        "start_time": "2022-01-13T20:02:46.920Z"
      },
      {
        "duration": 1668,
        "start_time": "2022-01-13T20:05:54.782Z"
      },
      {
        "duration": 6,
        "start_time": "2022-01-13T20:05:56.453Z"
      },
      {
        "duration": 20,
        "start_time": "2022-01-13T20:05:56.462Z"
      },
      {
        "duration": 45,
        "start_time": "2022-01-13T20:05:56.486Z"
      },
      {
        "duration": 34,
        "start_time": "2022-01-13T20:05:56.534Z"
      },
      {
        "duration": 59,
        "start_time": "2022-01-13T20:05:56.570Z"
      },
      {
        "duration": 8,
        "start_time": "2022-01-13T20:05:56.631Z"
      },
      {
        "duration": 15,
        "start_time": "2022-01-13T20:05:56.643Z"
      },
      {
        "duration": 9,
        "start_time": "2022-01-13T20:05:56.661Z"
      },
      {
        "duration": 51,
        "start_time": "2022-01-13T20:05:56.673Z"
      },
      {
        "duration": 12,
        "start_time": "2022-01-13T20:05:56.726Z"
      },
      {
        "duration": 12,
        "start_time": "2022-01-13T20:05:56.740Z"
      },
      {
        "duration": 11,
        "start_time": "2022-01-13T20:05:56.754Z"
      },
      {
        "duration": 14,
        "start_time": "2022-01-13T20:05:56.818Z"
      },
      {
        "duration": 20,
        "start_time": "2022-01-13T20:05:56.834Z"
      },
      {
        "duration": 13,
        "start_time": "2022-01-13T20:05:56.856Z"
      },
      {
        "duration": 48,
        "start_time": "2022-01-13T20:05:56.871Z"
      },
      {
        "duration": 5,
        "start_time": "2022-01-13T20:05:56.922Z"
      },
      {
        "duration": 9,
        "start_time": "2022-01-13T20:05:56.929Z"
      },
      {
        "duration": 5,
        "start_time": "2022-01-13T20:05:56.940Z"
      },
      {
        "duration": 9,
        "start_time": "2022-01-13T20:05:56.947Z"
      },
      {
        "duration": 9,
        "start_time": "2022-01-13T20:05:56.958Z"
      },
      {
        "duration": 36,
        "start_time": "2022-01-13T20:05:57.017Z"
      },
      {
        "duration": 10,
        "start_time": "2022-01-13T20:05:57.057Z"
      },
      {
        "duration": 53,
        "start_time": "2022-01-13T20:05:57.069Z"
      },
      {
        "duration": 9,
        "start_time": "2022-01-13T20:05:57.125Z"
      },
      {
        "duration": 12,
        "start_time": "2022-01-13T20:05:57.137Z"
      },
      {
        "duration": 21,
        "start_time": "2022-01-13T20:05:57.151Z"
      },
      {
        "duration": 9,
        "start_time": "2022-01-13T20:05:57.218Z"
      },
      {
        "duration": 24,
        "start_time": "2022-01-13T20:05:57.229Z"
      },
      {
        "duration": 27,
        "start_time": "2022-01-13T20:05:57.257Z"
      },
      {
        "duration": 40,
        "start_time": "2022-01-13T20:05:57.286Z"
      },
      {
        "duration": 3,
        "start_time": "2022-01-13T20:05:57.328Z"
      },
      {
        "duration": 30,
        "start_time": "2022-01-13T20:05:57.334Z"
      },
      {
        "duration": 71,
        "start_time": "2022-01-13T20:05:57.366Z"
      },
      {
        "duration": 24,
        "start_time": "2022-01-13T20:05:57.439Z"
      },
      {
        "duration": 6,
        "start_time": "2022-01-13T20:05:57.466Z"
      },
      {
        "duration": 11,
        "start_time": "2022-01-13T20:05:57.474Z"
      },
      {
        "duration": 5,
        "start_time": "2022-01-13T20:05:57.518Z"
      },
      {
        "duration": 18,
        "start_time": "2022-01-13T20:05:57.525Z"
      },
      {
        "duration": 14,
        "start_time": "2022-01-13T20:05:57.545Z"
      },
      {
        "duration": 86,
        "start_time": "2022-01-13T20:05:57.562Z"
      },
      {
        "duration": 5,
        "start_time": "2022-01-13T20:05:57.651Z"
      },
      {
        "duration": 9,
        "start_time": "2022-01-13T20:05:57.658Z"
      },
      {
        "duration": 5,
        "start_time": "2022-01-13T20:05:57.669Z"
      },
      {
        "duration": 43,
        "start_time": "2022-01-13T20:05:57.677Z"
      },
      {
        "duration": 11,
        "start_time": "2022-01-13T20:05:57.723Z"
      },
      {
        "duration": 25,
        "start_time": "2022-01-13T20:05:57.736Z"
      },
      {
        "duration": 55,
        "start_time": "2022-01-13T20:05:57.764Z"
      },
      {
        "duration": 7,
        "start_time": "2022-01-13T20:05:57.822Z"
      },
      {
        "duration": 12,
        "start_time": "2022-01-13T20:05:57.831Z"
      },
      {
        "duration": 9,
        "start_time": "2022-01-13T20:05:57.845Z"
      },
      {
        "duration": 3,
        "start_time": "2022-01-13T20:05:57.856Z"
      },
      {
        "duration": 7,
        "start_time": "2022-01-13T20:05:57.861Z"
      },
      {
        "duration": 3,
        "start_time": "2022-01-13T20:05:57.918Z"
      },
      {
        "duration": 8,
        "start_time": "2022-01-13T20:05:57.923Z"
      },
      {
        "duration": 5,
        "start_time": "2022-01-13T20:05:57.933Z"
      },
      {
        "duration": 18,
        "start_time": "2022-01-13T20:05:57.941Z"
      },
      {
        "duration": 55,
        "start_time": "2022-01-13T20:05:57.962Z"
      },
      {
        "duration": 7,
        "start_time": "2022-01-13T20:05:58.019Z"
      },
      {
        "duration": 3,
        "start_time": "2022-01-13T20:05:58.028Z"
      },
      {
        "duration": 2201,
        "start_time": "2022-01-13T20:05:58.034Z"
      },
      {
        "duration": 16,
        "start_time": "2022-01-13T20:06:00.238Z"
      },
      {
        "duration": 12,
        "start_time": "2022-01-13T20:06:00.257Z"
      },
      {
        "duration": 34,
        "start_time": "2022-01-13T20:06:00.271Z"
      },
      {
        "duration": 23,
        "start_time": "2022-01-13T20:06:00.308Z"
      },
      {
        "duration": 57,
        "start_time": "2022-01-13T20:06:00.333Z"
      },
      {
        "duration": 20,
        "start_time": "2022-01-13T20:06:00.397Z"
      },
      {
        "duration": 24,
        "start_time": "2022-01-13T20:06:00.420Z"
      },
      {
        "duration": 53,
        "start_time": "2022-01-13T20:06:00.446Z"
      },
      {
        "duration": 31,
        "start_time": "2022-01-13T20:06:00.502Z"
      },
      {
        "duration": 3171,
        "start_time": "2022-01-13T20:06:00.535Z"
      },
      {
        "duration": 13,
        "start_time": "2022-01-13T20:06:03.709Z"
      },
      {
        "duration": 15,
        "start_time": "2022-01-13T20:06:03.724Z"
      },
      {
        "duration": 24,
        "start_time": "2022-01-13T20:06:03.741Z"
      },
      {
        "duration": 5,
        "start_time": "2022-01-13T20:06:03.767Z"
      },
      {
        "duration": 52,
        "start_time": "2022-01-13T20:06:03.774Z"
      },
      {
        "duration": 19,
        "start_time": "2022-01-13T20:06:03.828Z"
      },
      {
        "duration": 32,
        "start_time": "2022-01-13T20:06:03.850Z"
      },
      {
        "duration": 42,
        "start_time": "2022-01-13T20:06:03.884Z"
      },
      {
        "duration": 5,
        "start_time": "2022-01-13T20:06:03.928Z"
      },
      {
        "duration": 35,
        "start_time": "2022-01-13T20:06:03.936Z"
      },
      {
        "duration": 53,
        "start_time": "2022-01-13T20:06:03.973Z"
      },
      {
        "duration": 5,
        "start_time": "2022-01-13T20:07:02.752Z"
      },
      {
        "duration": 6,
        "start_time": "2022-01-13T20:07:22.697Z"
      },
      {
        "duration": 89,
        "start_time": "2022-01-13T20:08:46.243Z"
      },
      {
        "duration": 5,
        "start_time": "2022-01-13T20:08:57.641Z"
      },
      {
        "duration": 5,
        "start_time": "2022-01-13T20:09:20.276Z"
      },
      {
        "duration": 9,
        "start_time": "2022-01-13T20:09:57.207Z"
      },
      {
        "duration": 10,
        "start_time": "2022-01-13T20:09:57.471Z"
      },
      {
        "duration": 10,
        "start_time": "2022-01-13T20:09:58.048Z"
      },
      {
        "duration": 10,
        "start_time": "2022-01-13T20:09:58.620Z"
      },
      {
        "duration": 9,
        "start_time": "2022-01-13T20:09:59.757Z"
      },
      {
        "duration": 9,
        "start_time": "2022-01-13T20:10:02.969Z"
      },
      {
        "duration": 10,
        "start_time": "2022-01-13T20:26:12.771Z"
      },
      {
        "duration": 15,
        "start_time": "2022-01-13T20:26:28.814Z"
      },
      {
        "duration": 7,
        "start_time": "2022-01-13T20:26:30.513Z"
      },
      {
        "duration": 8,
        "start_time": "2022-01-13T20:26:41.519Z"
      },
      {
        "duration": 14,
        "start_time": "2022-01-13T20:26:43.017Z"
      },
      {
        "duration": 8,
        "start_time": "2022-01-13T20:26:54.151Z"
      },
      {
        "duration": 9,
        "start_time": "2022-01-13T20:27:13.661Z"
      },
      {
        "duration": 14,
        "start_time": "2022-01-13T20:27:14.639Z"
      },
      {
        "duration": 10,
        "start_time": "2022-01-13T20:27:27.131Z"
      },
      {
        "duration": 9,
        "start_time": "2022-01-13T20:27:27.885Z"
      },
      {
        "duration": 10,
        "start_time": "2022-01-13T20:27:29.992Z"
      },
      {
        "duration": 10,
        "start_time": "2022-01-13T20:27:32.767Z"
      },
      {
        "duration": 443,
        "start_time": "2022-01-13T20:27:33.489Z"
      },
      {
        "duration": 9,
        "start_time": "2022-01-13T20:27:34.477Z"
      },
      {
        "duration": 10,
        "start_time": "2022-01-13T20:27:37.172Z"
      },
      {
        "duration": 31,
        "start_time": "2022-01-13T20:27:39.403Z"
      },
      {
        "duration": 11,
        "start_time": "2022-01-13T20:27:41.409Z"
      },
      {
        "duration": 1275,
        "start_time": "2022-01-14T14:42:34.875Z"
      },
      {
        "duration": 3,
        "start_time": "2022-01-14T14:42:36.152Z"
      },
      {
        "duration": 24,
        "start_time": "2022-01-14T14:42:36.157Z"
      },
      {
        "duration": 18,
        "start_time": "2022-01-14T14:42:36.183Z"
      },
      {
        "duration": 29,
        "start_time": "2022-01-14T14:42:36.203Z"
      },
      {
        "duration": 19,
        "start_time": "2022-01-14T14:42:36.234Z"
      },
      {
        "duration": 10,
        "start_time": "2022-01-14T14:42:36.255Z"
      },
      {
        "duration": 22,
        "start_time": "2022-01-14T14:42:36.267Z"
      },
      {
        "duration": 23,
        "start_time": "2022-01-14T14:42:36.291Z"
      },
      {
        "duration": 10,
        "start_time": "2022-01-14T14:42:36.316Z"
      },
      {
        "duration": 28,
        "start_time": "2022-01-14T14:42:36.328Z"
      },
      {
        "duration": 28,
        "start_time": "2022-01-14T14:42:36.358Z"
      },
      {
        "duration": 20,
        "start_time": "2022-01-14T14:42:36.387Z"
      },
      {
        "duration": 31,
        "start_time": "2022-01-14T14:42:36.409Z"
      },
      {
        "duration": 38,
        "start_time": "2022-01-14T14:42:36.442Z"
      },
      {
        "duration": 19,
        "start_time": "2022-01-14T14:42:36.482Z"
      },
      {
        "duration": 13,
        "start_time": "2022-01-14T14:42:36.503Z"
      },
      {
        "duration": 29,
        "start_time": "2022-01-14T14:42:36.517Z"
      },
      {
        "duration": 21,
        "start_time": "2022-01-14T14:42:36.548Z"
      },
      {
        "duration": 20,
        "start_time": "2022-01-14T14:42:36.571Z"
      },
      {
        "duration": 30,
        "start_time": "2022-01-14T14:42:36.592Z"
      },
      {
        "duration": 36,
        "start_time": "2022-01-14T14:42:36.624Z"
      },
      {
        "duration": 22,
        "start_time": "2022-01-14T14:42:36.664Z"
      },
      {
        "duration": 19,
        "start_time": "2022-01-14T14:42:36.689Z"
      },
      {
        "duration": 33,
        "start_time": "2022-01-14T14:42:36.710Z"
      },
      {
        "duration": 6,
        "start_time": "2022-01-14T14:42:36.745Z"
      },
      {
        "duration": 8,
        "start_time": "2022-01-14T14:42:36.752Z"
      },
      {
        "duration": 16,
        "start_time": "2022-01-14T14:42:36.761Z"
      },
      {
        "duration": 12,
        "start_time": "2022-01-14T14:42:36.779Z"
      },
      {
        "duration": 32,
        "start_time": "2022-01-14T14:42:36.793Z"
      },
      {
        "duration": 16,
        "start_time": "2022-01-14T14:42:36.827Z"
      },
      {
        "duration": 9,
        "start_time": "2022-01-14T14:42:36.845Z"
      },
      {
        "duration": 34,
        "start_time": "2022-01-14T14:42:36.855Z"
      },
      {
        "duration": 17,
        "start_time": "2022-01-14T14:42:36.891Z"
      },
      {
        "duration": 18,
        "start_time": "2022-01-14T14:42:36.909Z"
      },
      {
        "duration": 40,
        "start_time": "2022-01-14T14:42:36.929Z"
      },
      {
        "duration": 16,
        "start_time": "2022-01-14T14:42:36.971Z"
      },
      {
        "duration": 28,
        "start_time": "2022-01-14T14:42:36.988Z"
      },
      {
        "duration": 11,
        "start_time": "2022-01-14T14:42:37.017Z"
      },
      {
        "duration": 23,
        "start_time": "2022-01-14T14:42:37.029Z"
      },
      {
        "duration": 22,
        "start_time": "2022-01-14T14:42:37.054Z"
      },
      {
        "duration": 41,
        "start_time": "2022-01-14T14:42:37.077Z"
      },
      {
        "duration": 39,
        "start_time": "2022-01-14T14:42:37.120Z"
      },
      {
        "duration": 48,
        "start_time": "2022-01-14T14:42:37.161Z"
      },
      {
        "duration": 4,
        "start_time": "2022-01-14T14:42:37.211Z"
      },
      {
        "duration": 10,
        "start_time": "2022-01-14T14:42:37.217Z"
      },
      {
        "duration": 17,
        "start_time": "2022-01-14T14:42:37.229Z"
      },
      {
        "duration": 20,
        "start_time": "2022-01-14T14:42:37.248Z"
      },
      {
        "duration": 20,
        "start_time": "2022-01-14T14:42:37.271Z"
      },
      {
        "duration": 32,
        "start_time": "2022-01-14T14:42:37.293Z"
      },
      {
        "duration": 9,
        "start_time": "2022-01-14T14:42:37.327Z"
      },
      {
        "duration": 28,
        "start_time": "2022-01-14T14:42:37.338Z"
      },
      {
        "duration": 21,
        "start_time": "2022-01-14T14:42:37.369Z"
      },
      {
        "duration": 12,
        "start_time": "2022-01-14T14:42:37.392Z"
      },
      {
        "duration": 7,
        "start_time": "2022-01-14T14:42:37.406Z"
      },
      {
        "duration": 36,
        "start_time": "2022-01-14T14:42:37.414Z"
      },
      {
        "duration": 12,
        "start_time": "2022-01-14T14:42:37.452Z"
      },
      {
        "duration": 13,
        "start_time": "2022-01-14T14:42:37.466Z"
      },
      {
        "duration": 31,
        "start_time": "2022-01-14T14:42:37.480Z"
      },
      {
        "duration": 17,
        "start_time": "2022-01-14T14:42:37.513Z"
      },
      {
        "duration": 15,
        "start_time": "2022-01-14T14:42:37.532Z"
      },
      {
        "duration": 11,
        "start_time": "2022-01-14T14:42:37.549Z"
      },
      {
        "duration": 8,
        "start_time": "2022-01-14T14:42:37.562Z"
      },
      {
        "duration": 1385,
        "start_time": "2022-01-14T14:42:37.571Z"
      },
      {
        "duration": 11,
        "start_time": "2022-01-14T14:42:38.958Z"
      },
      {
        "duration": 5,
        "start_time": "2022-01-14T14:42:38.971Z"
      },
      {
        "duration": 5,
        "start_time": "2022-01-14T14:42:38.978Z"
      },
      {
        "duration": 12,
        "start_time": "2022-01-14T14:42:38.988Z"
      },
      {
        "duration": 5,
        "start_time": "2022-01-14T14:42:39.002Z"
      },
      {
        "duration": 5,
        "start_time": "2022-01-14T14:42:39.009Z"
      },
      {
        "duration": 4,
        "start_time": "2022-01-14T14:42:39.016Z"
      },
      {
        "duration": 9,
        "start_time": "2022-01-14T14:42:39.022Z"
      },
      {
        "duration": 5,
        "start_time": "2022-01-14T14:42:39.032Z"
      },
      {
        "duration": 1956,
        "start_time": "2022-01-14T14:42:39.038Z"
      },
      {
        "duration": 10,
        "start_time": "2022-01-14T14:42:40.996Z"
      },
      {
        "duration": 8,
        "start_time": "2022-01-14T14:42:41.008Z"
      },
      {
        "duration": 14,
        "start_time": "2022-01-14T14:42:41.018Z"
      },
      {
        "duration": 8,
        "start_time": "2022-01-14T14:42:41.034Z"
      },
      {
        "duration": 19,
        "start_time": "2022-01-14T14:42:41.044Z"
      },
      {
        "duration": 41,
        "start_time": "2022-01-14T14:42:41.065Z"
      },
      {
        "duration": 24,
        "start_time": "2022-01-14T14:42:41.107Z"
      },
      {
        "duration": 17,
        "start_time": "2022-01-14T14:42:41.133Z"
      },
      {
        "duration": 4,
        "start_time": "2022-01-14T14:42:41.151Z"
      },
      {
        "duration": 42,
        "start_time": "2022-01-14T14:42:41.157Z"
      },
      {
        "duration": 12,
        "start_time": "2022-01-14T14:42:41.201Z"
      },
      {
        "duration": 1519,
        "start_time": "2022-01-15T06:55:00.867Z"
      },
      {
        "duration": 89,
        "start_time": "2022-01-15T06:55:04.268Z"
      },
      {
        "duration": 23,
        "start_time": "2022-01-15T07:06:04.060Z"
      },
      {
        "duration": 36,
        "start_time": "2022-01-15T07:06:18.288Z"
      },
      {
        "duration": 22,
        "start_time": "2022-01-15T07:06:28.121Z"
      },
      {
        "duration": 11,
        "start_time": "2022-01-15T07:06:38.979Z"
      },
      {
        "duration": 14,
        "start_time": "2022-01-15T07:07:06.210Z"
      },
      {
        "duration": 1567,
        "start_time": "2022-01-15T07:07:17.198Z"
      },
      {
        "duration": 94,
        "start_time": "2022-01-15T07:07:18.768Z"
      },
      {
        "duration": 5,
        "start_time": "2022-01-15T07:07:18.865Z"
      },
      {
        "duration": 21,
        "start_time": "2022-01-15T07:07:18.873Z"
      },
      {
        "duration": 16,
        "start_time": "2022-01-15T07:07:18.918Z"
      },
      {
        "duration": 33,
        "start_time": "2022-01-15T07:07:18.936Z"
      },
      {
        "duration": 58,
        "start_time": "2022-01-15T07:07:18.972Z"
      },
      {
        "duration": 5,
        "start_time": "2022-01-15T07:07:19.034Z"
      },
      {
        "duration": 15,
        "start_time": "2022-01-15T07:07:19.042Z"
      },
      {
        "duration": 16,
        "start_time": "2022-01-15T07:07:19.059Z"
      },
      {
        "duration": 42,
        "start_time": "2022-01-15T07:07:19.078Z"
      },
      {
        "duration": 11,
        "start_time": "2022-01-15T07:07:19.122Z"
      },
      {
        "duration": 13,
        "start_time": "2022-01-15T07:07:19.135Z"
      },
      {
        "duration": 10,
        "start_time": "2022-01-15T07:07:19.150Z"
      },
      {
        "duration": 11,
        "start_time": "2022-01-15T07:07:19.162Z"
      },
      {
        "duration": 47,
        "start_time": "2022-01-15T07:07:19.175Z"
      },
      {
        "duration": 12,
        "start_time": "2022-01-15T07:07:19.225Z"
      },
      {
        "duration": 8,
        "start_time": "2022-01-15T07:07:19.239Z"
      },
      {
        "duration": 13,
        "start_time": "2022-01-15T07:07:19.249Z"
      },
      {
        "duration": 12,
        "start_time": "2022-01-15T07:07:19.265Z"
      },
      {
        "duration": 7,
        "start_time": "2022-01-15T07:07:19.318Z"
      },
      {
        "duration": 9,
        "start_time": "2022-01-15T07:07:19.327Z"
      },
      {
        "duration": 4,
        "start_time": "2022-01-15T07:07:19.343Z"
      },
      {
        "duration": 21,
        "start_time": "2022-01-15T07:07:19.351Z"
      },
      {
        "duration": 13,
        "start_time": "2022-01-15T07:07:19.374Z"
      },
      {
        "duration": 42,
        "start_time": "2022-01-15T07:07:19.418Z"
      },
      {
        "duration": 9,
        "start_time": "2022-01-15T07:07:19.462Z"
      },
      {
        "duration": 10,
        "start_time": "2022-01-15T07:07:19.474Z"
      },
      {
        "duration": 39,
        "start_time": "2022-01-15T07:07:19.487Z"
      },
      {
        "duration": 15,
        "start_time": "2022-01-15T07:07:19.528Z"
      },
      {
        "duration": 21,
        "start_time": "2022-01-15T07:07:19.546Z"
      },
      {
        "duration": 10,
        "start_time": "2022-01-15T07:07:19.569Z"
      },
      {
        "duration": 43,
        "start_time": "2022-01-15T07:07:19.581Z"
      },
      {
        "duration": 25,
        "start_time": "2022-01-15T07:07:19.627Z"
      },
      {
        "duration": 11,
        "start_time": "2022-01-15T07:07:19.654Z"
      },
      {
        "duration": 4,
        "start_time": "2022-01-15T07:07:19.667Z"
      },
      {
        "duration": 66,
        "start_time": "2022-01-15T07:07:19.673Z"
      },
      {
        "duration": 26,
        "start_time": "2022-01-15T07:07:19.741Z"
      },
      {
        "duration": 23,
        "start_time": "2022-01-15T07:07:19.769Z"
      },
      {
        "duration": 4,
        "start_time": "2022-01-15T07:07:19.818Z"
      },
      {
        "duration": 6,
        "start_time": "2022-01-15T07:07:19.824Z"
      },
      {
        "duration": 7,
        "start_time": "2022-01-15T07:07:19.832Z"
      },
      {
        "duration": 16,
        "start_time": "2022-01-15T07:07:19.841Z"
      },
      {
        "duration": 10,
        "start_time": "2022-01-15T07:07:19.859Z"
      },
      {
        "duration": 90,
        "start_time": "2022-01-15T07:07:19.872Z"
      },
      {
        "duration": 7,
        "start_time": "2022-01-15T07:07:19.965Z"
      },
      {
        "duration": 9,
        "start_time": "2022-01-15T07:07:19.974Z"
      },
      {
        "duration": 35,
        "start_time": "2022-01-15T07:07:19.985Z"
      },
      {
        "duration": 7,
        "start_time": "2022-01-15T07:07:20.022Z"
      },
      {
        "duration": 13,
        "start_time": "2022-01-15T07:07:20.031Z"
      },
      {
        "duration": 21,
        "start_time": "2022-01-15T07:07:20.047Z"
      },
      {
        "duration": 47,
        "start_time": "2022-01-15T07:07:20.070Z"
      },
      {
        "duration": 5,
        "start_time": "2022-01-15T07:07:20.120Z"
      },
      {
        "duration": 12,
        "start_time": "2022-01-15T07:07:20.127Z"
      },
      {
        "duration": 9,
        "start_time": "2022-01-15T07:07:20.141Z"
      },
      {
        "duration": 23,
        "start_time": "2022-01-15T07:07:20.152Z"
      },
      {
        "duration": 13,
        "start_time": "2022-01-15T07:07:20.217Z"
      },
      {
        "duration": 16,
        "start_time": "2022-01-15T07:07:20.232Z"
      },
      {
        "duration": 14,
        "start_time": "2022-01-15T07:07:20.250Z"
      },
      {
        "duration": 52,
        "start_time": "2022-01-15T07:07:20.267Z"
      },
      {
        "duration": 3,
        "start_time": "2022-01-15T07:07:20.322Z"
      },
      {
        "duration": 2074,
        "start_time": "2022-01-15T07:07:20.329Z"
      },
      {
        "duration": 28,
        "start_time": "2022-01-15T07:07:22.406Z"
      },
      {
        "duration": 20,
        "start_time": "2022-01-15T07:07:22.437Z"
      },
      {
        "duration": 14,
        "start_time": "2022-01-15T07:07:22.460Z"
      },
      {
        "duration": 14,
        "start_time": "2022-01-15T07:07:22.476Z"
      },
      {
        "duration": 8,
        "start_time": "2022-01-15T07:07:22.492Z"
      },
      {
        "duration": 3,
        "start_time": "2022-01-15T07:07:22.518Z"
      },
      {
        "duration": 12,
        "start_time": "2022-01-15T07:07:22.525Z"
      },
      {
        "duration": 17,
        "start_time": "2022-01-15T07:07:22.540Z"
      },
      {
        "duration": 35,
        "start_time": "2022-01-15T07:07:22.559Z"
      },
      {
        "duration": 3048,
        "start_time": "2022-01-15T07:07:22.597Z"
      },
      {
        "duration": 10,
        "start_time": "2022-01-15T07:07:25.648Z"
      },
      {
        "duration": 9,
        "start_time": "2022-01-15T07:07:25.660Z"
      },
      {
        "duration": 26,
        "start_time": "2022-01-15T07:07:25.672Z"
      },
      {
        "duration": 5,
        "start_time": "2022-01-15T07:07:25.717Z"
      },
      {
        "duration": 24,
        "start_time": "2022-01-15T07:07:25.724Z"
      },
      {
        "duration": 10,
        "start_time": "2022-01-15T07:07:25.751Z"
      },
      {
        "duration": 62,
        "start_time": "2022-01-15T07:07:25.764Z"
      },
      {
        "duration": 24,
        "start_time": "2022-01-15T07:07:25.829Z"
      },
      {
        "duration": 4,
        "start_time": "2022-01-15T07:07:25.856Z"
      },
      {
        "duration": 58,
        "start_time": "2022-01-15T07:07:25.863Z"
      },
      {
        "duration": 15,
        "start_time": "2022-01-15T07:07:25.924Z"
      },
      {
        "duration": 3,
        "start_time": "2022-01-15T07:07:25.943Z"
      },
      {
        "duration": 107,
        "start_time": "2022-01-15T07:07:25.949Z"
      },
      {
        "duration": 5,
        "start_time": "2022-01-15T07:07:26.071Z"
      },
      {
        "duration": 19,
        "start_time": "2022-01-15T07:07:26.268Z"
      },
      {
        "duration": 14,
        "start_time": "2022-01-15T07:07:26.651Z"
      },
      {
        "duration": 34,
        "start_time": "2022-01-15T07:07:27.043Z"
      },
      {
        "duration": 25,
        "start_time": "2022-01-15T07:07:27.618Z"
      },
      {
        "duration": 5,
        "start_time": "2022-01-15T07:07:28.009Z"
      },
      {
        "duration": 9,
        "start_time": "2022-01-15T07:07:28.580Z"
      },
      {
        "duration": 10,
        "start_time": "2022-01-15T07:07:28.784Z"
      },
      {
        "duration": 10,
        "start_time": "2022-01-15T07:07:29.372Z"
      },
      {
        "duration": 11,
        "start_time": "2022-01-15T07:07:30.194Z"
      },
      {
        "duration": 9,
        "start_time": "2022-01-15T07:07:30.390Z"
      },
      {
        "duration": 9,
        "start_time": "2022-01-15T07:07:31.418Z"
      },
      {
        "duration": 10,
        "start_time": "2022-01-15T07:07:32.562Z"
      },
      {
        "duration": 16,
        "start_time": "2022-01-15T07:07:32.767Z"
      },
      {
        "duration": 12,
        "start_time": "2022-01-15T07:07:32.970Z"
      },
      {
        "duration": 6,
        "start_time": "2022-01-15T07:07:34.232Z"
      },
      {
        "duration": 9,
        "start_time": "2022-01-15T07:07:35.195Z"
      },
      {
        "duration": 11,
        "start_time": "2022-01-15T07:07:36.942Z"
      },
      {
        "duration": 6,
        "start_time": "2022-01-15T07:07:37.474Z"
      },
      {
        "duration": 7,
        "start_time": "2022-01-15T07:07:38.513Z"
      },
      {
        "duration": 4,
        "start_time": "2022-01-15T07:07:38.986Z"
      },
      {
        "duration": 8,
        "start_time": "2022-01-15T07:07:39.185Z"
      },
      {
        "duration": 8,
        "start_time": "2022-01-15T07:07:39.779Z"
      },
      {
        "duration": 35,
        "start_time": "2022-01-15T07:07:39.987Z"
      },
      {
        "duration": 8,
        "start_time": "2022-01-15T07:07:40.578Z"
      },
      {
        "duration": 9,
        "start_time": "2022-01-15T07:07:40.794Z"
      },
      {
        "duration": 10,
        "start_time": "2022-01-15T07:07:41.697Z"
      },
      {
        "duration": 10,
        "start_time": "2022-01-15T07:07:42.802Z"
      },
      {
        "duration": 20,
        "start_time": "2022-01-15T07:07:43.075Z"
      },
      {
        "duration": 10,
        "start_time": "2022-01-15T07:07:43.272Z"
      },
      {
        "duration": 11,
        "start_time": "2022-01-15T07:07:43.874Z"
      },
      {
        "duration": 27,
        "start_time": "2022-01-15T07:07:44.378Z"
      },
      {
        "duration": 12,
        "start_time": "2022-01-15T07:07:44.635Z"
      },
      {
        "duration": 4,
        "start_time": "2022-01-15T07:07:45.079Z"
      },
      {
        "duration": 27,
        "start_time": "2022-01-15T07:07:45.301Z"
      },
      {
        "duration": 26,
        "start_time": "2022-01-15T07:07:46.073Z"
      },
      {
        "duration": 25,
        "start_time": "2022-01-15T07:07:46.485Z"
      },
      {
        "duration": 4,
        "start_time": "2022-01-15T07:07:54.871Z"
      },
      {
        "duration": 5,
        "start_time": "2022-01-15T07:07:58.924Z"
      },
      {
        "duration": 4,
        "start_time": "2022-01-15T07:07:59.186Z"
      },
      {
        "duration": 14,
        "start_time": "2022-01-15T07:07:59.442Z"
      },
      {
        "duration": 9,
        "start_time": "2022-01-15T07:07:59.730Z"
      },
      {
        "duration": 45,
        "start_time": "2022-01-15T07:08:01.806Z"
      },
      {
        "duration": 6,
        "start_time": "2022-01-15T07:08:02.893Z"
      },
      {
        "duration": 6,
        "start_time": "2022-01-15T07:08:03.583Z"
      },
      {
        "duration": 6,
        "start_time": "2022-01-15T07:08:03.808Z"
      },
      {
        "duration": 6,
        "start_time": "2022-01-15T07:08:04.057Z"
      },
      {
        "duration": 11,
        "start_time": "2022-01-15T07:08:06.333Z"
      },
      {
        "duration": 23,
        "start_time": "2022-01-15T07:08:06.595Z"
      },
      {
        "duration": 13,
        "start_time": "2022-01-15T07:08:09.006Z"
      },
      {
        "duration": 5,
        "start_time": "2022-01-15T07:08:12.682Z"
      },
      {
        "duration": 9,
        "start_time": "2022-01-15T07:08:14.771Z"
      },
      {
        "duration": 10,
        "start_time": "2022-01-15T07:08:15.003Z"
      },
      {
        "duration": 21,
        "start_time": "2022-01-15T07:08:15.955Z"
      },
      {
        "duration": 13,
        "start_time": "2022-01-15T07:08:16.258Z"
      },
      {
        "duration": 15,
        "start_time": "2022-01-15T07:08:17.042Z"
      },
      {
        "duration": 414,
        "start_time": "2022-01-15T07:11:05.433Z"
      },
      {
        "duration": 11,
        "start_time": "2022-01-15T07:11:13.865Z"
      },
      {
        "duration": 1473,
        "start_time": "2022-01-15T07:33:15.573Z"
      },
      {
        "duration": 91,
        "start_time": "2022-01-15T07:33:17.048Z"
      },
      {
        "duration": 5,
        "start_time": "2022-01-15T07:33:17.141Z"
      },
      {
        "duration": 27,
        "start_time": "2022-01-15T07:33:17.149Z"
      },
      {
        "duration": 25,
        "start_time": "2022-01-15T07:33:17.179Z"
      },
      {
        "duration": 46,
        "start_time": "2022-01-15T07:33:17.206Z"
      },
      {
        "duration": 23,
        "start_time": "2022-01-15T07:33:17.255Z"
      },
      {
        "duration": 5,
        "start_time": "2022-01-15T07:33:17.282Z"
      },
      {
        "duration": 31,
        "start_time": "2022-01-15T07:33:17.290Z"
      },
      {
        "duration": 14,
        "start_time": "2022-01-15T07:33:17.323Z"
      },
      {
        "duration": 10,
        "start_time": "2022-01-15T07:33:17.339Z"
      },
      {
        "duration": 10,
        "start_time": "2022-01-15T07:33:17.351Z"
      },
      {
        "duration": 58,
        "start_time": "2022-01-15T07:33:17.363Z"
      },
      {
        "duration": 9,
        "start_time": "2022-01-15T07:33:17.423Z"
      },
      {
        "duration": 12,
        "start_time": "2022-01-15T07:33:17.434Z"
      },
      {
        "duration": 17,
        "start_time": "2022-01-15T07:33:17.448Z"
      },
      {
        "duration": 12,
        "start_time": "2022-01-15T07:33:17.467Z"
      },
      {
        "duration": 38,
        "start_time": "2022-01-15T07:33:17.481Z"
      },
      {
        "duration": 10,
        "start_time": "2022-01-15T07:33:17.521Z"
      },
      {
        "duration": 12,
        "start_time": "2022-01-15T07:33:17.533Z"
      },
      {
        "duration": 7,
        "start_time": "2022-01-15T07:33:17.547Z"
      },
      {
        "duration": 7,
        "start_time": "2022-01-15T07:33:17.556Z"
      },
      {
        "duration": 48,
        "start_time": "2022-01-15T07:33:17.569Z"
      },
      {
        "duration": 7,
        "start_time": "2022-01-15T07:33:17.621Z"
      },
      {
        "duration": 10,
        "start_time": "2022-01-15T07:33:17.630Z"
      },
      {
        "duration": 34,
        "start_time": "2022-01-15T07:33:17.642Z"
      },
      {
        "duration": 41,
        "start_time": "2022-01-15T07:33:17.678Z"
      },
      {
        "duration": 14,
        "start_time": "2022-01-15T07:33:17.721Z"
      },
      {
        "duration": 11,
        "start_time": "2022-01-15T07:33:17.738Z"
      },
      {
        "duration": 10,
        "start_time": "2022-01-15T07:33:17.751Z"
      },
      {
        "duration": 54,
        "start_time": "2022-01-15T07:33:17.763Z"
      },
      {
        "duration": 10,
        "start_time": "2022-01-15T07:33:17.819Z"
      },
      {
        "duration": 11,
        "start_time": "2022-01-15T07:33:17.831Z"
      },
      {
        "duration": 28,
        "start_time": "2022-01-15T07:33:17.844Z"
      },
      {
        "duration": 9,
        "start_time": "2022-01-15T07:33:17.875Z"
      },
      {
        "duration": 3,
        "start_time": "2022-01-15T07:33:17.918Z"
      },
      {
        "duration": 28,
        "start_time": "2022-01-15T07:33:17.923Z"
      },
      {
        "duration": 24,
        "start_time": "2022-01-15T07:33:17.953Z"
      },
      {
        "duration": 51,
        "start_time": "2022-01-15T07:33:17.980Z"
      },
      {
        "duration": 5,
        "start_time": "2022-01-15T07:33:18.033Z"
      },
      {
        "duration": 7,
        "start_time": "2022-01-15T07:33:18.040Z"
      },
      {
        "duration": 7,
        "start_time": "2022-01-15T07:33:18.049Z"
      },
      {
        "duration": 13,
        "start_time": "2022-01-15T07:33:18.058Z"
      },
      {
        "duration": 50,
        "start_time": "2022-01-15T07:33:18.073Z"
      },
      {
        "duration": 45,
        "start_time": "2022-01-15T07:33:18.125Z"
      },
      {
        "duration": 5,
        "start_time": "2022-01-15T07:33:18.172Z"
      },
      {
        "duration": 9,
        "start_time": "2022-01-15T07:33:18.179Z"
      },
      {
        "duration": 31,
        "start_time": "2022-01-15T07:33:18.190Z"
      },
      {
        "duration": 7,
        "start_time": "2022-01-15T07:33:18.223Z"
      },
      {
        "duration": 11,
        "start_time": "2022-01-15T07:33:18.232Z"
      },
      {
        "duration": 25,
        "start_time": "2022-01-15T07:33:18.245Z"
      },
      {
        "duration": 47,
        "start_time": "2022-01-15T07:33:18.272Z"
      },
      {
        "duration": 10,
        "start_time": "2022-01-15T07:33:18.322Z"
      },
      {
        "duration": 12,
        "start_time": "2022-01-15T07:33:18.335Z"
      },
      {
        "duration": 11,
        "start_time": "2022-01-15T07:33:18.349Z"
      },
      {
        "duration": 59,
        "start_time": "2022-01-15T07:33:18.363Z"
      },
      {
        "duration": 22,
        "start_time": "2022-01-15T07:33:18.425Z"
      },
      {
        "duration": 13,
        "start_time": "2022-01-15T07:33:18.450Z"
      },
      {
        "duration": 61,
        "start_time": "2022-01-15T07:33:18.466Z"
      },
      {
        "duration": 13,
        "start_time": "2022-01-15T07:33:18.530Z"
      },
      {
        "duration": 9,
        "start_time": "2022-01-15T07:33:18.546Z"
      },
      {
        "duration": 4,
        "start_time": "2022-01-15T07:33:18.558Z"
      },
      {
        "duration": 2082,
        "start_time": "2022-01-15T07:33:18.565Z"
      },
      {
        "duration": 16,
        "start_time": "2022-01-15T07:33:20.650Z"
      },
      {
        "duration": 7,
        "start_time": "2022-01-15T07:33:20.668Z"
      },
      {
        "duration": 4,
        "start_time": "2022-01-15T07:33:20.677Z"
      },
      {
        "duration": 33,
        "start_time": "2022-01-15T07:33:20.684Z"
      },
      {
        "duration": 3,
        "start_time": "2022-01-15T07:33:20.725Z"
      },
      {
        "duration": 5,
        "start_time": "2022-01-15T07:33:20.731Z"
      },
      {
        "duration": 9,
        "start_time": "2022-01-15T07:33:20.738Z"
      },
      {
        "duration": 11,
        "start_time": "2022-01-15T07:33:20.750Z"
      },
      {
        "duration": 5,
        "start_time": "2022-01-15T07:33:20.764Z"
      },
      {
        "duration": 3099,
        "start_time": "2022-01-15T07:33:20.771Z"
      },
      {
        "duration": 9,
        "start_time": "2022-01-15T07:33:23.872Z"
      },
      {
        "duration": 10,
        "start_time": "2022-01-15T07:33:23.883Z"
      },
      {
        "duration": 28,
        "start_time": "2022-01-15T07:33:23.895Z"
      },
      {
        "duration": 5,
        "start_time": "2022-01-15T07:33:23.925Z"
      },
      {
        "duration": 16,
        "start_time": "2022-01-15T07:33:23.932Z"
      },
      {
        "duration": 11,
        "start_time": "2022-01-15T07:33:23.951Z"
      },
      {
        "duration": 68,
        "start_time": "2022-01-15T07:33:23.964Z"
      },
      {
        "duration": 21,
        "start_time": "2022-01-15T07:33:24.034Z"
      },
      {
        "duration": 4,
        "start_time": "2022-01-15T07:33:24.057Z"
      },
      {
        "duration": 54,
        "start_time": "2022-01-15T07:33:24.064Z"
      },
      {
        "duration": 14,
        "start_time": "2022-01-15T07:33:24.121Z"
      },
      {
        "duration": 108,
        "start_time": "2022-01-15T07:39:26.391Z"
      },
      {
        "duration": 1645,
        "start_time": "2022-01-16T16:30:37.338Z"
      },
      {
        "duration": 95,
        "start_time": "2022-01-16T16:30:38.986Z"
      },
      {
        "duration": 6,
        "start_time": "2022-01-16T16:30:39.100Z"
      },
      {
        "duration": 22,
        "start_time": "2022-01-16T16:30:39.109Z"
      },
      {
        "duration": 18,
        "start_time": "2022-01-16T16:30:39.135Z"
      },
      {
        "duration": 77,
        "start_time": "2022-01-16T16:30:39.156Z"
      },
      {
        "duration": 27,
        "start_time": "2022-01-16T16:30:39.236Z"
      },
      {
        "duration": 5,
        "start_time": "2022-01-16T16:30:39.300Z"
      },
      {
        "duration": 10,
        "start_time": "2022-01-16T16:30:39.310Z"
      },
      {
        "duration": 19,
        "start_time": "2022-01-16T16:30:39.323Z"
      },
      {
        "duration": 9,
        "start_time": "2022-01-16T16:30:39.344Z"
      },
      {
        "duration": 46,
        "start_time": "2022-01-16T16:30:39.356Z"
      },
      {
        "duration": 14,
        "start_time": "2022-01-16T16:30:39.405Z"
      },
      {
        "duration": 12,
        "start_time": "2022-01-16T16:30:39.421Z"
      },
      {
        "duration": 12,
        "start_time": "2022-01-16T16:30:39.436Z"
      },
      {
        "duration": 56,
        "start_time": "2022-01-16T16:30:39.451Z"
      },
      {
        "duration": 14,
        "start_time": "2022-01-16T16:30:39.509Z"
      },
      {
        "duration": 9,
        "start_time": "2022-01-16T16:30:39.526Z"
      },
      {
        "duration": 9,
        "start_time": "2022-01-16T16:30:39.537Z"
      },
      {
        "duration": 54,
        "start_time": "2022-01-16T16:30:39.548Z"
      },
      {
        "duration": 5,
        "start_time": "2022-01-16T16:30:39.605Z"
      },
      {
        "duration": 9,
        "start_time": "2022-01-16T16:30:39.612Z"
      },
      {
        "duration": 4,
        "start_time": "2022-01-16T16:30:39.627Z"
      },
      {
        "duration": 8,
        "start_time": "2022-01-16T16:30:39.635Z"
      },
      {
        "duration": 9,
        "start_time": "2022-01-16T16:30:39.646Z"
      },
      {
        "duration": 37,
        "start_time": "2022-01-16T16:30:39.700Z"
      },
      {
        "duration": 8,
        "start_time": "2022-01-16T16:30:39.740Z"
      },
      {
        "duration": 9,
        "start_time": "2022-01-16T16:30:39.751Z"
      },
      {
        "duration": 43,
        "start_time": "2022-01-16T16:30:39.762Z"
      },
      {
        "duration": 12,
        "start_time": "2022-01-16T16:30:39.808Z"
      },
      {
        "duration": 22,
        "start_time": "2022-01-16T16:30:39.823Z"
      },
      {
        "duration": 10,
        "start_time": "2022-01-16T16:30:39.848Z"
      },
      {
        "duration": 10,
        "start_time": "2022-01-16T16:30:39.900Z"
      },
      {
        "duration": 26,
        "start_time": "2022-01-16T16:30:39.913Z"
      },
      {
        "duration": 11,
        "start_time": "2022-01-16T16:30:39.941Z"
      },
      {
        "duration": 4,
        "start_time": "2022-01-16T16:30:39.954Z"
      },
      {
        "duration": 71,
        "start_time": "2022-01-16T16:30:39.960Z"
      },
      {
        "duration": 30,
        "start_time": "2022-01-16T16:30:40.034Z"
      },
      {
        "duration": 42,
        "start_time": "2022-01-16T16:30:40.066Z"
      },
      {
        "duration": 4,
        "start_time": "2022-01-16T16:30:40.111Z"
      },
      {
        "duration": 6,
        "start_time": "2022-01-16T16:30:40.117Z"
      },
      {
        "duration": 6,
        "start_time": "2022-01-16T16:30:40.126Z"
      },
      {
        "duration": 13,
        "start_time": "2022-01-16T16:30:40.135Z"
      },
      {
        "duration": 56,
        "start_time": "2022-01-16T16:30:40.151Z"
      },
      {
        "duration": 46,
        "start_time": "2022-01-16T16:30:40.209Z"
      },
      {
        "duration": 5,
        "start_time": "2022-01-16T16:30:40.257Z"
      },
      {
        "duration": 36,
        "start_time": "2022-01-16T16:30:40.264Z"
      },
      {
        "duration": 5,
        "start_time": "2022-01-16T16:30:40.303Z"
      },
      {
        "duration": 7,
        "start_time": "2022-01-16T16:30:40.310Z"
      },
      {
        "duration": 9,
        "start_time": "2022-01-16T16:30:40.320Z"
      },
      {
        "duration": 21,
        "start_time": "2022-01-16T16:30:40.332Z"
      },
      {
        "duration": 49,
        "start_time": "2022-01-16T16:30:40.356Z"
      },
      {
        "duration": 6,
        "start_time": "2022-01-16T16:30:40.408Z"
      },
      {
        "duration": 12,
        "start_time": "2022-01-16T16:30:40.416Z"
      },
      {
        "duration": 9,
        "start_time": "2022-01-16T16:30:40.430Z"
      },
      {
        "duration": 11,
        "start_time": "2022-01-16T16:30:40.442Z"
      },
      {
        "duration": 67,
        "start_time": "2022-01-16T16:30:40.455Z"
      },
      {
        "duration": 16,
        "start_time": "2022-01-16T16:30:40.525Z"
      },
      {
        "duration": 19,
        "start_time": "2022-01-16T16:30:40.543Z"
      },
      {
        "duration": 46,
        "start_time": "2022-01-16T16:30:40.565Z"
      },
      {
        "duration": 9,
        "start_time": "2022-01-16T16:30:40.613Z"
      },
      {
        "duration": 4,
        "start_time": "2022-01-16T16:30:40.624Z"
      },
      {
        "duration": 2237,
        "start_time": "2022-01-16T16:30:40.630Z"
      },
      {
        "duration": 30,
        "start_time": "2022-01-16T16:30:42.870Z"
      },
      {
        "duration": 6,
        "start_time": "2022-01-16T16:30:42.903Z"
      },
      {
        "duration": 6,
        "start_time": "2022-01-16T16:30:42.911Z"
      },
      {
        "duration": 6,
        "start_time": "2022-01-16T16:30:42.919Z"
      },
      {
        "duration": 3,
        "start_time": "2022-01-16T16:30:42.933Z"
      },
      {
        "duration": 5,
        "start_time": "2022-01-16T16:30:42.939Z"
      },
      {
        "duration": 6,
        "start_time": "2022-01-16T16:30:42.946Z"
      },
      {
        "duration": 53,
        "start_time": "2022-01-16T16:30:42.954Z"
      },
      {
        "duration": 10,
        "start_time": "2022-01-16T16:30:43.010Z"
      },
      {
        "duration": 3197,
        "start_time": "2022-01-16T16:30:43.023Z"
      },
      {
        "duration": 12,
        "start_time": "2022-01-16T16:30:46.222Z"
      },
      {
        "duration": 10,
        "start_time": "2022-01-16T16:30:46.237Z"
      },
      {
        "duration": 30,
        "start_time": "2022-01-16T16:30:46.249Z"
      },
      {
        "duration": 32,
        "start_time": "2022-01-16T16:30:46.281Z"
      },
      {
        "duration": 29,
        "start_time": "2022-01-16T16:30:46.316Z"
      },
      {
        "duration": 13,
        "start_time": "2022-01-16T16:30:46.348Z"
      },
      {
        "duration": 38,
        "start_time": "2022-01-16T16:30:46.364Z"
      },
      {
        "duration": 24,
        "start_time": "2022-01-16T16:30:46.405Z"
      },
      {
        "duration": 6,
        "start_time": "2022-01-16T16:30:46.432Z"
      },
      {
        "duration": 68,
        "start_time": "2022-01-16T16:30:46.440Z"
      },
      {
        "duration": 18,
        "start_time": "2022-01-16T16:30:46.511Z"
      },
      {
        "duration": 4,
        "start_time": "2022-01-16T16:31:02.489Z"
      },
      {
        "duration": 86,
        "start_time": "2022-01-16T16:31:02.702Z"
      },
      {
        "duration": 6,
        "start_time": "2022-01-16T16:31:05.020Z"
      },
      {
        "duration": 21,
        "start_time": "2022-01-16T16:31:05.512Z"
      },
      {
        "duration": 16,
        "start_time": "2022-01-16T16:31:05.907Z"
      },
      {
        "duration": 32,
        "start_time": "2022-01-16T16:31:06.289Z"
      },
      {
        "duration": 25,
        "start_time": "2022-01-16T16:31:06.864Z"
      },
      {
        "duration": 5,
        "start_time": "2022-01-16T16:31:07.421Z"
      },
      {
        "duration": 8,
        "start_time": "2022-01-16T16:31:15.192Z"
      },
      {
        "duration": 10,
        "start_time": "2022-01-16T16:31:15.378Z"
      },
      {
        "duration": 10,
        "start_time": "2022-01-16T16:31:15.965Z"
      },
      {
        "duration": 9,
        "start_time": "2022-01-16T16:31:16.759Z"
      },
      {
        "duration": 9,
        "start_time": "2022-01-16T16:31:16.952Z"
      },
      {
        "duration": 10,
        "start_time": "2022-01-16T16:31:17.952Z"
      },
      {
        "duration": 11,
        "start_time": "2022-01-16T16:31:19.214Z"
      },
      {
        "duration": 15,
        "start_time": "2022-01-16T16:31:19.453Z"
      },
      {
        "duration": 12,
        "start_time": "2022-01-16T16:31:19.781Z"
      },
      {
        "duration": 6,
        "start_time": "2022-01-16T16:31:20.716Z"
      },
      {
        "duration": 8,
        "start_time": "2022-01-16T16:31:21.349Z"
      },
      {
        "duration": 12,
        "start_time": "2022-01-16T16:31:21.909Z"
      },
      {
        "duration": 6,
        "start_time": "2022-01-16T16:31:22.189Z"
      },
      {
        "duration": 6,
        "start_time": "2022-01-16T16:31:23.061Z"
      },
      {
        "duration": 4,
        "start_time": "2022-01-16T16:31:23.645Z"
      },
      {
        "duration": 8,
        "start_time": "2022-01-16T16:31:23.949Z"
      },
      {
        "duration": 9,
        "start_time": "2022-01-16T16:31:24.807Z"
      },
      {
        "duration": 37,
        "start_time": "2022-01-16T16:31:25.109Z"
      },
      {
        "duration": 9,
        "start_time": "2022-01-16T16:31:26.016Z"
      },
      {
        "duration": 8,
        "start_time": "2022-01-16T16:31:26.302Z"
      },
      {
        "duration": 10,
        "start_time": "2022-01-16T16:31:27.173Z"
      },
      {
        "duration": 11,
        "start_time": "2022-01-16T16:31:28.091Z"
      },
      {
        "duration": 22,
        "start_time": "2022-01-16T16:31:28.369Z"
      },
      {
        "duration": 9,
        "start_time": "2022-01-16T16:31:28.668Z"
      },
      {
        "duration": 10,
        "start_time": "2022-01-16T16:31:29.556Z"
      },
      {
        "duration": 25,
        "start_time": "2022-01-16T16:31:30.117Z"
      },
      {
        "duration": 11,
        "start_time": "2022-01-16T16:31:30.399Z"
      },
      {
        "duration": 4,
        "start_time": "2022-01-16T16:31:30.941Z"
      },
      {
        "duration": 29,
        "start_time": "2022-01-16T16:31:31.213Z"
      },
      {
        "duration": 27,
        "start_time": "2022-01-16T16:31:31.797Z"
      },
      {
        "duration": 25,
        "start_time": "2022-01-16T16:31:32.101Z"
      },
      {
        "duration": 4,
        "start_time": "2022-01-16T16:31:34.689Z"
      },
      {
        "duration": 5,
        "start_time": "2022-01-16T16:31:36.239Z"
      },
      {
        "duration": 5,
        "start_time": "2022-01-16T16:31:36.685Z"
      },
      {
        "duration": 14,
        "start_time": "2022-01-16T16:31:37.142Z"
      },
      {
        "duration": 10,
        "start_time": "2022-01-16T16:31:37.535Z"
      },
      {
        "duration": 47,
        "start_time": "2022-01-16T16:31:39.036Z"
      },
      {
        "duration": 5,
        "start_time": "2022-01-16T16:31:39.439Z"
      },
      {
        "duration": 6,
        "start_time": "2022-01-16T16:31:40.678Z"
      },
      {
        "duration": 6,
        "start_time": "2022-01-16T16:31:41.163Z"
      },
      {
        "duration": 7,
        "start_time": "2022-01-16T16:31:41.605Z"
      },
      {
        "duration": 11,
        "start_time": "2022-01-16T16:31:43.327Z"
      },
      {
        "duration": 22,
        "start_time": "2022-01-16T16:31:46.671Z"
      },
      {
        "duration": 12,
        "start_time": "2022-01-16T16:31:48.864Z"
      },
      {
        "duration": 285,
        "start_time": "2022-01-17T14:25:24.392Z"
      },
      {
        "duration": 1326,
        "start_time": "2022-01-17T14:25:37.737Z"
      },
      {
        "duration": 70,
        "start_time": "2022-01-17T14:25:39.065Z"
      },
      {
        "duration": 5,
        "start_time": "2022-01-17T14:25:39.138Z"
      },
      {
        "duration": 21,
        "start_time": "2022-01-17T14:25:39.145Z"
      },
      {
        "duration": 26,
        "start_time": "2022-01-17T14:25:39.168Z"
      },
      {
        "duration": 22,
        "start_time": "2022-01-17T14:25:39.196Z"
      },
      {
        "duration": 16,
        "start_time": "2022-01-17T14:25:39.219Z"
      },
      {
        "duration": 3,
        "start_time": "2022-01-17T14:25:39.238Z"
      },
      {
        "duration": 7,
        "start_time": "2022-01-17T14:25:39.259Z"
      },
      {
        "duration": 16,
        "start_time": "2022-01-17T14:25:39.268Z"
      },
      {
        "duration": 8,
        "start_time": "2022-01-17T14:25:39.286Z"
      },
      {
        "duration": 8,
        "start_time": "2022-01-17T14:25:39.296Z"
      },
      {
        "duration": 10,
        "start_time": "2022-01-17T14:25:39.306Z"
      },
      {
        "duration": 48,
        "start_time": "2022-01-17T14:25:39.317Z"
      },
      {
        "duration": 8,
        "start_time": "2022-01-17T14:25:39.366Z"
      },
      {
        "duration": 14,
        "start_time": "2022-01-17T14:25:39.375Z"
      },
      {
        "duration": 14,
        "start_time": "2022-01-17T14:25:39.391Z"
      },
      {
        "duration": 10,
        "start_time": "2022-01-17T14:25:39.407Z"
      },
      {
        "duration": 7,
        "start_time": "2022-01-17T14:25:39.419Z"
      },
      {
        "duration": 37,
        "start_time": "2022-01-17T14:25:39.428Z"
      },
      {
        "duration": 5,
        "start_time": "2022-01-17T14:25:39.467Z"
      },
      {
        "duration": 9,
        "start_time": "2022-01-17T14:25:39.474Z"
      },
      {
        "duration": 15,
        "start_time": "2022-01-17T14:25:39.487Z"
      },
      {
        "duration": 7,
        "start_time": "2022-01-17T14:25:39.505Z"
      },
      {
        "duration": 15,
        "start_time": "2022-01-17T14:25:39.513Z"
      },
      {
        "duration": 46,
        "start_time": "2022-01-17T14:25:39.530Z"
      },
      {
        "duration": 7,
        "start_time": "2022-01-17T14:25:39.578Z"
      },
      {
        "duration": 7,
        "start_time": "2022-01-17T14:25:39.586Z"
      },
      {
        "duration": 9,
        "start_time": "2022-01-17T14:25:39.594Z"
      },
      {
        "duration": 14,
        "start_time": "2022-01-17T14:25:39.605Z"
      },
      {
        "duration": 46,
        "start_time": "2022-01-17T14:25:39.621Z"
      },
      {
        "duration": 7,
        "start_time": "2022-01-17T14:25:39.669Z"
      },
      {
        "duration": 11,
        "start_time": "2022-01-17T14:25:39.678Z"
      },
      {
        "duration": 19,
        "start_time": "2022-01-17T14:25:39.691Z"
      },
      {
        "duration": 8,
        "start_time": "2022-01-17T14:25:39.712Z"
      },
      {
        "duration": 3,
        "start_time": "2022-01-17T14:25:39.721Z"
      },
      {
        "duration": 50,
        "start_time": "2022-01-17T14:25:39.726Z"
      },
      {
        "duration": 20,
        "start_time": "2022-01-17T14:25:39.778Z"
      },
      {
        "duration": 18,
        "start_time": "2022-01-17T14:25:39.800Z"
      },
      {
        "duration": 7,
        "start_time": "2022-01-17T14:25:39.820Z"
      },
      {
        "duration": 33,
        "start_time": "2022-01-17T14:25:39.829Z"
      },
      {
        "duration": 8,
        "start_time": "2022-01-17T14:25:39.865Z"
      },
      {
        "duration": 18,
        "start_time": "2022-01-17T14:25:39.875Z"
      },
      {
        "duration": 13,
        "start_time": "2022-01-17T14:25:39.895Z"
      },
      {
        "duration": 32,
        "start_time": "2022-01-17T14:25:39.910Z"
      },
      {
        "duration": 19,
        "start_time": "2022-01-17T14:25:39.944Z"
      },
      {
        "duration": 4,
        "start_time": "2022-01-17T14:25:39.965Z"
      },
      {
        "duration": 7,
        "start_time": "2022-01-17T14:25:39.971Z"
      },
      {
        "duration": 4,
        "start_time": "2022-01-17T14:25:39.980Z"
      },
      {
        "duration": 19,
        "start_time": "2022-01-17T14:25:39.985Z"
      },
      {
        "duration": 100,
        "start_time": "2022-01-17T14:25:40.005Z"
      },
      {
        "duration": -1661,
        "start_time": "2022-01-17T14:25:41.768Z"
      },
      {
        "duration": -1669,
        "start_time": "2022-01-17T14:25:41.777Z"
      },
      {
        "duration": -1673,
        "start_time": "2022-01-17T14:25:41.782Z"
      },
      {
        "duration": -1681,
        "start_time": "2022-01-17T14:25:41.791Z"
      },
      {
        "duration": -1685,
        "start_time": "2022-01-17T14:25:41.796Z"
      },
      {
        "duration": -1692,
        "start_time": "2022-01-17T14:25:41.805Z"
      },
      {
        "duration": -1695,
        "start_time": "2022-01-17T14:25:41.809Z"
      },
      {
        "duration": -1704,
        "start_time": "2022-01-17T14:25:41.819Z"
      },
      {
        "duration": -1711,
        "start_time": "2022-01-17T14:25:41.827Z"
      },
      {
        "duration": -1715,
        "start_time": "2022-01-17T14:25:41.832Z"
      },
      {
        "duration": -1718,
        "start_time": "2022-01-17T14:25:41.836Z"
      },
      {
        "duration": -1724,
        "start_time": "2022-01-17T14:25:41.844Z"
      },
      {
        "duration": -1727,
        "start_time": "2022-01-17T14:25:41.848Z"
      },
      {
        "duration": -1733,
        "start_time": "2022-01-17T14:25:41.856Z"
      },
      {
        "duration": -1791,
        "start_time": "2022-01-17T14:25:41.915Z"
      },
      {
        "duration": -1794,
        "start_time": "2022-01-17T14:25:41.919Z"
      },
      {
        "duration": -1795,
        "start_time": "2022-01-17T14:25:41.922Z"
      },
      {
        "duration": -1799,
        "start_time": "2022-01-17T14:25:41.927Z"
      },
      {
        "duration": -1801,
        "start_time": "2022-01-17T14:25:41.930Z"
      },
      {
        "duration": -1804,
        "start_time": "2022-01-17T14:25:41.934Z"
      },
      {
        "duration": -1807,
        "start_time": "2022-01-17T14:25:41.938Z"
      },
      {
        "duration": -1820,
        "start_time": "2022-01-17T14:25:41.952Z"
      },
      {
        "duration": -1823,
        "start_time": "2022-01-17T14:25:41.957Z"
      },
      {
        "duration": -1834,
        "start_time": "2022-01-17T14:25:41.969Z"
      },
      {
        "duration": -1843,
        "start_time": "2022-01-17T14:25:41.979Z"
      },
      {
        "duration": -1847,
        "start_time": "2022-01-17T14:25:41.985Z"
      },
      {
        "duration": -1857,
        "start_time": "2022-01-17T14:25:41.996Z"
      },
      {
        "duration": -1866,
        "start_time": "2022-01-17T14:25:42.006Z"
      },
      {
        "duration": -1871,
        "start_time": "2022-01-17T14:25:42.012Z"
      },
      {
        "duration": -1878,
        "start_time": "2022-01-17T14:25:42.020Z"
      },
      {
        "duration": -1888,
        "start_time": "2022-01-17T14:25:42.032Z"
      },
      {
        "duration": -1896,
        "start_time": "2022-01-17T14:25:42.041Z"
      },
      {
        "duration": -1900,
        "start_time": "2022-01-17T14:25:42.045Z"
      },
      {
        "duration": 4,
        "start_time": "2022-01-17T14:25:45.651Z"
      },
      {
        "duration": 61,
        "start_time": "2022-01-17T14:25:45.818Z"
      },
      {
        "duration": 4,
        "start_time": "2022-01-17T14:25:46.367Z"
      },
      {
        "duration": 14,
        "start_time": "2022-01-17T14:25:46.555Z"
      },
      {
        "duration": 12,
        "start_time": "2022-01-17T14:25:46.936Z"
      },
      {
        "duration": 24,
        "start_time": "2022-01-17T14:25:47.290Z"
      },
      {
        "duration": 17,
        "start_time": "2022-01-17T14:25:47.895Z"
      },
      {
        "duration": 4,
        "start_time": "2022-01-17T14:25:48.368Z"
      },
      {
        "duration": 6,
        "start_time": "2022-01-17T14:25:49.071Z"
      },
      {
        "duration": 8,
        "start_time": "2022-01-17T14:25:49.325Z"
      },
      {
        "duration": 12,
        "start_time": "2022-01-17T14:25:50.262Z"
      },
      {
        "duration": 8,
        "start_time": "2022-01-17T14:25:52.100Z"
      },
      {
        "duration": 8,
        "start_time": "2022-01-17T14:25:52.615Z"
      },
      {
        "duration": 1334,
        "start_time": "2022-01-17T14:26:05.827Z"
      },
      {
        "duration": 70,
        "start_time": "2022-01-17T14:26:07.163Z"
      },
      {
        "duration": 4,
        "start_time": "2022-01-17T14:26:07.236Z"
      },
      {
        "duration": 27,
        "start_time": "2022-01-17T14:26:07.242Z"
      },
      {
        "duration": 15,
        "start_time": "2022-01-17T14:26:07.272Z"
      },
      {
        "duration": 23,
        "start_time": "2022-01-17T14:26:07.289Z"
      },
      {
        "duration": 47,
        "start_time": "2022-01-17T14:26:07.314Z"
      },
      {
        "duration": 5,
        "start_time": "2022-01-17T14:26:07.364Z"
      },
      {
        "duration": 7,
        "start_time": "2022-01-17T14:26:07.372Z"
      },
      {
        "duration": 11,
        "start_time": "2022-01-17T14:26:07.381Z"
      },
      {
        "duration": 7,
        "start_time": "2022-01-17T14:26:07.394Z"
      },
      {
        "duration": 12,
        "start_time": "2022-01-17T14:26:07.402Z"
      },
      {
        "duration": 45,
        "start_time": "2022-01-17T14:26:07.416Z"
      },
      {
        "duration": 7,
        "start_time": "2022-01-17T14:26:07.463Z"
      },
      {
        "duration": 8,
        "start_time": "2022-01-17T14:26:07.471Z"
      },
      {
        "duration": 12,
        "start_time": "2022-01-17T14:26:07.481Z"
      },
      {
        "duration": 14,
        "start_time": "2022-01-17T14:26:07.494Z"
      },
      {
        "duration": 9,
        "start_time": "2022-01-17T14:26:07.510Z"
      },
      {
        "duration": 40,
        "start_time": "2022-01-17T14:26:07.521Z"
      },
      {
        "duration": 9,
        "start_time": "2022-01-17T14:26:07.563Z"
      },
      {
        "duration": 4,
        "start_time": "2022-01-17T14:26:07.574Z"
      },
      {
        "duration": 6,
        "start_time": "2022-01-17T14:26:07.580Z"
      },
      {
        "duration": 4,
        "start_time": "2022-01-17T14:26:07.590Z"
      },
      {
        "duration": 7,
        "start_time": "2022-01-17T14:26:07.596Z"
      },
      {
        "duration": 59,
        "start_time": "2022-01-17T14:26:07.605Z"
      },
      {
        "duration": 26,
        "start_time": "2022-01-17T14:26:07.666Z"
      },
      {
        "duration": 8,
        "start_time": "2022-01-17T14:26:07.694Z"
      },
      {
        "duration": 7,
        "start_time": "2022-01-17T14:26:07.703Z"
      },
      {
        "duration": 9,
        "start_time": "2022-01-17T14:26:07.712Z"
      },
      {
        "duration": 45,
        "start_time": "2022-01-17T14:26:07.723Z"
      },
      {
        "duration": 17,
        "start_time": "2022-01-17T14:26:07.771Z"
      },
      {
        "duration": 8,
        "start_time": "2022-01-17T14:26:07.790Z"
      },
      {
        "duration": 9,
        "start_time": "2022-01-17T14:26:07.800Z"
      },
      {
        "duration": 48,
        "start_time": "2022-01-17T14:26:07.812Z"
      },
      {
        "duration": 12,
        "start_time": "2022-01-17T14:26:07.863Z"
      },
      {
        "duration": 4,
        "start_time": "2022-01-17T14:26:07.877Z"
      },
      {
        "duration": 27,
        "start_time": "2022-01-17T14:26:07.882Z"
      },
      {
        "duration": 24,
        "start_time": "2022-01-17T14:26:07.911Z"
      },
      {
        "duration": 33,
        "start_time": "2022-01-17T14:26:07.937Z"
      },
      {
        "duration": 4,
        "start_time": "2022-01-17T14:26:07.972Z"
      },
      {
        "duration": 5,
        "start_time": "2022-01-17T14:26:07.978Z"
      },
      {
        "duration": 7,
        "start_time": "2022-01-17T14:26:07.985Z"
      },
      {
        "duration": 10,
        "start_time": "2022-01-17T14:26:07.994Z"
      },
      {
        "duration": 7,
        "start_time": "2022-01-17T14:26:08.006Z"
      },
      {
        "duration": 67,
        "start_time": "2022-01-17T14:26:08.015Z"
      },
      {
        "duration": 4,
        "start_time": "2022-01-17T14:26:08.084Z"
      },
      {
        "duration": 11,
        "start_time": "2022-01-17T14:26:08.089Z"
      },
      {
        "duration": 5,
        "start_time": "2022-01-17T14:26:08.102Z"
      },
      {
        "duration": 5,
        "start_time": "2022-01-17T14:26:08.109Z"
      },
      {
        "duration": 8,
        "start_time": "2022-01-17T14:26:08.116Z"
      },
      {
        "duration": 183,
        "start_time": "2022-01-17T14:26:08.126Z"
      },
      {
        "duration": -1383,
        "start_time": "2022-01-17T14:26:09.695Z"
      },
      {
        "duration": -1394,
        "start_time": "2022-01-17T14:26:09.707Z"
      },
      {
        "duration": -1396,
        "start_time": "2022-01-17T14:26:09.710Z"
      },
      {
        "duration": -1399,
        "start_time": "2022-01-17T14:26:09.714Z"
      },
      {
        "duration": -1402,
        "start_time": "2022-01-17T14:26:09.718Z"
      },
      {
        "duration": -1405,
        "start_time": "2022-01-17T14:26:09.722Z"
      },
      {
        "duration": -1409,
        "start_time": "2022-01-17T14:26:09.727Z"
      },
      {
        "duration": -1413,
        "start_time": "2022-01-17T14:26:09.732Z"
      },
      {
        "duration": -1418,
        "start_time": "2022-01-17T14:26:09.737Z"
      },
      {
        "duration": -1421,
        "start_time": "2022-01-17T14:26:09.741Z"
      },
      {
        "duration": -1423,
        "start_time": "2022-01-17T14:26:09.745Z"
      },
      {
        "duration": -1438,
        "start_time": "2022-01-17T14:26:09.760Z"
      },
      {
        "duration": -1443,
        "start_time": "2022-01-17T14:26:09.766Z"
      },
      {
        "duration": -1449,
        "start_time": "2022-01-17T14:26:09.773Z"
      },
      {
        "duration": -1453,
        "start_time": "2022-01-17T14:26:09.778Z"
      },
      {
        "duration": -1457,
        "start_time": "2022-01-17T14:26:09.783Z"
      },
      {
        "duration": -1460,
        "start_time": "2022-01-17T14:26:09.787Z"
      },
      {
        "duration": -1462,
        "start_time": "2022-01-17T14:26:09.791Z"
      },
      {
        "duration": -1466,
        "start_time": "2022-01-17T14:26:09.795Z"
      },
      {
        "duration": -1469,
        "start_time": "2022-01-17T14:26:09.799Z"
      },
      {
        "duration": -1473,
        "start_time": "2022-01-17T14:26:09.804Z"
      },
      {
        "duration": -1475,
        "start_time": "2022-01-17T14:26:09.807Z"
      },
      {
        "duration": -1477,
        "start_time": "2022-01-17T14:26:09.811Z"
      },
      {
        "duration": -1481,
        "start_time": "2022-01-17T14:26:09.816Z"
      },
      {
        "duration": -1484,
        "start_time": "2022-01-17T14:26:09.820Z"
      },
      {
        "duration": -1486,
        "start_time": "2022-01-17T14:26:09.823Z"
      },
      {
        "duration": -1491,
        "start_time": "2022-01-17T14:26:09.828Z"
      },
      {
        "duration": -1494,
        "start_time": "2022-01-17T14:26:09.832Z"
      },
      {
        "duration": -1498,
        "start_time": "2022-01-17T14:26:09.837Z"
      },
      {
        "duration": -1500,
        "start_time": "2022-01-17T14:26:09.840Z"
      },
      {
        "duration": -1503,
        "start_time": "2022-01-17T14:26:09.844Z"
      },
      {
        "duration": -1506,
        "start_time": "2022-01-17T14:26:09.848Z"
      },
      {
        "duration": -1510,
        "start_time": "2022-01-17T14:26:09.852Z"
      },
      {
        "duration": 93,
        "start_time": "2022-01-17T14:26:16.489Z"
      },
      {
        "duration": 17,
        "start_time": "2022-01-17T14:26:24.885Z"
      },
      {
        "duration": 5,
        "start_time": "2022-01-17T14:26:27.717Z"
      },
      {
        "duration": 18,
        "start_time": "2022-01-17T14:30:15.953Z"
      },
      {
        "duration": 25,
        "start_time": "2022-01-17T14:30:40.168Z"
      },
      {
        "duration": 15,
        "start_time": "2022-01-17T14:30:40.890Z"
      },
      {
        "duration": 19,
        "start_time": "2022-01-17T14:30:43.458Z"
      },
      {
        "duration": 9,
        "start_time": "2022-01-17T14:36:14.696Z"
      },
      {
        "duration": 324,
        "start_time": "2022-01-26T16:45:17.092Z"
      },
      {
        "duration": 1826,
        "start_time": "2022-01-26T16:45:25.202Z"
      },
      {
        "duration": 106,
        "start_time": "2022-01-26T16:45:27.033Z"
      },
      {
        "duration": 4,
        "start_time": "2022-01-26T16:45:27.143Z"
      },
      {
        "duration": 22,
        "start_time": "2022-01-26T16:45:27.150Z"
      },
      {
        "duration": 18,
        "start_time": "2022-01-26T16:45:27.175Z"
      },
      {
        "duration": 66,
        "start_time": "2022-01-26T16:45:27.196Z"
      },
      {
        "duration": 26,
        "start_time": "2022-01-26T16:45:27.265Z"
      },
      {
        "duration": 40,
        "start_time": "2022-01-26T16:45:27.294Z"
      },
      {
        "duration": 12,
        "start_time": "2022-01-26T16:45:27.338Z"
      },
      {
        "duration": 12,
        "start_time": "2022-01-26T16:45:27.355Z"
      },
      {
        "duration": 9,
        "start_time": "2022-01-26T16:45:27.370Z"
      },
      {
        "duration": 9,
        "start_time": "2022-01-26T16:45:27.382Z"
      },
      {
        "duration": 11,
        "start_time": "2022-01-26T16:45:27.432Z"
      },
      {
        "duration": 19,
        "start_time": "2022-01-26T16:45:27.446Z"
      },
      {
        "duration": 14,
        "start_time": "2022-01-26T16:45:27.467Z"
      },
      {
        "duration": 52,
        "start_time": "2022-01-26T16:45:27.484Z"
      },
      {
        "duration": 17,
        "start_time": "2022-01-26T16:45:27.539Z"
      },
      {
        "duration": 15,
        "start_time": "2022-01-26T16:45:27.558Z"
      },
      {
        "duration": 8,
        "start_time": "2022-01-26T16:45:27.576Z"
      },
      {
        "duration": 30,
        "start_time": "2022-01-26T16:45:27.586Z"
      },
      {
        "duration": 21,
        "start_time": "2022-01-26T16:45:27.618Z"
      },
      {
        "duration": 18,
        "start_time": "2022-01-26T16:45:27.641Z"
      },
      {
        "duration": 11,
        "start_time": "2022-01-26T16:45:27.667Z"
      },
      {
        "duration": 10,
        "start_time": "2022-01-26T16:45:27.683Z"
      },
      {
        "duration": 39,
        "start_time": "2022-01-26T16:45:27.695Z"
      },
      {
        "duration": 38,
        "start_time": "2022-01-26T16:45:27.737Z"
      },
      {
        "duration": 9,
        "start_time": "2022-01-26T16:45:27.778Z"
      },
      {
        "duration": 8,
        "start_time": "2022-01-26T16:45:27.790Z"
      },
      {
        "duration": 39,
        "start_time": "2022-01-26T16:45:27.800Z"
      },
      {
        "duration": 12,
        "start_time": "2022-01-26T16:45:27.842Z"
      },
      {
        "duration": 23,
        "start_time": "2022-01-26T16:45:27.856Z"
      },
      {
        "duration": 9,
        "start_time": "2022-01-26T16:45:27.882Z"
      },
      {
        "duration": 12,
        "start_time": "2022-01-26T16:45:27.933Z"
      },
      {
        "duration": 28,
        "start_time": "2022-01-26T16:45:27.947Z"
      },
      {
        "duration": 13,
        "start_time": "2022-01-26T16:45:27.979Z"
      },
      {
        "duration": 4,
        "start_time": "2022-01-26T16:45:27.995Z"
      },
      {
        "duration": 31,
        "start_time": "2022-01-26T16:45:28.032Z"
      },
      {
        "duration": 29,
        "start_time": "2022-01-26T16:45:28.065Z"
      },
      {
        "duration": 56,
        "start_time": "2022-01-26T16:45:28.097Z"
      },
      {
        "duration": 4,
        "start_time": "2022-01-26T16:45:28.155Z"
      },
      {
        "duration": 9,
        "start_time": "2022-01-26T16:45:28.162Z"
      },
      {
        "duration": 12,
        "start_time": "2022-01-26T16:45:28.174Z"
      },
      {
        "duration": 52,
        "start_time": "2022-01-26T16:45:28.189Z"
      },
      {
        "duration": 9,
        "start_time": "2022-01-26T16:45:28.244Z"
      },
      {
        "duration": 43,
        "start_time": "2022-01-26T16:45:28.255Z"
      },
      {
        "duration": 34,
        "start_time": "2022-01-26T16:45:28.301Z"
      },
      {
        "duration": 6,
        "start_time": "2022-01-26T16:45:28.338Z"
      },
      {
        "duration": 8,
        "start_time": "2022-01-26T16:45:28.346Z"
      },
      {
        "duration": 9,
        "start_time": "2022-01-26T16:45:28.357Z"
      },
      {
        "duration": 11,
        "start_time": "2022-01-26T16:45:28.368Z"
      },
      {
        "duration": 62,
        "start_time": "2022-01-26T16:45:28.382Z"
      },
      {
        "duration": 13,
        "start_time": "2022-01-26T16:45:28.446Z"
      },
      {
        "duration": 7,
        "start_time": "2022-01-26T16:45:28.461Z"
      },
      {
        "duration": 10,
        "start_time": "2022-01-26T16:45:28.470Z"
      },
      {
        "duration": 54,
        "start_time": "2022-01-26T16:45:28.483Z"
      },
      {
        "duration": 11,
        "start_time": "2022-01-26T16:45:28.539Z"
      },
      {
        "duration": 23,
        "start_time": "2022-01-26T16:45:28.552Z"
      },
      {
        "duration": 12,
        "start_time": "2022-01-26T16:45:28.578Z"
      },
      {
        "duration": 45,
        "start_time": "2022-01-26T16:45:28.592Z"
      },
      {
        "duration": 12,
        "start_time": "2022-01-26T16:45:28.639Z"
      },
      {
        "duration": 9,
        "start_time": "2022-01-26T16:45:28.654Z"
      },
      {
        "duration": 4,
        "start_time": "2022-01-26T16:45:28.665Z"
      },
      {
        "duration": 2026,
        "start_time": "2022-01-26T16:45:28.671Z"
      },
      {
        "duration": 16,
        "start_time": "2022-01-26T16:45:30.699Z"
      },
      {
        "duration": 20,
        "start_time": "2022-01-26T16:45:30.717Z"
      },
      {
        "duration": 14,
        "start_time": "2022-01-26T16:45:30.740Z"
      },
      {
        "duration": 14,
        "start_time": "2022-01-26T16:45:30.756Z"
      },
      {
        "duration": 7,
        "start_time": "2022-01-26T16:45:30.778Z"
      },
      {
        "duration": 24,
        "start_time": "2022-01-26T16:45:30.788Z"
      },
      {
        "duration": 10,
        "start_time": "2022-01-26T16:45:30.815Z"
      },
      {
        "duration": 30,
        "start_time": "2022-01-26T16:45:30.828Z"
      },
      {
        "duration": 11,
        "start_time": "2022-01-26T16:45:30.860Z"
      },
      {
        "duration": 3030,
        "start_time": "2022-01-26T16:45:30.874Z"
      },
      {
        "duration": 9,
        "start_time": "2022-01-26T16:45:33.906Z"
      },
      {
        "duration": 6,
        "start_time": "2022-01-26T16:45:33.931Z"
      },
      {
        "duration": 12,
        "start_time": "2022-01-26T16:45:33.940Z"
      },
      {
        "duration": 4,
        "start_time": "2022-01-26T16:45:33.955Z"
      },
      {
        "duration": 17,
        "start_time": "2022-01-26T16:45:33.962Z"
      },
      {
        "duration": 10,
        "start_time": "2022-01-26T16:45:33.981Z"
      },
      {
        "duration": 59,
        "start_time": "2022-01-26T16:45:33.993Z"
      },
      {
        "duration": 20,
        "start_time": "2022-01-26T16:45:34.054Z"
      },
      {
        "duration": 5,
        "start_time": "2022-01-26T16:45:34.076Z"
      },
      {
        "duration": 60,
        "start_time": "2022-01-26T16:45:34.083Z"
      },
      {
        "duration": 14,
        "start_time": "2022-01-26T16:45:34.145Z"
      },
      {
        "duration": 428,
        "start_time": "2022-01-27T13:44:27.282Z"
      },
      {
        "duration": 1647,
        "start_time": "2022-01-27T13:44:36.632Z"
      },
      {
        "duration": 93,
        "start_time": "2022-01-27T13:44:38.282Z"
      },
      {
        "duration": 5,
        "start_time": "2022-01-27T13:44:38.378Z"
      },
      {
        "duration": 23,
        "start_time": "2022-01-27T13:44:38.386Z"
      },
      {
        "duration": 42,
        "start_time": "2022-01-27T13:44:38.411Z"
      },
      {
        "duration": 33,
        "start_time": "2022-01-27T13:44:38.456Z"
      },
      {
        "duration": 24,
        "start_time": "2022-01-27T13:44:38.491Z"
      },
      {
        "duration": 5,
        "start_time": "2022-01-27T13:44:38.551Z"
      },
      {
        "duration": 13,
        "start_time": "2022-01-27T13:44:38.560Z"
      },
      {
        "duration": 12,
        "start_time": "2022-01-27T13:44:38.575Z"
      },
      {
        "duration": 9,
        "start_time": "2022-01-27T13:44:38.589Z"
      },
      {
        "duration": 51,
        "start_time": "2022-01-27T13:44:38.600Z"
      },
      {
        "duration": 10,
        "start_time": "2022-01-27T13:44:38.653Z"
      },
      {
        "duration": 10,
        "start_time": "2022-01-27T13:44:38.665Z"
      },
      {
        "duration": 21,
        "start_time": "2022-01-27T13:44:38.677Z"
      },
      {
        "duration": 25,
        "start_time": "2022-01-27T13:44:38.700Z"
      },
      {
        "duration": 24,
        "start_time": "2022-01-27T13:44:38.727Z"
      },
      {
        "duration": 12,
        "start_time": "2022-01-27T13:44:38.754Z"
      },
      {
        "duration": 15,
        "start_time": "2022-01-27T13:44:38.769Z"
      },
      {
        "duration": 18,
        "start_time": "2022-01-27T13:44:38.786Z"
      },
      {
        "duration": 6,
        "start_time": "2022-01-27T13:44:38.807Z"
      },
      {
        "duration": 34,
        "start_time": "2022-01-27T13:44:38.815Z"
      },
      {
        "duration": 4,
        "start_time": "2022-01-27T13:44:38.855Z"
      },
      {
        "duration": 18,
        "start_time": "2022-01-27T13:44:38.863Z"
      },
      {
        "duration": 9,
        "start_time": "2022-01-27T13:44:38.884Z"
      },
      {
        "duration": 61,
        "start_time": "2022-01-27T13:44:38.896Z"
      },
      {
        "duration": 19,
        "start_time": "2022-01-27T13:44:38.960Z"
      },
      {
        "duration": 9,
        "start_time": "2022-01-27T13:44:38.982Z"
      },
      {
        "duration": 11,
        "start_time": "2022-01-27T13:44:38.994Z"
      },
      {
        "duration": 44,
        "start_time": "2022-01-27T13:44:39.008Z"
      },
      {
        "duration": 21,
        "start_time": "2022-01-27T13:44:39.055Z"
      },
      {
        "duration": 10,
        "start_time": "2022-01-27T13:44:39.079Z"
      },
      {
        "duration": 12,
        "start_time": "2022-01-27T13:44:39.092Z"
      },
      {
        "duration": 63,
        "start_time": "2022-01-27T13:44:39.107Z"
      },
      {
        "duration": 12,
        "start_time": "2022-01-27T13:44:39.173Z"
      },
      {
        "duration": 5,
        "start_time": "2022-01-27T13:44:39.187Z"
      },
      {
        "duration": 66,
        "start_time": "2022-01-27T13:44:39.195Z"
      },
      {
        "duration": 25,
        "start_time": "2022-01-27T13:44:39.264Z"
      },
      {
        "duration": 23,
        "start_time": "2022-01-27T13:44:39.292Z"
      },
      {
        "duration": 4,
        "start_time": "2022-01-27T13:44:39.349Z"
      },
      {
        "duration": 7,
        "start_time": "2022-01-27T13:44:39.355Z"
      },
      {
        "duration": 8,
        "start_time": "2022-01-27T13:44:39.364Z"
      },
      {
        "duration": 12,
        "start_time": "2022-01-27T13:44:39.374Z"
      },
      {
        "duration": 11,
        "start_time": "2022-01-27T13:44:39.388Z"
      },
      {
        "duration": 82,
        "start_time": "2022-01-27T13:44:39.402Z"
      },
      {
        "duration": 6,
        "start_time": "2022-01-27T13:44:39.486Z"
      },
      {
        "duration": 12,
        "start_time": "2022-01-27T13:44:39.494Z"
      },
      {
        "duration": 5,
        "start_time": "2022-01-27T13:44:39.509Z"
      },
      {
        "duration": 36,
        "start_time": "2022-01-27T13:44:39.516Z"
      },
      {
        "duration": 388,
        "start_time": "2022-01-27T13:44:39.554Z"
      },
      {
        "duration": -2498,
        "start_time": "2022-01-27T13:44:42.443Z"
      },
      {
        "duration": -2571,
        "start_time": "2022-01-27T13:44:42.518Z"
      },
      {
        "duration": -2579,
        "start_time": "2022-01-27T13:44:42.527Z"
      },
      {
        "duration": -2581,
        "start_time": "2022-01-27T13:44:42.531Z"
      },
      {
        "duration": -2588,
        "start_time": "2022-01-27T13:44:42.539Z"
      },
      {
        "duration": -2589,
        "start_time": "2022-01-27T13:44:42.542Z"
      },
      {
        "duration": -2591,
        "start_time": "2022-01-27T13:44:42.545Z"
      },
      {
        "duration": -2593,
        "start_time": "2022-01-27T13:44:42.549Z"
      },
      {
        "duration": -2763,
        "start_time": "2022-01-27T13:44:42.720Z"
      },
      {
        "duration": -2765,
        "start_time": "2022-01-27T13:44:42.724Z"
      },
      {
        "duration": -2767,
        "start_time": "2022-01-27T13:44:42.727Z"
      },
      {
        "duration": -2769,
        "start_time": "2022-01-27T13:44:42.730Z"
      },
      {
        "duration": -2770,
        "start_time": "2022-01-27T13:44:42.733Z"
      },
      {
        "duration": -2772,
        "start_time": "2022-01-27T13:44:42.736Z"
      },
      {
        "duration": -2963,
        "start_time": "2022-01-27T13:44:42.929Z"
      },
      {
        "duration": -2976,
        "start_time": "2022-01-27T13:44:42.943Z"
      },
      {
        "duration": -2978,
        "start_time": "2022-01-27T13:44:42.947Z"
      },
      {
        "duration": -2987,
        "start_time": "2022-01-27T13:44:42.957Z"
      },
      {
        "duration": -3119,
        "start_time": "2022-01-27T13:44:43.091Z"
      },
      {
        "duration": -3137,
        "start_time": "2022-01-27T13:44:43.114Z"
      },
      {
        "duration": -3252,
        "start_time": "2022-01-27T13:44:43.231Z"
      },
      {
        "duration": -3266,
        "start_time": "2022-01-27T13:44:43.247Z"
      },
      {
        "duration": -3548,
        "start_time": "2022-01-27T13:44:43.531Z"
      },
      {
        "duration": -3569,
        "start_time": "2022-01-27T13:44:43.555Z"
      },
      {
        "duration": -3576,
        "start_time": "2022-01-27T13:44:43.564Z"
      },
      {
        "duration": -3518,
        "start_time": "2022-01-27T13:44:43.567Z"
      },
      {
        "duration": -3519,
        "start_time": "2022-01-27T13:44:43.570Z"
      },
      {
        "duration": -3519,
        "start_time": "2022-01-27T13:44:43.573Z"
      },
      {
        "duration": -3520,
        "start_time": "2022-01-27T13:44:43.576Z"
      },
      {
        "duration": -3521,
        "start_time": "2022-01-27T13:44:43.579Z"
      },
      {
        "duration": -3521,
        "start_time": "2022-01-27T13:44:43.582Z"
      },
      {
        "duration": -3522,
        "start_time": "2022-01-27T13:44:43.585Z"
      },
      {
        "duration": -3522,
        "start_time": "2022-01-27T13:44:43.588Z"
      },
      {
        "duration": -3524,
        "start_time": "2022-01-27T13:44:43.591Z"
      },
      {
        "duration": -3525,
        "start_time": "2022-01-27T13:44:43.594Z"
      },
      {
        "duration": 24,
        "start_time": "2022-01-27T13:45:08.822Z"
      },
      {
        "duration": 33,
        "start_time": "2022-01-27T13:45:18.280Z"
      },
      {
        "duration": 980,
        "start_time": "2022-01-27T13:48:21.934Z"
      },
      {
        "duration": 759,
        "start_time": "2022-01-27T13:49:15.586Z"
      },
      {
        "duration": 1015,
        "start_time": "2022-01-27T13:49:29.177Z"
      },
      {
        "duration": 372,
        "start_time": "2022-01-27T13:51:39.419Z"
      },
      {
        "duration": 34,
        "start_time": "2022-01-27T13:52:22.088Z"
      },
      {
        "duration": 42,
        "start_time": "2022-01-27T13:52:33.266Z"
      },
      {
        "duration": 1243,
        "start_time": "2022-02-27T08:51:08.101Z"
      },
      {
        "duration": 502,
        "start_time": "2022-02-27T08:51:09.346Z"
      },
      {
        "duration": 4,
        "start_time": "2022-02-27T08:51:09.850Z"
      },
      {
        "duration": 15,
        "start_time": "2022-02-27T08:51:09.856Z"
      },
      {
        "duration": 14,
        "start_time": "2022-02-27T08:51:09.873Z"
      },
      {
        "duration": 22,
        "start_time": "2022-02-27T08:51:09.889Z"
      },
      {
        "duration": 17,
        "start_time": "2022-02-27T08:51:09.913Z"
      },
      {
        "duration": 3,
        "start_time": "2022-02-27T08:51:09.932Z"
      },
      {
        "duration": 7,
        "start_time": "2022-02-27T08:51:09.938Z"
      },
      {
        "duration": 37,
        "start_time": "2022-02-27T08:51:09.947Z"
      },
      {
        "duration": 8,
        "start_time": "2022-02-27T08:51:09.986Z"
      },
      {
        "duration": 9,
        "start_time": "2022-02-27T08:51:09.995Z"
      },
      {
        "duration": 14,
        "start_time": "2022-02-27T08:51:10.006Z"
      },
      {
        "duration": 19,
        "start_time": "2022-02-27T08:51:10.022Z"
      },
      {
        "duration": 17,
        "start_time": "2022-02-27T08:51:10.043Z"
      },
      {
        "duration": 11,
        "start_time": "2022-02-27T08:51:10.076Z"
      },
      {
        "duration": 12,
        "start_time": "2022-02-27T08:51:10.089Z"
      },
      {
        "duration": 7,
        "start_time": "2022-02-27T08:51:10.103Z"
      },
      {
        "duration": 7,
        "start_time": "2022-02-27T08:51:10.111Z"
      },
      {
        "duration": 15,
        "start_time": "2022-02-27T08:51:10.120Z"
      },
      {
        "duration": 15,
        "start_time": "2022-02-27T08:51:10.137Z"
      },
      {
        "duration": 28,
        "start_time": "2022-02-27T08:51:10.154Z"
      },
      {
        "duration": 10,
        "start_time": "2022-02-27T08:51:10.184Z"
      },
      {
        "duration": 9,
        "start_time": "2022-02-27T08:51:10.195Z"
      },
      {
        "duration": 9,
        "start_time": "2022-02-27T08:51:10.206Z"
      },
      {
        "duration": 25,
        "start_time": "2022-02-27T08:51:10.217Z"
      },
      {
        "duration": 7,
        "start_time": "2022-02-27T08:51:10.277Z"
      },
      {
        "duration": 7,
        "start_time": "2022-02-27T08:51:10.288Z"
      },
      {
        "duration": 8,
        "start_time": "2022-02-27T08:51:10.297Z"
      },
      {
        "duration": 9,
        "start_time": "2022-02-27T08:51:10.307Z"
      },
      {
        "duration": 16,
        "start_time": "2022-02-27T08:51:10.318Z"
      },
      {
        "duration": 45,
        "start_time": "2022-02-27T08:51:10.336Z"
      },
      {
        "duration": 8,
        "start_time": "2022-02-27T08:51:10.384Z"
      },
      {
        "duration": 19,
        "start_time": "2022-02-27T08:51:10.394Z"
      },
      {
        "duration": 9,
        "start_time": "2022-02-27T08:51:10.415Z"
      },
      {
        "duration": 3,
        "start_time": "2022-02-27T08:51:10.426Z"
      },
      {
        "duration": 59,
        "start_time": "2022-02-27T08:51:10.431Z"
      },
      {
        "duration": 18,
        "start_time": "2022-02-27T08:51:10.493Z"
      },
      {
        "duration": 17,
        "start_time": "2022-02-27T08:51:10.512Z"
      },
      {
        "duration": 4,
        "start_time": "2022-02-27T08:51:10.531Z"
      },
      {
        "duration": 40,
        "start_time": "2022-02-27T08:51:10.537Z"
      },
      {
        "duration": 4,
        "start_time": "2022-02-27T08:51:10.579Z"
      },
      {
        "duration": 10,
        "start_time": "2022-02-27T08:51:10.585Z"
      },
      {
        "duration": 12,
        "start_time": "2022-02-27T08:51:10.597Z"
      },
      {
        "duration": 30,
        "start_time": "2022-02-27T08:51:10.611Z"
      },
      {
        "duration": 32,
        "start_time": "2022-02-27T08:51:10.644Z"
      },
      {
        "duration": 6,
        "start_time": "2022-02-27T08:51:10.678Z"
      },
      {
        "duration": 5,
        "start_time": "2022-02-27T08:51:10.686Z"
      },
      {
        "duration": 6,
        "start_time": "2022-02-27T08:51:10.693Z"
      },
      {
        "duration": 25,
        "start_time": "2022-02-27T08:51:10.701Z"
      },
      {
        "duration": 6,
        "start_time": "2022-02-27T08:51:10.728Z"
      },
      {
        "duration": 52,
        "start_time": "2022-02-27T08:51:10.736Z"
      },
      {
        "duration": 9,
        "start_time": "2022-02-27T08:51:10.790Z"
      },
      {
        "duration": 8,
        "start_time": "2022-02-27T08:51:10.800Z"
      },
      {
        "duration": 10,
        "start_time": "2022-02-27T08:51:10.809Z"
      },
      {
        "duration": 7,
        "start_time": "2022-02-27T08:51:10.820Z"
      },
      {
        "duration": 11,
        "start_time": "2022-02-27T08:51:10.829Z"
      },
      {
        "duration": 49,
        "start_time": "2022-02-27T08:51:10.842Z"
      },
      {
        "duration": 10,
        "start_time": "2022-02-27T08:51:10.893Z"
      },
      {
        "duration": 13,
        "start_time": "2022-02-27T08:51:10.905Z"
      },
      {
        "duration": 11,
        "start_time": "2022-02-27T08:51:10.920Z"
      },
      {
        "duration": 43,
        "start_time": "2022-02-27T08:51:10.934Z"
      },
      {
        "duration": 3,
        "start_time": "2022-02-27T08:51:10.980Z"
      },
      {
        "duration": 1376,
        "start_time": "2022-02-27T08:51:10.984Z"
      },
      {
        "duration": 11,
        "start_time": "2022-02-27T08:51:12.362Z"
      },
      {
        "duration": 6,
        "start_time": "2022-02-27T08:51:12.374Z"
      },
      {
        "duration": 5,
        "start_time": "2022-02-27T08:51:12.381Z"
      },
      {
        "duration": 5,
        "start_time": "2022-02-27T08:51:12.387Z"
      },
      {
        "duration": 5,
        "start_time": "2022-02-27T08:51:12.394Z"
      },
      {
        "duration": 5,
        "start_time": "2022-02-27T08:51:12.400Z"
      },
      {
        "duration": 6,
        "start_time": "2022-02-27T08:51:12.407Z"
      },
      {
        "duration": 8,
        "start_time": "2022-02-27T08:51:12.415Z"
      },
      {
        "duration": 6,
        "start_time": "2022-02-27T08:51:12.425Z"
      },
      {
        "duration": 1910,
        "start_time": "2022-02-27T08:51:12.433Z"
      },
      {
        "duration": 7,
        "start_time": "2022-02-27T08:51:14.345Z"
      },
      {
        "duration": 13,
        "start_time": "2022-02-27T08:51:14.354Z"
      },
      {
        "duration": 15,
        "start_time": "2022-02-27T08:51:14.368Z"
      },
      {
        "duration": 3,
        "start_time": "2022-02-27T08:51:14.385Z"
      },
      {
        "duration": 14,
        "start_time": "2022-02-27T08:51:14.389Z"
      },
      {
        "duration": 10,
        "start_time": "2022-02-27T08:51:14.405Z"
      },
      {
        "duration": 19,
        "start_time": "2022-02-27T08:51:14.420Z"
      },
      {
        "duration": 47,
        "start_time": "2022-02-27T08:51:14.441Z"
      },
      {
        "duration": 4,
        "start_time": "2022-02-27T08:51:14.489Z"
      },
      {
        "duration": 20,
        "start_time": "2022-02-27T08:51:14.495Z"
      },
      {
        "duration": 11,
        "start_time": "2022-02-27T08:51:14.517Z"
      },
      {
        "duration": 1462,
        "start_time": "2022-03-07T18:43:44.238Z"
      },
      {
        "duration": 88,
        "start_time": "2022-03-07T18:43:45.703Z"
      },
      {
        "duration": 5,
        "start_time": "2022-03-07T18:43:45.794Z"
      },
      {
        "duration": 18,
        "start_time": "2022-03-07T18:43:45.802Z"
      },
      {
        "duration": 15,
        "start_time": "2022-03-07T18:43:45.823Z"
      },
      {
        "duration": 66,
        "start_time": "2022-03-07T18:43:45.840Z"
      },
      {
        "duration": 24,
        "start_time": "2022-03-07T18:43:45.908Z"
      },
      {
        "duration": 4,
        "start_time": "2022-03-07T18:43:45.936Z"
      },
      {
        "duration": 41,
        "start_time": "2022-03-07T18:43:45.943Z"
      },
      {
        "duration": 13,
        "start_time": "2022-03-07T18:43:45.987Z"
      },
      {
        "duration": 9,
        "start_time": "2022-03-07T18:43:46.003Z"
      },
      {
        "duration": 8,
        "start_time": "2022-03-07T18:43:46.014Z"
      },
      {
        "duration": 11,
        "start_time": "2022-03-07T18:43:46.025Z"
      },
      {
        "duration": 52,
        "start_time": "2022-03-07T18:43:46.038Z"
      },
      {
        "duration": 9,
        "start_time": "2022-03-07T18:43:46.093Z"
      },
      {
        "duration": 16,
        "start_time": "2022-03-07T18:43:46.105Z"
      },
      {
        "duration": 13,
        "start_time": "2022-03-07T18:43:46.123Z"
      },
      {
        "duration": 46,
        "start_time": "2022-03-07T18:43:46.138Z"
      },
      {
        "duration": 11,
        "start_time": "2022-03-07T18:43:46.187Z"
      },
      {
        "duration": 13,
        "start_time": "2022-03-07T18:43:46.200Z"
      },
      {
        "duration": 6,
        "start_time": "2022-03-07T18:43:46.215Z"
      },
      {
        "duration": 8,
        "start_time": "2022-03-07T18:43:46.223Z"
      },
      {
        "duration": 45,
        "start_time": "2022-03-07T18:43:46.237Z"
      },
      {
        "duration": 8,
        "start_time": "2022-03-07T18:43:46.286Z"
      },
      {
        "duration": 9,
        "start_time": "2022-03-07T18:43:46.296Z"
      },
      {
        "duration": 37,
        "start_time": "2022-03-07T18:43:46.307Z"
      },
      {
        "duration": 49,
        "start_time": "2022-03-07T18:43:46.346Z"
      },
      {
        "duration": 7,
        "start_time": "2022-03-07T18:43:46.398Z"
      },
      {
        "duration": 9,
        "start_time": "2022-03-07T18:43:46.408Z"
      },
      {
        "duration": 10,
        "start_time": "2022-03-07T18:43:46.419Z"
      },
      {
        "duration": 54,
        "start_time": "2022-03-07T18:43:46.432Z"
      },
      {
        "duration": 10,
        "start_time": "2022-03-07T18:43:46.488Z"
      },
      {
        "duration": 14,
        "start_time": "2022-03-07T18:43:46.500Z"
      },
      {
        "duration": 28,
        "start_time": "2022-03-07T18:43:46.516Z"
      },
      {
        "duration": 41,
        "start_time": "2022-03-07T18:43:46.546Z"
      },
      {
        "duration": 3,
        "start_time": "2022-03-07T18:43:46.590Z"
      },
      {
        "duration": 30,
        "start_time": "2022-03-07T18:43:46.595Z"
      },
      {
        "duration": 24,
        "start_time": "2022-03-07T18:43:46.627Z"
      },
      {
        "duration": 23,
        "start_time": "2022-03-07T18:43:46.682Z"
      },
      {
        "duration": 6,
        "start_time": "2022-03-07T18:43:46.707Z"
      },
      {
        "duration": 7,
        "start_time": "2022-03-07T18:43:46.716Z"
      },
      {
        "duration": 8,
        "start_time": "2022-03-07T18:43:46.725Z"
      },
      {
        "duration": 54,
        "start_time": "2022-03-07T18:43:46.736Z"
      },
      {
        "duration": 14,
        "start_time": "2022-03-07T18:43:46.793Z"
      },
      {
        "duration": 44,
        "start_time": "2022-03-07T18:43:46.809Z"
      },
      {
        "duration": 27,
        "start_time": "2022-03-07T18:43:46.855Z"
      },
      {
        "duration": 5,
        "start_time": "2022-03-07T18:43:46.884Z"
      },
      {
        "duration": 8,
        "start_time": "2022-03-07T18:43:46.891Z"
      },
      {
        "duration": 7,
        "start_time": "2022-03-07T18:43:46.902Z"
      },
      {
        "duration": 40,
        "start_time": "2022-03-07T18:43:46.911Z"
      },
      {
        "duration": 10,
        "start_time": "2022-03-07T18:43:46.982Z"
      },
      {
        "duration": 20,
        "start_time": "2022-03-07T18:43:46.995Z"
      },
      {
        "duration": 12,
        "start_time": "2022-03-07T18:43:47.017Z"
      },
      {
        "duration": 6,
        "start_time": "2022-03-07T18:43:47.031Z"
      },
      {
        "duration": 10,
        "start_time": "2022-03-07T18:43:47.083Z"
      },
      {
        "duration": 8,
        "start_time": "2022-03-07T18:43:47.096Z"
      },
      {
        "duration": 10,
        "start_time": "2022-03-07T18:43:47.106Z"
      },
      {
        "duration": 22,
        "start_time": "2022-03-07T18:43:47.118Z"
      },
      {
        "duration": 13,
        "start_time": "2022-03-07T18:43:47.183Z"
      },
      {
        "duration": 18,
        "start_time": "2022-03-07T18:43:47.198Z"
      },
      {
        "duration": 12,
        "start_time": "2022-03-07T18:43:47.219Z"
      },
      {
        "duration": 8,
        "start_time": "2022-03-07T18:43:47.233Z"
      },
      {
        "duration": 39,
        "start_time": "2022-03-07T18:43:47.243Z"
      },
      {
        "duration": 1998,
        "start_time": "2022-03-07T18:43:47.284Z"
      },
      {
        "duration": 16,
        "start_time": "2022-03-07T18:43:49.285Z"
      },
      {
        "duration": 6,
        "start_time": "2022-03-07T18:43:49.303Z"
      },
      {
        "duration": 9,
        "start_time": "2022-03-07T18:43:49.312Z"
      },
      {
        "duration": 3,
        "start_time": "2022-03-07T18:43:49.331Z"
      },
      {
        "duration": 4,
        "start_time": "2022-03-07T18:43:49.338Z"
      },
      {
        "duration": 39,
        "start_time": "2022-03-07T18:43:49.344Z"
      },
      {
        "duration": 8,
        "start_time": "2022-03-07T18:43:49.386Z"
      },
      {
        "duration": 11,
        "start_time": "2022-03-07T18:43:49.396Z"
      },
      {
        "duration": 6,
        "start_time": "2022-03-07T18:43:49.409Z"
      },
      {
        "duration": 3073,
        "start_time": "2022-03-07T18:43:49.417Z"
      },
      {
        "duration": 10,
        "start_time": "2022-03-07T18:43:52.493Z"
      },
      {
        "duration": 11,
        "start_time": "2022-03-07T18:43:52.505Z"
      },
      {
        "duration": 17,
        "start_time": "2022-03-07T18:43:52.518Z"
      },
      {
        "duration": 5,
        "start_time": "2022-03-07T18:43:52.537Z"
      },
      {
        "duration": 47,
        "start_time": "2022-03-07T18:43:52.544Z"
      },
      {
        "duration": 14,
        "start_time": "2022-03-07T18:43:52.594Z"
      },
      {
        "duration": 32,
        "start_time": "2022-03-07T18:43:52.611Z"
      },
      {
        "duration": 47,
        "start_time": "2022-03-07T18:43:52.646Z"
      },
      {
        "duration": 5,
        "start_time": "2022-03-07T18:43:52.696Z"
      },
      {
        "duration": 24,
        "start_time": "2022-03-07T18:43:52.703Z"
      },
      {
        "duration": 16,
        "start_time": "2022-03-07T18:43:52.730Z"
      }
    ],
    "kernelspec": {
      "display_name": "Python 3 (ipykernel)",
      "language": "python",
      "name": "python3"
    },
    "language_info": {
      "codemirror_mode": {
        "name": "ipython",
        "version": 3
      },
      "file_extension": ".py",
      "mimetype": "text/x-python",
      "name": "python",
      "nbconvert_exporter": "python",
      "pygments_lexer": "ipython3",
      "version": "3.9.7"
    },
    "toc": {
      "base_numbering": 1,
      "nav_menu": {},
      "number_sections": true,
      "sideBar": true,
      "skip_h1_title": true,
      "title_cell": "Table of Contents",
      "title_sidebar": "Contents",
      "toc_cell": false,
      "toc_position": {},
      "toc_section_display": true,
      "toc_window_display": false
    },
    "colab": {
      "name": "1_Credit Scoring.ipynb",
      "provenance": []
    }
  },
  "nbformat": 4,
  "nbformat_minor": 0
}