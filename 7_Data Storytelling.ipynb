{
 "cells": [
  {
   "cell_type": "markdown",
   "metadata": {
    "id": "t9udiZz3YecW"
   },
   "source": [
    "* [**TABLE OF CONTENTS**](#top)\n",
    "\n",
    "* [Setting the goals](#goals)\n",
    "\n",
    "* [Imports and loads](#imports)\n",
    "\n",
    "* [1 **General information overview**](#step1)\n",
    "\n",
    "* [1.1 Data Exploration](#explore)\n",
    "\n",
    "* [1.2 Treating missing values](#missing_values)\n",
    "\n",
    "* [**Intermediate conclusion**](#concl)\n",
    "\n",
    "\n",
    "* [2 **Data analysis**](#da)\n",
    "\n",
    "    * [2.1 Investigate the proportions of the various types of establishments. Plot a graph.](#2.1)\n",
    "    * [2.2 Investigate the proportions of chain and nonchain establishments. Plot a graph.](#2.2)\n",
    "    * [2.3 Which type of establishment is typically a chain?](#2.3)\n",
    "    * [2.4 What characterizes chains: many establishments with a small number of seats or a few establishments with a lot \n",
    "    of seats?](#2.4)\n",
    "    * [2.5 Determine the average number of seats for each type of restaurant. On average, which type of restaurant has \n",
    "    the greatest number of seats? Plot graphs.](#2.5)\n",
    "    * [2.6 Put the data on street names from the address column in a separate column.](#2.6)\n",
    "    * [2.7 Plot a graph of the top ten streets by number of restaurants.](#2.7)\n",
    "    * [2.8 Find the number of streets that only have one restaurant.](#2.8)\n",
    "    * [2.9 For streets with a lot of restaurants, look at the distribution of the number of seats. What trends can you see?](#2.9)\n",
    "\n",
    "* [3 **Prepearing presentation**](#presentation)\n",
    "\n",
    "\n",
    "* [General conclusion. Recomendations](#general_conclusion)\n"
   ]
  },
  {
   "cell_type": "markdown",
   "metadata": {
    "id": "fLoPxY-cYecX"
   },
   "source": [
    "[Goals.](#goals)\n",
    "\n",
    "It's decided to open a small robot-run cafe in Los Angeles. The project is promising but expensive, so we decide to try to attract investors. They’re interested in the current market conditions — will we be able to maintain our success when the novelty of robot waiters wears off?\n",
    "As analysts, we prepared some data-driven market research, based on open-source data of establishments in LA. "
   ]
  },
  {
   "cell_type": "markdown",
   "metadata": {
    "id": "bhZo_QAaYecY"
   },
   "source": [
    "[Imports](#imports)"
   ]
  },
  {
   "cell_type": "code",
   "execution_count": null,
   "metadata": {
    "id": "y47sN1F4YecZ",
    "outputId": "2e60bc99-3a96-4a30-930c-0459be29af57"
   },
   "outputs": [
    {
     "name": "stdout",
     "output_type": "stream",
     "text": [
      "Collecting usaddress\n",
      "  Downloading usaddress-0.5.10-py2.py3-none-any.whl (63 kB)\n",
      "\u001b[K     |████████████████████████████████| 63 kB 461 kB/s eta 0:00:01\n",
      "\u001b[?25hCollecting python-crfsuite>=0.7\n",
      "  Downloading python_crfsuite-0.9.8-cp39-cp39-manylinux_2_17_x86_64.manylinux2014_x86_64.whl (1.0 MB)\n",
      "\u001b[K     |████████████████████████████████| 1.0 MB 2.9 MB/s eta 0:00:01\n",
      "\u001b[?25hCollecting future>=0.14\n",
      "  Downloading future-0.18.2.tar.gz (829 kB)\n",
      "\u001b[K     |████████████████████████████████| 829 kB 9.1 MB/s eta 0:00:01\n",
      "\u001b[?25hCollecting probableparsing\n",
      "  Downloading probableparsing-0.0.1-py2.py3-none-any.whl (3.1 kB)\n",
      "Building wheels for collected packages: future\n",
      "  Building wheel for future (setup.py) ... \u001b[?25ldone\n",
      "\u001b[?25h  Created wheel for future: filename=future-0.18.2-py3-none-any.whl size=491059 sha256=e7ede68383e45e8e6904fc234c894c567a68647fc61dd7834be414f6373fc4ca\n",
      "  Stored in directory: /home/jovyan/.cache/pip/wheels/2f/a0/d3/4030d9f80e6b3be787f19fc911b8e7aa462986a40ab1e4bb94\n",
      "Successfully built future\n",
      "Installing collected packages: python-crfsuite, probableparsing, future, usaddress\n",
      "Successfully installed future-0.18.2 probableparsing-0.0.1 python-crfsuite-0.9.8 usaddress-0.5.10\n"
     ]
    }
   ],
   "source": [
    "# Installation command for usadress library\n",
    "#! pip install usaddress --default-timeout=100"
   ]
  },
  {
   "cell_type": "code",
   "execution_count": null,
   "metadata": {
    "id": "WskKQv86Yecb",
    "outputId": "a5379ab8-b108-499f-e4f9-960f0b54aef6"
   },
   "outputs": [
    {
     "name": "stdout",
     "output_type": "stream",
     "text": [
      "\u001b[33mWARNING: Retrying (Retry(total=4, connect=None, read=None, redirect=None, status=None)) after connection broken by 'ReadTimeoutError(\"HTTPSConnectionPool(host='pypi.org', port=443): Read timed out. (read timeout=15)\")': /simple/plotly/\u001b[0m\n",
      "Collecting plotly==5.5.0\n"
     ]
    }
   ],
   "source": [
    "#! pip install plotly==5.5.0 --user"
   ]
  },
  {
   "cell_type": "code",
   "execution_count": null,
   "metadata": {
    "id": "JK_PiMbXYecc"
   },
   "outputs": [],
   "source": [
    "# Import all libraries\n",
    "# Basic\n",
    "import pandas as pd\n",
    "import numpy as np\n",
    "import regex as re\n",
    "# Visualization tools\n",
    "import seaborn as sns\n",
    "import matplotlib.pyplot as plt\n",
    "%matplotlib inline\n",
    "import plotly.express as px\n",
    "import plotly.graph_objects as go\n",
    "import plotly.offline as offline\n",
    "# Address parsing\n",
    "import usaddress\n",
    "# Configuration\n",
    "import warnings\n",
    "warnings.simplefilter(action='ignore')"
   ]
  },
  {
   "cell_type": "code",
   "execution_count": null,
   "metadata": {
    "id": "HL3GZtE4Yecd"
   },
   "outputs": [],
   "source": [
    "# Load the data\n",
    "try:\n",
    "    rest_data = pd.read_csv('/content/drive/MyDrive/csv_fies/rest_data_us.csv')\n",
    "except:\n",
    "    rest_data = pd.read_csv('/datasets/rest_data_us.csv')"
   ]
  },
  {
   "cell_type": "markdown",
   "metadata": {
    "id": "3AM00Xb4Yecd"
   },
   "source": [
    "# [1 Step. Data preprocessing.](#step1)\n",
    "[top](#top)\n",
    "\n",
    "\n",
    "---\n",
    "\n",
    "\n",
    "First things first we eed to explore the data we have and look for missing values, errors in data types or inappropriate zeros. To avoid repeated actions we can build some functions to help us!"
   ]
  },
  {
   "cell_type": "code",
   "execution_count": null,
   "metadata": {
    "id": "mBfr-dMOYece"
   },
   "outputs": [],
   "source": [
    "# A function for locating zeros\n",
    "def zero_func(data):\n",
    "    for row in data:\n",
    "        print(row, len(data[data[row] == 0]))"
   ]
  },
  {
   "cell_type": "code",
   "execution_count": null,
   "metadata": {
    "id": "hsaK3AU9Yece"
   },
   "outputs": [],
   "source": [
    "# Customized function for data exploring\n",
    "def explore(data):\n",
    "    print('Duplicated rows: {}'.format(data.duplicated().sum()))\n",
    "    print('Duplicated id values: {}'.format(len(data) - len(data['id'].value_counts())))\n",
    "    print()\n",
    "    print('Dataframe Info:')\n",
    "    data.info()\n",
    "    print()\n",
    "    print('Missing values:')\n",
    "    print(data.isnull().sum())\n",
    "    print()\n",
    "    print('Checking zeros:')\n",
    "    zero_func(data)\n",
    "    print()"
   ]
  },
  {
   "cell_type": "code",
   "execution_count": null,
   "metadata": {
    "id": "QBsqmJkBYecf"
   },
   "outputs": [],
   "source": [
    "explore(rest_data)\n",
    "rest_data.head()"
   ]
  },
  {
   "cell_type": "markdown",
   "metadata": {
    "id": "izCS73xNYecf"
   },
   "source": [
    "`rest_data` table contains:\n",
    "\n",
    "*object_name* — establishment name\n",
    "\n",
    "*chain* — chain establishment (TRUE/FALSE)\n",
    "\n",
    "*object_type* — establishment type\n",
    "\n",
    "*address* — address\n",
    "\n",
    "*number* — number of seats"
   ]
  },
  {
   "cell_type": "code",
   "execution_count": null,
   "metadata": {
    "id": "MZ8-7OdfYecf"
   },
   "outputs": [],
   "source": [
    "# Check missing values\n",
    "rest_data[rest_data['chain'].isnull()]"
   ]
  },
  {
   "cell_type": "markdown",
   "metadata": {
    "id": "JsR1u3i4Yecf"
   },
   "source": [
    "Looks like we have 3 rows with supposedly missing values, but in this specific column they probalbly stand for 'False' boolean value. Let's replace them and fix the data type to boolean in this column."
   ]
  },
  {
   "cell_type": "code",
   "execution_count": null,
   "metadata": {
    "id": "WyLVdF7nYecg"
   },
   "outputs": [],
   "source": [
    "# Fill misiing values\n",
    "rest_data['chain'] = rest_data['chain'].fillna('False')"
   ]
  },
  {
   "cell_type": "code",
   "execution_count": null,
   "metadata": {
    "id": "2XiU_ay_Yecg"
   },
   "outputs": [],
   "source": [
    "# Fix datatype\n",
    "rest_data['chain'] = rest_data['chain'].apply(lambda x: bool(x))"
   ]
  },
  {
   "cell_type": "code",
   "execution_count": null,
   "metadata": {
    "id": "H43eb3EXYecg"
   },
   "outputs": [],
   "source": [
    "# Check the result\n",
    "rest_data.info()"
   ]
  },
  {
   "cell_type": "markdown",
   "metadata": {
    "id": "_lmu7WrjYecg"
   },
   "source": [
    "# [Intermediate conclusion.](#concl) \n",
    "\n",
    "\n",
    "---\n",
    "\n",
    "Our dataframe consists of 9651 rows with different types of establishments of LA, displaying the names, addresses, types of establishments, number of seats in each and whether the establishment belongs to a chain or not. There were no critical issues to the data, we filled 3 rows of missing values and corrected the data types. We can start analysing tendencies of the existing market."
   ]
  },
  {
   "cell_type": "markdown",
   "metadata": {
    "id": "GRsqUv9sYech"
   },
   "source": [
    "# [2 Step. Data analysis](#da)\n",
    "[top](#top)\n",
    "\n",
    "---\n"
   ]
  },
  {
   "cell_type": "markdown",
   "metadata": {
    "id": "8V3aO5K5Yech"
   },
   "source": [
    "[**Investigate the proportions of the various types of establishments. Plot a graph.**](#2.1)"
   ]
  },
  {
   "cell_type": "code",
   "execution_count": null,
   "metadata": {
    "id": "re4q1DjyYech"
   },
   "outputs": [],
   "source": [
    "# Count how many establishments are there\n",
    "rest_data['object_type'].value_counts()"
   ]
  },
  {
   "cell_type": "code",
   "execution_count": null,
   "metadata": {
    "id": "Nkex75FSYech"
   },
   "outputs": [],
   "source": [
    "# Prepare a subset to build the plot on\n",
    "obj_types = rest_data.groupby(['object_type'], as_index=False)['object_name']\\\n",
    ".count().sort_values(by='object_name', ascending=False)\n",
    "obj_types.columns = ['object_type', 'n_objects']\n",
    "obj_types.style.bar(color='#ced7d8')"
   ]
  },
  {
   "cell_type": "code",
   "execution_count": null,
   "metadata": {
    "id": "xJ1WfsQhYeci"
   },
   "outputs": [],
   "source": [
    "# Add percents column for better representation\n",
    "obj_types['percents'] = ((obj_types['n_objects'] / obj_types['n_objects']\\\n",
    "                          .sum()) * 100).round(2).astype('str') + '%'\n",
    "obj_types"
   ]
  },
  {
   "cell_type": "code",
   "execution_count": null,
   "metadata": {
    "id": "_myzLeT3Yeci"
   },
   "outputs": [],
   "source": [
    "# Build the figure of the plot\n",
    "fig = px.bar(obj_types, x='object_type', y='n_objects', color='object_type',\n",
    "             width=990, height=600, \n",
    "             labels = {'object_type': 'Establishmet type', 'n_objects': 'Amount of establishments'}, text='n_objects')\n",
    "# Customize the text position \n",
    "fig.update_traces(textposition='outside')\n",
    "fig.update_layout(title_text=\"Number of establishment types\",\n",
    "                  title_font_size=30)\n",
    "# Add percentage to the legend\n",
    "for trace, percents in zip(fig.data, obj_types['percents']):\n",
    "    trace.name = trace.name.split('=')[0] + ' (' + percents + ')'\n",
    "fig.show()"
   ]
  },
  {
   "cell_type": "markdown",
   "metadata": {
    "id": "El5NzPuxYeci"
   },
   "source": [
    "As we can see the majority of the establishments are represented as restaurants with 75% share,\\n'\n",
    "'followed by fast food 11%, cafe 4.5%, pizza 3.3%, bars 3% and bakeries with 2.9%."
   ]
  },
  {
   "cell_type": "code",
   "execution_count": null,
   "metadata": {
    "id": "QXhfqnjYYeci"
   },
   "outputs": [],
   "source": [
    "fig = go.Figure(data=[go.Pie(labels=obj_types['object_type'], values=obj_types['n_objects'], \n",
    "                             textinfo='label+percent', \n",
    "                             pull=[0, 0, 0.2, 0])])\n",
    "\n",
    "fig.update_traces(hoverinfo='label+percent')\n",
    "fig.update_layout(title_text=\"The shares of types of establishments\",\n",
    "                  title_font_size=30)\n",
    "fig.show()"
   ]
  },
  {
   "cell_type": "markdown",
   "metadata": {
    "id": "SQQ1ywThYecj"
   },
   "source": [
    "An alternative view on the same share distribution"
   ]
  },
  {
   "cell_type": "markdown",
   "metadata": {
    "id": "byafGAbHYecj"
   },
   "source": [
    "[**Investigate the proportions of chain and nonchain establishments. Plot a graph.**](#2.2)"
   ]
  },
  {
   "cell_type": "code",
   "execution_count": null,
   "metadata": {
    "id": "cnNrrSAyYecj"
   },
   "outputs": [],
   "source": [
    "fig = go.Figure(data=go.Pie(labels=rest_data['chain'].value_counts().reset_index()['index'], \n",
    "                            values=rest_data['chain'].value_counts()))\n",
    "fig.update_layout(\n",
    "    title={\n",
    "        'text':'Chain and nonchain establishments ratio',\n",
    "        'y':0.9,\n",
    "        'x':0.48})\n",
    "\n",
    "for trace in fig.data:\n",
    "    trace['labels']=['Non chain', 'Chain']\n",
    "fig.show()"
   ]
  },
  {
   "cell_type": "markdown",
   "metadata": {
    "id": "jv0Tun-oYecj"
   },
   "source": [
    "The chain establishments take 38% of the market, rest of them are nonchain. Lets' make this comparison a little bit more detailed, and check the differnce in amounts of chain and nonchain establishment types."
   ]
  },
  {
   "cell_type": "code",
   "execution_count": null,
   "metadata": {
    "id": "J3DkhTHcYecj"
   },
   "outputs": [],
   "source": [
    "group_data = rest_data.groupby(['object_type', 'chain'], as_index=False).count()\n",
    "group_data.head()"
   ]
  },
  {
   "cell_type": "code",
   "execution_count": null,
   "metadata": {
    "id": "TEiXQoEbYeck"
   },
   "outputs": [],
   "source": [
    "fig = px.histogram(group_data, y='object_type', x='id', color='chain', barmode='group',\n",
    "                   width=990, height=600,\n",
    "                  labels = {'object_type': '', 'id': 'establishments'})\n",
    "\n",
    "fig.update_layout(title_text=\"Distribution of chain and nonchain object types\",\n",
    "                  title_font_size=30)\n",
    "\n",
    "fig.show()"
   ]
  },
  {
   "cell_type": "markdown",
   "metadata": {
    "id": "Ta0JroNfYeck"
   },
   "source": [
    "There are much more restaurants and bars that don't belong to chains. On the contrary - there are no nonchain bakeries and we are more likely to find a cafe and a fastfood establishment to be in chain.There are no nonchain bakeries. There are much more restaurants and bars that don't belong to chains. As well as more often you will find a cafe and a fastfood establishment to be in chain."
   ]
  },
  {
   "cell_type": "markdown",
   "metadata": {
    "id": "zRCXOAhwYeck"
   },
   "source": [
    "[**Which type of establishment is typically a chain?**](#2.3)"
   ]
  },
  {
   "cell_type": "markdown",
   "metadata": {
    "id": "HWGiho6DYeck"
   },
   "source": [
    "Lets' look at the distribution of types of objects of chains alone. We need to filter them out of the initial dataframe, calculate their amount and the share they take."
   ]
  },
  {
   "cell_type": "code",
   "execution_count": null,
   "metadata": {
    "id": "W_bu9TSGYeck"
   },
   "outputs": [],
   "source": [
    "# Calculating the number of establishments in chains\n",
    "chain_obj_types = rest_data[rest_data['chain'] == True]\\\n",
    "                    .groupby('object_type', as_index=False).agg({'object_name':'count'})\\\n",
    "                    .sort_values(by = 'object_name', ascending = False)"
   ]
  },
  {
   "cell_type": "code",
   "execution_count": null,
   "metadata": {
    "id": "99YOcIxvYecl"
   },
   "outputs": [],
   "source": [
    "# Rename columns\n",
    "chain_obj_types.columns = ['object_type', 'n_objects']"
   ]
  },
  {
   "cell_type": "code",
   "execution_count": null,
   "metadata": {
    "id": "vP6YcBEMYecl"
   },
   "outputs": [],
   "source": [
    "# Calculate the percentage\n",
    "chain_obj_types['percents'] = ((chain_obj_types['n_objects'] / chain_obj_types['n_objects'].sum()) * 100)\\\n",
    "                                .round(2).astype('str') + '%'"
   ]
  },
  {
   "cell_type": "code",
   "execution_count": null,
   "metadata": {
    "id": "drWqYO4OYecl"
   },
   "outputs": [],
   "source": [
    "chain_obj_types.style.bar(color='#ced7d8')"
   ]
  },
  {
   "cell_type": "code",
   "execution_count": null,
   "metadata": {
    "id": "WYXAsEvkYecl"
   },
   "outputs": [],
   "source": [
    "fig = px.bar(chain_obj_types, x='object_type', y='n_objects', color='object_type',\n",
    "             width=900, height=600,\n",
    "             labels={'object_type': 'Establishment  type', 'n_objects': 'Amount of establishments'}, text='n_objects')\n",
    "fig.update_layout(title_text=\"Types of chain establishments\",\n",
    "                  title_font_size=30)\n",
    "fig.update_traces(textposition='outside')\n",
    "for trace, percents in zip(fig.data, chain_obj_types['percents']):\n",
    "    trace.name = trace.name.split('=')[0] + ' (' + percents + ')'\n",
    "\n",
    "fig.show()"
   ]
  },
  {
   "cell_type": "markdown",
   "metadata": {
    "id": "VV8T0eT6Yecl"
   },
   "source": [
    "If we filter the data and have a look only at the 38% of chain establishments and check the object types representation we will see that the majority is still restaurants and fast food establishments. The overall trend remains. Note, that all bakeries are represented as chain establisments."
   ]
  },
  {
   "cell_type": "markdown",
   "metadata": {
    "id": "k8a04QJhYecm"
   },
   "source": [
    "[**What characterizes chains: many establishments with a small number of seats or a few establishments with a lot of seats?**](#2.4)"
   ]
  },
  {
   "cell_type": "markdown",
   "metadata": {
    "id": "7R9KAFz_Yecm"
   },
   "source": [
    "First, lets' take a look at the overall seats distribution."
   ]
  },
  {
   "cell_type": "code",
   "execution_count": null,
   "metadata": {
    "id": "mSgF97G0Yecm"
   },
   "outputs": [],
   "source": [
    "fig, ax = plt.subplots(figsize=(15, 5))\n",
    "sns.scatterplot(data=rest_data, x='object_type', y='number', hue='chain', alpha=0.2, palette={False: 'g', True: 'y'})\n",
    "plt.title('Distribution of the number of seats by establisments', fontsize=14)\n",
    "plt.xlabel('Establishments')\n",
    "plt.ylabel('Number of seats')\n",
    "plt.show()"
   ]
  },
  {
   "cell_type": "markdown",
   "metadata": {
    "id": "hF-B-pnRYecm"
   },
   "source": [
    "Among those types of establishments that belong to chains, we can see that the lower part of the graph is chains, so that must be means, that the number of seats in chain establishments is usually less than in nonchain establishments. Now, lets' focus more on the chains."
   ]
  },
  {
   "cell_type": "code",
   "execution_count": null,
   "metadata": {
    "id": "LGhhqAbnYecm"
   },
   "outputs": [],
   "source": [
    "chains = rest_data[rest_data['chain']==True]\n",
    "chains['object_name'].value_counts()"
   ]
  },
  {
   "cell_type": "markdown",
   "metadata": {
    "id": "n7tllIcZYecm"
   },
   "source": [
    "There is a certein naming problem in our dataset - some of the establishments names are not unique, although they should be. For example, we have `STARBUCKS` and `STARBUCKS COFFEE`. Lets' try to adress as much of such mistakes as we can and standartize the names to one row."
   ]
  },
  {
   "cell_type": "code",
   "execution_count": null,
   "metadata": {
    "id": "UEnkSJSUYecm"
   },
   "outputs": [],
   "source": [
    "# Using regular expressions define the pattern to be treated\n",
    "def chain_name(row):\n",
    "    # finds a pattern that starts with a # symbol, optionally followed by space, and digits\n",
    "    i = re.sub(r'\\#\\s*(\\d+)', '', row) \n",
    "    i = i.replace('#', '') # finds just the # symbol and replacs it with empty string\n",
    "    return i"
   ]
  },
  {
   "cell_type": "code",
   "execution_count": null,
   "metadata": {
    "id": "mqTi6VmxYecn"
   },
   "outputs": [],
   "source": [
    "# Check the function\n",
    "chain_name(\"MCDONALD'S #8014\")"
   ]
  },
  {
   "cell_type": "code",
   "execution_count": null,
   "metadata": {
    "id": "jJhUwI8hYecn"
   },
   "outputs": [],
   "source": [
    "chains['chain_name'] = chains['object_name'].apply(chain_name)"
   ]
  },
  {
   "cell_type": "code",
   "execution_count": null,
   "metadata": {
    "id": "u7Kcvvx3Yecn"
   },
   "outputs": [],
   "source": [
    "chains['chain_name'].value_counts()"
   ]
  },
  {
   "cell_type": "markdown",
   "metadata": {
    "id": "jzpcK35eYecn"
   },
   "source": [
    "The picture certainly improved from before, but theres' still some issues with the names: big chains are written too differently, this could mislead our calculations. Let's build another function that will unify the names of the big chains."
   ]
  },
  {
   "cell_type": "code",
   "execution_count": null,
   "metadata": {
    "id": "-3Wv9kVaYecn"
   },
   "outputs": [],
   "source": [
    "def chain_name_group(row):\n",
    "    if row.startswith('KFC') or row.startswith('KENTUCKY FRIED CHICKEN'):\n",
    "        row = row.replace(row, 'KENTUCKY FRIED CHICKEN')\n",
    "    if row.startswith('SUBWAY'):\n",
    "        row = row.replace(row, 'SUBWAY')\n",
    "    if row.startswith('THE COFFEE BEAN & TEA LEAF') or row.startswith('COFFEE BEAN AND TEA LEAF'):\n",
    "        row = row.replace(row, 'THE COFFEE BEAN & TEA LEAF')\n",
    "    if row.startswith('STARBUCKS'):\n",
    "        row = row.replace(row, 'STARBUCKS')\n",
    "    if row.endswith('BUSKIN ROBINS') or row.startswith('BUSKIN ROBINS'):\n",
    "        row = row.replace(row, 'BUSKIN ROBINS')\n",
    "    if row.startswith(\"MCDONALD'S\"):\n",
    "        row = row.replace(row, \"MCDONALD'S\")\n",
    "    return row"
   ]
  },
  {
   "cell_type": "code",
   "execution_count": null,
   "metadata": {
    "id": "3Ny-woI4Yecn"
   },
   "outputs": [],
   "source": [
    "# Check the function\n",
    "chain_name_group('KFC sk')"
   ]
  },
  {
   "cell_type": "code",
   "execution_count": null,
   "metadata": {
    "id": "dNLwJyMCYeco"
   },
   "outputs": [],
   "source": [
    "chains['chain_name_final'] = chains['chain_name'].apply(chain_name_group)"
   ]
  },
  {
   "cell_type": "code",
   "execution_count": null,
   "metadata": {
    "id": "SNbtwxBmYeco"
   },
   "outputs": [],
   "source": [
    "chains['chain_name_final'].value_counts()"
   ]
  },
  {
   "cell_type": "markdown",
   "metadata": {
    "id": "ugotgQrgYeco"
   },
   "source": [
    "The function worked and we can visualize our data."
   ]
  },
  {
   "cell_type": "code",
   "execution_count": null,
   "metadata": {
    "id": "1oSyO2oDYeco"
   },
   "outputs": [],
   "source": [
    "# Sort the biggest 30 chains\n",
    "orderd_df = chains[['id', 'chain_name_final']].groupby(['chain_name_final'])\\\n",
    ".count().sort_values(by='id').reset_index().tail(30)\n",
    "orderd_df"
   ]
  },
  {
   "cell_type": "markdown",
   "metadata": {
    "id": "6I0u7M0nYeco"
   },
   "source": [
    "Now we have what we need. Lets' have a look at our 30 biggest chains!"
   ]
  },
  {
   "cell_type": "code",
   "execution_count": null,
   "metadata": {
    "id": "iC2QltXZYeco"
   },
   "outputs": [],
   "source": [
    "my_range = range(1, 31)"
   ]
  },
  {
   "cell_type": "code",
   "execution_count": null,
   "metadata": {
    "id": "ys7QYobLYeco"
   },
   "outputs": [],
   "source": [
    "fig,ax=plt.subplots(figsize=(17, 10))\n",
    "plt.hlines(y=my_range, xmin=0, xmax=orderd_df['id'], color='darkgreen')\n",
    "plt.plot(orderd_df['id'], my_range, \"o\")\n",
    "plt.yticks(my_range, orderd_df['chain_name_final'])\n",
    "plt.title('Top 30 biggets chains', fontdict={'size':15})\n",
    "plt.xlabel('Number of facilities')\n",
    "plt.ylabel('')\n",
    "\n",
    "plt.show()"
   ]
  },
  {
   "cell_type": "markdown",
   "metadata": {
    "id": "4ED5fD5wYecp"
   },
   "source": [
    "Well, `SUNWAY`, `STARBUCKS` and `MCDONALD'S` are the leaders without surprise. "
   ]
  },
  {
   "cell_type": "markdown",
   "metadata": {
    "id": "MHPmxn0vYecp"
   },
   "source": [
    "Now, lets' check how the amount of facilities in a chain correlates with the median number of seats."
   ]
  },
  {
   "cell_type": "code",
   "execution_count": null,
   "metadata": {
    "id": "Jj5IND_DYecp"
   },
   "outputs": [],
   "source": [
    "# Filter only the chain establishments\n",
    "chain_seat = chains.groupby(['chain_name_final'], as_index = False)\\\n",
    ".agg({'chain_name_final': 'count', 'number': 'median'}).sort_values(by = 'number', ascending = False)"
   ]
  },
  {
   "cell_type": "code",
   "execution_count": null,
   "metadata": {
    "id": "3pPegS5AYecp"
   },
   "outputs": [],
   "source": [
    "chain_seat.columns = ['n_objects', 'median_seats']\n",
    "chain_seat"
   ]
  },
  {
   "cell_type": "code",
   "execution_count": null,
   "metadata": {
    "id": "8tdcua5rYecp"
   },
   "outputs": [],
   "source": [
    "fig = go.Figure(data=go.Scattergl(\n",
    "    x = chain_seat['median_seats'],\n",
    "    y = chain_seat['n_objects'],\n",
    "    mode='markers',\n",
    "    marker=dict(\n",
    "        color=chain_seat['median_seats'],\n",
    "        colorscale='Viridis',\n",
    "        line_width=1)))\n",
    "\n",
    "fig.update_layout(title_text='Scatterplot of median number of seats in chain establismennts',\n",
    "                  title_font_size=20,\n",
    "                  width=900, height=600)\n",
    "\n",
    "fig.add_hline(y=np.percentile(chain_seat['n_objects'], 90))\n",
    "fig.add_vline(x=np.percentile(chain_seat['median_seats'], 90))\n",
    "fig.update_xaxes(title_text='Median number of seats')\n",
    "fig.update_yaxes(title_text='Amount of establishments')\n",
    "\n",
    "\n",
    "fig.update_traces(hoverinfo='all', hovertemplate='median_seats: %{x}<br>n_objects: %{y}')\n",
    "fig.show()"
   ]
  },
  {
   "cell_type": "markdown",
   "metadata": {
    "id": "_2S0oPlZYecq"
   },
   "source": [
    "So, for chain establisments it is typical to have a small amount of facilities with a large number of seats.\n",
    "\n",
    "Note the dots in the lower left corner - they are our average values, and there we can see that on average there are about 106 seats and 2 facilities in chain establishments."
   ]
  },
  {
   "cell_type": "markdown",
   "metadata": {
    "id": "0BDJo-ecYecq"
   },
   "source": [
    "[**Determine the average number of seats for each type of restaurant. On average, which type of restaurant has the greatest number of seats? Plot graphs.**](#2.5)"
   ]
  },
  {
   "cell_type": "code",
   "execution_count": null,
   "metadata": {
    "id": "_1PFzTaxYecq"
   },
   "outputs": [],
   "source": [
    "rest_data['number'].describe()"
   ]
  },
  {
   "cell_type": "markdown",
   "metadata": {
    "id": "6jQ3deesYecq"
   },
   "source": [
    "An average establishment in LA, regardless of what type it is, has 43 seats. But we see that this number is rather close to the 75th quartile than to the 50-th, or the median, so later, when we group our data by the establishment type we should better base the analysis upon the median."
   ]
  },
  {
   "cell_type": "code",
   "execution_count": null,
   "metadata": {
    "id": "x1sNZHUqYecr"
   },
   "outputs": [],
   "source": [
    "# Calculate the median number of seats\n",
    "seats_by_types = rest_data.groupby(['object_type'], as_index=False)['number']\\\n",
    ".median().sort_values(by='number', ascending=False)"
   ]
  },
  {
   "cell_type": "code",
   "execution_count": null,
   "metadata": {
    "id": "fB7QhWrfYecr"
   },
   "outputs": [],
   "source": [
    "seats_by_types.style.bar(color='#ced7d8')"
   ]
  },
  {
   "cell_type": "code",
   "execution_count": null,
   "metadata": {
    "id": "MvhJxZZ_Yecr"
   },
   "outputs": [],
   "source": [
    "fig = px.bar(seats_by_types, x='object_type', y='number', color='object_type',\n",
    "             title = 'Average number of seats in different types of establishments',\n",
    "             width=900, height=600, \n",
    "             labels={'object_type': 'Establishment  type', 'number': 'Amount of seats'}, text='number')\n",
    "fig.update_layout(title_text='Average number of seats in different types of establishments',\n",
    "                  title_font_size=25)\n",
    "fig.update_traces(textposition='outside')\n",
    "for trace, number in zip(fig.data, seats_by_types['number']):\n",
    "    trace.name = trace.name.split('=')[0] + ' (' + str(number) + ')'\n",
    "\n",
    "fig.show()\n"
   ]
  },
  {
   "cell_type": "markdown",
   "metadata": {
    "id": "6vHqjGohYecr"
   },
   "source": [
    "As we can see from the graph the average number of seats is the highest and almost equal for restaurants with 29 seats on average and bars with 28.5 seats on average. Cafes and bars share second place with 21 seats each and 18.5 and 18 seats on average have pizza places and bakaries."
   ]
  },
  {
   "cell_type": "markdown",
   "metadata": {
    "id": "-VQa3r5EYecr"
   },
   "source": [
    "[**Put the data on street names from the address column in a separate column.**](#2.6)"
   ]
  },
  {
   "cell_type": "code",
   "execution_count": null,
   "metadata": {
    "id": "PpEeEJCoYecr"
   },
   "outputs": [],
   "source": [
    "# Build a function to parse and cleen the address\n",
    "def cleaning_check(raw):\n",
    "    raw_address = usaddress.parse(raw)\n",
    "    dict_address = {}\n",
    "    for i in raw_address:\n",
    "        dict_address.update({i[1]:i[0]})\n",
    "    # This line below checks for normal case with street and number    \n",
    "    if 'StreetName' in dict_address.keys() and 'AddressNumber' in dict_address.keys():\n",
    "        clean_adress = str(dict_address['StreetName'])\n",
    "        return clean_adress\n",
    "    else:\n",
    "        return 'no street or number'"
   ]
  },
  {
   "cell_type": "code",
   "execution_count": null,
   "metadata": {
    "id": "2DZvjBUtYecs"
   },
   "outputs": [],
   "source": [
    "rest_data['clean_street'] = rest_data.address.apply(cleaning_check)"
   ]
  },
  {
   "cell_type": "markdown",
   "metadata": {
    "id": "-R3-_nqWYecs"
   },
   "source": [
    "We need to check the result for errors"
   ]
  },
  {
   "cell_type": "code",
   "execution_count": null,
   "metadata": {
    "id": "wdIw_LuPYecs"
   },
   "outputs": [],
   "source": [
    "rest_data[rest_data['clean_street'] == 'no street or number']"
   ]
  },
  {
   "cell_type": "markdown",
   "metadata": {
    "id": "9BSV2H8yYecs"
   },
   "source": [
    "Some of the street names were not processed properly by the usaddress package, but there are quite few names, so we can fix this manualy."
   ]
  },
  {
   "cell_type": "code",
   "execution_count": null,
   "metadata": {
    "id": "2FSCUmuAYecs"
   },
   "outputs": [],
   "source": [
    "def cleaning_final(raw):\n",
    "    if raw.startswith('OLVERA'):\n",
    "        clean_adress = 'OLVERA'\n",
    "    elif raw.startswith('1033 1/2 LOS ANGELES'):\n",
    "        clean_adress='1033 1/2 LOS ANGELES ST'\n",
    "    else:\n",
    "        raw_address = usaddress.parse(raw)\n",
    "        dict_address = {}\n",
    "        for i in raw_address:\n",
    "            dict_address.update({i[1]:i[0]})\n",
    "        clean_adress = str(dict_address['StreetName']).upper()\n",
    "    return clean_adress"
   ]
  },
  {
   "cell_type": "code",
   "execution_count": null,
   "metadata": {
    "id": "xHjj0k7yYecs"
   },
   "outputs": [],
   "source": [
    "rest_data['clean_street_final'] = rest_data.address.apply(cleaning_final)\n",
    "rest_data.sample(10)"
   ]
  },
  {
   "cell_type": "markdown",
   "metadata": {
    "id": "KzwgiFxpYecs"
   },
   "source": [
    "[**Plot a graph of the top ten streets by number of restaurants.**](#2.7)"
   ]
  },
  {
   "cell_type": "markdown",
   "metadata": {
    "id": "biivQEJvYecs"
   },
   "source": [
    "First we need to prepare our data for the plot: we need to count establishments on every cleaned street and define the 10 most crowded."
   ]
  },
  {
   "cell_type": "code",
   "execution_count": null,
   "metadata": {
    "id": "g3UC-YF6Yect"
   },
   "outputs": [],
   "source": [
    "group_streets = rest_data.groupby(['clean_street_final']).agg({'object_name': 'count'}).reset_index()"
   ]
  },
  {
   "cell_type": "code",
   "execution_count": null,
   "metadata": {
    "id": "Dh_UOBwQYect"
   },
   "outputs": [],
   "source": [
    "# Rename the columns\n",
    "group_streets.columns = ['streets', 'objects']"
   ]
  },
  {
   "cell_type": "code",
   "execution_count": null,
   "metadata": {
    "id": "Jm-OMQ_VYect"
   },
   "outputs": [],
   "source": [
    "# Store only the first 10 rows\n",
    "top10_streets = group_streets.sort_values(by='objects', ascending=False).head(10)"
   ]
  },
  {
   "cell_type": "code",
   "execution_count": null,
   "metadata": {
    "id": "Yiyt-JPRYect"
   },
   "outputs": [],
   "source": [
    "print(top10_streets)\n",
    "print()\n",
    "fig = px.bar(top10_streets, y='streets', x='objects', \n",
    "             color='streets', width = 900, height = 600, text='objects')\n",
    "fig.update_xaxes(tickangle=45)\n",
    "fig.update_layout(\n",
    "    title='Top 10 streets with the most establishments',\n",
    "    title_font_size=30,\n",
    "    xaxis_title=\" \",\n",
    "    yaxis_title=\"Amount of establishments\")\n",
    "fig.update_traces(textposition='outside')\n",
    "for trace, numbers in zip(fig.data, top10_streets['objects']):\n",
    "    trace.name = trace.name.split('=')[0] + ' (' + str(numbers) + ')'\n",
    "fig.show()"
   ]
  },
  {
   "cell_type": "markdown",
   "metadata": {
    "id": "fT15m4TXYect"
   },
   "source": [
    "SUNSET and WILSHIRE are the most crowded streets. The number of establishments on our top10 streets vary between 250 and 400. There must be quit a big competition out there."
   ]
  },
  {
   "cell_type": "markdown",
   "metadata": {
    "id": "jzkaGhCSYecu"
   },
   "source": [
    "[**Find the number of streets that only have one restaurant.**](#2.8)"
   ]
  },
  {
   "cell_type": "code",
   "execution_count": null,
   "metadata": {
    "id": "IhOwrAEGYecu"
   },
   "outputs": [],
   "source": [
    "one_str_objects = group_streets[group_streets['objects'] == 1]"
   ]
  },
  {
   "cell_type": "code",
   "execution_count": null,
   "metadata": {
    "id": "64LD2p09Yecu"
   },
   "outputs": [],
   "source": [
    "print('There are', len(one_str_objects), 'streets with only one establishment')"
   ]
  },
  {
   "cell_type": "markdown",
   "metadata": {
    "id": "eRA8R1tkYecu"
   },
   "source": [
    "[**For streets with a lot of restaurants, look at the distribution of the number of seats. What trends can you see?**](#2.9)"
   ]
  },
  {
   "cell_type": "markdown",
   "metadata": {
    "id": "QfxTO1I4Yecu"
   },
   "source": [
    "We need to refer to the top10 subset and filter the data about those streets."
   ]
  },
  {
   "cell_type": "code",
   "execution_count": null,
   "metadata": {
    "id": "_DaUIIveYecu"
   },
   "outputs": [],
   "source": [
    "top10_streets_list = top10_streets['streets'].to_list()"
   ]
  },
  {
   "cell_type": "code",
   "execution_count": null,
   "metadata": {
    "id": "ZFDC5phgYecu"
   },
   "outputs": [],
   "source": [
    "top10_streets_data = rest_data.query('clean_street_final in @top10_streets_list')"
   ]
  },
  {
   "cell_type": "code",
   "execution_count": null,
   "metadata": {
    "id": "MgTFpHd3Yecu"
   },
   "outputs": [],
   "source": [
    "top10_streets_data.head()"
   ]
  },
  {
   "cell_type": "code",
   "execution_count": null,
   "metadata": {
    "id": "rrA42KHHYecv"
   },
   "outputs": [],
   "source": [
    "fig = px.box(top10_streets_data, x='number', y='clean_street_final', points='all',\n",
    "             color='clean_street_final',\n",
    "             labels={'number': 'Number of seats', 'clean_street_final': ' '})\n",
    "fig.update_layout(autosize=False,\n",
    "    width=900,\n",
    "    height=800,\n",
    "    title='Overall distribution of the number of seats most crowded streets',\n",
    "    title_font_size=20,\n",
    "    boxgap=0.2)\n",
    "\n",
    "fig.show()"
   ]
  },
  {
   "cell_type": "markdown",
   "metadata": {
    "id": "_MDvsDhmYecv"
   },
   "source": [
    "`HOLLOWOOD`, `SUNSET`  and `WILSHIRE` streets have the most varied amount of seats, their distribution is similar, but `WILSHIRE` has the highest median number - 36. Let's group our data by chain attribution to see what the difference is like."
   ]
  },
  {
   "cell_type": "code",
   "execution_count": null,
   "metadata": {
    "id": "qBpCaornYecv"
   },
   "outputs": [],
   "source": [
    "fig, ax = plt.subplots(figsize=(15, 10))\n",
    "ax = sns.boxplot(x='number', y='clean_street_final', hue='chain', data=top10_streets_data, palette='Set3')\n",
    "plt.title('Distribution of the number of seats for the top 10 streets by the number of objects, chain/nonchain', fontsize=14)\n",
    "plt.xlabel('Number of seats')\n",
    "plt.ylabel(' ')\n",
    "plt.show()"
   ]
  },
  {
   "cell_type": "markdown",
   "metadata": {
    "id": "ItTI89l8Yecv"
   },
   "source": [
    "On 6 of the top 10 streets the median of seats is higher at chain establishments."
   ]
  },
  {
   "cell_type": "markdown",
   "metadata": {
    "id": "uuIEi84uYecv"
   },
   "source": [
    "# [3 Step. Preparing a presentation](#presentation)\n",
    "[top](#top)\n",
    "\n",
    "\n",
    "Presentation is availiable on this [link](https://drive.google.com/file/d/12iFTDxTcKOeBrpinlSEONvhrA-RUsjKN/view?usp=sharing)"
   ]
  },
  {
   "cell_type": "markdown",
   "metadata": {
    "id": "1w6hLqDAYecw"
   },
   "source": [
    "[**Overall conclusions and recommendations.**](#general_conclusion)\n",
    "\n",
    "[top](#top)\n"
   ]
  },
  {
   "cell_type": "markdown",
   "metadata": {
    "id": "9RJojdKHYecw"
   },
   "source": [
    "The main characteristics of the F&B market:\n",
    "\n",
    "There is quite a high concurrency on the most crowded streets of LA. \n",
    "The largest share among LA establishments is **cafes** (75%), **fast food** take 11% of all establishments.\n",
    "Almost **40% of establishments belong to chains** (among them: restaurants 62.35%, fast food places 16.44%, bakeries 7.69%, cafes 7.23%, pizza places 4.19% and bars 2.09%)\n",
    "The biggest chains are fast food type and coffee shop franchises - **SUBWAY, STARBUCKS and MCDONALD'S**.\n",
    "\n",
    "A typical establishment has about 40 seats.\n",
    "\n",
    "On the most crowded streets  the average number of seats is about **35**.\n",
    "\n",
    "**Based on the results of the analysis, recommendations will be:**\n",
    "\n",
    "The preferred type of establishment will be a restaurant as the most popular type of establishment comparing to the rest, or fast food as the easiest option to enter the market and provide an opportunity for chain development, in this case, we should pay attention to popular franchises (SUBWAY, STARBUCKS and MCDONALD'S) and introduce a new type of service - with the help of robots.\n",
    "The recommended number of seats will be 30-35 for restaurant type.\n",
    "For both restaurants and fast food, the most acceptable location would be a crowded place, for example, near shopping and entertainment complexes or inside them, near business centers, office buildings or educational institutions. Districts - where the top10 streets are located.\n",
    "\n",
    "When choosing a location, we should take into account the presence of competitors nearby."
   ]
  }
 ],
 "metadata": {
  "ExecuteTimeLog": [
   {
    "duration": 444,
    "start_time": "2022-04-14T05:46:05.114Z"
   },
   {
    "duration": 100,
    "start_time": "2022-04-14T05:46:21.381Z"
   },
   {
    "duration": 182,
    "start_time": "2022-04-24T11:50:18.640Z"
   },
   {
    "duration": 5638,
    "start_time": "2022-04-24T11:51:44.333Z"
   },
   {
    "duration": 15849,
    "start_time": "2022-04-24T11:51:55.931Z"
   },
   {
    "duration": 1319,
    "start_time": "2022-04-24T11:52:16.109Z"
   },
   {
    "duration": 29,
    "start_time": "2022-04-24T11:52:23.903Z"
   },
   {
    "duration": 2,
    "start_time": "2022-04-24T11:52:49.766Z"
   },
   {
    "duration": 3,
    "start_time": "2022-04-24T11:52:58.077Z"
   },
   {
    "duration": 3,
    "start_time": "2022-04-24T11:53:16.128Z"
   },
   {
    "duration": 37,
    "start_time": "2022-04-24T11:53:26.176Z"
   },
   {
    "duration": 10,
    "start_time": "2022-04-24T11:54:02.715Z"
   },
   {
    "duration": 5,
    "start_time": "2022-04-24T11:54:54.353Z"
   },
   {
    "duration": 11,
    "start_time": "2022-04-24T11:55:49.696Z"
   },
   {
    "duration": 6,
    "start_time": "2022-04-24T11:57:44.014Z"
   },
   {
    "duration": 90,
    "start_time": "2022-04-24T11:58:28.679Z"
   },
   {
    "duration": 47,
    "start_time": "2022-04-24T11:58:34.095Z"
   },
   {
    "duration": 9,
    "start_time": "2022-04-24T11:58:36.374Z"
   },
   {
    "duration": 365,
    "start_time": "2022-04-24T11:58:39.575Z"
   },
   {
    "duration": 16,
    "start_time": "2022-04-24T12:01:36.997Z"
   },
   {
    "duration": 17,
    "start_time": "2022-04-24T12:01:40.630Z"
   },
   {
    "duration": 14,
    "start_time": "2022-04-24T12:02:11.034Z"
   },
   {
    "duration": 128,
    "start_time": "2022-04-24T12:02:14.414Z"
   },
   {
    "duration": 9,
    "start_time": "2022-04-24T12:04:45.146Z"
   },
   {
    "duration": 3,
    "start_time": "2022-04-24T12:04:45.688Z"
   },
   {
    "duration": 4,
    "start_time": "2022-04-24T12:04:46.171Z"
   },
   {
    "duration": 10,
    "start_time": "2022-04-24T12:04:53.371Z"
   },
   {
    "duration": 59,
    "start_time": "2022-04-24T12:05:03.420Z"
   },
   {
    "duration": 63,
    "start_time": "2022-04-24T12:05:17.905Z"
   },
   {
    "duration": 61,
    "start_time": "2022-04-24T12:05:44.884Z"
   },
   {
    "duration": 132,
    "start_time": "2022-04-24T12:06:34.324Z"
   },
   {
    "duration": 128,
    "start_time": "2022-04-24T12:07:07.963Z"
   },
   {
    "duration": 125,
    "start_time": "2022-04-24T12:07:18.763Z"
   },
   {
    "duration": 136,
    "start_time": "2022-04-24T12:13:37.298Z"
   },
   {
    "duration": 386,
    "start_time": "2022-04-24T12:13:46.634Z"
   },
   {
    "duration": 5,
    "start_time": "2022-04-24T12:13:59.298Z"
   },
   {
    "duration": 375,
    "start_time": "2022-04-24T12:14:14.261Z"
   },
   {
    "duration": 9,
    "start_time": "2022-04-24T12:14:46.951Z"
   },
   {
    "duration": 3,
    "start_time": "2022-04-24T12:15:06.985Z"
   },
   {
    "duration": 8,
    "start_time": "2022-04-24T12:15:34.729Z"
   },
   {
    "duration": 23,
    "start_time": "2022-04-24T12:15:42.041Z"
   },
   {
    "duration": 6,
    "start_time": "2022-04-24T12:15:48.845Z"
   },
   {
    "duration": 4,
    "start_time": "2022-04-24T12:16:38.827Z"
   },
   {
    "duration": 3,
    "start_time": "2022-04-24T12:16:46.290Z"
   },
   {
    "duration": 7,
    "start_time": "2022-04-24T12:16:54.005Z"
   },
   {
    "duration": 7,
    "start_time": "2022-04-24T12:17:01.388Z"
   },
   {
    "duration": 14,
    "start_time": "2022-04-24T12:17:36.423Z"
   },
   {
    "duration": 3,
    "start_time": "2022-04-24T12:18:09.224Z"
   },
   {
    "duration": 249,
    "start_time": "2022-04-24T12:18:09.229Z"
   },
   {
    "duration": 9,
    "start_time": "2022-04-24T12:19:21.840Z"
   },
   {
    "duration": 10,
    "start_time": "2022-04-24T12:19:28.726Z"
   },
   {
    "duration": 48,
    "start_time": "2022-04-24T12:19:50.022Z"
   },
   {
    "duration": 7,
    "start_time": "2022-04-24T12:20:40.279Z"
   },
   {
    "duration": 7,
    "start_time": "2022-04-24T12:21:00.691Z"
   },
   {
    "duration": 10,
    "start_time": "2022-04-24T12:21:07.032Z"
   },
   {
    "duration": 12,
    "start_time": "2022-04-24T12:21:14.406Z"
   },
   {
    "duration": 56,
    "start_time": "2022-04-24T12:21:24.768Z"
   },
   {
    "duration": 58,
    "start_time": "2022-04-24T12:21:44.362Z"
   },
   {
    "duration": 3,
    "start_time": "2022-04-24T12:22:21.864Z"
   },
   {
    "duration": 1006,
    "start_time": "2022-04-24T12:22:34.745Z"
   },
   {
    "duration": 12,
    "start_time": "2022-04-24T12:22:52.863Z"
   },
   {
    "duration": 3,
    "start_time": "2022-04-24T12:23:12.657Z"
   },
   {
    "duration": 1026,
    "start_time": "2022-04-24T12:23:20.587Z"
   },
   {
    "duration": 8,
    "start_time": "2022-04-24T12:24:04.989Z"
   },
   {
    "duration": 2,
    "start_time": "2022-04-24T12:24:22.595Z"
   },
   {
    "duration": 4,
    "start_time": "2022-04-24T12:24:44.730Z"
   },
   {
    "duration": 83,
    "start_time": "2022-04-24T12:24:53.290Z"
   },
   {
    "duration": 3,
    "start_time": "2022-04-24T12:25:36.192Z"
   },
   {
    "duration": 3,
    "start_time": "2022-04-24T12:25:44.139Z"
   },
   {
    "duration": 3,
    "start_time": "2022-04-24T12:26:13.546Z"
   },
   {
    "duration": 7,
    "start_time": "2022-04-24T12:26:19.713Z"
   },
   {
    "duration": 9,
    "start_time": "2022-04-24T12:26:24.997Z"
   },
   {
    "duration": 80,
    "start_time": "2022-04-24T12:27:31.727Z"
   },
   {
    "duration": 77,
    "start_time": "2022-04-24T12:27:47.897Z"
   },
   {
    "duration": 79,
    "start_time": "2022-04-24T12:27:54.416Z"
   },
   {
    "duration": 620,
    "start_time": "2022-04-24T12:28:22.670Z"
   },
   {
    "duration": 7241,
    "start_time": "2022-04-24T13:15:37.310Z"
   },
   {
    "duration": 33491,
    "start_time": "2022-04-24T13:15:44.553Z"
   },
   {
    "duration": 1231,
    "start_time": "2022-04-24T13:16:18.046Z"
   },
   {
    "duration": 26,
    "start_time": "2022-04-24T13:16:19.279Z"
   },
   {
    "duration": 3,
    "start_time": "2022-04-24T13:16:19.307Z"
   },
   {
    "duration": 8,
    "start_time": "2022-04-24T13:16:19.312Z"
   },
   {
    "duration": 46,
    "start_time": "2022-04-24T13:16:19.321Z"
   },
   {
    "duration": 10,
    "start_time": "2022-04-24T13:16:19.369Z"
   },
   {
    "duration": 28,
    "start_time": "2022-04-24T13:16:19.380Z"
   },
   {
    "duration": 8,
    "start_time": "2022-04-24T13:16:19.410Z"
   },
   {
    "duration": 26,
    "start_time": "2022-04-24T13:16:19.420Z"
   },
   {
    "duration": 588,
    "start_time": "2022-04-24T13:16:19.449Z"
   },
   {
    "duration": 59,
    "start_time": "2022-04-24T13:16:20.039Z"
   },
   {
    "duration": 10,
    "start_time": "2022-04-24T13:16:20.101Z"
   },
   {
    "duration": 423,
    "start_time": "2022-04-24T13:16:20.113Z"
   },
   {
    "duration": 14,
    "start_time": "2022-04-24T13:16:20.538Z"
   },
   {
    "duration": 14,
    "start_time": "2022-04-24T13:16:20.554Z"
   },
   {
    "duration": 45,
    "start_time": "2022-04-24T13:16:20.569Z"
   },
   {
    "duration": 238,
    "start_time": "2022-04-24T13:16:20.615Z"
   },
   {
    "duration": 9,
    "start_time": "2022-04-24T13:16:20.854Z"
   },
   {
    "duration": 5,
    "start_time": "2022-04-24T13:16:20.864Z"
   },
   {
    "duration": 7,
    "start_time": "2022-04-24T13:16:20.871Z"
   },
   {
    "duration": 32,
    "start_time": "2022-04-24T13:16:20.879Z"
   },
   {
    "duration": 65,
    "start_time": "2022-04-24T13:16:20.913Z"
   },
   {
    "duration": 457,
    "start_time": "2022-04-24T13:16:20.979Z"
   },
   {
    "duration": 9,
    "start_time": "2022-04-24T13:16:21.437Z"
   },
   {
    "duration": 2,
    "start_time": "2022-04-24T13:16:21.448Z"
   },
   {
    "duration": 10,
    "start_time": "2022-04-24T13:16:21.452Z"
   },
   {
    "duration": 56,
    "start_time": "2022-04-24T13:16:21.464Z"
   },
   {
    "duration": 8,
    "start_time": "2022-04-24T13:16:21.521Z"
   },
   {
    "duration": 5,
    "start_time": "2022-04-24T13:16:21.530Z"
   },
   {
    "duration": 4,
    "start_time": "2022-04-24T13:16:21.537Z"
   },
   {
    "duration": 8,
    "start_time": "2022-04-24T13:16:21.543Z"
   },
   {
    "duration": 9,
    "start_time": "2022-04-24T13:16:21.553Z"
   },
   {
    "duration": 51,
    "start_time": "2022-04-24T13:16:21.564Z"
   },
   {
    "duration": 3,
    "start_time": "2022-04-24T13:16:21.617Z"
   },
   {
    "duration": 307,
    "start_time": "2022-04-24T13:16:21.622Z"
   },
   {
    "duration": 9,
    "start_time": "2022-04-24T13:16:21.931Z"
   },
   {
    "duration": 10,
    "start_time": "2022-04-24T13:16:21.942Z"
   },
   {
    "duration": 59,
    "start_time": "2022-04-24T13:16:21.953Z"
   },
   {
    "duration": 8,
    "start_time": "2022-04-24T13:16:22.016Z"
   },
   {
    "duration": 7,
    "start_time": "2022-04-24T13:16:22.026Z"
   },
   {
    "duration": 10,
    "start_time": "2022-04-24T13:16:22.034Z"
   },
   {
    "duration": 94,
    "start_time": "2022-04-24T13:16:22.046Z"
   },
   {
    "duration": 4,
    "start_time": "2022-04-24T13:16:22.141Z"
   },
   {
    "duration": 1114,
    "start_time": "2022-04-24T13:16:22.147Z"
   },
   {
    "duration": 13,
    "start_time": "2022-04-24T13:16:23.263Z"
   },
   {
    "duration": 4,
    "start_time": "2022-04-24T13:16:23.277Z"
   },
   {
    "duration": 1128,
    "start_time": "2022-04-24T13:16:23.283Z"
   },
   {
    "duration": 9,
    "start_time": "2022-04-24T13:16:24.413Z"
   },
   {
    "duration": 3,
    "start_time": "2022-04-24T13:16:24.424Z"
   },
   {
    "duration": 4,
    "start_time": "2022-04-24T13:16:24.428Z"
   },
   {
    "duration": 103,
    "start_time": "2022-04-24T13:16:24.433Z"
   },
   {
    "duration": 5,
    "start_time": "2022-04-24T13:16:24.537Z"
   },
   {
    "duration": 5,
    "start_time": "2022-04-24T13:16:24.543Z"
   },
   {
    "duration": 221,
    "start_time": "2022-04-24T13:16:24.551Z"
   },
   {
    "duration": 123,
    "start_time": "2022-04-24T13:16:24.774Z"
   },
   {
    "duration": 11,
    "start_time": "2022-04-24T13:16:24.899Z"
   },
   {
    "duration": 90,
    "start_time": "2022-04-24T13:16:24.912Z"
   },
   {
    "duration": 632,
    "start_time": "2022-04-24T13:16:25.007Z"
   },
   {
    "duration": 10689,
    "start_time": "2022-04-26T08:13:35.690Z"
   }
  ],
  "colab": {
   "collapsed_sections": [],
   "name": "7_Data Storytelling.ipynb",
   "provenance": []
  },
  "kernelspec": {
   "display_name": "Python 3 (ipykernel)",
   "language": "python",
   "name": "python3"
  },
  "language_info": {
   "codemirror_mode": {
    "name": "ipython",
    "version": 3
   },
   "file_extension": ".py",
   "mimetype": "text/x-python",
   "name": "python",
   "nbconvert_exporter": "python",
   "pygments_lexer": "ipython3",
   "version": "3.9.7"
  },
  "toc": {
   "base_numbering": 1,
   "nav_menu": {},
   "number_sections": true,
   "sideBar": true,
   "skip_h1_title": true,
   "title_cell": "Table of Contents",
   "title_sidebar": "Contents",
   "toc_cell": false,
   "toc_position": {},
   "toc_section_display": true,
   "toc_window_display": false
  }
 },
 "nbformat": 4,
 "nbformat_minor": 4
}
